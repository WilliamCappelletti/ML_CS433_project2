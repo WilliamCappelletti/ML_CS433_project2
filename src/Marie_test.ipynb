{
 "cells": [
  {
   "cell_type": "code",
   "execution_count": 62,
   "metadata": {},
   "outputs": [
    {
     "name": "stdout",
     "output_type": "stream",
     "text": [
      "The autoreload extension is already loaded. To reload it, use:\n",
      "  %reload_ext autoreload\n"
     ]
    }
   ],
   "source": [
    "import numpy as np\n",
    "import pandas as pd\n",
    "import os\n",
    "import random\n",
    "import matplotlib.pyplot as plt\n",
    "from sklearn.linear_model import LinearRegression\n",
    "from sklearn.model_selection import train_test_split\n",
    "from sklearn import datasets\n",
    "from sklearn import svm\n",
    "import seaborn as sns\n",
    "\n",
    "import statsmodels.api as sm\n",
    "sns.set()\n",
    "\n",
    "\n",
    "from charles import *\n",
    "from marie import *\n",
    "\n",
    "%load_ext autoreload\n",
    "%autoreload 2"
   ]
  },
  {
   "cell_type": "code",
   "execution_count": 7,
   "metadata": {},
   "outputs": [],
   "source": [
    "# define data path\n",
    "FILE = \"../Data/result_full_factorial_pgm.csv\""
   ]
  },
  {
   "cell_type": "code",
   "execution_count": 8,
   "metadata": {},
   "outputs": [],
   "source": [
    "data = Data_prep_replication(FILE)"
   ]
  },
  {
   "cell_type": "code",
   "execution_count": 9,
   "metadata": {
    "scrolled": true
   },
   "outputs": [
    {
     "data": {
      "text/html": [
       "<div>\n",
       "<style scoped>\n",
       "    .dataframe tbody tr th:only-of-type {\n",
       "        vertical-align: middle;\n",
       "    }\n",
       "\n",
       "    .dataframe tbody tr th {\n",
       "        vertical-align: top;\n",
       "    }\n",
       "\n",
       "    .dataframe thead th {\n",
       "        text-align: right;\n",
       "    }\n",
       "</style>\n",
       "<table border=\"1\" class=\"dataframe\">\n",
       "  <thead>\n",
       "    <tr style=\"text-align: right;\">\n",
       "      <th></th>\n",
       "      <th>mu_mass</th>\n",
       "      <th>sigma_mass</th>\n",
       "      <th>volume_fraction</th>\n",
       "      <th>log_k1_bwd</th>\n",
       "      <th>log_k1_fwd</th>\n",
       "      <th>log_k2_bwd</th>\n",
       "      <th>log_k2_fwd</th>\n",
       "      <th>E</th>\n",
       "      <th>ES</th>\n",
       "      <th>P</th>\n",
       "      <th>S</th>\n",
       "    </tr>\n",
       "  </thead>\n",
       "  <tbody>\n",
       "    <tr>\n",
       "      <th>0</th>\n",
       "      <td>12.1</td>\n",
       "      <td>0.000</td>\n",
       "      <td>0.2</td>\n",
       "      <td>-0.797811</td>\n",
       "      <td>0.544076</td>\n",
       "      <td>0.771982</td>\n",
       "      <td>-0.797766</td>\n",
       "      <td>-1.609438</td>\n",
       "      <td>0.587787</td>\n",
       "      <td>0.693147</td>\n",
       "      <td>0.000000</td>\n",
       "    </tr>\n",
       "    <tr>\n",
       "      <th>1</th>\n",
       "      <td>12.1</td>\n",
       "      <td>0.000</td>\n",
       "      <td>0.2</td>\n",
       "      <td>-0.800400</td>\n",
       "      <td>0.626613</td>\n",
       "      <td>0.635353</td>\n",
       "      <td>-0.800586</td>\n",
       "      <td>0.587787</td>\n",
       "      <td>-1.609438</td>\n",
       "      <td>1.098612</td>\n",
       "      <td>1.609438</td>\n",
       "    </tr>\n",
       "    <tr>\n",
       "      <th>2</th>\n",
       "      <td>31.9</td>\n",
       "      <td>0.825</td>\n",
       "      <td>0.2</td>\n",
       "      <td>-0.269640</td>\n",
       "      <td>0.543303</td>\n",
       "      <td>0.693050</td>\n",
       "      <td>-0.269677</td>\n",
       "      <td>0.336472</td>\n",
       "      <td>-0.510826</td>\n",
       "      <td>-1.098614</td>\n",
       "      <td>-0.693147</td>\n",
       "    </tr>\n",
       "    <tr>\n",
       "      <th>3</th>\n",
       "      <td>12.1</td>\n",
       "      <td>0.000</td>\n",
       "      <td>0.4</td>\n",
       "      <td>-2.757806</td>\n",
       "      <td>1.156547</td>\n",
       "      <td>1.170697</td>\n",
       "      <td>-2.757749</td>\n",
       "      <td>0.470004</td>\n",
       "      <td>-0.916291</td>\n",
       "      <td>1.386294</td>\n",
       "      <td>-1.386294</td>\n",
       "    </tr>\n",
       "    <tr>\n",
       "      <th>4</th>\n",
       "      <td>12.1</td>\n",
       "      <td>0.000</td>\n",
       "      <td>0.2</td>\n",
       "      <td>-0.817350</td>\n",
       "      <td>0.612974</td>\n",
       "      <td>0.576518</td>\n",
       "      <td>-0.816897</td>\n",
       "      <td>0.587787</td>\n",
       "      <td>-1.609438</td>\n",
       "      <td>0.000000</td>\n",
       "      <td>1.098612</td>\n",
       "    </tr>\n",
       "  </tbody>\n",
       "</table>\n",
       "</div>"
      ],
      "text/plain": [
       "   mu_mass  sigma_mass  volume_fraction  log_k1_bwd  log_k1_fwd  log_k2_bwd  \\\n",
       "0     12.1       0.000              0.2   -0.797811    0.544076    0.771982   \n",
       "1     12.1       0.000              0.2   -0.800400    0.626613    0.635353   \n",
       "2     31.9       0.825              0.2   -0.269640    0.543303    0.693050   \n",
       "3     12.1       0.000              0.4   -2.757806    1.156547    1.170697   \n",
       "4     12.1       0.000              0.2   -0.817350    0.612974    0.576518   \n",
       "\n",
       "   log_k2_fwd         E        ES         P         S  \n",
       "0   -0.797766 -1.609438  0.587787  0.693147  0.000000  \n",
       "1   -0.800586  0.587787 -1.609438  1.098612  1.609438  \n",
       "2   -0.269677  0.336472 -0.510826 -1.098614 -0.693147  \n",
       "3   -2.757749  0.470004 -0.916291  1.386294 -1.386294  \n",
       "4   -0.816897  0.587787 -1.609438  0.000000  1.098612  "
      ]
     },
     "execution_count": 9,
     "metadata": {},
     "output_type": "execute_result"
    }
   ],
   "source": [
    "data.head()"
   ]
  },
  {
   "cell_type": "markdown",
   "metadata": {},
   "source": [
    "### Plot figure 2 of supplementary material"
   ]
  },
  {
   "cell_type": "code",
   "execution_count": 54,
   "metadata": {},
   "outputs": [],
   "source": [
    "# get the required data of the rate constants and the concentrations\n",
    "data_k_conc =  data_prep_fig2_supp(FILE)"
   ]
  },
  {
   "cell_type": "code",
   "execution_count": 66,
   "metadata": {
    "scrolled": false
   },
   "outputs": [
    {
     "data": {
      "text/plain": [
       "()"
      ]
     },
     "execution_count": 66,
     "metadata": {},
     "output_type": "execute_result"
    },
    {
     "data": {
      "image/png": "[encoded data removed]",
      "text/plain": [
       "<matplotlib.figure.Figure at 0x1c11ec1390>"
      ]
     },
     "metadata": {},
     "output_type": "display_data"
    }
   ],
   "source": [
    "# plot 1 subfigure with the desired rate constant and concentration\n",
    "plot_fig2_supp(data_k_conc, 'k1_bwd_relative', 'k1_bwd/k1_bwd_0', 'E', '[E] [uM]')"
   ]
  },
  {
   "cell_type": "code",
   "execution_count": 68,
   "metadata": {},
   "outputs": [
    {
     "data": {
      "text/plain": [
       "()"
      ]
     },
     "execution_count": 68,
     "metadata": {},
     "output_type": "execute_result"
    },
    {
     "data": {
      "image/png": "[encoded data removed]",
      "text/plain": [
       "<matplotlib.figure.Figure at 0x1c1225d470>"
      ]
     },
     "metadata": {},
     "output_type": "display_data"
    }
   ],
   "source": [
    "# other trial with y2 and P \n",
    "regression_scatterplot(data_k_conc, 'k1_fwd_relative', 'k1_fwd/k1_fwd_0', 'P', '[P] [uM]')"
   ]
  },
  {
   "cell_type": "code",
   "execution_count": null,
   "metadata": {},
   "outputs": [],
   "source": [
    "plt.scatter(data['log_k1_bwd'], data['E'])\n",
    "plt.show() "
   ]
  },
  {
   "cell_type": "code",
   "execution_count": null,
   "metadata": {},
   "outputs": [],
   "source": []
  },
  {
   "cell_type": "code",
   "execution_count": null,
   "metadata": {},
   "outputs": [],
   "source": []
  },
  {
   "cell_type": "code",
   "execution_count": null,
   "metadata": {},
   "outputs": [],
   "source": []
  },
  {
   "cell_type": "code",
   "execution_count": null,
   "metadata": {},
   "outputs": [],
   "source": []
  },
  {
   "cell_type": "code",
   "execution_count": null,
   "metadata": {},
   "outputs": [],
   "source": []
  },
  {
   "cell_type": "code",
   "execution_count": null,
   "metadata": {},
   "outputs": [],
   "source": []
  },
  {
   "cell_type": "code",
   "execution_count": null,
   "metadata": {},
   "outputs": [],
   "source": []
  },
  {
   "cell_type": "code",
   "execution_count": null,
   "metadata": {},
   "outputs": [],
   "source": []
  },
  {
   "cell_type": "code",
   "execution_count": null,
   "metadata": {},
   "outputs": [],
   "source": []
  },
  {
   "cell_type": "markdown",
   "metadata": {},
   "source": [
    "#  <span style=\"color:red\"> *Garbage, don't look* </span>."
   ]
  },
  {
   "cell_type": "markdown",
   "metadata": {},
   "source": [
    "Linear regression to estimate $\\beta$ and $\\alpha_j$ in the following model:\n",
    "\n",
    "\\begin{equation*}\n",
    "log(\\frac{k_j}{k_{j,0}}) = \\beta_j + \\alpha_{E,j}log(\\frac{[E]}{[E]_0}) + \\alpha_{ES,j}log(\\frac{[ES]}{[ES]_0})  + \\alpha_{P,j}log(\\frac{[P]}{[P]_0})  + \\alpha_{S,j}log(\\frac{[S]}{[S]_0}) \n",
    "\\end{equation*}\n",
    "\n",
    "where $j\\in$ [1_bwd, 1_fwd, 2_bwd, 2_fwd],\n",
    "\n",
    "$k$ is the effective rate constant, and $k_0$ is the relative rate constant\n",
    "\n",
    "The given concentration is (??) $[X]/[X]_0$"
   ]
  },
  {
   "cell_type": "markdown",
   "metadata": {},
   "source": [
    "### Check out this\n",
    "\n",
    "As shown in supplementary figure (2) there variable variance of the data with respect to the concentration regimes. Thus ordinary least squares (OLS) fitting cannot be applied as the data exhibits heteroscedasticity. We show that we obtain normally distributed residuals by weighting\n",
    "the data points by the inverse of the conditional standard deviation √𝑉(𝑅|𝑋), where 𝑋 is the n- dimensional input variable of the regression model and 𝑅 are the residuals of the OLS output variable. In supplementary figure (3) it can be clearly seen that the weighted residuals resemble a normal distribution."
   ]
  },
  {
   "cell_type": "markdown",
   "metadata": {},
   "source": [
    "Let's simplify the notation and create a dataframe with new column names and log transformed data\n",
    "\n",
    "\\begin{equation}\n",
    "y_j = \\beta_j + \\alpha_{E,j} E_{log} + \\alpha_{ES,j} ES_{log} + \\alpha_{P,j} P_{log} + \\alpha_{S,j} S_{log}\n",
    "\\end{equation}\n",
    "\n",
    "normalization not taken into account for now"
   ]
  },
  {
   "cell_type": "code",
   "execution_count": 7,
   "metadata": {},
   "outputs": [
    {
     "data": {
      "text/html": [
       "<div>\n",
       "<style scoped>\n",
       "    .dataframe tbody tr th:only-of-type {\n",
       "        vertical-align: middle;\n",
       "    }\n",
       "\n",
       "    .dataframe tbody tr th {\n",
       "        vertical-align: top;\n",
       "    }\n",
       "\n",
       "    .dataframe thead th {\n",
       "        text-align: right;\n",
       "    }\n",
       "</style>\n",
       "<table border=\"1\" class=\"dataframe\">\n",
       "  <thead>\n",
       "    <tr style=\"text-align: right;\">\n",
       "      <th></th>\n",
       "      <th>mu_mass</th>\n",
       "      <th>realization</th>\n",
       "      <th>sigma_mass</th>\n",
       "      <th>volume_fraction</th>\n",
       "      <th>y1_bwd</th>\n",
       "      <th>y1_fwd</th>\n",
       "      <th>y2_bwd</th>\n",
       "      <th>y2_fwd</th>\n",
       "      <th>E</th>\n",
       "      <th>ES</th>\n",
       "      <th>P</th>\n",
       "      <th>S</th>\n",
       "    </tr>\n",
       "  </thead>\n",
       "  <tbody>\n",
       "    <tr>\n",
       "      <th>0</th>\n",
       "      <td>12.1</td>\n",
       "      <td>2.0</td>\n",
       "      <td>0.000</td>\n",
       "      <td>0.2</td>\n",
       "      <td>2.302585</td>\n",
       "      <td>11.934139</td>\n",
       "      <td>12.706535</td>\n",
       "      <td>3.091042</td>\n",
       "      <td>-11.959213</td>\n",
       "      <td>-9.761988</td>\n",
       "      <td>-9.230543</td>\n",
       "      <td>-9.923690</td>\n",
       "    </tr>\n",
       "    <tr>\n",
       "      <th>1</th>\n",
       "      <td>12.1</td>\n",
       "      <td>3.0</td>\n",
       "      <td>0.000</td>\n",
       "      <td>0.2</td>\n",
       "      <td>2.302585</td>\n",
       "      <td>11.934139</td>\n",
       "      <td>12.706535</td>\n",
       "      <td>3.091042</td>\n",
       "      <td>-9.761988</td>\n",
       "      <td>-11.959213</td>\n",
       "      <td>-8.825078</td>\n",
       "      <td>-8.314252</td>\n",
       "    </tr>\n",
       "    <tr>\n",
       "      <th>2</th>\n",
       "      <td>31.9</td>\n",
       "      <td>5.0</td>\n",
       "      <td>0.825</td>\n",
       "      <td>0.2</td>\n",
       "      <td>2.302585</td>\n",
       "      <td>11.934139</td>\n",
       "      <td>12.706535</td>\n",
       "      <td>3.091042</td>\n",
       "      <td>-10.013302</td>\n",
       "      <td>-10.860600</td>\n",
       "      <td>-11.022305</td>\n",
       "      <td>-10.616837</td>\n",
       "    </tr>\n",
       "    <tr>\n",
       "      <th>3</th>\n",
       "      <td>12.1</td>\n",
       "      <td>8.0</td>\n",
       "      <td>0.000</td>\n",
       "      <td>0.4</td>\n",
       "      <td>2.302585</td>\n",
       "      <td>11.934139</td>\n",
       "      <td>12.706535</td>\n",
       "      <td>3.091042</td>\n",
       "      <td>-9.879771</td>\n",
       "      <td>-11.266065</td>\n",
       "      <td>-8.537396</td>\n",
       "      <td>-11.309985</td>\n",
       "    </tr>\n",
       "    <tr>\n",
       "      <th>4</th>\n",
       "      <td>12.1</td>\n",
       "      <td>4.0</td>\n",
       "      <td>0.000</td>\n",
       "      <td>0.2</td>\n",
       "      <td>2.302585</td>\n",
       "      <td>11.934139</td>\n",
       "      <td>12.706535</td>\n",
       "      <td>3.091042</td>\n",
       "      <td>-9.761988</td>\n",
       "      <td>-11.959213</td>\n",
       "      <td>-9.923690</td>\n",
       "      <td>-8.825078</td>\n",
       "    </tr>\n",
       "  </tbody>\n",
       "</table>\n",
       "</div>"
      ],
      "text/plain": [
       "   mu_mass  realization  sigma_mass  volume_fraction    y1_bwd     y1_fwd  \\\n",
       "0     12.1          2.0       0.000              0.2  2.302585  11.934139   \n",
       "1     12.1          3.0       0.000              0.2  2.302585  11.934139   \n",
       "2     31.9          5.0       0.825              0.2  2.302585  11.934139   \n",
       "3     12.1          8.0       0.000              0.4  2.302585  11.934139   \n",
       "4     12.1          4.0       0.000              0.2  2.302585  11.934139   \n",
       "\n",
       "      y2_bwd    y2_fwd          E         ES          P          S  \n",
       "0  12.706535  3.091042 -11.959213  -9.761988  -9.230543  -9.923690  \n",
       "1  12.706535  3.091042  -9.761988 -11.959213  -8.825078  -8.314252  \n",
       "2  12.706535  3.091042 -10.013302 -10.860600 -11.022305 -10.616837  \n",
       "3  12.706535  3.091042  -9.879771 -11.266065  -8.537396 -11.309985  \n",
       "4  12.706535  3.091042  -9.761988 -11.959213  -9.923690  -8.825078  "
      ]
     },
     "execution_count": 7,
     "metadata": {},
     "output_type": "execute_result"
    }
   ],
   "source": [
    "# create transformed dataframe\n",
    "data_trans = data.copy()\n",
    "data_trans['y1_bwd'] = np.log(data_trans['k1_bwd_effective']/data_trans['k1_bwd_relative'])\n",
    "data_trans['y1_fwd'] = np.log(data_trans['k1_fwd_effective']/data_trans['k1_fwd_relative'])\n",
    "data_trans['y2_bwd'] = np.log(data_trans['k2_bwd_effective']/data_trans['k2_bwd_relative'])\n",
    "data_trans['y2_fwd'] = np.log(data_trans['k2_fwd_effective']/data_trans['k2_fwd_relative'])\n",
    "data_trans['E'] = np.log(data_trans['enzyme_concentration'])\n",
    "data_trans['ES'] = np.log(data_trans['enzyme_complex_concentration'])\n",
    "data_trans['P'] = np.log(data_trans['product_concentration'])\n",
    "data_trans['S'] = np.log(data_trans['substrate_concentration'])\n",
    "data_trans.drop(['k1_bwd_effective','k1_bwd_relative', 'k1_fwd_effective',\n",
    "                'k1_fwd_relative', 'k2_bwd_effective', 'k2_bwd_relative',\n",
    "                'k2_fwd_effective', 'k2_fwd_relative', 'enzyme_concentration',\n",
    "                'enzyme_complex_concentration', 'product_concentration',\n",
    "                'substrate_concentration'], axis=1, inplace=True)\n",
    "data_trans.head()"
   ]
  },
  {
   "cell_type": "code",
   "execution_count": 18,
   "metadata": {},
   "outputs": [
    {
     "name": "stdout",
     "output_type": "stream",
     "text": [
      "(7290, 12)\n"
     ]
    },
    {
     "data": {
      "text/html": [
       "<div>\n",
       "<style scoped>\n",
       "    .dataframe tbody tr th:only-of-type {\n",
       "        vertical-align: middle;\n",
       "    }\n",
       "\n",
       "    .dataframe tbody tr th {\n",
       "        vertical-align: top;\n",
       "    }\n",
       "\n",
       "    .dataframe thead th {\n",
       "        text-align: right;\n",
       "    }\n",
       "</style>\n",
       "<table border=\"1\" class=\"dataframe\">\n",
       "  <thead>\n",
       "    <tr style=\"text-align: right;\">\n",
       "      <th></th>\n",
       "      <th>mu_mass</th>\n",
       "      <th>realization</th>\n",
       "      <th>sigma_mass</th>\n",
       "      <th>volume_fraction</th>\n",
       "      <th>y1_bwd</th>\n",
       "      <th>y1_fwd</th>\n",
       "      <th>y2_bwd</th>\n",
       "      <th>y2_fwd</th>\n",
       "      <th>E</th>\n",
       "      <th>ES</th>\n",
       "      <th>P</th>\n",
       "      <th>S</th>\n",
       "    </tr>\n",
       "  </thead>\n",
       "  <tbody>\n",
       "    <tr>\n",
       "      <th>10</th>\n",
       "      <td>31.9</td>\n",
       "      <td>0.0</td>\n",
       "      <td>0.825</td>\n",
       "      <td>0.0</td>\n",
       "      <td>2.302585</td>\n",
       "      <td>11.934139</td>\n",
       "      <td>12.706535</td>\n",
       "      <td>3.091042</td>\n",
       "      <td>-10.860600</td>\n",
       "      <td>-10.013302</td>\n",
       "      <td>-9.230543</td>\n",
       "      <td>-8.314252</td>\n",
       "    </tr>\n",
       "    <tr>\n",
       "      <th>19</th>\n",
       "      <td>31.9</td>\n",
       "      <td>3.0</td>\n",
       "      <td>0.825</td>\n",
       "      <td>0.0</td>\n",
       "      <td>2.302585</td>\n",
       "      <td>11.934139</td>\n",
       "      <td>12.706535</td>\n",
       "      <td>3.091042</td>\n",
       "      <td>-10.013302</td>\n",
       "      <td>-10.860600</td>\n",
       "      <td>-9.230543</td>\n",
       "      <td>-11.022305</td>\n",
       "    </tr>\n",
       "    <tr>\n",
       "      <th>41</th>\n",
       "      <td>31.9</td>\n",
       "      <td>2.0</td>\n",
       "      <td>0.825</td>\n",
       "      <td>0.0</td>\n",
       "      <td>2.302585</td>\n",
       "      <td>11.934139</td>\n",
       "      <td>12.706535</td>\n",
       "      <td>3.091042</td>\n",
       "      <td>-9.761988</td>\n",
       "      <td>-11.959213</td>\n",
       "      <td>-11.309985</td>\n",
       "      <td>-8.314252</td>\n",
       "    </tr>\n",
       "    <tr>\n",
       "      <th>44</th>\n",
       "      <td>31.9</td>\n",
       "      <td>2.0</td>\n",
       "      <td>0.825</td>\n",
       "      <td>0.0</td>\n",
       "      <td>2.302585</td>\n",
       "      <td>11.934139</td>\n",
       "      <td>12.706535</td>\n",
       "      <td>3.091042</td>\n",
       "      <td>-9.761988</td>\n",
       "      <td>-11.959213</td>\n",
       "      <td>-10.616837</td>\n",
       "      <td>-8.825078</td>\n",
       "    </tr>\n",
       "    <tr>\n",
       "      <th>104</th>\n",
       "      <td>31.9</td>\n",
       "      <td>9.0</td>\n",
       "      <td>0.825</td>\n",
       "      <td>0.0</td>\n",
       "      <td>2.302585</td>\n",
       "      <td>11.934139</td>\n",
       "      <td>12.706535</td>\n",
       "      <td>3.091042</td>\n",
       "      <td>-9.761988</td>\n",
       "      <td>-11.959213</td>\n",
       "      <td>-11.022305</td>\n",
       "      <td>-10.616837</td>\n",
       "    </tr>\n",
       "  </tbody>\n",
       "</table>\n",
       "</div>"
      ],
      "text/plain": [
       "     mu_mass  realization  sigma_mass  volume_fraction    y1_bwd     y1_fwd  \\\n",
       "10      31.9          0.0       0.825              0.0  2.302585  11.934139   \n",
       "19      31.9          3.0       0.825              0.0  2.302585  11.934139   \n",
       "41      31.9          2.0       0.825              0.0  2.302585  11.934139   \n",
       "44      31.9          2.0       0.825              0.0  2.302585  11.934139   \n",
       "104     31.9          9.0       0.825              0.0  2.302585  11.934139   \n",
       "\n",
       "        y2_bwd    y2_fwd          E         ES          P          S  \n",
       "10   12.706535  3.091042 -10.860600 -10.013302  -9.230543  -8.314252  \n",
       "19   12.706535  3.091042 -10.013302 -10.860600  -9.230543 -11.022305  \n",
       "41   12.706535  3.091042  -9.761988 -11.959213 -11.309985  -8.314252  \n",
       "44   12.706535  3.091042  -9.761988 -11.959213 -10.616837  -8.825078  \n",
       "104  12.706535  3.091042  -9.761988 -11.959213 -11.022305 -10.616837  "
      ]
     },
     "execution_count": 18,
     "metadata": {},
     "output_type": "execute_result"
    }
   ],
   "source": [
    "# Test for mu_mass = 31.9, sigma_mass = 0.825, volume_fraction = 0\n",
    "data_test = data_trans[(data_trans.mu_mass == 31.9) & (data_trans.sigma_mass == 0.825) & (data_trans.volume_fraction == 0)]\n",
    "print(data_test.shape)\n",
    "data_test.head()"
   ]
  },
  {
   "cell_type": "code",
   "execution_count": 26,
   "metadata": {},
   "outputs": [
    {
     "data": {
      "text/plain": [
       "array([5.77315973e-15, 6.21724894e-15, 5.32907052e-15])"
      ]
     },
     "execution_count": 26,
     "metadata": {},
     "output_type": "execute_result"
    }
   ],
   "source": [
    "(data_test.y1_bwd - 2.30258509299404).unique()"
   ]
  },
  {
   "cell_type": "code",
   "execution_count": 20,
   "metadata": {},
   "outputs": [],
   "source": [
    "# fit regression\n",
    "\n",
    "def linear_regression(X,y):\n",
    "    reg = LinearRegression()\n",
    "    reg.fit(X, y)\n",
    "    \n",
    "    # return beta and alphas\n",
    "    return (reg.intercept_, reg.coef_)\n",
    "    "
   ]
  },
  {
   "cell_type": "code",
   "execution_count": 21,
   "metadata": {},
   "outputs": [
    {
     "name": "stdout",
     "output_type": "stream",
     "text": [
      "(2.302585092994046, array([ 0.00000000e+00,  4.61584006e-18,  5.00541733e-18, -9.03340671e-19,\n",
      "       -9.95289291e-19]))\n"
     ]
    }
   ],
   "source": [
    "# prepare the data, regression for k1_bwd\n",
    "x = data_test[['E', 'ES', 'P', 'S']].values\n",
    "X = np.c_[np.ones(len(x)), x]\n",
    "y = data_test['y1_bwd']\n",
    "\n",
    "coefficients = linear_regression(X,y)\n",
    "print(coefficients)"
   ]
  },
  {
   "cell_type": "markdown",
   "metadata": {},
   "source": [
    "completely wrong, expect: -1.48e-02, 1.9e-04, 1.89e-05, -2.94e-03, -2.94e-03"
   ]
  },
  {
   "cell_type": "code",
   "execution_count": null,
   "metadata": {},
   "outputs": [],
   "source": []
  },
  {
   "cell_type": "markdown",
   "metadata": {},
   "source": [
    "### Try with normal normalization"
   ]
  },
  {
   "cell_type": "code",
   "execution_count": 22,
   "metadata": {},
   "outputs": [],
   "source": [
    "def standardize(x):\n",
    "    \"\"\"Standardize a column.\"\"\"\n",
    "    mean_x = np.mean(x)\n",
    "    x = x - mean_x\n",
    "    std_x = np.std(x)\n",
    "    if std_x != 0:\n",
    "        x = x / std_x\n",
    "    return x, mean_x, std_x\n",
    "\n",
    "def standardize_data(data):\n",
    "    '''\n",
    "    normalization of a data_set\n",
    "    '''\n",
    "    data_tr = data.copy()\n",
    "    \n",
    "    for i in range(0,data.shape[1]):\n",
    "        data_tr.iloc[:,i],mean,variance = standardize(data_tr.iloc[:,i])\n",
    "\n",
    "    return data"
   ]
  },
  {
   "cell_type": "code",
   "execution_count": 23,
   "metadata": {
    "scrolled": true
   },
   "outputs": [
    {
     "data": {
      "text/html": [
       "<div>\n",
       "<style scoped>\n",
       "    .dataframe tbody tr th:only-of-type {\n",
       "        vertical-align: middle;\n",
       "    }\n",
       "\n",
       "    .dataframe tbody tr th {\n",
       "        vertical-align: top;\n",
       "    }\n",
       "\n",
       "    .dataframe thead th {\n",
       "        text-align: right;\n",
       "    }\n",
       "</style>\n",
       "<table border=\"1\" class=\"dataframe\">\n",
       "  <thead>\n",
       "    <tr style=\"text-align: right;\">\n",
       "      <th></th>\n",
       "      <th>mu_mass</th>\n",
       "      <th>realization</th>\n",
       "      <th>sigma_mass</th>\n",
       "      <th>volume_fraction</th>\n",
       "      <th>y1_bwd</th>\n",
       "      <th>y1_fwd</th>\n",
       "      <th>y2_bwd</th>\n",
       "      <th>y2_fwd</th>\n",
       "      <th>E</th>\n",
       "      <th>ES</th>\n",
       "      <th>P</th>\n",
       "      <th>S</th>\n",
       "    </tr>\n",
       "  </thead>\n",
       "  <tbody>\n",
       "    <tr>\n",
       "      <th>10</th>\n",
       "      <td>31.9</td>\n",
       "      <td>0.0</td>\n",
       "      <td>0.825</td>\n",
       "      <td>0.0</td>\n",
       "      <td>2.302585</td>\n",
       "      <td>11.934139</td>\n",
       "      <td>12.706535</td>\n",
       "      <td>3.091042</td>\n",
       "      <td>-10.860600</td>\n",
       "      <td>-10.013302</td>\n",
       "      <td>-9.230543</td>\n",
       "      <td>-8.314252</td>\n",
       "    </tr>\n",
       "    <tr>\n",
       "      <th>19</th>\n",
       "      <td>31.9</td>\n",
       "      <td>3.0</td>\n",
       "      <td>0.825</td>\n",
       "      <td>0.0</td>\n",
       "      <td>2.302585</td>\n",
       "      <td>11.934139</td>\n",
       "      <td>12.706535</td>\n",
       "      <td>3.091042</td>\n",
       "      <td>-10.013302</td>\n",
       "      <td>-10.860600</td>\n",
       "      <td>-9.230543</td>\n",
       "      <td>-11.022305</td>\n",
       "    </tr>\n",
       "    <tr>\n",
       "      <th>41</th>\n",
       "      <td>31.9</td>\n",
       "      <td>2.0</td>\n",
       "      <td>0.825</td>\n",
       "      <td>0.0</td>\n",
       "      <td>2.302585</td>\n",
       "      <td>11.934139</td>\n",
       "      <td>12.706535</td>\n",
       "      <td>3.091042</td>\n",
       "      <td>-9.761988</td>\n",
       "      <td>-11.959213</td>\n",
       "      <td>-11.309985</td>\n",
       "      <td>-8.314252</td>\n",
       "    </tr>\n",
       "    <tr>\n",
       "      <th>44</th>\n",
       "      <td>31.9</td>\n",
       "      <td>2.0</td>\n",
       "      <td>0.825</td>\n",
       "      <td>0.0</td>\n",
       "      <td>2.302585</td>\n",
       "      <td>11.934139</td>\n",
       "      <td>12.706535</td>\n",
       "      <td>3.091042</td>\n",
       "      <td>-9.761988</td>\n",
       "      <td>-11.959213</td>\n",
       "      <td>-10.616837</td>\n",
       "      <td>-8.825078</td>\n",
       "    </tr>\n",
       "    <tr>\n",
       "      <th>104</th>\n",
       "      <td>31.9</td>\n",
       "      <td>9.0</td>\n",
       "      <td>0.825</td>\n",
       "      <td>0.0</td>\n",
       "      <td>2.302585</td>\n",
       "      <td>11.934139</td>\n",
       "      <td>12.706535</td>\n",
       "      <td>3.091042</td>\n",
       "      <td>-9.761988</td>\n",
       "      <td>-11.959213</td>\n",
       "      <td>-11.022305</td>\n",
       "      <td>-10.616837</td>\n",
       "    </tr>\n",
       "  </tbody>\n",
       "</table>\n",
       "</div>"
      ],
      "text/plain": [
       "     mu_mass  realization  sigma_mass  volume_fraction    y1_bwd     y1_fwd  \\\n",
       "10      31.9          0.0       0.825              0.0  2.302585  11.934139   \n",
       "19      31.9          3.0       0.825              0.0  2.302585  11.934139   \n",
       "41      31.9          2.0       0.825              0.0  2.302585  11.934139   \n",
       "44      31.9          2.0       0.825              0.0  2.302585  11.934139   \n",
       "104     31.9          9.0       0.825              0.0  2.302585  11.934139   \n",
       "\n",
       "        y2_bwd    y2_fwd          E         ES          P          S  \n",
       "10   12.706535  3.091042 -10.860600 -10.013302  -9.230543  -8.314252  \n",
       "19   12.706535  3.091042 -10.013302 -10.860600  -9.230543 -11.022305  \n",
       "41   12.706535  3.091042  -9.761988 -11.959213 -11.309985  -8.314252  \n",
       "44   12.706535  3.091042  -9.761988 -11.959213 -10.616837  -8.825078  \n",
       "104  12.706535  3.091042  -9.761988 -11.959213 -11.022305 -10.616837  "
      ]
     },
     "execution_count": 23,
     "metadata": {},
     "output_type": "execute_result"
    }
   ],
   "source": [
    "data_test_norm = standardize_data(data_test)\n",
    "data_test_norm.head()"
   ]
  },
  {
   "cell_type": "code",
   "execution_count": 13,
   "metadata": {},
   "outputs": [
    {
     "data": {
      "text/plain": [
       "array([ 0.        ,  2.40508464, -2.40508464])"
      ]
     },
     "execution_count": 13,
     "metadata": {},
     "output_type": "execute_result"
    }
   ],
   "source": [
    "data_test_norm.y1_bwd.unique()"
   ]
  },
  {
   "cell_type": "code",
   "execution_count": 14,
   "metadata": {},
   "outputs": [
    {
     "name": "stdout",
     "output_type": "stream",
     "text": [
      "(0.48394498741684555, array([ 0.        ,  0.02499832,  0.02710818, -0.00489228, -0.00539026]))\n"
     ]
    }
   ],
   "source": [
    "X = np.c_[np.ones(len(x)), x]\n",
    "y = data_test['y1_bwd']\n",
    "\n",
    "coefficients = linear_regression(X,y)\n",
    "print(coefficients)"
   ]
  },
  {
   "cell_type": "markdown",
   "metadata": {},
   "source": [
    "expected: -1.48e-02, 1.9e-04, 1.89e-05, -2.94e-03, -2.94e-03,\n",
    "\n",
    "It's already closer"
   ]
  },
  {
   "cell_type": "markdown",
   "metadata": {},
   "source": [
    "### Try with weird normalization\n",
    "\n",
    "inverse of the conditional standard deviation √𝑉(𝑅|𝑋), is that: S = $\\sqrt{(\\frac{SSE}{n-2})}$, calculated on the complete dataset, or only per condition? "
   ]
  },
  {
   "cell_type": "markdown",
   "metadata": {},
   "source": [
    "# note de Charles: comme la formule donne du n-2 en dénominateur, il s'agit forcément du modèle \"simple\" donc \"only per condition\" d'après ta façon de dire: on a donc pour chaque transformation logarithmique des concentrations que le point est estimé à partir des résidus d'une régression du type:\n",
    "\n",
    "\\begin{equation*}\n",
    "log(\\frac{k_j}{k_{j,0}}) = \\beta_j + \\alpha_{E,j}log(\\frac{[E]}{[E]_0})\n",
    "\\end{equation*}"
   ]
  }
 ],
 "metadata": {
  "kernelspec": {
   "display_name": "Python 3",
   "language": "python",
   "name": "python3"
  },
  "language_info": {
   "codemirror_mode": {
    "name": "ipython",
    "version": 3
   },
   "file_extension": ".py",
   "mimetype": "text/x-python",
   "name": "python",
   "nbconvert_exporter": "python",
   "pygments_lexer": "ipython3",
   "version": "3.6.4"
  }
 },
 "nbformat": 4,
 "nbformat_minor": 2
}
