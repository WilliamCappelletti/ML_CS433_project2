{
 "cells": [
  {
   "cell_type": "markdown",
   "metadata": {},
   "source": [
    "# Attention!\n",
    "The results presented in our report have been obtained with the following system specifications:"
   ]
  },
  {
   "cell_type": "markdown",
   "metadata": {},
   "source": [
    "    Python version\n",
    "    3.6.5 |Anaconda, Inc.| (default, Apr 29 2018, 16:14:56) \n",
    "    [GCC 7.2.0]\n",
    "    Version info.\n",
    "    sys.version_info(major=3, minor=6, micro=5, releaselevel='final', serial=0)"
   ]
  },
  {
   "cell_type": "markdown",
   "metadata": {},
   "source": [
    "     Seaborn version 0.9.0"
   ]
  },
  {
   "cell_type": "markdown",
   "metadata": {},
   "source": [
    "# Necessary modules"
   ]
  },
  {
   "cell_type": "markdown",
   "metadata": {},
   "source": [
    "code needed for the reproduction of the results stated in \"Crowded enzyme kinetics using simulation and machine learning\""
   ]
  },
  {
   "cell_type": "code",
   "execution_count": null,
   "metadata": {},
   "outputs": [],
   "source": [
    "import numpy as np\n",
    "import seaborn as sns\n",
    "import statsmodels.api as sm\n",
    "import matplotlib.pyplot as plt\n",
    "import pandas as pd\n",
    "\n",
    "import regressions  \n",
    "import reproduction\n",
    "import figure_generation"
   ]
  },
  {
   "cell_type": "markdown",
   "metadata": {},
   "source": [
    " "
   ]
  },
  {
   "cell_type": "markdown",
   "metadata": {},
   "source": [
    "# Reproduction"
   ]
  },
  {
   "cell_type": "markdown",
   "metadata": {},
   "source": [
    "Reproduce the model described in the original article, which is a weighted linear model (see the report for more details on the weigthing process).\n",
    "\n",
    "It outputs a .csv file containing the estimate of the coefficient and store it in `../results/reproduction.csv`"
   ]
  },
  {
   "cell_type": "code",
   "execution_count": null,
   "metadata": {},
   "outputs": [],
   "source": [
    "#load file\n",
    "file = \"../Data/result_full_factorial_pgm.csv\"\n",
    "\n",
    "#prepare the data_set\n",
    "data = reproduction.Data_prep_replication(file)\n",
    "\n",
    "#computation of the coefficients\n",
    "results = reproduction.regression_results(data)\n",
    "\n",
    "#save the results\n",
    "results.to_csv('../results/reproduction.csv')\n",
    "results.head()"
   ]
  },
  {
   "cell_type": "markdown",
   "metadata": {},
   "source": [
    "Running the following part will give you the exploratory data analysis plot (Fig. 1 in the report)\n",
    "\n",
    "This take some time as there are 16 subplots to produce"
   ]
  },
  {
   "cell_type": "code",
   "execution_count": null,
   "metadata": {},
   "outputs": [],
   "source": [
    "#path to the data file\n",
    "file = \"../Data/result_full_factorial_pgm.csv\"\n",
    "\n",
    "\n",
    "#plots and save the figure\n",
    "figure_generation.plot_fig2_plot(file, save = True) #save = False to avoid saving it again\n"
   ]
  },
  {
   "cell_type": "markdown",
   "metadata": {},
   "source": [
    " "
   ]
  },
  {
   "cell_type": "markdown",
   "metadata": {},
   "source": [
    "# New models"
   ]
  },
  {
   "cell_type": "markdown",
   "metadata": {},
   "source": [
    "Here we train the models we discuss in the report. The parameter are set by default to the optimal ones (found through cross validation) "
   ]
  },
  {
   "cell_type": "markdown",
   "metadata": {},
   "source": [
    "### Ridge regression"
   ]
  },
  {
   "cell_type": "markdown",
   "metadata": {},
   "source": [
    "The following model fits the degree-2-polynomial design"
   ]
  },
  {
   "cell_type": "code",
   "execution_count": null,
   "metadata": {},
   "outputs": [],
   "source": [
    "ridgeRegPoly2 = regressions.reproduction_ridge()\n",
    "ridgeRegPoly2.scores"
   ]
  },
  {
   "cell_type": "markdown",
   "metadata": {},
   "source": [
    "The following model fits Ridge to the interaction design"
   ]
  },
  {
   "cell_type": "code",
   "execution_count": null,
   "metadata": {
    "scrolled": true
   },
   "outputs": [],
   "source": [
    "ridgeRegInteractions = regressions.reproduction_ridge(interaction_only= True)\n",
    "ridgeRegInteractions.scores"
   ]
  },
  {
   "cell_type": "markdown",
   "metadata": {},
   "source": [
    "The following model fits Ridge to the basic design"
   ]
  },
  {
   "cell_type": "code",
   "execution_count": null,
   "metadata": {},
   "outputs": [],
   "source": [
    "ridgeRegSimple = regressions.reproduction_ridge(degree = 1)\n",
    "ridgeRegSimple.scores"
   ]
  },
  {
   "cell_type": "markdown",
   "metadata": {},
   "source": [
    "### Svr regression \n",
    "#### takes a lot of time (more or less 6 hours)"
   ]
  },
  {
   "cell_type": "markdown",
   "metadata": {},
   "source": [
    "The following model corresponds to SVR on basic design"
   ]
  },
  {
   "cell_type": "code",
   "execution_count": null,
   "metadata": {},
   "outputs": [],
   "source": [
    "svrRegSimple = regressions.reproduction_svr(interactions=False)\n",
    "svrRegSimple.scores"
   ]
  },
  {
   "cell_type": "markdown",
   "metadata": {},
   "source": [
    "The following model is the SVR fitted on the interaction (2 by 2 feature products) design"
   ]
  },
  {
   "cell_type": "code",
   "execution_count": null,
   "metadata": {},
   "outputs": [],
   "source": [
    "svrRegInteractions = regressions.reproduction_svr()\n",
    "svrRegInteractions.scores"
   ]
  },
  {
   "cell_type": "markdown",
   "metadata": {},
   "source": [
    "### Xgboost regression"
   ]
  },
  {
   "cell_type": "markdown",
   "metadata": {},
   "source": [
    "This is our best model, fitted on the reduced design (as explained in report)."
   ]
  },
  {
   "cell_type": "code",
   "execution_count": null,
   "metadata": {},
   "outputs": [],
   "source": [
    "xgboostReg = regressions.reproduction_XGBoost()"
   ]
  },
  {
   "cell_type": "code",
   "execution_count": null,
   "metadata": {},
   "outputs": [],
   "source": [
    "xgboostReg.scores "
   ]
  }
 ],
 "metadata": {
  "kernelspec": {
   "display_name": "Python 3",
   "language": "python",
   "name": "python3"
  },
  "language_info": {
   "codemirror_mode": {
    "name": "ipython",
    "version": 3
   },
   "file_extension": ".py",
   "mimetype": "text/x-python",
   "name": "python",
   "nbconvert_exporter": "python",
   "pygments_lexer": "ipython3",
   "version": "3.6.6"
  }
 },
 "nbformat": 4,
 "nbformat_minor": 2
}
