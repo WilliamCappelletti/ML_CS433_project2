{
 "cells": [
  {
   "cell_type": "code",
   "execution_count": 2,
   "metadata": {},
   "outputs": [],
   "source": [
    "%matplotlib inline\n",
    "%load_ext autoreload\n",
    "%autoreload 2"
   ]
  },
  {
   "cell_type": "code",
   "execution_count": 1,
   "metadata": {},
   "outputs": [],
   "source": [
    "import numpy as np\n",
    "import pandas as pd\n",
    "import matplotlib.pyplot as plt\n",
    "\n",
    "from sklearn.linear_model import RidgeCV, LinearRegression\n",
    "from sklearn.svm import SVR\n",
    "from sklearn.preprocessing import PolynomialFeatures\n",
    "from sklearn.model_selection import train_test_split\n",
    "from sklearn.metrics import mean_squared_error, explained_variance_score\n",
    "\n",
    "\n",
    "from general_code import *"
   ]
  },
  {
   "cell_type": "code",
   "execution_count": 3,
   "metadata": {
    "scrolled": true
   },
   "outputs": [
    {
     "data": {
      "text/html": [
       "<div>\n",
       "<style scoped>\n",
       "    .dataframe tbody tr th:only-of-type {\n",
       "        vertical-align: middle;\n",
       "    }\n",
       "\n",
       "    .dataframe tbody tr th {\n",
       "        vertical-align: top;\n",
       "    }\n",
       "\n",
       "    .dataframe thead th {\n",
       "        text-align: right;\n",
       "    }\n",
       "</style>\n",
       "<table border=\"1\" class=\"dataframe\">\n",
       "  <thead>\n",
       "    <tr style=\"text-align: right;\">\n",
       "      <th></th>\n",
       "      <th>enzyme_complex_concentration</th>\n",
       "      <th>enzyme_concentration</th>\n",
       "      <th>mu_mass</th>\n",
       "      <th>product_concentration</th>\n",
       "      <th>substrate_concentration</th>\n",
       "      <th>volume_fraction</th>\n",
       "      <th>sigma_mass_0.0</th>\n",
       "      <th>sigma_mass_0.825</th>\n",
       "    </tr>\n",
       "  </thead>\n",
       "  <tbody>\n",
       "    <tr>\n",
       "      <th>0</th>\n",
       "      <td>-9.761988</td>\n",
       "      <td>-11.959213</td>\n",
       "      <td>12.1</td>\n",
       "      <td>-9.230543</td>\n",
       "      <td>-9.923690</td>\n",
       "      <td>0.2</td>\n",
       "      <td>1</td>\n",
       "      <td>0</td>\n",
       "    </tr>\n",
       "    <tr>\n",
       "      <th>1</th>\n",
       "      <td>-11.959213</td>\n",
       "      <td>-9.761988</td>\n",
       "      <td>12.1</td>\n",
       "      <td>-8.825078</td>\n",
       "      <td>-8.314252</td>\n",
       "      <td>0.2</td>\n",
       "      <td>1</td>\n",
       "      <td>0</td>\n",
       "    </tr>\n",
       "    <tr>\n",
       "      <th>2</th>\n",
       "      <td>-10.860600</td>\n",
       "      <td>-10.013302</td>\n",
       "      <td>31.9</td>\n",
       "      <td>-11.022305</td>\n",
       "      <td>-10.616837</td>\n",
       "      <td>0.2</td>\n",
       "      <td>0</td>\n",
       "      <td>1</td>\n",
       "    </tr>\n",
       "    <tr>\n",
       "      <th>3</th>\n",
       "      <td>-11.266065</td>\n",
       "      <td>-9.879771</td>\n",
       "      <td>12.1</td>\n",
       "      <td>-8.537396</td>\n",
       "      <td>-11.309985</td>\n",
       "      <td>0.4</td>\n",
       "      <td>1</td>\n",
       "      <td>0</td>\n",
       "    </tr>\n",
       "    <tr>\n",
       "      <th>4</th>\n",
       "      <td>-11.959213</td>\n",
       "      <td>-9.761988</td>\n",
       "      <td>12.1</td>\n",
       "      <td>-9.923690</td>\n",
       "      <td>-8.825078</td>\n",
       "      <td>0.2</td>\n",
       "      <td>1</td>\n",
       "      <td>0</td>\n",
       "    </tr>\n",
       "  </tbody>\n",
       "</table>\n",
       "</div>"
      ],
      "text/plain": [
       "   enzyme_complex_concentration  enzyme_concentration  mu_mass  \\\n",
       "0                     -9.761988            -11.959213     12.1   \n",
       "1                    -11.959213             -9.761988     12.1   \n",
       "2                    -10.860600            -10.013302     31.9   \n",
       "3                    -11.266065             -9.879771     12.1   \n",
       "4                    -11.959213             -9.761988     12.1   \n",
       "\n",
       "   product_concentration  substrate_concentration  volume_fraction  \\\n",
       "0              -9.230543                -9.923690              0.2   \n",
       "1              -8.825078                -8.314252              0.2   \n",
       "2             -11.022305               -10.616837              0.2   \n",
       "3              -8.537396               -11.309985              0.4   \n",
       "4              -9.923690                -8.825078              0.2   \n",
       "\n",
       "   sigma_mass_0.0  sigma_mass_0.825  \n",
       "0               1                 0  \n",
       "1               1                 0  \n",
       "2               0                 1  \n",
       "3               1                 0  \n",
       "4               1                 0  "
      ]
     },
     "execution_count": 3,
     "metadata": {},
     "output_type": "execute_result"
    }
   ],
   "source": [
    "#Read using function\n",
    "y1, y2, y3, y4, X_, realization = treatment.data_initialization(realiz=True)\n",
    "X_.head()"
   ]
  },
  {
   "cell_type": "code",
   "execution_count": 4,
   "metadata": {},
   "outputs": [
    {
     "data": {
      "text/plain": [
       "(151956, 8)"
      ]
     },
     "execution_count": 4,
     "metadata": {},
     "output_type": "execute_result"
    }
   ],
   "source": [
    "X_.shape"
   ]
  },
  {
   "cell_type": "code",
   "execution_count": 4,
   "metadata": {},
   "outputs": [],
   "source": [
    "Y = np.column_stack((y1, y1, y3, y4))"
   ]
  },
  {
   "cell_type": "raw",
   "metadata": {},
   "source": [
    "# define data path\n",
    "data_folder = '../Data/'"
   ]
  },
  {
   "cell_type": "raw",
   "metadata": {
    "scrolled": true
   },
   "source": [
    "# read the data\n",
    "data = pd.read_csv(data_folder +'result_full_factorial_pgm.zip', index_col = 0)\n",
    "data.drop('Unnamed: 0.1', axis=1, inplace=True)\n",
    "data.head()"
   ]
  },
  {
   "cell_type": "raw",
   "metadata": {},
   "source": [
    "y1, y2, y3, y4 = np.log(data['k1_bwd_effective']), np.log(data['k1_fwd_effective']), np.log(data['k2_bwd_effective']), np.log(data['k2_fwd_effective'])\n",
    "\n",
    "X = data.drop(columns=['k1_bwd_effective','k1_fwd_effective','k2_bwd_effective','k2_fwd_effective',\n",
    "                  'k1_bwd_relative','k1_fwd_relative','k2_bwd_relative','k2_fwd_relative', 'realization'])\n",
    "\n",
    "X = william.cast_categories(X, 'sigma_mass', 'sigma_mass')\n",
    "# X.head()"
   ]
  },
  {
   "cell_type": "markdown",
   "metadata": {},
   "source": [
    "# Plots\n",
    "\n",
    "Seems useless, nothing to see"
   ]
  },
  {
   "cell_type": "raw",
   "metadata": {},
   "source": [
    "import matplotlib.pyplot as plt\n",
    "import seaborn as sns\n",
    "sns.set()\n",
    "sns.set_style(\"whitegrid\")\n"
   ]
  },
  {
   "cell_type": "raw",
   "metadata": {},
   "source": [
    "plt.xlim(X['enzyme_concentration'].min(), X['enzyme_concentration'].max())\n",
    "sns.scatterplot(x=(X['enzyme_concentration']*X['sigma_mass_0.0']), y=y1)"
   ]
  },
  {
   "cell_type": "markdown",
   "metadata": {},
   "source": [
    "# Data engineering"
   ]
  },
  {
   "cell_type": "raw",
   "metadata": {},
   "source": [
    "X[['enzyme_complex_concentration', 'enzyme_concentration', 'product_concentration',\n",
    "       'substrate_concentration']] = X[['enzyme_complex_concentration', 'enzyme_concentration', 'product_concentration',\n",
    "       'substrate_concentration']].apply(lambda x : np.log(x))\n",
    "X.head()"
   ]
  },
  {
   "cell_type": "markdown",
   "metadata": {},
   "source": [
    "### Interactions w/o categories"
   ]
  },
  {
   "cell_type": "raw",
   "metadata": {},
   "source": [
    "X1 = X[['enzyme_complex_concentration', 'enzyme_concentration', 'mu_mass', 'product_concentration',\n",
    "       'substrate_concentration', 'volume_fraction']].values\n",
    "X2 = X[['sigma_mass_0.0', 'sigma_mass_0.825']].values"
   ]
  },
  {
   "cell_type": "raw",
   "metadata": {},
   "source": [
    "poly = PolynomialFeatures(2, interaction_only=True)\n",
    "X = np.concatenate((poly.fit_transform(X1), X2), axis=1)\n",
    "print(X.shape)"
   ]
  },
  {
   "cell_type": "markdown",
   "metadata": {},
   "source": [
    "# Regressions"
   ]
  },
  {
   "cell_type": "markdown",
   "metadata": {},
   "source": [
    "## Ridge"
   ]
  },
  {
   "cell_type": "code",
   "execution_count": 3,
   "metadata": {},
   "outputs": [],
   "source": [
    "from regressions import reproduction_ridge"
   ]
  },
  {
   "cell_type": "code",
   "execution_count": 4,
   "metadata": {
    "scrolled": false
   },
   "outputs": [
    {
     "name": "stdout",
     "output_type": "stream",
     "text": [
      "7\n"
     ]
    }
   ],
   "source": [
    "# b = np.random.randint(50)\n",
    "b = 7\n",
    "print(b)\n",
    "ridge_reg_split = reproduction_ridge(realization_split=True)\n",
    "ridge_reg = reproduction_ridge(csv= True, realization_split=False)"
   ]
  },
  {
   "cell_type": "code",
   "execution_count": 5,
   "metadata": {
    "scrolled": true
   },
   "outputs": [
    {
     "data": {
      "text/html": [
       "<div>\n",
       "<style scoped>\n",
       "    .dataframe tbody tr th:only-of-type {\n",
       "        vertical-align: middle;\n",
       "    }\n",
       "\n",
       "    .dataframe tbody tr th {\n",
       "        vertical-align: top;\n",
       "    }\n",
       "\n",
       "    .dataframe thead th {\n",
       "        text-align: right;\n",
       "    }\n",
       "</style>\n",
       "<table border=\"1\" class=\"dataframe\">\n",
       "  <thead>\n",
       "    <tr style=\"text-align: right;\">\n",
       "      <th></th>\n",
       "      <th>R^2 train score</th>\n",
       "      <th>R^2 test score</th>\n",
       "      <th>MSE train score</th>\n",
       "      <th>MSE test score</th>\n",
       "    </tr>\n",
       "  </thead>\n",
       "  <tbody>\n",
       "    <tr>\n",
       "      <th>k1_bwd_effective</th>\n",
       "      <td>0.988743</td>\n",
       "      <td>0.988731</td>\n",
       "      <td>0.012551</td>\n",
       "      <td>0.012533</td>\n",
       "    </tr>\n",
       "    <tr>\n",
       "      <th>k1_fwd_effective</th>\n",
       "      <td>0.889999</td>\n",
       "      <td>0.888730</td>\n",
       "      <td>0.018294</td>\n",
       "      <td>0.018544</td>\n",
       "    </tr>\n",
       "    <tr>\n",
       "      <th>k2_bwd_effective</th>\n",
       "      <td>0.887128</td>\n",
       "      <td>0.886469</td>\n",
       "      <td>0.018813</td>\n",
       "      <td>0.019032</td>\n",
       "    </tr>\n",
       "    <tr>\n",
       "      <th>k2_fwd_effective</th>\n",
       "      <td>0.987505</td>\n",
       "      <td>0.987513</td>\n",
       "      <td>0.013931</td>\n",
       "      <td>0.013887</td>\n",
       "    </tr>\n",
       "  </tbody>\n",
       "</table>\n",
       "</div>"
      ],
      "text/plain": [
       "                  R^2 train score  R^2 test score  MSE train score  \\\n",
       "k1_bwd_effective         0.988743        0.988731         0.012551   \n",
       "k1_fwd_effective         0.889999        0.888730         0.018294   \n",
       "k2_bwd_effective         0.887128        0.886469         0.018813   \n",
       "k2_fwd_effective         0.987505        0.987513         0.013931   \n",
       "\n",
       "                  MSE test score  \n",
       "k1_bwd_effective        0.012533  \n",
       "k1_fwd_effective        0.018544  \n",
       "k2_bwd_effective        0.019032  \n",
       "k2_fwd_effective        0.013887  "
      ]
     },
     "execution_count": 5,
     "metadata": {},
     "output_type": "execute_result"
    }
   ],
   "source": [
    "ridge_reg.scores"
   ]
  },
  {
   "cell_type": "code",
   "execution_count": 9,
   "metadata": {},
   "outputs": [
    {
     "data": {
      "text/html": [
       "<div>\n",
       "<style scoped>\n",
       "    .dataframe tbody tr th:only-of-type {\n",
       "        vertical-align: middle;\n",
       "    }\n",
       "\n",
       "    .dataframe tbody tr th {\n",
       "        vertical-align: top;\n",
       "    }\n",
       "\n",
       "    .dataframe thead th {\n",
       "        text-align: right;\n",
       "    }\n",
       "</style>\n",
       "<table border=\"1\" class=\"dataframe\">\n",
       "  <thead>\n",
       "    <tr style=\"text-align: right;\">\n",
       "      <th></th>\n",
       "      <th>R^2 train score</th>\n",
       "      <th>R^2 test score</th>\n",
       "      <th>MSE train score</th>\n",
       "      <th>MSE test score</th>\n",
       "    </tr>\n",
       "  </thead>\n",
       "  <tbody>\n",
       "    <tr>\n",
       "      <th>k1_bwd_effective</th>\n",
       "      <td>0.988727</td>\n",
       "      <td>0.988794</td>\n",
       "      <td>0.012538</td>\n",
       "      <td>0.012509</td>\n",
       "    </tr>\n",
       "    <tr>\n",
       "      <th>k1_fwd_effective</th>\n",
       "      <td>0.854246</td>\n",
       "      <td>0.854353</td>\n",
       "      <td>0.024226</td>\n",
       "      <td>0.024295</td>\n",
       "    </tr>\n",
       "    <tr>\n",
       "      <th>k2_bwd_effective</th>\n",
       "      <td>0.850762</td>\n",
       "      <td>0.852766</td>\n",
       "      <td>0.024889</td>\n",
       "      <td>0.024661</td>\n",
       "    </tr>\n",
       "    <tr>\n",
       "      <th>k2_fwd_effective</th>\n",
       "      <td>0.988853</td>\n",
       "      <td>0.988904</td>\n",
       "      <td>0.012397</td>\n",
       "      <td>0.012385</td>\n",
       "    </tr>\n",
       "  </tbody>\n",
       "</table>\n",
       "</div>"
      ],
      "text/plain": [
       "                  R^2 train score  R^2 test score  MSE train score  \\\n",
       "k1_bwd_effective         0.988727        0.988794         0.012538   \n",
       "k1_fwd_effective         0.854246        0.854353         0.024226   \n",
       "k2_bwd_effective         0.850762        0.852766         0.024889   \n",
       "k2_fwd_effective         0.988853        0.988904         0.012397   \n",
       "\n",
       "                  MSE test score  \n",
       "k1_bwd_effective        0.012509  \n",
       "k1_fwd_effective        0.024295  \n",
       "k2_bwd_effective        0.024661  \n",
       "k2_fwd_effective        0.012385  "
      ]
     },
     "execution_count": 9,
     "metadata": {},
     "output_type": "execute_result"
    }
   ],
   "source": [
    "ridge_reg_split.scores"
   ]
  },
  {
   "cell_type": "markdown",
   "metadata": {},
   "source": [
    "### Interaction w/ categories\n",
    "works better. Best performancefor ridge: _Degree 2 complete_"
   ]
  },
  {
   "cell_type": "raw",
   "metadata": {},
   "source": [
    "poly = PolynomialFeatures(2, interaction_only=False)\n",
    "X = poly.fit_transform(X.values)\n",
    "print(X.shape)"
   ]
  },
  {
   "cell_type": "code",
   "execution_count": 10,
   "metadata": {
    "scrolled": true
   },
   "outputs": [],
   "source": [
    "X = treatment.polynomial_data(X_, 3, categories=True)"
   ]
  },
  {
   "cell_type": "code",
   "execution_count": 11,
   "metadata": {
    "scrolled": false
   },
   "outputs": [
    {
     "data": {
      "text/html": [
       "<div>\n",
       "<style scoped>\n",
       "    .dataframe tbody tr th:only-of-type {\n",
       "        vertical-align: middle;\n",
       "    }\n",
       "\n",
       "    .dataframe tbody tr th {\n",
       "        vertical-align: top;\n",
       "    }\n",
       "\n",
       "    .dataframe thead th {\n",
       "        text-align: right;\n",
       "    }\n",
       "</style>\n",
       "<table border=\"1\" class=\"dataframe\">\n",
       "  <thead>\n",
       "    <tr style=\"text-align: right;\">\n",
       "      <th></th>\n",
       "      <th>0</th>\n",
       "      <th>1</th>\n",
       "      <th>2</th>\n",
       "      <th>3</th>\n",
       "      <th>4</th>\n",
       "      <th>5</th>\n",
       "      <th>6</th>\n",
       "      <th>7</th>\n",
       "      <th>8</th>\n",
       "      <th>9</th>\n",
       "      <th>...</th>\n",
       "      <th>129</th>\n",
       "      <th>130</th>\n",
       "      <th>131</th>\n",
       "      <th>132</th>\n",
       "      <th>133</th>\n",
       "      <th>134</th>\n",
       "      <th>135</th>\n",
       "      <th>136</th>\n",
       "      <th>137</th>\n",
       "      <th>138</th>\n",
       "    </tr>\n",
       "  </thead>\n",
       "  <tbody>\n",
       "    <tr>\n",
       "      <th>0</th>\n",
       "      <td>-9.761988</td>\n",
       "      <td>-11.959213</td>\n",
       "      <td>12.1</td>\n",
       "      <td>-9.230543</td>\n",
       "      <td>-9.923690</td>\n",
       "      <td>0.2</td>\n",
       "      <td>95.296410</td>\n",
       "      <td>116.745689</td>\n",
       "      <td>-118.120055</td>\n",
       "      <td>90.108451</td>\n",
       "      <td>...</td>\n",
       "      <td>-0.000000</td>\n",
       "      <td>0.00</td>\n",
       "      <td>0.000000</td>\n",
       "      <td>0.000000</td>\n",
       "      <td>-0.000000</td>\n",
       "      <td>0.000000</td>\n",
       "      <td>-0.000000</td>\n",
       "      <td>0.00</td>\n",
       "      <td>1.0</td>\n",
       "      <td>0.0</td>\n",
       "    </tr>\n",
       "    <tr>\n",
       "      <th>1</th>\n",
       "      <td>-11.959213</td>\n",
       "      <td>-9.761988</td>\n",
       "      <td>12.1</td>\n",
       "      <td>-8.825078</td>\n",
       "      <td>-8.314252</td>\n",
       "      <td>0.2</td>\n",
       "      <td>143.022765</td>\n",
       "      <td>116.745689</td>\n",
       "      <td>-144.706472</td>\n",
       "      <td>105.540983</td>\n",
       "      <td>...</td>\n",
       "      <td>-0.000000</td>\n",
       "      <td>0.00</td>\n",
       "      <td>0.000000</td>\n",
       "      <td>0.000000</td>\n",
       "      <td>-0.000000</td>\n",
       "      <td>0.000000</td>\n",
       "      <td>-0.000000</td>\n",
       "      <td>0.00</td>\n",
       "      <td>1.0</td>\n",
       "      <td>0.0</td>\n",
       "    </tr>\n",
       "    <tr>\n",
       "      <th>2</th>\n",
       "      <td>-10.860600</td>\n",
       "      <td>-10.013302</td>\n",
       "      <td>31.9</td>\n",
       "      <td>-11.022305</td>\n",
       "      <td>-10.616837</td>\n",
       "      <td>0.2</td>\n",
       "      <td>117.952638</td>\n",
       "      <td>108.750475</td>\n",
       "      <td>-346.453149</td>\n",
       "      <td>119.708844</td>\n",
       "      <td>...</td>\n",
       "      <td>-338.677114</td>\n",
       "      <td>6.38</td>\n",
       "      <td>121.491198</td>\n",
       "      <td>117.022016</td>\n",
       "      <td>-2.204461</td>\n",
       "      <td>112.717237</td>\n",
       "      <td>-2.123367</td>\n",
       "      <td>0.04</td>\n",
       "      <td>0.0</td>\n",
       "      <td>1.0</td>\n",
       "    </tr>\n",
       "    <tr>\n",
       "      <th>3</th>\n",
       "      <td>-11.266065</td>\n",
       "      <td>-9.879771</td>\n",
       "      <td>12.1</td>\n",
       "      <td>-8.537396</td>\n",
       "      <td>-11.309985</td>\n",
       "      <td>0.4</td>\n",
       "      <td>126.924229</td>\n",
       "      <td>111.306146</td>\n",
       "      <td>-136.319391</td>\n",
       "      <td>96.182860</td>\n",
       "      <td>...</td>\n",
       "      <td>-0.000000</td>\n",
       "      <td>0.00</td>\n",
       "      <td>0.000000</td>\n",
       "      <td>0.000000</td>\n",
       "      <td>-0.000000</td>\n",
       "      <td>0.000000</td>\n",
       "      <td>-0.000000</td>\n",
       "      <td>0.00</td>\n",
       "      <td>1.0</td>\n",
       "      <td>0.0</td>\n",
       "    </tr>\n",
       "    <tr>\n",
       "      <th>4</th>\n",
       "      <td>-11.959213</td>\n",
       "      <td>-9.761988</td>\n",
       "      <td>12.1</td>\n",
       "      <td>-9.923690</td>\n",
       "      <td>-8.825078</td>\n",
       "      <td>0.2</td>\n",
       "      <td>143.022765</td>\n",
       "      <td>116.745689</td>\n",
       "      <td>-144.706472</td>\n",
       "      <td>118.679521</td>\n",
       "      <td>...</td>\n",
       "      <td>-0.000000</td>\n",
       "      <td>0.00</td>\n",
       "      <td>0.000000</td>\n",
       "      <td>0.000000</td>\n",
       "      <td>-0.000000</td>\n",
       "      <td>0.000000</td>\n",
       "      <td>-0.000000</td>\n",
       "      <td>0.00</td>\n",
       "      <td>1.0</td>\n",
       "      <td>0.0</td>\n",
       "    </tr>\n",
       "  </tbody>\n",
       "</table>\n",
       "<p>5 rows × 139 columns</p>\n",
       "</div>"
      ],
      "text/plain": [
       "         0          1     2          3          4    5           6    \\\n",
       "0  -9.761988 -11.959213  12.1  -9.230543  -9.923690  0.2   95.296410   \n",
       "1 -11.959213  -9.761988  12.1  -8.825078  -8.314252  0.2  143.022765   \n",
       "2 -10.860600 -10.013302  31.9 -11.022305 -10.616837  0.2  117.952638   \n",
       "3 -11.266065  -9.879771  12.1  -8.537396 -11.309985  0.4  126.924229   \n",
       "4 -11.959213  -9.761988  12.1  -9.923690  -8.825078  0.2  143.022765   \n",
       "\n",
       "          7           8           9   ...          129   130         131  \\\n",
       "0  116.745689 -118.120055   90.108451 ...    -0.000000  0.00    0.000000   \n",
       "1  116.745689 -144.706472  105.540983 ...    -0.000000  0.00    0.000000   \n",
       "2  108.750475 -346.453149  119.708844 ...  -338.677114  6.38  121.491198   \n",
       "3  111.306146 -136.319391   96.182860 ...    -0.000000  0.00    0.000000   \n",
       "4  116.745689 -144.706472  118.679521 ...    -0.000000  0.00    0.000000   \n",
       "\n",
       "          132       133         134       135   136  137  138  \n",
       "0    0.000000 -0.000000    0.000000 -0.000000  0.00  1.0  0.0  \n",
       "1    0.000000 -0.000000    0.000000 -0.000000  0.00  1.0  0.0  \n",
       "2  117.022016 -2.204461  112.717237 -2.123367  0.04  0.0  1.0  \n",
       "3    0.000000 -0.000000    0.000000 -0.000000  0.00  1.0  0.0  \n",
       "4    0.000000 -0.000000    0.000000 -0.000000  0.00  1.0  0.0  \n",
       "\n",
       "[5 rows x 139 columns]"
      ]
     },
     "execution_count": 11,
     "metadata": {},
     "output_type": "execute_result"
    }
   ],
   "source": [
    "checkX = pd.DataFrame(X[:10,:])\n",
    "checkX.head()"
   ]
  },
  {
   "cell_type": "markdown",
   "metadata": {},
   "source": [
    "### Train test splitting"
   ]
  },
  {
   "cell_type": "code",
   "execution_count": 7,
   "metadata": {
    "scrolled": true
   },
   "outputs": [
    {
     "name": "stdout",
     "output_type": "stream",
     "text": [
      "(91173, 41) (60783, 41)\n"
     ]
    }
   ],
   "source": [
    "X_train, X_test, y_train, y_test = treatment.train_test_split(X, y1,\n",
    "                                                                       test_size=0.4, random_state = 33)\n",
    "print(X_train.shape, X_test.shape)"
   ]
  },
  {
   "cell_type": "markdown",
   "metadata": {},
   "source": [
    "### Fitting"
   ]
  },
  {
   "cell_type": "code",
   "execution_count": 8,
   "metadata": {},
   "outputs": [
    {
     "name": "stdout",
     "output_type": "stream",
     "text": [
      "Train R^2 score :  0.9881236491100363 \n",
      " Test R^2 score :  0.9880772240177137\n"
     ]
    }
   ],
   "source": [
    "ridge_reg = RidgeCV(alphas=np.logspace(-5,5,40), cv=None, fit_intercept=False)\n",
    "ridge_reg.fit(X_train, y_train)\n",
    "\n",
    "print('Train R^2 score : ', ridge_reg.score(X_train, y_train), '\\n',\n",
    "     'Test R^2 score : ', ridge_reg.score(X_test, y_test))"
   ]
  },
  {
   "cell_type": "code",
   "execution_count": 9,
   "metadata": {
    "scrolled": true
   },
   "outputs": [
    {
     "name": "stdout",
     "output_type": "stream",
     "text": [
      "MSE on train :  0.01323977177944051 \n",
      " MSE on test :  0.013262313845630634\n"
     ]
    }
   ],
   "source": [
    "y_pred_tr = ridge_reg.predict(X_train)\n",
    "y_pred_te = ridge_reg.predict(X_test)\n",
    "\n",
    "print('MSE on train : ', mean_squared_error(y_train, y_pred_tr), '\\n',\n",
    "     'MSE on test : ', mean_squared_error(y_test, y_pred_te))"
   ]
  },
  {
   "cell_type": "code",
   "execution_count": 11,
   "metadata": {},
   "outputs": [
    {
     "name": "stdout",
     "output_type": "stream",
     "text": [
      "alpha :  0.002030917620904735\n"
     ]
    }
   ],
   "source": [
    "print('alpha : ', ridge_reg.alpha_)"
   ]
  },
  {
   "cell_type": "code",
   "execution_count": 14,
   "metadata": {},
   "outputs": [],
   "source": [
    "from sklearn import feature_selection"
   ]
  },
  {
   "cell_type": "code",
   "execution_count": 15,
   "metadata": {},
   "outputs": [
    {
     "ename": "NameError",
     "evalue": "name 'feature_selection' is not defined",
     "output_type": "error",
     "traceback": [
      "\u001b[0;31m---------------------------------------------------------------------------\u001b[0m",
      "\u001b[0;31mNameError\u001b[0m                                 Traceback (most recent call last)",
      "\u001b[0;32m<ipython-input-15-0ff376a4a358>\u001b[0m in \u001b[0;36m<module>\u001b[0;34m()\u001b[0m\n\u001b[0;32m----> 1\u001b[0;31m \u001b[0mselection\u001b[0m \u001b[0;34m=\u001b[0m \u001b[0mfeature_selection\u001b[0m\u001b[0;34m.\u001b[0m\u001b[0mRFE\u001b[0m\u001b[0;34m(\u001b[0m\u001b[0mridge_reg\u001b[0m\u001b[0;34m)\u001b[0m\u001b[0;34m.\u001b[0m\u001b[0mfit\u001b[0m\u001b[0;34m(\u001b[0m\u001b[0mX_train\u001b[0m\u001b[0;34m,\u001b[0m \u001b[0my_train\u001b[0m\u001b[0;34m)\u001b[0m\u001b[0;34m\u001b[0m\u001b[0m\n\u001b[0m\u001b[1;32m      2\u001b[0m \u001b[0;34m\u001b[0m\u001b[0m\n\u001b[1;32m      3\u001b[0m \u001b[0my_pred_tr\u001b[0m \u001b[0;34m=\u001b[0m \u001b[0mselection\u001b[0m\u001b[0;34m.\u001b[0m\u001b[0mpredict\u001b[0m\u001b[0;34m(\u001b[0m\u001b[0mX_train\u001b[0m\u001b[0;34m)\u001b[0m\u001b[0;34m\u001b[0m\u001b[0m\n\u001b[1;32m      4\u001b[0m \u001b[0my_pred_te\u001b[0m \u001b[0;34m=\u001b[0m \u001b[0mselection\u001b[0m\u001b[0;34m.\u001b[0m\u001b[0mpredict\u001b[0m\u001b[0;34m(\u001b[0m\u001b[0mX_test\u001b[0m\u001b[0;34m)\u001b[0m\u001b[0;34m\u001b[0m\u001b[0m\n\u001b[1;32m      5\u001b[0m \u001b[0;34m\u001b[0m\u001b[0m\n",
      "\u001b[0;31mNameError\u001b[0m: name 'feature_selection' is not defined"
     ]
    }
   ],
   "source": [
    "selection = feature_selection.RFE(ridge_reg).fit(X_train, y_train)\n",
    "\n",
    "y_pred_tr = selection.predict(X_train)\n",
    "y_pred_te = selection.predict(X_test)\n",
    "\n",
    "print()\n",
    "print('MSE on train : ', mean_squared_error(y_train, y_pred_tr), '\\n',\n",
    "     'MSE on test : ', mean_squared_error(y_test, y_pred_te))\n"
   ]
  },
  {
   "cell_type": "markdown",
   "metadata": {},
   "source": [
    "## Support vector regression"
   ]
  },
  {
   "cell_type": "markdown",
   "metadata": {},
   "source": [
    "### Reproduction"
   ]
  },
  {
   "cell_type": "code",
   "execution_count": 3,
   "metadata": {
    "scrolled": true
   },
   "outputs": [
    {
     "name": "stderr",
     "output_type": "stream",
     "text": [
      "/home/william/anaconda3/lib/python3.6/site-packages/sklearn/svm/base.py:218: ConvergenceWarning: Solver terminated early (max_iter=50000).  Consider pre-processing your data with StandardScaler or MinMaxScaler.\n",
      "  % self.max_iter, ConvergenceWarning)\n",
      "/home/william/anaconda3/lib/python3.6/site-packages/sklearn/svm/base.py:218: ConvergenceWarning: Solver terminated early (max_iter=50000).  Consider pre-processing your data with StandardScaler or MinMaxScaler.\n",
      "  % self.max_iter, ConvergenceWarning)\n"
     ]
    }
   ],
   "source": [
    "SVRReprod = regressions.reproduction_svr()"
   ]
  },
  {
   "cell_type": "code",
   "execution_count": 6,
   "metadata": {},
   "outputs": [
    {
     "data": {
      "text/html": [
       "<div>\n",
       "<style scoped>\n",
       "    .dataframe tbody tr th:only-of-type {\n",
       "        vertical-align: middle;\n",
       "    }\n",
       "\n",
       "    .dataframe tbody tr th {\n",
       "        vertical-align: top;\n",
       "    }\n",
       "\n",
       "    .dataframe thead th {\n",
       "        text-align: right;\n",
       "    }\n",
       "</style>\n",
       "<table border=\"1\" class=\"dataframe\">\n",
       "  <thead>\n",
       "    <tr style=\"text-align: right;\">\n",
       "      <th></th>\n",
       "      <th>R^2 train score</th>\n",
       "      <th>R^2 test score</th>\n",
       "      <th>MSE train score</th>\n",
       "      <th>MSE test score</th>\n",
       "    </tr>\n",
       "  </thead>\n",
       "  <tbody>\n",
       "    <tr>\n",
       "      <th>k1_bwd_effective</th>\n",
       "      <td>0.953074</td>\n",
       "      <td>0.953209</td>\n",
       "      <td>0.052378</td>\n",
       "      <td>0.051951</td>\n",
       "    </tr>\n",
       "    <tr>\n",
       "      <th>k1_fwd_effective</th>\n",
       "      <td>0.909900</td>\n",
       "      <td>0.907186</td>\n",
       "      <td>0.014978</td>\n",
       "      <td>0.015478</td>\n",
       "    </tr>\n",
       "    <tr>\n",
       "      <th>k2_bwd_effective</th>\n",
       "      <td>0.910960</td>\n",
       "      <td>0.910208</td>\n",
       "      <td>0.014870</td>\n",
       "      <td>0.015009</td>\n",
       "    </tr>\n",
       "    <tr>\n",
       "      <th>k2_fwd_effective</th>\n",
       "      <td>0.951527</td>\n",
       "      <td>0.951694</td>\n",
       "      <td>0.054105</td>\n",
       "      <td>0.053632</td>\n",
       "    </tr>\n",
       "  </tbody>\n",
       "</table>\n",
       "</div>"
      ],
      "text/plain": [
       "                  R^2 train score  R^2 test score  MSE train score  \\\n",
       "k1_bwd_effective         0.953074        0.953209         0.052378   \n",
       "k1_fwd_effective         0.909900        0.907186         0.014978   \n",
       "k2_bwd_effective         0.910960        0.910208         0.014870   \n",
       "k2_fwd_effective         0.951527        0.951694         0.054105   \n",
       "\n",
       "                  MSE test score  \n",
       "k1_bwd_effective        0.051951  \n",
       "k1_fwd_effective        0.015478  \n",
       "k2_bwd_effective        0.015009  \n",
       "k2_fwd_effective        0.053632  "
      ]
     },
     "execution_count": 6,
     "metadata": {},
     "output_type": "execute_result"
    }
   ],
   "source": [
    "SVRReprod.scores"
   ]
  },
  {
   "cell_type": "code",
   "execution_count": 5,
   "metadata": {},
   "outputs": [
    {
     "data": {
      "text/plain": [
       "'\\\\begin{tabular}{lrrrr}\\n\\\\toprule\\n{} &  R\\\\textasciicircum 2 train score &  R\\\\textasciicircum 2 test score &  MSE train score &  MSE test score \\\\\\\\\\n\\\\midrule\\nk1\\\\_bwd\\\\_effective &         0.953074 &        0.953209 &         0.052378 &        0.051951 \\\\\\\\\\nk1\\\\_fwd\\\\_effective &         0.909900 &        0.907186 &         0.014978 &        0.015478 \\\\\\\\\\nk2\\\\_bwd\\\\_effective &         0.910960 &        0.910208 &         0.014870 &        0.015009 \\\\\\\\\\nk2\\\\_fwd\\\\_effective &         0.951527 &        0.951694 &         0.054105 &        0.053632 \\\\\\\\\\n\\\\bottomrule\\n\\\\end{tabular}\\n'"
      ]
     },
     "execution_count": 5,
     "metadata": {},
     "output_type": "execute_result"
    }
   ],
   "source": [
    "SVRReprod.scores.to_latex()"
   ]
  },
  {
   "cell_type": "code",
   "execution_count": 12,
   "metadata": {},
   "outputs": [
    {
     "name": "stdout",
     "output_type": "stream",
     "text": [
      "\\begin{tabular}{lrrrr}\n",
      "\\toprule\n",
      "{} &  R\\textasciicircum 2 train score &  R\\textasciicircum 2 test score &  MSE train score &  MSE test score \\\\\n",
      "\\midrule\n",
      "k1\\_bwd\\_effective &         0.953074 &        0.953209 &         0.052378 &        0.051951 \\\\\n",
      "k1\\_fwd\\_effective &         0.909900 &        0.907186 &         0.014978 &        0.015478 \\\\\n",
      "k2\\_bwd\\_effective &         0.910960 &        0.910208 &         0.014870 &        0.015009 \\\\\n",
      "k2\\_fwd\\_effective &         0.951527 &        0.951694 &         0.054105 &        0.053632 \\\\\n",
      "\\bottomrule\n",
      "\\end{tabular}\n",
      "\n"
     ]
    }
   ],
   "source": [
    "print('\\\\begin{tabular}{lrrrr}\\n\\\\toprule\\n{} &  R\\\\textasciicircum 2 train score &  R\\\\textasciicircum 2 test score &  MSE train score &  MSE test score \\\\\\\\\\n\\\\midrule\\nk1\\\\_bwd\\\\_effective &         0.953074 &        0.953209 &         0.052378 &        0.051951 \\\\\\\\\\nk1\\\\_fwd\\\\_effective &         0.909900 &        0.907186 &         0.014978 &        0.015478 \\\\\\\\\\nk2\\\\_bwd\\\\_effective &         0.910960 &        0.910208 &         0.014870 &        0.015009 \\\\\\\\\\nk2\\\\_fwd\\\\_effective &         0.951527 &        0.951694 &         0.054105 &        0.053632 \\\\\\\\\\n\\\\bottomrule\\n\\\\end{tabular}\\n'\n",
    "     )"
   ]
  },
  {
   "cell_type": "markdown",
   "metadata": {},
   "source": [
    "### Train test splitting"
   ]
  },
  {
   "cell_type": "code",
   "execution_count": 5,
   "metadata": {
    "scrolled": false
   },
   "outputs": [],
   "source": [
    "X = treatment.polynomial_data(X, 1, categories=True)"
   ]
  },
  {
   "cell_type": "code",
   "execution_count": 9,
   "metadata": {
    "scrolled": false
   },
   "outputs": [
    {
     "name": "stdout",
     "output_type": "stream",
     "text": [
      "(91173, 8) (60783, 8)\n"
     ]
    }
   ],
   "source": [
    "X_train, X_test, y_train, y_test = train_test_split(X, y1, random_state=42, test_size=0.4)\n",
    "print(X_train.shape, X_test.shape)"
   ]
  },
  {
   "cell_type": "markdown",
   "metadata": {},
   "source": [
    "### Fitting"
   ]
  },
  {
   "cell_type": "code",
   "execution_count": 10,
   "metadata": {},
   "outputs": [
    {
     "ename": "ValueError",
     "evalue": "bad input shape (91173, 4)",
     "output_type": "error",
     "traceback": [
      "\u001b[0;31m---------------------------------------------------------------------------\u001b[0m",
      "\u001b[0;31mValueError\u001b[0m                                Traceback (most recent call last)",
      "\u001b[0;32m<ipython-input-10-c682169ae3a1>\u001b[0m in \u001b[0;36m<module>\u001b[0;34m()\u001b[0m\n\u001b[0;32m----> 1\u001b[0;31m \u001b[0msvm_reg\u001b[0m \u001b[0;34m=\u001b[0m \u001b[0mSVR\u001b[0m\u001b[0;34m(\u001b[0m\u001b[0mkernel\u001b[0m\u001b[0;34m=\u001b[0m\u001b[0;34m'poly'\u001b[0m\u001b[0;34m,\u001b[0m \u001b[0mdegree\u001b[0m\u001b[0;34m=\u001b[0m\u001b[0;36m2\u001b[0m\u001b[0;34m)\u001b[0m\u001b[0;34m.\u001b[0m\u001b[0mfit\u001b[0m\u001b[0;34m(\u001b[0m\u001b[0mX_train\u001b[0m\u001b[0;34m,\u001b[0m\u001b[0my_train\u001b[0m\u001b[0;34m)\u001b[0m\u001b[0;34m\u001b[0m\u001b[0m\n\u001b[0m\u001b[1;32m      2\u001b[0m \u001b[0;34m\u001b[0m\u001b[0m\n\u001b[1;32m      3\u001b[0m print('Train R^2 score : ', svm_reg.score(X_train, y_train), '\\n',\n\u001b[1;32m      4\u001b[0m      'Test R^2 score : ', svm_reg.score(X_test, y_test))\n",
      "\u001b[0;32m~/anaconda3/lib/python3.6/site-packages/sklearn/svm/base.py\u001b[0m in \u001b[0;36mfit\u001b[0;34m(self, X, y, sample_weight)\u001b[0m\n\u001b[1;32m    147\u001b[0m         \u001b[0mself\u001b[0m\u001b[0;34m.\u001b[0m\u001b[0m_sparse\u001b[0m \u001b[0;34m=\u001b[0m \u001b[0msparse\u001b[0m \u001b[0;32mand\u001b[0m \u001b[0;32mnot\u001b[0m \u001b[0mcallable\u001b[0m\u001b[0;34m(\u001b[0m\u001b[0mself\u001b[0m\u001b[0;34m.\u001b[0m\u001b[0mkernel\u001b[0m\u001b[0;34m)\u001b[0m\u001b[0;34m\u001b[0m\u001b[0m\n\u001b[1;32m    148\u001b[0m \u001b[0;34m\u001b[0m\u001b[0m\n\u001b[0;32m--> 149\u001b[0;31m         \u001b[0mX\u001b[0m\u001b[0;34m,\u001b[0m \u001b[0my\u001b[0m \u001b[0;34m=\u001b[0m \u001b[0mcheck_X_y\u001b[0m\u001b[0;34m(\u001b[0m\u001b[0mX\u001b[0m\u001b[0;34m,\u001b[0m \u001b[0my\u001b[0m\u001b[0;34m,\u001b[0m \u001b[0mdtype\u001b[0m\u001b[0;34m=\u001b[0m\u001b[0mnp\u001b[0m\u001b[0;34m.\u001b[0m\u001b[0mfloat64\u001b[0m\u001b[0;34m,\u001b[0m \u001b[0morder\u001b[0m\u001b[0;34m=\u001b[0m\u001b[0;34m'C'\u001b[0m\u001b[0;34m,\u001b[0m \u001b[0maccept_sparse\u001b[0m\u001b[0;34m=\u001b[0m\u001b[0;34m'csr'\u001b[0m\u001b[0;34m)\u001b[0m\u001b[0;34m\u001b[0m\u001b[0m\n\u001b[0m\u001b[1;32m    150\u001b[0m         \u001b[0my\u001b[0m \u001b[0;34m=\u001b[0m \u001b[0mself\u001b[0m\u001b[0;34m.\u001b[0m\u001b[0m_validate_targets\u001b[0m\u001b[0;34m(\u001b[0m\u001b[0my\u001b[0m\u001b[0;34m)\u001b[0m\u001b[0;34m\u001b[0m\u001b[0m\n\u001b[1;32m    151\u001b[0m \u001b[0;34m\u001b[0m\u001b[0m\n",
      "\u001b[0;32m~/anaconda3/lib/python3.6/site-packages/sklearn/utils/validation.py\u001b[0m in \u001b[0;36mcheck_X_y\u001b[0;34m(X, y, accept_sparse, dtype, order, copy, force_all_finite, ensure_2d, allow_nd, multi_output, ensure_min_samples, ensure_min_features, y_numeric, warn_on_dtype, estimator)\u001b[0m\n\u001b[1;32m    576\u001b[0m                         dtype=None)\n\u001b[1;32m    577\u001b[0m     \u001b[0;32melse\u001b[0m\u001b[0;34m:\u001b[0m\u001b[0;34m\u001b[0m\u001b[0m\n\u001b[0;32m--> 578\u001b[0;31m         \u001b[0my\u001b[0m \u001b[0;34m=\u001b[0m \u001b[0mcolumn_or_1d\u001b[0m\u001b[0;34m(\u001b[0m\u001b[0my\u001b[0m\u001b[0;34m,\u001b[0m \u001b[0mwarn\u001b[0m\u001b[0;34m=\u001b[0m\u001b[0;32mTrue\u001b[0m\u001b[0;34m)\u001b[0m\u001b[0;34m\u001b[0m\u001b[0m\n\u001b[0m\u001b[1;32m    579\u001b[0m         \u001b[0m_assert_all_finite\u001b[0m\u001b[0;34m(\u001b[0m\u001b[0my\u001b[0m\u001b[0;34m)\u001b[0m\u001b[0;34m\u001b[0m\u001b[0m\n\u001b[1;32m    580\u001b[0m     \u001b[0;32mif\u001b[0m \u001b[0my_numeric\u001b[0m \u001b[0;32mand\u001b[0m \u001b[0my\u001b[0m\u001b[0;34m.\u001b[0m\u001b[0mdtype\u001b[0m\u001b[0;34m.\u001b[0m\u001b[0mkind\u001b[0m \u001b[0;34m==\u001b[0m \u001b[0;34m'O'\u001b[0m\u001b[0;34m:\u001b[0m\u001b[0;34m\u001b[0m\u001b[0m\n",
      "\u001b[0;32m~/anaconda3/lib/python3.6/site-packages/sklearn/utils/validation.py\u001b[0m in \u001b[0;36mcolumn_or_1d\u001b[0;34m(y, warn)\u001b[0m\n\u001b[1;32m    612\u001b[0m         \u001b[0;32mreturn\u001b[0m \u001b[0mnp\u001b[0m\u001b[0;34m.\u001b[0m\u001b[0mravel\u001b[0m\u001b[0;34m(\u001b[0m\u001b[0my\u001b[0m\u001b[0;34m)\u001b[0m\u001b[0;34m\u001b[0m\u001b[0m\n\u001b[1;32m    613\u001b[0m \u001b[0;34m\u001b[0m\u001b[0m\n\u001b[0;32m--> 614\u001b[0;31m     \u001b[0;32mraise\u001b[0m \u001b[0mValueError\u001b[0m\u001b[0;34m(\u001b[0m\u001b[0;34m\"bad input shape {0}\"\u001b[0m\u001b[0;34m.\u001b[0m\u001b[0mformat\u001b[0m\u001b[0;34m(\u001b[0m\u001b[0mshape\u001b[0m\u001b[0;34m)\u001b[0m\u001b[0;34m)\u001b[0m\u001b[0;34m\u001b[0m\u001b[0m\n\u001b[0m\u001b[1;32m    615\u001b[0m \u001b[0;34m\u001b[0m\u001b[0m\n\u001b[1;32m    616\u001b[0m \u001b[0;34m\u001b[0m\u001b[0m\n",
      "\u001b[0;31mValueError\u001b[0m: bad input shape (91173, 4)"
     ]
    }
   ],
   "source": [
    "svm_reg = SVR(kernel='poly', degree=2).fit(X_train,y_train)\n",
    "\n",
    "print('Train R^2 score : ', svm_reg.score(X_train, y_train), '\\n',\n",
    "     'Test R^2 score : ', svm_reg.score(X_test, y_test))"
   ]
  },
  {
   "cell_type": "code",
   "execution_count": null,
   "metadata": {
    "scrolled": true
   },
   "outputs": [],
   "source": [
    "y_pred_tr = svm_reg.predict(X_train)\n",
    "y_pred_te = svm_reg.predict(X_test)\n",
    "\n",
    "print('MSE on train : ', mean_squared_error(y_train, y_pred_tr), '\\n',\n",
    "     'MSE on test : ', mean_squared_error(y_test, y_pred_te))"
   ]
  },
  {
   "cell_type": "code",
   "execution_count": null,
   "metadata": {},
   "outputs": [],
   "source": []
  },
  {
   "cell_type": "markdown",
   "metadata": {},
   "source": [
    "## Boosting"
   ]
  },
  {
   "cell_type": "code",
   "execution_count": 17,
   "metadata": {
    "scrolled": true
   },
   "outputs": [],
   "source": [
    "X = treatment.polynomial_data(X_, 2, interaction_only=True, categories=True)"
   ]
  },
  {
   "cell_type": "code",
   "execution_count": 4,
   "metadata": {},
   "outputs": [],
   "source": [
    "X = X_.values"
   ]
  },
  {
   "cell_type": "code",
   "execution_count": 11,
   "metadata": {},
   "outputs": [],
   "source": [
    "X = X.drop(columns=['sigma_mass_0.0', 'sigma_mass_0.825', 'enzyme_concentration'])\n",
    "X = X.values"
   ]
  },
  {
   "cell_type": "code",
   "execution_count": 5,
   "metadata": {
    "scrolled": false
   },
   "outputs": [
    {
     "data": {
      "text/html": [
       "<div>\n",
       "<style scoped>\n",
       "    .dataframe tbody tr th:only-of-type {\n",
       "        vertical-align: middle;\n",
       "    }\n",
       "\n",
       "    .dataframe tbody tr th {\n",
       "        vertical-align: top;\n",
       "    }\n",
       "\n",
       "    .dataframe thead th {\n",
       "        text-align: right;\n",
       "    }\n",
       "</style>\n",
       "<table border=\"1\" class=\"dataframe\">\n",
       "  <thead>\n",
       "    <tr style=\"text-align: right;\">\n",
       "      <th></th>\n",
       "      <th>enzyme_complex_concentration</th>\n",
       "      <th>enzyme_concentration</th>\n",
       "      <th>mu_mass</th>\n",
       "      <th>product_concentration</th>\n",
       "      <th>substrate_concentration</th>\n",
       "      <th>volume_fraction</th>\n",
       "      <th>sigma_mass_0.0</th>\n",
       "      <th>sigma_mass_0.825</th>\n",
       "    </tr>\n",
       "  </thead>\n",
       "  <tbody>\n",
       "    <tr>\n",
       "      <th>0</th>\n",
       "      <td>-9.761988</td>\n",
       "      <td>-11.959213</td>\n",
       "      <td>12.1</td>\n",
       "      <td>-9.230543</td>\n",
       "      <td>-9.923690</td>\n",
       "      <td>0.2</td>\n",
       "      <td>1</td>\n",
       "      <td>0</td>\n",
       "    </tr>\n",
       "    <tr>\n",
       "      <th>1</th>\n",
       "      <td>-11.959213</td>\n",
       "      <td>-9.761988</td>\n",
       "      <td>12.1</td>\n",
       "      <td>-8.825078</td>\n",
       "      <td>-8.314252</td>\n",
       "      <td>0.2</td>\n",
       "      <td>1</td>\n",
       "      <td>0</td>\n",
       "    </tr>\n",
       "    <tr>\n",
       "      <th>2</th>\n",
       "      <td>-10.860600</td>\n",
       "      <td>-10.013302</td>\n",
       "      <td>31.9</td>\n",
       "      <td>-11.022305</td>\n",
       "      <td>-10.616837</td>\n",
       "      <td>0.2</td>\n",
       "      <td>0</td>\n",
       "      <td>1</td>\n",
       "    </tr>\n",
       "    <tr>\n",
       "      <th>3</th>\n",
       "      <td>-11.266065</td>\n",
       "      <td>-9.879771</td>\n",
       "      <td>12.1</td>\n",
       "      <td>-8.537396</td>\n",
       "      <td>-11.309985</td>\n",
       "      <td>0.4</td>\n",
       "      <td>1</td>\n",
       "      <td>0</td>\n",
       "    </tr>\n",
       "    <tr>\n",
       "      <th>4</th>\n",
       "      <td>-11.959213</td>\n",
       "      <td>-9.761988</td>\n",
       "      <td>12.1</td>\n",
       "      <td>-9.923690</td>\n",
       "      <td>-8.825078</td>\n",
       "      <td>0.2</td>\n",
       "      <td>1</td>\n",
       "      <td>0</td>\n",
       "    </tr>\n",
       "  </tbody>\n",
       "</table>\n",
       "</div>"
      ],
      "text/plain": [
       "   enzyme_complex_concentration  enzyme_concentration  mu_mass  \\\n",
       "0                     -9.761988            -11.959213     12.1   \n",
       "1                    -11.959213             -9.761988     12.1   \n",
       "2                    -10.860600            -10.013302     31.9   \n",
       "3                    -11.266065             -9.879771     12.1   \n",
       "4                    -11.959213             -9.761988     12.1   \n",
       "\n",
       "   product_concentration  substrate_concentration  volume_fraction  \\\n",
       "0              -9.230543                -9.923690              0.2   \n",
       "1              -8.825078                -8.314252              0.2   \n",
       "2             -11.022305               -10.616837              0.2   \n",
       "3              -8.537396               -11.309985              0.4   \n",
       "4              -9.923690                -8.825078              0.2   \n",
       "\n",
       "   sigma_mass_0.0  sigma_mass_0.825  \n",
       "0               1                 0  \n",
       "1               1                 0  \n",
       "2               0                 1  \n",
       "3               1                 0  \n",
       "4               1                 0  "
      ]
     },
     "execution_count": 5,
     "metadata": {},
     "output_type": "execute_result"
    }
   ],
   "source": [
    "checkX = pd.DataFrame(X[:10,:])\n",
    "checkX.head()\n",
    "X_.head()"
   ]
  },
  {
   "cell_type": "markdown",
   "metadata": {},
   "source": [
    "### Train test splitting"
   ]
  },
  {
   "cell_type": "code",
   "execution_count": 6,
   "metadata": {},
   "outputs": [
    {
     "name": "stdout",
     "output_type": "stream",
     "text": [
      "(91173, 8) (60783, 8)\n"
     ]
    }
   ],
   "source": [
    "X_train, X_test, y1_train, y1_test = train_test_split(X, y1, test_size=0.4)\n",
    "print(X_train.shape, X_test.shape)\n",
    "y1_train, y1_test = y1_train.values, y1_test.values"
   ]
  },
  {
   "cell_type": "raw",
   "metadata": {},
   "source": [
    "R = regressions.cast_categories(realization.to_frame(), 'realization', 're')\n",
    "\n",
    "R.head()"
   ]
  },
  {
   "cell_type": "raw",
   "metadata": {},
   "source": [
    "X_train, X_test, y_train, y_test = regressions.train_test_split_realiz(X, y4, realization,\n",
    "                                                                   random_state=0, test_size=0.3)\n",
    "print(X_train.shape, X_test.shape)"
   ]
  },
  {
   "cell_type": "markdown",
   "metadata": {},
   "source": [
    "### Fitting"
   ]
  },
  {
   "cell_type": "code",
   "execution_count": 15,
   "metadata": {},
   "outputs": [],
   "source": [
    "import xgboost as xgb"
   ]
  },
  {
   "cell_type": "code",
   "execution_count": 41,
   "metadata": {},
   "outputs": [],
   "source": [
    "param = {'max_depth': 10, 'eta': 1, 'silent': 1, 'subsample': 0.8}\n",
    "# param['nthread'] = 4\n",
    "param['reg_alpha'] = 0.7\n",
    "# param['reg_lamda'] = 0.5\n",
    "param['tree_method'] = 'gpu_hist'\n",
    "# param['tree_method'] = 'auto'"
   ]
  },
  {
   "cell_type": "code",
   "execution_count": 42,
   "metadata": {},
   "outputs": [],
   "source": [
    "dtrain1 = xgb.DMatrix(X_train, label=y1_train)\n",
    "dtest = xgb.DMatrix(X_test)\n",
    "\n",
    "xgbReg = xgb.train(params=param, dtrain=dtrain1)\n",
    "\n",
    "y1_pred_tr = xgbReg.predict(dtrain1)\n",
    "y1_pred_te = xgbReg.predict(dtest)"
   ]
  },
  {
   "cell_type": "code",
   "execution_count": 43,
   "metadata": {
    "scrolled": true
   },
   "outputs": [
    {
     "name": "stdout",
     "output_type": "stream",
     "text": [
      "Train R^2 score :  0.9998409175157027 \n",
      " Test R^2 score :  0.9998346881622936\n",
      "MSE on train :  0.00017711895543468076 \n",
      " MSE on test :  0.00018433214000005704\n"
     ]
    },
    {
     "data": {
      "text/plain": [
       "<matplotlib.axes._subplots.AxesSubplot at 0x7fec881ccb70>"
      ]
     },
     "execution_count": 43,
     "metadata": {},
     "output_type": "execute_result"
    },
    {
     "data": {
      "image/png": "[encoded data removed]",
      "text/plain": [
       "<Figure size 432x288 with 1 Axes>"
      ]
     },
     "metadata": {},
     "output_type": "display_data"
    }
   ],
   "source": [
    "print('Train R^2 score : ', explained_variance_score(y1_train, y1_pred_tr), '\\n',\n",
    "     'Test R^2 score : ', explained_variance_score(y1_test, y1_pred_te))\n",
    "\n",
    "print('MSE on train : ', mean_squared_error(y1_train, y1_pred_tr), '\\n',\n",
    "     'MSE on test : ', mean_squared_error(y1_test, y1_pred_te))\n",
    "\n",
    "xgb.plot_importance(xgbReg)"
   ]
  },
  {
   "cell_type": "code",
   "execution_count": 7,
   "metadata": {},
   "outputs": [],
   "source": [
    "from regressions import easyXGB"
   ]
  },
  {
   "cell_type": "code",
   "execution_count": 15,
   "metadata": {
    "scrolled": true
   },
   "outputs": [],
   "source": [
    "easyXGBReg = easyXGB()\n",
    "easyXGBReg.set_params(tree_method = 'gpu_hist')\n",
    "# easyXGBReg.fit(X_train, y1_train)"
   ]
  },
  {
   "cell_type": "markdown",
   "metadata": {},
   "source": [
    "# Cross validation"
   ]
  },
  {
   "cell_type": "code",
   "execution_count": 6,
   "metadata": {},
   "outputs": [],
   "source": [
    "from cross_validation import multi_cross_validation"
   ]
  },
  {
   "cell_type": "code",
   "execution_count": 8,
   "metadata": {},
   "outputs": [],
   "source": [
    "from regressions import easyXGB"
   ]
  },
  {
   "cell_type": "code",
   "execution_count": 11,
   "metadata": {
    "scrolled": true
   },
   "outputs": [],
   "source": [
    "easyXGBReg = easyXGB()\n",
    "# easyXGBReg.set_params(tree_method = 'auto')\n",
    "easyXGBReg.set_params(tree_method = 'gpu_hist')\n",
    "# easyXGBReg.fit(X_train, y1_train)"
   ]
  },
  {
   "cell_type": "code",
   "execution_count": 38,
   "metadata": {},
   "outputs": [],
   "source": [
    "methods = [[easyXGBReg, [{'reg_alpha': i, 'eta': k, 'max_depth': j, 'subsample': 1.0} \n",
    "                         for i in np.linspace(0.1,.6,num=21) for j in range(9,11,1) \n",
    "                         for k in np.linspace(0.66,0.66,num=1)]]]"
   ]
  },
  {
   "cell_type": "markdown",
   "metadata": {},
   "source": [
    "## y1"
   ]
  },
  {
   "cell_type": "code",
   "execution_count": 7,
   "metadata": {},
   "outputs": [
    {
     "name": "stdout",
     "output_type": "stream",
     "text": [
      "(91173, 8) (60783, 8)\n"
     ]
    }
   ],
   "source": [
    "X_train, X_test, y1_train, y1_test = train_test_split(X, y1, test_size=0.4, random_state = 33)\n",
    "print(X_train.shape, X_test.shape)\n",
    "y1_train, y1_test = y1_train.values, y1_test.values"
   ]
  },
  {
   "cell_type": "code",
   "execution_count": 11,
   "metadata": {
    "scrolled": true
   },
   "outputs": [
    {
     "name": "stdout",
     "output_type": "stream",
     "text": [
      "Testing for method <models.easyXGB object at 0x7ff6a6ea8940> with param.s {'reg_alpha': 0.1, 'eta': 0.7, 'max_depth': 8, 'subsample': 1.0}... Be patient! ;)\n",
      "Testing for method <models.easyXGB object at 0x7ff6a6ea8940> with param.s {'reg_alpha': 0.1, 'eta': 0.7333333333333333, 'max_depth': 8, 'subsample': 1.0}... Be patient! ;)\n",
      "Testing for method <models.easyXGB object at 0x7ff6a6ea8940> with param.s {'reg_alpha': 0.1, 'eta': 0.7666666666666666, 'max_depth': 8, 'subsample': 1.0}... Be patient! ;)\n",
      "Testing for method <models.easyXGB object at 0x7ff6a6ea8940> with param.s {'reg_alpha': 0.1, 'eta': 0.7999999999999999, 'max_depth': 8, 'subsample': 1.0}... Be patient! ;)\n",
      "Testing for method <models.easyXGB object at 0x7ff6a6ea8940> with param.s {'reg_alpha': 0.1, 'eta': 0.8333333333333333, 'max_depth': 8, 'subsample': 1.0}... Be patient! ;)\n",
      "Testing for method <models.easyXGB object at 0x7ff6a6ea8940> with param.s {'reg_alpha': 0.1, 'eta': 0.8666666666666667, 'max_depth': 8, 'subsample': 1.0}... Be patient! ;)\n",
      "Testing for method <models.easyXGB object at 0x7ff6a6ea8940> with param.s {'reg_alpha': 0.1, 'eta': 0.9, 'max_depth': 8, 'subsample': 1.0}... Be patient! ;)\n",
      "Testing for method <models.easyXGB object at 0x7ff6a6ea8940> with param.s {'reg_alpha': 0.1, 'eta': 0.9333333333333333, 'max_depth': 8, 'subsample': 1.0}... Be patient! ;)\n",
      "Testing for method <models.easyXGB object at 0x7ff6a6ea8940> with param.s {'reg_alpha': 0.1, 'eta': 0.9666666666666667, 'max_depth': 8, 'subsample': 1.0}... Be patient! ;)\n",
      "Testing for method <models.easyXGB object at 0x7ff6a6ea8940> with param.s {'reg_alpha': 0.1, 'eta': 1.0, 'max_depth': 8, 'subsample': 1.0}... Be patient! ;)\n",
      "Testing for method <models.easyXGB object at 0x7ff6a6ea8940> with param.s {'reg_alpha': 0.1, 'eta': 0.7, 'max_depth': 9, 'subsample': 1.0}... Be patient! ;)\n",
      "Testing for method <models.easyXGB object at 0x7ff6a6ea8940> with param.s {'reg_alpha': 0.1, 'eta': 0.7333333333333333, 'max_depth': 9, 'subsample': 1.0}... Be patient! ;)\n",
      "Testing for method <models.easyXGB object at 0x7ff6a6ea8940> with param.s {'reg_alpha': 0.1, 'eta': 0.7666666666666666, 'max_depth': 9, 'subsample': 1.0}... Be patient! ;)\n",
      "Testing for method <models.easyXGB object at 0x7ff6a6ea8940> with param.s {'reg_alpha': 0.1, 'eta': 0.7999999999999999, 'max_depth': 9, 'subsample': 1.0}... Be patient! ;)\n",
      "Testing for method <models.easyXGB object at 0x7ff6a6ea8940> with param.s {'reg_alpha': 0.1, 'eta': 0.8333333333333333, 'max_depth': 9, 'subsample': 1.0}... Be patient! ;)\n",
      "Testing for method <models.easyXGB object at 0x7ff6a6ea8940> with param.s {'reg_alpha': 0.1, 'eta': 0.8666666666666667, 'max_depth': 9, 'subsample': 1.0}... Be patient! ;)\n",
      "Testing for method <models.easyXGB object at 0x7ff6a6ea8940> with param.s {'reg_alpha': 0.1, 'eta': 0.9, 'max_depth': 9, 'subsample': 1.0}... Be patient! ;)\n",
      "Testing for method <models.easyXGB object at 0x7ff6a6ea8940> with param.s {'reg_alpha': 0.1, 'eta': 0.9333333333333333, 'max_depth': 9, 'subsample': 1.0}... Be patient! ;)\n",
      "Testing for method <models.easyXGB object at 0x7ff6a6ea8940> with param.s {'reg_alpha': 0.1, 'eta': 0.9666666666666667, 'max_depth': 9, 'subsample': 1.0}... Be patient! ;)\n",
      "Testing for method <models.easyXGB object at 0x7ff6a6ea8940> with param.s {'reg_alpha': 0.1, 'eta': 1.0, 'max_depth': 9, 'subsample': 1.0}... Be patient! ;)\n",
      "Testing for method <models.easyXGB object at 0x7ff6a6ea8940> with param.s {'reg_alpha': 0.1, 'eta': 0.7, 'max_depth': 10, 'subsample': 1.0}... Be patient! ;)\n",
      "Testing for method <models.easyXGB object at 0x7ff6a6ea8940> with param.s {'reg_alpha': 0.1, 'eta': 0.7333333333333333, 'max_depth': 10, 'subsample': 1.0}... Be patient! ;)\n",
      "Testing for method <models.easyXGB object at 0x7ff6a6ea8940> with param.s {'reg_alpha': 0.1, 'eta': 0.7666666666666666, 'max_depth': 10, 'subsample': 1.0}... Be patient! ;)\n",
      "Testing for method <models.easyXGB object at 0x7ff6a6ea8940> with param.s {'reg_alpha': 0.1, 'eta': 0.7999999999999999, 'max_depth': 10, 'subsample': 1.0}... Be patient! ;)\n",
      "Testing for method <models.easyXGB object at 0x7ff6a6ea8940> with param.s {'reg_alpha': 0.1, 'eta': 0.8333333333333333, 'max_depth': 10, 'subsample': 1.0}... Be patient! ;)\n",
      "Testing for method <models.easyXGB object at 0x7ff6a6ea8940> with param.s {'reg_alpha': 0.1, 'eta': 0.8666666666666667, 'max_depth': 10, 'subsample': 1.0}... Be patient! ;)\n",
      "Testing for method <models.easyXGB object at 0x7ff6a6ea8940> with param.s {'reg_alpha': 0.1, 'eta': 0.9, 'max_depth': 10, 'subsample': 1.0}... Be patient! ;)\n",
      "Testing for method <models.easyXGB object at 0x7ff6a6ea8940> with param.s {'reg_alpha': 0.1, 'eta': 0.9333333333333333, 'max_depth': 10, 'subsample': 1.0}... Be patient! ;)\n",
      "Testing for method <models.easyXGB object at 0x7ff6a6ea8940> with param.s {'reg_alpha': 0.1, 'eta': 0.9666666666666667, 'max_depth': 10, 'subsample': 1.0}... Be patient! ;)\n",
      "Testing for method <models.easyXGB object at 0x7ff6a6ea8940> with param.s {'reg_alpha': 0.1, 'eta': 1.0, 'max_depth': 10, 'subsample': 1.0}... Be patient! ;)\n",
      "Testing for method <models.easyXGB object at 0x7ff6a6ea8940> with param.s {'reg_alpha': 0.1, 'eta': 0.7, 'max_depth': 11, 'subsample': 1.0}... Be patient! ;)\n",
      "Testing for method <models.easyXGB object at 0x7ff6a6ea8940> with param.s {'reg_alpha': 0.1, 'eta': 0.7333333333333333, 'max_depth': 11, 'subsample': 1.0}... Be patient! ;)\n",
      "Testing for method <models.easyXGB object at 0x7ff6a6ea8940> with param.s {'reg_alpha': 0.1, 'eta': 0.7666666666666666, 'max_depth': 11, 'subsample': 1.0}... Be patient! ;)\n",
      "Testing for method <models.easyXGB object at 0x7ff6a6ea8940> with param.s {'reg_alpha': 0.1, 'eta': 0.7999999999999999, 'max_depth': 11, 'subsample': 1.0}... Be patient! ;)\n",
      "Testing for method <models.easyXGB object at 0x7ff6a6ea8940> with param.s {'reg_alpha': 0.1, 'eta': 0.8333333333333333, 'max_depth': 11, 'subsample': 1.0}... Be patient! ;)\n",
      "Testing for method <models.easyXGB object at 0x7ff6a6ea8940> with param.s {'reg_alpha': 0.1, 'eta': 0.8666666666666667, 'max_depth': 11, 'subsample': 1.0}... Be patient! ;)\n",
      "Testing for method <models.easyXGB object at 0x7ff6a6ea8940> with param.s {'reg_alpha': 0.1, 'eta': 0.9, 'max_depth': 11, 'subsample': 1.0}... Be patient! ;)\n",
      "Testing for method <models.easyXGB object at 0x7ff6a6ea8940> with param.s {'reg_alpha': 0.1, 'eta': 0.9333333333333333, 'max_depth': 11, 'subsample': 1.0}... Be patient! ;)\n",
      "Testing for method <models.easyXGB object at 0x7ff6a6ea8940> with param.s {'reg_alpha': 0.1, 'eta': 0.9666666666666667, 'max_depth': 11, 'subsample': 1.0}... Be patient! ;)\n",
      "Testing for method <models.easyXGB object at 0x7ff6a6ea8940> with param.s {'reg_alpha': 0.1, 'eta': 1.0, 'max_depth': 11, 'subsample': 1.0}... Be patient! ;)\n",
      "Testing for method <models.easyXGB object at 0x7ff6a6ea8940> with param.s {'reg_alpha': 0.1473684210526316, 'eta': 0.7, 'max_depth': 8, 'subsample': 1.0}... Be patient! ;)\n",
      "Testing for method <models.easyXGB object at 0x7ff6a6ea8940> with param.s {'reg_alpha': 0.1473684210526316, 'eta': 0.7333333333333333, 'max_depth': 8, 'subsample': 1.0}... Be patient! ;)\n",
      "Testing for method <models.easyXGB object at 0x7ff6a6ea8940> with param.s {'reg_alpha': 0.1473684210526316, 'eta': 0.7666666666666666, 'max_depth': 8, 'subsample': 1.0}... Be patient! ;)\n",
      "Testing for method <models.easyXGB object at 0x7ff6a6ea8940> with param.s {'reg_alpha': 0.1473684210526316, 'eta': 0.7999999999999999, 'max_depth': 8, 'subsample': 1.0}... Be patient! ;)\n",
      "Testing for method <models.easyXGB object at 0x7ff6a6ea8940> with param.s {'reg_alpha': 0.1473684210526316, 'eta': 0.8333333333333333, 'max_depth': 8, 'subsample': 1.0}... Be patient! ;)\n",
      "Testing for method <models.easyXGB object at 0x7ff6a6ea8940> with param.s {'reg_alpha': 0.1473684210526316, 'eta': 0.8666666666666667, 'max_depth': 8, 'subsample': 1.0}... Be patient! ;)\n",
      "Testing for method <models.easyXGB object at 0x7ff6a6ea8940> with param.s {'reg_alpha': 0.1473684210526316, 'eta': 0.9, 'max_depth': 8, 'subsample': 1.0}... Be patient! ;)\n",
      "Testing for method <models.easyXGB object at 0x7ff6a6ea8940> with param.s {'reg_alpha': 0.1473684210526316, 'eta': 0.9333333333333333, 'max_depth': 8, 'subsample': 1.0}... Be patient! ;)\n",
      "Testing for method <models.easyXGB object at 0x7ff6a6ea8940> with param.s {'reg_alpha': 0.1473684210526316, 'eta': 0.9666666666666667, 'max_depth': 8, 'subsample': 1.0}... Be patient! ;)\n"
     ]
    },
    {
     "name": "stdout",
     "output_type": "stream",
     "text": [
      "Testing for method <models.easyXGB object at 0x7ff6a6ea8940> with param.s {'reg_alpha': 0.1473684210526316, 'eta': 1.0, 'max_depth': 8, 'subsample': 1.0}... Be patient! ;)\n",
      "Testing for method <models.easyXGB object at 0x7ff6a6ea8940> with param.s {'reg_alpha': 0.1473684210526316, 'eta': 0.7, 'max_depth': 9, 'subsample': 1.0}... Be patient! ;)\n",
      "Testing for method <models.easyXGB object at 0x7ff6a6ea8940> with param.s {'reg_alpha': 0.1473684210526316, 'eta': 0.7333333333333333, 'max_depth': 9, 'subsample': 1.0}... Be patient! ;)\n",
      "Testing for method <models.easyXGB object at 0x7ff6a6ea8940> with param.s {'reg_alpha': 0.1473684210526316, 'eta': 0.7666666666666666, 'max_depth': 9, 'subsample': 1.0}... Be patient! ;)\n",
      "Testing for method <models.easyXGB object at 0x7ff6a6ea8940> with param.s {'reg_alpha': 0.1473684210526316, 'eta': 0.7999999999999999, 'max_depth': 9, 'subsample': 1.0}... Be patient! ;)\n",
      "Testing for method <models.easyXGB object at 0x7ff6a6ea8940> with param.s {'reg_alpha': 0.1473684210526316, 'eta': 0.8333333333333333, 'max_depth': 9, 'subsample': 1.0}... Be patient! ;)\n",
      "Testing for method <models.easyXGB object at 0x7ff6a6ea8940> with param.s {'reg_alpha': 0.1473684210526316, 'eta': 0.8666666666666667, 'max_depth': 9, 'subsample': 1.0}... Be patient! ;)\n",
      "Testing for method <models.easyXGB object at 0x7ff6a6ea8940> with param.s {'reg_alpha': 0.1473684210526316, 'eta': 0.9, 'max_depth': 9, 'subsample': 1.0}... Be patient! ;)\n",
      "Testing for method <models.easyXGB object at 0x7ff6a6ea8940> with param.s {'reg_alpha': 0.1473684210526316, 'eta': 0.9333333333333333, 'max_depth': 9, 'subsample': 1.0}... Be patient! ;)\n",
      "Testing for method <models.easyXGB object at 0x7ff6a6ea8940> with param.s {'reg_alpha': 0.1473684210526316, 'eta': 0.9666666666666667, 'max_depth': 9, 'subsample': 1.0}... Be patient! ;)\n",
      "Testing for method <models.easyXGB object at 0x7ff6a6ea8940> with param.s {'reg_alpha': 0.1473684210526316, 'eta': 1.0, 'max_depth': 9, 'subsample': 1.0}... Be patient! ;)\n",
      "Testing for method <models.easyXGB object at 0x7ff6a6ea8940> with param.s {'reg_alpha': 0.1473684210526316, 'eta': 0.7, 'max_depth': 10, 'subsample': 1.0}... Be patient! ;)\n",
      "Testing for method <models.easyXGB object at 0x7ff6a6ea8940> with param.s {'reg_alpha': 0.1473684210526316, 'eta': 0.7333333333333333, 'max_depth': 10, 'subsample': 1.0}... Be patient! ;)\n",
      "Testing for method <models.easyXGB object at 0x7ff6a6ea8940> with param.s {'reg_alpha': 0.1473684210526316, 'eta': 0.7666666666666666, 'max_depth': 10, 'subsample': 1.0}... Be patient! ;)\n",
      "Testing for method <models.easyXGB object at 0x7ff6a6ea8940> with param.s {'reg_alpha': 0.1473684210526316, 'eta': 0.7999999999999999, 'max_depth': 10, 'subsample': 1.0}... Be patient! ;)\n",
      "Testing for method <models.easyXGB object at 0x7ff6a6ea8940> with param.s {'reg_alpha': 0.1473684210526316, 'eta': 0.8333333333333333, 'max_depth': 10, 'subsample': 1.0}... Be patient! ;)\n",
      "Testing for method <models.easyXGB object at 0x7ff6a6ea8940> with param.s {'reg_alpha': 0.1473684210526316, 'eta': 0.8666666666666667, 'max_depth': 10, 'subsample': 1.0}... Be patient! ;)\n",
      "Testing for method <models.easyXGB object at 0x7ff6a6ea8940> with param.s {'reg_alpha': 0.1473684210526316, 'eta': 0.9, 'max_depth': 10, 'subsample': 1.0}... Be patient! ;)\n",
      "Testing for method <models.easyXGB object at 0x7ff6a6ea8940> with param.s {'reg_alpha': 0.1473684210526316, 'eta': 0.9333333333333333, 'max_depth': 10, 'subsample': 1.0}... Be patient! ;)\n",
      "Testing for method <models.easyXGB object at 0x7ff6a6ea8940> with param.s {'reg_alpha': 0.1473684210526316, 'eta': 0.9666666666666667, 'max_depth': 10, 'subsample': 1.0}... Be patient! ;)\n",
      "Testing for method <models.easyXGB object at 0x7ff6a6ea8940> with param.s {'reg_alpha': 0.1473684210526316, 'eta': 1.0, 'max_depth': 10, 'subsample': 1.0}... Be patient! ;)\n",
      "Testing for method <models.easyXGB object at 0x7ff6a6ea8940> with param.s {'reg_alpha': 0.1473684210526316, 'eta': 0.7, 'max_depth': 11, 'subsample': 1.0}... Be patient! ;)\n",
      "Testing for method <models.easyXGB object at 0x7ff6a6ea8940> with param.s {'reg_alpha': 0.1473684210526316, 'eta': 0.7333333333333333, 'max_depth': 11, 'subsample': 1.0}... Be patient! ;)\n",
      "Testing for method <models.easyXGB object at 0x7ff6a6ea8940> with param.s {'reg_alpha': 0.1473684210526316, 'eta': 0.7666666666666666, 'max_depth': 11, 'subsample': 1.0}... Be patient! ;)\n",
      "Testing for method <models.easyXGB object at 0x7ff6a6ea8940> with param.s {'reg_alpha': 0.1473684210526316, 'eta': 0.7999999999999999, 'max_depth': 11, 'subsample': 1.0}... Be patient! ;)\n",
      "Testing for method <models.easyXGB object at 0x7ff6a6ea8940> with param.s {'reg_alpha': 0.1473684210526316, 'eta': 0.8333333333333333, 'max_depth': 11, 'subsample': 1.0}... Be patient! ;)\n",
      "Testing for method <models.easyXGB object at 0x7ff6a6ea8940> with param.s {'reg_alpha': 0.1473684210526316, 'eta': 0.8666666666666667, 'max_depth': 11, 'subsample': 1.0}... Be patient! ;)\n",
      "Testing for method <models.easyXGB object at 0x7ff6a6ea8940> with param.s {'reg_alpha': 0.1473684210526316, 'eta': 0.9, 'max_depth': 11, 'subsample': 1.0}... Be patient! ;)\n",
      "Testing for method <models.easyXGB object at 0x7ff6a6ea8940> with param.s {'reg_alpha': 0.1473684210526316, 'eta': 0.9333333333333333, 'max_depth': 11, 'subsample': 1.0}... Be patient! ;)\n",
      "Testing for method <models.easyXGB object at 0x7ff6a6ea8940> with param.s {'reg_alpha': 0.1473684210526316, 'eta': 0.9666666666666667, 'max_depth': 11, 'subsample': 1.0}... Be patient! ;)\n",
      "Testing for method <models.easyXGB object at 0x7ff6a6ea8940> with param.s {'reg_alpha': 0.1473684210526316, 'eta': 1.0, 'max_depth': 11, 'subsample': 1.0}... Be patient! ;)\n",
      "Testing for method <models.easyXGB object at 0x7ff6a6ea8940> with param.s {'reg_alpha': 0.19473684210526315, 'eta': 0.7, 'max_depth': 8, 'subsample': 1.0}... Be patient! ;)\n",
      "Testing for method <models.easyXGB object at 0x7ff6a6ea8940> with param.s {'reg_alpha': 0.19473684210526315, 'eta': 0.7333333333333333, 'max_depth': 8, 'subsample': 1.0}... Be patient! ;)\n",
      "Testing for method <models.easyXGB object at 0x7ff6a6ea8940> with param.s {'reg_alpha': 0.19473684210526315, 'eta': 0.7666666666666666, 'max_depth': 8, 'subsample': 1.0}... Be patient! ;)\n",
      "Testing for method <models.easyXGB object at 0x7ff6a6ea8940> with param.s {'reg_alpha': 0.19473684210526315, 'eta': 0.7999999999999999, 'max_depth': 8, 'subsample': 1.0}... Be patient! ;)\n",
      "Testing for method <models.easyXGB object at 0x7ff6a6ea8940> with param.s {'reg_alpha': 0.19473684210526315, 'eta': 0.8333333333333333, 'max_depth': 8, 'subsample': 1.0}... Be patient! ;)\n",
      "Testing for method <models.easyXGB object at 0x7ff6a6ea8940> with param.s {'reg_alpha': 0.19473684210526315, 'eta': 0.8666666666666667, 'max_depth': 8, 'subsample': 1.0}... Be patient! ;)\n",
      "Testing for method <models.easyXGB object at 0x7ff6a6ea8940> with param.s {'reg_alpha': 0.19473684210526315, 'eta': 0.9, 'max_depth': 8, 'subsample': 1.0}... Be patient! ;)\n",
      "Testing for method <models.easyXGB object at 0x7ff6a6ea8940> with param.s {'reg_alpha': 0.19473684210526315, 'eta': 0.9333333333333333, 'max_depth': 8, 'subsample': 1.0}... Be patient! ;)\n",
      "Testing for method <models.easyXGB object at 0x7ff6a6ea8940> with param.s {'reg_alpha': 0.19473684210526315, 'eta': 0.9666666666666667, 'max_depth': 8, 'subsample': 1.0}... Be patient! ;)\n",
      "Testing for method <models.easyXGB object at 0x7ff6a6ea8940> with param.s {'reg_alpha': 0.19473684210526315, 'eta': 1.0, 'max_depth': 8, 'subsample': 1.0}... Be patient! ;)\n",
      "Testing for method <models.easyXGB object at 0x7ff6a6ea8940> with param.s {'reg_alpha': 0.19473684210526315, 'eta': 0.7, 'max_depth': 9, 'subsample': 1.0}... Be patient! ;)\n",
      "Testing for method <models.easyXGB object at 0x7ff6a6ea8940> with param.s {'reg_alpha': 0.19473684210526315, 'eta': 0.7333333333333333, 'max_depth': 9, 'subsample': 1.0}... Be patient! ;)\n",
      "Testing for method <models.easyXGB object at 0x7ff6a6ea8940> with param.s {'reg_alpha': 0.19473684210526315, 'eta': 0.7666666666666666, 'max_depth': 9, 'subsample': 1.0}... Be patient! ;)\n",
      "Testing for method <models.easyXGB object at 0x7ff6a6ea8940> with param.s {'reg_alpha': 0.19473684210526315, 'eta': 0.7999999999999999, 'max_depth': 9, 'subsample': 1.0}... Be patient! ;)\n"
     ]
    },
    {
     "name": "stdout",
     "output_type": "stream",
     "text": [
      "Testing for method <models.easyXGB object at 0x7ff6a6ea8940> with param.s {'reg_alpha': 0.19473684210526315, 'eta': 0.8333333333333333, 'max_depth': 9, 'subsample': 1.0}... Be patient! ;)\n",
      "Testing for method <models.easyXGB object at 0x7ff6a6ea8940> with param.s {'reg_alpha': 0.19473684210526315, 'eta': 0.8666666666666667, 'max_depth': 9, 'subsample': 1.0}... Be patient! ;)\n",
      "Testing for method <models.easyXGB object at 0x7ff6a6ea8940> with param.s {'reg_alpha': 0.19473684210526315, 'eta': 0.9, 'max_depth': 9, 'subsample': 1.0}... Be patient! ;)\n",
      "Testing for method <models.easyXGB object at 0x7ff6a6ea8940> with param.s {'reg_alpha': 0.19473684210526315, 'eta': 0.9333333333333333, 'max_depth': 9, 'subsample': 1.0}... Be patient! ;)\n",
      "Testing for method <models.easyXGB object at 0x7ff6a6ea8940> with param.s {'reg_alpha': 0.19473684210526315, 'eta': 0.9666666666666667, 'max_depth': 9, 'subsample': 1.0}... Be patient! ;)\n",
      "Testing for method <models.easyXGB object at 0x7ff6a6ea8940> with param.s {'reg_alpha': 0.19473684210526315, 'eta': 1.0, 'max_depth': 9, 'subsample': 1.0}... Be patient! ;)\n",
      "Testing for method <models.easyXGB object at 0x7ff6a6ea8940> with param.s {'reg_alpha': 0.19473684210526315, 'eta': 0.7, 'max_depth': 10, 'subsample': 1.0}... Be patient! ;)\n",
      "Testing for method <models.easyXGB object at 0x7ff6a6ea8940> with param.s {'reg_alpha': 0.19473684210526315, 'eta': 0.7333333333333333, 'max_depth': 10, 'subsample': 1.0}... Be patient! ;)\n",
      "Testing for method <models.easyXGB object at 0x7ff6a6ea8940> with param.s {'reg_alpha': 0.19473684210526315, 'eta': 0.7666666666666666, 'max_depth': 10, 'subsample': 1.0}... Be patient! ;)\n",
      "Testing for method <models.easyXGB object at 0x7ff6a6ea8940> with param.s {'reg_alpha': 0.19473684210526315, 'eta': 0.7999999999999999, 'max_depth': 10, 'subsample': 1.0}... Be patient! ;)\n",
      "Testing for method <models.easyXGB object at 0x7ff6a6ea8940> with param.s {'reg_alpha': 0.19473684210526315, 'eta': 0.8333333333333333, 'max_depth': 10, 'subsample': 1.0}... Be patient! ;)\n",
      "Testing for method <models.easyXGB object at 0x7ff6a6ea8940> with param.s {'reg_alpha': 0.19473684210526315, 'eta': 0.8666666666666667, 'max_depth': 10, 'subsample': 1.0}... Be patient! ;)\n",
      "Testing for method <models.easyXGB object at 0x7ff6a6ea8940> with param.s {'reg_alpha': 0.19473684210526315, 'eta': 0.9, 'max_depth': 10, 'subsample': 1.0}... Be patient! ;)\n",
      "Testing for method <models.easyXGB object at 0x7ff6a6ea8940> with param.s {'reg_alpha': 0.19473684210526315, 'eta': 0.9333333333333333, 'max_depth': 10, 'subsample': 1.0}... Be patient! ;)\n",
      "Testing for method <models.easyXGB object at 0x7ff6a6ea8940> with param.s {'reg_alpha': 0.19473684210526315, 'eta': 0.9666666666666667, 'max_depth': 10, 'subsample': 1.0}... Be patient! ;)\n",
      "Testing for method <models.easyXGB object at 0x7ff6a6ea8940> with param.s {'reg_alpha': 0.19473684210526315, 'eta': 1.0, 'max_depth': 10, 'subsample': 1.0}... Be patient! ;)\n",
      "Testing for method <models.easyXGB object at 0x7ff6a6ea8940> with param.s {'reg_alpha': 0.19473684210526315, 'eta': 0.7, 'max_depth': 11, 'subsample': 1.0}... Be patient! ;)\n",
      "Testing for method <models.easyXGB object at 0x7ff6a6ea8940> with param.s {'reg_alpha': 0.19473684210526315, 'eta': 0.7333333333333333, 'max_depth': 11, 'subsample': 1.0}... Be patient! ;)\n",
      "Testing for method <models.easyXGB object at 0x7ff6a6ea8940> with param.s {'reg_alpha': 0.19473684210526315, 'eta': 0.7666666666666666, 'max_depth': 11, 'subsample': 1.0}... Be patient! ;)\n",
      "Testing for method <models.easyXGB object at 0x7ff6a6ea8940> with param.s {'reg_alpha': 0.19473684210526315, 'eta': 0.7999999999999999, 'max_depth': 11, 'subsample': 1.0}... Be patient! ;)\n",
      "Testing for method <models.easyXGB object at 0x7ff6a6ea8940> with param.s {'reg_alpha': 0.19473684210526315, 'eta': 0.8333333333333333, 'max_depth': 11, 'subsample': 1.0}... Be patient! ;)\n",
      "Testing for method <models.easyXGB object at 0x7ff6a6ea8940> with param.s {'reg_alpha': 0.19473684210526315, 'eta': 0.8666666666666667, 'max_depth': 11, 'subsample': 1.0}... Be patient! ;)\n",
      "Testing for method <models.easyXGB object at 0x7ff6a6ea8940> with param.s {'reg_alpha': 0.19473684210526315, 'eta': 0.9, 'max_depth': 11, 'subsample': 1.0}... Be patient! ;)\n",
      "Testing for method <models.easyXGB object at 0x7ff6a6ea8940> with param.s {'reg_alpha': 0.19473684210526315, 'eta': 0.9333333333333333, 'max_depth': 11, 'subsample': 1.0}... Be patient! ;)\n",
      "Testing for method <models.easyXGB object at 0x7ff6a6ea8940> with param.s {'reg_alpha': 0.19473684210526315, 'eta': 0.9666666666666667, 'max_depth': 11, 'subsample': 1.0}... Be patient! ;)\n",
      "Testing for method <models.easyXGB object at 0x7ff6a6ea8940> with param.s {'reg_alpha': 0.19473684210526315, 'eta': 1.0, 'max_depth': 11, 'subsample': 1.0}... Be patient! ;)\n",
      "Testing for method <models.easyXGB object at 0x7ff6a6ea8940> with param.s {'reg_alpha': 0.24210526315789474, 'eta': 0.7, 'max_depth': 8, 'subsample': 1.0}... Be patient! ;)\n",
      "Testing for method <models.easyXGB object at 0x7ff6a6ea8940> with param.s {'reg_alpha': 0.24210526315789474, 'eta': 0.7333333333333333, 'max_depth': 8, 'subsample': 1.0}... Be patient! ;)\n",
      "Testing for method <models.easyXGB object at 0x7ff6a6ea8940> with param.s {'reg_alpha': 0.24210526315789474, 'eta': 0.7666666666666666, 'max_depth': 8, 'subsample': 1.0}... Be patient! ;)\n",
      "Testing for method <models.easyXGB object at 0x7ff6a6ea8940> with param.s {'reg_alpha': 0.24210526315789474, 'eta': 0.7999999999999999, 'max_depth': 8, 'subsample': 1.0}... Be patient! ;)\n",
      "Testing for method <models.easyXGB object at 0x7ff6a6ea8940> with param.s {'reg_alpha': 0.24210526315789474, 'eta': 0.8333333333333333, 'max_depth': 8, 'subsample': 1.0}... Be patient! ;)\n",
      "Testing for method <models.easyXGB object at 0x7ff6a6ea8940> with param.s {'reg_alpha': 0.24210526315789474, 'eta': 0.8666666666666667, 'max_depth': 8, 'subsample': 1.0}... Be patient! ;)\n",
      "Testing for method <models.easyXGB object at 0x7ff6a6ea8940> with param.s {'reg_alpha': 0.24210526315789474, 'eta': 0.9, 'max_depth': 8, 'subsample': 1.0}... Be patient! ;)\n",
      "Testing for method <models.easyXGB object at 0x7ff6a6ea8940> with param.s {'reg_alpha': 0.24210526315789474, 'eta': 0.9333333333333333, 'max_depth': 8, 'subsample': 1.0}... Be patient! ;)\n",
      "Testing for method <models.easyXGB object at 0x7ff6a6ea8940> with param.s {'reg_alpha': 0.24210526315789474, 'eta': 0.9666666666666667, 'max_depth': 8, 'subsample': 1.0}... Be patient! ;)\n",
      "Testing for method <models.easyXGB object at 0x7ff6a6ea8940> with param.s {'reg_alpha': 0.24210526315789474, 'eta': 1.0, 'max_depth': 8, 'subsample': 1.0}... Be patient! ;)\n",
      "Testing for method <models.easyXGB object at 0x7ff6a6ea8940> with param.s {'reg_alpha': 0.24210526315789474, 'eta': 0.7, 'max_depth': 9, 'subsample': 1.0}... Be patient! ;)\n",
      "Testing for method <models.easyXGB object at 0x7ff6a6ea8940> with param.s {'reg_alpha': 0.24210526315789474, 'eta': 0.7333333333333333, 'max_depth': 9, 'subsample': 1.0}... Be patient! ;)\n",
      "Testing for method <models.easyXGB object at 0x7ff6a6ea8940> with param.s {'reg_alpha': 0.24210526315789474, 'eta': 0.7666666666666666, 'max_depth': 9, 'subsample': 1.0}... Be patient! ;)\n",
      "Testing for method <models.easyXGB object at 0x7ff6a6ea8940> with param.s {'reg_alpha': 0.24210526315789474, 'eta': 0.7999999999999999, 'max_depth': 9, 'subsample': 1.0}... Be patient! ;)\n",
      "Testing for method <models.easyXGB object at 0x7ff6a6ea8940> with param.s {'reg_alpha': 0.24210526315789474, 'eta': 0.8333333333333333, 'max_depth': 9, 'subsample': 1.0}... Be patient! ;)\n",
      "Testing for method <models.easyXGB object at 0x7ff6a6ea8940> with param.s {'reg_alpha': 0.24210526315789474, 'eta': 0.8666666666666667, 'max_depth': 9, 'subsample': 1.0}... Be patient! ;)\n",
      "Testing for method <models.easyXGB object at 0x7ff6a6ea8940> with param.s {'reg_alpha': 0.24210526315789474, 'eta': 0.9, 'max_depth': 9, 'subsample': 1.0}... Be patient! ;)\n",
      "Testing for method <models.easyXGB object at 0x7ff6a6ea8940> with param.s {'reg_alpha': 0.24210526315789474, 'eta': 0.9333333333333333, 'max_depth': 9, 'subsample': 1.0}... Be patient! ;)\n",
      "Testing for method <models.easyXGB object at 0x7ff6a6ea8940> with param.s {'reg_alpha': 0.24210526315789474, 'eta': 0.9666666666666667, 'max_depth': 9, 'subsample': 1.0}... Be patient! ;)\n"
     ]
    },
    {
     "name": "stdout",
     "output_type": "stream",
     "text": [
      "Testing for method <models.easyXGB object at 0x7ff6a6ea8940> with param.s {'reg_alpha': 0.24210526315789474, 'eta': 1.0, 'max_depth': 9, 'subsample': 1.0}... Be patient! ;)\n",
      "Testing for method <models.easyXGB object at 0x7ff6a6ea8940> with param.s {'reg_alpha': 0.24210526315789474, 'eta': 0.7, 'max_depth': 10, 'subsample': 1.0}... Be patient! ;)\n",
      "Testing for method <models.easyXGB object at 0x7ff6a6ea8940> with param.s {'reg_alpha': 0.24210526315789474, 'eta': 0.7333333333333333, 'max_depth': 10, 'subsample': 1.0}... Be patient! ;)\n",
      "Testing for method <models.easyXGB object at 0x7ff6a6ea8940> with param.s {'reg_alpha': 0.24210526315789474, 'eta': 0.7666666666666666, 'max_depth': 10, 'subsample': 1.0}... Be patient! ;)\n",
      "Testing for method <models.easyXGB object at 0x7ff6a6ea8940> with param.s {'reg_alpha': 0.24210526315789474, 'eta': 0.7999999999999999, 'max_depth': 10, 'subsample': 1.0}... Be patient! ;)\n",
      "Testing for method <models.easyXGB object at 0x7ff6a6ea8940> with param.s {'reg_alpha': 0.24210526315789474, 'eta': 0.8333333333333333, 'max_depth': 10, 'subsample': 1.0}... Be patient! ;)\n",
      "Testing for method <models.easyXGB object at 0x7ff6a6ea8940> with param.s {'reg_alpha': 0.24210526315789474, 'eta': 0.8666666666666667, 'max_depth': 10, 'subsample': 1.0}... Be patient! ;)\n",
      "Testing for method <models.easyXGB object at 0x7ff6a6ea8940> with param.s {'reg_alpha': 0.24210526315789474, 'eta': 0.9, 'max_depth': 10, 'subsample': 1.0}... Be patient! ;)\n",
      "Testing for method <models.easyXGB object at 0x7ff6a6ea8940> with param.s {'reg_alpha': 0.24210526315789474, 'eta': 0.9333333333333333, 'max_depth': 10, 'subsample': 1.0}... Be patient! ;)\n",
      "Testing for method <models.easyXGB object at 0x7ff6a6ea8940> with param.s {'reg_alpha': 0.24210526315789474, 'eta': 0.9666666666666667, 'max_depth': 10, 'subsample': 1.0}... Be patient! ;)\n",
      "Testing for method <models.easyXGB object at 0x7ff6a6ea8940> with param.s {'reg_alpha': 0.24210526315789474, 'eta': 1.0, 'max_depth': 10, 'subsample': 1.0}... Be patient! ;)\n",
      "Testing for method <models.easyXGB object at 0x7ff6a6ea8940> with param.s {'reg_alpha': 0.24210526315789474, 'eta': 0.7, 'max_depth': 11, 'subsample': 1.0}... Be patient! ;)\n",
      "Testing for method <models.easyXGB object at 0x7ff6a6ea8940> with param.s {'reg_alpha': 0.24210526315789474, 'eta': 0.7333333333333333, 'max_depth': 11, 'subsample': 1.0}... Be patient! ;)\n",
      "Testing for method <models.easyXGB object at 0x7ff6a6ea8940> with param.s {'reg_alpha': 0.24210526315789474, 'eta': 0.7666666666666666, 'max_depth': 11, 'subsample': 1.0}... Be patient! ;)\n",
      "Testing for method <models.easyXGB object at 0x7ff6a6ea8940> with param.s {'reg_alpha': 0.24210526315789474, 'eta': 0.7999999999999999, 'max_depth': 11, 'subsample': 1.0}... Be patient! ;)\n",
      "Testing for method <models.easyXGB object at 0x7ff6a6ea8940> with param.s {'reg_alpha': 0.24210526315789474, 'eta': 0.8333333333333333, 'max_depth': 11, 'subsample': 1.0}... Be patient! ;)\n",
      "Testing for method <models.easyXGB object at 0x7ff6a6ea8940> with param.s {'reg_alpha': 0.24210526315789474, 'eta': 0.8666666666666667, 'max_depth': 11, 'subsample': 1.0}... Be patient! ;)\n",
      "Testing for method <models.easyXGB object at 0x7ff6a6ea8940> with param.s {'reg_alpha': 0.24210526315789474, 'eta': 0.9, 'max_depth': 11, 'subsample': 1.0}... Be patient! ;)\n",
      "Testing for method <models.easyXGB object at 0x7ff6a6ea8940> with param.s {'reg_alpha': 0.24210526315789474, 'eta': 0.9333333333333333, 'max_depth': 11, 'subsample': 1.0}... Be patient! ;)\n",
      "Testing for method <models.easyXGB object at 0x7ff6a6ea8940> with param.s {'reg_alpha': 0.24210526315789474, 'eta': 0.9666666666666667, 'max_depth': 11, 'subsample': 1.0}... Be patient! ;)\n",
      "Testing for method <models.easyXGB object at 0x7ff6a6ea8940> with param.s {'reg_alpha': 0.24210526315789474, 'eta': 1.0, 'max_depth': 11, 'subsample': 1.0}... Be patient! ;)\n",
      "Testing for method <models.easyXGB object at 0x7ff6a6ea8940> with param.s {'reg_alpha': 0.2894736842105263, 'eta': 0.7, 'max_depth': 8, 'subsample': 1.0}... Be patient! ;)\n",
      "Testing for method <models.easyXGB object at 0x7ff6a6ea8940> with param.s {'reg_alpha': 0.2894736842105263, 'eta': 0.7333333333333333, 'max_depth': 8, 'subsample': 1.0}... Be patient! ;)\n",
      "Testing for method <models.easyXGB object at 0x7ff6a6ea8940> with param.s {'reg_alpha': 0.2894736842105263, 'eta': 0.7666666666666666, 'max_depth': 8, 'subsample': 1.0}... Be patient! ;)\n",
      "Testing for method <models.easyXGB object at 0x7ff6a6ea8940> with param.s {'reg_alpha': 0.2894736842105263, 'eta': 0.7999999999999999, 'max_depth': 8, 'subsample': 1.0}... Be patient! ;)\n",
      "Testing for method <models.easyXGB object at 0x7ff6a6ea8940> with param.s {'reg_alpha': 0.2894736842105263, 'eta': 0.8333333333333333, 'max_depth': 8, 'subsample': 1.0}... Be patient! ;)\n",
      "Testing for method <models.easyXGB object at 0x7ff6a6ea8940> with param.s {'reg_alpha': 0.2894736842105263, 'eta': 0.8666666666666667, 'max_depth': 8, 'subsample': 1.0}... Be patient! ;)\n",
      "Testing for method <models.easyXGB object at 0x7ff6a6ea8940> with param.s {'reg_alpha': 0.2894736842105263, 'eta': 0.9, 'max_depth': 8, 'subsample': 1.0}... Be patient! ;)\n",
      "Testing for method <models.easyXGB object at 0x7ff6a6ea8940> with param.s {'reg_alpha': 0.2894736842105263, 'eta': 0.9333333333333333, 'max_depth': 8, 'subsample': 1.0}... Be patient! ;)\n",
      "Testing for method <models.easyXGB object at 0x7ff6a6ea8940> with param.s {'reg_alpha': 0.2894736842105263, 'eta': 0.9666666666666667, 'max_depth': 8, 'subsample': 1.0}... Be patient! ;)\n",
      "Testing for method <models.easyXGB object at 0x7ff6a6ea8940> with param.s {'reg_alpha': 0.2894736842105263, 'eta': 1.0, 'max_depth': 8, 'subsample': 1.0}... Be patient! ;)\n",
      "Testing for method <models.easyXGB object at 0x7ff6a6ea8940> with param.s {'reg_alpha': 0.2894736842105263, 'eta': 0.7, 'max_depth': 9, 'subsample': 1.0}... Be patient! ;)\n",
      "Testing for method <models.easyXGB object at 0x7ff6a6ea8940> with param.s {'reg_alpha': 0.2894736842105263, 'eta': 0.7333333333333333, 'max_depth': 9, 'subsample': 1.0}... Be patient! ;)\n",
      "Testing for method <models.easyXGB object at 0x7ff6a6ea8940> with param.s {'reg_alpha': 0.2894736842105263, 'eta': 0.7666666666666666, 'max_depth': 9, 'subsample': 1.0}... Be patient! ;)\n",
      "Testing for method <models.easyXGB object at 0x7ff6a6ea8940> with param.s {'reg_alpha': 0.2894736842105263, 'eta': 0.7999999999999999, 'max_depth': 9, 'subsample': 1.0}... Be patient! ;)\n",
      "Testing for method <models.easyXGB object at 0x7ff6a6ea8940> with param.s {'reg_alpha': 0.2894736842105263, 'eta': 0.8333333333333333, 'max_depth': 9, 'subsample': 1.0}... Be patient! ;)\n",
      "Testing for method <models.easyXGB object at 0x7ff6a6ea8940> with param.s {'reg_alpha': 0.2894736842105263, 'eta': 0.8666666666666667, 'max_depth': 9, 'subsample': 1.0}... Be patient! ;)\n",
      "Testing for method <models.easyXGB object at 0x7ff6a6ea8940> with param.s {'reg_alpha': 0.2894736842105263, 'eta': 0.9, 'max_depth': 9, 'subsample': 1.0}... Be patient! ;)\n",
      "Testing for method <models.easyXGB object at 0x7ff6a6ea8940> with param.s {'reg_alpha': 0.2894736842105263, 'eta': 0.9333333333333333, 'max_depth': 9, 'subsample': 1.0}... Be patient! ;)\n",
      "Testing for method <models.easyXGB object at 0x7ff6a6ea8940> with param.s {'reg_alpha': 0.2894736842105263, 'eta': 0.9666666666666667, 'max_depth': 9, 'subsample': 1.0}... Be patient! ;)\n",
      "Testing for method <models.easyXGB object at 0x7ff6a6ea8940> with param.s {'reg_alpha': 0.2894736842105263, 'eta': 1.0, 'max_depth': 9, 'subsample': 1.0}... Be patient! ;)\n",
      "Testing for method <models.easyXGB object at 0x7ff6a6ea8940> with param.s {'reg_alpha': 0.2894736842105263, 'eta': 0.7, 'max_depth': 10, 'subsample': 1.0}... Be patient! ;)\n",
      "Testing for method <models.easyXGB object at 0x7ff6a6ea8940> with param.s {'reg_alpha': 0.2894736842105263, 'eta': 0.7333333333333333, 'max_depth': 10, 'subsample': 1.0}... Be patient! ;)\n",
      "Testing for method <models.easyXGB object at 0x7ff6a6ea8940> with param.s {'reg_alpha': 0.2894736842105263, 'eta': 0.7666666666666666, 'max_depth': 10, 'subsample': 1.0}... Be patient! ;)\n",
      "Testing for method <models.easyXGB object at 0x7ff6a6ea8940> with param.s {'reg_alpha': 0.2894736842105263, 'eta': 0.7999999999999999, 'max_depth': 10, 'subsample': 1.0}... Be patient! ;)\n"
     ]
    },
    {
     "name": "stdout",
     "output_type": "stream",
     "text": [
      "Testing for method <models.easyXGB object at 0x7ff6a6ea8940> with param.s {'reg_alpha': 0.2894736842105263, 'eta': 0.8333333333333333, 'max_depth': 10, 'subsample': 1.0}... Be patient! ;)\n",
      "Testing for method <models.easyXGB object at 0x7ff6a6ea8940> with param.s {'reg_alpha': 0.2894736842105263, 'eta': 0.8666666666666667, 'max_depth': 10, 'subsample': 1.0}... Be patient! ;)\n",
      "Testing for method <models.easyXGB object at 0x7ff6a6ea8940> with param.s {'reg_alpha': 0.2894736842105263, 'eta': 0.9, 'max_depth': 10, 'subsample': 1.0}... Be patient! ;)\n",
      "Testing for method <models.easyXGB object at 0x7ff6a6ea8940> with param.s {'reg_alpha': 0.2894736842105263, 'eta': 0.9333333333333333, 'max_depth': 10, 'subsample': 1.0}... Be patient! ;)\n",
      "Testing for method <models.easyXGB object at 0x7ff6a6ea8940> with param.s {'reg_alpha': 0.2894736842105263, 'eta': 0.9666666666666667, 'max_depth': 10, 'subsample': 1.0}... Be patient! ;)\n",
      "Testing for method <models.easyXGB object at 0x7ff6a6ea8940> with param.s {'reg_alpha': 0.2894736842105263, 'eta': 1.0, 'max_depth': 10, 'subsample': 1.0}... Be patient! ;)\n",
      "Testing for method <models.easyXGB object at 0x7ff6a6ea8940> with param.s {'reg_alpha': 0.2894736842105263, 'eta': 0.7, 'max_depth': 11, 'subsample': 1.0}... Be patient! ;)\n",
      "Testing for method <models.easyXGB object at 0x7ff6a6ea8940> with param.s {'reg_alpha': 0.2894736842105263, 'eta': 0.7333333333333333, 'max_depth': 11, 'subsample': 1.0}... Be patient! ;)\n",
      "Testing for method <models.easyXGB object at 0x7ff6a6ea8940> with param.s {'reg_alpha': 0.2894736842105263, 'eta': 0.7666666666666666, 'max_depth': 11, 'subsample': 1.0}... Be patient! ;)\n",
      "Testing for method <models.easyXGB object at 0x7ff6a6ea8940> with param.s {'reg_alpha': 0.2894736842105263, 'eta': 0.7999999999999999, 'max_depth': 11, 'subsample': 1.0}... Be patient! ;)\n",
      "Testing for method <models.easyXGB object at 0x7ff6a6ea8940> with param.s {'reg_alpha': 0.2894736842105263, 'eta': 0.8333333333333333, 'max_depth': 11, 'subsample': 1.0}... Be patient! ;)\n",
      "Testing for method <models.easyXGB object at 0x7ff6a6ea8940> with param.s {'reg_alpha': 0.2894736842105263, 'eta': 0.8666666666666667, 'max_depth': 11, 'subsample': 1.0}... Be patient! ;)\n",
      "Testing for method <models.easyXGB object at 0x7ff6a6ea8940> with param.s {'reg_alpha': 0.2894736842105263, 'eta': 0.9, 'max_depth': 11, 'subsample': 1.0}... Be patient! ;)\n",
      "Testing for method <models.easyXGB object at 0x7ff6a6ea8940> with param.s {'reg_alpha': 0.2894736842105263, 'eta': 0.9333333333333333, 'max_depth': 11, 'subsample': 1.0}... Be patient! ;)\n",
      "Testing for method <models.easyXGB object at 0x7ff6a6ea8940> with param.s {'reg_alpha': 0.2894736842105263, 'eta': 0.9666666666666667, 'max_depth': 11, 'subsample': 1.0}... Be patient! ;)\n",
      "Testing for method <models.easyXGB object at 0x7ff6a6ea8940> with param.s {'reg_alpha': 0.2894736842105263, 'eta': 1.0, 'max_depth': 11, 'subsample': 1.0}... Be patient! ;)\n",
      "Testing for method <models.easyXGB object at 0x7ff6a6ea8940> with param.s {'reg_alpha': 0.33684210526315794, 'eta': 0.7, 'max_depth': 8, 'subsample': 1.0}... Be patient! ;)\n",
      "Testing for method <models.easyXGB object at 0x7ff6a6ea8940> with param.s {'reg_alpha': 0.33684210526315794, 'eta': 0.7333333333333333, 'max_depth': 8, 'subsample': 1.0}... Be patient! ;)\n",
      "Testing for method <models.easyXGB object at 0x7ff6a6ea8940> with param.s {'reg_alpha': 0.33684210526315794, 'eta': 0.7666666666666666, 'max_depth': 8, 'subsample': 1.0}... Be patient! ;)\n",
      "Testing for method <models.easyXGB object at 0x7ff6a6ea8940> with param.s {'reg_alpha': 0.33684210526315794, 'eta': 0.7999999999999999, 'max_depth': 8, 'subsample': 1.0}... Be patient! ;)\n",
      "Testing for method <models.easyXGB object at 0x7ff6a6ea8940> with param.s {'reg_alpha': 0.33684210526315794, 'eta': 0.8333333333333333, 'max_depth': 8, 'subsample': 1.0}... Be patient! ;)\n",
      "Testing for method <models.easyXGB object at 0x7ff6a6ea8940> with param.s {'reg_alpha': 0.33684210526315794, 'eta': 0.8666666666666667, 'max_depth': 8, 'subsample': 1.0}... Be patient! ;)\n",
      "Testing for method <models.easyXGB object at 0x7ff6a6ea8940> with param.s {'reg_alpha': 0.33684210526315794, 'eta': 0.9, 'max_depth': 8, 'subsample': 1.0}... Be patient! ;)\n",
      "Testing for method <models.easyXGB object at 0x7ff6a6ea8940> with param.s {'reg_alpha': 0.33684210526315794, 'eta': 0.9333333333333333, 'max_depth': 8, 'subsample': 1.0}... Be patient! ;)\n",
      "Testing for method <models.easyXGB object at 0x7ff6a6ea8940> with param.s {'reg_alpha': 0.33684210526315794, 'eta': 0.9666666666666667, 'max_depth': 8, 'subsample': 1.0}... Be patient! ;)\n",
      "Testing for method <models.easyXGB object at 0x7ff6a6ea8940> with param.s {'reg_alpha': 0.33684210526315794, 'eta': 1.0, 'max_depth': 8, 'subsample': 1.0}... Be patient! ;)\n",
      "Testing for method <models.easyXGB object at 0x7ff6a6ea8940> with param.s {'reg_alpha': 0.33684210526315794, 'eta': 0.7, 'max_depth': 9, 'subsample': 1.0}... Be patient! ;)\n",
      "Testing for method <models.easyXGB object at 0x7ff6a6ea8940> with param.s {'reg_alpha': 0.33684210526315794, 'eta': 0.7333333333333333, 'max_depth': 9, 'subsample': 1.0}... Be patient! ;)\n",
      "Testing for method <models.easyXGB object at 0x7ff6a6ea8940> with param.s {'reg_alpha': 0.33684210526315794, 'eta': 0.7666666666666666, 'max_depth': 9, 'subsample': 1.0}... Be patient! ;)\n",
      "Testing for method <models.easyXGB object at 0x7ff6a6ea8940> with param.s {'reg_alpha': 0.33684210526315794, 'eta': 0.7999999999999999, 'max_depth': 9, 'subsample': 1.0}... Be patient! ;)\n",
      "Testing for method <models.easyXGB object at 0x7ff6a6ea8940> with param.s {'reg_alpha': 0.33684210526315794, 'eta': 0.8333333333333333, 'max_depth': 9, 'subsample': 1.0}... Be patient! ;)\n",
      "Testing for method <models.easyXGB object at 0x7ff6a6ea8940> with param.s {'reg_alpha': 0.33684210526315794, 'eta': 0.8666666666666667, 'max_depth': 9, 'subsample': 1.0}... Be patient! ;)\n",
      "Testing for method <models.easyXGB object at 0x7ff6a6ea8940> with param.s {'reg_alpha': 0.33684210526315794, 'eta': 0.9, 'max_depth': 9, 'subsample': 1.0}... Be patient! ;)\n",
      "Testing for method <models.easyXGB object at 0x7ff6a6ea8940> with param.s {'reg_alpha': 0.33684210526315794, 'eta': 0.9333333333333333, 'max_depth': 9, 'subsample': 1.0}... Be patient! ;)\n",
      "Testing for method <models.easyXGB object at 0x7ff6a6ea8940> with param.s {'reg_alpha': 0.33684210526315794, 'eta': 0.9666666666666667, 'max_depth': 9, 'subsample': 1.0}... Be patient! ;)\n",
      "Testing for method <models.easyXGB object at 0x7ff6a6ea8940> with param.s {'reg_alpha': 0.33684210526315794, 'eta': 1.0, 'max_depth': 9, 'subsample': 1.0}... Be patient! ;)\n",
      "Testing for method <models.easyXGB object at 0x7ff6a6ea8940> with param.s {'reg_alpha': 0.33684210526315794, 'eta': 0.7, 'max_depth': 10, 'subsample': 1.0}... Be patient! ;)\n",
      "Testing for method <models.easyXGB object at 0x7ff6a6ea8940> with param.s {'reg_alpha': 0.33684210526315794, 'eta': 0.7333333333333333, 'max_depth': 10, 'subsample': 1.0}... Be patient! ;)\n",
      "Testing for method <models.easyXGB object at 0x7ff6a6ea8940> with param.s {'reg_alpha': 0.33684210526315794, 'eta': 0.7666666666666666, 'max_depth': 10, 'subsample': 1.0}... Be patient! ;)\n",
      "Testing for method <models.easyXGB object at 0x7ff6a6ea8940> with param.s {'reg_alpha': 0.33684210526315794, 'eta': 0.7999999999999999, 'max_depth': 10, 'subsample': 1.0}... Be patient! ;)\n",
      "Testing for method <models.easyXGB object at 0x7ff6a6ea8940> with param.s {'reg_alpha': 0.33684210526315794, 'eta': 0.8333333333333333, 'max_depth': 10, 'subsample': 1.0}... Be patient! ;)\n",
      "Testing for method <models.easyXGB object at 0x7ff6a6ea8940> with param.s {'reg_alpha': 0.33684210526315794, 'eta': 0.8666666666666667, 'max_depth': 10, 'subsample': 1.0}... Be patient! ;)\n",
      "Testing for method <models.easyXGB object at 0x7ff6a6ea8940> with param.s {'reg_alpha': 0.33684210526315794, 'eta': 0.9, 'max_depth': 10, 'subsample': 1.0}... Be patient! ;)\n",
      "Testing for method <models.easyXGB object at 0x7ff6a6ea8940> with param.s {'reg_alpha': 0.33684210526315794, 'eta': 0.9333333333333333, 'max_depth': 10, 'subsample': 1.0}... Be patient! ;)\n",
      "Testing for method <models.easyXGB object at 0x7ff6a6ea8940> with param.s {'reg_alpha': 0.33684210526315794, 'eta': 0.9666666666666667, 'max_depth': 10, 'subsample': 1.0}... Be patient! ;)\n"
     ]
    },
    {
     "name": "stdout",
     "output_type": "stream",
     "text": [
      "Testing for method <models.easyXGB object at 0x7ff6a6ea8940> with param.s {'reg_alpha': 0.33684210526315794, 'eta': 1.0, 'max_depth': 10, 'subsample': 1.0}... Be patient! ;)\n",
      "Testing for method <models.easyXGB object at 0x7ff6a6ea8940> with param.s {'reg_alpha': 0.33684210526315794, 'eta': 0.7, 'max_depth': 11, 'subsample': 1.0}... Be patient! ;)\n",
      "Testing for method <models.easyXGB object at 0x7ff6a6ea8940> with param.s {'reg_alpha': 0.33684210526315794, 'eta': 0.7333333333333333, 'max_depth': 11, 'subsample': 1.0}... Be patient! ;)\n",
      "Testing for method <models.easyXGB object at 0x7ff6a6ea8940> with param.s {'reg_alpha': 0.33684210526315794, 'eta': 0.7666666666666666, 'max_depth': 11, 'subsample': 1.0}... Be patient! ;)\n",
      "Testing for method <models.easyXGB object at 0x7ff6a6ea8940> with param.s {'reg_alpha': 0.33684210526315794, 'eta': 0.7999999999999999, 'max_depth': 11, 'subsample': 1.0}... Be patient! ;)\n",
      "Testing for method <models.easyXGB object at 0x7ff6a6ea8940> with param.s {'reg_alpha': 0.33684210526315794, 'eta': 0.8333333333333333, 'max_depth': 11, 'subsample': 1.0}... Be patient! ;)\n",
      "Testing for method <models.easyXGB object at 0x7ff6a6ea8940> with param.s {'reg_alpha': 0.33684210526315794, 'eta': 0.8666666666666667, 'max_depth': 11, 'subsample': 1.0}... Be patient! ;)\n",
      "Testing for method <models.easyXGB object at 0x7ff6a6ea8940> with param.s {'reg_alpha': 0.33684210526315794, 'eta': 0.9, 'max_depth': 11, 'subsample': 1.0}... Be patient! ;)\n",
      "Testing for method <models.easyXGB object at 0x7ff6a6ea8940> with param.s {'reg_alpha': 0.33684210526315794, 'eta': 0.9333333333333333, 'max_depth': 11, 'subsample': 1.0}... Be patient! ;)\n",
      "Testing for method <models.easyXGB object at 0x7ff6a6ea8940> with param.s {'reg_alpha': 0.33684210526315794, 'eta': 0.9666666666666667, 'max_depth': 11, 'subsample': 1.0}... Be patient! ;)\n",
      "Testing for method <models.easyXGB object at 0x7ff6a6ea8940> with param.s {'reg_alpha': 0.33684210526315794, 'eta': 1.0, 'max_depth': 11, 'subsample': 1.0}... Be patient! ;)\n",
      "Testing for method <models.easyXGB object at 0x7ff6a6ea8940> with param.s {'reg_alpha': 0.38421052631578945, 'eta': 0.7, 'max_depth': 8, 'subsample': 1.0}... Be patient! ;)\n",
      "Testing for method <models.easyXGB object at 0x7ff6a6ea8940> with param.s {'reg_alpha': 0.38421052631578945, 'eta': 0.7333333333333333, 'max_depth': 8, 'subsample': 1.0}... Be patient! ;)\n",
      "Testing for method <models.easyXGB object at 0x7ff6a6ea8940> with param.s {'reg_alpha': 0.38421052631578945, 'eta': 0.7666666666666666, 'max_depth': 8, 'subsample': 1.0}... Be patient! ;)\n",
      "Testing for method <models.easyXGB object at 0x7ff6a6ea8940> with param.s {'reg_alpha': 0.38421052631578945, 'eta': 0.7999999999999999, 'max_depth': 8, 'subsample': 1.0}... Be patient! ;)\n",
      "Testing for method <models.easyXGB object at 0x7ff6a6ea8940> with param.s {'reg_alpha': 0.38421052631578945, 'eta': 0.8333333333333333, 'max_depth': 8, 'subsample': 1.0}... Be patient! ;)\n",
      "Testing for method <models.easyXGB object at 0x7ff6a6ea8940> with param.s {'reg_alpha': 0.38421052631578945, 'eta': 0.8666666666666667, 'max_depth': 8, 'subsample': 1.0}... Be patient! ;)\n",
      "Testing for method <models.easyXGB object at 0x7ff6a6ea8940> with param.s {'reg_alpha': 0.38421052631578945, 'eta': 0.9, 'max_depth': 8, 'subsample': 1.0}... Be patient! ;)\n",
      "Testing for method <models.easyXGB object at 0x7ff6a6ea8940> with param.s {'reg_alpha': 0.38421052631578945, 'eta': 0.9333333333333333, 'max_depth': 8, 'subsample': 1.0}... Be patient! ;)\n",
      "Testing for method <models.easyXGB object at 0x7ff6a6ea8940> with param.s {'reg_alpha': 0.38421052631578945, 'eta': 0.9666666666666667, 'max_depth': 8, 'subsample': 1.0}... Be patient! ;)\n",
      "Testing for method <models.easyXGB object at 0x7ff6a6ea8940> with param.s {'reg_alpha': 0.38421052631578945, 'eta': 1.0, 'max_depth': 8, 'subsample': 1.0}... Be patient! ;)\n",
      "Testing for method <models.easyXGB object at 0x7ff6a6ea8940> with param.s {'reg_alpha': 0.38421052631578945, 'eta': 0.7, 'max_depth': 9, 'subsample': 1.0}... Be patient! ;)\n",
      "Testing for method <models.easyXGB object at 0x7ff6a6ea8940> with param.s {'reg_alpha': 0.38421052631578945, 'eta': 0.7333333333333333, 'max_depth': 9, 'subsample': 1.0}... Be patient! ;)\n",
      "Testing for method <models.easyXGB object at 0x7ff6a6ea8940> with param.s {'reg_alpha': 0.38421052631578945, 'eta': 0.7666666666666666, 'max_depth': 9, 'subsample': 1.0}... Be patient! ;)\n",
      "Testing for method <models.easyXGB object at 0x7ff6a6ea8940> with param.s {'reg_alpha': 0.38421052631578945, 'eta': 0.7999999999999999, 'max_depth': 9, 'subsample': 1.0}... Be patient! ;)\n",
      "Testing for method <models.easyXGB object at 0x7ff6a6ea8940> with param.s {'reg_alpha': 0.38421052631578945, 'eta': 0.8333333333333333, 'max_depth': 9, 'subsample': 1.0}... Be patient! ;)\n",
      "Testing for method <models.easyXGB object at 0x7ff6a6ea8940> with param.s {'reg_alpha': 0.38421052631578945, 'eta': 0.8666666666666667, 'max_depth': 9, 'subsample': 1.0}... Be patient! ;)\n",
      "Testing for method <models.easyXGB object at 0x7ff6a6ea8940> with param.s {'reg_alpha': 0.38421052631578945, 'eta': 0.9, 'max_depth': 9, 'subsample': 1.0}... Be patient! ;)\n",
      "Testing for method <models.easyXGB object at 0x7ff6a6ea8940> with param.s {'reg_alpha': 0.38421052631578945, 'eta': 0.9333333333333333, 'max_depth': 9, 'subsample': 1.0}... Be patient! ;)\n",
      "Testing for method <models.easyXGB object at 0x7ff6a6ea8940> with param.s {'reg_alpha': 0.38421052631578945, 'eta': 0.9666666666666667, 'max_depth': 9, 'subsample': 1.0}... Be patient! ;)\n",
      "Testing for method <models.easyXGB object at 0x7ff6a6ea8940> with param.s {'reg_alpha': 0.38421052631578945, 'eta': 1.0, 'max_depth': 9, 'subsample': 1.0}... Be patient! ;)\n",
      "Testing for method <models.easyXGB object at 0x7ff6a6ea8940> with param.s {'reg_alpha': 0.38421052631578945, 'eta': 0.7, 'max_depth': 10, 'subsample': 1.0}... Be patient! ;)\n",
      "Testing for method <models.easyXGB object at 0x7ff6a6ea8940> with param.s {'reg_alpha': 0.38421052631578945, 'eta': 0.7333333333333333, 'max_depth': 10, 'subsample': 1.0}... Be patient! ;)\n",
      "Testing for method <models.easyXGB object at 0x7ff6a6ea8940> with param.s {'reg_alpha': 0.38421052631578945, 'eta': 0.7666666666666666, 'max_depth': 10, 'subsample': 1.0}... Be patient! ;)\n",
      "Testing for method <models.easyXGB object at 0x7ff6a6ea8940> with param.s {'reg_alpha': 0.38421052631578945, 'eta': 0.7999999999999999, 'max_depth': 10, 'subsample': 1.0}... Be patient! ;)\n",
      "Testing for method <models.easyXGB object at 0x7ff6a6ea8940> with param.s {'reg_alpha': 0.38421052631578945, 'eta': 0.8333333333333333, 'max_depth': 10, 'subsample': 1.0}... Be patient! ;)\n",
      "Testing for method <models.easyXGB object at 0x7ff6a6ea8940> with param.s {'reg_alpha': 0.38421052631578945, 'eta': 0.8666666666666667, 'max_depth': 10, 'subsample': 1.0}... Be patient! ;)\n",
      "Testing for method <models.easyXGB object at 0x7ff6a6ea8940> with param.s {'reg_alpha': 0.38421052631578945, 'eta': 0.9, 'max_depth': 10, 'subsample': 1.0}... Be patient! ;)\n",
      "Testing for method <models.easyXGB object at 0x7ff6a6ea8940> with param.s {'reg_alpha': 0.38421052631578945, 'eta': 0.9333333333333333, 'max_depth': 10, 'subsample': 1.0}... Be patient! ;)\n",
      "Testing for method <models.easyXGB object at 0x7ff6a6ea8940> with param.s {'reg_alpha': 0.38421052631578945, 'eta': 0.9666666666666667, 'max_depth': 10, 'subsample': 1.0}... Be patient! ;)\n",
      "Testing for method <models.easyXGB object at 0x7ff6a6ea8940> with param.s {'reg_alpha': 0.38421052631578945, 'eta': 1.0, 'max_depth': 10, 'subsample': 1.0}... Be patient! ;)\n",
      "Testing for method <models.easyXGB object at 0x7ff6a6ea8940> with param.s {'reg_alpha': 0.38421052631578945, 'eta': 0.7, 'max_depth': 11, 'subsample': 1.0}... Be patient! ;)\n",
      "Testing for method <models.easyXGB object at 0x7ff6a6ea8940> with param.s {'reg_alpha': 0.38421052631578945, 'eta': 0.7333333333333333, 'max_depth': 11, 'subsample': 1.0}... Be patient! ;)\n",
      "Testing for method <models.easyXGB object at 0x7ff6a6ea8940> with param.s {'reg_alpha': 0.38421052631578945, 'eta': 0.7666666666666666, 'max_depth': 11, 'subsample': 1.0}... Be patient! ;)\n",
      "Testing for method <models.easyXGB object at 0x7ff6a6ea8940> with param.s {'reg_alpha': 0.38421052631578945, 'eta': 0.7999999999999999, 'max_depth': 11, 'subsample': 1.0}... Be patient! ;)\n"
     ]
    },
    {
     "name": "stdout",
     "output_type": "stream",
     "text": [
      "Testing for method <models.easyXGB object at 0x7ff6a6ea8940> with param.s {'reg_alpha': 0.38421052631578945, 'eta': 0.8333333333333333, 'max_depth': 11, 'subsample': 1.0}... Be patient! ;)\n",
      "Testing for method <models.easyXGB object at 0x7ff6a6ea8940> with param.s {'reg_alpha': 0.38421052631578945, 'eta': 0.8666666666666667, 'max_depth': 11, 'subsample': 1.0}... Be patient! ;)\n",
      "Testing for method <models.easyXGB object at 0x7ff6a6ea8940> with param.s {'reg_alpha': 0.38421052631578945, 'eta': 0.9, 'max_depth': 11, 'subsample': 1.0}... Be patient! ;)\n",
      "Testing for method <models.easyXGB object at 0x7ff6a6ea8940> with param.s {'reg_alpha': 0.38421052631578945, 'eta': 0.9333333333333333, 'max_depth': 11, 'subsample': 1.0}... Be patient! ;)\n",
      "Testing for method <models.easyXGB object at 0x7ff6a6ea8940> with param.s {'reg_alpha': 0.38421052631578945, 'eta': 0.9666666666666667, 'max_depth': 11, 'subsample': 1.0}... Be patient! ;)\n",
      "Testing for method <models.easyXGB object at 0x7ff6a6ea8940> with param.s {'reg_alpha': 0.38421052631578945, 'eta': 1.0, 'max_depth': 11, 'subsample': 1.0}... Be patient! ;)\n",
      "Testing for method <models.easyXGB object at 0x7ff6a6ea8940> with param.s {'reg_alpha': 0.43157894736842106, 'eta': 0.7, 'max_depth': 8, 'subsample': 1.0}... Be patient! ;)\n",
      "Testing for method <models.easyXGB object at 0x7ff6a6ea8940> with param.s {'reg_alpha': 0.43157894736842106, 'eta': 0.7333333333333333, 'max_depth': 8, 'subsample': 1.0}... Be patient! ;)\n",
      "Testing for method <models.easyXGB object at 0x7ff6a6ea8940> with param.s {'reg_alpha': 0.43157894736842106, 'eta': 0.7666666666666666, 'max_depth': 8, 'subsample': 1.0}... Be patient! ;)\n",
      "Testing for method <models.easyXGB object at 0x7ff6a6ea8940> with param.s {'reg_alpha': 0.43157894736842106, 'eta': 0.7999999999999999, 'max_depth': 8, 'subsample': 1.0}... Be patient! ;)\n",
      "Testing for method <models.easyXGB object at 0x7ff6a6ea8940> with param.s {'reg_alpha': 0.43157894736842106, 'eta': 0.8333333333333333, 'max_depth': 8, 'subsample': 1.0}... Be patient! ;)\n",
      "Testing for method <models.easyXGB object at 0x7ff6a6ea8940> with param.s {'reg_alpha': 0.43157894736842106, 'eta': 0.8666666666666667, 'max_depth': 8, 'subsample': 1.0}... Be patient! ;)\n",
      "Testing for method <models.easyXGB object at 0x7ff6a6ea8940> with param.s {'reg_alpha': 0.43157894736842106, 'eta': 0.9, 'max_depth': 8, 'subsample': 1.0}... Be patient! ;)\n",
      "Testing for method <models.easyXGB object at 0x7ff6a6ea8940> with param.s {'reg_alpha': 0.43157894736842106, 'eta': 0.9333333333333333, 'max_depth': 8, 'subsample': 1.0}... Be patient! ;)\n",
      "Testing for method <models.easyXGB object at 0x7ff6a6ea8940> with param.s {'reg_alpha': 0.43157894736842106, 'eta': 0.9666666666666667, 'max_depth': 8, 'subsample': 1.0}... Be patient! ;)\n",
      "Testing for method <models.easyXGB object at 0x7ff6a6ea8940> with param.s {'reg_alpha': 0.43157894736842106, 'eta': 1.0, 'max_depth': 8, 'subsample': 1.0}... Be patient! ;)\n",
      "Testing for method <models.easyXGB object at 0x7ff6a6ea8940> with param.s {'reg_alpha': 0.43157894736842106, 'eta': 0.7, 'max_depth': 9, 'subsample': 1.0}... Be patient! ;)\n",
      "Testing for method <models.easyXGB object at 0x7ff6a6ea8940> with param.s {'reg_alpha': 0.43157894736842106, 'eta': 0.7333333333333333, 'max_depth': 9, 'subsample': 1.0}... Be patient! ;)\n",
      "Testing for method <models.easyXGB object at 0x7ff6a6ea8940> with param.s {'reg_alpha': 0.43157894736842106, 'eta': 0.7666666666666666, 'max_depth': 9, 'subsample': 1.0}... Be patient! ;)\n",
      "Testing for method <models.easyXGB object at 0x7ff6a6ea8940> with param.s {'reg_alpha': 0.43157894736842106, 'eta': 0.7999999999999999, 'max_depth': 9, 'subsample': 1.0}... Be patient! ;)\n",
      "Testing for method <models.easyXGB object at 0x7ff6a6ea8940> with param.s {'reg_alpha': 0.43157894736842106, 'eta': 0.8333333333333333, 'max_depth': 9, 'subsample': 1.0}... Be patient! ;)\n",
      "Testing for method <models.easyXGB object at 0x7ff6a6ea8940> with param.s {'reg_alpha': 0.43157894736842106, 'eta': 0.8666666666666667, 'max_depth': 9, 'subsample': 1.0}... Be patient! ;)\n",
      "Testing for method <models.easyXGB object at 0x7ff6a6ea8940> with param.s {'reg_alpha': 0.43157894736842106, 'eta': 0.9, 'max_depth': 9, 'subsample': 1.0}... Be patient! ;)\n",
      "Testing for method <models.easyXGB object at 0x7ff6a6ea8940> with param.s {'reg_alpha': 0.43157894736842106, 'eta': 0.9333333333333333, 'max_depth': 9, 'subsample': 1.0}... Be patient! ;)\n",
      "Testing for method <models.easyXGB object at 0x7ff6a6ea8940> with param.s {'reg_alpha': 0.43157894736842106, 'eta': 0.9666666666666667, 'max_depth': 9, 'subsample': 1.0}... Be patient! ;)\n",
      "Testing for method <models.easyXGB object at 0x7ff6a6ea8940> with param.s {'reg_alpha': 0.43157894736842106, 'eta': 1.0, 'max_depth': 9, 'subsample': 1.0}... Be patient! ;)\n",
      "Testing for method <models.easyXGB object at 0x7ff6a6ea8940> with param.s {'reg_alpha': 0.43157894736842106, 'eta': 0.7, 'max_depth': 10, 'subsample': 1.0}... Be patient! ;)\n",
      "Testing for method <models.easyXGB object at 0x7ff6a6ea8940> with param.s {'reg_alpha': 0.43157894736842106, 'eta': 0.7333333333333333, 'max_depth': 10, 'subsample': 1.0}... Be patient! ;)\n",
      "Testing for method <models.easyXGB object at 0x7ff6a6ea8940> with param.s {'reg_alpha': 0.43157894736842106, 'eta': 0.7666666666666666, 'max_depth': 10, 'subsample': 1.0}... Be patient! ;)\n",
      "Testing for method <models.easyXGB object at 0x7ff6a6ea8940> with param.s {'reg_alpha': 0.43157894736842106, 'eta': 0.7999999999999999, 'max_depth': 10, 'subsample': 1.0}... Be patient! ;)\n",
      "Testing for method <models.easyXGB object at 0x7ff6a6ea8940> with param.s {'reg_alpha': 0.43157894736842106, 'eta': 0.8333333333333333, 'max_depth': 10, 'subsample': 1.0}... Be patient! ;)\n",
      "Testing for method <models.easyXGB object at 0x7ff6a6ea8940> with param.s {'reg_alpha': 0.43157894736842106, 'eta': 0.8666666666666667, 'max_depth': 10, 'subsample': 1.0}... Be patient! ;)\n",
      "Testing for method <models.easyXGB object at 0x7ff6a6ea8940> with param.s {'reg_alpha': 0.43157894736842106, 'eta': 0.9, 'max_depth': 10, 'subsample': 1.0}... Be patient! ;)\n",
      "Testing for method <models.easyXGB object at 0x7ff6a6ea8940> with param.s {'reg_alpha': 0.43157894736842106, 'eta': 0.9333333333333333, 'max_depth': 10, 'subsample': 1.0}... Be patient! ;)\n",
      "Testing for method <models.easyXGB object at 0x7ff6a6ea8940> with param.s {'reg_alpha': 0.43157894736842106, 'eta': 0.9666666666666667, 'max_depth': 10, 'subsample': 1.0}... Be patient! ;)\n",
      "Testing for method <models.easyXGB object at 0x7ff6a6ea8940> with param.s {'reg_alpha': 0.43157894736842106, 'eta': 1.0, 'max_depth': 10, 'subsample': 1.0}... Be patient! ;)\n",
      "Testing for method <models.easyXGB object at 0x7ff6a6ea8940> with param.s {'reg_alpha': 0.43157894736842106, 'eta': 0.7, 'max_depth': 11, 'subsample': 1.0}... Be patient! ;)\n",
      "Testing for method <models.easyXGB object at 0x7ff6a6ea8940> with param.s {'reg_alpha': 0.43157894736842106, 'eta': 0.7333333333333333, 'max_depth': 11, 'subsample': 1.0}... Be patient! ;)\n",
      "Testing for method <models.easyXGB object at 0x7ff6a6ea8940> with param.s {'reg_alpha': 0.43157894736842106, 'eta': 0.7666666666666666, 'max_depth': 11, 'subsample': 1.0}... Be patient! ;)\n",
      "Testing for method <models.easyXGB object at 0x7ff6a6ea8940> with param.s {'reg_alpha': 0.43157894736842106, 'eta': 0.7999999999999999, 'max_depth': 11, 'subsample': 1.0}... Be patient! ;)\n",
      "Testing for method <models.easyXGB object at 0x7ff6a6ea8940> with param.s {'reg_alpha': 0.43157894736842106, 'eta': 0.8333333333333333, 'max_depth': 11, 'subsample': 1.0}... Be patient! ;)\n",
      "Testing for method <models.easyXGB object at 0x7ff6a6ea8940> with param.s {'reg_alpha': 0.43157894736842106, 'eta': 0.8666666666666667, 'max_depth': 11, 'subsample': 1.0}... Be patient! ;)\n",
      "Testing for method <models.easyXGB object at 0x7ff6a6ea8940> with param.s {'reg_alpha': 0.43157894736842106, 'eta': 0.9, 'max_depth': 11, 'subsample': 1.0}... Be patient! ;)\n",
      "Testing for method <models.easyXGB object at 0x7ff6a6ea8940> with param.s {'reg_alpha': 0.43157894736842106, 'eta': 0.9333333333333333, 'max_depth': 11, 'subsample': 1.0}... Be patient! ;)\n",
      "Testing for method <models.easyXGB object at 0x7ff6a6ea8940> with param.s {'reg_alpha': 0.43157894736842106, 'eta': 0.9666666666666667, 'max_depth': 11, 'subsample': 1.0}... Be patient! ;)\n"
     ]
    },
    {
     "name": "stdout",
     "output_type": "stream",
     "text": [
      "Testing for method <models.easyXGB object at 0x7ff6a6ea8940> with param.s {'reg_alpha': 0.43157894736842106, 'eta': 1.0, 'max_depth': 11, 'subsample': 1.0}... Be patient! ;)\n",
      "Testing for method <models.easyXGB object at 0x7ff6a6ea8940> with param.s {'reg_alpha': 0.4789473684210527, 'eta': 0.7, 'max_depth': 8, 'subsample': 1.0}... Be patient! ;)\n",
      "Testing for method <models.easyXGB object at 0x7ff6a6ea8940> with param.s {'reg_alpha': 0.4789473684210527, 'eta': 0.7333333333333333, 'max_depth': 8, 'subsample': 1.0}... Be patient! ;)\n",
      "Testing for method <models.easyXGB object at 0x7ff6a6ea8940> with param.s {'reg_alpha': 0.4789473684210527, 'eta': 0.7666666666666666, 'max_depth': 8, 'subsample': 1.0}... Be patient! ;)\n",
      "Testing for method <models.easyXGB object at 0x7ff6a6ea8940> with param.s {'reg_alpha': 0.4789473684210527, 'eta': 0.7999999999999999, 'max_depth': 8, 'subsample': 1.0}... Be patient! ;)\n",
      "Testing for method <models.easyXGB object at 0x7ff6a6ea8940> with param.s {'reg_alpha': 0.4789473684210527, 'eta': 0.8333333333333333, 'max_depth': 8, 'subsample': 1.0}... Be patient! ;)\n",
      "Testing for method <models.easyXGB object at 0x7ff6a6ea8940> with param.s {'reg_alpha': 0.4789473684210527, 'eta': 0.8666666666666667, 'max_depth': 8, 'subsample': 1.0}... Be patient! ;)\n",
      "Testing for method <models.easyXGB object at 0x7ff6a6ea8940> with param.s {'reg_alpha': 0.4789473684210527, 'eta': 0.9, 'max_depth': 8, 'subsample': 1.0}... Be patient! ;)\n",
      "Testing for method <models.easyXGB object at 0x7ff6a6ea8940> with param.s {'reg_alpha': 0.4789473684210527, 'eta': 0.9333333333333333, 'max_depth': 8, 'subsample': 1.0}... Be patient! ;)\n",
      "Testing for method <models.easyXGB object at 0x7ff6a6ea8940> with param.s {'reg_alpha': 0.4789473684210527, 'eta': 0.9666666666666667, 'max_depth': 8, 'subsample': 1.0}... Be patient! ;)\n",
      "Testing for method <models.easyXGB object at 0x7ff6a6ea8940> with param.s {'reg_alpha': 0.4789473684210527, 'eta': 1.0, 'max_depth': 8, 'subsample': 1.0}... Be patient! ;)\n",
      "Testing for method <models.easyXGB object at 0x7ff6a6ea8940> with param.s {'reg_alpha': 0.4789473684210527, 'eta': 0.7, 'max_depth': 9, 'subsample': 1.0}... Be patient! ;)\n",
      "Testing for method <models.easyXGB object at 0x7ff6a6ea8940> with param.s {'reg_alpha': 0.4789473684210527, 'eta': 0.7333333333333333, 'max_depth': 9, 'subsample': 1.0}... Be patient! ;)\n",
      "Testing for method <models.easyXGB object at 0x7ff6a6ea8940> with param.s {'reg_alpha': 0.4789473684210527, 'eta': 0.7666666666666666, 'max_depth': 9, 'subsample': 1.0}... Be patient! ;)\n",
      "Testing for method <models.easyXGB object at 0x7ff6a6ea8940> with param.s {'reg_alpha': 0.4789473684210527, 'eta': 0.7999999999999999, 'max_depth': 9, 'subsample': 1.0}... Be patient! ;)\n",
      "Testing for method <models.easyXGB object at 0x7ff6a6ea8940> with param.s {'reg_alpha': 0.4789473684210527, 'eta': 0.8333333333333333, 'max_depth': 9, 'subsample': 1.0}... Be patient! ;)\n",
      "Testing for method <models.easyXGB object at 0x7ff6a6ea8940> with param.s {'reg_alpha': 0.4789473684210527, 'eta': 0.8666666666666667, 'max_depth': 9, 'subsample': 1.0}... Be patient! ;)\n",
      "Testing for method <models.easyXGB object at 0x7ff6a6ea8940> with param.s {'reg_alpha': 0.4789473684210527, 'eta': 0.9, 'max_depth': 9, 'subsample': 1.0}... Be patient! ;)\n",
      "Testing for method <models.easyXGB object at 0x7ff6a6ea8940> with param.s {'reg_alpha': 0.4789473684210527, 'eta': 0.9333333333333333, 'max_depth': 9, 'subsample': 1.0}... Be patient! ;)\n",
      "Testing for method <models.easyXGB object at 0x7ff6a6ea8940> with param.s {'reg_alpha': 0.4789473684210527, 'eta': 0.9666666666666667, 'max_depth': 9, 'subsample': 1.0}... Be patient! ;)\n",
      "Testing for method <models.easyXGB object at 0x7ff6a6ea8940> with param.s {'reg_alpha': 0.4789473684210527, 'eta': 1.0, 'max_depth': 9, 'subsample': 1.0}... Be patient! ;)\n",
      "Testing for method <models.easyXGB object at 0x7ff6a6ea8940> with param.s {'reg_alpha': 0.4789473684210527, 'eta': 0.7, 'max_depth': 10, 'subsample': 1.0}... Be patient! ;)\n",
      "Testing for method <models.easyXGB object at 0x7ff6a6ea8940> with param.s {'reg_alpha': 0.4789473684210527, 'eta': 0.7333333333333333, 'max_depth': 10, 'subsample': 1.0}... Be patient! ;)\n",
      "Testing for method <models.easyXGB object at 0x7ff6a6ea8940> with param.s {'reg_alpha': 0.4789473684210527, 'eta': 0.7666666666666666, 'max_depth': 10, 'subsample': 1.0}... Be patient! ;)\n",
      "Testing for method <models.easyXGB object at 0x7ff6a6ea8940> with param.s {'reg_alpha': 0.4789473684210527, 'eta': 0.7999999999999999, 'max_depth': 10, 'subsample': 1.0}... Be patient! ;)\n",
      "Testing for method <models.easyXGB object at 0x7ff6a6ea8940> with param.s {'reg_alpha': 0.4789473684210527, 'eta': 0.8333333333333333, 'max_depth': 10, 'subsample': 1.0}... Be patient! ;)\n",
      "Testing for method <models.easyXGB object at 0x7ff6a6ea8940> with param.s {'reg_alpha': 0.4789473684210527, 'eta': 0.8666666666666667, 'max_depth': 10, 'subsample': 1.0}... Be patient! ;)\n",
      "Testing for method <models.easyXGB object at 0x7ff6a6ea8940> with param.s {'reg_alpha': 0.4789473684210527, 'eta': 0.9, 'max_depth': 10, 'subsample': 1.0}... Be patient! ;)\n",
      "Testing for method <models.easyXGB object at 0x7ff6a6ea8940> with param.s {'reg_alpha': 0.4789473684210527, 'eta': 0.9333333333333333, 'max_depth': 10, 'subsample': 1.0}... Be patient! ;)\n",
      "Testing for method <models.easyXGB object at 0x7ff6a6ea8940> with param.s {'reg_alpha': 0.4789473684210527, 'eta': 0.9666666666666667, 'max_depth': 10, 'subsample': 1.0}... Be patient! ;)\n",
      "Testing for method <models.easyXGB object at 0x7ff6a6ea8940> with param.s {'reg_alpha': 0.4789473684210527, 'eta': 1.0, 'max_depth': 10, 'subsample': 1.0}... Be patient! ;)\n",
      "Testing for method <models.easyXGB object at 0x7ff6a6ea8940> with param.s {'reg_alpha': 0.4789473684210527, 'eta': 0.7, 'max_depth': 11, 'subsample': 1.0}... Be patient! ;)\n",
      "Testing for method <models.easyXGB object at 0x7ff6a6ea8940> with param.s {'reg_alpha': 0.4789473684210527, 'eta': 0.7333333333333333, 'max_depth': 11, 'subsample': 1.0}... Be patient! ;)\n",
      "Testing for method <models.easyXGB object at 0x7ff6a6ea8940> with param.s {'reg_alpha': 0.4789473684210527, 'eta': 0.7666666666666666, 'max_depth': 11, 'subsample': 1.0}... Be patient! ;)\n",
      "Testing for method <models.easyXGB object at 0x7ff6a6ea8940> with param.s {'reg_alpha': 0.4789473684210527, 'eta': 0.7999999999999999, 'max_depth': 11, 'subsample': 1.0}... Be patient! ;)\n",
      "Testing for method <models.easyXGB object at 0x7ff6a6ea8940> with param.s {'reg_alpha': 0.4789473684210527, 'eta': 0.8333333333333333, 'max_depth': 11, 'subsample': 1.0}... Be patient! ;)\n",
      "Testing for method <models.easyXGB object at 0x7ff6a6ea8940> with param.s {'reg_alpha': 0.4789473684210527, 'eta': 0.8666666666666667, 'max_depth': 11, 'subsample': 1.0}... Be patient! ;)\n",
      "Testing for method <models.easyXGB object at 0x7ff6a6ea8940> with param.s {'reg_alpha': 0.4789473684210527, 'eta': 0.9, 'max_depth': 11, 'subsample': 1.0}... Be patient! ;)\n",
      "Testing for method <models.easyXGB object at 0x7ff6a6ea8940> with param.s {'reg_alpha': 0.4789473684210527, 'eta': 0.9333333333333333, 'max_depth': 11, 'subsample': 1.0}... Be patient! ;)\n",
      "Testing for method <models.easyXGB object at 0x7ff6a6ea8940> with param.s {'reg_alpha': 0.4789473684210527, 'eta': 0.9666666666666667, 'max_depth': 11, 'subsample': 1.0}... Be patient! ;)\n",
      "Testing for method <models.easyXGB object at 0x7ff6a6ea8940> with param.s {'reg_alpha': 0.4789473684210527, 'eta': 1.0, 'max_depth': 11, 'subsample': 1.0}... Be patient! ;)\n",
      "Testing for method <models.easyXGB object at 0x7ff6a6ea8940> with param.s {'reg_alpha': 0.5263157894736842, 'eta': 0.7, 'max_depth': 8, 'subsample': 1.0}... Be patient! ;)\n",
      "Testing for method <models.easyXGB object at 0x7ff6a6ea8940> with param.s {'reg_alpha': 0.5263157894736842, 'eta': 0.7333333333333333, 'max_depth': 8, 'subsample': 1.0}... Be patient! ;)\n",
      "Testing for method <models.easyXGB object at 0x7ff6a6ea8940> with param.s {'reg_alpha': 0.5263157894736842, 'eta': 0.7666666666666666, 'max_depth': 8, 'subsample': 1.0}... Be patient! ;)\n",
      "Testing for method <models.easyXGB object at 0x7ff6a6ea8940> with param.s {'reg_alpha': 0.5263157894736842, 'eta': 0.7999999999999999, 'max_depth': 8, 'subsample': 1.0}... Be patient! ;)\n"
     ]
    },
    {
     "name": "stdout",
     "output_type": "stream",
     "text": [
      "Testing for method <models.easyXGB object at 0x7ff6a6ea8940> with param.s {'reg_alpha': 0.5263157894736842, 'eta': 0.8333333333333333, 'max_depth': 8, 'subsample': 1.0}... Be patient! ;)\n",
      "Testing for method <models.easyXGB object at 0x7ff6a6ea8940> with param.s {'reg_alpha': 0.5263157894736842, 'eta': 0.8666666666666667, 'max_depth': 8, 'subsample': 1.0}... Be patient! ;)\n",
      "Testing for method <models.easyXGB object at 0x7ff6a6ea8940> with param.s {'reg_alpha': 0.5263157894736842, 'eta': 0.9, 'max_depth': 8, 'subsample': 1.0}... Be patient! ;)\n",
      "Testing for method <models.easyXGB object at 0x7ff6a6ea8940> with param.s {'reg_alpha': 0.5263157894736842, 'eta': 0.9333333333333333, 'max_depth': 8, 'subsample': 1.0}... Be patient! ;)\n",
      "Testing for method <models.easyXGB object at 0x7ff6a6ea8940> with param.s {'reg_alpha': 0.5263157894736842, 'eta': 0.9666666666666667, 'max_depth': 8, 'subsample': 1.0}... Be patient! ;)\n",
      "Testing for method <models.easyXGB object at 0x7ff6a6ea8940> with param.s {'reg_alpha': 0.5263157894736842, 'eta': 1.0, 'max_depth': 8, 'subsample': 1.0}... Be patient! ;)\n",
      "Testing for method <models.easyXGB object at 0x7ff6a6ea8940> with param.s {'reg_alpha': 0.5263157894736842, 'eta': 0.7, 'max_depth': 9, 'subsample': 1.0}... Be patient! ;)\n",
      "Testing for method <models.easyXGB object at 0x7ff6a6ea8940> with param.s {'reg_alpha': 0.5263157894736842, 'eta': 0.7333333333333333, 'max_depth': 9, 'subsample': 1.0}... Be patient! ;)\n",
      "Testing for method <models.easyXGB object at 0x7ff6a6ea8940> with param.s {'reg_alpha': 0.5263157894736842, 'eta': 0.7666666666666666, 'max_depth': 9, 'subsample': 1.0}... Be patient! ;)\n",
      "Testing for method <models.easyXGB object at 0x7ff6a6ea8940> with param.s {'reg_alpha': 0.5263157894736842, 'eta': 0.7999999999999999, 'max_depth': 9, 'subsample': 1.0}... Be patient! ;)\n",
      "Testing for method <models.easyXGB object at 0x7ff6a6ea8940> with param.s {'reg_alpha': 0.5263157894736842, 'eta': 0.8333333333333333, 'max_depth': 9, 'subsample': 1.0}... Be patient! ;)\n",
      "Testing for method <models.easyXGB object at 0x7ff6a6ea8940> with param.s {'reg_alpha': 0.5263157894736842, 'eta': 0.8666666666666667, 'max_depth': 9, 'subsample': 1.0}... Be patient! ;)\n",
      "Testing for method <models.easyXGB object at 0x7ff6a6ea8940> with param.s {'reg_alpha': 0.5263157894736842, 'eta': 0.9, 'max_depth': 9, 'subsample': 1.0}... Be patient! ;)\n",
      "Testing for method <models.easyXGB object at 0x7ff6a6ea8940> with param.s {'reg_alpha': 0.5263157894736842, 'eta': 0.9333333333333333, 'max_depth': 9, 'subsample': 1.0}... Be patient! ;)\n",
      "Testing for method <models.easyXGB object at 0x7ff6a6ea8940> with param.s {'reg_alpha': 0.5263157894736842, 'eta': 0.9666666666666667, 'max_depth': 9, 'subsample': 1.0}... Be patient! ;)\n",
      "Testing for method <models.easyXGB object at 0x7ff6a6ea8940> with param.s {'reg_alpha': 0.5263157894736842, 'eta': 1.0, 'max_depth': 9, 'subsample': 1.0}... Be patient! ;)\n",
      "Testing for method <models.easyXGB object at 0x7ff6a6ea8940> with param.s {'reg_alpha': 0.5263157894736842, 'eta': 0.7, 'max_depth': 10, 'subsample': 1.0}... Be patient! ;)\n",
      "Testing for method <models.easyXGB object at 0x7ff6a6ea8940> with param.s {'reg_alpha': 0.5263157894736842, 'eta': 0.7333333333333333, 'max_depth': 10, 'subsample': 1.0}... Be patient! ;)\n",
      "Testing for method <models.easyXGB object at 0x7ff6a6ea8940> with param.s {'reg_alpha': 0.5263157894736842, 'eta': 0.7666666666666666, 'max_depth': 10, 'subsample': 1.0}... Be patient! ;)\n",
      "Testing for method <models.easyXGB object at 0x7ff6a6ea8940> with param.s {'reg_alpha': 0.5263157894736842, 'eta': 0.7999999999999999, 'max_depth': 10, 'subsample': 1.0}... Be patient! ;)\n",
      "Testing for method <models.easyXGB object at 0x7ff6a6ea8940> with param.s {'reg_alpha': 0.5263157894736842, 'eta': 0.8333333333333333, 'max_depth': 10, 'subsample': 1.0}... Be patient! ;)\n",
      "Testing for method <models.easyXGB object at 0x7ff6a6ea8940> with param.s {'reg_alpha': 0.5263157894736842, 'eta': 0.8666666666666667, 'max_depth': 10, 'subsample': 1.0}... Be patient! ;)\n",
      "Testing for method <models.easyXGB object at 0x7ff6a6ea8940> with param.s {'reg_alpha': 0.5263157894736842, 'eta': 0.9, 'max_depth': 10, 'subsample': 1.0}... Be patient! ;)\n",
      "Testing for method <models.easyXGB object at 0x7ff6a6ea8940> with param.s {'reg_alpha': 0.5263157894736842, 'eta': 0.9333333333333333, 'max_depth': 10, 'subsample': 1.0}... Be patient! ;)\n",
      "Testing for method <models.easyXGB object at 0x7ff6a6ea8940> with param.s {'reg_alpha': 0.5263157894736842, 'eta': 0.9666666666666667, 'max_depth': 10, 'subsample': 1.0}... Be patient! ;)\n",
      "Testing for method <models.easyXGB object at 0x7ff6a6ea8940> with param.s {'reg_alpha': 0.5263157894736842, 'eta': 1.0, 'max_depth': 10, 'subsample': 1.0}... Be patient! ;)\n",
      "Testing for method <models.easyXGB object at 0x7ff6a6ea8940> with param.s {'reg_alpha': 0.5263157894736842, 'eta': 0.7, 'max_depth': 11, 'subsample': 1.0}... Be patient! ;)\n",
      "Testing for method <models.easyXGB object at 0x7ff6a6ea8940> with param.s {'reg_alpha': 0.5263157894736842, 'eta': 0.7333333333333333, 'max_depth': 11, 'subsample': 1.0}... Be patient! ;)\n",
      "Testing for method <models.easyXGB object at 0x7ff6a6ea8940> with param.s {'reg_alpha': 0.5263157894736842, 'eta': 0.7666666666666666, 'max_depth': 11, 'subsample': 1.0}... Be patient! ;)\n",
      "Testing for method <models.easyXGB object at 0x7ff6a6ea8940> with param.s {'reg_alpha': 0.5263157894736842, 'eta': 0.7999999999999999, 'max_depth': 11, 'subsample': 1.0}... Be patient! ;)\n",
      "Testing for method <models.easyXGB object at 0x7ff6a6ea8940> with param.s {'reg_alpha': 0.5263157894736842, 'eta': 0.8333333333333333, 'max_depth': 11, 'subsample': 1.0}... Be patient! ;)\n",
      "Testing for method <models.easyXGB object at 0x7ff6a6ea8940> with param.s {'reg_alpha': 0.5263157894736842, 'eta': 0.8666666666666667, 'max_depth': 11, 'subsample': 1.0}... Be patient! ;)\n",
      "Testing for method <models.easyXGB object at 0x7ff6a6ea8940> with param.s {'reg_alpha': 0.5263157894736842, 'eta': 0.9, 'max_depth': 11, 'subsample': 1.0}... Be patient! ;)\n",
      "Testing for method <models.easyXGB object at 0x7ff6a6ea8940> with param.s {'reg_alpha': 0.5263157894736842, 'eta': 0.9333333333333333, 'max_depth': 11, 'subsample': 1.0}... Be patient! ;)\n",
      "Testing for method <models.easyXGB object at 0x7ff6a6ea8940> with param.s {'reg_alpha': 0.5263157894736842, 'eta': 0.9666666666666667, 'max_depth': 11, 'subsample': 1.0}... Be patient! ;)\n",
      "Testing for method <models.easyXGB object at 0x7ff6a6ea8940> with param.s {'reg_alpha': 0.5263157894736842, 'eta': 1.0, 'max_depth': 11, 'subsample': 1.0}... Be patient! ;)\n",
      "Testing for method <models.easyXGB object at 0x7ff6a6ea8940> with param.s {'reg_alpha': 0.5736842105263158, 'eta': 0.7, 'max_depth': 8, 'subsample': 1.0}... Be patient! ;)\n",
      "Testing for method <models.easyXGB object at 0x7ff6a6ea8940> with param.s {'reg_alpha': 0.5736842105263158, 'eta': 0.7333333333333333, 'max_depth': 8, 'subsample': 1.0}... Be patient! ;)\n",
      "Testing for method <models.easyXGB object at 0x7ff6a6ea8940> with param.s {'reg_alpha': 0.5736842105263158, 'eta': 0.7666666666666666, 'max_depth': 8, 'subsample': 1.0}... Be patient! ;)\n",
      "Testing for method <models.easyXGB object at 0x7ff6a6ea8940> with param.s {'reg_alpha': 0.5736842105263158, 'eta': 0.7999999999999999, 'max_depth': 8, 'subsample': 1.0}... Be patient! ;)\n",
      "Testing for method <models.easyXGB object at 0x7ff6a6ea8940> with param.s {'reg_alpha': 0.5736842105263158, 'eta': 0.8333333333333333, 'max_depth': 8, 'subsample': 1.0}... Be patient! ;)\n",
      "Testing for method <models.easyXGB object at 0x7ff6a6ea8940> with param.s {'reg_alpha': 0.5736842105263158, 'eta': 0.8666666666666667, 'max_depth': 8, 'subsample': 1.0}... Be patient! ;)\n",
      "Testing for method <models.easyXGB object at 0x7ff6a6ea8940> with param.s {'reg_alpha': 0.5736842105263158, 'eta': 0.9, 'max_depth': 8, 'subsample': 1.0}... Be patient! ;)\n",
      "Testing for method <models.easyXGB object at 0x7ff6a6ea8940> with param.s {'reg_alpha': 0.5736842105263158, 'eta': 0.9333333333333333, 'max_depth': 8, 'subsample': 1.0}... Be patient! ;)\n",
      "Testing for method <models.easyXGB object at 0x7ff6a6ea8940> with param.s {'reg_alpha': 0.5736842105263158, 'eta': 0.9666666666666667, 'max_depth': 8, 'subsample': 1.0}... Be patient! ;)\n"
     ]
    },
    {
     "name": "stdout",
     "output_type": "stream",
     "text": [
      "Testing for method <models.easyXGB object at 0x7ff6a6ea8940> with param.s {'reg_alpha': 0.5736842105263158, 'eta': 1.0, 'max_depth': 8, 'subsample': 1.0}... Be patient! ;)\n",
      "Testing for method <models.easyXGB object at 0x7ff6a6ea8940> with param.s {'reg_alpha': 0.5736842105263158, 'eta': 0.7, 'max_depth': 9, 'subsample': 1.0}... Be patient! ;)\n",
      "Testing for method <models.easyXGB object at 0x7ff6a6ea8940> with param.s {'reg_alpha': 0.5736842105263158, 'eta': 0.7333333333333333, 'max_depth': 9, 'subsample': 1.0}... Be patient! ;)\n",
      "Testing for method <models.easyXGB object at 0x7ff6a6ea8940> with param.s {'reg_alpha': 0.5736842105263158, 'eta': 0.7666666666666666, 'max_depth': 9, 'subsample': 1.0}... Be patient! ;)\n",
      "Testing for method <models.easyXGB object at 0x7ff6a6ea8940> with param.s {'reg_alpha': 0.5736842105263158, 'eta': 0.7999999999999999, 'max_depth': 9, 'subsample': 1.0}... Be patient! ;)\n",
      "Testing for method <models.easyXGB object at 0x7ff6a6ea8940> with param.s {'reg_alpha': 0.5736842105263158, 'eta': 0.8333333333333333, 'max_depth': 9, 'subsample': 1.0}... Be patient! ;)\n",
      "Testing for method <models.easyXGB object at 0x7ff6a6ea8940> with param.s {'reg_alpha': 0.5736842105263158, 'eta': 0.8666666666666667, 'max_depth': 9, 'subsample': 1.0}... Be patient! ;)\n",
      "Testing for method <models.easyXGB object at 0x7ff6a6ea8940> with param.s {'reg_alpha': 0.5736842105263158, 'eta': 0.9, 'max_depth': 9, 'subsample': 1.0}... Be patient! ;)\n",
      "Testing for method <models.easyXGB object at 0x7ff6a6ea8940> with param.s {'reg_alpha': 0.5736842105263158, 'eta': 0.9333333333333333, 'max_depth': 9, 'subsample': 1.0}... Be patient! ;)\n",
      "Testing for method <models.easyXGB object at 0x7ff6a6ea8940> with param.s {'reg_alpha': 0.5736842105263158, 'eta': 0.9666666666666667, 'max_depth': 9, 'subsample': 1.0}... Be patient! ;)\n",
      "Testing for method <models.easyXGB object at 0x7ff6a6ea8940> with param.s {'reg_alpha': 0.5736842105263158, 'eta': 1.0, 'max_depth': 9, 'subsample': 1.0}... Be patient! ;)\n",
      "Testing for method <models.easyXGB object at 0x7ff6a6ea8940> with param.s {'reg_alpha': 0.5736842105263158, 'eta': 0.7, 'max_depth': 10, 'subsample': 1.0}... Be patient! ;)\n",
      "Testing for method <models.easyXGB object at 0x7ff6a6ea8940> with param.s {'reg_alpha': 0.5736842105263158, 'eta': 0.7333333333333333, 'max_depth': 10, 'subsample': 1.0}... Be patient! ;)\n",
      "Testing for method <models.easyXGB object at 0x7ff6a6ea8940> with param.s {'reg_alpha': 0.5736842105263158, 'eta': 0.7666666666666666, 'max_depth': 10, 'subsample': 1.0}... Be patient! ;)\n",
      "Testing for method <models.easyXGB object at 0x7ff6a6ea8940> with param.s {'reg_alpha': 0.5736842105263158, 'eta': 0.7999999999999999, 'max_depth': 10, 'subsample': 1.0}... Be patient! ;)\n",
      "Testing for method <models.easyXGB object at 0x7ff6a6ea8940> with param.s {'reg_alpha': 0.5736842105263158, 'eta': 0.8333333333333333, 'max_depth': 10, 'subsample': 1.0}... Be patient! ;)\n",
      "Testing for method <models.easyXGB object at 0x7ff6a6ea8940> with param.s {'reg_alpha': 0.5736842105263158, 'eta': 0.8666666666666667, 'max_depth': 10, 'subsample': 1.0}... Be patient! ;)\n",
      "Testing for method <models.easyXGB object at 0x7ff6a6ea8940> with param.s {'reg_alpha': 0.5736842105263158, 'eta': 0.9, 'max_depth': 10, 'subsample': 1.0}... Be patient! ;)\n",
      "Testing for method <models.easyXGB object at 0x7ff6a6ea8940> with param.s {'reg_alpha': 0.5736842105263158, 'eta': 0.9333333333333333, 'max_depth': 10, 'subsample': 1.0}... Be patient! ;)\n",
      "Testing for method <models.easyXGB object at 0x7ff6a6ea8940> with param.s {'reg_alpha': 0.5736842105263158, 'eta': 0.9666666666666667, 'max_depth': 10, 'subsample': 1.0}... Be patient! ;)\n",
      "Testing for method <models.easyXGB object at 0x7ff6a6ea8940> with param.s {'reg_alpha': 0.5736842105263158, 'eta': 1.0, 'max_depth': 10, 'subsample': 1.0}... Be patient! ;)\n",
      "Testing for method <models.easyXGB object at 0x7ff6a6ea8940> with param.s {'reg_alpha': 0.5736842105263158, 'eta': 0.7, 'max_depth': 11, 'subsample': 1.0}... Be patient! ;)\n",
      "Testing for method <models.easyXGB object at 0x7ff6a6ea8940> with param.s {'reg_alpha': 0.5736842105263158, 'eta': 0.7333333333333333, 'max_depth': 11, 'subsample': 1.0}... Be patient! ;)\n",
      "Testing for method <models.easyXGB object at 0x7ff6a6ea8940> with param.s {'reg_alpha': 0.5736842105263158, 'eta': 0.7666666666666666, 'max_depth': 11, 'subsample': 1.0}... Be patient! ;)\n",
      "Testing for method <models.easyXGB object at 0x7ff6a6ea8940> with param.s {'reg_alpha': 0.5736842105263158, 'eta': 0.7999999999999999, 'max_depth': 11, 'subsample': 1.0}... Be patient! ;)\n",
      "Testing for method <models.easyXGB object at 0x7ff6a6ea8940> with param.s {'reg_alpha': 0.5736842105263158, 'eta': 0.8333333333333333, 'max_depth': 11, 'subsample': 1.0}... Be patient! ;)\n",
      "Testing for method <models.easyXGB object at 0x7ff6a6ea8940> with param.s {'reg_alpha': 0.5736842105263158, 'eta': 0.8666666666666667, 'max_depth': 11, 'subsample': 1.0}... Be patient! ;)\n",
      "Testing for method <models.easyXGB object at 0x7ff6a6ea8940> with param.s {'reg_alpha': 0.5736842105263158, 'eta': 0.9, 'max_depth': 11, 'subsample': 1.0}... Be patient! ;)\n",
      "Testing for method <models.easyXGB object at 0x7ff6a6ea8940> with param.s {'reg_alpha': 0.5736842105263158, 'eta': 0.9333333333333333, 'max_depth': 11, 'subsample': 1.0}... Be patient! ;)\n",
      "Testing for method <models.easyXGB object at 0x7ff6a6ea8940> with param.s {'reg_alpha': 0.5736842105263158, 'eta': 0.9666666666666667, 'max_depth': 11, 'subsample': 1.0}... Be patient! ;)\n",
      "Testing for method <models.easyXGB object at 0x7ff6a6ea8940> with param.s {'reg_alpha': 0.5736842105263158, 'eta': 1.0, 'max_depth': 11, 'subsample': 1.0}... Be patient! ;)\n",
      "Testing for method <models.easyXGB object at 0x7ff6a6ea8940> with param.s {'reg_alpha': 0.6210526315789474, 'eta': 0.7, 'max_depth': 8, 'subsample': 1.0}... Be patient! ;)\n",
      "Testing for method <models.easyXGB object at 0x7ff6a6ea8940> with param.s {'reg_alpha': 0.6210526315789474, 'eta': 0.7333333333333333, 'max_depth': 8, 'subsample': 1.0}... Be patient! ;)\n",
      "Testing for method <models.easyXGB object at 0x7ff6a6ea8940> with param.s {'reg_alpha': 0.6210526315789474, 'eta': 0.7666666666666666, 'max_depth': 8, 'subsample': 1.0}... Be patient! ;)\n",
      "Testing for method <models.easyXGB object at 0x7ff6a6ea8940> with param.s {'reg_alpha': 0.6210526315789474, 'eta': 0.7999999999999999, 'max_depth': 8, 'subsample': 1.0}... Be patient! ;)\n",
      "Testing for method <models.easyXGB object at 0x7ff6a6ea8940> with param.s {'reg_alpha': 0.6210526315789474, 'eta': 0.8333333333333333, 'max_depth': 8, 'subsample': 1.0}... Be patient! ;)\n",
      "Testing for method <models.easyXGB object at 0x7ff6a6ea8940> with param.s {'reg_alpha': 0.6210526315789474, 'eta': 0.8666666666666667, 'max_depth': 8, 'subsample': 1.0}... Be patient! ;)\n",
      "Testing for method <models.easyXGB object at 0x7ff6a6ea8940> with param.s {'reg_alpha': 0.6210526315789474, 'eta': 0.9, 'max_depth': 8, 'subsample': 1.0}... Be patient! ;)\n",
      "Testing for method <models.easyXGB object at 0x7ff6a6ea8940> with param.s {'reg_alpha': 0.6210526315789474, 'eta': 0.9333333333333333, 'max_depth': 8, 'subsample': 1.0}... Be patient! ;)\n",
      "Testing for method <models.easyXGB object at 0x7ff6a6ea8940> with param.s {'reg_alpha': 0.6210526315789474, 'eta': 0.9666666666666667, 'max_depth': 8, 'subsample': 1.0}... Be patient! ;)\n",
      "Testing for method <models.easyXGB object at 0x7ff6a6ea8940> with param.s {'reg_alpha': 0.6210526315789474, 'eta': 1.0, 'max_depth': 8, 'subsample': 1.0}... Be patient! ;)\n",
      "Testing for method <models.easyXGB object at 0x7ff6a6ea8940> with param.s {'reg_alpha': 0.6210526315789474, 'eta': 0.7, 'max_depth': 9, 'subsample': 1.0}... Be patient! ;)\n",
      "Testing for method <models.easyXGB object at 0x7ff6a6ea8940> with param.s {'reg_alpha': 0.6210526315789474, 'eta': 0.7333333333333333, 'max_depth': 9, 'subsample': 1.0}... Be patient! ;)\n",
      "Testing for method <models.easyXGB object at 0x7ff6a6ea8940> with param.s {'reg_alpha': 0.6210526315789474, 'eta': 0.7666666666666666, 'max_depth': 9, 'subsample': 1.0}... Be patient! ;)\n",
      "Testing for method <models.easyXGB object at 0x7ff6a6ea8940> with param.s {'reg_alpha': 0.6210526315789474, 'eta': 0.7999999999999999, 'max_depth': 9, 'subsample': 1.0}... Be patient! ;)\n"
     ]
    },
    {
     "name": "stdout",
     "output_type": "stream",
     "text": [
      "Testing for method <models.easyXGB object at 0x7ff6a6ea8940> with param.s {'reg_alpha': 0.6210526315789474, 'eta': 0.8333333333333333, 'max_depth': 9, 'subsample': 1.0}... Be patient! ;)\n",
      "Testing for method <models.easyXGB object at 0x7ff6a6ea8940> with param.s {'reg_alpha': 0.6210526315789474, 'eta': 0.8666666666666667, 'max_depth': 9, 'subsample': 1.0}... Be patient! ;)\n",
      "Testing for method <models.easyXGB object at 0x7ff6a6ea8940> with param.s {'reg_alpha': 0.6210526315789474, 'eta': 0.9, 'max_depth': 9, 'subsample': 1.0}... Be patient! ;)\n",
      "Testing for method <models.easyXGB object at 0x7ff6a6ea8940> with param.s {'reg_alpha': 0.6210526315789474, 'eta': 0.9333333333333333, 'max_depth': 9, 'subsample': 1.0}... Be patient! ;)\n",
      "Testing for method <models.easyXGB object at 0x7ff6a6ea8940> with param.s {'reg_alpha': 0.6210526315789474, 'eta': 0.9666666666666667, 'max_depth': 9, 'subsample': 1.0}... Be patient! ;)\n",
      "Testing for method <models.easyXGB object at 0x7ff6a6ea8940> with param.s {'reg_alpha': 0.6210526315789474, 'eta': 1.0, 'max_depth': 9, 'subsample': 1.0}... Be patient! ;)\n",
      "Testing for method <models.easyXGB object at 0x7ff6a6ea8940> with param.s {'reg_alpha': 0.6210526315789474, 'eta': 0.7, 'max_depth': 10, 'subsample': 1.0}... Be patient! ;)\n",
      "Testing for method <models.easyXGB object at 0x7ff6a6ea8940> with param.s {'reg_alpha': 0.6210526315789474, 'eta': 0.7333333333333333, 'max_depth': 10, 'subsample': 1.0}... Be patient! ;)\n",
      "Testing for method <models.easyXGB object at 0x7ff6a6ea8940> with param.s {'reg_alpha': 0.6210526315789474, 'eta': 0.7666666666666666, 'max_depth': 10, 'subsample': 1.0}... Be patient! ;)\n",
      "Testing for method <models.easyXGB object at 0x7ff6a6ea8940> with param.s {'reg_alpha': 0.6210526315789474, 'eta': 0.7999999999999999, 'max_depth': 10, 'subsample': 1.0}... Be patient! ;)\n",
      "Testing for method <models.easyXGB object at 0x7ff6a6ea8940> with param.s {'reg_alpha': 0.6210526315789474, 'eta': 0.8333333333333333, 'max_depth': 10, 'subsample': 1.0}... Be patient! ;)\n",
      "Testing for method <models.easyXGB object at 0x7ff6a6ea8940> with param.s {'reg_alpha': 0.6210526315789474, 'eta': 0.8666666666666667, 'max_depth': 10, 'subsample': 1.0}... Be patient! ;)\n",
      "Testing for method <models.easyXGB object at 0x7ff6a6ea8940> with param.s {'reg_alpha': 0.6210526315789474, 'eta': 0.9, 'max_depth': 10, 'subsample': 1.0}... Be patient! ;)\n",
      "Testing for method <models.easyXGB object at 0x7ff6a6ea8940> with param.s {'reg_alpha': 0.6210526315789474, 'eta': 0.9333333333333333, 'max_depth': 10, 'subsample': 1.0}... Be patient! ;)\n",
      "Testing for method <models.easyXGB object at 0x7ff6a6ea8940> with param.s {'reg_alpha': 0.6210526315789474, 'eta': 0.9666666666666667, 'max_depth': 10, 'subsample': 1.0}... Be patient! ;)\n",
      "Testing for method <models.easyXGB object at 0x7ff6a6ea8940> with param.s {'reg_alpha': 0.6210526315789474, 'eta': 1.0, 'max_depth': 10, 'subsample': 1.0}... Be patient! ;)\n",
      "Testing for method <models.easyXGB object at 0x7ff6a6ea8940> with param.s {'reg_alpha': 0.6210526315789474, 'eta': 0.7, 'max_depth': 11, 'subsample': 1.0}... Be patient! ;)\n",
      "Testing for method <models.easyXGB object at 0x7ff6a6ea8940> with param.s {'reg_alpha': 0.6210526315789474, 'eta': 0.7333333333333333, 'max_depth': 11, 'subsample': 1.0}... Be patient! ;)\n",
      "Testing for method <models.easyXGB object at 0x7ff6a6ea8940> with param.s {'reg_alpha': 0.6210526315789474, 'eta': 0.7666666666666666, 'max_depth': 11, 'subsample': 1.0}... Be patient! ;)\n",
      "Testing for method <models.easyXGB object at 0x7ff6a6ea8940> with param.s {'reg_alpha': 0.6210526315789474, 'eta': 0.7999999999999999, 'max_depth': 11, 'subsample': 1.0}... Be patient! ;)\n",
      "Testing for method <models.easyXGB object at 0x7ff6a6ea8940> with param.s {'reg_alpha': 0.6210526315789474, 'eta': 0.8333333333333333, 'max_depth': 11, 'subsample': 1.0}... Be patient! ;)\n",
      "Testing for method <models.easyXGB object at 0x7ff6a6ea8940> with param.s {'reg_alpha': 0.6210526315789474, 'eta': 0.8666666666666667, 'max_depth': 11, 'subsample': 1.0}... Be patient! ;)\n",
      "Testing for method <models.easyXGB object at 0x7ff6a6ea8940> with param.s {'reg_alpha': 0.6210526315789474, 'eta': 0.9, 'max_depth': 11, 'subsample': 1.0}... Be patient! ;)\n",
      "Testing for method <models.easyXGB object at 0x7ff6a6ea8940> with param.s {'reg_alpha': 0.6210526315789474, 'eta': 0.9333333333333333, 'max_depth': 11, 'subsample': 1.0}... Be patient! ;)\n",
      "Testing for method <models.easyXGB object at 0x7ff6a6ea8940> with param.s {'reg_alpha': 0.6210526315789474, 'eta': 0.9666666666666667, 'max_depth': 11, 'subsample': 1.0}... Be patient! ;)\n",
      "Testing for method <models.easyXGB object at 0x7ff6a6ea8940> with param.s {'reg_alpha': 0.6210526315789474, 'eta': 1.0, 'max_depth': 11, 'subsample': 1.0}... Be patient! ;)\n",
      "Testing for method <models.easyXGB object at 0x7ff6a6ea8940> with param.s {'reg_alpha': 0.6684210526315789, 'eta': 0.7, 'max_depth': 8, 'subsample': 1.0}... Be patient! ;)\n",
      "Testing for method <models.easyXGB object at 0x7ff6a6ea8940> with param.s {'reg_alpha': 0.6684210526315789, 'eta': 0.7333333333333333, 'max_depth': 8, 'subsample': 1.0}... Be patient! ;)\n",
      "Testing for method <models.easyXGB object at 0x7ff6a6ea8940> with param.s {'reg_alpha': 0.6684210526315789, 'eta': 0.7666666666666666, 'max_depth': 8, 'subsample': 1.0}... Be patient! ;)\n",
      "Testing for method <models.easyXGB object at 0x7ff6a6ea8940> with param.s {'reg_alpha': 0.6684210526315789, 'eta': 0.7999999999999999, 'max_depth': 8, 'subsample': 1.0}... Be patient! ;)\n",
      "Testing for method <models.easyXGB object at 0x7ff6a6ea8940> with param.s {'reg_alpha': 0.6684210526315789, 'eta': 0.8333333333333333, 'max_depth': 8, 'subsample': 1.0}... Be patient! ;)\n",
      "Testing for method <models.easyXGB object at 0x7ff6a6ea8940> with param.s {'reg_alpha': 0.6684210526315789, 'eta': 0.8666666666666667, 'max_depth': 8, 'subsample': 1.0}... Be patient! ;)\n",
      "Testing for method <models.easyXGB object at 0x7ff6a6ea8940> with param.s {'reg_alpha': 0.6684210526315789, 'eta': 0.9, 'max_depth': 8, 'subsample': 1.0}... Be patient! ;)\n",
      "Testing for method <models.easyXGB object at 0x7ff6a6ea8940> with param.s {'reg_alpha': 0.6684210526315789, 'eta': 0.9333333333333333, 'max_depth': 8, 'subsample': 1.0}... Be patient! ;)\n",
      "Testing for method <models.easyXGB object at 0x7ff6a6ea8940> with param.s {'reg_alpha': 0.6684210526315789, 'eta': 0.9666666666666667, 'max_depth': 8, 'subsample': 1.0}... Be patient! ;)\n",
      "Testing for method <models.easyXGB object at 0x7ff6a6ea8940> with param.s {'reg_alpha': 0.6684210526315789, 'eta': 1.0, 'max_depth': 8, 'subsample': 1.0}... Be patient! ;)\n",
      "Testing for method <models.easyXGB object at 0x7ff6a6ea8940> with param.s {'reg_alpha': 0.6684210526315789, 'eta': 0.7, 'max_depth': 9, 'subsample': 1.0}... Be patient! ;)\n",
      "Testing for method <models.easyXGB object at 0x7ff6a6ea8940> with param.s {'reg_alpha': 0.6684210526315789, 'eta': 0.7333333333333333, 'max_depth': 9, 'subsample': 1.0}... Be patient! ;)\n",
      "Testing for method <models.easyXGB object at 0x7ff6a6ea8940> with param.s {'reg_alpha': 0.6684210526315789, 'eta': 0.7666666666666666, 'max_depth': 9, 'subsample': 1.0}... Be patient! ;)\n",
      "Testing for method <models.easyXGB object at 0x7ff6a6ea8940> with param.s {'reg_alpha': 0.6684210526315789, 'eta': 0.7999999999999999, 'max_depth': 9, 'subsample': 1.0}... Be patient! ;)\n",
      "Testing for method <models.easyXGB object at 0x7ff6a6ea8940> with param.s {'reg_alpha': 0.6684210526315789, 'eta': 0.8333333333333333, 'max_depth': 9, 'subsample': 1.0}... Be patient! ;)\n",
      "Testing for method <models.easyXGB object at 0x7ff6a6ea8940> with param.s {'reg_alpha': 0.6684210526315789, 'eta': 0.8666666666666667, 'max_depth': 9, 'subsample': 1.0}... Be patient! ;)\n",
      "Testing for method <models.easyXGB object at 0x7ff6a6ea8940> with param.s {'reg_alpha': 0.6684210526315789, 'eta': 0.9, 'max_depth': 9, 'subsample': 1.0}... Be patient! ;)\n",
      "Testing for method <models.easyXGB object at 0x7ff6a6ea8940> with param.s {'reg_alpha': 0.6684210526315789, 'eta': 0.9333333333333333, 'max_depth': 9, 'subsample': 1.0}... Be patient! ;)\n",
      "Testing for method <models.easyXGB object at 0x7ff6a6ea8940> with param.s {'reg_alpha': 0.6684210526315789, 'eta': 0.9666666666666667, 'max_depth': 9, 'subsample': 1.0}... Be patient! ;)\n"
     ]
    },
    {
     "name": "stdout",
     "output_type": "stream",
     "text": [
      "Testing for method <models.easyXGB object at 0x7ff6a6ea8940> with param.s {'reg_alpha': 0.6684210526315789, 'eta': 1.0, 'max_depth': 9, 'subsample': 1.0}... Be patient! ;)\n",
      "Testing for method <models.easyXGB object at 0x7ff6a6ea8940> with param.s {'reg_alpha': 0.6684210526315789, 'eta': 0.7, 'max_depth': 10, 'subsample': 1.0}... Be patient! ;)\n",
      "Testing for method <models.easyXGB object at 0x7ff6a6ea8940> with param.s {'reg_alpha': 0.6684210526315789, 'eta': 0.7333333333333333, 'max_depth': 10, 'subsample': 1.0}... Be patient! ;)\n",
      "Testing for method <models.easyXGB object at 0x7ff6a6ea8940> with param.s {'reg_alpha': 0.6684210526315789, 'eta': 0.7666666666666666, 'max_depth': 10, 'subsample': 1.0}... Be patient! ;)\n",
      "Testing for method <models.easyXGB object at 0x7ff6a6ea8940> with param.s {'reg_alpha': 0.6684210526315789, 'eta': 0.7999999999999999, 'max_depth': 10, 'subsample': 1.0}... Be patient! ;)\n",
      "Testing for method <models.easyXGB object at 0x7ff6a6ea8940> with param.s {'reg_alpha': 0.6684210526315789, 'eta': 0.8333333333333333, 'max_depth': 10, 'subsample': 1.0}... Be patient! ;)\n",
      "Testing for method <models.easyXGB object at 0x7ff6a6ea8940> with param.s {'reg_alpha': 0.6684210526315789, 'eta': 0.8666666666666667, 'max_depth': 10, 'subsample': 1.0}... Be patient! ;)\n",
      "Testing for method <models.easyXGB object at 0x7ff6a6ea8940> with param.s {'reg_alpha': 0.6684210526315789, 'eta': 0.9, 'max_depth': 10, 'subsample': 1.0}... Be patient! ;)\n",
      "Testing for method <models.easyXGB object at 0x7ff6a6ea8940> with param.s {'reg_alpha': 0.6684210526315789, 'eta': 0.9333333333333333, 'max_depth': 10, 'subsample': 1.0}... Be patient! ;)\n",
      "Testing for method <models.easyXGB object at 0x7ff6a6ea8940> with param.s {'reg_alpha': 0.6684210526315789, 'eta': 0.9666666666666667, 'max_depth': 10, 'subsample': 1.0}... Be patient! ;)\n",
      "Testing for method <models.easyXGB object at 0x7ff6a6ea8940> with param.s {'reg_alpha': 0.6684210526315789, 'eta': 1.0, 'max_depth': 10, 'subsample': 1.0}... Be patient! ;)\n",
      "Testing for method <models.easyXGB object at 0x7ff6a6ea8940> with param.s {'reg_alpha': 0.6684210526315789, 'eta': 0.7, 'max_depth': 11, 'subsample': 1.0}... Be patient! ;)\n",
      "Testing for method <models.easyXGB object at 0x7ff6a6ea8940> with param.s {'reg_alpha': 0.6684210526315789, 'eta': 0.7333333333333333, 'max_depth': 11, 'subsample': 1.0}... Be patient! ;)\n",
      "Testing for method <models.easyXGB object at 0x7ff6a6ea8940> with param.s {'reg_alpha': 0.6684210526315789, 'eta': 0.7666666666666666, 'max_depth': 11, 'subsample': 1.0}... Be patient! ;)\n",
      "Testing for method <models.easyXGB object at 0x7ff6a6ea8940> with param.s {'reg_alpha': 0.6684210526315789, 'eta': 0.7999999999999999, 'max_depth': 11, 'subsample': 1.0}... Be patient! ;)\n",
      "Testing for method <models.easyXGB object at 0x7ff6a6ea8940> with param.s {'reg_alpha': 0.6684210526315789, 'eta': 0.8333333333333333, 'max_depth': 11, 'subsample': 1.0}... Be patient! ;)\n",
      "Testing for method <models.easyXGB object at 0x7ff6a6ea8940> with param.s {'reg_alpha': 0.6684210526315789, 'eta': 0.8666666666666667, 'max_depth': 11, 'subsample': 1.0}... Be patient! ;)\n",
      "Testing for method <models.easyXGB object at 0x7ff6a6ea8940> with param.s {'reg_alpha': 0.6684210526315789, 'eta': 0.9, 'max_depth': 11, 'subsample': 1.0}... Be patient! ;)\n",
      "Testing for method <models.easyXGB object at 0x7ff6a6ea8940> with param.s {'reg_alpha': 0.6684210526315789, 'eta': 0.9333333333333333, 'max_depth': 11, 'subsample': 1.0}... Be patient! ;)\n",
      "Testing for method <models.easyXGB object at 0x7ff6a6ea8940> with param.s {'reg_alpha': 0.6684210526315789, 'eta': 0.9666666666666667, 'max_depth': 11, 'subsample': 1.0}... Be patient! ;)\n",
      "Testing for method <models.easyXGB object at 0x7ff6a6ea8940> with param.s {'reg_alpha': 0.6684210526315789, 'eta': 1.0, 'max_depth': 11, 'subsample': 1.0}... Be patient! ;)\n",
      "Testing for method <models.easyXGB object at 0x7ff6a6ea8940> with param.s {'reg_alpha': 0.7157894736842105, 'eta': 0.7, 'max_depth': 8, 'subsample': 1.0}... Be patient! ;)\n",
      "Testing for method <models.easyXGB object at 0x7ff6a6ea8940> with param.s {'reg_alpha': 0.7157894736842105, 'eta': 0.7333333333333333, 'max_depth': 8, 'subsample': 1.0}... Be patient! ;)\n",
      "Testing for method <models.easyXGB object at 0x7ff6a6ea8940> with param.s {'reg_alpha': 0.7157894736842105, 'eta': 0.7666666666666666, 'max_depth': 8, 'subsample': 1.0}... Be patient! ;)\n",
      "Testing for method <models.easyXGB object at 0x7ff6a6ea8940> with param.s {'reg_alpha': 0.7157894736842105, 'eta': 0.7999999999999999, 'max_depth': 8, 'subsample': 1.0}... Be patient! ;)\n",
      "Testing for method <models.easyXGB object at 0x7ff6a6ea8940> with param.s {'reg_alpha': 0.7157894736842105, 'eta': 0.8333333333333333, 'max_depth': 8, 'subsample': 1.0}... Be patient! ;)\n",
      "Testing for method <models.easyXGB object at 0x7ff6a6ea8940> with param.s {'reg_alpha': 0.7157894736842105, 'eta': 0.8666666666666667, 'max_depth': 8, 'subsample': 1.0}... Be patient! ;)\n",
      "Testing for method <models.easyXGB object at 0x7ff6a6ea8940> with param.s {'reg_alpha': 0.7157894736842105, 'eta': 0.9, 'max_depth': 8, 'subsample': 1.0}... Be patient! ;)\n",
      "Testing for method <models.easyXGB object at 0x7ff6a6ea8940> with param.s {'reg_alpha': 0.7157894736842105, 'eta': 0.9333333333333333, 'max_depth': 8, 'subsample': 1.0}... Be patient! ;)\n",
      "Testing for method <models.easyXGB object at 0x7ff6a6ea8940> with param.s {'reg_alpha': 0.7157894736842105, 'eta': 0.9666666666666667, 'max_depth': 8, 'subsample': 1.0}... Be patient! ;)\n",
      "Testing for method <models.easyXGB object at 0x7ff6a6ea8940> with param.s {'reg_alpha': 0.7157894736842105, 'eta': 1.0, 'max_depth': 8, 'subsample': 1.0}... Be patient! ;)\n",
      "Testing for method <models.easyXGB object at 0x7ff6a6ea8940> with param.s {'reg_alpha': 0.7157894736842105, 'eta': 0.7, 'max_depth': 9, 'subsample': 1.0}... Be patient! ;)\n",
      "Testing for method <models.easyXGB object at 0x7ff6a6ea8940> with param.s {'reg_alpha': 0.7157894736842105, 'eta': 0.7333333333333333, 'max_depth': 9, 'subsample': 1.0}... Be patient! ;)\n",
      "Testing for method <models.easyXGB object at 0x7ff6a6ea8940> with param.s {'reg_alpha': 0.7157894736842105, 'eta': 0.7666666666666666, 'max_depth': 9, 'subsample': 1.0}... Be patient! ;)\n",
      "Testing for method <models.easyXGB object at 0x7ff6a6ea8940> with param.s {'reg_alpha': 0.7157894736842105, 'eta': 0.7999999999999999, 'max_depth': 9, 'subsample': 1.0}... Be patient! ;)\n",
      "Testing for method <models.easyXGB object at 0x7ff6a6ea8940> with param.s {'reg_alpha': 0.7157894736842105, 'eta': 0.8333333333333333, 'max_depth': 9, 'subsample': 1.0}... Be patient! ;)\n",
      "Testing for method <models.easyXGB object at 0x7ff6a6ea8940> with param.s {'reg_alpha': 0.7157894736842105, 'eta': 0.8666666666666667, 'max_depth': 9, 'subsample': 1.0}... Be patient! ;)\n",
      "Testing for method <models.easyXGB object at 0x7ff6a6ea8940> with param.s {'reg_alpha': 0.7157894736842105, 'eta': 0.9, 'max_depth': 9, 'subsample': 1.0}... Be patient! ;)\n",
      "Testing for method <models.easyXGB object at 0x7ff6a6ea8940> with param.s {'reg_alpha': 0.7157894736842105, 'eta': 0.9333333333333333, 'max_depth': 9, 'subsample': 1.0}... Be patient! ;)\n",
      "Testing for method <models.easyXGB object at 0x7ff6a6ea8940> with param.s {'reg_alpha': 0.7157894736842105, 'eta': 0.9666666666666667, 'max_depth': 9, 'subsample': 1.0}... Be patient! ;)\n",
      "Testing for method <models.easyXGB object at 0x7ff6a6ea8940> with param.s {'reg_alpha': 0.7157894736842105, 'eta': 1.0, 'max_depth': 9, 'subsample': 1.0}... Be patient! ;)\n",
      "Testing for method <models.easyXGB object at 0x7ff6a6ea8940> with param.s {'reg_alpha': 0.7157894736842105, 'eta': 0.7, 'max_depth': 10, 'subsample': 1.0}... Be patient! ;)\n",
      "Testing for method <models.easyXGB object at 0x7ff6a6ea8940> with param.s {'reg_alpha': 0.7157894736842105, 'eta': 0.7333333333333333, 'max_depth': 10, 'subsample': 1.0}... Be patient! ;)\n",
      "Testing for method <models.easyXGB object at 0x7ff6a6ea8940> with param.s {'reg_alpha': 0.7157894736842105, 'eta': 0.7666666666666666, 'max_depth': 10, 'subsample': 1.0}... Be patient! ;)\n",
      "Testing for method <models.easyXGB object at 0x7ff6a6ea8940> with param.s {'reg_alpha': 0.7157894736842105, 'eta': 0.7999999999999999, 'max_depth': 10, 'subsample': 1.0}... Be patient! ;)\n"
     ]
    },
    {
     "name": "stdout",
     "output_type": "stream",
     "text": [
      "Testing for method <models.easyXGB object at 0x7ff6a6ea8940> with param.s {'reg_alpha': 0.7157894736842105, 'eta': 0.8333333333333333, 'max_depth': 10, 'subsample': 1.0}... Be patient! ;)\n",
      "Testing for method <models.easyXGB object at 0x7ff6a6ea8940> with param.s {'reg_alpha': 0.7157894736842105, 'eta': 0.8666666666666667, 'max_depth': 10, 'subsample': 1.0}... Be patient! ;)\n",
      "Testing for method <models.easyXGB object at 0x7ff6a6ea8940> with param.s {'reg_alpha': 0.7157894736842105, 'eta': 0.9, 'max_depth': 10, 'subsample': 1.0}... Be patient! ;)\n",
      "Testing for method <models.easyXGB object at 0x7ff6a6ea8940> with param.s {'reg_alpha': 0.7157894736842105, 'eta': 0.9333333333333333, 'max_depth': 10, 'subsample': 1.0}... Be patient! ;)\n",
      "Testing for method <models.easyXGB object at 0x7ff6a6ea8940> with param.s {'reg_alpha': 0.7157894736842105, 'eta': 0.9666666666666667, 'max_depth': 10, 'subsample': 1.0}... Be patient! ;)\n",
      "Testing for method <models.easyXGB object at 0x7ff6a6ea8940> with param.s {'reg_alpha': 0.7157894736842105, 'eta': 1.0, 'max_depth': 10, 'subsample': 1.0}... Be patient! ;)\n",
      "Testing for method <models.easyXGB object at 0x7ff6a6ea8940> with param.s {'reg_alpha': 0.7157894736842105, 'eta': 0.7, 'max_depth': 11, 'subsample': 1.0}... Be patient! ;)\n",
      "Testing for method <models.easyXGB object at 0x7ff6a6ea8940> with param.s {'reg_alpha': 0.7157894736842105, 'eta': 0.7333333333333333, 'max_depth': 11, 'subsample': 1.0}... Be patient! ;)\n",
      "Testing for method <models.easyXGB object at 0x7ff6a6ea8940> with param.s {'reg_alpha': 0.7157894736842105, 'eta': 0.7666666666666666, 'max_depth': 11, 'subsample': 1.0}... Be patient! ;)\n",
      "Testing for method <models.easyXGB object at 0x7ff6a6ea8940> with param.s {'reg_alpha': 0.7157894736842105, 'eta': 0.7999999999999999, 'max_depth': 11, 'subsample': 1.0}... Be patient! ;)\n",
      "Testing for method <models.easyXGB object at 0x7ff6a6ea8940> with param.s {'reg_alpha': 0.7157894736842105, 'eta': 0.8333333333333333, 'max_depth': 11, 'subsample': 1.0}... Be patient! ;)\n",
      "Testing for method <models.easyXGB object at 0x7ff6a6ea8940> with param.s {'reg_alpha': 0.7157894736842105, 'eta': 0.8666666666666667, 'max_depth': 11, 'subsample': 1.0}... Be patient! ;)\n",
      "Testing for method <models.easyXGB object at 0x7ff6a6ea8940> with param.s {'reg_alpha': 0.7157894736842105, 'eta': 0.9, 'max_depth': 11, 'subsample': 1.0}... Be patient! ;)\n",
      "Testing for method <models.easyXGB object at 0x7ff6a6ea8940> with param.s {'reg_alpha': 0.7157894736842105, 'eta': 0.9333333333333333, 'max_depth': 11, 'subsample': 1.0}... Be patient! ;)\n",
      "Testing for method <models.easyXGB object at 0x7ff6a6ea8940> with param.s {'reg_alpha': 0.7157894736842105, 'eta': 0.9666666666666667, 'max_depth': 11, 'subsample': 1.0}... Be patient! ;)\n",
      "Testing for method <models.easyXGB object at 0x7ff6a6ea8940> with param.s {'reg_alpha': 0.7157894736842105, 'eta': 1.0, 'max_depth': 11, 'subsample': 1.0}... Be patient! ;)\n",
      "Testing for method <models.easyXGB object at 0x7ff6a6ea8940> with param.s {'reg_alpha': 0.7631578947368421, 'eta': 0.7, 'max_depth': 8, 'subsample': 1.0}... Be patient! ;)\n",
      "Testing for method <models.easyXGB object at 0x7ff6a6ea8940> with param.s {'reg_alpha': 0.7631578947368421, 'eta': 0.7333333333333333, 'max_depth': 8, 'subsample': 1.0}... Be patient! ;)\n",
      "Testing for method <models.easyXGB object at 0x7ff6a6ea8940> with param.s {'reg_alpha': 0.7631578947368421, 'eta': 0.7666666666666666, 'max_depth': 8, 'subsample': 1.0}... Be patient! ;)\n",
      "Testing for method <models.easyXGB object at 0x7ff6a6ea8940> with param.s {'reg_alpha': 0.7631578947368421, 'eta': 0.7999999999999999, 'max_depth': 8, 'subsample': 1.0}... Be patient! ;)\n",
      "Testing for method <models.easyXGB object at 0x7ff6a6ea8940> with param.s {'reg_alpha': 0.7631578947368421, 'eta': 0.8333333333333333, 'max_depth': 8, 'subsample': 1.0}... Be patient! ;)\n",
      "Testing for method <models.easyXGB object at 0x7ff6a6ea8940> with param.s {'reg_alpha': 0.7631578947368421, 'eta': 0.8666666666666667, 'max_depth': 8, 'subsample': 1.0}... Be patient! ;)\n",
      "Testing for method <models.easyXGB object at 0x7ff6a6ea8940> with param.s {'reg_alpha': 0.7631578947368421, 'eta': 0.9, 'max_depth': 8, 'subsample': 1.0}... Be patient! ;)\n",
      "Testing for method <models.easyXGB object at 0x7ff6a6ea8940> with param.s {'reg_alpha': 0.7631578947368421, 'eta': 0.9333333333333333, 'max_depth': 8, 'subsample': 1.0}... Be patient! ;)\n",
      "Testing for method <models.easyXGB object at 0x7ff6a6ea8940> with param.s {'reg_alpha': 0.7631578947368421, 'eta': 0.9666666666666667, 'max_depth': 8, 'subsample': 1.0}... Be patient! ;)\n",
      "Testing for method <models.easyXGB object at 0x7ff6a6ea8940> with param.s {'reg_alpha': 0.7631578947368421, 'eta': 1.0, 'max_depth': 8, 'subsample': 1.0}... Be patient! ;)\n",
      "Testing for method <models.easyXGB object at 0x7ff6a6ea8940> with param.s {'reg_alpha': 0.7631578947368421, 'eta': 0.7, 'max_depth': 9, 'subsample': 1.0}... Be patient! ;)\n",
      "Testing for method <models.easyXGB object at 0x7ff6a6ea8940> with param.s {'reg_alpha': 0.7631578947368421, 'eta': 0.7333333333333333, 'max_depth': 9, 'subsample': 1.0}... Be patient! ;)\n",
      "Testing for method <models.easyXGB object at 0x7ff6a6ea8940> with param.s {'reg_alpha': 0.7631578947368421, 'eta': 0.7666666666666666, 'max_depth': 9, 'subsample': 1.0}... Be patient! ;)\n",
      "Testing for method <models.easyXGB object at 0x7ff6a6ea8940> with param.s {'reg_alpha': 0.7631578947368421, 'eta': 0.7999999999999999, 'max_depth': 9, 'subsample': 1.0}... Be patient! ;)\n",
      "Testing for method <models.easyXGB object at 0x7ff6a6ea8940> with param.s {'reg_alpha': 0.7631578947368421, 'eta': 0.8333333333333333, 'max_depth': 9, 'subsample': 1.0}... Be patient! ;)\n",
      "Testing for method <models.easyXGB object at 0x7ff6a6ea8940> with param.s {'reg_alpha': 0.7631578947368421, 'eta': 0.8666666666666667, 'max_depth': 9, 'subsample': 1.0}... Be patient! ;)\n",
      "Testing for method <models.easyXGB object at 0x7ff6a6ea8940> with param.s {'reg_alpha': 0.7631578947368421, 'eta': 0.9, 'max_depth': 9, 'subsample': 1.0}... Be patient! ;)\n",
      "Testing for method <models.easyXGB object at 0x7ff6a6ea8940> with param.s {'reg_alpha': 0.7631578947368421, 'eta': 0.9333333333333333, 'max_depth': 9, 'subsample': 1.0}... Be patient! ;)\n",
      "Testing for method <models.easyXGB object at 0x7ff6a6ea8940> with param.s {'reg_alpha': 0.7631578947368421, 'eta': 0.9666666666666667, 'max_depth': 9, 'subsample': 1.0}... Be patient! ;)\n",
      "Testing for method <models.easyXGB object at 0x7ff6a6ea8940> with param.s {'reg_alpha': 0.7631578947368421, 'eta': 1.0, 'max_depth': 9, 'subsample': 1.0}... Be patient! ;)\n",
      "Testing for method <models.easyXGB object at 0x7ff6a6ea8940> with param.s {'reg_alpha': 0.7631578947368421, 'eta': 0.7, 'max_depth': 10, 'subsample': 1.0}... Be patient! ;)\n",
      "Testing for method <models.easyXGB object at 0x7ff6a6ea8940> with param.s {'reg_alpha': 0.7631578947368421, 'eta': 0.7333333333333333, 'max_depth': 10, 'subsample': 1.0}... Be patient! ;)\n",
      "Testing for method <models.easyXGB object at 0x7ff6a6ea8940> with param.s {'reg_alpha': 0.7631578947368421, 'eta': 0.7666666666666666, 'max_depth': 10, 'subsample': 1.0}... Be patient! ;)\n",
      "Testing for method <models.easyXGB object at 0x7ff6a6ea8940> with param.s {'reg_alpha': 0.7631578947368421, 'eta': 0.7999999999999999, 'max_depth': 10, 'subsample': 1.0}... Be patient! ;)\n",
      "Testing for method <models.easyXGB object at 0x7ff6a6ea8940> with param.s {'reg_alpha': 0.7631578947368421, 'eta': 0.8333333333333333, 'max_depth': 10, 'subsample': 1.0}... Be patient! ;)\n",
      "Testing for method <models.easyXGB object at 0x7ff6a6ea8940> with param.s {'reg_alpha': 0.7631578947368421, 'eta': 0.8666666666666667, 'max_depth': 10, 'subsample': 1.0}... Be patient! ;)\n",
      "Testing for method <models.easyXGB object at 0x7ff6a6ea8940> with param.s {'reg_alpha': 0.7631578947368421, 'eta': 0.9, 'max_depth': 10, 'subsample': 1.0}... Be patient! ;)\n",
      "Testing for method <models.easyXGB object at 0x7ff6a6ea8940> with param.s {'reg_alpha': 0.7631578947368421, 'eta': 0.9333333333333333, 'max_depth': 10, 'subsample': 1.0}... Be patient! ;)\n",
      "Testing for method <models.easyXGB object at 0x7ff6a6ea8940> with param.s {'reg_alpha': 0.7631578947368421, 'eta': 0.9666666666666667, 'max_depth': 10, 'subsample': 1.0}... Be patient! ;)\n"
     ]
    },
    {
     "name": "stdout",
     "output_type": "stream",
     "text": [
      "Testing for method <models.easyXGB object at 0x7ff6a6ea8940> with param.s {'reg_alpha': 0.7631578947368421, 'eta': 1.0, 'max_depth': 10, 'subsample': 1.0}... Be patient! ;)\n",
      "Testing for method <models.easyXGB object at 0x7ff6a6ea8940> with param.s {'reg_alpha': 0.7631578947368421, 'eta': 0.7, 'max_depth': 11, 'subsample': 1.0}... Be patient! ;)\n",
      "Testing for method <models.easyXGB object at 0x7ff6a6ea8940> with param.s {'reg_alpha': 0.7631578947368421, 'eta': 0.7333333333333333, 'max_depth': 11, 'subsample': 1.0}... Be patient! ;)\n",
      "Testing for method <models.easyXGB object at 0x7ff6a6ea8940> with param.s {'reg_alpha': 0.7631578947368421, 'eta': 0.7666666666666666, 'max_depth': 11, 'subsample': 1.0}... Be patient! ;)\n",
      "Testing for method <models.easyXGB object at 0x7ff6a6ea8940> with param.s {'reg_alpha': 0.7631578947368421, 'eta': 0.7999999999999999, 'max_depth': 11, 'subsample': 1.0}... Be patient! ;)\n",
      "Testing for method <models.easyXGB object at 0x7ff6a6ea8940> with param.s {'reg_alpha': 0.7631578947368421, 'eta': 0.8333333333333333, 'max_depth': 11, 'subsample': 1.0}... Be patient! ;)\n",
      "Testing for method <models.easyXGB object at 0x7ff6a6ea8940> with param.s {'reg_alpha': 0.7631578947368421, 'eta': 0.8666666666666667, 'max_depth': 11, 'subsample': 1.0}... Be patient! ;)\n",
      "Testing for method <models.easyXGB object at 0x7ff6a6ea8940> with param.s {'reg_alpha': 0.7631578947368421, 'eta': 0.9, 'max_depth': 11, 'subsample': 1.0}... Be patient! ;)\n",
      "Testing for method <models.easyXGB object at 0x7ff6a6ea8940> with param.s {'reg_alpha': 0.7631578947368421, 'eta': 0.9333333333333333, 'max_depth': 11, 'subsample': 1.0}... Be patient! ;)\n",
      "Testing for method <models.easyXGB object at 0x7ff6a6ea8940> with param.s {'reg_alpha': 0.7631578947368421, 'eta': 0.9666666666666667, 'max_depth': 11, 'subsample': 1.0}... Be patient! ;)\n",
      "Testing for method <models.easyXGB object at 0x7ff6a6ea8940> with param.s {'reg_alpha': 0.7631578947368421, 'eta': 1.0, 'max_depth': 11, 'subsample': 1.0}... Be patient! ;)\n",
      "Testing for method <models.easyXGB object at 0x7ff6a6ea8940> with param.s {'reg_alpha': 0.8105263157894737, 'eta': 0.7, 'max_depth': 8, 'subsample': 1.0}... Be patient! ;)\n",
      "Testing for method <models.easyXGB object at 0x7ff6a6ea8940> with param.s {'reg_alpha': 0.8105263157894737, 'eta': 0.7333333333333333, 'max_depth': 8, 'subsample': 1.0}... Be patient! ;)\n",
      "Testing for method <models.easyXGB object at 0x7ff6a6ea8940> with param.s {'reg_alpha': 0.8105263157894737, 'eta': 0.7666666666666666, 'max_depth': 8, 'subsample': 1.0}... Be patient! ;)\n",
      "Testing for method <models.easyXGB object at 0x7ff6a6ea8940> with param.s {'reg_alpha': 0.8105263157894737, 'eta': 0.7999999999999999, 'max_depth': 8, 'subsample': 1.0}... Be patient! ;)\n",
      "Testing for method <models.easyXGB object at 0x7ff6a6ea8940> with param.s {'reg_alpha': 0.8105263157894737, 'eta': 0.8333333333333333, 'max_depth': 8, 'subsample': 1.0}... Be patient! ;)\n",
      "Testing for method <models.easyXGB object at 0x7ff6a6ea8940> with param.s {'reg_alpha': 0.8105263157894737, 'eta': 0.8666666666666667, 'max_depth': 8, 'subsample': 1.0}... Be patient! ;)\n",
      "Testing for method <models.easyXGB object at 0x7ff6a6ea8940> with param.s {'reg_alpha': 0.8105263157894737, 'eta': 0.9, 'max_depth': 8, 'subsample': 1.0}... Be patient! ;)\n",
      "Testing for method <models.easyXGB object at 0x7ff6a6ea8940> with param.s {'reg_alpha': 0.8105263157894737, 'eta': 0.9333333333333333, 'max_depth': 8, 'subsample': 1.0}... Be patient! ;)\n",
      "Testing for method <models.easyXGB object at 0x7ff6a6ea8940> with param.s {'reg_alpha': 0.8105263157894737, 'eta': 0.9666666666666667, 'max_depth': 8, 'subsample': 1.0}... Be patient! ;)\n",
      "Testing for method <models.easyXGB object at 0x7ff6a6ea8940> with param.s {'reg_alpha': 0.8105263157894737, 'eta': 1.0, 'max_depth': 8, 'subsample': 1.0}... Be patient! ;)\n",
      "Testing for method <models.easyXGB object at 0x7ff6a6ea8940> with param.s {'reg_alpha': 0.8105263157894737, 'eta': 0.7, 'max_depth': 9, 'subsample': 1.0}... Be patient! ;)\n",
      "Testing for method <models.easyXGB object at 0x7ff6a6ea8940> with param.s {'reg_alpha': 0.8105263157894737, 'eta': 0.7333333333333333, 'max_depth': 9, 'subsample': 1.0}... Be patient! ;)\n",
      "Testing for method <models.easyXGB object at 0x7ff6a6ea8940> with param.s {'reg_alpha': 0.8105263157894737, 'eta': 0.7666666666666666, 'max_depth': 9, 'subsample': 1.0}... Be patient! ;)\n",
      "Testing for method <models.easyXGB object at 0x7ff6a6ea8940> with param.s {'reg_alpha': 0.8105263157894737, 'eta': 0.7999999999999999, 'max_depth': 9, 'subsample': 1.0}... Be patient! ;)\n",
      "Testing for method <models.easyXGB object at 0x7ff6a6ea8940> with param.s {'reg_alpha': 0.8105263157894737, 'eta': 0.8333333333333333, 'max_depth': 9, 'subsample': 1.0}... Be patient! ;)\n",
      "Testing for method <models.easyXGB object at 0x7ff6a6ea8940> with param.s {'reg_alpha': 0.8105263157894737, 'eta': 0.8666666666666667, 'max_depth': 9, 'subsample': 1.0}... Be patient! ;)\n",
      "Testing for method <models.easyXGB object at 0x7ff6a6ea8940> with param.s {'reg_alpha': 0.8105263157894737, 'eta': 0.9, 'max_depth': 9, 'subsample': 1.0}... Be patient! ;)\n",
      "Testing for method <models.easyXGB object at 0x7ff6a6ea8940> with param.s {'reg_alpha': 0.8105263157894737, 'eta': 0.9333333333333333, 'max_depth': 9, 'subsample': 1.0}... Be patient! ;)\n",
      "Testing for method <models.easyXGB object at 0x7ff6a6ea8940> with param.s {'reg_alpha': 0.8105263157894737, 'eta': 0.9666666666666667, 'max_depth': 9, 'subsample': 1.0}... Be patient! ;)\n",
      "Testing for method <models.easyXGB object at 0x7ff6a6ea8940> with param.s {'reg_alpha': 0.8105263157894737, 'eta': 1.0, 'max_depth': 9, 'subsample': 1.0}... Be patient! ;)\n",
      "Testing for method <models.easyXGB object at 0x7ff6a6ea8940> with param.s {'reg_alpha': 0.8105263157894737, 'eta': 0.7, 'max_depth': 10, 'subsample': 1.0}... Be patient! ;)\n",
      "Testing for method <models.easyXGB object at 0x7ff6a6ea8940> with param.s {'reg_alpha': 0.8105263157894737, 'eta': 0.7333333333333333, 'max_depth': 10, 'subsample': 1.0}... Be patient! ;)\n",
      "Testing for method <models.easyXGB object at 0x7ff6a6ea8940> with param.s {'reg_alpha': 0.8105263157894737, 'eta': 0.7666666666666666, 'max_depth': 10, 'subsample': 1.0}... Be patient! ;)\n",
      "Testing for method <models.easyXGB object at 0x7ff6a6ea8940> with param.s {'reg_alpha': 0.8105263157894737, 'eta': 0.7999999999999999, 'max_depth': 10, 'subsample': 1.0}... Be patient! ;)\n",
      "Testing for method <models.easyXGB object at 0x7ff6a6ea8940> with param.s {'reg_alpha': 0.8105263157894737, 'eta': 0.8333333333333333, 'max_depth': 10, 'subsample': 1.0}... Be patient! ;)\n",
      "Testing for method <models.easyXGB object at 0x7ff6a6ea8940> with param.s {'reg_alpha': 0.8105263157894737, 'eta': 0.8666666666666667, 'max_depth': 10, 'subsample': 1.0}... Be patient! ;)\n",
      "Testing for method <models.easyXGB object at 0x7ff6a6ea8940> with param.s {'reg_alpha': 0.8105263157894737, 'eta': 0.9, 'max_depth': 10, 'subsample': 1.0}... Be patient! ;)\n",
      "Testing for method <models.easyXGB object at 0x7ff6a6ea8940> with param.s {'reg_alpha': 0.8105263157894737, 'eta': 0.9333333333333333, 'max_depth': 10, 'subsample': 1.0}... Be patient! ;)\n",
      "Testing for method <models.easyXGB object at 0x7ff6a6ea8940> with param.s {'reg_alpha': 0.8105263157894737, 'eta': 0.9666666666666667, 'max_depth': 10, 'subsample': 1.0}... Be patient! ;)\n",
      "Testing for method <models.easyXGB object at 0x7ff6a6ea8940> with param.s {'reg_alpha': 0.8105263157894737, 'eta': 1.0, 'max_depth': 10, 'subsample': 1.0}... Be patient! ;)\n",
      "Testing for method <models.easyXGB object at 0x7ff6a6ea8940> with param.s {'reg_alpha': 0.8105263157894737, 'eta': 0.7, 'max_depth': 11, 'subsample': 1.0}... Be patient! ;)\n",
      "Testing for method <models.easyXGB object at 0x7ff6a6ea8940> with param.s {'reg_alpha': 0.8105263157894737, 'eta': 0.7333333333333333, 'max_depth': 11, 'subsample': 1.0}... Be patient! ;)\n",
      "Testing for method <models.easyXGB object at 0x7ff6a6ea8940> with param.s {'reg_alpha': 0.8105263157894737, 'eta': 0.7666666666666666, 'max_depth': 11, 'subsample': 1.0}... Be patient! ;)\n",
      "Testing for method <models.easyXGB object at 0x7ff6a6ea8940> with param.s {'reg_alpha': 0.8105263157894737, 'eta': 0.7999999999999999, 'max_depth': 11, 'subsample': 1.0}... Be patient! ;)\n"
     ]
    },
    {
     "name": "stdout",
     "output_type": "stream",
     "text": [
      "Testing for method <models.easyXGB object at 0x7ff6a6ea8940> with param.s {'reg_alpha': 0.8105263157894737, 'eta': 0.8333333333333333, 'max_depth': 11, 'subsample': 1.0}... Be patient! ;)\n",
      "Testing for method <models.easyXGB object at 0x7ff6a6ea8940> with param.s {'reg_alpha': 0.8105263157894737, 'eta': 0.8666666666666667, 'max_depth': 11, 'subsample': 1.0}... Be patient! ;)\n",
      "Testing for method <models.easyXGB object at 0x7ff6a6ea8940> with param.s {'reg_alpha': 0.8105263157894737, 'eta': 0.9, 'max_depth': 11, 'subsample': 1.0}... Be patient! ;)\n",
      "Testing for method <models.easyXGB object at 0x7ff6a6ea8940> with param.s {'reg_alpha': 0.8105263157894737, 'eta': 0.9333333333333333, 'max_depth': 11, 'subsample': 1.0}... Be patient! ;)\n",
      "Testing for method <models.easyXGB object at 0x7ff6a6ea8940> with param.s {'reg_alpha': 0.8105263157894737, 'eta': 0.9666666666666667, 'max_depth': 11, 'subsample': 1.0}... Be patient! ;)\n",
      "Testing for method <models.easyXGB object at 0x7ff6a6ea8940> with param.s {'reg_alpha': 0.8105263157894737, 'eta': 1.0, 'max_depth': 11, 'subsample': 1.0}... Be patient! ;)\n",
      "Testing for method <models.easyXGB object at 0x7ff6a6ea8940> with param.s {'reg_alpha': 0.8578947368421053, 'eta': 0.7, 'max_depth': 8, 'subsample': 1.0}... Be patient! ;)\n",
      "Testing for method <models.easyXGB object at 0x7ff6a6ea8940> with param.s {'reg_alpha': 0.8578947368421053, 'eta': 0.7333333333333333, 'max_depth': 8, 'subsample': 1.0}... Be patient! ;)\n",
      "Testing for method <models.easyXGB object at 0x7ff6a6ea8940> with param.s {'reg_alpha': 0.8578947368421053, 'eta': 0.7666666666666666, 'max_depth': 8, 'subsample': 1.0}... Be patient! ;)\n",
      "Testing for method <models.easyXGB object at 0x7ff6a6ea8940> with param.s {'reg_alpha': 0.8578947368421053, 'eta': 0.7999999999999999, 'max_depth': 8, 'subsample': 1.0}... Be patient! ;)\n",
      "Testing for method <models.easyXGB object at 0x7ff6a6ea8940> with param.s {'reg_alpha': 0.8578947368421053, 'eta': 0.8333333333333333, 'max_depth': 8, 'subsample': 1.0}... Be patient! ;)\n",
      "Testing for method <models.easyXGB object at 0x7ff6a6ea8940> with param.s {'reg_alpha': 0.8578947368421053, 'eta': 0.8666666666666667, 'max_depth': 8, 'subsample': 1.0}... Be patient! ;)\n",
      "Testing for method <models.easyXGB object at 0x7ff6a6ea8940> with param.s {'reg_alpha': 0.8578947368421053, 'eta': 0.9, 'max_depth': 8, 'subsample': 1.0}... Be patient! ;)\n",
      "Testing for method <models.easyXGB object at 0x7ff6a6ea8940> with param.s {'reg_alpha': 0.8578947368421053, 'eta': 0.9333333333333333, 'max_depth': 8, 'subsample': 1.0}... Be patient! ;)\n",
      "Testing for method <models.easyXGB object at 0x7ff6a6ea8940> with param.s {'reg_alpha': 0.8578947368421053, 'eta': 0.9666666666666667, 'max_depth': 8, 'subsample': 1.0}... Be patient! ;)\n",
      "Testing for method <models.easyXGB object at 0x7ff6a6ea8940> with param.s {'reg_alpha': 0.8578947368421053, 'eta': 1.0, 'max_depth': 8, 'subsample': 1.0}... Be patient! ;)\n",
      "Testing for method <models.easyXGB object at 0x7ff6a6ea8940> with param.s {'reg_alpha': 0.8578947368421053, 'eta': 0.7, 'max_depth': 9, 'subsample': 1.0}... Be patient! ;)\n",
      "Testing for method <models.easyXGB object at 0x7ff6a6ea8940> with param.s {'reg_alpha': 0.8578947368421053, 'eta': 0.7333333333333333, 'max_depth': 9, 'subsample': 1.0}... Be patient! ;)\n",
      "Testing for method <models.easyXGB object at 0x7ff6a6ea8940> with param.s {'reg_alpha': 0.8578947368421053, 'eta': 0.7666666666666666, 'max_depth': 9, 'subsample': 1.0}... Be patient! ;)\n",
      "Testing for method <models.easyXGB object at 0x7ff6a6ea8940> with param.s {'reg_alpha': 0.8578947368421053, 'eta': 0.7999999999999999, 'max_depth': 9, 'subsample': 1.0}... Be patient! ;)\n",
      "Testing for method <models.easyXGB object at 0x7ff6a6ea8940> with param.s {'reg_alpha': 0.8578947368421053, 'eta': 0.8333333333333333, 'max_depth': 9, 'subsample': 1.0}... Be patient! ;)\n",
      "Testing for method <models.easyXGB object at 0x7ff6a6ea8940> with param.s {'reg_alpha': 0.8578947368421053, 'eta': 0.8666666666666667, 'max_depth': 9, 'subsample': 1.0}... Be patient! ;)\n",
      "Testing for method <models.easyXGB object at 0x7ff6a6ea8940> with param.s {'reg_alpha': 0.8578947368421053, 'eta': 0.9, 'max_depth': 9, 'subsample': 1.0}... Be patient! ;)\n",
      "Testing for method <models.easyXGB object at 0x7ff6a6ea8940> with param.s {'reg_alpha': 0.8578947368421053, 'eta': 0.9333333333333333, 'max_depth': 9, 'subsample': 1.0}... Be patient! ;)\n",
      "Testing for method <models.easyXGB object at 0x7ff6a6ea8940> with param.s {'reg_alpha': 0.8578947368421053, 'eta': 0.9666666666666667, 'max_depth': 9, 'subsample': 1.0}... Be patient! ;)\n",
      "Testing for method <models.easyXGB object at 0x7ff6a6ea8940> with param.s {'reg_alpha': 0.8578947368421053, 'eta': 1.0, 'max_depth': 9, 'subsample': 1.0}... Be patient! ;)\n",
      "Testing for method <models.easyXGB object at 0x7ff6a6ea8940> with param.s {'reg_alpha': 0.8578947368421053, 'eta': 0.7, 'max_depth': 10, 'subsample': 1.0}... Be patient! ;)\n",
      "Testing for method <models.easyXGB object at 0x7ff6a6ea8940> with param.s {'reg_alpha': 0.8578947368421053, 'eta': 0.7333333333333333, 'max_depth': 10, 'subsample': 1.0}... Be patient! ;)\n",
      "Testing for method <models.easyXGB object at 0x7ff6a6ea8940> with param.s {'reg_alpha': 0.8578947368421053, 'eta': 0.7666666666666666, 'max_depth': 10, 'subsample': 1.0}... Be patient! ;)\n",
      "Testing for method <models.easyXGB object at 0x7ff6a6ea8940> with param.s {'reg_alpha': 0.8578947368421053, 'eta': 0.7999999999999999, 'max_depth': 10, 'subsample': 1.0}... Be patient! ;)\n",
      "Testing for method <models.easyXGB object at 0x7ff6a6ea8940> with param.s {'reg_alpha': 0.8578947368421053, 'eta': 0.8333333333333333, 'max_depth': 10, 'subsample': 1.0}... Be patient! ;)\n",
      "Testing for method <models.easyXGB object at 0x7ff6a6ea8940> with param.s {'reg_alpha': 0.8578947368421053, 'eta': 0.8666666666666667, 'max_depth': 10, 'subsample': 1.0}... Be patient! ;)\n",
      "Testing for method <models.easyXGB object at 0x7ff6a6ea8940> with param.s {'reg_alpha': 0.8578947368421053, 'eta': 0.9, 'max_depth': 10, 'subsample': 1.0}... Be patient! ;)\n",
      "Testing for method <models.easyXGB object at 0x7ff6a6ea8940> with param.s {'reg_alpha': 0.8578947368421053, 'eta': 0.9333333333333333, 'max_depth': 10, 'subsample': 1.0}... Be patient! ;)\n",
      "Testing for method <models.easyXGB object at 0x7ff6a6ea8940> with param.s {'reg_alpha': 0.8578947368421053, 'eta': 0.9666666666666667, 'max_depth': 10, 'subsample': 1.0}... Be patient! ;)\n",
      "Testing for method <models.easyXGB object at 0x7ff6a6ea8940> with param.s {'reg_alpha': 0.8578947368421053, 'eta': 1.0, 'max_depth': 10, 'subsample': 1.0}... Be patient! ;)\n",
      "Testing for method <models.easyXGB object at 0x7ff6a6ea8940> with param.s {'reg_alpha': 0.8578947368421053, 'eta': 0.7, 'max_depth': 11, 'subsample': 1.0}... Be patient! ;)\n",
      "Testing for method <models.easyXGB object at 0x7ff6a6ea8940> with param.s {'reg_alpha': 0.8578947368421053, 'eta': 0.7333333333333333, 'max_depth': 11, 'subsample': 1.0}... Be patient! ;)\n",
      "Testing for method <models.easyXGB object at 0x7ff6a6ea8940> with param.s {'reg_alpha': 0.8578947368421053, 'eta': 0.7666666666666666, 'max_depth': 11, 'subsample': 1.0}... Be patient! ;)\n",
      "Testing for method <models.easyXGB object at 0x7ff6a6ea8940> with param.s {'reg_alpha': 0.8578947368421053, 'eta': 0.7999999999999999, 'max_depth': 11, 'subsample': 1.0}... Be patient! ;)\n",
      "Testing for method <models.easyXGB object at 0x7ff6a6ea8940> with param.s {'reg_alpha': 0.8578947368421053, 'eta': 0.8333333333333333, 'max_depth': 11, 'subsample': 1.0}... Be patient! ;)\n",
      "Testing for method <models.easyXGB object at 0x7ff6a6ea8940> with param.s {'reg_alpha': 0.8578947368421053, 'eta': 0.8666666666666667, 'max_depth': 11, 'subsample': 1.0}... Be patient! ;)\n",
      "Testing for method <models.easyXGB object at 0x7ff6a6ea8940> with param.s {'reg_alpha': 0.8578947368421053, 'eta': 0.9, 'max_depth': 11, 'subsample': 1.0}... Be patient! ;)\n",
      "Testing for method <models.easyXGB object at 0x7ff6a6ea8940> with param.s {'reg_alpha': 0.8578947368421053, 'eta': 0.9333333333333333, 'max_depth': 11, 'subsample': 1.0}... Be patient! ;)\n",
      "Testing for method <models.easyXGB object at 0x7ff6a6ea8940> with param.s {'reg_alpha': 0.8578947368421053, 'eta': 0.9666666666666667, 'max_depth': 11, 'subsample': 1.0}... Be patient! ;)\n"
     ]
    },
    {
     "name": "stdout",
     "output_type": "stream",
     "text": [
      "Testing for method <models.easyXGB object at 0x7ff6a6ea8940> with param.s {'reg_alpha': 0.8578947368421053, 'eta': 1.0, 'max_depth': 11, 'subsample': 1.0}... Be patient! ;)\n",
      "Testing for method <models.easyXGB object at 0x7ff6a6ea8940> with param.s {'reg_alpha': 0.9052631578947369, 'eta': 0.7, 'max_depth': 8, 'subsample': 1.0}... Be patient! ;)\n",
      "Testing for method <models.easyXGB object at 0x7ff6a6ea8940> with param.s {'reg_alpha': 0.9052631578947369, 'eta': 0.7333333333333333, 'max_depth': 8, 'subsample': 1.0}... Be patient! ;)\n",
      "Testing for method <models.easyXGB object at 0x7ff6a6ea8940> with param.s {'reg_alpha': 0.9052631578947369, 'eta': 0.7666666666666666, 'max_depth': 8, 'subsample': 1.0}... Be patient! ;)\n",
      "Testing for method <models.easyXGB object at 0x7ff6a6ea8940> with param.s {'reg_alpha': 0.9052631578947369, 'eta': 0.7999999999999999, 'max_depth': 8, 'subsample': 1.0}... Be patient! ;)\n",
      "Testing for method <models.easyXGB object at 0x7ff6a6ea8940> with param.s {'reg_alpha': 0.9052631578947369, 'eta': 0.8333333333333333, 'max_depth': 8, 'subsample': 1.0}... Be patient! ;)\n",
      "Testing for method <models.easyXGB object at 0x7ff6a6ea8940> with param.s {'reg_alpha': 0.9052631578947369, 'eta': 0.8666666666666667, 'max_depth': 8, 'subsample': 1.0}... Be patient! ;)\n",
      "Testing for method <models.easyXGB object at 0x7ff6a6ea8940> with param.s {'reg_alpha': 0.9052631578947369, 'eta': 0.9, 'max_depth': 8, 'subsample': 1.0}... Be patient! ;)\n",
      "Testing for method <models.easyXGB object at 0x7ff6a6ea8940> with param.s {'reg_alpha': 0.9052631578947369, 'eta': 0.9333333333333333, 'max_depth': 8, 'subsample': 1.0}... Be patient! ;)\n",
      "Testing for method <models.easyXGB object at 0x7ff6a6ea8940> with param.s {'reg_alpha': 0.9052631578947369, 'eta': 0.9666666666666667, 'max_depth': 8, 'subsample': 1.0}... Be patient! ;)\n",
      "Testing for method <models.easyXGB object at 0x7ff6a6ea8940> with param.s {'reg_alpha': 0.9052631578947369, 'eta': 1.0, 'max_depth': 8, 'subsample': 1.0}... Be patient! ;)\n",
      "Testing for method <models.easyXGB object at 0x7ff6a6ea8940> with param.s {'reg_alpha': 0.9052631578947369, 'eta': 0.7, 'max_depth': 9, 'subsample': 1.0}... Be patient! ;)\n",
      "Testing for method <models.easyXGB object at 0x7ff6a6ea8940> with param.s {'reg_alpha': 0.9052631578947369, 'eta': 0.7333333333333333, 'max_depth': 9, 'subsample': 1.0}... Be patient! ;)\n",
      "Testing for method <models.easyXGB object at 0x7ff6a6ea8940> with param.s {'reg_alpha': 0.9052631578947369, 'eta': 0.7666666666666666, 'max_depth': 9, 'subsample': 1.0}... Be patient! ;)\n",
      "Testing for method <models.easyXGB object at 0x7ff6a6ea8940> with param.s {'reg_alpha': 0.9052631578947369, 'eta': 0.7999999999999999, 'max_depth': 9, 'subsample': 1.0}... Be patient! ;)\n",
      "Testing for method <models.easyXGB object at 0x7ff6a6ea8940> with param.s {'reg_alpha': 0.9052631578947369, 'eta': 0.8333333333333333, 'max_depth': 9, 'subsample': 1.0}... Be patient! ;)\n",
      "Testing for method <models.easyXGB object at 0x7ff6a6ea8940> with param.s {'reg_alpha': 0.9052631578947369, 'eta': 0.8666666666666667, 'max_depth': 9, 'subsample': 1.0}... Be patient! ;)\n",
      "Testing for method <models.easyXGB object at 0x7ff6a6ea8940> with param.s {'reg_alpha': 0.9052631578947369, 'eta': 0.9, 'max_depth': 9, 'subsample': 1.0}... Be patient! ;)\n",
      "Testing for method <models.easyXGB object at 0x7ff6a6ea8940> with param.s {'reg_alpha': 0.9052631578947369, 'eta': 0.9333333333333333, 'max_depth': 9, 'subsample': 1.0}... Be patient! ;)\n",
      "Testing for method <models.easyXGB object at 0x7ff6a6ea8940> with param.s {'reg_alpha': 0.9052631578947369, 'eta': 0.9666666666666667, 'max_depth': 9, 'subsample': 1.0}... Be patient! ;)\n",
      "Testing for method <models.easyXGB object at 0x7ff6a6ea8940> with param.s {'reg_alpha': 0.9052631578947369, 'eta': 1.0, 'max_depth': 9, 'subsample': 1.0}... Be patient! ;)\n",
      "Testing for method <models.easyXGB object at 0x7ff6a6ea8940> with param.s {'reg_alpha': 0.9052631578947369, 'eta': 0.7, 'max_depth': 10, 'subsample': 1.0}... Be patient! ;)\n",
      "Testing for method <models.easyXGB object at 0x7ff6a6ea8940> with param.s {'reg_alpha': 0.9052631578947369, 'eta': 0.7333333333333333, 'max_depth': 10, 'subsample': 1.0}... Be patient! ;)\n",
      "Testing for method <models.easyXGB object at 0x7ff6a6ea8940> with param.s {'reg_alpha': 0.9052631578947369, 'eta': 0.7666666666666666, 'max_depth': 10, 'subsample': 1.0}... Be patient! ;)\n",
      "Testing for method <models.easyXGB object at 0x7ff6a6ea8940> with param.s {'reg_alpha': 0.9052631578947369, 'eta': 0.7999999999999999, 'max_depth': 10, 'subsample': 1.0}... Be patient! ;)\n",
      "Testing for method <models.easyXGB object at 0x7ff6a6ea8940> with param.s {'reg_alpha': 0.9052631578947369, 'eta': 0.8333333333333333, 'max_depth': 10, 'subsample': 1.0}... Be patient! ;)\n",
      "Testing for method <models.easyXGB object at 0x7ff6a6ea8940> with param.s {'reg_alpha': 0.9052631578947369, 'eta': 0.8666666666666667, 'max_depth': 10, 'subsample': 1.0}... Be patient! ;)\n",
      "Testing for method <models.easyXGB object at 0x7ff6a6ea8940> with param.s {'reg_alpha': 0.9052631578947369, 'eta': 0.9, 'max_depth': 10, 'subsample': 1.0}... Be patient! ;)\n",
      "Testing for method <models.easyXGB object at 0x7ff6a6ea8940> with param.s {'reg_alpha': 0.9052631578947369, 'eta': 0.9333333333333333, 'max_depth': 10, 'subsample': 1.0}... Be patient! ;)\n",
      "Testing for method <models.easyXGB object at 0x7ff6a6ea8940> with param.s {'reg_alpha': 0.9052631578947369, 'eta': 0.9666666666666667, 'max_depth': 10, 'subsample': 1.0}... Be patient! ;)\n",
      "Testing for method <models.easyXGB object at 0x7ff6a6ea8940> with param.s {'reg_alpha': 0.9052631578947369, 'eta': 1.0, 'max_depth': 10, 'subsample': 1.0}... Be patient! ;)\n",
      "Testing for method <models.easyXGB object at 0x7ff6a6ea8940> with param.s {'reg_alpha': 0.9052631578947369, 'eta': 0.7, 'max_depth': 11, 'subsample': 1.0}... Be patient! ;)\n",
      "Testing for method <models.easyXGB object at 0x7ff6a6ea8940> with param.s {'reg_alpha': 0.9052631578947369, 'eta': 0.7333333333333333, 'max_depth': 11, 'subsample': 1.0}... Be patient! ;)\n",
      "Testing for method <models.easyXGB object at 0x7ff6a6ea8940> with param.s {'reg_alpha': 0.9052631578947369, 'eta': 0.7666666666666666, 'max_depth': 11, 'subsample': 1.0}... Be patient! ;)\n",
      "Testing for method <models.easyXGB object at 0x7ff6a6ea8940> with param.s {'reg_alpha': 0.9052631578947369, 'eta': 0.7999999999999999, 'max_depth': 11, 'subsample': 1.0}... Be patient! ;)\n",
      "Testing for method <models.easyXGB object at 0x7ff6a6ea8940> with param.s {'reg_alpha': 0.9052631578947369, 'eta': 0.8333333333333333, 'max_depth': 11, 'subsample': 1.0}... Be patient! ;)\n",
      "Testing for method <models.easyXGB object at 0x7ff6a6ea8940> with param.s {'reg_alpha': 0.9052631578947369, 'eta': 0.8666666666666667, 'max_depth': 11, 'subsample': 1.0}... Be patient! ;)\n",
      "Testing for method <models.easyXGB object at 0x7ff6a6ea8940> with param.s {'reg_alpha': 0.9052631578947369, 'eta': 0.9, 'max_depth': 11, 'subsample': 1.0}... Be patient! ;)\n",
      "Testing for method <models.easyXGB object at 0x7ff6a6ea8940> with param.s {'reg_alpha': 0.9052631578947369, 'eta': 0.9333333333333333, 'max_depth': 11, 'subsample': 1.0}... Be patient! ;)\n",
      "Testing for method <models.easyXGB object at 0x7ff6a6ea8940> with param.s {'reg_alpha': 0.9052631578947369, 'eta': 0.9666666666666667, 'max_depth': 11, 'subsample': 1.0}... Be patient! ;)\n",
      "Testing for method <models.easyXGB object at 0x7ff6a6ea8940> with param.s {'reg_alpha': 0.9052631578947369, 'eta': 1.0, 'max_depth': 11, 'subsample': 1.0}... Be patient! ;)\n",
      "Testing for method <models.easyXGB object at 0x7ff6a6ea8940> with param.s {'reg_alpha': 0.9526315789473684, 'eta': 0.7, 'max_depth': 8, 'subsample': 1.0}... Be patient! ;)\n",
      "Testing for method <models.easyXGB object at 0x7ff6a6ea8940> with param.s {'reg_alpha': 0.9526315789473684, 'eta': 0.7333333333333333, 'max_depth': 8, 'subsample': 1.0}... Be patient! ;)\n",
      "Testing for method <models.easyXGB object at 0x7ff6a6ea8940> with param.s {'reg_alpha': 0.9526315789473684, 'eta': 0.7666666666666666, 'max_depth': 8, 'subsample': 1.0}... Be patient! ;)\n",
      "Testing for method <models.easyXGB object at 0x7ff6a6ea8940> with param.s {'reg_alpha': 0.9526315789473684, 'eta': 0.7999999999999999, 'max_depth': 8, 'subsample': 1.0}... Be patient! ;)\n"
     ]
    },
    {
     "name": "stdout",
     "output_type": "stream",
     "text": [
      "Testing for method <models.easyXGB object at 0x7ff6a6ea8940> with param.s {'reg_alpha': 0.9526315789473684, 'eta': 0.8333333333333333, 'max_depth': 8, 'subsample': 1.0}... Be patient! ;)\n",
      "Testing for method <models.easyXGB object at 0x7ff6a6ea8940> with param.s {'reg_alpha': 0.9526315789473684, 'eta': 0.8666666666666667, 'max_depth': 8, 'subsample': 1.0}... Be patient! ;)\n",
      "Testing for method <models.easyXGB object at 0x7ff6a6ea8940> with param.s {'reg_alpha': 0.9526315789473684, 'eta': 0.9, 'max_depth': 8, 'subsample': 1.0}... Be patient! ;)\n",
      "Testing for method <models.easyXGB object at 0x7ff6a6ea8940> with param.s {'reg_alpha': 0.9526315789473684, 'eta': 0.9333333333333333, 'max_depth': 8, 'subsample': 1.0}... Be patient! ;)\n",
      "Testing for method <models.easyXGB object at 0x7ff6a6ea8940> with param.s {'reg_alpha': 0.9526315789473684, 'eta': 0.9666666666666667, 'max_depth': 8, 'subsample': 1.0}... Be patient! ;)\n",
      "Testing for method <models.easyXGB object at 0x7ff6a6ea8940> with param.s {'reg_alpha': 0.9526315789473684, 'eta': 1.0, 'max_depth': 8, 'subsample': 1.0}... Be patient! ;)\n",
      "Testing for method <models.easyXGB object at 0x7ff6a6ea8940> with param.s {'reg_alpha': 0.9526315789473684, 'eta': 0.7, 'max_depth': 9, 'subsample': 1.0}... Be patient! ;)\n",
      "Testing for method <models.easyXGB object at 0x7ff6a6ea8940> with param.s {'reg_alpha': 0.9526315789473684, 'eta': 0.7333333333333333, 'max_depth': 9, 'subsample': 1.0}... Be patient! ;)\n",
      "Testing for method <models.easyXGB object at 0x7ff6a6ea8940> with param.s {'reg_alpha': 0.9526315789473684, 'eta': 0.7666666666666666, 'max_depth': 9, 'subsample': 1.0}... Be patient! ;)\n",
      "Testing for method <models.easyXGB object at 0x7ff6a6ea8940> with param.s {'reg_alpha': 0.9526315789473684, 'eta': 0.7999999999999999, 'max_depth': 9, 'subsample': 1.0}... Be patient! ;)\n",
      "Testing for method <models.easyXGB object at 0x7ff6a6ea8940> with param.s {'reg_alpha': 0.9526315789473684, 'eta': 0.8333333333333333, 'max_depth': 9, 'subsample': 1.0}... Be patient! ;)\n",
      "Testing for method <models.easyXGB object at 0x7ff6a6ea8940> with param.s {'reg_alpha': 0.9526315789473684, 'eta': 0.8666666666666667, 'max_depth': 9, 'subsample': 1.0}... Be patient! ;)\n",
      "Testing for method <models.easyXGB object at 0x7ff6a6ea8940> with param.s {'reg_alpha': 0.9526315789473684, 'eta': 0.9, 'max_depth': 9, 'subsample': 1.0}... Be patient! ;)\n",
      "Testing for method <models.easyXGB object at 0x7ff6a6ea8940> with param.s {'reg_alpha': 0.9526315789473684, 'eta': 0.9333333333333333, 'max_depth': 9, 'subsample': 1.0}... Be patient! ;)\n",
      "Testing for method <models.easyXGB object at 0x7ff6a6ea8940> with param.s {'reg_alpha': 0.9526315789473684, 'eta': 0.9666666666666667, 'max_depth': 9, 'subsample': 1.0}... Be patient! ;)\n",
      "Testing for method <models.easyXGB object at 0x7ff6a6ea8940> with param.s {'reg_alpha': 0.9526315789473684, 'eta': 1.0, 'max_depth': 9, 'subsample': 1.0}... Be patient! ;)\n",
      "Testing for method <models.easyXGB object at 0x7ff6a6ea8940> with param.s {'reg_alpha': 0.9526315789473684, 'eta': 0.7, 'max_depth': 10, 'subsample': 1.0}... Be patient! ;)\n",
      "Testing for method <models.easyXGB object at 0x7ff6a6ea8940> with param.s {'reg_alpha': 0.9526315789473684, 'eta': 0.7333333333333333, 'max_depth': 10, 'subsample': 1.0}... Be patient! ;)\n",
      "Testing for method <models.easyXGB object at 0x7ff6a6ea8940> with param.s {'reg_alpha': 0.9526315789473684, 'eta': 0.7666666666666666, 'max_depth': 10, 'subsample': 1.0}... Be patient! ;)\n",
      "Testing for method <models.easyXGB object at 0x7ff6a6ea8940> with param.s {'reg_alpha': 0.9526315789473684, 'eta': 0.7999999999999999, 'max_depth': 10, 'subsample': 1.0}... Be patient! ;)\n",
      "Testing for method <models.easyXGB object at 0x7ff6a6ea8940> with param.s {'reg_alpha': 0.9526315789473684, 'eta': 0.8333333333333333, 'max_depth': 10, 'subsample': 1.0}... Be patient! ;)\n",
      "Testing for method <models.easyXGB object at 0x7ff6a6ea8940> with param.s {'reg_alpha': 0.9526315789473684, 'eta': 0.8666666666666667, 'max_depth': 10, 'subsample': 1.0}... Be patient! ;)\n",
      "Testing for method <models.easyXGB object at 0x7ff6a6ea8940> with param.s {'reg_alpha': 0.9526315789473684, 'eta': 0.9, 'max_depth': 10, 'subsample': 1.0}... Be patient! ;)\n",
      "Testing for method <models.easyXGB object at 0x7ff6a6ea8940> with param.s {'reg_alpha': 0.9526315789473684, 'eta': 0.9333333333333333, 'max_depth': 10, 'subsample': 1.0}... Be patient! ;)\n",
      "Testing for method <models.easyXGB object at 0x7ff6a6ea8940> with param.s {'reg_alpha': 0.9526315789473684, 'eta': 0.9666666666666667, 'max_depth': 10, 'subsample': 1.0}... Be patient! ;)\n",
      "Testing for method <models.easyXGB object at 0x7ff6a6ea8940> with param.s {'reg_alpha': 0.9526315789473684, 'eta': 1.0, 'max_depth': 10, 'subsample': 1.0}... Be patient! ;)\n",
      "Testing for method <models.easyXGB object at 0x7ff6a6ea8940> with param.s {'reg_alpha': 0.9526315789473684, 'eta': 0.7, 'max_depth': 11, 'subsample': 1.0}... Be patient! ;)\n",
      "Testing for method <models.easyXGB object at 0x7ff6a6ea8940> with param.s {'reg_alpha': 0.9526315789473684, 'eta': 0.7333333333333333, 'max_depth': 11, 'subsample': 1.0}... Be patient! ;)\n",
      "Testing for method <models.easyXGB object at 0x7ff6a6ea8940> with param.s {'reg_alpha': 0.9526315789473684, 'eta': 0.7666666666666666, 'max_depth': 11, 'subsample': 1.0}... Be patient! ;)\n",
      "Testing for method <models.easyXGB object at 0x7ff6a6ea8940> with param.s {'reg_alpha': 0.9526315789473684, 'eta': 0.7999999999999999, 'max_depth': 11, 'subsample': 1.0}... Be patient! ;)\n",
      "Testing for method <models.easyXGB object at 0x7ff6a6ea8940> with param.s {'reg_alpha': 0.9526315789473684, 'eta': 0.8333333333333333, 'max_depth': 11, 'subsample': 1.0}... Be patient! ;)\n",
      "Testing for method <models.easyXGB object at 0x7ff6a6ea8940> with param.s {'reg_alpha': 0.9526315789473684, 'eta': 0.8666666666666667, 'max_depth': 11, 'subsample': 1.0}... Be patient! ;)\n",
      "Testing for method <models.easyXGB object at 0x7ff6a6ea8940> with param.s {'reg_alpha': 0.9526315789473684, 'eta': 0.9, 'max_depth': 11, 'subsample': 1.0}... Be patient! ;)\n",
      "Testing for method <models.easyXGB object at 0x7ff6a6ea8940> with param.s {'reg_alpha': 0.9526315789473684, 'eta': 0.9333333333333333, 'max_depth': 11, 'subsample': 1.0}... Be patient! ;)\n",
      "Testing for method <models.easyXGB object at 0x7ff6a6ea8940> with param.s {'reg_alpha': 0.9526315789473684, 'eta': 0.9666666666666667, 'max_depth': 11, 'subsample': 1.0}... Be patient! ;)\n",
      "Testing for method <models.easyXGB object at 0x7ff6a6ea8940> with param.s {'reg_alpha': 0.9526315789473684, 'eta': 1.0, 'max_depth': 11, 'subsample': 1.0}... Be patient! ;)\n",
      "Testing for method <models.easyXGB object at 0x7ff6a6ea8940> with param.s {'reg_alpha': 1.0, 'eta': 0.7, 'max_depth': 8, 'subsample': 1.0}... Be patient! ;)\n",
      "Testing for method <models.easyXGB object at 0x7ff6a6ea8940> with param.s {'reg_alpha': 1.0, 'eta': 0.7333333333333333, 'max_depth': 8, 'subsample': 1.0}... Be patient! ;)\n",
      "Testing for method <models.easyXGB object at 0x7ff6a6ea8940> with param.s {'reg_alpha': 1.0, 'eta': 0.7666666666666666, 'max_depth': 8, 'subsample': 1.0}... Be patient! ;)\n",
      "Testing for method <models.easyXGB object at 0x7ff6a6ea8940> with param.s {'reg_alpha': 1.0, 'eta': 0.7999999999999999, 'max_depth': 8, 'subsample': 1.0}... Be patient! ;)\n",
      "Testing for method <models.easyXGB object at 0x7ff6a6ea8940> with param.s {'reg_alpha': 1.0, 'eta': 0.8333333333333333, 'max_depth': 8, 'subsample': 1.0}... Be patient! ;)\n",
      "Testing for method <models.easyXGB object at 0x7ff6a6ea8940> with param.s {'reg_alpha': 1.0, 'eta': 0.8666666666666667, 'max_depth': 8, 'subsample': 1.0}... Be patient! ;)\n",
      "Testing for method <models.easyXGB object at 0x7ff6a6ea8940> with param.s {'reg_alpha': 1.0, 'eta': 0.9, 'max_depth': 8, 'subsample': 1.0}... Be patient! ;)\n",
      "Testing for method <models.easyXGB object at 0x7ff6a6ea8940> with param.s {'reg_alpha': 1.0, 'eta': 0.9333333333333333, 'max_depth': 8, 'subsample': 1.0}... Be patient! ;)\n",
      "Testing for method <models.easyXGB object at 0x7ff6a6ea8940> with param.s {'reg_alpha': 1.0, 'eta': 0.9666666666666667, 'max_depth': 8, 'subsample': 1.0}... Be patient! ;)\n",
      "Testing for method <models.easyXGB object at 0x7ff6a6ea8940> with param.s {'reg_alpha': 1.0, 'eta': 1.0, 'max_depth': 8, 'subsample': 1.0}... Be patient! ;)\n"
     ]
    },
    {
     "name": "stdout",
     "output_type": "stream",
     "text": [
      "Testing for method <models.easyXGB object at 0x7ff6a6ea8940> with param.s {'reg_alpha': 1.0, 'eta': 0.7, 'max_depth': 9, 'subsample': 1.0}... Be patient! ;)\n",
      "Testing for method <models.easyXGB object at 0x7ff6a6ea8940> with param.s {'reg_alpha': 1.0, 'eta': 0.7333333333333333, 'max_depth': 9, 'subsample': 1.0}... Be patient! ;)\n",
      "Testing for method <models.easyXGB object at 0x7ff6a6ea8940> with param.s {'reg_alpha': 1.0, 'eta': 0.7666666666666666, 'max_depth': 9, 'subsample': 1.0}... Be patient! ;)\n",
      "Testing for method <models.easyXGB object at 0x7ff6a6ea8940> with param.s {'reg_alpha': 1.0, 'eta': 0.7999999999999999, 'max_depth': 9, 'subsample': 1.0}... Be patient! ;)\n",
      "Testing for method <models.easyXGB object at 0x7ff6a6ea8940> with param.s {'reg_alpha': 1.0, 'eta': 0.8333333333333333, 'max_depth': 9, 'subsample': 1.0}... Be patient! ;)\n",
      "Testing for method <models.easyXGB object at 0x7ff6a6ea8940> with param.s {'reg_alpha': 1.0, 'eta': 0.8666666666666667, 'max_depth': 9, 'subsample': 1.0}... Be patient! ;)\n",
      "Testing for method <models.easyXGB object at 0x7ff6a6ea8940> with param.s {'reg_alpha': 1.0, 'eta': 0.9, 'max_depth': 9, 'subsample': 1.0}... Be patient! ;)\n",
      "Testing for method <models.easyXGB object at 0x7ff6a6ea8940> with param.s {'reg_alpha': 1.0, 'eta': 0.9333333333333333, 'max_depth': 9, 'subsample': 1.0}... Be patient! ;)\n",
      "Testing for method <models.easyXGB object at 0x7ff6a6ea8940> with param.s {'reg_alpha': 1.0, 'eta': 0.9666666666666667, 'max_depth': 9, 'subsample': 1.0}... Be patient! ;)\n",
      "Testing for method <models.easyXGB object at 0x7ff6a6ea8940> with param.s {'reg_alpha': 1.0, 'eta': 1.0, 'max_depth': 9, 'subsample': 1.0}... Be patient! ;)\n",
      "Testing for method <models.easyXGB object at 0x7ff6a6ea8940> with param.s {'reg_alpha': 1.0, 'eta': 0.7, 'max_depth': 10, 'subsample': 1.0}... Be patient! ;)\n",
      "Testing for method <models.easyXGB object at 0x7ff6a6ea8940> with param.s {'reg_alpha': 1.0, 'eta': 0.7333333333333333, 'max_depth': 10, 'subsample': 1.0}... Be patient! ;)\n",
      "Testing for method <models.easyXGB object at 0x7ff6a6ea8940> with param.s {'reg_alpha': 1.0, 'eta': 0.7666666666666666, 'max_depth': 10, 'subsample': 1.0}... Be patient! ;)\n",
      "Testing for method <models.easyXGB object at 0x7ff6a6ea8940> with param.s {'reg_alpha': 1.0, 'eta': 0.7999999999999999, 'max_depth': 10, 'subsample': 1.0}... Be patient! ;)\n",
      "Testing for method <models.easyXGB object at 0x7ff6a6ea8940> with param.s {'reg_alpha': 1.0, 'eta': 0.8333333333333333, 'max_depth': 10, 'subsample': 1.0}... Be patient! ;)\n",
      "Testing for method <models.easyXGB object at 0x7ff6a6ea8940> with param.s {'reg_alpha': 1.0, 'eta': 0.8666666666666667, 'max_depth': 10, 'subsample': 1.0}... Be patient! ;)\n",
      "Testing for method <models.easyXGB object at 0x7ff6a6ea8940> with param.s {'reg_alpha': 1.0, 'eta': 0.9, 'max_depth': 10, 'subsample': 1.0}... Be patient! ;)\n",
      "Testing for method <models.easyXGB object at 0x7ff6a6ea8940> with param.s {'reg_alpha': 1.0, 'eta': 0.9333333333333333, 'max_depth': 10, 'subsample': 1.0}... Be patient! ;)\n",
      "Testing for method <models.easyXGB object at 0x7ff6a6ea8940> with param.s {'reg_alpha': 1.0, 'eta': 0.9666666666666667, 'max_depth': 10, 'subsample': 1.0}... Be patient! ;)\n",
      "Testing for method <models.easyXGB object at 0x7ff6a6ea8940> with param.s {'reg_alpha': 1.0, 'eta': 1.0, 'max_depth': 10, 'subsample': 1.0}... Be patient! ;)\n",
      "Testing for method <models.easyXGB object at 0x7ff6a6ea8940> with param.s {'reg_alpha': 1.0, 'eta': 0.7, 'max_depth': 11, 'subsample': 1.0}... Be patient! ;)\n",
      "Testing for method <models.easyXGB object at 0x7ff6a6ea8940> with param.s {'reg_alpha': 1.0, 'eta': 0.7333333333333333, 'max_depth': 11, 'subsample': 1.0}... Be patient! ;)\n",
      "Testing for method <models.easyXGB object at 0x7ff6a6ea8940> with param.s {'reg_alpha': 1.0, 'eta': 0.7666666666666666, 'max_depth': 11, 'subsample': 1.0}... Be patient! ;)\n",
      "Testing for method <models.easyXGB object at 0x7ff6a6ea8940> with param.s {'reg_alpha': 1.0, 'eta': 0.7999999999999999, 'max_depth': 11, 'subsample': 1.0}... Be patient! ;)\n",
      "Testing for method <models.easyXGB object at 0x7ff6a6ea8940> with param.s {'reg_alpha': 1.0, 'eta': 0.8333333333333333, 'max_depth': 11, 'subsample': 1.0}... Be patient! ;)\n",
      "Testing for method <models.easyXGB object at 0x7ff6a6ea8940> with param.s {'reg_alpha': 1.0, 'eta': 0.8666666666666667, 'max_depth': 11, 'subsample': 1.0}... Be patient! ;)\n",
      "Testing for method <models.easyXGB object at 0x7ff6a6ea8940> with param.s {'reg_alpha': 1.0, 'eta': 0.9, 'max_depth': 11, 'subsample': 1.0}... Be patient! ;)\n",
      "Testing for method <models.easyXGB object at 0x7ff6a6ea8940> with param.s {'reg_alpha': 1.0, 'eta': 0.9333333333333333, 'max_depth': 11, 'subsample': 1.0}... Be patient! ;)\n",
      "Testing for method <models.easyXGB object at 0x7ff6a6ea8940> with param.s {'reg_alpha': 1.0, 'eta': 0.9666666666666667, 'max_depth': 11, 'subsample': 1.0}... Be patient! ;)\n",
      "Testing for method <models.easyXGB object at 0x7ff6a6ea8940> with param.s {'reg_alpha': 1.0, 'eta': 1.0, 'max_depth': 11, 'subsample': 1.0}... Be patient! ;)\n"
     ]
    },
    {
     "data": {
      "image/png": "[encoded data removed]",
      "text/plain": [
       "<Figure size 432x288 with 1 Axes>"
      ]
     },
     "metadata": {},
     "output_type": "display_data"
    }
   ],
   "source": [
    "loss_tr, loss_te, method = multi_cross_validation(X_train, y1_train, \n",
    "                                                  methods=methods, k_fold=7, seed=np.random.randint(1000))"
   ]
  },
  {
   "cell_type": "code",
   "execution_count": 12,
   "metadata": {
    "scrolled": true
   },
   "outputs": [
    {
     "name": "stdout",
     "output_type": "stream",
     "text": [
      "[<models.easyXGB object at 0x7ff6a6ea8940>, {'reg_alpha': 0.33684210526315794, 'eta': 0.7, 'max_depth': 9, 'subsample': 1.0}] \n",
      " MSE on train (CV):  0.00017079921840252747 \n",
      " MSE on test (CV) :  0.00018019262258437725\n"
     ]
    }
   ],
   "source": [
    "print(method, '\\n MSE on train (CV): ', loss_tr, '\\n MSE on test (CV) : ', loss_te)"
   ]
  },
  {
   "cell_type": "code",
   "execution_count": 12,
   "metadata": {},
   "outputs": [],
   "source": [
    "method = [0, {'reg_alpha': 0.33684210526315794, 'eta': 0.7, 'max_depth': 9, 'subsample': 1.0}]"
   ]
  },
  {
   "cell_type": "code",
   "execution_count": 13,
   "metadata": {},
   "outputs": [],
   "source": [
    "easyXGBReg.fit(X_train, y1_train,  **method[1])"
   ]
  },
  {
   "cell_type": "code",
   "execution_count": 30,
   "metadata": {
    "scrolled": true
   },
   "outputs": [
    {
     "name": "stdout",
     "output_type": "stream",
     "text": [
      "MSE on train :  0.00017128558240968658 \n",
      " MSE on test :  0.0001792565553186421\n"
     ]
    }
   ],
   "source": [
    "print('MSE on train : ', easyXGBReg.score(X_train, y1_train), '\\n',\n",
    "     'MSE on test : ', easyXGBReg.score(X_test, y1_test))"
   ]
  },
  {
   "cell_type": "code",
   "execution_count": 16,
   "metadata": {
    "scrolled": true
   },
   "outputs": [
    {
     "data": {
      "image/png": "[encoded data removed]",
      "text/plain": [
       "<Figure size 432x288 with 1 Axes>"
      ]
     },
     "metadata": {},
     "output_type": "display_data"
    }
   ],
   "source": [
    "xgb.plot_importance(easyXGBReg.model)\n",
    "plt.savefig('../results/k1_fwd_importance.pdf')"
   ]
  },
  {
   "cell_type": "code",
   "execution_count": 37,
   "metadata": {},
   "outputs": [],
   "source": []
  },
  {
   "cell_type": "markdown",
   "metadata": {},
   "source": [
    "## y2"
   ]
  },
  {
   "cell_type": "code",
   "execution_count": 49,
   "metadata": {
    "scrolled": true
   },
   "outputs": [
    {
     "name": "stdout",
     "output_type": "stream",
     "text": [
      "(91173, 5) (60783, 5)\n"
     ]
    }
   ],
   "source": [
    "X_train, X_test, y2_train, y2_test = train_test_split(X, y2, test_size=0.4, random_state=33)\n",
    "print(X_train.shape, X_test.shape)\n",
    "y2_train, y2_test = y2_train.values, y2_test.values"
   ]
  },
  {
   "cell_type": "code",
   "execution_count": 35,
   "metadata": {
    "scrolled": true
   },
   "outputs": [
    {
     "name": "stdout",
     "output_type": "stream",
     "text": [
      "Testing for method <models.easyXGB object at 0x7ff6a6ea8940> with param.s {'reg_alpha': 0.85, 'eta': 0.5, 'max_depth': 1, 'subsample': 1.0}... Be patient! ;)\n",
      "Testing for method <models.easyXGB object at 0x7ff6a6ea8940> with param.s {'reg_alpha': 0.85, 'eta': 0.55, 'max_depth': 1, 'subsample': 1.0}... Be patient! ;)\n",
      "Testing for method <models.easyXGB object at 0x7ff6a6ea8940> with param.s {'reg_alpha': 0.85, 'eta': 0.6, 'max_depth': 1, 'subsample': 1.0}... Be patient! ;)\n",
      "Testing for method <models.easyXGB object at 0x7ff6a6ea8940> with param.s {'reg_alpha': 0.85, 'eta': 0.6499999999999999, 'max_depth': 1, 'subsample': 1.0}... Be patient! ;)\n",
      "Testing for method <models.easyXGB object at 0x7ff6a6ea8940> with param.s {'reg_alpha': 0.85, 'eta': 0.7, 'max_depth': 1, 'subsample': 1.0}... Be patient! ;)\n",
      "Testing for method <models.easyXGB object at 0x7ff6a6ea8940> with param.s {'reg_alpha': 0.85, 'eta': 0.5, 'max_depth': 2, 'subsample': 1.0}... Be patient! ;)\n",
      "Testing for method <models.easyXGB object at 0x7ff6a6ea8940> with param.s {'reg_alpha': 0.85, 'eta': 0.55, 'max_depth': 2, 'subsample': 1.0}... Be patient! ;)\n",
      "Testing for method <models.easyXGB object at 0x7ff6a6ea8940> with param.s {'reg_alpha': 0.85, 'eta': 0.6, 'max_depth': 2, 'subsample': 1.0}... Be patient! ;)\n",
      "Testing for method <models.easyXGB object at 0x7ff6a6ea8940> with param.s {'reg_alpha': 0.85, 'eta': 0.6499999999999999, 'max_depth': 2, 'subsample': 1.0}... Be patient! ;)\n",
      "Testing for method <models.easyXGB object at 0x7ff6a6ea8940> with param.s {'reg_alpha': 0.85, 'eta': 0.7, 'max_depth': 2, 'subsample': 1.0}... Be patient! ;)\n",
      "Testing for method <models.easyXGB object at 0x7ff6a6ea8940> with param.s {'reg_alpha': 0.85, 'eta': 0.5, 'max_depth': 3, 'subsample': 1.0}... Be patient! ;)\n",
      "Testing for method <models.easyXGB object at 0x7ff6a6ea8940> with param.s {'reg_alpha': 0.85, 'eta': 0.55, 'max_depth': 3, 'subsample': 1.0}... Be patient! ;)\n",
      "Testing for method <models.easyXGB object at 0x7ff6a6ea8940> with param.s {'reg_alpha': 0.85, 'eta': 0.6, 'max_depth': 3, 'subsample': 1.0}... Be patient! ;)\n",
      "Testing for method <models.easyXGB object at 0x7ff6a6ea8940> with param.s {'reg_alpha': 0.85, 'eta': 0.6499999999999999, 'max_depth': 3, 'subsample': 1.0}... Be patient! ;)\n",
      "Testing for method <models.easyXGB object at 0x7ff6a6ea8940> with param.s {'reg_alpha': 0.85, 'eta': 0.7, 'max_depth': 3, 'subsample': 1.0}... Be patient! ;)\n",
      "Testing for method <models.easyXGB object at 0x7ff6a6ea8940> with param.s {'reg_alpha': 0.85, 'eta': 0.5, 'max_depth': 4, 'subsample': 1.0}... Be patient! ;)\n",
      "Testing for method <models.easyXGB object at 0x7ff6a6ea8940> with param.s {'reg_alpha': 0.85, 'eta': 0.55, 'max_depth': 4, 'subsample': 1.0}... Be patient! ;)\n",
      "Testing for method <models.easyXGB object at 0x7ff6a6ea8940> with param.s {'reg_alpha': 0.85, 'eta': 0.6, 'max_depth': 4, 'subsample': 1.0}... Be patient! ;)\n",
      "Testing for method <models.easyXGB object at 0x7ff6a6ea8940> with param.s {'reg_alpha': 0.85, 'eta': 0.6499999999999999, 'max_depth': 4, 'subsample': 1.0}... Be patient! ;)\n",
      "Testing for method <models.easyXGB object at 0x7ff6a6ea8940> with param.s {'reg_alpha': 0.85, 'eta': 0.7, 'max_depth': 4, 'subsample': 1.0}... Be patient! ;)\n",
      "Testing for method <models.easyXGB object at 0x7ff6a6ea8940> with param.s {'reg_alpha': 0.85, 'eta': 0.5, 'max_depth': 5, 'subsample': 1.0}... Be patient! ;)\n",
      "Testing for method <models.easyXGB object at 0x7ff6a6ea8940> with param.s {'reg_alpha': 0.85, 'eta': 0.55, 'max_depth': 5, 'subsample': 1.0}... Be patient! ;)\n",
      "Testing for method <models.easyXGB object at 0x7ff6a6ea8940> with param.s {'reg_alpha': 0.85, 'eta': 0.6, 'max_depth': 5, 'subsample': 1.0}... Be patient! ;)\n",
      "Testing for method <models.easyXGB object at 0x7ff6a6ea8940> with param.s {'reg_alpha': 0.85, 'eta': 0.6499999999999999, 'max_depth': 5, 'subsample': 1.0}... Be patient! ;)\n",
      "Testing for method <models.easyXGB object at 0x7ff6a6ea8940> with param.s {'reg_alpha': 0.85, 'eta': 0.7, 'max_depth': 5, 'subsample': 1.0}... Be patient! ;)\n",
      "Testing for method <models.easyXGB object at 0x7ff6a6ea8940> with param.s {'reg_alpha': 0.85, 'eta': 0.5, 'max_depth': 6, 'subsample': 1.0}... Be patient! ;)\n",
      "Testing for method <models.easyXGB object at 0x7ff6a6ea8940> with param.s {'reg_alpha': 0.85, 'eta': 0.55, 'max_depth': 6, 'subsample': 1.0}... Be patient! ;)\n",
      "Testing for method <models.easyXGB object at 0x7ff6a6ea8940> with param.s {'reg_alpha': 0.85, 'eta': 0.6, 'max_depth': 6, 'subsample': 1.0}... Be patient! ;)\n",
      "Testing for method <models.easyXGB object at 0x7ff6a6ea8940> with param.s {'reg_alpha': 0.85, 'eta': 0.6499999999999999, 'max_depth': 6, 'subsample': 1.0}... Be patient! ;)\n",
      "Testing for method <models.easyXGB object at 0x7ff6a6ea8940> with param.s {'reg_alpha': 0.85, 'eta': 0.7, 'max_depth': 6, 'subsample': 1.0}... Be patient! ;)\n",
      "Testing for method <models.easyXGB object at 0x7ff6a6ea8940> with param.s {'reg_alpha': 0.85, 'eta': 0.5, 'max_depth': 7, 'subsample': 1.0}... Be patient! ;)\n",
      "Testing for method <models.easyXGB object at 0x7ff6a6ea8940> with param.s {'reg_alpha': 0.85, 'eta': 0.55, 'max_depth': 7, 'subsample': 1.0}... Be patient! ;)\n",
      "Testing for method <models.easyXGB object at 0x7ff6a6ea8940> with param.s {'reg_alpha': 0.85, 'eta': 0.6, 'max_depth': 7, 'subsample': 1.0}... Be patient! ;)\n",
      "Testing for method <models.easyXGB object at 0x7ff6a6ea8940> with param.s {'reg_alpha': 0.85, 'eta': 0.6499999999999999, 'max_depth': 7, 'subsample': 1.0}... Be patient! ;)\n",
      "Testing for method <models.easyXGB object at 0x7ff6a6ea8940> with param.s {'reg_alpha': 0.85, 'eta': 0.7, 'max_depth': 7, 'subsample': 1.0}... Be patient! ;)\n",
      "Testing for method <models.easyXGB object at 0x7ff6a6ea8940> with param.s {'reg_alpha': 0.85, 'eta': 0.5, 'max_depth': 8, 'subsample': 1.0}... Be patient! ;)\n",
      "Testing for method <models.easyXGB object at 0x7ff6a6ea8940> with param.s {'reg_alpha': 0.85, 'eta': 0.55, 'max_depth': 8, 'subsample': 1.0}... Be patient! ;)\n",
      "Testing for method <models.easyXGB object at 0x7ff6a6ea8940> with param.s {'reg_alpha': 0.85, 'eta': 0.6, 'max_depth': 8, 'subsample': 1.0}... Be patient! ;)\n",
      "Testing for method <models.easyXGB object at 0x7ff6a6ea8940> with param.s {'reg_alpha': 0.85, 'eta': 0.6499999999999999, 'max_depth': 8, 'subsample': 1.0}... Be patient! ;)\n",
      "Testing for method <models.easyXGB object at 0x7ff6a6ea8940> with param.s {'reg_alpha': 0.85, 'eta': 0.7, 'max_depth': 8, 'subsample': 1.0}... Be patient! ;)\n",
      "Testing for method <models.easyXGB object at 0x7ff6a6ea8940> with param.s {'reg_alpha': 0.85, 'eta': 0.5, 'max_depth': 9, 'subsample': 1.0}... Be patient! ;)\n",
      "Testing for method <models.easyXGB object at 0x7ff6a6ea8940> with param.s {'reg_alpha': 0.85, 'eta': 0.55, 'max_depth': 9, 'subsample': 1.0}... Be patient! ;)\n",
      "Testing for method <models.easyXGB object at 0x7ff6a6ea8940> with param.s {'reg_alpha': 0.85, 'eta': 0.6, 'max_depth': 9, 'subsample': 1.0}... Be patient! ;)\n",
      "Testing for method <models.easyXGB object at 0x7ff6a6ea8940> with param.s {'reg_alpha': 0.85, 'eta': 0.6499999999999999, 'max_depth': 9, 'subsample': 1.0}... Be patient! ;)\n",
      "Testing for method <models.easyXGB object at 0x7ff6a6ea8940> with param.s {'reg_alpha': 0.85, 'eta': 0.7, 'max_depth': 9, 'subsample': 1.0}... Be patient! ;)\n",
      "Testing for method <models.easyXGB object at 0x7ff6a6ea8940> with param.s {'reg_alpha': 0.9, 'eta': 0.5, 'max_depth': 1, 'subsample': 1.0}... Be patient! ;)\n",
      "Testing for method <models.easyXGB object at 0x7ff6a6ea8940> with param.s {'reg_alpha': 0.9, 'eta': 0.55, 'max_depth': 1, 'subsample': 1.0}... Be patient! ;)\n",
      "Testing for method <models.easyXGB object at 0x7ff6a6ea8940> with param.s {'reg_alpha': 0.9, 'eta': 0.6, 'max_depth': 1, 'subsample': 1.0}... Be patient! ;)\n",
      "Testing for method <models.easyXGB object at 0x7ff6a6ea8940> with param.s {'reg_alpha': 0.9, 'eta': 0.6499999999999999, 'max_depth': 1, 'subsample': 1.0}... Be patient! ;)\n",
      "Testing for method <models.easyXGB object at 0x7ff6a6ea8940> with param.s {'reg_alpha': 0.9, 'eta': 0.7, 'max_depth': 1, 'subsample': 1.0}... Be patient! ;)\n",
      "Testing for method <models.easyXGB object at 0x7ff6a6ea8940> with param.s {'reg_alpha': 0.9, 'eta': 0.5, 'max_depth': 2, 'subsample': 1.0}... Be patient! ;)\n"
     ]
    },
    {
     "name": "stdout",
     "output_type": "stream",
     "text": [
      "Testing for method <models.easyXGB object at 0x7ff6a6ea8940> with param.s {'reg_alpha': 0.9, 'eta': 0.55, 'max_depth': 2, 'subsample': 1.0}... Be patient! ;)\n",
      "Testing for method <models.easyXGB object at 0x7ff6a6ea8940> with param.s {'reg_alpha': 0.9, 'eta': 0.6, 'max_depth': 2, 'subsample': 1.0}... Be patient! ;)\n",
      "Testing for method <models.easyXGB object at 0x7ff6a6ea8940> with param.s {'reg_alpha': 0.9, 'eta': 0.6499999999999999, 'max_depth': 2, 'subsample': 1.0}... Be patient! ;)\n",
      "Testing for method <models.easyXGB object at 0x7ff6a6ea8940> with param.s {'reg_alpha': 0.9, 'eta': 0.7, 'max_depth': 2, 'subsample': 1.0}... Be patient! ;)\n",
      "Testing for method <models.easyXGB object at 0x7ff6a6ea8940> with param.s {'reg_alpha': 0.9, 'eta': 0.5, 'max_depth': 3, 'subsample': 1.0}... Be patient! ;)\n",
      "Testing for method <models.easyXGB object at 0x7ff6a6ea8940> with param.s {'reg_alpha': 0.9, 'eta': 0.55, 'max_depth': 3, 'subsample': 1.0}... Be patient! ;)\n",
      "Testing for method <models.easyXGB object at 0x7ff6a6ea8940> with param.s {'reg_alpha': 0.9, 'eta': 0.6, 'max_depth': 3, 'subsample': 1.0}... Be patient! ;)\n",
      "Testing for method <models.easyXGB object at 0x7ff6a6ea8940> with param.s {'reg_alpha': 0.9, 'eta': 0.6499999999999999, 'max_depth': 3, 'subsample': 1.0}... Be patient! ;)\n",
      "Testing for method <models.easyXGB object at 0x7ff6a6ea8940> with param.s {'reg_alpha': 0.9, 'eta': 0.7, 'max_depth': 3, 'subsample': 1.0}... Be patient! ;)\n",
      "Testing for method <models.easyXGB object at 0x7ff6a6ea8940> with param.s {'reg_alpha': 0.9, 'eta': 0.5, 'max_depth': 4, 'subsample': 1.0}... Be patient! ;)\n",
      "Testing for method <models.easyXGB object at 0x7ff6a6ea8940> with param.s {'reg_alpha': 0.9, 'eta': 0.55, 'max_depth': 4, 'subsample': 1.0}... Be patient! ;)\n",
      "Testing for method <models.easyXGB object at 0x7ff6a6ea8940> with param.s {'reg_alpha': 0.9, 'eta': 0.6, 'max_depth': 4, 'subsample': 1.0}... Be patient! ;)\n",
      "Testing for method <models.easyXGB object at 0x7ff6a6ea8940> with param.s {'reg_alpha': 0.9, 'eta': 0.6499999999999999, 'max_depth': 4, 'subsample': 1.0}... Be patient! ;)\n",
      "Testing for method <models.easyXGB object at 0x7ff6a6ea8940> with param.s {'reg_alpha': 0.9, 'eta': 0.7, 'max_depth': 4, 'subsample': 1.0}... Be patient! ;)\n",
      "Testing for method <models.easyXGB object at 0x7ff6a6ea8940> with param.s {'reg_alpha': 0.9, 'eta': 0.5, 'max_depth': 5, 'subsample': 1.0}... Be patient! ;)\n",
      "Testing for method <models.easyXGB object at 0x7ff6a6ea8940> with param.s {'reg_alpha': 0.9, 'eta': 0.55, 'max_depth': 5, 'subsample': 1.0}... Be patient! ;)\n",
      "Testing for method <models.easyXGB object at 0x7ff6a6ea8940> with param.s {'reg_alpha': 0.9, 'eta': 0.6, 'max_depth': 5, 'subsample': 1.0}... Be patient! ;)\n",
      "Testing for method <models.easyXGB object at 0x7ff6a6ea8940> with param.s {'reg_alpha': 0.9, 'eta': 0.6499999999999999, 'max_depth': 5, 'subsample': 1.0}... Be patient! ;)\n",
      "Testing for method <models.easyXGB object at 0x7ff6a6ea8940> with param.s {'reg_alpha': 0.9, 'eta': 0.7, 'max_depth': 5, 'subsample': 1.0}... Be patient! ;)\n",
      "Testing for method <models.easyXGB object at 0x7ff6a6ea8940> with param.s {'reg_alpha': 0.9, 'eta': 0.5, 'max_depth': 6, 'subsample': 1.0}... Be patient! ;)\n",
      "Testing for method <models.easyXGB object at 0x7ff6a6ea8940> with param.s {'reg_alpha': 0.9, 'eta': 0.55, 'max_depth': 6, 'subsample': 1.0}... Be patient! ;)\n",
      "Testing for method <models.easyXGB object at 0x7ff6a6ea8940> with param.s {'reg_alpha': 0.9, 'eta': 0.6, 'max_depth': 6, 'subsample': 1.0}... Be patient! ;)\n",
      "Testing for method <models.easyXGB object at 0x7ff6a6ea8940> with param.s {'reg_alpha': 0.9, 'eta': 0.6499999999999999, 'max_depth': 6, 'subsample': 1.0}... Be patient! ;)\n",
      "Testing for method <models.easyXGB object at 0x7ff6a6ea8940> with param.s {'reg_alpha': 0.9, 'eta': 0.7, 'max_depth': 6, 'subsample': 1.0}... Be patient! ;)\n",
      "Testing for method <models.easyXGB object at 0x7ff6a6ea8940> with param.s {'reg_alpha': 0.9, 'eta': 0.5, 'max_depth': 7, 'subsample': 1.0}... Be patient! ;)\n",
      "Testing for method <models.easyXGB object at 0x7ff6a6ea8940> with param.s {'reg_alpha': 0.9, 'eta': 0.55, 'max_depth': 7, 'subsample': 1.0}... Be patient! ;)\n",
      "Testing for method <models.easyXGB object at 0x7ff6a6ea8940> with param.s {'reg_alpha': 0.9, 'eta': 0.6, 'max_depth': 7, 'subsample': 1.0}... Be patient! ;)\n",
      "Testing for method <models.easyXGB object at 0x7ff6a6ea8940> with param.s {'reg_alpha': 0.9, 'eta': 0.6499999999999999, 'max_depth': 7, 'subsample': 1.0}... Be patient! ;)\n",
      "Testing for method <models.easyXGB object at 0x7ff6a6ea8940> with param.s {'reg_alpha': 0.9, 'eta': 0.7, 'max_depth': 7, 'subsample': 1.0}... Be patient! ;)\n",
      "Testing for method <models.easyXGB object at 0x7ff6a6ea8940> with param.s {'reg_alpha': 0.9, 'eta': 0.5, 'max_depth': 8, 'subsample': 1.0}... Be patient! ;)\n",
      "Testing for method <models.easyXGB object at 0x7ff6a6ea8940> with param.s {'reg_alpha': 0.9, 'eta': 0.55, 'max_depth': 8, 'subsample': 1.0}... Be patient! ;)\n",
      "Testing for method <models.easyXGB object at 0x7ff6a6ea8940> with param.s {'reg_alpha': 0.9, 'eta': 0.6, 'max_depth': 8, 'subsample': 1.0}... Be patient! ;)\n",
      "Testing for method <models.easyXGB object at 0x7ff6a6ea8940> with param.s {'reg_alpha': 0.9, 'eta': 0.6499999999999999, 'max_depth': 8, 'subsample': 1.0}... Be patient! ;)\n",
      "Testing for method <models.easyXGB object at 0x7ff6a6ea8940> with param.s {'reg_alpha': 0.9, 'eta': 0.7, 'max_depth': 8, 'subsample': 1.0}... Be patient! ;)\n",
      "Testing for method <models.easyXGB object at 0x7ff6a6ea8940> with param.s {'reg_alpha': 0.9, 'eta': 0.5, 'max_depth': 9, 'subsample': 1.0}... Be patient! ;)\n",
      "Testing for method <models.easyXGB object at 0x7ff6a6ea8940> with param.s {'reg_alpha': 0.9, 'eta': 0.55, 'max_depth': 9, 'subsample': 1.0}... Be patient! ;)\n",
      "Testing for method <models.easyXGB object at 0x7ff6a6ea8940> with param.s {'reg_alpha': 0.9, 'eta': 0.6, 'max_depth': 9, 'subsample': 1.0}... Be patient! ;)\n",
      "Testing for method <models.easyXGB object at 0x7ff6a6ea8940> with param.s {'reg_alpha': 0.9, 'eta': 0.6499999999999999, 'max_depth': 9, 'subsample': 1.0}... Be patient! ;)\n",
      "Testing for method <models.easyXGB object at 0x7ff6a6ea8940> with param.s {'reg_alpha': 0.9, 'eta': 0.7, 'max_depth': 9, 'subsample': 1.0}... Be patient! ;)\n",
      "Testing for method <models.easyXGB object at 0x7ff6a6ea8940> with param.s {'reg_alpha': 0.95, 'eta': 0.5, 'max_depth': 1, 'subsample': 1.0}... Be patient! ;)\n",
      "Testing for method <models.easyXGB object at 0x7ff6a6ea8940> with param.s {'reg_alpha': 0.95, 'eta': 0.55, 'max_depth': 1, 'subsample': 1.0}... Be patient! ;)\n",
      "Testing for method <models.easyXGB object at 0x7ff6a6ea8940> with param.s {'reg_alpha': 0.95, 'eta': 0.6, 'max_depth': 1, 'subsample': 1.0}... Be patient! ;)\n",
      "Testing for method <models.easyXGB object at 0x7ff6a6ea8940> with param.s {'reg_alpha': 0.95, 'eta': 0.6499999999999999, 'max_depth': 1, 'subsample': 1.0}... Be patient! ;)\n",
      "Testing for method <models.easyXGB object at 0x7ff6a6ea8940> with param.s {'reg_alpha': 0.95, 'eta': 0.7, 'max_depth': 1, 'subsample': 1.0}... Be patient! ;)\n",
      "Testing for method <models.easyXGB object at 0x7ff6a6ea8940> with param.s {'reg_alpha': 0.95, 'eta': 0.5, 'max_depth': 2, 'subsample': 1.0}... Be patient! ;)\n",
      "Testing for method <models.easyXGB object at 0x7ff6a6ea8940> with param.s {'reg_alpha': 0.95, 'eta': 0.55, 'max_depth': 2, 'subsample': 1.0}... Be patient! ;)\n",
      "Testing for method <models.easyXGB object at 0x7ff6a6ea8940> with param.s {'reg_alpha': 0.95, 'eta': 0.6, 'max_depth': 2, 'subsample': 1.0}... Be patient! ;)\n",
      "Testing for method <models.easyXGB object at 0x7ff6a6ea8940> with param.s {'reg_alpha': 0.95, 'eta': 0.6499999999999999, 'max_depth': 2, 'subsample': 1.0}... Be patient! ;)\n",
      "Testing for method <models.easyXGB object at 0x7ff6a6ea8940> with param.s {'reg_alpha': 0.95, 'eta': 0.7, 'max_depth': 2, 'subsample': 1.0}... Be patient! ;)\n",
      "Testing for method <models.easyXGB object at 0x7ff6a6ea8940> with param.s {'reg_alpha': 0.95, 'eta': 0.5, 'max_depth': 3, 'subsample': 1.0}... Be patient! ;)\n",
      "Testing for method <models.easyXGB object at 0x7ff6a6ea8940> with param.s {'reg_alpha': 0.95, 'eta': 0.55, 'max_depth': 3, 'subsample': 1.0}... Be patient! ;)\n",
      "Testing for method <models.easyXGB object at 0x7ff6a6ea8940> with param.s {'reg_alpha': 0.95, 'eta': 0.6, 'max_depth': 3, 'subsample': 1.0}... Be patient! ;)\n"
     ]
    },
    {
     "name": "stdout",
     "output_type": "stream",
     "text": [
      "Testing for method <models.easyXGB object at 0x7ff6a6ea8940> with param.s {'reg_alpha': 0.95, 'eta': 0.6499999999999999, 'max_depth': 3, 'subsample': 1.0}... Be patient! ;)\n",
      "Testing for method <models.easyXGB object at 0x7ff6a6ea8940> with param.s {'reg_alpha': 0.95, 'eta': 0.7, 'max_depth': 3, 'subsample': 1.0}... Be patient! ;)\n",
      "Testing for method <models.easyXGB object at 0x7ff6a6ea8940> with param.s {'reg_alpha': 0.95, 'eta': 0.5, 'max_depth': 4, 'subsample': 1.0}... Be patient! ;)\n",
      "Testing for method <models.easyXGB object at 0x7ff6a6ea8940> with param.s {'reg_alpha': 0.95, 'eta': 0.55, 'max_depth': 4, 'subsample': 1.0}... Be patient! ;)\n",
      "Testing for method <models.easyXGB object at 0x7ff6a6ea8940> with param.s {'reg_alpha': 0.95, 'eta': 0.6, 'max_depth': 4, 'subsample': 1.0}... Be patient! ;)\n",
      "Testing for method <models.easyXGB object at 0x7ff6a6ea8940> with param.s {'reg_alpha': 0.95, 'eta': 0.6499999999999999, 'max_depth': 4, 'subsample': 1.0}... Be patient! ;)\n",
      "Testing for method <models.easyXGB object at 0x7ff6a6ea8940> with param.s {'reg_alpha': 0.95, 'eta': 0.7, 'max_depth': 4, 'subsample': 1.0}... Be patient! ;)\n",
      "Testing for method <models.easyXGB object at 0x7ff6a6ea8940> with param.s {'reg_alpha': 0.95, 'eta': 0.5, 'max_depth': 5, 'subsample': 1.0}... Be patient! ;)\n",
      "Testing for method <models.easyXGB object at 0x7ff6a6ea8940> with param.s {'reg_alpha': 0.95, 'eta': 0.55, 'max_depth': 5, 'subsample': 1.0}... Be patient! ;)\n",
      "Testing for method <models.easyXGB object at 0x7ff6a6ea8940> with param.s {'reg_alpha': 0.95, 'eta': 0.6, 'max_depth': 5, 'subsample': 1.0}... Be patient! ;)\n",
      "Testing for method <models.easyXGB object at 0x7ff6a6ea8940> with param.s {'reg_alpha': 0.95, 'eta': 0.6499999999999999, 'max_depth': 5, 'subsample': 1.0}... Be patient! ;)\n",
      "Testing for method <models.easyXGB object at 0x7ff6a6ea8940> with param.s {'reg_alpha': 0.95, 'eta': 0.7, 'max_depth': 5, 'subsample': 1.0}... Be patient! ;)\n",
      "Testing for method <models.easyXGB object at 0x7ff6a6ea8940> with param.s {'reg_alpha': 0.95, 'eta': 0.5, 'max_depth': 6, 'subsample': 1.0}... Be patient! ;)\n",
      "Testing for method <models.easyXGB object at 0x7ff6a6ea8940> with param.s {'reg_alpha': 0.95, 'eta': 0.55, 'max_depth': 6, 'subsample': 1.0}... Be patient! ;)\n",
      "Testing for method <models.easyXGB object at 0x7ff6a6ea8940> with param.s {'reg_alpha': 0.95, 'eta': 0.6, 'max_depth': 6, 'subsample': 1.0}... Be patient! ;)\n",
      "Testing for method <models.easyXGB object at 0x7ff6a6ea8940> with param.s {'reg_alpha': 0.95, 'eta': 0.6499999999999999, 'max_depth': 6, 'subsample': 1.0}... Be patient! ;)\n",
      "Testing for method <models.easyXGB object at 0x7ff6a6ea8940> with param.s {'reg_alpha': 0.95, 'eta': 0.7, 'max_depth': 6, 'subsample': 1.0}... Be patient! ;)\n",
      "Testing for method <models.easyXGB object at 0x7ff6a6ea8940> with param.s {'reg_alpha': 0.95, 'eta': 0.5, 'max_depth': 7, 'subsample': 1.0}... Be patient! ;)\n",
      "Testing for method <models.easyXGB object at 0x7ff6a6ea8940> with param.s {'reg_alpha': 0.95, 'eta': 0.55, 'max_depth': 7, 'subsample': 1.0}... Be patient! ;)\n",
      "Testing for method <models.easyXGB object at 0x7ff6a6ea8940> with param.s {'reg_alpha': 0.95, 'eta': 0.6, 'max_depth': 7, 'subsample': 1.0}... Be patient! ;)\n",
      "Testing for method <models.easyXGB object at 0x7ff6a6ea8940> with param.s {'reg_alpha': 0.95, 'eta': 0.6499999999999999, 'max_depth': 7, 'subsample': 1.0}... Be patient! ;)\n",
      "Testing for method <models.easyXGB object at 0x7ff6a6ea8940> with param.s {'reg_alpha': 0.95, 'eta': 0.7, 'max_depth': 7, 'subsample': 1.0}... Be patient! ;)\n",
      "Testing for method <models.easyXGB object at 0x7ff6a6ea8940> with param.s {'reg_alpha': 0.95, 'eta': 0.5, 'max_depth': 8, 'subsample': 1.0}... Be patient! ;)\n",
      "Testing for method <models.easyXGB object at 0x7ff6a6ea8940> with param.s {'reg_alpha': 0.95, 'eta': 0.55, 'max_depth': 8, 'subsample': 1.0}... Be patient! ;)\n",
      "Testing for method <models.easyXGB object at 0x7ff6a6ea8940> with param.s {'reg_alpha': 0.95, 'eta': 0.6, 'max_depth': 8, 'subsample': 1.0}... Be patient! ;)\n",
      "Testing for method <models.easyXGB object at 0x7ff6a6ea8940> with param.s {'reg_alpha': 0.95, 'eta': 0.6499999999999999, 'max_depth': 8, 'subsample': 1.0}... Be patient! ;)\n",
      "Testing for method <models.easyXGB object at 0x7ff6a6ea8940> with param.s {'reg_alpha': 0.95, 'eta': 0.7, 'max_depth': 8, 'subsample': 1.0}... Be patient! ;)\n",
      "Testing for method <models.easyXGB object at 0x7ff6a6ea8940> with param.s {'reg_alpha': 0.95, 'eta': 0.5, 'max_depth': 9, 'subsample': 1.0}... Be patient! ;)\n",
      "Testing for method <models.easyXGB object at 0x7ff6a6ea8940> with param.s {'reg_alpha': 0.95, 'eta': 0.55, 'max_depth': 9, 'subsample': 1.0}... Be patient! ;)\n",
      "Testing for method <models.easyXGB object at 0x7ff6a6ea8940> with param.s {'reg_alpha': 0.95, 'eta': 0.6, 'max_depth': 9, 'subsample': 1.0}... Be patient! ;)\n",
      "Testing for method <models.easyXGB object at 0x7ff6a6ea8940> with param.s {'reg_alpha': 0.95, 'eta': 0.6499999999999999, 'max_depth': 9, 'subsample': 1.0}... Be patient! ;)\n",
      "Testing for method <models.easyXGB object at 0x7ff6a6ea8940> with param.s {'reg_alpha': 0.95, 'eta': 0.7, 'max_depth': 9, 'subsample': 1.0}... Be patient! ;)\n",
      "Testing for method <models.easyXGB object at 0x7ff6a6ea8940> with param.s {'reg_alpha': 1.0, 'eta': 0.5, 'max_depth': 1, 'subsample': 1.0}... Be patient! ;)\n",
      "Testing for method <models.easyXGB object at 0x7ff6a6ea8940> with param.s {'reg_alpha': 1.0, 'eta': 0.55, 'max_depth': 1, 'subsample': 1.0}... Be patient! ;)\n",
      "Testing for method <models.easyXGB object at 0x7ff6a6ea8940> with param.s {'reg_alpha': 1.0, 'eta': 0.6, 'max_depth': 1, 'subsample': 1.0}... Be patient! ;)\n",
      "Testing for method <models.easyXGB object at 0x7ff6a6ea8940> with param.s {'reg_alpha': 1.0, 'eta': 0.6499999999999999, 'max_depth': 1, 'subsample': 1.0}... Be patient! ;)\n",
      "Testing for method <models.easyXGB object at 0x7ff6a6ea8940> with param.s {'reg_alpha': 1.0, 'eta': 0.7, 'max_depth': 1, 'subsample': 1.0}... Be patient! ;)\n",
      "Testing for method <models.easyXGB object at 0x7ff6a6ea8940> with param.s {'reg_alpha': 1.0, 'eta': 0.5, 'max_depth': 2, 'subsample': 1.0}... Be patient! ;)\n",
      "Testing for method <models.easyXGB object at 0x7ff6a6ea8940> with param.s {'reg_alpha': 1.0, 'eta': 0.55, 'max_depth': 2, 'subsample': 1.0}... Be patient! ;)\n",
      "Testing for method <models.easyXGB object at 0x7ff6a6ea8940> with param.s {'reg_alpha': 1.0, 'eta': 0.6, 'max_depth': 2, 'subsample': 1.0}... Be patient! ;)\n",
      "Testing for method <models.easyXGB object at 0x7ff6a6ea8940> with param.s {'reg_alpha': 1.0, 'eta': 0.6499999999999999, 'max_depth': 2, 'subsample': 1.0}... Be patient! ;)\n",
      "Testing for method <models.easyXGB object at 0x7ff6a6ea8940> with param.s {'reg_alpha': 1.0, 'eta': 0.7, 'max_depth': 2, 'subsample': 1.0}... Be patient! ;)\n",
      "Testing for method <models.easyXGB object at 0x7ff6a6ea8940> with param.s {'reg_alpha': 1.0, 'eta': 0.5, 'max_depth': 3, 'subsample': 1.0}... Be patient! ;)\n",
      "Testing for method <models.easyXGB object at 0x7ff6a6ea8940> with param.s {'reg_alpha': 1.0, 'eta': 0.55, 'max_depth': 3, 'subsample': 1.0}... Be patient! ;)\n",
      "Testing for method <models.easyXGB object at 0x7ff6a6ea8940> with param.s {'reg_alpha': 1.0, 'eta': 0.6, 'max_depth': 3, 'subsample': 1.0}... Be patient! ;)\n",
      "Testing for method <models.easyXGB object at 0x7ff6a6ea8940> with param.s {'reg_alpha': 1.0, 'eta': 0.6499999999999999, 'max_depth': 3, 'subsample': 1.0}... Be patient! ;)\n",
      "Testing for method <models.easyXGB object at 0x7ff6a6ea8940> with param.s {'reg_alpha': 1.0, 'eta': 0.7, 'max_depth': 3, 'subsample': 1.0}... Be patient! ;)\n",
      "Testing for method <models.easyXGB object at 0x7ff6a6ea8940> with param.s {'reg_alpha': 1.0, 'eta': 0.5, 'max_depth': 4, 'subsample': 1.0}... Be patient! ;)\n",
      "Testing for method <models.easyXGB object at 0x7ff6a6ea8940> with param.s {'reg_alpha': 1.0, 'eta': 0.55, 'max_depth': 4, 'subsample': 1.0}... Be patient! ;)\n",
      "Testing for method <models.easyXGB object at 0x7ff6a6ea8940> with param.s {'reg_alpha': 1.0, 'eta': 0.6, 'max_depth': 4, 'subsample': 1.0}... Be patient! ;)\n",
      "Testing for method <models.easyXGB object at 0x7ff6a6ea8940> with param.s {'reg_alpha': 1.0, 'eta': 0.6499999999999999, 'max_depth': 4, 'subsample': 1.0}... Be patient! ;)\n"
     ]
    },
    {
     "name": "stdout",
     "output_type": "stream",
     "text": [
      "Testing for method <models.easyXGB object at 0x7ff6a6ea8940> with param.s {'reg_alpha': 1.0, 'eta': 0.7, 'max_depth': 4, 'subsample': 1.0}... Be patient! ;)\n",
      "Testing for method <models.easyXGB object at 0x7ff6a6ea8940> with param.s {'reg_alpha': 1.0, 'eta': 0.5, 'max_depth': 5, 'subsample': 1.0}... Be patient! ;)\n",
      "Testing for method <models.easyXGB object at 0x7ff6a6ea8940> with param.s {'reg_alpha': 1.0, 'eta': 0.55, 'max_depth': 5, 'subsample': 1.0}... Be patient! ;)\n",
      "Testing for method <models.easyXGB object at 0x7ff6a6ea8940> with param.s {'reg_alpha': 1.0, 'eta': 0.6, 'max_depth': 5, 'subsample': 1.0}... Be patient! ;)\n",
      "Testing for method <models.easyXGB object at 0x7ff6a6ea8940> with param.s {'reg_alpha': 1.0, 'eta': 0.6499999999999999, 'max_depth': 5, 'subsample': 1.0}... Be patient! ;)\n",
      "Testing for method <models.easyXGB object at 0x7ff6a6ea8940> with param.s {'reg_alpha': 1.0, 'eta': 0.7, 'max_depth': 5, 'subsample': 1.0}... Be patient! ;)\n",
      "Testing for method <models.easyXGB object at 0x7ff6a6ea8940> with param.s {'reg_alpha': 1.0, 'eta': 0.5, 'max_depth': 6, 'subsample': 1.0}... Be patient! ;)\n",
      "Testing for method <models.easyXGB object at 0x7ff6a6ea8940> with param.s {'reg_alpha': 1.0, 'eta': 0.55, 'max_depth': 6, 'subsample': 1.0}... Be patient! ;)\n",
      "Testing for method <models.easyXGB object at 0x7ff6a6ea8940> with param.s {'reg_alpha': 1.0, 'eta': 0.6, 'max_depth': 6, 'subsample': 1.0}... Be patient! ;)\n",
      "Testing for method <models.easyXGB object at 0x7ff6a6ea8940> with param.s {'reg_alpha': 1.0, 'eta': 0.6499999999999999, 'max_depth': 6, 'subsample': 1.0}... Be patient! ;)\n",
      "Testing for method <models.easyXGB object at 0x7ff6a6ea8940> with param.s {'reg_alpha': 1.0, 'eta': 0.7, 'max_depth': 6, 'subsample': 1.0}... Be patient! ;)\n",
      "Testing for method <models.easyXGB object at 0x7ff6a6ea8940> with param.s {'reg_alpha': 1.0, 'eta': 0.5, 'max_depth': 7, 'subsample': 1.0}... Be patient! ;)\n",
      "Testing for method <models.easyXGB object at 0x7ff6a6ea8940> with param.s {'reg_alpha': 1.0, 'eta': 0.55, 'max_depth': 7, 'subsample': 1.0}... Be patient! ;)\n",
      "Testing for method <models.easyXGB object at 0x7ff6a6ea8940> with param.s {'reg_alpha': 1.0, 'eta': 0.6, 'max_depth': 7, 'subsample': 1.0}... Be patient! ;)\n",
      "Testing for method <models.easyXGB object at 0x7ff6a6ea8940> with param.s {'reg_alpha': 1.0, 'eta': 0.6499999999999999, 'max_depth': 7, 'subsample': 1.0}... Be patient! ;)\n",
      "Testing for method <models.easyXGB object at 0x7ff6a6ea8940> with param.s {'reg_alpha': 1.0, 'eta': 0.7, 'max_depth': 7, 'subsample': 1.0}... Be patient! ;)\n",
      "Testing for method <models.easyXGB object at 0x7ff6a6ea8940> with param.s {'reg_alpha': 1.0, 'eta': 0.5, 'max_depth': 8, 'subsample': 1.0}... Be patient! ;)\n",
      "Testing for method <models.easyXGB object at 0x7ff6a6ea8940> with param.s {'reg_alpha': 1.0, 'eta': 0.55, 'max_depth': 8, 'subsample': 1.0}... Be patient! ;)\n",
      "Testing for method <models.easyXGB object at 0x7ff6a6ea8940> with param.s {'reg_alpha': 1.0, 'eta': 0.6, 'max_depth': 8, 'subsample': 1.0}... Be patient! ;)\n",
      "Testing for method <models.easyXGB object at 0x7ff6a6ea8940> with param.s {'reg_alpha': 1.0, 'eta': 0.6499999999999999, 'max_depth': 8, 'subsample': 1.0}... Be patient! ;)\n",
      "Testing for method <models.easyXGB object at 0x7ff6a6ea8940> with param.s {'reg_alpha': 1.0, 'eta': 0.7, 'max_depth': 8, 'subsample': 1.0}... Be patient! ;)\n",
      "Testing for method <models.easyXGB object at 0x7ff6a6ea8940> with param.s {'reg_alpha': 1.0, 'eta': 0.5, 'max_depth': 9, 'subsample': 1.0}... Be patient! ;)\n",
      "Testing for method <models.easyXGB object at 0x7ff6a6ea8940> with param.s {'reg_alpha': 1.0, 'eta': 0.55, 'max_depth': 9, 'subsample': 1.0}... Be patient! ;)\n",
      "Testing for method <models.easyXGB object at 0x7ff6a6ea8940> with param.s {'reg_alpha': 1.0, 'eta': 0.6, 'max_depth': 9, 'subsample': 1.0}... Be patient! ;)\n",
      "Testing for method <models.easyXGB object at 0x7ff6a6ea8940> with param.s {'reg_alpha': 1.0, 'eta': 0.6499999999999999, 'max_depth': 9, 'subsample': 1.0}... Be patient! ;)\n",
      "Testing for method <models.easyXGB object at 0x7ff6a6ea8940> with param.s {'reg_alpha': 1.0, 'eta': 0.7, 'max_depth': 9, 'subsample': 1.0}... Be patient! ;)\n"
     ]
    },
    {
     "data": {
      "image/png": "[encoded data removed]",
      "text/plain": [
       "<Figure size 432x288 with 1 Axes>"
      ]
     },
     "metadata": {},
     "output_type": "display_data"
    }
   ],
   "source": [
    "loss_tr, loss_te, method = multi_cross_validation(X_train, y2_train, \n",
    "                                                  methods=methods, k_fold=7, seed=np.random.randint(1000))"
   ]
  },
  {
   "cell_type": "code",
   "execution_count": 36,
   "metadata": {
    "scrolled": true
   },
   "outputs": [
    {
     "name": "stdout",
     "output_type": "stream",
     "text": [
      "[<models.easyXGB object at 0x7ff6a6ea8940>, {'reg_alpha': 0.9, 'eta': 0.6, 'max_depth': 4, 'subsample': 1.0}] \n",
      " MSE on train (CV):  0.01366229676867241 \n",
      " MSE on test (CV) :  0.013723096054249826\n"
     ]
    }
   ],
   "source": [
    "print(method, '\\n MSE on train (CV): ', loss_tr, '\\n MSE on test (CV) : ', loss_te)"
   ]
  },
  {
   "cell_type": "code",
   "execution_count": 50,
   "metadata": {},
   "outputs": [],
   "source": [
    "method = [0,{'reg_alpha': 0.9, 'eta': 0.6, 'max_depth': 4, 'subsample': 1.0}]"
   ]
  },
  {
   "cell_type": "code",
   "execution_count": 51,
   "metadata": {
    "scrolled": true
   },
   "outputs": [
    {
     "name": "stdout",
     "output_type": "stream",
     "text": [
      "MSE on train :  0.013471205889118085 \n",
      " MSE on test :  0.013968297698241695\n"
     ]
    }
   ],
   "source": [
    "easyXGBReg.fit(X_train, y2_train,  **method[1])\n",
    "\n",
    "print('MSE on train : ', easyXGBReg.score(X_train, y2_train), '\\n',\n",
    "     'MSE on test : ', easyXGBReg.score(X_test, y2_test))\n",
    "\n"
   ]
  },
  {
   "cell_type": "markdown",
   "metadata": {},
   "source": [
    "## y3"
   ]
  },
  {
   "cell_type": "code",
   "execution_count": 46,
   "metadata": {},
   "outputs": [
    {
     "name": "stdout",
     "output_type": "stream",
     "text": [
      "(91173, 5) (60783, 5)\n"
     ]
    }
   ],
   "source": [
    "X_train, X_test, y3_train, y3_test = train_test_split(X, y3, test_size=0.4, random_state=33)\n",
    "print(X_train.shape, X_test.shape)\n",
    "y3_train, y3_test = y3_train.values, y3_test.values"
   ]
  },
  {
   "cell_type": "code",
   "execution_count": 39,
   "metadata": {
    "scrolled": true
   },
   "outputs": [
    {
     "name": "stdout",
     "output_type": "stream",
     "text": [
      "Testing for method <models.easyXGB object at 0x7ff6a6ea8940> with param.s {'reg_alpha': 0.85, 'eta': 0.5, 'max_depth': 1, 'subsample': 1.0}... Be patient! ;)\n",
      "Testing for method <models.easyXGB object at 0x7ff6a6ea8940> with param.s {'reg_alpha': 0.85, 'eta': 0.55, 'max_depth': 1, 'subsample': 1.0}... Be patient! ;)\n",
      "Testing for method <models.easyXGB object at 0x7ff6a6ea8940> with param.s {'reg_alpha': 0.85, 'eta': 0.6, 'max_depth': 1, 'subsample': 1.0}... Be patient! ;)\n",
      "Testing for method <models.easyXGB object at 0x7ff6a6ea8940> with param.s {'reg_alpha': 0.85, 'eta': 0.6499999999999999, 'max_depth': 1, 'subsample': 1.0}... Be patient! ;)\n",
      "Testing for method <models.easyXGB object at 0x7ff6a6ea8940> with param.s {'reg_alpha': 0.85, 'eta': 0.7, 'max_depth': 1, 'subsample': 1.0}... Be patient! ;)\n",
      "Testing for method <models.easyXGB object at 0x7ff6a6ea8940> with param.s {'reg_alpha': 0.85, 'eta': 0.5, 'max_depth': 2, 'subsample': 1.0}... Be patient! ;)\n",
      "Testing for method <models.easyXGB object at 0x7ff6a6ea8940> with param.s {'reg_alpha': 0.85, 'eta': 0.55, 'max_depth': 2, 'subsample': 1.0}... Be patient! ;)\n",
      "Testing for method <models.easyXGB object at 0x7ff6a6ea8940> with param.s {'reg_alpha': 0.85, 'eta': 0.6, 'max_depth': 2, 'subsample': 1.0}... Be patient! ;)\n",
      "Testing for method <models.easyXGB object at 0x7ff6a6ea8940> with param.s {'reg_alpha': 0.85, 'eta': 0.6499999999999999, 'max_depth': 2, 'subsample': 1.0}... Be patient! ;)\n",
      "Testing for method <models.easyXGB object at 0x7ff6a6ea8940> with param.s {'reg_alpha': 0.85, 'eta': 0.7, 'max_depth': 2, 'subsample': 1.0}... Be patient! ;)\n",
      "Testing for method <models.easyXGB object at 0x7ff6a6ea8940> with param.s {'reg_alpha': 0.85, 'eta': 0.5, 'max_depth': 3, 'subsample': 1.0}... Be patient! ;)\n",
      "Testing for method <models.easyXGB object at 0x7ff6a6ea8940> with param.s {'reg_alpha': 0.85, 'eta': 0.55, 'max_depth': 3, 'subsample': 1.0}... Be patient! ;)\n",
      "Testing for method <models.easyXGB object at 0x7ff6a6ea8940> with param.s {'reg_alpha': 0.85, 'eta': 0.6, 'max_depth': 3, 'subsample': 1.0}... Be patient! ;)\n",
      "Testing for method <models.easyXGB object at 0x7ff6a6ea8940> with param.s {'reg_alpha': 0.85, 'eta': 0.6499999999999999, 'max_depth': 3, 'subsample': 1.0}... Be patient! ;)\n",
      "Testing for method <models.easyXGB object at 0x7ff6a6ea8940> with param.s {'reg_alpha': 0.85, 'eta': 0.7, 'max_depth': 3, 'subsample': 1.0}... Be patient! ;)\n",
      "Testing for method <models.easyXGB object at 0x7ff6a6ea8940> with param.s {'reg_alpha': 0.85, 'eta': 0.5, 'max_depth': 4, 'subsample': 1.0}... Be patient! ;)\n",
      "Testing for method <models.easyXGB object at 0x7ff6a6ea8940> with param.s {'reg_alpha': 0.85, 'eta': 0.55, 'max_depth': 4, 'subsample': 1.0}... Be patient! ;)\n",
      "Testing for method <models.easyXGB object at 0x7ff6a6ea8940> with param.s {'reg_alpha': 0.85, 'eta': 0.6, 'max_depth': 4, 'subsample': 1.0}... Be patient! ;)\n",
      "Testing for method <models.easyXGB object at 0x7ff6a6ea8940> with param.s {'reg_alpha': 0.85, 'eta': 0.6499999999999999, 'max_depth': 4, 'subsample': 1.0}... Be patient! ;)\n",
      "Testing for method <models.easyXGB object at 0x7ff6a6ea8940> with param.s {'reg_alpha': 0.85, 'eta': 0.7, 'max_depth': 4, 'subsample': 1.0}... Be patient! ;)\n",
      "Testing for method <models.easyXGB object at 0x7ff6a6ea8940> with param.s {'reg_alpha': 0.85, 'eta': 0.5, 'max_depth': 5, 'subsample': 1.0}... Be patient! ;)\n",
      "Testing for method <models.easyXGB object at 0x7ff6a6ea8940> with param.s {'reg_alpha': 0.85, 'eta': 0.55, 'max_depth': 5, 'subsample': 1.0}... Be patient! ;)\n",
      "Testing for method <models.easyXGB object at 0x7ff6a6ea8940> with param.s {'reg_alpha': 0.85, 'eta': 0.6, 'max_depth': 5, 'subsample': 1.0}... Be patient! ;)\n",
      "Testing for method <models.easyXGB object at 0x7ff6a6ea8940> with param.s {'reg_alpha': 0.85, 'eta': 0.6499999999999999, 'max_depth': 5, 'subsample': 1.0}... Be patient! ;)\n",
      "Testing for method <models.easyXGB object at 0x7ff6a6ea8940> with param.s {'reg_alpha': 0.85, 'eta': 0.7, 'max_depth': 5, 'subsample': 1.0}... Be patient! ;)\n",
      "Testing for method <models.easyXGB object at 0x7ff6a6ea8940> with param.s {'reg_alpha': 0.85, 'eta': 0.5, 'max_depth': 6, 'subsample': 1.0}... Be patient! ;)\n",
      "Testing for method <models.easyXGB object at 0x7ff6a6ea8940> with param.s {'reg_alpha': 0.85, 'eta': 0.55, 'max_depth': 6, 'subsample': 1.0}... Be patient! ;)\n",
      "Testing for method <models.easyXGB object at 0x7ff6a6ea8940> with param.s {'reg_alpha': 0.85, 'eta': 0.6, 'max_depth': 6, 'subsample': 1.0}... Be patient! ;)\n",
      "Testing for method <models.easyXGB object at 0x7ff6a6ea8940> with param.s {'reg_alpha': 0.85, 'eta': 0.6499999999999999, 'max_depth': 6, 'subsample': 1.0}... Be patient! ;)\n",
      "Testing for method <models.easyXGB object at 0x7ff6a6ea8940> with param.s {'reg_alpha': 0.85, 'eta': 0.7, 'max_depth': 6, 'subsample': 1.0}... Be patient! ;)\n",
      "Testing for method <models.easyXGB object at 0x7ff6a6ea8940> with param.s {'reg_alpha': 0.85, 'eta': 0.5, 'max_depth': 7, 'subsample': 1.0}... Be patient! ;)\n",
      "Testing for method <models.easyXGB object at 0x7ff6a6ea8940> with param.s {'reg_alpha': 0.85, 'eta': 0.55, 'max_depth': 7, 'subsample': 1.0}... Be patient! ;)\n",
      "Testing for method <models.easyXGB object at 0x7ff6a6ea8940> with param.s {'reg_alpha': 0.85, 'eta': 0.6, 'max_depth': 7, 'subsample': 1.0}... Be patient! ;)\n",
      "Testing for method <models.easyXGB object at 0x7ff6a6ea8940> with param.s {'reg_alpha': 0.85, 'eta': 0.6499999999999999, 'max_depth': 7, 'subsample': 1.0}... Be patient! ;)\n",
      "Testing for method <models.easyXGB object at 0x7ff6a6ea8940> with param.s {'reg_alpha': 0.85, 'eta': 0.7, 'max_depth': 7, 'subsample': 1.0}... Be patient! ;)\n",
      "Testing for method <models.easyXGB object at 0x7ff6a6ea8940> with param.s {'reg_alpha': 0.85, 'eta': 0.5, 'max_depth': 8, 'subsample': 1.0}... Be patient! ;)\n",
      "Testing for method <models.easyXGB object at 0x7ff6a6ea8940> with param.s {'reg_alpha': 0.85, 'eta': 0.55, 'max_depth': 8, 'subsample': 1.0}... Be patient! ;)\n",
      "Testing for method <models.easyXGB object at 0x7ff6a6ea8940> with param.s {'reg_alpha': 0.85, 'eta': 0.6, 'max_depth': 8, 'subsample': 1.0}... Be patient! ;)\n",
      "Testing for method <models.easyXGB object at 0x7ff6a6ea8940> with param.s {'reg_alpha': 0.85, 'eta': 0.6499999999999999, 'max_depth': 8, 'subsample': 1.0}... Be patient! ;)\n",
      "Testing for method <models.easyXGB object at 0x7ff6a6ea8940> with param.s {'reg_alpha': 0.85, 'eta': 0.7, 'max_depth': 8, 'subsample': 1.0}... Be patient! ;)\n",
      "Testing for method <models.easyXGB object at 0x7ff6a6ea8940> with param.s {'reg_alpha': 0.85, 'eta': 0.5, 'max_depth': 9, 'subsample': 1.0}... Be patient! ;)\n",
      "Testing for method <models.easyXGB object at 0x7ff6a6ea8940> with param.s {'reg_alpha': 0.85, 'eta': 0.55, 'max_depth': 9, 'subsample': 1.0}... Be patient! ;)\n",
      "Testing for method <models.easyXGB object at 0x7ff6a6ea8940> with param.s {'reg_alpha': 0.85, 'eta': 0.6, 'max_depth': 9, 'subsample': 1.0}... Be patient! ;)\n",
      "Testing for method <models.easyXGB object at 0x7ff6a6ea8940> with param.s {'reg_alpha': 0.85, 'eta': 0.6499999999999999, 'max_depth': 9, 'subsample': 1.0}... Be patient! ;)\n",
      "Testing for method <models.easyXGB object at 0x7ff6a6ea8940> with param.s {'reg_alpha': 0.85, 'eta': 0.7, 'max_depth': 9, 'subsample': 1.0}... Be patient! ;)\n",
      "Testing for method <models.easyXGB object at 0x7ff6a6ea8940> with param.s {'reg_alpha': 0.9, 'eta': 0.5, 'max_depth': 1, 'subsample': 1.0}... Be patient! ;)\n",
      "Testing for method <models.easyXGB object at 0x7ff6a6ea8940> with param.s {'reg_alpha': 0.9, 'eta': 0.55, 'max_depth': 1, 'subsample': 1.0}... Be patient! ;)\n",
      "Testing for method <models.easyXGB object at 0x7ff6a6ea8940> with param.s {'reg_alpha': 0.9, 'eta': 0.6, 'max_depth': 1, 'subsample': 1.0}... Be patient! ;)\n",
      "Testing for method <models.easyXGB object at 0x7ff6a6ea8940> with param.s {'reg_alpha': 0.9, 'eta': 0.6499999999999999, 'max_depth': 1, 'subsample': 1.0}... Be patient! ;)\n",
      "Testing for method <models.easyXGB object at 0x7ff6a6ea8940> with param.s {'reg_alpha': 0.9, 'eta': 0.7, 'max_depth': 1, 'subsample': 1.0}... Be patient! ;)\n",
      "Testing for method <models.easyXGB object at 0x7ff6a6ea8940> with param.s {'reg_alpha': 0.9, 'eta': 0.5, 'max_depth': 2, 'subsample': 1.0}... Be patient! ;)\n"
     ]
    },
    {
     "name": "stdout",
     "output_type": "stream",
     "text": [
      "Testing for method <models.easyXGB object at 0x7ff6a6ea8940> with param.s {'reg_alpha': 0.9, 'eta': 0.55, 'max_depth': 2, 'subsample': 1.0}... Be patient! ;)\n",
      "Testing for method <models.easyXGB object at 0x7ff6a6ea8940> with param.s {'reg_alpha': 0.9, 'eta': 0.6, 'max_depth': 2, 'subsample': 1.0}... Be patient! ;)\n",
      "Testing for method <models.easyXGB object at 0x7ff6a6ea8940> with param.s {'reg_alpha': 0.9, 'eta': 0.6499999999999999, 'max_depth': 2, 'subsample': 1.0}... Be patient! ;)\n",
      "Testing for method <models.easyXGB object at 0x7ff6a6ea8940> with param.s {'reg_alpha': 0.9, 'eta': 0.7, 'max_depth': 2, 'subsample': 1.0}... Be patient! ;)\n",
      "Testing for method <models.easyXGB object at 0x7ff6a6ea8940> with param.s {'reg_alpha': 0.9, 'eta': 0.5, 'max_depth': 3, 'subsample': 1.0}... Be patient! ;)\n",
      "Testing for method <models.easyXGB object at 0x7ff6a6ea8940> with param.s {'reg_alpha': 0.9, 'eta': 0.55, 'max_depth': 3, 'subsample': 1.0}... Be patient! ;)\n",
      "Testing for method <models.easyXGB object at 0x7ff6a6ea8940> with param.s {'reg_alpha': 0.9, 'eta': 0.6, 'max_depth': 3, 'subsample': 1.0}... Be patient! ;)\n",
      "Testing for method <models.easyXGB object at 0x7ff6a6ea8940> with param.s {'reg_alpha': 0.9, 'eta': 0.6499999999999999, 'max_depth': 3, 'subsample': 1.0}... Be patient! ;)\n",
      "Testing for method <models.easyXGB object at 0x7ff6a6ea8940> with param.s {'reg_alpha': 0.9, 'eta': 0.7, 'max_depth': 3, 'subsample': 1.0}... Be patient! ;)\n",
      "Testing for method <models.easyXGB object at 0x7ff6a6ea8940> with param.s {'reg_alpha': 0.9, 'eta': 0.5, 'max_depth': 4, 'subsample': 1.0}... Be patient! ;)\n",
      "Testing for method <models.easyXGB object at 0x7ff6a6ea8940> with param.s {'reg_alpha': 0.9, 'eta': 0.55, 'max_depth': 4, 'subsample': 1.0}... Be patient! ;)\n",
      "Testing for method <models.easyXGB object at 0x7ff6a6ea8940> with param.s {'reg_alpha': 0.9, 'eta': 0.6, 'max_depth': 4, 'subsample': 1.0}... Be patient! ;)\n",
      "Testing for method <models.easyXGB object at 0x7ff6a6ea8940> with param.s {'reg_alpha': 0.9, 'eta': 0.6499999999999999, 'max_depth': 4, 'subsample': 1.0}... Be patient! ;)\n",
      "Testing for method <models.easyXGB object at 0x7ff6a6ea8940> with param.s {'reg_alpha': 0.9, 'eta': 0.7, 'max_depth': 4, 'subsample': 1.0}... Be patient! ;)\n",
      "Testing for method <models.easyXGB object at 0x7ff6a6ea8940> with param.s {'reg_alpha': 0.9, 'eta': 0.5, 'max_depth': 5, 'subsample': 1.0}... Be patient! ;)\n",
      "Testing for method <models.easyXGB object at 0x7ff6a6ea8940> with param.s {'reg_alpha': 0.9, 'eta': 0.55, 'max_depth': 5, 'subsample': 1.0}... Be patient! ;)\n",
      "Testing for method <models.easyXGB object at 0x7ff6a6ea8940> with param.s {'reg_alpha': 0.9, 'eta': 0.6, 'max_depth': 5, 'subsample': 1.0}... Be patient! ;)\n",
      "Testing for method <models.easyXGB object at 0x7ff6a6ea8940> with param.s {'reg_alpha': 0.9, 'eta': 0.6499999999999999, 'max_depth': 5, 'subsample': 1.0}... Be patient! ;)\n",
      "Testing for method <models.easyXGB object at 0x7ff6a6ea8940> with param.s {'reg_alpha': 0.9, 'eta': 0.7, 'max_depth': 5, 'subsample': 1.0}... Be patient! ;)\n",
      "Testing for method <models.easyXGB object at 0x7ff6a6ea8940> with param.s {'reg_alpha': 0.9, 'eta': 0.5, 'max_depth': 6, 'subsample': 1.0}... Be patient! ;)\n",
      "Testing for method <models.easyXGB object at 0x7ff6a6ea8940> with param.s {'reg_alpha': 0.9, 'eta': 0.55, 'max_depth': 6, 'subsample': 1.0}... Be patient! ;)\n",
      "Testing for method <models.easyXGB object at 0x7ff6a6ea8940> with param.s {'reg_alpha': 0.9, 'eta': 0.6, 'max_depth': 6, 'subsample': 1.0}... Be patient! ;)\n",
      "Testing for method <models.easyXGB object at 0x7ff6a6ea8940> with param.s {'reg_alpha': 0.9, 'eta': 0.6499999999999999, 'max_depth': 6, 'subsample': 1.0}... Be patient! ;)\n",
      "Testing for method <models.easyXGB object at 0x7ff6a6ea8940> with param.s {'reg_alpha': 0.9, 'eta': 0.7, 'max_depth': 6, 'subsample': 1.0}... Be patient! ;)\n",
      "Testing for method <models.easyXGB object at 0x7ff6a6ea8940> with param.s {'reg_alpha': 0.9, 'eta': 0.5, 'max_depth': 7, 'subsample': 1.0}... Be patient! ;)\n",
      "Testing for method <models.easyXGB object at 0x7ff6a6ea8940> with param.s {'reg_alpha': 0.9, 'eta': 0.55, 'max_depth': 7, 'subsample': 1.0}... Be patient! ;)\n",
      "Testing for method <models.easyXGB object at 0x7ff6a6ea8940> with param.s {'reg_alpha': 0.9, 'eta': 0.6, 'max_depth': 7, 'subsample': 1.0}... Be patient! ;)\n",
      "Testing for method <models.easyXGB object at 0x7ff6a6ea8940> with param.s {'reg_alpha': 0.9, 'eta': 0.6499999999999999, 'max_depth': 7, 'subsample': 1.0}... Be patient! ;)\n",
      "Testing for method <models.easyXGB object at 0x7ff6a6ea8940> with param.s {'reg_alpha': 0.9, 'eta': 0.7, 'max_depth': 7, 'subsample': 1.0}... Be patient! ;)\n",
      "Testing for method <models.easyXGB object at 0x7ff6a6ea8940> with param.s {'reg_alpha': 0.9, 'eta': 0.5, 'max_depth': 8, 'subsample': 1.0}... Be patient! ;)\n",
      "Testing for method <models.easyXGB object at 0x7ff6a6ea8940> with param.s {'reg_alpha': 0.9, 'eta': 0.55, 'max_depth': 8, 'subsample': 1.0}... Be patient! ;)\n",
      "Testing for method <models.easyXGB object at 0x7ff6a6ea8940> with param.s {'reg_alpha': 0.9, 'eta': 0.6, 'max_depth': 8, 'subsample': 1.0}... Be patient! ;)\n",
      "Testing for method <models.easyXGB object at 0x7ff6a6ea8940> with param.s {'reg_alpha': 0.9, 'eta': 0.6499999999999999, 'max_depth': 8, 'subsample': 1.0}... Be patient! ;)\n",
      "Testing for method <models.easyXGB object at 0x7ff6a6ea8940> with param.s {'reg_alpha': 0.9, 'eta': 0.7, 'max_depth': 8, 'subsample': 1.0}... Be patient! ;)\n",
      "Testing for method <models.easyXGB object at 0x7ff6a6ea8940> with param.s {'reg_alpha': 0.9, 'eta': 0.5, 'max_depth': 9, 'subsample': 1.0}... Be patient! ;)\n",
      "Testing for method <models.easyXGB object at 0x7ff6a6ea8940> with param.s {'reg_alpha': 0.9, 'eta': 0.55, 'max_depth': 9, 'subsample': 1.0}... Be patient! ;)\n",
      "Testing for method <models.easyXGB object at 0x7ff6a6ea8940> with param.s {'reg_alpha': 0.9, 'eta': 0.6, 'max_depth': 9, 'subsample': 1.0}... Be patient! ;)\n",
      "Testing for method <models.easyXGB object at 0x7ff6a6ea8940> with param.s {'reg_alpha': 0.9, 'eta': 0.6499999999999999, 'max_depth': 9, 'subsample': 1.0}... Be patient! ;)\n",
      "Testing for method <models.easyXGB object at 0x7ff6a6ea8940> with param.s {'reg_alpha': 0.9, 'eta': 0.7, 'max_depth': 9, 'subsample': 1.0}... Be patient! ;)\n",
      "Testing for method <models.easyXGB object at 0x7ff6a6ea8940> with param.s {'reg_alpha': 0.95, 'eta': 0.5, 'max_depth': 1, 'subsample': 1.0}... Be patient! ;)\n",
      "Testing for method <models.easyXGB object at 0x7ff6a6ea8940> with param.s {'reg_alpha': 0.95, 'eta': 0.55, 'max_depth': 1, 'subsample': 1.0}... Be patient! ;)\n",
      "Testing for method <models.easyXGB object at 0x7ff6a6ea8940> with param.s {'reg_alpha': 0.95, 'eta': 0.6, 'max_depth': 1, 'subsample': 1.0}... Be patient! ;)\n",
      "Testing for method <models.easyXGB object at 0x7ff6a6ea8940> with param.s {'reg_alpha': 0.95, 'eta': 0.6499999999999999, 'max_depth': 1, 'subsample': 1.0}... Be patient! ;)\n",
      "Testing for method <models.easyXGB object at 0x7ff6a6ea8940> with param.s {'reg_alpha': 0.95, 'eta': 0.7, 'max_depth': 1, 'subsample': 1.0}... Be patient! ;)\n",
      "Testing for method <models.easyXGB object at 0x7ff6a6ea8940> with param.s {'reg_alpha': 0.95, 'eta': 0.5, 'max_depth': 2, 'subsample': 1.0}... Be patient! ;)\n",
      "Testing for method <models.easyXGB object at 0x7ff6a6ea8940> with param.s {'reg_alpha': 0.95, 'eta': 0.55, 'max_depth': 2, 'subsample': 1.0}... Be patient! ;)\n",
      "Testing for method <models.easyXGB object at 0x7ff6a6ea8940> with param.s {'reg_alpha': 0.95, 'eta': 0.6, 'max_depth': 2, 'subsample': 1.0}... Be patient! ;)\n",
      "Testing for method <models.easyXGB object at 0x7ff6a6ea8940> with param.s {'reg_alpha': 0.95, 'eta': 0.6499999999999999, 'max_depth': 2, 'subsample': 1.0}... Be patient! ;)\n",
      "Testing for method <models.easyXGB object at 0x7ff6a6ea8940> with param.s {'reg_alpha': 0.95, 'eta': 0.7, 'max_depth': 2, 'subsample': 1.0}... Be patient! ;)\n",
      "Testing for method <models.easyXGB object at 0x7ff6a6ea8940> with param.s {'reg_alpha': 0.95, 'eta': 0.5, 'max_depth': 3, 'subsample': 1.0}... Be patient! ;)\n",
      "Testing for method <models.easyXGB object at 0x7ff6a6ea8940> with param.s {'reg_alpha': 0.95, 'eta': 0.55, 'max_depth': 3, 'subsample': 1.0}... Be patient! ;)\n",
      "Testing for method <models.easyXGB object at 0x7ff6a6ea8940> with param.s {'reg_alpha': 0.95, 'eta': 0.6, 'max_depth': 3, 'subsample': 1.0}... Be patient! ;)\n"
     ]
    },
    {
     "name": "stdout",
     "output_type": "stream",
     "text": [
      "Testing for method <models.easyXGB object at 0x7ff6a6ea8940> with param.s {'reg_alpha': 0.95, 'eta': 0.6499999999999999, 'max_depth': 3, 'subsample': 1.0}... Be patient! ;)\n",
      "Testing for method <models.easyXGB object at 0x7ff6a6ea8940> with param.s {'reg_alpha': 0.95, 'eta': 0.7, 'max_depth': 3, 'subsample': 1.0}... Be patient! ;)\n",
      "Testing for method <models.easyXGB object at 0x7ff6a6ea8940> with param.s {'reg_alpha': 0.95, 'eta': 0.5, 'max_depth': 4, 'subsample': 1.0}... Be patient! ;)\n",
      "Testing for method <models.easyXGB object at 0x7ff6a6ea8940> with param.s {'reg_alpha': 0.95, 'eta': 0.55, 'max_depth': 4, 'subsample': 1.0}... Be patient! ;)\n",
      "Testing for method <models.easyXGB object at 0x7ff6a6ea8940> with param.s {'reg_alpha': 0.95, 'eta': 0.6, 'max_depth': 4, 'subsample': 1.0}... Be patient! ;)\n",
      "Testing for method <models.easyXGB object at 0x7ff6a6ea8940> with param.s {'reg_alpha': 0.95, 'eta': 0.6499999999999999, 'max_depth': 4, 'subsample': 1.0}... Be patient! ;)\n",
      "Testing for method <models.easyXGB object at 0x7ff6a6ea8940> with param.s {'reg_alpha': 0.95, 'eta': 0.7, 'max_depth': 4, 'subsample': 1.0}... Be patient! ;)\n",
      "Testing for method <models.easyXGB object at 0x7ff6a6ea8940> with param.s {'reg_alpha': 0.95, 'eta': 0.5, 'max_depth': 5, 'subsample': 1.0}... Be patient! ;)\n",
      "Testing for method <models.easyXGB object at 0x7ff6a6ea8940> with param.s {'reg_alpha': 0.95, 'eta': 0.55, 'max_depth': 5, 'subsample': 1.0}... Be patient! ;)\n",
      "Testing for method <models.easyXGB object at 0x7ff6a6ea8940> with param.s {'reg_alpha': 0.95, 'eta': 0.6, 'max_depth': 5, 'subsample': 1.0}... Be patient! ;)\n",
      "Testing for method <models.easyXGB object at 0x7ff6a6ea8940> with param.s {'reg_alpha': 0.95, 'eta': 0.6499999999999999, 'max_depth': 5, 'subsample': 1.0}... Be patient! ;)\n",
      "Testing for method <models.easyXGB object at 0x7ff6a6ea8940> with param.s {'reg_alpha': 0.95, 'eta': 0.7, 'max_depth': 5, 'subsample': 1.0}... Be patient! ;)\n",
      "Testing for method <models.easyXGB object at 0x7ff6a6ea8940> with param.s {'reg_alpha': 0.95, 'eta': 0.5, 'max_depth': 6, 'subsample': 1.0}... Be patient! ;)\n",
      "Testing for method <models.easyXGB object at 0x7ff6a6ea8940> with param.s {'reg_alpha': 0.95, 'eta': 0.55, 'max_depth': 6, 'subsample': 1.0}... Be patient! ;)\n",
      "Testing for method <models.easyXGB object at 0x7ff6a6ea8940> with param.s {'reg_alpha': 0.95, 'eta': 0.6, 'max_depth': 6, 'subsample': 1.0}... Be patient! ;)\n",
      "Testing for method <models.easyXGB object at 0x7ff6a6ea8940> with param.s {'reg_alpha': 0.95, 'eta': 0.6499999999999999, 'max_depth': 6, 'subsample': 1.0}... Be patient! ;)\n",
      "Testing for method <models.easyXGB object at 0x7ff6a6ea8940> with param.s {'reg_alpha': 0.95, 'eta': 0.7, 'max_depth': 6, 'subsample': 1.0}... Be patient! ;)\n",
      "Testing for method <models.easyXGB object at 0x7ff6a6ea8940> with param.s {'reg_alpha': 0.95, 'eta': 0.5, 'max_depth': 7, 'subsample': 1.0}... Be patient! ;)\n",
      "Testing for method <models.easyXGB object at 0x7ff6a6ea8940> with param.s {'reg_alpha': 0.95, 'eta': 0.55, 'max_depth': 7, 'subsample': 1.0}... Be patient! ;)\n",
      "Testing for method <models.easyXGB object at 0x7ff6a6ea8940> with param.s {'reg_alpha': 0.95, 'eta': 0.6, 'max_depth': 7, 'subsample': 1.0}... Be patient! ;)\n",
      "Testing for method <models.easyXGB object at 0x7ff6a6ea8940> with param.s {'reg_alpha': 0.95, 'eta': 0.6499999999999999, 'max_depth': 7, 'subsample': 1.0}... Be patient! ;)\n",
      "Testing for method <models.easyXGB object at 0x7ff6a6ea8940> with param.s {'reg_alpha': 0.95, 'eta': 0.7, 'max_depth': 7, 'subsample': 1.0}... Be patient! ;)\n",
      "Testing for method <models.easyXGB object at 0x7ff6a6ea8940> with param.s {'reg_alpha': 0.95, 'eta': 0.5, 'max_depth': 8, 'subsample': 1.0}... Be patient! ;)\n",
      "Testing for method <models.easyXGB object at 0x7ff6a6ea8940> with param.s {'reg_alpha': 0.95, 'eta': 0.55, 'max_depth': 8, 'subsample': 1.0}... Be patient! ;)\n",
      "Testing for method <models.easyXGB object at 0x7ff6a6ea8940> with param.s {'reg_alpha': 0.95, 'eta': 0.6, 'max_depth': 8, 'subsample': 1.0}... Be patient! ;)\n",
      "Testing for method <models.easyXGB object at 0x7ff6a6ea8940> with param.s {'reg_alpha': 0.95, 'eta': 0.6499999999999999, 'max_depth': 8, 'subsample': 1.0}... Be patient! ;)\n",
      "Testing for method <models.easyXGB object at 0x7ff6a6ea8940> with param.s {'reg_alpha': 0.95, 'eta': 0.7, 'max_depth': 8, 'subsample': 1.0}... Be patient! ;)\n",
      "Testing for method <models.easyXGB object at 0x7ff6a6ea8940> with param.s {'reg_alpha': 0.95, 'eta': 0.5, 'max_depth': 9, 'subsample': 1.0}... Be patient! ;)\n",
      "Testing for method <models.easyXGB object at 0x7ff6a6ea8940> with param.s {'reg_alpha': 0.95, 'eta': 0.55, 'max_depth': 9, 'subsample': 1.0}... Be patient! ;)\n",
      "Testing for method <models.easyXGB object at 0x7ff6a6ea8940> with param.s {'reg_alpha': 0.95, 'eta': 0.6, 'max_depth': 9, 'subsample': 1.0}... Be patient! ;)\n",
      "Testing for method <models.easyXGB object at 0x7ff6a6ea8940> with param.s {'reg_alpha': 0.95, 'eta': 0.6499999999999999, 'max_depth': 9, 'subsample': 1.0}... Be patient! ;)\n",
      "Testing for method <models.easyXGB object at 0x7ff6a6ea8940> with param.s {'reg_alpha': 0.95, 'eta': 0.7, 'max_depth': 9, 'subsample': 1.0}... Be patient! ;)\n",
      "Testing for method <models.easyXGB object at 0x7ff6a6ea8940> with param.s {'reg_alpha': 1.0, 'eta': 0.5, 'max_depth': 1, 'subsample': 1.0}... Be patient! ;)\n",
      "Testing for method <models.easyXGB object at 0x7ff6a6ea8940> with param.s {'reg_alpha': 1.0, 'eta': 0.55, 'max_depth': 1, 'subsample': 1.0}... Be patient! ;)\n",
      "Testing for method <models.easyXGB object at 0x7ff6a6ea8940> with param.s {'reg_alpha': 1.0, 'eta': 0.6, 'max_depth': 1, 'subsample': 1.0}... Be patient! ;)\n",
      "Testing for method <models.easyXGB object at 0x7ff6a6ea8940> with param.s {'reg_alpha': 1.0, 'eta': 0.6499999999999999, 'max_depth': 1, 'subsample': 1.0}... Be patient! ;)\n",
      "Testing for method <models.easyXGB object at 0x7ff6a6ea8940> with param.s {'reg_alpha': 1.0, 'eta': 0.7, 'max_depth': 1, 'subsample': 1.0}... Be patient! ;)\n",
      "Testing for method <models.easyXGB object at 0x7ff6a6ea8940> with param.s {'reg_alpha': 1.0, 'eta': 0.5, 'max_depth': 2, 'subsample': 1.0}... Be patient! ;)\n",
      "Testing for method <models.easyXGB object at 0x7ff6a6ea8940> with param.s {'reg_alpha': 1.0, 'eta': 0.55, 'max_depth': 2, 'subsample': 1.0}... Be patient! ;)\n",
      "Testing for method <models.easyXGB object at 0x7ff6a6ea8940> with param.s {'reg_alpha': 1.0, 'eta': 0.6, 'max_depth': 2, 'subsample': 1.0}... Be patient! ;)\n",
      "Testing for method <models.easyXGB object at 0x7ff6a6ea8940> with param.s {'reg_alpha': 1.0, 'eta': 0.6499999999999999, 'max_depth': 2, 'subsample': 1.0}... Be patient! ;)\n",
      "Testing for method <models.easyXGB object at 0x7ff6a6ea8940> with param.s {'reg_alpha': 1.0, 'eta': 0.7, 'max_depth': 2, 'subsample': 1.0}... Be patient! ;)\n",
      "Testing for method <models.easyXGB object at 0x7ff6a6ea8940> with param.s {'reg_alpha': 1.0, 'eta': 0.5, 'max_depth': 3, 'subsample': 1.0}... Be patient! ;)\n",
      "Testing for method <models.easyXGB object at 0x7ff6a6ea8940> with param.s {'reg_alpha': 1.0, 'eta': 0.55, 'max_depth': 3, 'subsample': 1.0}... Be patient! ;)\n",
      "Testing for method <models.easyXGB object at 0x7ff6a6ea8940> with param.s {'reg_alpha': 1.0, 'eta': 0.6, 'max_depth': 3, 'subsample': 1.0}... Be patient! ;)\n",
      "Testing for method <models.easyXGB object at 0x7ff6a6ea8940> with param.s {'reg_alpha': 1.0, 'eta': 0.6499999999999999, 'max_depth': 3, 'subsample': 1.0}... Be patient! ;)\n",
      "Testing for method <models.easyXGB object at 0x7ff6a6ea8940> with param.s {'reg_alpha': 1.0, 'eta': 0.7, 'max_depth': 3, 'subsample': 1.0}... Be patient! ;)\n",
      "Testing for method <models.easyXGB object at 0x7ff6a6ea8940> with param.s {'reg_alpha': 1.0, 'eta': 0.5, 'max_depth': 4, 'subsample': 1.0}... Be patient! ;)\n",
      "Testing for method <models.easyXGB object at 0x7ff6a6ea8940> with param.s {'reg_alpha': 1.0, 'eta': 0.55, 'max_depth': 4, 'subsample': 1.0}... Be patient! ;)\n",
      "Testing for method <models.easyXGB object at 0x7ff6a6ea8940> with param.s {'reg_alpha': 1.0, 'eta': 0.6, 'max_depth': 4, 'subsample': 1.0}... Be patient! ;)\n",
      "Testing for method <models.easyXGB object at 0x7ff6a6ea8940> with param.s {'reg_alpha': 1.0, 'eta': 0.6499999999999999, 'max_depth': 4, 'subsample': 1.0}... Be patient! ;)\n"
     ]
    },
    {
     "name": "stdout",
     "output_type": "stream",
     "text": [
      "Testing for method <models.easyXGB object at 0x7ff6a6ea8940> with param.s {'reg_alpha': 1.0, 'eta': 0.7, 'max_depth': 4, 'subsample': 1.0}... Be patient! ;)\n",
      "Testing for method <models.easyXGB object at 0x7ff6a6ea8940> with param.s {'reg_alpha': 1.0, 'eta': 0.5, 'max_depth': 5, 'subsample': 1.0}... Be patient! ;)\n",
      "Testing for method <models.easyXGB object at 0x7ff6a6ea8940> with param.s {'reg_alpha': 1.0, 'eta': 0.55, 'max_depth': 5, 'subsample': 1.0}... Be patient! ;)\n",
      "Testing for method <models.easyXGB object at 0x7ff6a6ea8940> with param.s {'reg_alpha': 1.0, 'eta': 0.6, 'max_depth': 5, 'subsample': 1.0}... Be patient! ;)\n",
      "Testing for method <models.easyXGB object at 0x7ff6a6ea8940> with param.s {'reg_alpha': 1.0, 'eta': 0.6499999999999999, 'max_depth': 5, 'subsample': 1.0}... Be patient! ;)\n",
      "Testing for method <models.easyXGB object at 0x7ff6a6ea8940> with param.s {'reg_alpha': 1.0, 'eta': 0.7, 'max_depth': 5, 'subsample': 1.0}... Be patient! ;)\n",
      "Testing for method <models.easyXGB object at 0x7ff6a6ea8940> with param.s {'reg_alpha': 1.0, 'eta': 0.5, 'max_depth': 6, 'subsample': 1.0}... Be patient! ;)\n",
      "Testing for method <models.easyXGB object at 0x7ff6a6ea8940> with param.s {'reg_alpha': 1.0, 'eta': 0.55, 'max_depth': 6, 'subsample': 1.0}... Be patient! ;)\n",
      "Testing for method <models.easyXGB object at 0x7ff6a6ea8940> with param.s {'reg_alpha': 1.0, 'eta': 0.6, 'max_depth': 6, 'subsample': 1.0}... Be patient! ;)\n",
      "Testing for method <models.easyXGB object at 0x7ff6a6ea8940> with param.s {'reg_alpha': 1.0, 'eta': 0.6499999999999999, 'max_depth': 6, 'subsample': 1.0}... Be patient! ;)\n",
      "Testing for method <models.easyXGB object at 0x7ff6a6ea8940> with param.s {'reg_alpha': 1.0, 'eta': 0.7, 'max_depth': 6, 'subsample': 1.0}... Be patient! ;)\n",
      "Testing for method <models.easyXGB object at 0x7ff6a6ea8940> with param.s {'reg_alpha': 1.0, 'eta': 0.5, 'max_depth': 7, 'subsample': 1.0}... Be patient! ;)\n",
      "Testing for method <models.easyXGB object at 0x7ff6a6ea8940> with param.s {'reg_alpha': 1.0, 'eta': 0.55, 'max_depth': 7, 'subsample': 1.0}... Be patient! ;)\n",
      "Testing for method <models.easyXGB object at 0x7ff6a6ea8940> with param.s {'reg_alpha': 1.0, 'eta': 0.6, 'max_depth': 7, 'subsample': 1.0}... Be patient! ;)\n",
      "Testing for method <models.easyXGB object at 0x7ff6a6ea8940> with param.s {'reg_alpha': 1.0, 'eta': 0.6499999999999999, 'max_depth': 7, 'subsample': 1.0}... Be patient! ;)\n",
      "Testing for method <models.easyXGB object at 0x7ff6a6ea8940> with param.s {'reg_alpha': 1.0, 'eta': 0.7, 'max_depth': 7, 'subsample': 1.0}... Be patient! ;)\n",
      "Testing for method <models.easyXGB object at 0x7ff6a6ea8940> with param.s {'reg_alpha': 1.0, 'eta': 0.5, 'max_depth': 8, 'subsample': 1.0}... Be patient! ;)\n",
      "Testing for method <models.easyXGB object at 0x7ff6a6ea8940> with param.s {'reg_alpha': 1.0, 'eta': 0.55, 'max_depth': 8, 'subsample': 1.0}... Be patient! ;)\n",
      "Testing for method <models.easyXGB object at 0x7ff6a6ea8940> with param.s {'reg_alpha': 1.0, 'eta': 0.6, 'max_depth': 8, 'subsample': 1.0}... Be patient! ;)\n",
      "Testing for method <models.easyXGB object at 0x7ff6a6ea8940> with param.s {'reg_alpha': 1.0, 'eta': 0.6499999999999999, 'max_depth': 8, 'subsample': 1.0}... Be patient! ;)\n",
      "Testing for method <models.easyXGB object at 0x7ff6a6ea8940> with param.s {'reg_alpha': 1.0, 'eta': 0.7, 'max_depth': 8, 'subsample': 1.0}... Be patient! ;)\n",
      "Testing for method <models.easyXGB object at 0x7ff6a6ea8940> with param.s {'reg_alpha': 1.0, 'eta': 0.5, 'max_depth': 9, 'subsample': 1.0}... Be patient! ;)\n",
      "Testing for method <models.easyXGB object at 0x7ff6a6ea8940> with param.s {'reg_alpha': 1.0, 'eta': 0.55, 'max_depth': 9, 'subsample': 1.0}... Be patient! ;)\n",
      "Testing for method <models.easyXGB object at 0x7ff6a6ea8940> with param.s {'reg_alpha': 1.0, 'eta': 0.6, 'max_depth': 9, 'subsample': 1.0}... Be patient! ;)\n",
      "Testing for method <models.easyXGB object at 0x7ff6a6ea8940> with param.s {'reg_alpha': 1.0, 'eta': 0.6499999999999999, 'max_depth': 9, 'subsample': 1.0}... Be patient! ;)\n",
      "Testing for method <models.easyXGB object at 0x7ff6a6ea8940> with param.s {'reg_alpha': 1.0, 'eta': 0.7, 'max_depth': 9, 'subsample': 1.0}... Be patient! ;)\n"
     ]
    },
    {
     "data": {
      "image/png": "[encoded data removed]",
      "text/plain": [
       "<Figure size 432x288 with 1 Axes>"
      ]
     },
     "metadata": {},
     "output_type": "display_data"
    }
   ],
   "source": [
    "loss_tr, loss_te, method = multi_cross_validation(X_train, y3_train, \n",
    "                                                  methods=methods, k_fold=7, seed=np.random.randint(1000))"
   ]
  },
  {
   "cell_type": "code",
   "execution_count": 40,
   "metadata": {
    "scrolled": true
   },
   "outputs": [
    {
     "name": "stdout",
     "output_type": "stream",
     "text": [
      "[<models.easyXGB object at 0x7ff6a6ea8940>, {'reg_alpha': 0.95, 'eta': 0.6499999999999999, 'max_depth': 4, 'subsample': 1.0}] \n",
      " MSE on train (CV):  0.013584698883356339 \n",
      " MSE on test (CV) :  0.013658328792530965\n"
     ]
    }
   ],
   "source": [
    "print(method, '\\n MSE on train (CV): ', loss_tr, '\\n MSE on test (CV) : ', loss_te)"
   ]
  },
  {
   "cell_type": "code",
   "execution_count": 47,
   "metadata": {},
   "outputs": [],
   "source": [
    "method = [0,{'reg_alpha': 0.95, 'eta': 0.65, 'max_depth': 4, 'subsample': 1.0}]"
   ]
  },
  {
   "cell_type": "code",
   "execution_count": 48,
   "metadata": {},
   "outputs": [
    {
     "name": "stdout",
     "output_type": "stream",
     "text": [
      "MSE on train :  0.013306938866246702 \n",
      " MSE on test :  0.013644848903191766\n"
     ]
    }
   ],
   "source": [
    "easyXGBReg.fit(X_train, y3_train, **method[1])\n",
    "\n",
    "print('MSE on train : ', easyXGBReg.score(X_train, y3_train), '\\n',\n",
    "     'MSE on test : ', easyXGBReg.score(X_test, y3_test))\n",
    "\n"
   ]
  },
  {
   "cell_type": "markdown",
   "metadata": {},
   "source": [
    "## y4"
   ]
  },
  {
   "cell_type": "code",
   "execution_count": 25,
   "metadata": {
    "scrolled": true
   },
   "outputs": [
    {
     "name": "stdout",
     "output_type": "stream",
     "text": [
      "(91173, 5) (60783, 5)\n"
     ]
    }
   ],
   "source": [
    "X_train, X_test, y4_train, y4_test = train_test_split(X, y4, test_size=0.4, random_state = 33)\n",
    "print(X_train.shape, X_test.shape)\n",
    "y4_train, y4_test = y4_train.values, y4_test.values"
   ]
  },
  {
   "cell_type": "code",
   "execution_count": 39,
   "metadata": {
    "scrolled": true
   },
   "outputs": [
    {
     "name": "stdout",
     "output_type": "stream",
     "text": [
      "Testing for method <regressions.easyXGB object at 0x7f532fadcac8> with param.s {'reg_alpha': 0.1, 'eta': 0.66, 'max_depth': 9, 'subsample': 1.0}... Be patient! ;)\n",
      "Testing for method <regressions.easyXGB object at 0x7f532fadcac8> with param.s {'reg_alpha': 0.1, 'eta': 0.66, 'max_depth': 10, 'subsample': 1.0}... Be patient! ;)\n",
      "Testing for method <regressions.easyXGB object at 0x7f532fadcac8> with param.s {'reg_alpha': 0.125, 'eta': 0.66, 'max_depth': 9, 'subsample': 1.0}... Be patient! ;)\n",
      "Testing for method <regressions.easyXGB object at 0x7f532fadcac8> with param.s {'reg_alpha': 0.125, 'eta': 0.66, 'max_depth': 10, 'subsample': 1.0}... Be patient! ;)\n",
      "Testing for method <regressions.easyXGB object at 0x7f532fadcac8> with param.s {'reg_alpha': 0.15000000000000002, 'eta': 0.66, 'max_depth': 9, 'subsample': 1.0}... Be patient! ;)\n",
      "Testing for method <regressions.easyXGB object at 0x7f532fadcac8> with param.s {'reg_alpha': 0.15000000000000002, 'eta': 0.66, 'max_depth': 10, 'subsample': 1.0}... Be patient! ;)\n",
      "Testing for method <regressions.easyXGB object at 0x7f532fadcac8> with param.s {'reg_alpha': 0.17500000000000002, 'eta': 0.66, 'max_depth': 9, 'subsample': 1.0}... Be patient! ;)\n",
      "Testing for method <regressions.easyXGB object at 0x7f532fadcac8> with param.s {'reg_alpha': 0.17500000000000002, 'eta': 0.66, 'max_depth': 10, 'subsample': 1.0}... Be patient! ;)\n",
      "Testing for method <regressions.easyXGB object at 0x7f532fadcac8> with param.s {'reg_alpha': 0.2, 'eta': 0.66, 'max_depth': 9, 'subsample': 1.0}... Be patient! ;)\n",
      "Testing for method <regressions.easyXGB object at 0x7f532fadcac8> with param.s {'reg_alpha': 0.2, 'eta': 0.66, 'max_depth': 10, 'subsample': 1.0}... Be patient! ;)\n",
      "Testing for method <regressions.easyXGB object at 0x7f532fadcac8> with param.s {'reg_alpha': 0.225, 'eta': 0.66, 'max_depth': 9, 'subsample': 1.0}... Be patient! ;)\n",
      "Testing for method <regressions.easyXGB object at 0x7f532fadcac8> with param.s {'reg_alpha': 0.225, 'eta': 0.66, 'max_depth': 10, 'subsample': 1.0}... Be patient! ;)\n",
      "Testing for method <regressions.easyXGB object at 0x7f532fadcac8> with param.s {'reg_alpha': 0.25, 'eta': 0.66, 'max_depth': 9, 'subsample': 1.0}... Be patient! ;)\n",
      "Testing for method <regressions.easyXGB object at 0x7f532fadcac8> with param.s {'reg_alpha': 0.25, 'eta': 0.66, 'max_depth': 10, 'subsample': 1.0}... Be patient! ;)\n",
      "Testing for method <regressions.easyXGB object at 0x7f532fadcac8> with param.s {'reg_alpha': 0.275, 'eta': 0.66, 'max_depth': 9, 'subsample': 1.0}... Be patient! ;)\n",
      "Testing for method <regressions.easyXGB object at 0x7f532fadcac8> with param.s {'reg_alpha': 0.275, 'eta': 0.66, 'max_depth': 10, 'subsample': 1.0}... Be patient! ;)\n",
      "Testing for method <regressions.easyXGB object at 0x7f532fadcac8> with param.s {'reg_alpha': 0.30000000000000004, 'eta': 0.66, 'max_depth': 9, 'subsample': 1.0}... Be patient! ;)\n",
      "Testing for method <regressions.easyXGB object at 0x7f532fadcac8> with param.s {'reg_alpha': 0.30000000000000004, 'eta': 0.66, 'max_depth': 10, 'subsample': 1.0}... Be patient! ;)\n",
      "Testing for method <regressions.easyXGB object at 0x7f532fadcac8> with param.s {'reg_alpha': 0.325, 'eta': 0.66, 'max_depth': 9, 'subsample': 1.0}... Be patient! ;)\n",
      "Testing for method <regressions.easyXGB object at 0x7f532fadcac8> with param.s {'reg_alpha': 0.325, 'eta': 0.66, 'max_depth': 10, 'subsample': 1.0}... Be patient! ;)\n",
      "Testing for method <regressions.easyXGB object at 0x7f532fadcac8> with param.s {'reg_alpha': 0.35, 'eta': 0.66, 'max_depth': 9, 'subsample': 1.0}... Be patient! ;)\n",
      "Testing for method <regressions.easyXGB object at 0x7f532fadcac8> with param.s {'reg_alpha': 0.35, 'eta': 0.66, 'max_depth': 10, 'subsample': 1.0}... Be patient! ;)\n",
      "Testing for method <regressions.easyXGB object at 0x7f532fadcac8> with param.s {'reg_alpha': 0.375, 'eta': 0.66, 'max_depth': 9, 'subsample': 1.0}... Be patient! ;)\n",
      "Testing for method <regressions.easyXGB object at 0x7f532fadcac8> with param.s {'reg_alpha': 0.375, 'eta': 0.66, 'max_depth': 10, 'subsample': 1.0}... Be patient! ;)\n",
      "Testing for method <regressions.easyXGB object at 0x7f532fadcac8> with param.s {'reg_alpha': 0.4, 'eta': 0.66, 'max_depth': 9, 'subsample': 1.0}... Be patient! ;)\n",
      "Testing for method <regressions.easyXGB object at 0x7f532fadcac8> with param.s {'reg_alpha': 0.4, 'eta': 0.66, 'max_depth': 10, 'subsample': 1.0}... Be patient! ;)\n",
      "Testing for method <regressions.easyXGB object at 0x7f532fadcac8> with param.s {'reg_alpha': 0.42500000000000004, 'eta': 0.66, 'max_depth': 9, 'subsample': 1.0}... Be patient! ;)\n",
      "Testing for method <regressions.easyXGB object at 0x7f532fadcac8> with param.s {'reg_alpha': 0.42500000000000004, 'eta': 0.66, 'max_depth': 10, 'subsample': 1.0}... Be patient! ;)\n",
      "Testing for method <regressions.easyXGB object at 0x7f532fadcac8> with param.s {'reg_alpha': 0.45000000000000007, 'eta': 0.66, 'max_depth': 9, 'subsample': 1.0}... Be patient! ;)\n",
      "Testing for method <regressions.easyXGB object at 0x7f532fadcac8> with param.s {'reg_alpha': 0.45000000000000007, 'eta': 0.66, 'max_depth': 10, 'subsample': 1.0}... Be patient! ;)\n",
      "Testing for method <regressions.easyXGB object at 0x7f532fadcac8> with param.s {'reg_alpha': 0.475, 'eta': 0.66, 'max_depth': 9, 'subsample': 1.0}... Be patient! ;)\n",
      "Testing for method <regressions.easyXGB object at 0x7f532fadcac8> with param.s {'reg_alpha': 0.475, 'eta': 0.66, 'max_depth': 10, 'subsample': 1.0}... Be patient! ;)\n",
      "Testing for method <regressions.easyXGB object at 0x7f532fadcac8> with param.s {'reg_alpha': 0.5, 'eta': 0.66, 'max_depth': 9, 'subsample': 1.0}... Be patient! ;)\n",
      "Testing for method <regressions.easyXGB object at 0x7f532fadcac8> with param.s {'reg_alpha': 0.5, 'eta': 0.66, 'max_depth': 10, 'subsample': 1.0}... Be patient! ;)\n",
      "Testing for method <regressions.easyXGB object at 0x7f532fadcac8> with param.s {'reg_alpha': 0.525, 'eta': 0.66, 'max_depth': 9, 'subsample': 1.0}... Be patient! ;)\n",
      "Testing for method <regressions.easyXGB object at 0x7f532fadcac8> with param.s {'reg_alpha': 0.525, 'eta': 0.66, 'max_depth': 10, 'subsample': 1.0}... Be patient! ;)\n",
      "Testing for method <regressions.easyXGB object at 0x7f532fadcac8> with param.s {'reg_alpha': 0.55, 'eta': 0.66, 'max_depth': 9, 'subsample': 1.0}... Be patient! ;)\n",
      "Testing for method <regressions.easyXGB object at 0x7f532fadcac8> with param.s {'reg_alpha': 0.55, 'eta': 0.66, 'max_depth': 10, 'subsample': 1.0}... Be patient! ;)\n",
      "Testing for method <regressions.easyXGB object at 0x7f532fadcac8> with param.s {'reg_alpha': 0.5750000000000001, 'eta': 0.66, 'max_depth': 9, 'subsample': 1.0}... Be patient! ;)\n",
      "Testing for method <regressions.easyXGB object at 0x7f532fadcac8> with param.s {'reg_alpha': 0.5750000000000001, 'eta': 0.66, 'max_depth': 10, 'subsample': 1.0}... Be patient! ;)\n",
      "Testing for method <regressions.easyXGB object at 0x7f532fadcac8> with param.s {'reg_alpha': 0.6, 'eta': 0.66, 'max_depth': 9, 'subsample': 1.0}... Be patient! ;)\n",
      "Testing for method <regressions.easyXGB object at 0x7f532fadcac8> with param.s {'reg_alpha': 0.6, 'eta': 0.66, 'max_depth': 10, 'subsample': 1.0}... Be patient! ;)\n"
     ]
    },
    {
     "data": {
      "image/png": "[encoded data removed]",
      "text/plain": [
       "<Figure size 432x288 with 1 Axes>"
      ]
     },
     "metadata": {},
     "output_type": "display_data"
    }
   ],
   "source": [
    "loss_tr, loss_te, method = multi_cross_validation(X_train, y4_train, \n",
    "                                                  methods=methods, k_fold=7, seed=7)"
   ]
  },
  {
   "cell_type": "code",
   "execution_count": 41,
   "metadata": {
    "scrolled": true
   },
   "outputs": [
    {
     "name": "stdout",
     "output_type": "stream",
     "text": [
      "[<regressions.easyXGB object at 0x7f532fadcac8>, {'reg_alpha': 0.4, 'eta': 0.66, 'max_depth': 10, 'subsample': 1.0}] \n",
      " MSE on train (CV):  0.0001710669760378219 \n",
      " MSE on test (CV) :  0.0001800898717086127\n"
     ]
    }
   ],
   "source": [
    "print(method, '\\n MSE on train (CV): ', loss_tr, '\\n MSE on test (CV) : ', loss_te)"
   ]
  },
  {
   "cell_type": "code",
   "execution_count": 42,
   "metadata": {},
   "outputs": [],
   "source": [
    "method = [0,{'reg_alpha': 0.4, 'eta': 0.66, 'max_depth': 10, 'subsample': 1.0}]"
   ]
  },
  {
   "cell_type": "code",
   "execution_count": 43,
   "metadata": {
    "scrolled": true
   },
   "outputs": [
    {
     "name": "stdout",
     "output_type": "stream",
     "text": [
      "MSE on train :  0.0001713204251958465 \n",
      " MSE on test :  0.00017948896365445238\n"
     ]
    }
   ],
   "source": [
    "easyXGBReg.fit(X_train, y4_train, **method[1])\n",
    "\n",
    "print('MSE on train : ', easyXGBReg.score(X_train, y4_train), '\\n',\n",
    "     'MSE on test : ', easyXGBReg.score(X_test, y4_test))\n",
    "\n"
   ]
  },
  {
   "cell_type": "code",
   "execution_count": 46,
   "metadata": {
    "scrolled": true
   },
   "outputs": [
    {
     "data": {
      "text/plain": [
       "<matplotlib.axes._subplots.AxesSubplot at 0x7ff6a6dbcc88>"
      ]
     },
     "execution_count": 46,
     "metadata": {},
     "output_type": "execute_result"
    },
    {
     "data": {
      "image/png": "[encoded data removed]",
      "text/plain": [
       "<Figure size 432x288 with 1 Axes>"
      ]
     },
     "metadata": {},
     "output_type": "display_data"
    }
   ],
   "source": [
    "xgb.plot_importance(easyXGBReg.model)"
   ]
  },
  {
   "cell_type": "markdown",
   "metadata": {},
   "source": [
    "## Reproduction"
   ]
  },
  {
   "cell_type": "code",
   "execution_count": 60,
   "metadata": {},
   "outputs": [],
   "source": [
    "from regressions import reproduction_XGBoost"
   ]
  },
  {
   "cell_type": "code",
   "execution_count": 64,
   "metadata": {
    "scrolled": true
   },
   "outputs": [
    {
     "name": "stdout",
     "output_type": "stream",
     "text": [
      "[00:31:36] /workspace/src/tree/updater_prune.cc:74: tree pruning end, 1 roots, 48 extra nodes, 0 pruned nodes, max_depth=6\n",
      "[00:31:36] /workspace/src/tree/updater_prune.cc:74: tree pruning end, 1 roots, 92 extra nodes, 0 pruned nodes, max_depth=7\n",
      "[00:31:36] /workspace/src/tree/updater_prune.cc:74: tree pruning end, 1 roots, 136 extra nodes, 0 pruned nodes, max_depth=9\n",
      "[00:31:36] /workspace/src/tree/updater_prune.cc:74: tree pruning end, 1 roots, 180 extra nodes, 0 pruned nodes, max_depth=9\n",
      "[00:31:36] /workspace/src/tree/updater_prune.cc:74: tree pruning end, 1 roots, 272 extra nodes, 0 pruned nodes, max_depth=9\n",
      "[00:31:36] /workspace/src/tree/updater_prune.cc:74: tree pruning end, 1 roots, 340 extra nodes, 0 pruned nodes, max_depth=9\n",
      "[00:31:36] /workspace/src/tree/updater_prune.cc:74: tree pruning end, 1 roots, 290 extra nodes, 0 pruned nodes, max_depth=9\n",
      "[00:31:36] /workspace/src/tree/updater_prune.cc:74: tree pruning end, 1 roots, 316 extra nodes, 0 pruned nodes, max_depth=9\n",
      "[00:31:36] /workspace/src/tree/updater_prune.cc:74: tree pruning end, 1 roots, 366 extra nodes, 0 pruned nodes, max_depth=9\n",
      "[00:31:36] /workspace/src/tree/updater_prune.cc:74: tree pruning end, 1 roots, 320 extra nodes, 0 pruned nodes, max_depth=9\n",
      "[00:31:37] /workspace/src/tree/updater_prune.cc:74: tree pruning end, 1 roots, 8 extra nodes, 0 pruned nodes, max_depth=3\n",
      "[00:31:37] /workspace/src/tree/updater_prune.cc:74: tree pruning end, 1 roots, 16 extra nodes, 0 pruned nodes, max_depth=4\n",
      "[00:31:37] /workspace/src/tree/updater_prune.cc:74: tree pruning end, 1 roots, 14 extra nodes, 0 pruned nodes, max_depth=4\n",
      "[00:31:37] /workspace/src/tree/updater_prune.cc:74: tree pruning end, 1 roots, 16 extra nodes, 0 pruned nodes, max_depth=4\n",
      "[00:31:37] /workspace/src/tree/updater_prune.cc:74: tree pruning end, 1 roots, 20 extra nodes, 0 pruned nodes, max_depth=4\n",
      "[00:31:37] /workspace/src/tree/updater_prune.cc:74: tree pruning end, 1 roots, 24 extra nodes, 0 pruned nodes, max_depth=4\n",
      "[00:31:37] /workspace/src/tree/updater_prune.cc:74: tree pruning end, 1 roots, 28 extra nodes, 0 pruned nodes, max_depth=4\n",
      "[00:31:37] /workspace/src/tree/updater_prune.cc:74: tree pruning end, 1 roots, 30 extra nodes, 0 pruned nodes, max_depth=4\n",
      "[00:31:37] /workspace/src/tree/updater_prune.cc:74: tree pruning end, 1 roots, 30 extra nodes, 0 pruned nodes, max_depth=4\n",
      "[00:31:37] /workspace/src/tree/updater_prune.cc:74: tree pruning end, 1 roots, 30 extra nodes, 0 pruned nodes, max_depth=4\n",
      "[00:31:37] /workspace/src/tree/updater_prune.cc:74: tree pruning end, 1 roots, 8 extra nodes, 0 pruned nodes, max_depth=3\n",
      "[00:31:37] /workspace/src/tree/updater_prune.cc:74: tree pruning end, 1 roots, 16 extra nodes, 0 pruned nodes, max_depth=4\n",
      "[00:31:37] /workspace/src/tree/updater_prune.cc:74: tree pruning end, 1 roots, 16 extra nodes, 0 pruned nodes, max_depth=4\n",
      "[00:31:37] /workspace/src/tree/updater_prune.cc:74: tree pruning end, 1 roots, 14 extra nodes, 0 pruned nodes, max_depth=4\n",
      "[00:31:37] /workspace/src/tree/updater_prune.cc:74: tree pruning end, 1 roots, 20 extra nodes, 0 pruned nodes, max_depth=4\n",
      "[00:31:37] /workspace/src/tree/updater_prune.cc:74: tree pruning end, 1 roots, 22 extra nodes, 0 pruned nodes, max_depth=4\n",
      "[00:31:37] /workspace/src/tree/updater_prune.cc:74: tree pruning end, 1 roots, 26 extra nodes, 0 pruned nodes, max_depth=4\n",
      "[00:31:37] /workspace/src/tree/updater_prune.cc:74: tree pruning end, 1 roots, 30 extra nodes, 0 pruned nodes, max_depth=4\n",
      "[00:31:37] /workspace/src/tree/updater_prune.cc:74: tree pruning end, 1 roots, 30 extra nodes, 0 pruned nodes, max_depth=4\n",
      "[00:31:37] /workspace/src/tree/updater_prune.cc:74: tree pruning end, 1 roots, 30 extra nodes, 0 pruned nodes, max_depth=4\n",
      "[00:31:37] /workspace/src/tree/updater_prune.cc:74: tree pruning end, 1 roots, 70 extra nodes, 0 pruned nodes, max_depth=10\n",
      "[00:31:37] /workspace/src/tree/updater_prune.cc:74: tree pruning end, 1 roots, 86 extra nodes, 0 pruned nodes, max_depth=10\n",
      "[00:31:37] /workspace/src/tree/updater_prune.cc:74: tree pruning end, 1 roots, 124 extra nodes, 0 pruned nodes, max_depth=10\n",
      "[00:31:37] /workspace/src/tree/updater_prune.cc:74: tree pruning end, 1 roots, 184 extra nodes, 0 pruned nodes, max_depth=10\n",
      "[00:31:37] /workspace/src/tree/updater_prune.cc:74: tree pruning end, 1 roots, 224 extra nodes, 0 pruned nodes, max_depth=10\n",
      "[00:31:37] /workspace/src/tree/updater_prune.cc:74: tree pruning end, 1 roots, 292 extra nodes, 0 pruned nodes, max_depth=10\n",
      "[00:31:37] /workspace/src/tree/updater_prune.cc:74: tree pruning end, 1 roots, 360 extra nodes, 0 pruned nodes, max_depth=10\n",
      "[00:31:37] /workspace/src/tree/updater_prune.cc:74: tree pruning end, 1 roots, 316 extra nodes, 0 pruned nodes, max_depth=10\n",
      "[00:31:37] /workspace/src/tree/updater_prune.cc:74: tree pruning end, 1 roots, 330 extra nodes, 0 pruned nodes, max_depth=10\n",
      "[00:31:37] /workspace/src/tree/updater_prune.cc:74: tree pruning end, 1 roots, 306 extra nodes, 0 pruned nodes, max_depth=10\n"
     ]
    }
   ],
   "source": [
    "ReproductionXGB = reproduction_XGBoost(csv=True)"
   ]
  },
  {
   "cell_type": "code",
   "execution_count": 65,
   "metadata": {},
   "outputs": [
    {
     "data": {
      "text/html": [
       "<div>\n",
       "<style scoped>\n",
       "    .dataframe tbody tr th:only-of-type {\n",
       "        vertical-align: middle;\n",
       "    }\n",
       "\n",
       "    .dataframe tbody tr th {\n",
       "        vertical-align: top;\n",
       "    }\n",
       "\n",
       "    .dataframe thead th {\n",
       "        text-align: right;\n",
       "    }\n",
       "</style>\n",
       "<table border=\"1\" class=\"dataframe\">\n",
       "  <thead>\n",
       "    <tr style=\"text-align: right;\">\n",
       "      <th></th>\n",
       "      <th>R^2 train score</th>\n",
       "      <th>R^2 test score</th>\n",
       "      <th>MSE train score</th>\n",
       "      <th>MSE test score</th>\n",
       "    </tr>\n",
       "  </thead>\n",
       "  <tbody>\n",
       "    <tr>\n",
       "      <th>k1_bwd_effective</th>\n",
       "      <td>0.999844</td>\n",
       "      <td>0.999838</td>\n",
       "      <td>0.000174</td>\n",
       "      <td>0.000180</td>\n",
       "    </tr>\n",
       "    <tr>\n",
       "      <th>k1_fwd_effective</th>\n",
       "      <td>0.918964</td>\n",
       "      <td>0.916180</td>\n",
       "      <td>0.013478</td>\n",
       "      <td>0.013971</td>\n",
       "    </tr>\n",
       "    <tr>\n",
       "      <th>k2_bwd_effective</th>\n",
       "      <td>0.920206</td>\n",
       "      <td>0.918504</td>\n",
       "      <td>0.013307</td>\n",
       "      <td>0.013651</td>\n",
       "    </tr>\n",
       "    <tr>\n",
       "      <th>k2_fwd_effective</th>\n",
       "      <td>0.999844</td>\n",
       "      <td>0.999839</td>\n",
       "      <td>0.000174</td>\n",
       "      <td>0.000180</td>\n",
       "    </tr>\n",
       "  </tbody>\n",
       "</table>\n",
       "</div>"
      ],
      "text/plain": [
       "                  R^2 train score  R^2 test score  MSE train score  \\\n",
       "k1_bwd_effective         0.999844        0.999838         0.000174   \n",
       "k1_fwd_effective         0.918964        0.916180         0.013478   \n",
       "k2_bwd_effective         0.920206        0.918504         0.013307   \n",
       "k2_fwd_effective         0.999844        0.999839         0.000174   \n",
       "\n",
       "                  MSE test score  \n",
       "k1_bwd_effective        0.000180  \n",
       "k1_fwd_effective        0.013971  \n",
       "k2_bwd_effective        0.013651  \n",
       "k2_fwd_effective        0.000180  "
      ]
     },
     "execution_count": 65,
     "metadata": {},
     "output_type": "execute_result"
    }
   ],
   "source": [
    "ReproductionXGB.scores"
   ]
  },
  {
   "cell_type": "markdown",
   "metadata": {},
   "source": [
    "# Tests"
   ]
  },
  {
   "cell_type": "code",
   "execution_count": 4,
   "metadata": {},
   "outputs": [],
   "source": [
    "df = pd.DataFrame({'2' : 3*[2],\n",
    "                  '3' : 3*[3],\n",
    "                  'cat' : [1,0,1]},\n",
    "                 index = list(range(3)))\n",
    "df = william.cast_categories(df, 'cat')"
   ]
  },
  {
   "cell_type": "code",
   "execution_count": 29,
   "metadata": {},
   "outputs": [
    {
     "name": "stdout",
     "output_type": "stream",
     "text": [
      "[[2 3 5]\n",
      " [2 3 5]\n",
      " [2 3 5]\n",
      " [2 3 5]]\n"
     ]
    }
   ],
   "source": [
    "M = np.array([[2,3,5]for _ in range(4)])\n",
    "print(M)"
   ]
  },
  {
   "cell_type": "code",
   "execution_count": 30,
   "metadata": {},
   "outputs": [
    {
     "name": "stdout",
     "output_type": "stream",
     "text": [
      "[[ 2.  3.  5.  4.  6. 10.  9. 15. 25.]\n",
      " [ 2.  3.  5.  4.  6. 10.  9. 15. 25.]\n",
      " [ 2.  3.  5.  4.  6. 10.  9. 15. 25.]\n",
      " [ 2.  3.  5.  4.  6. 10.  9. 15. 25.]]\n"
     ]
    }
   ],
   "source": [
    "poly = PolynomialFeatures(2, interaction_only=False, include_bias=False)\n",
    "M2 = poly.fit_transform(M)\n",
    "print(M2)"
   ]
  },
  {
   "cell_type": "code",
   "execution_count": 28,
   "metadata": {},
   "outputs": [
    {
     "data": {
      "text/plain": [
       "[1, 1, 1, 1, 0, 0, 0, 0, 0, 0, 0, 0]"
      ]
     },
     "execution_count": 28,
     "metadata": {},
     "output_type": "execute_result"
    }
   ],
   "source": [
    "cond = True\n",
    "[1 if x else 0 for x in df['a']==1]"
   ]
  },
  {
   "cell_type": "code",
   "execution_count": 31,
   "metadata": {},
   "outputs": [],
   "source": []
  },
  {
   "cell_type": "code",
   "execution_count": 32,
   "metadata": {},
   "outputs": [
    {
     "data": {
      "text/html": [
       "<div>\n",
       "<style scoped>\n",
       "    .dataframe tbody tr th:only-of-type {\n",
       "        vertical-align: middle;\n",
       "    }\n",
       "\n",
       "    .dataframe tbody tr th {\n",
       "        vertical-align: top;\n",
       "    }\n",
       "\n",
       "    .dataframe thead th {\n",
       "        text-align: right;\n",
       "    }\n",
       "</style>\n",
       "<table border=\"1\" class=\"dataframe\">\n",
       "  <thead>\n",
       "    <tr style=\"text-align: right;\">\n",
       "      <th></th>\n",
       "      <th>b</th>\n",
       "      <th>Number 1</th>\n",
       "      <th>Number 2</th>\n",
       "      <th>Number 3</th>\n",
       "    </tr>\n",
       "  </thead>\n",
       "  <tbody>\n",
       "    <tr>\n",
       "      <th>0</th>\n",
       "      <td>4</td>\n",
       "      <td>1</td>\n",
       "      <td>0</td>\n",
       "      <td>0</td>\n",
       "    </tr>\n",
       "    <tr>\n",
       "      <th>1</th>\n",
       "      <td>5</td>\n",
       "      <td>1</td>\n",
       "      <td>0</td>\n",
       "      <td>0</td>\n",
       "    </tr>\n",
       "    <tr>\n",
       "      <th>2</th>\n",
       "      <td>6</td>\n",
       "      <td>1</td>\n",
       "      <td>0</td>\n",
       "      <td>0</td>\n",
       "    </tr>\n",
       "    <tr>\n",
       "      <th>3</th>\n",
       "      <td>7</td>\n",
       "      <td>1</td>\n",
       "      <td>0</td>\n",
       "      <td>0</td>\n",
       "    </tr>\n",
       "    <tr>\n",
       "      <th>4</th>\n",
       "      <td>4</td>\n",
       "      <td>0</td>\n",
       "      <td>1</td>\n",
       "      <td>0</td>\n",
       "    </tr>\n",
       "    <tr>\n",
       "      <th>5</th>\n",
       "      <td>5</td>\n",
       "      <td>0</td>\n",
       "      <td>1</td>\n",
       "      <td>0</td>\n",
       "    </tr>\n",
       "    <tr>\n",
       "      <th>6</th>\n",
       "      <td>6</td>\n",
       "      <td>0</td>\n",
       "      <td>1</td>\n",
       "      <td>0</td>\n",
       "    </tr>\n",
       "    <tr>\n",
       "      <th>7</th>\n",
       "      <td>7</td>\n",
       "      <td>0</td>\n",
       "      <td>1</td>\n",
       "      <td>0</td>\n",
       "    </tr>\n",
       "    <tr>\n",
       "      <th>8</th>\n",
       "      <td>4</td>\n",
       "      <td>0</td>\n",
       "      <td>0</td>\n",
       "      <td>1</td>\n",
       "    </tr>\n",
       "    <tr>\n",
       "      <th>9</th>\n",
       "      <td>5</td>\n",
       "      <td>0</td>\n",
       "      <td>0</td>\n",
       "      <td>1</td>\n",
       "    </tr>\n",
       "    <tr>\n",
       "      <th>10</th>\n",
       "      <td>6</td>\n",
       "      <td>0</td>\n",
       "      <td>0</td>\n",
       "      <td>1</td>\n",
       "    </tr>\n",
       "    <tr>\n",
       "      <th>11</th>\n",
       "      <td>7</td>\n",
       "      <td>0</td>\n",
       "      <td>0</td>\n",
       "      <td>1</td>\n",
       "    </tr>\n",
       "  </tbody>\n",
       "</table>\n",
       "</div>"
      ],
      "text/plain": [
       "    b  Number 1  Number 2  Number 3\n",
       "0   4         1         0         0\n",
       "1   5         1         0         0\n",
       "2   6         1         0         0\n",
       "3   7         1         0         0\n",
       "4   4         0         1         0\n",
       "5   5         0         1         0\n",
       "6   6         0         1         0\n",
       "7   7         0         1         0\n",
       "8   4         0         0         1\n",
       "9   5         0         0         1\n",
       "10  6         0         0         1\n",
       "11  7         0         0         1"
      ]
     },
     "execution_count": 32,
     "metadata": {},
     "output_type": "execute_result"
    }
   ],
   "source": [
    "cast_categories(df, 'a', cat_name='Number')"
   ]
  },
  {
   "cell_type": "code",
   "execution_count": 16,
   "metadata": {},
   "outputs": [
    {
     "data": {
      "text/html": [
       "<div>\n",
       "<style scoped>\n",
       "    .dataframe tbody tr th:only-of-type {\n",
       "        vertical-align: middle;\n",
       "    }\n",
       "\n",
       "    .dataframe tbody tr th {\n",
       "        vertical-align: top;\n",
       "    }\n",
       "\n",
       "    .dataframe thead th {\n",
       "        text-align: right;\n",
       "    }\n",
       "</style>\n",
       "<table border=\"1\" class=\"dataframe\">\n",
       "  <thead>\n",
       "    <tr style=\"text-align: right;\">\n",
       "      <th></th>\n",
       "      <th>R^2 train score</th>\n",
       "      <th>R^2 test score</th>\n",
       "      <th>MSE train score</th>\n",
       "      <th>MSE test score</th>\n",
       "    </tr>\n",
       "  </thead>\n",
       "  <tbody>\n",
       "    <tr>\n",
       "      <th>k1_bwd_effective</th>\n",
       "      <td>0</td>\n",
       "      <td>0</td>\n",
       "      <td>0</td>\n",
       "      <td>0</td>\n",
       "    </tr>\n",
       "    <tr>\n",
       "      <th>k1_fwd_effective</th>\n",
       "      <td>0</td>\n",
       "      <td>0</td>\n",
       "      <td>0</td>\n",
       "      <td>0</td>\n",
       "    </tr>\n",
       "    <tr>\n",
       "      <th>k2_bwd_effective</th>\n",
       "      <td>0</td>\n",
       "      <td>0</td>\n",
       "      <td>0</td>\n",
       "      <td>0</td>\n",
       "    </tr>\n",
       "    <tr>\n",
       "      <th>k2_fwd_effective</th>\n",
       "      <td>0</td>\n",
       "      <td>0</td>\n",
       "      <td>0</td>\n",
       "      <td>0</td>\n",
       "    </tr>\n",
       "  </tbody>\n",
       "</table>\n",
       "</div>"
      ],
      "text/plain": [
       "                  R^2 train score  R^2 test score  MSE train score  \\\n",
       "k1_bwd_effective                0               0                0   \n",
       "k1_fwd_effective                0               0                0   \n",
       "k2_bwd_effective                0               0                0   \n",
       "k2_fwd_effective                0               0                0   \n",
       "\n",
       "                  MSE test score  \n",
       "k1_bwd_effective               0  \n",
       "k1_fwd_effective               0  \n",
       "k2_bwd_effective               0  \n",
       "k2_fwd_effective               0  "
      ]
     },
     "execution_count": 16,
     "metadata": {},
     "output_type": "execute_result"
    }
   ],
   "source": [
    "    scores = pd.DataFrame({'R^2 train score': 4*[0],\n",
    "                            'R^2 test score': 4*[0],\n",
    "                            'MSE train score': 4*[0],\n",
    "                            'MSE test score': 4*[0]}, index = ['k1_bwd_effective','k1_fwd_effective','k2_bwd_effective','k2_fwd_effective'])\n",
    "    scores"
   ]
  },
  {
   "cell_type": "code",
   "execution_count": 17,
   "metadata": {
    "scrolled": true
   },
   "outputs": [
    {
     "data": {
      "text/html": [
       "<div>\n",
       "<style scoped>\n",
       "    .dataframe tbody tr th:only-of-type {\n",
       "        vertical-align: middle;\n",
       "    }\n",
       "\n",
       "    .dataframe tbody tr th {\n",
       "        vertical-align: top;\n",
       "    }\n",
       "\n",
       "    .dataframe thead th {\n",
       "        text-align: right;\n",
       "    }\n",
       "</style>\n",
       "<table border=\"1\" class=\"dataframe\">\n",
       "  <thead>\n",
       "    <tr style=\"text-align: right;\">\n",
       "      <th></th>\n",
       "      <th>R^2 train score</th>\n",
       "      <th>R^2 test score</th>\n",
       "      <th>MSE train score</th>\n",
       "      <th>MSE test score</th>\n",
       "    </tr>\n",
       "  </thead>\n",
       "  <tbody>\n",
       "    <tr>\n",
       "      <th>k1_bwd_effective</th>\n",
       "      <td>0.988124</td>\n",
       "      <td>0.988077</td>\n",
       "      <td>0.01324</td>\n",
       "      <td>0.013262</td>\n",
       "    </tr>\n",
       "    <tr>\n",
       "      <th>k1_fwd_effective</th>\n",
       "      <td>0.000000</td>\n",
       "      <td>0.000000</td>\n",
       "      <td>0.00000</td>\n",
       "      <td>0.000000</td>\n",
       "    </tr>\n",
       "    <tr>\n",
       "      <th>k2_bwd_effective</th>\n",
       "      <td>0.000000</td>\n",
       "      <td>0.000000</td>\n",
       "      <td>0.00000</td>\n",
       "      <td>0.000000</td>\n",
       "    </tr>\n",
       "    <tr>\n",
       "      <th>k2_fwd_effective</th>\n",
       "      <td>0.000000</td>\n",
       "      <td>0.000000</td>\n",
       "      <td>0.00000</td>\n",
       "      <td>0.000000</td>\n",
       "    </tr>\n",
       "  </tbody>\n",
       "</table>\n",
       "</div>"
      ],
      "text/plain": [
       "                  R^2 train score  R^2 test score  MSE train score  \\\n",
       "k1_bwd_effective         0.988124        0.988077          0.01324   \n",
       "k1_fwd_effective         0.000000        0.000000          0.00000   \n",
       "k2_bwd_effective         0.000000        0.000000          0.00000   \n",
       "k2_fwd_effective         0.000000        0.000000          0.00000   \n",
       "\n",
       "                  MSE test score  \n",
       "k1_bwd_effective        0.013262  \n",
       "k1_fwd_effective        0.000000  \n",
       "k2_bwd_effective        0.000000  \n",
       "k2_fwd_effective        0.000000  "
      ]
     },
     "execution_count": 17,
     "metadata": {},
     "output_type": "execute_result"
    }
   ],
   "source": [
    "scores.loc['k1_bwd_effective'] = ridge_reg.score(X_train, y_train), ridge_reg.score(X_test, y_test), mean_squared_error(y_train, y_pred_tr),  mean_squared_error(y_test, y_pred_te)\n",
    "scores"
   ]
  },
  {
   "cell_type": "code",
   "execution_count": null,
   "metadata": {},
   "outputs": [],
   "source": []
  }
 ],
 "metadata": {
  "kernelspec": {
   "display_name": "Python 3",
   "language": "python",
   "name": "python3"
  },
  "language_info": {
   "codemirror_mode": {
    "name": "ipython",
    "version": 3
   },
   "file_extension": ".py",
   "mimetype": "text/x-python",
   "name": "python",
   "nbconvert_exporter": "python",
   "pygments_lexer": "ipython3",
   "version": "3.6.5"
  }
 },
 "nbformat": 4,
 "nbformat_minor": 2
}
