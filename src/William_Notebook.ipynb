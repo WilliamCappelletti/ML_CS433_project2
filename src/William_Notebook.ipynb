{
 "cells": [
  {
   "cell_type": "code",
   "execution_count": 1,
   "metadata": {},
   "outputs": [],
   "source": [
    "%matplotlib inline\n",
    "%load_ext autoreload\n",
    "%autoreload 2"
   ]
  },
  {
   "cell_type": "code",
   "execution_count": 2,
   "metadata": {},
   "outputs": [],
   "source": [
    "import numpy as np\n",
    "import pandas as pd\n",
    "\n",
    "from sklearn.linear_model import RidgeCV, LinearRegression\n",
    "from sklearn.svm import SVR\n",
    "from sklearn.preprocessing import PolynomialFeatures\n",
    "from sklearn.model_selection import train_test_split\n",
    "from sklearn.metrics import mean_squared_error, explained_variance_score\n",
    "\n",
    "\n",
    "from general_code import *"
   ]
  },
  {
   "cell_type": "code",
   "execution_count": 3,
   "metadata": {
    "scrolled": true
   },
   "outputs": [
    {
     "data": {
      "text/html": [
       "<div>\n",
       "<style scoped>\n",
       "    .dataframe tbody tr th:only-of-type {\n",
       "        vertical-align: middle;\n",
       "    }\n",
       "\n",
       "    .dataframe tbody tr th {\n",
       "        vertical-align: top;\n",
       "    }\n",
       "\n",
       "    .dataframe thead th {\n",
       "        text-align: right;\n",
       "    }\n",
       "</style>\n",
       "<table border=\"1\" class=\"dataframe\">\n",
       "  <thead>\n",
       "    <tr style=\"text-align: right;\">\n",
       "      <th></th>\n",
       "      <th>enzyme_complex_concentration</th>\n",
       "      <th>enzyme_concentration</th>\n",
       "      <th>mu_mass</th>\n",
       "      <th>product_concentration</th>\n",
       "      <th>substrate_concentration</th>\n",
       "      <th>volume_fraction</th>\n",
       "      <th>sigma_mass_0.0</th>\n",
       "      <th>sigma_mass_0.825</th>\n",
       "    </tr>\n",
       "  </thead>\n",
       "  <tbody>\n",
       "    <tr>\n",
       "      <th>0</th>\n",
       "      <td>-9.761988</td>\n",
       "      <td>-11.959213</td>\n",
       "      <td>12.1</td>\n",
       "      <td>-9.230543</td>\n",
       "      <td>-9.923690</td>\n",
       "      <td>0.2</td>\n",
       "      <td>1</td>\n",
       "      <td>0</td>\n",
       "    </tr>\n",
       "    <tr>\n",
       "      <th>1</th>\n",
       "      <td>-11.959213</td>\n",
       "      <td>-9.761988</td>\n",
       "      <td>12.1</td>\n",
       "      <td>-8.825078</td>\n",
       "      <td>-8.314252</td>\n",
       "      <td>0.2</td>\n",
       "      <td>1</td>\n",
       "      <td>0</td>\n",
       "    </tr>\n",
       "    <tr>\n",
       "      <th>2</th>\n",
       "      <td>-10.860600</td>\n",
       "      <td>-10.013302</td>\n",
       "      <td>31.9</td>\n",
       "      <td>-11.022305</td>\n",
       "      <td>-10.616837</td>\n",
       "      <td>0.2</td>\n",
       "      <td>0</td>\n",
       "      <td>1</td>\n",
       "    </tr>\n",
       "    <tr>\n",
       "      <th>3</th>\n",
       "      <td>-11.266065</td>\n",
       "      <td>-9.879771</td>\n",
       "      <td>12.1</td>\n",
       "      <td>-8.537396</td>\n",
       "      <td>-11.309985</td>\n",
       "      <td>0.4</td>\n",
       "      <td>1</td>\n",
       "      <td>0</td>\n",
       "    </tr>\n",
       "    <tr>\n",
       "      <th>4</th>\n",
       "      <td>-11.959213</td>\n",
       "      <td>-9.761988</td>\n",
       "      <td>12.1</td>\n",
       "      <td>-9.923690</td>\n",
       "      <td>-8.825078</td>\n",
       "      <td>0.2</td>\n",
       "      <td>1</td>\n",
       "      <td>0</td>\n",
       "    </tr>\n",
       "  </tbody>\n",
       "</table>\n",
       "</div>"
      ],
      "text/plain": [
       "   enzyme_complex_concentration  enzyme_concentration  mu_mass  \\\n",
       "0                     -9.761988            -11.959213     12.1   \n",
       "1                    -11.959213             -9.761988     12.1   \n",
       "2                    -10.860600            -10.013302     31.9   \n",
       "3                    -11.266065             -9.879771     12.1   \n",
       "4                    -11.959213             -9.761988     12.1   \n",
       "\n",
       "   product_concentration  substrate_concentration  volume_fraction  \\\n",
       "0              -9.230543                -9.923690              0.2   \n",
       "1              -8.825078                -8.314252              0.2   \n",
       "2             -11.022305               -10.616837              0.2   \n",
       "3              -8.537396               -11.309985              0.4   \n",
       "4              -9.923690                -8.825078              0.2   \n",
       "\n",
       "   sigma_mass_0.0  sigma_mass_0.825  \n",
       "0               1                 0  \n",
       "1               1                 0  \n",
       "2               0                 1  \n",
       "3               1                 0  \n",
       "4               1                 0  "
      ]
     },
     "execution_count": 3,
     "metadata": {},
     "output_type": "execute_result"
    }
   ],
   "source": [
    "#Read using function\n",
    "y1, y2, y3, y4, X, realization = william.data_initialization(realiz=True)\n",
    "X.head()"
   ]
  },
  {
   "cell_type": "code",
   "execution_count": 4,
   "metadata": {},
   "outputs": [],
   "source": [
    "Y = np.column_stack((y1, y1, y3, y4))"
   ]
  },
  {
   "cell_type": "raw",
   "metadata": {},
   "source": [
    "# define data path\n",
    "data_folder = '../Data/'"
   ]
  },
  {
   "cell_type": "raw",
   "metadata": {
    "scrolled": true
   },
   "source": [
    "# read the data\n",
    "data = pd.read_csv(data_folder +'result_full_factorial_pgm.zip', index_col = 0)\n",
    "data.drop('Unnamed: 0.1', axis=1, inplace=True)\n",
    "data.head()"
   ]
  },
  {
   "cell_type": "raw",
   "metadata": {},
   "source": [
    "y1, y2, y3, y4 = np.log(data['k1_bwd_effective']), np.log(data['k1_fwd_effective']), np.log(data['k2_bwd_effective']), np.log(data['k2_fwd_effective'])\n",
    "\n",
    "X = data.drop(columns=['k1_bwd_effective','k1_fwd_effective','k2_bwd_effective','k2_fwd_effective',\n",
    "                  'k1_bwd_relative','k1_fwd_relative','k2_bwd_relative','k2_fwd_relative', 'realization'])\n",
    "\n",
    "X = william.cast_categories(X, 'sigma_mass', 'sigma_mass')\n",
    "# X.head()"
   ]
  },
  {
   "cell_type": "markdown",
   "metadata": {},
   "source": [
    "# Plots\n",
    "\n",
    "Seems useless, nothing to see"
   ]
  },
  {
   "cell_type": "raw",
   "metadata": {},
   "source": [
    "import matplotlib.pyplot as plt\n",
    "import seaborn as sns\n",
    "sns.set()\n",
    "sns.set_style(\"whitegrid\")\n"
   ]
  },
  {
   "cell_type": "raw",
   "metadata": {},
   "source": [
    "plt.xlim(X['enzyme_concentration'].min(), X['enzyme_concentration'].max())\n",
    "sns.scatterplot(x=(X['enzyme_concentration']*X['sigma_mass_0.0']), y=y1)"
   ]
  },
  {
   "cell_type": "markdown",
   "metadata": {},
   "source": [
    "# Data engineering"
   ]
  },
  {
   "cell_type": "raw",
   "metadata": {},
   "source": [
    "X[['enzyme_complex_concentration', 'enzyme_concentration', 'product_concentration',\n",
    "       'substrate_concentration']] = X[['enzyme_complex_concentration', 'enzyme_concentration', 'product_concentration',\n",
    "       'substrate_concentration']].apply(lambda x : np.log(x))\n",
    "X.head()"
   ]
  },
  {
   "cell_type": "markdown",
   "metadata": {},
   "source": [
    "### Interactions w/o categories"
   ]
  },
  {
   "cell_type": "raw",
   "metadata": {},
   "source": [
    "X1 = X[['enzyme_complex_concentration', 'enzyme_concentration', 'mu_mass', 'product_concentration',\n",
    "       'substrate_concentration', 'volume_fraction']].values\n",
    "X2 = X[['sigma_mass_0.0', 'sigma_mass_0.825']].values"
   ]
  },
  {
   "cell_type": "raw",
   "metadata": {},
   "source": [
    "poly = PolynomialFeatures(2, interaction_only=True)\n",
    "X = np.concatenate((poly.fit_transform(X1), X2), axis=1)\n",
    "print(X.shape)"
   ]
  },
  {
   "cell_type": "markdown",
   "metadata": {},
   "source": [
    "### Interaction w/ categories\n",
    "works better. Best performance: _Degree 2 complete_"
   ]
  },
  {
   "cell_type": "raw",
   "metadata": {},
   "source": [
    "poly = PolynomialFeatures(2, interaction_only=False)\n",
    "X = poly.fit_transform(X.values)\n",
    "print(X.shape)"
   ]
  },
  {
   "cell_type": "code",
   "execution_count": 4,
   "metadata": {
    "scrolled": false
   },
   "outputs": [],
   "source": [
    "X = william.polynomial_data(X, 2, categories=True)"
   ]
  },
  {
   "cell_type": "code",
   "execution_count": 5,
   "metadata": {
    "scrolled": false
   },
   "outputs": [
    {
     "data": {
      "text/html": [
       "<div>\n",
       "<style scoped>\n",
       "    .dataframe tbody tr th:only-of-type {\n",
       "        vertical-align: middle;\n",
       "    }\n",
       "\n",
       "    .dataframe tbody tr th {\n",
       "        vertical-align: top;\n",
       "    }\n",
       "\n",
       "    .dataframe thead th {\n",
       "        text-align: right;\n",
       "    }\n",
       "</style>\n",
       "<table border=\"1\" class=\"dataframe\">\n",
       "  <thead>\n",
       "    <tr style=\"text-align: right;\">\n",
       "      <th></th>\n",
       "      <th>0</th>\n",
       "      <th>1</th>\n",
       "      <th>2</th>\n",
       "      <th>3</th>\n",
       "      <th>4</th>\n",
       "      <th>5</th>\n",
       "      <th>6</th>\n",
       "      <th>7</th>\n",
       "      <th>8</th>\n",
       "      <th>9</th>\n",
       "      <th>...</th>\n",
       "      <th>31</th>\n",
       "      <th>32</th>\n",
       "      <th>33</th>\n",
       "      <th>34</th>\n",
       "      <th>35</th>\n",
       "      <th>36</th>\n",
       "      <th>37</th>\n",
       "      <th>38</th>\n",
       "      <th>39</th>\n",
       "      <th>40</th>\n",
       "    </tr>\n",
       "  </thead>\n",
       "  <tbody>\n",
       "    <tr>\n",
       "      <th>0</th>\n",
       "      <td>-9.761988</td>\n",
       "      <td>-11.959213</td>\n",
       "      <td>12.1</td>\n",
       "      <td>-9.230543</td>\n",
       "      <td>-9.923690</td>\n",
       "      <td>0.2</td>\n",
       "      <td>95.296410</td>\n",
       "      <td>116.745689</td>\n",
       "      <td>-118.120055</td>\n",
       "      <td>90.108451</td>\n",
       "      <td>...</td>\n",
       "      <td>-9.923690</td>\n",
       "      <td>0.2</td>\n",
       "      <td>-0.0000</td>\n",
       "      <td>-0.000000</td>\n",
       "      <td>0.0</td>\n",
       "      <td>-0.000000</td>\n",
       "      <td>-0.000000</td>\n",
       "      <td>0.0</td>\n",
       "      <td>1.0</td>\n",
       "      <td>0.0</td>\n",
       "    </tr>\n",
       "    <tr>\n",
       "      <th>1</th>\n",
       "      <td>-11.959213</td>\n",
       "      <td>-9.761988</td>\n",
       "      <td>12.1</td>\n",
       "      <td>-8.825078</td>\n",
       "      <td>-8.314252</td>\n",
       "      <td>0.2</td>\n",
       "      <td>143.022765</td>\n",
       "      <td>116.745689</td>\n",
       "      <td>-144.706472</td>\n",
       "      <td>105.540983</td>\n",
       "      <td>...</td>\n",
       "      <td>-8.314252</td>\n",
       "      <td>0.2</td>\n",
       "      <td>-0.0000</td>\n",
       "      <td>-0.000000</td>\n",
       "      <td>0.0</td>\n",
       "      <td>-0.000000</td>\n",
       "      <td>-0.000000</td>\n",
       "      <td>0.0</td>\n",
       "      <td>1.0</td>\n",
       "      <td>0.0</td>\n",
       "    </tr>\n",
       "    <tr>\n",
       "      <th>2</th>\n",
       "      <td>-10.860600</td>\n",
       "      <td>-10.013302</td>\n",
       "      <td>31.9</td>\n",
       "      <td>-11.022305</td>\n",
       "      <td>-10.616837</td>\n",
       "      <td>0.2</td>\n",
       "      <td>117.952638</td>\n",
       "      <td>108.750475</td>\n",
       "      <td>-346.453149</td>\n",
       "      <td>119.708844</td>\n",
       "      <td>...</td>\n",
       "      <td>-0.000000</td>\n",
       "      <td>0.0</td>\n",
       "      <td>-10.8606</td>\n",
       "      <td>-10.013302</td>\n",
       "      <td>31.9</td>\n",
       "      <td>-11.022305</td>\n",
       "      <td>-10.616837</td>\n",
       "      <td>0.2</td>\n",
       "      <td>0.0</td>\n",
       "      <td>1.0</td>\n",
       "    </tr>\n",
       "    <tr>\n",
       "      <th>3</th>\n",
       "      <td>-11.266065</td>\n",
       "      <td>-9.879771</td>\n",
       "      <td>12.1</td>\n",
       "      <td>-8.537396</td>\n",
       "      <td>-11.309985</td>\n",
       "      <td>0.4</td>\n",
       "      <td>126.924229</td>\n",
       "      <td>111.306146</td>\n",
       "      <td>-136.319391</td>\n",
       "      <td>96.182860</td>\n",
       "      <td>...</td>\n",
       "      <td>-11.309985</td>\n",
       "      <td>0.4</td>\n",
       "      <td>-0.0000</td>\n",
       "      <td>-0.000000</td>\n",
       "      <td>0.0</td>\n",
       "      <td>-0.000000</td>\n",
       "      <td>-0.000000</td>\n",
       "      <td>0.0</td>\n",
       "      <td>1.0</td>\n",
       "      <td>0.0</td>\n",
       "    </tr>\n",
       "    <tr>\n",
       "      <th>4</th>\n",
       "      <td>-11.959213</td>\n",
       "      <td>-9.761988</td>\n",
       "      <td>12.1</td>\n",
       "      <td>-9.923690</td>\n",
       "      <td>-8.825078</td>\n",
       "      <td>0.2</td>\n",
       "      <td>143.022765</td>\n",
       "      <td>116.745689</td>\n",
       "      <td>-144.706472</td>\n",
       "      <td>118.679521</td>\n",
       "      <td>...</td>\n",
       "      <td>-8.825078</td>\n",
       "      <td>0.2</td>\n",
       "      <td>-0.0000</td>\n",
       "      <td>-0.000000</td>\n",
       "      <td>0.0</td>\n",
       "      <td>-0.000000</td>\n",
       "      <td>-0.000000</td>\n",
       "      <td>0.0</td>\n",
       "      <td>1.0</td>\n",
       "      <td>0.0</td>\n",
       "    </tr>\n",
       "  </tbody>\n",
       "</table>\n",
       "<p>5 rows × 41 columns</p>\n",
       "</div>"
      ],
      "text/plain": [
       "          0          1     2          3          4    5           6   \\\n",
       "0  -9.761988 -11.959213  12.1  -9.230543  -9.923690  0.2   95.296410   \n",
       "1 -11.959213  -9.761988  12.1  -8.825078  -8.314252  0.2  143.022765   \n",
       "2 -10.860600 -10.013302  31.9 -11.022305 -10.616837  0.2  117.952638   \n",
       "3 -11.266065  -9.879771  12.1  -8.537396 -11.309985  0.4  126.924229   \n",
       "4 -11.959213  -9.761988  12.1  -9.923690  -8.825078  0.2  143.022765   \n",
       "\n",
       "           7           8           9  ...          31   32       33  \\\n",
       "0  116.745689 -118.120055   90.108451 ...   -9.923690  0.2  -0.0000   \n",
       "1  116.745689 -144.706472  105.540983 ...   -8.314252  0.2  -0.0000   \n",
       "2  108.750475 -346.453149  119.708844 ...   -0.000000  0.0 -10.8606   \n",
       "3  111.306146 -136.319391   96.182860 ...  -11.309985  0.4  -0.0000   \n",
       "4  116.745689 -144.706472  118.679521 ...   -8.825078  0.2  -0.0000   \n",
       "\n",
       "          34    35         36         37   38   39   40  \n",
       "0  -0.000000   0.0  -0.000000  -0.000000  0.0  1.0  0.0  \n",
       "1  -0.000000   0.0  -0.000000  -0.000000  0.0  1.0  0.0  \n",
       "2 -10.013302  31.9 -11.022305 -10.616837  0.2  0.0  1.0  \n",
       "3  -0.000000   0.0  -0.000000  -0.000000  0.0  1.0  0.0  \n",
       "4  -0.000000   0.0  -0.000000  -0.000000  0.0  1.0  0.0  \n",
       "\n",
       "[5 rows x 41 columns]"
      ]
     },
     "execution_count": 5,
     "metadata": {},
     "output_type": "execute_result"
    }
   ],
   "source": [
    "checkX = pd.DataFrame(X[:10,:])\n",
    "checkX.head()"
   ]
  },
  {
   "cell_type": "markdown",
   "metadata": {},
   "source": [
    "# Regressions"
   ]
  },
  {
   "cell_type": "markdown",
   "metadata": {},
   "source": [
    "## Ridge"
   ]
  },
  {
   "cell_type": "markdown",
   "metadata": {},
   "source": [
    "### Train test splitting"
   ]
  },
  {
   "cell_type": "code",
   "execution_count": 36,
   "metadata": {
    "scrolled": true
   },
   "outputs": [
    {
     "name": "stdout",
     "output_type": "stream",
     "text": [
      "(91173, 41) (60783, 41)\n"
     ]
    }
   ],
   "source": [
    "X_train, X_test, y_train, y_test = train_test_split_realiz(X, Y, test_size=0.4)\n",
    "print(X_train.shape, X_test.shape)"
   ]
  },
  {
   "cell_type": "markdown",
   "metadata": {},
   "source": [
    "### Fitting"
   ]
  },
  {
   "cell_type": "code",
   "execution_count": 37,
   "metadata": {},
   "outputs": [
    {
     "name": "stdout",
     "output_type": "stream",
     "text": [
      "Train R^2 score :  0.9772271563630285 \n",
      " Test R^2 score :  0.9772781415924489\n"
     ]
    }
   ],
   "source": [
    "ridge_reg = RidgeCV(alphas=np.logspace(-5,5,40), fit_intercept=False).fit(X_train, y_train)\n",
    "\n",
    "print('Train R^2 score : ', ridge_reg.score(X_train, y_train), '\\n',\n",
    "     'Test R^2 score : ', ridge_reg.score(X_test, y_test))"
   ]
  },
  {
   "cell_type": "code",
   "execution_count": 38,
   "metadata": {
    "scrolled": true
   },
   "outputs": [
    {
     "name": "stdout",
     "output_type": "stream",
     "text": [
      "MSE on train :  0.01996362339452579 \n",
      " MSE on test :  0.019946237140155434\n"
     ]
    }
   ],
   "source": [
    "y_pred_tr = ridge_reg.predict(X_train)\n",
    "y_pred_te = ridge_reg.predict(X_test)\n",
    "\n",
    "print('MSE on train : ', mean_squared_error(y_train, y_pred_tr), '\\n',\n",
    "     'MSE on test : ', mean_squared_error(y_test, y_pred_te))"
   ]
  },
  {
   "cell_type": "code",
   "execution_count": 11,
   "metadata": {},
   "outputs": [
    {
     "name": "stdout",
     "output_type": "stream",
     "text": [
      "alpha :  0.003665241237079626 \n",
      " Coeff :  [ 1.40099101e-02 -7.03980994e-02 -3.92428024e-02  5.02744229e-02\n",
      " -4.51612149e-02 -4.91458286e-02 -1.44835325e+00  1.31997844e-02\n",
      "  8.10125627e-04  8.17234446e-04 -1.41009590e-02 -1.01627469e-04\n",
      "  1.83142034e-04 -1.88953448e-04 -3.11658506e-03 -3.51916379e-02\n",
      " -3.52064617e-02  3.02798060e-03 -1.45337722e-04  4.10709773e-04\n",
      " -4.27640060e-04  6.83188972e-03 -2.11970139e-02 -1.80457878e-02\n",
      " -1.60080405e-03  4.07090122e-05 -2.27312648e-05  1.11969489e-01\n",
      "  2.44314134e-02  2.58430079e-02 -3.49407711e-03 -1.82472524e-04\n",
      " -1.87094169e-02 -2.26375752e-02 -2.25236390e-02 -3.27078944e-03\n",
      " -1.64966589e-02 -2.59135698e-02 -2.32322581e-02 -1.23393055e+01\n",
      " -1.11338067e+00 -3.34972584e-01  1.31997844e-02  0.00000000e+00\n",
      "  8.10125606e-04]\n"
     ]
    }
   ],
   "source": [
    "print('alpha : ', ridge_reg.alpha_,'\\n',\n",
    "     'Coeff : ', ridge_reg.coef_)"
   ]
  },
  {
   "cell_type": "code",
   "execution_count": 14,
   "metadata": {},
   "outputs": [],
   "source": [
    "from sklearn import feature_selection"
   ]
  },
  {
   "cell_type": "code",
   "execution_count": 15,
   "metadata": {},
   "outputs": [
    {
     "ename": "NameError",
     "evalue": "name 'feature_selection' is not defined",
     "output_type": "error",
     "traceback": [
      "\u001b[0;31m---------------------------------------------------------------------------\u001b[0m",
      "\u001b[0;31mNameError\u001b[0m                                 Traceback (most recent call last)",
      "\u001b[0;32m<ipython-input-15-0ff376a4a358>\u001b[0m in \u001b[0;36m<module>\u001b[0;34m()\u001b[0m\n\u001b[0;32m----> 1\u001b[0;31m \u001b[0mselection\u001b[0m \u001b[0;34m=\u001b[0m \u001b[0mfeature_selection\u001b[0m\u001b[0;34m.\u001b[0m\u001b[0mRFE\u001b[0m\u001b[0;34m(\u001b[0m\u001b[0mridge_reg\u001b[0m\u001b[0;34m)\u001b[0m\u001b[0;34m.\u001b[0m\u001b[0mfit\u001b[0m\u001b[0;34m(\u001b[0m\u001b[0mX_train\u001b[0m\u001b[0;34m,\u001b[0m \u001b[0my_train\u001b[0m\u001b[0;34m)\u001b[0m\u001b[0;34m\u001b[0m\u001b[0m\n\u001b[0m\u001b[1;32m      2\u001b[0m \u001b[0;34m\u001b[0m\u001b[0m\n\u001b[1;32m      3\u001b[0m \u001b[0my_pred_tr\u001b[0m \u001b[0;34m=\u001b[0m \u001b[0mselection\u001b[0m\u001b[0;34m.\u001b[0m\u001b[0mpredict\u001b[0m\u001b[0;34m(\u001b[0m\u001b[0mX_train\u001b[0m\u001b[0;34m)\u001b[0m\u001b[0;34m\u001b[0m\u001b[0m\n\u001b[1;32m      4\u001b[0m \u001b[0my_pred_te\u001b[0m \u001b[0;34m=\u001b[0m \u001b[0mselection\u001b[0m\u001b[0;34m.\u001b[0m\u001b[0mpredict\u001b[0m\u001b[0;34m(\u001b[0m\u001b[0mX_test\u001b[0m\u001b[0;34m)\u001b[0m\u001b[0;34m\u001b[0m\u001b[0m\n\u001b[1;32m      5\u001b[0m \u001b[0;34m\u001b[0m\u001b[0m\n",
      "\u001b[0;31mNameError\u001b[0m: name 'feature_selection' is not defined"
     ]
    }
   ],
   "source": [
    "selection = feature_selection.RFE(ridge_reg).fit(X_train, y_train)\n",
    "\n",
    "y_pred_tr = selection.predict(X_train)\n",
    "y_pred_te = selection.predict(X_test)\n",
    "\n",
    "print()\n",
    "print('MSE on train : ', mean_squared_error(y_train, y_pred_tr), '\\n',\n",
    "     'MSE on test : ', mean_squared_error(y_test, y_pred_te))\n"
   ]
  },
  {
   "cell_type": "markdown",
   "metadata": {},
   "source": [
    "## Support vector regression"
   ]
  },
  {
   "cell_type": "markdown",
   "metadata": {},
   "source": [
    "### Train test splitting"
   ]
  },
  {
   "cell_type": "code",
   "execution_count": 11,
   "metadata": {
    "scrolled": false
   },
   "outputs": [
    {
     "name": "stdout",
     "output_type": "stream",
     "text": [
      "(91173, 8) (60783, 8)\n"
     ]
    }
   ],
   "source": [
    "X_train, X_test, y_train, y_test = train_test_split(X, y1, random_state=0, test_size=0.4)\n",
    "print(X_train.shape, X_test.shape)"
   ]
  },
  {
   "cell_type": "markdown",
   "metadata": {},
   "source": [
    "### Fitting"
   ]
  },
  {
   "cell_type": "code",
   "execution_count": null,
   "metadata": {},
   "outputs": [],
   "source": [
    "svm_reg = SVR(kernel='poly', degree=2).fit(X_train,y_train)\n",
    "\n",
    "print('Train R^2 score : ', svm_reg.score(X_train, y_train), '\\n',\n",
    "     'Test R^2 score : ', svm_reg.score(X_test, y_test))"
   ]
  },
  {
   "cell_type": "code",
   "execution_count": null,
   "metadata": {
    "scrolled": true
   },
   "outputs": [],
   "source": [
    "y_pred_tr = svm_reg.predict(X_train)\n",
    "y_pred_te = svm_reg.predict(X_test)\n",
    "\n",
    "print('MSE on train : ', mean_squared_error(y_train, y_pred_tr), '\\n',\n",
    "     'MSE on test : ', mean_squared_error(y_test, y_pred_te))"
   ]
  },
  {
   "cell_type": "code",
   "execution_count": null,
   "metadata": {},
   "outputs": [],
   "source": [
    "np.random.seed"
   ]
  },
  {
   "cell_type": "markdown",
   "metadata": {},
   "source": [
    "## Boosting"
   ]
  },
  {
   "cell_type": "markdown",
   "metadata": {},
   "source": [
    "### Train test splitting"
   ]
  },
  {
   "cell_type": "raw",
   "metadata": {
    "scrolled": false
   },
   "source": [
    "X_train, X_test, y_train, y_test = train_test_split(X, y4, random_state=0, test_size=0.7)\n",
    "print(X_train.shape, X_test.shape)"
   ]
  },
  {
   "cell_type": "raw",
   "metadata": {},
   "source": [
    "R = william.cast_categories(realization.to_frame(), 'realization', 're')\n",
    "\n",
    "R.head()"
   ]
  },
  {
   "cell_type": "code",
   "execution_count": 29,
   "metadata": {},
   "outputs": [
    {
     "name": "stdout",
     "output_type": "stream",
     "text": [
      "(106364, 41) (45592, 41)\n"
     ]
    }
   ],
   "source": [
    "X_train, X_test, y_train, y_test = william.train_test_split_realiz(X, y3, realization,\n",
    "                                                                   random_state=0, test_size=0.3)\n",
    "print(X_train.shape, X_test.shape)"
   ]
  },
  {
   "cell_type": "markdown",
   "metadata": {},
   "source": [
    "### Fitting"
   ]
  },
  {
   "cell_type": "code",
   "execution_count": 7,
   "metadata": {},
   "outputs": [],
   "source": [
    "import xgboost as xgb"
   ]
  },
  {
   "cell_type": "code",
   "execution_count": 8,
   "metadata": {},
   "outputs": [],
   "source": [
    "param = {'max_depth': 10, 'eta': 1, 'silent': 1, 'subsample': 0.8}\n",
    "# param['nthread'] = 4\n",
    "param['reg_alpha'] = 0.7\n",
    "# param['reg_lamda'] = 0.5\n",
    "param['tree_method'] = 'auto'"
   ]
  },
  {
   "cell_type": "code",
   "execution_count": 30,
   "metadata": {},
   "outputs": [],
   "source": [
    "dtrain = xgb.DMatrix(X_train, label=y_train)\n",
    "dtest = xgb.DMatrix(X_test)\n",
    "\n",
    "xgbReg = xgb.train(params=param, dtrain=dtrain)\n",
    "\n",
    "y_pred_tr = xgbReg.predict(dtrain)\n",
    "y_pred_te = xgbReg.predict(dtest)"
   ]
  },
  {
   "cell_type": "code",
   "execution_count": 31,
   "metadata": {},
   "outputs": [
    {
     "name": "stdout",
     "output_type": "stream",
     "text": [
      "Train R^2 score :  0.9264154253618001 \n",
      " Test R^2 score :  0.9141212451873022\n",
      "MSE on train :  0.012309879971951824 \n",
      " MSE on test :  0.014304589653535068\n"
     ]
    },
    {
     "data": {
      "text/plain": [
       "<matplotlib.axes._subplots.AxesSubplot at 0x7fd838b7f588>"
      ]
     },
     "execution_count": 31,
     "metadata": {},
     "output_type": "execute_result"
    },
    {
     "data": {
      "image/png": "[encoded data removed]",
      "text/plain": [
       "<Figure size 432x288 with 1 Axes>"
      ]
     },
     "metadata": {},
     "output_type": "display_data"
    }
   ],
   "source": [
    "print('Train R^2 score : ', explained_variance_score(y_train, y_pred_tr), '\\n',\n",
    "     'Test R^2 score : ', explained_variance_score(y_test, y_pred_te))\n",
    "\n",
    "print('MSE on train : ', mean_squared_error(y_train, y_pred_tr), '\\n',\n",
    "     'MSE on test : ', mean_squared_error(y_test, y_pred_te))\n",
    "\n",
    "xgb.plot_importance(xgbReg)"
   ]
  },
  {
   "cell_type": "code",
   "execution_count": 41,
   "metadata": {
    "scrolled": false
   },
   "outputs": [
    {
     "name": "stdout",
     "output_type": "stream",
     "text": [
      "Train R^2 score :  0.9336488056985379 \n",
      " Test R^2 score :  0.9078156126734047\n",
      "MSE on train :  0.011035159144864047 \n",
      " MSE on test :  0.015430390738398303\n"
     ]
    },
    {
     "data": {
      "text/plain": [
       "<matplotlib.axes._subplots.AxesSubplot at 0x7f50efc29cc0>"
      ]
     },
     "execution_count": 41,
     "metadata": {},
     "output_type": "execute_result"
    },
    {
     "data": {
      "image/png": "[encoded data removed]",
      "text/plain": [
       "<Figure size 432x288 with 1 Axes>"
      ]
     },
     "metadata": {},
     "output_type": "display_data"
    }
   ],
   "source": [
    "print('Train R^2 score : ', explained_variance_score(y_train, y_pred_tr), '\\n',\n",
    "     'Test R^2 score : ', explained_variance_score(y_test, y_pred_te))\n",
    "\n",
    "print('MSE on train : ', mean_squared_error(y_train, y_pred_tr), '\\n',\n",
    "     'MSE on test : ', mean_squared_error(y_test, y_pred_te))\n",
    "\n",
    "xgb.plot_importance(xgbReg)"
   ]
  },
  {
   "cell_type": "markdown",
   "metadata": {},
   "source": [
    "# Tests"
   ]
  },
  {
   "cell_type": "code",
   "execution_count": 4,
   "metadata": {},
   "outputs": [],
   "source": [
    "df = pd.DataFrame({'2' : 3*[2],\n",
    "                  '3' : 3*[3],\n",
    "                  'cat' : [1,0,1]},\n",
    "                 index = list(range(3)))\n",
    "df = william.cast_categories(df, 'cat')"
   ]
  },
  {
   "cell_type": "code",
   "execution_count": 29,
   "metadata": {},
   "outputs": [
    {
     "name": "stdout",
     "output_type": "stream",
     "text": [
      "[[2 3 5]\n",
      " [2 3 5]\n",
      " [2 3 5]\n",
      " [2 3 5]]\n"
     ]
    }
   ],
   "source": [
    "M = np.array([[2,3,5]for _ in range(4)])\n",
    "print(M)"
   ]
  },
  {
   "cell_type": "code",
   "execution_count": 30,
   "metadata": {},
   "outputs": [
    {
     "name": "stdout",
     "output_type": "stream",
     "text": [
      "[[ 2.  3.  5.  4.  6. 10.  9. 15. 25.]\n",
      " [ 2.  3.  5.  4.  6. 10.  9. 15. 25.]\n",
      " [ 2.  3.  5.  4.  6. 10.  9. 15. 25.]\n",
      " [ 2.  3.  5.  4.  6. 10.  9. 15. 25.]]\n"
     ]
    }
   ],
   "source": [
    "poly = PolynomialFeatures(2, interaction_only=False, include_bias=False)\n",
    "M2 = poly.fit_transform(M)\n",
    "print(M2)"
   ]
  },
  {
   "cell_type": "code",
   "execution_count": 28,
   "metadata": {},
   "outputs": [
    {
     "data": {
      "text/plain": [
       "[1, 1, 1, 1, 0, 0, 0, 0, 0, 0, 0, 0]"
      ]
     },
     "execution_count": 28,
     "metadata": {},
     "output_type": "execute_result"
    }
   ],
   "source": [
    "cond = True\n",
    "[1 if x else 0 for x in df['a']==1]"
   ]
  },
  {
   "cell_type": "code",
   "execution_count": 31,
   "metadata": {},
   "outputs": [],
   "source": []
  },
  {
   "cell_type": "code",
   "execution_count": 32,
   "metadata": {},
   "outputs": [
    {
     "data": {
      "text/html": [
       "<div>\n",
       "<style scoped>\n",
       "    .dataframe tbody tr th:only-of-type {\n",
       "        vertical-align: middle;\n",
       "    }\n",
       "\n",
       "    .dataframe tbody tr th {\n",
       "        vertical-align: top;\n",
       "    }\n",
       "\n",
       "    .dataframe thead th {\n",
       "        text-align: right;\n",
       "    }\n",
       "</style>\n",
       "<table border=\"1\" class=\"dataframe\">\n",
       "  <thead>\n",
       "    <tr style=\"text-align: right;\">\n",
       "      <th></th>\n",
       "      <th>b</th>\n",
       "      <th>Number 1</th>\n",
       "      <th>Number 2</th>\n",
       "      <th>Number 3</th>\n",
       "    </tr>\n",
       "  </thead>\n",
       "  <tbody>\n",
       "    <tr>\n",
       "      <th>0</th>\n",
       "      <td>4</td>\n",
       "      <td>1</td>\n",
       "      <td>0</td>\n",
       "      <td>0</td>\n",
       "    </tr>\n",
       "    <tr>\n",
       "      <th>1</th>\n",
       "      <td>5</td>\n",
       "      <td>1</td>\n",
       "      <td>0</td>\n",
       "      <td>0</td>\n",
       "    </tr>\n",
       "    <tr>\n",
       "      <th>2</th>\n",
       "      <td>6</td>\n",
       "      <td>1</td>\n",
       "      <td>0</td>\n",
       "      <td>0</td>\n",
       "    </tr>\n",
       "    <tr>\n",
       "      <th>3</th>\n",
       "      <td>7</td>\n",
       "      <td>1</td>\n",
       "      <td>0</td>\n",
       "      <td>0</td>\n",
       "    </tr>\n",
       "    <tr>\n",
       "      <th>4</th>\n",
       "      <td>4</td>\n",
       "      <td>0</td>\n",
       "      <td>1</td>\n",
       "      <td>0</td>\n",
       "    </tr>\n",
       "    <tr>\n",
       "      <th>5</th>\n",
       "      <td>5</td>\n",
       "      <td>0</td>\n",
       "      <td>1</td>\n",
       "      <td>0</td>\n",
       "    </tr>\n",
       "    <tr>\n",
       "      <th>6</th>\n",
       "      <td>6</td>\n",
       "      <td>0</td>\n",
       "      <td>1</td>\n",
       "      <td>0</td>\n",
       "    </tr>\n",
       "    <tr>\n",
       "      <th>7</th>\n",
       "      <td>7</td>\n",
       "      <td>0</td>\n",
       "      <td>1</td>\n",
       "      <td>0</td>\n",
       "    </tr>\n",
       "    <tr>\n",
       "      <th>8</th>\n",
       "      <td>4</td>\n",
       "      <td>0</td>\n",
       "      <td>0</td>\n",
       "      <td>1</td>\n",
       "    </tr>\n",
       "    <tr>\n",
       "      <th>9</th>\n",
       "      <td>5</td>\n",
       "      <td>0</td>\n",
       "      <td>0</td>\n",
       "      <td>1</td>\n",
       "    </tr>\n",
       "    <tr>\n",
       "      <th>10</th>\n",
       "      <td>6</td>\n",
       "      <td>0</td>\n",
       "      <td>0</td>\n",
       "      <td>1</td>\n",
       "    </tr>\n",
       "    <tr>\n",
       "      <th>11</th>\n",
       "      <td>7</td>\n",
       "      <td>0</td>\n",
       "      <td>0</td>\n",
       "      <td>1</td>\n",
       "    </tr>\n",
       "  </tbody>\n",
       "</table>\n",
       "</div>"
      ],
      "text/plain": [
       "    b  Number 1  Number 2  Number 3\n",
       "0   4         1         0         0\n",
       "1   5         1         0         0\n",
       "2   6         1         0         0\n",
       "3   7         1         0         0\n",
       "4   4         0         1         0\n",
       "5   5         0         1         0\n",
       "6   6         0         1         0\n",
       "7   7         0         1         0\n",
       "8   4         0         0         1\n",
       "9   5         0         0         1\n",
       "10  6         0         0         1\n",
       "11  7         0         0         1"
      ]
     },
     "execution_count": 32,
     "metadata": {},
     "output_type": "execute_result"
    }
   ],
   "source": [
    "cast_categories(df, 'a', cat_name='Number')"
   ]
  },
  {
   "cell_type": "code",
   "execution_count": null,
   "metadata": {},
   "outputs": [],
   "source": []
  }
 ],
 "metadata": {
  "kernelspec": {
   "display_name": "Python 3",
   "language": "python",
   "name": "python3"
  },
  "language_info": {
   "codemirror_mode": {
    "name": "ipython",
    "version": 3
   },
   "file_extension": ".py",
   "mimetype": "text/x-python",
   "name": "python",
   "nbconvert_exporter": "python",
   "pygments_lexer": "ipython3",
   "version": "3.6.5"
  }
 },
 "nbformat": 4,
 "nbformat_minor": 2
}
