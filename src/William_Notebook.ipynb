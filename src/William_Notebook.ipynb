{
 "cells": [
  {
   "cell_type": "code",
   "execution_count": 1,
   "metadata": {},
   "outputs": [],
   "source": [
    "%matplotlib inline\n",
    "%load_ext autoreload\n",
    "%autoreload 2"
   ]
  },
  {
   "cell_type": "code",
   "execution_count": 2,
   "metadata": {},
   "outputs": [],
   "source": [
    "import numpy as np\n",
    "import pandas as pd\n",
    "\n",
    "from sklearn.linear_model import RidgeCV, LinearRegression\n",
    "from sklearn.svm import SVR\n",
    "from sklearn.preprocessing import PolynomialFeatures\n",
    "from sklearn.model_selection import train_test_split\n",
    "from sklearn.metrics import mean_squared_error, explained_variance_score\n",
    "\n",
    "\n",
    "from general_code import *"
   ]
  },
  {
   "cell_type": "code",
   "execution_count": 3,
   "metadata": {
    "scrolled": true
   },
   "outputs": [
    {
     "data": {
      "text/html": [
       "<div>\n",
       "<style scoped>\n",
       "    .dataframe tbody tr th:only-of-type {\n",
       "        vertical-align: middle;\n",
       "    }\n",
       "\n",
       "    .dataframe tbody tr th {\n",
       "        vertical-align: top;\n",
       "    }\n",
       "\n",
       "    .dataframe thead th {\n",
       "        text-align: right;\n",
       "    }\n",
       "</style>\n",
       "<table border=\"1\" class=\"dataframe\">\n",
       "  <thead>\n",
       "    <tr style=\"text-align: right;\">\n",
       "      <th></th>\n",
       "      <th>enzyme_complex_concentration</th>\n",
       "      <th>enzyme_concentration</th>\n",
       "      <th>mu_mass</th>\n",
       "      <th>product_concentration</th>\n",
       "      <th>substrate_concentration</th>\n",
       "      <th>volume_fraction</th>\n",
       "      <th>sigma_mass_0.0</th>\n",
       "      <th>sigma_mass_0.825</th>\n",
       "    </tr>\n",
       "  </thead>\n",
       "  <tbody>\n",
       "    <tr>\n",
       "      <th>0</th>\n",
       "      <td>-9.761988</td>\n",
       "      <td>-11.959213</td>\n",
       "      <td>12.1</td>\n",
       "      <td>-9.230543</td>\n",
       "      <td>-9.923690</td>\n",
       "      <td>0.2</td>\n",
       "      <td>1</td>\n",
       "      <td>0</td>\n",
       "    </tr>\n",
       "    <tr>\n",
       "      <th>1</th>\n",
       "      <td>-11.959213</td>\n",
       "      <td>-9.761988</td>\n",
       "      <td>12.1</td>\n",
       "      <td>-8.825078</td>\n",
       "      <td>-8.314252</td>\n",
       "      <td>0.2</td>\n",
       "      <td>1</td>\n",
       "      <td>0</td>\n",
       "    </tr>\n",
       "    <tr>\n",
       "      <th>2</th>\n",
       "      <td>-10.860600</td>\n",
       "      <td>-10.013302</td>\n",
       "      <td>31.9</td>\n",
       "      <td>-11.022305</td>\n",
       "      <td>-10.616837</td>\n",
       "      <td>0.2</td>\n",
       "      <td>0</td>\n",
       "      <td>1</td>\n",
       "    </tr>\n",
       "    <tr>\n",
       "      <th>3</th>\n",
       "      <td>-11.266065</td>\n",
       "      <td>-9.879771</td>\n",
       "      <td>12.1</td>\n",
       "      <td>-8.537396</td>\n",
       "      <td>-11.309985</td>\n",
       "      <td>0.4</td>\n",
       "      <td>1</td>\n",
       "      <td>0</td>\n",
       "    </tr>\n",
       "    <tr>\n",
       "      <th>4</th>\n",
       "      <td>-11.959213</td>\n",
       "      <td>-9.761988</td>\n",
       "      <td>12.1</td>\n",
       "      <td>-9.923690</td>\n",
       "      <td>-8.825078</td>\n",
       "      <td>0.2</td>\n",
       "      <td>1</td>\n",
       "      <td>0</td>\n",
       "    </tr>\n",
       "  </tbody>\n",
       "</table>\n",
       "</div>"
      ],
      "text/plain": [
       "   enzyme_complex_concentration  enzyme_concentration  mu_mass  \\\n",
       "0                     -9.761988            -11.959213     12.1   \n",
       "1                    -11.959213             -9.761988     12.1   \n",
       "2                    -10.860600            -10.013302     31.9   \n",
       "3                    -11.266065             -9.879771     12.1   \n",
       "4                    -11.959213             -9.761988     12.1   \n",
       "\n",
       "   product_concentration  substrate_concentration  volume_fraction  \\\n",
       "0              -9.230543                -9.923690              0.2   \n",
       "1              -8.825078                -8.314252              0.2   \n",
       "2             -11.022305               -10.616837              0.2   \n",
       "3              -8.537396               -11.309985              0.4   \n",
       "4              -9.923690                -8.825078              0.2   \n",
       "\n",
       "   sigma_mass_0.0  sigma_mass_0.825  \n",
       "0               1                 0  \n",
       "1               1                 0  \n",
       "2               0                 1  \n",
       "3               1                 0  \n",
       "4               1                 0  "
      ]
     },
     "execution_count": 3,
     "metadata": {},
     "output_type": "execute_result"
    }
   ],
   "source": [
    "#Read using function\n",
    "y1, y2, y3, y4, X, realization = regressions.data_initialization(realiz=True)\n",
    "X.head()"
   ]
  },
  {
   "cell_type": "code",
   "execution_count": 4,
   "metadata": {},
   "outputs": [],
   "source": [
    "Y = np.column_stack((y1, y1, y3, y4))"
   ]
  },
  {
   "cell_type": "raw",
   "metadata": {},
   "source": [
    "# define data path\n",
    "data_folder = '../Data/'"
   ]
  },
  {
   "cell_type": "raw",
   "metadata": {
    "scrolled": true
   },
   "source": [
    "# read the data\n",
    "data = pd.read_csv(data_folder +'result_full_factorial_pgm.zip', index_col = 0)\n",
    "data.drop('Unnamed: 0.1', axis=1, inplace=True)\n",
    "data.head()"
   ]
  },
  {
   "cell_type": "raw",
   "metadata": {},
   "source": [
    "y1, y2, y3, y4 = np.log(data['k1_bwd_effective']), np.log(data['k1_fwd_effective']), np.log(data['k2_bwd_effective']), np.log(data['k2_fwd_effective'])\n",
    "\n",
    "X = data.drop(columns=['k1_bwd_effective','k1_fwd_effective','k2_bwd_effective','k2_fwd_effective',\n",
    "                  'k1_bwd_relative','k1_fwd_relative','k2_bwd_relative','k2_fwd_relative', 'realization'])\n",
    "\n",
    "X = william.cast_categories(X, 'sigma_mass', 'sigma_mass')\n",
    "# X.head()"
   ]
  },
  {
   "cell_type": "markdown",
   "metadata": {},
   "source": [
    "# Plots\n",
    "\n",
    "Seems useless, nothing to see"
   ]
  },
  {
   "cell_type": "raw",
   "metadata": {},
   "source": [
    "import matplotlib.pyplot as plt\n",
    "import seaborn as sns\n",
    "sns.set()\n",
    "sns.set_style(\"whitegrid\")\n"
   ]
  },
  {
   "cell_type": "raw",
   "metadata": {},
   "source": [
    "plt.xlim(X['enzyme_concentration'].min(), X['enzyme_concentration'].max())\n",
    "sns.scatterplot(x=(X['enzyme_concentration']*X['sigma_mass_0.0']), y=y1)"
   ]
  },
  {
   "cell_type": "markdown",
   "metadata": {},
   "source": [
    "# Data engineering"
   ]
  },
  {
   "cell_type": "raw",
   "metadata": {},
   "source": [
    "X[['enzyme_complex_concentration', 'enzyme_concentration', 'product_concentration',\n",
    "       'substrate_concentration']] = X[['enzyme_complex_concentration', 'enzyme_concentration', 'product_concentration',\n",
    "       'substrate_concentration']].apply(lambda x : np.log(x))\n",
    "X.head()"
   ]
  },
  {
   "cell_type": "markdown",
   "metadata": {},
   "source": [
    "### Interactions w/o categories"
   ]
  },
  {
   "cell_type": "raw",
   "metadata": {},
   "source": [
    "X1 = X[['enzyme_complex_concentration', 'enzyme_concentration', 'mu_mass', 'product_concentration',\n",
    "       'substrate_concentration', 'volume_fraction']].values\n",
    "X2 = X[['sigma_mass_0.0', 'sigma_mass_0.825']].values"
   ]
  },
  {
   "cell_type": "raw",
   "metadata": {},
   "source": [
    "poly = PolynomialFeatures(2, interaction_only=True)\n",
    "X = np.concatenate((poly.fit_transform(X1), X2), axis=1)\n",
    "print(X.shape)"
   ]
  },
  {
   "cell_type": "markdown",
   "metadata": {},
   "source": [
    "# Regressions"
   ]
  },
  {
   "cell_type": "markdown",
   "metadata": {},
   "source": [
    "## Ridge"
   ]
  },
  {
   "cell_type": "markdown",
   "metadata": {},
   "source": [
    "### Interaction w/ categories\n",
    "works better. Best performancefor ridge: _Degree 2 complete_"
   ]
  },
  {
   "cell_type": "raw",
   "metadata": {},
   "source": [
    "poly = PolynomialFeatures(2, interaction_only=False)\n",
    "X = poly.fit_transform(X.values)\n",
    "print(X.shape)"
   ]
  },
  {
   "cell_type": "code",
   "execution_count": 4,
   "metadata": {
    "scrolled": false
   },
   "outputs": [],
   "source": [
    "X = regressions.polynomial_data(X, 1, categories=True)"
   ]
  },
  {
   "cell_type": "code",
   "execution_count": 5,
   "metadata": {
    "scrolled": false
   },
   "outputs": [
    {
     "data": {
      "text/html": [
       "<div>\n",
       "<style scoped>\n",
       "    .dataframe tbody tr th:only-of-type {\n",
       "        vertical-align: middle;\n",
       "    }\n",
       "\n",
       "    .dataframe tbody tr th {\n",
       "        vertical-align: top;\n",
       "    }\n",
       "\n",
       "    .dataframe thead th {\n",
       "        text-align: right;\n",
       "    }\n",
       "</style>\n",
       "<table border=\"1\" class=\"dataframe\">\n",
       "  <thead>\n",
       "    <tr style=\"text-align: right;\">\n",
       "      <th></th>\n",
       "      <th>0</th>\n",
       "      <th>1</th>\n",
       "      <th>2</th>\n",
       "      <th>3</th>\n",
       "      <th>4</th>\n",
       "      <th>5</th>\n",
       "    </tr>\n",
       "  </thead>\n",
       "  <tbody>\n",
       "    <tr>\n",
       "      <th>0</th>\n",
       "      <td>-9.761988</td>\n",
       "      <td>-11.959213</td>\n",
       "      <td>12.1</td>\n",
       "      <td>-9.230543</td>\n",
       "      <td>-9.923690</td>\n",
       "      <td>0.2</td>\n",
       "    </tr>\n",
       "    <tr>\n",
       "      <th>1</th>\n",
       "      <td>-11.959213</td>\n",
       "      <td>-9.761988</td>\n",
       "      <td>12.1</td>\n",
       "      <td>-8.825078</td>\n",
       "      <td>-8.314252</td>\n",
       "      <td>0.2</td>\n",
       "    </tr>\n",
       "    <tr>\n",
       "      <th>2</th>\n",
       "      <td>-10.860600</td>\n",
       "      <td>-10.013302</td>\n",
       "      <td>31.9</td>\n",
       "      <td>-11.022305</td>\n",
       "      <td>-10.616837</td>\n",
       "      <td>0.2</td>\n",
       "    </tr>\n",
       "    <tr>\n",
       "      <th>3</th>\n",
       "      <td>-11.266065</td>\n",
       "      <td>-9.879771</td>\n",
       "      <td>12.1</td>\n",
       "      <td>-8.537396</td>\n",
       "      <td>-11.309985</td>\n",
       "      <td>0.4</td>\n",
       "    </tr>\n",
       "    <tr>\n",
       "      <th>4</th>\n",
       "      <td>-11.959213</td>\n",
       "      <td>-9.761988</td>\n",
       "      <td>12.1</td>\n",
       "      <td>-9.923690</td>\n",
       "      <td>-8.825078</td>\n",
       "      <td>0.2</td>\n",
       "    </tr>\n",
       "  </tbody>\n",
       "</table>\n",
       "</div>"
      ],
      "text/plain": [
       "           0          1     2          3          4    5\n",
       "0  -9.761988 -11.959213  12.1  -9.230543  -9.923690  0.2\n",
       "1 -11.959213  -9.761988  12.1  -8.825078  -8.314252  0.2\n",
       "2 -10.860600 -10.013302  31.9 -11.022305 -10.616837  0.2\n",
       "3 -11.266065  -9.879771  12.1  -8.537396 -11.309985  0.4\n",
       "4 -11.959213  -9.761988  12.1  -9.923690  -8.825078  0.2"
      ]
     },
     "execution_count": 5,
     "metadata": {},
     "output_type": "execute_result"
    }
   ],
   "source": [
    "checkX = pd.DataFrame(X[:10,:])\n",
    "checkX.head()"
   ]
  },
  {
   "cell_type": "markdown",
   "metadata": {},
   "source": [
    "### Train test splitting"
   ]
  },
  {
   "cell_type": "code",
   "execution_count": 36,
   "metadata": {
    "scrolled": true
   },
   "outputs": [
    {
     "name": "stdout",
     "output_type": "stream",
     "text": [
      "(91173, 41) (60783, 41)\n"
     ]
    }
   ],
   "source": [
    "X_train, X_test, y_train, y_test = train_test_split_realiz(X, Y, test_size=0.4)\n",
    "print(X_train.shape, X_test.shape)"
   ]
  },
  {
   "cell_type": "markdown",
   "metadata": {},
   "source": [
    "### Fitting"
   ]
  },
  {
   "cell_type": "code",
   "execution_count": 37,
   "metadata": {},
   "outputs": [
    {
     "name": "stdout",
     "output_type": "stream",
     "text": [
      "Train R^2 score :  0.9772271563630285 \n",
      " Test R^2 score :  0.9772781415924489\n"
     ]
    }
   ],
   "source": [
    "ridge_reg = RidgeCV(alphas=np.logspace(-5,5,40), fit_intercept=False).fit(X_train, y_train)\n",
    "\n",
    "print('Train R^2 score : ', ridge_reg.score(X_train, y_train), '\\n',\n",
    "     'Test R^2 score : ', ridge_reg.score(X_test, y_test))"
   ]
  },
  {
   "cell_type": "code",
   "execution_count": 38,
   "metadata": {
    "scrolled": true
   },
   "outputs": [
    {
     "name": "stdout",
     "output_type": "stream",
     "text": [
      "MSE on train :  0.01996362339452579 \n",
      " MSE on test :  0.019946237140155434\n"
     ]
    }
   ],
   "source": [
    "y_pred_tr = ridge_reg.predict(X_train)\n",
    "y_pred_te = ridge_reg.predict(X_test)\n",
    "\n",
    "print('MSE on train : ', mean_squared_error(y_train, y_pred_tr), '\\n',\n",
    "     'MSE on test : ', mean_squared_error(y_test, y_pred_te))"
   ]
  },
  {
   "cell_type": "code",
   "execution_count": 11,
   "metadata": {},
   "outputs": [
    {
     "name": "stdout",
     "output_type": "stream",
     "text": [
      "alpha :  0.003665241237079626 \n",
      " Coeff :  [ 1.40099101e-02 -7.03980994e-02 -3.92428024e-02  5.02744229e-02\n",
      " -4.51612149e-02 -4.91458286e-02 -1.44835325e+00  1.31997844e-02\n",
      "  8.10125627e-04  8.17234446e-04 -1.41009590e-02 -1.01627469e-04\n",
      "  1.83142034e-04 -1.88953448e-04 -3.11658506e-03 -3.51916379e-02\n",
      " -3.52064617e-02  3.02798060e-03 -1.45337722e-04  4.10709773e-04\n",
      " -4.27640060e-04  6.83188972e-03 -2.11970139e-02 -1.80457878e-02\n",
      " -1.60080405e-03  4.07090122e-05 -2.27312648e-05  1.11969489e-01\n",
      "  2.44314134e-02  2.58430079e-02 -3.49407711e-03 -1.82472524e-04\n",
      " -1.87094169e-02 -2.26375752e-02 -2.25236390e-02 -3.27078944e-03\n",
      " -1.64966589e-02 -2.59135698e-02 -2.32322581e-02 -1.23393055e+01\n",
      " -1.11338067e+00 -3.34972584e-01  1.31997844e-02  0.00000000e+00\n",
      "  8.10125606e-04]\n"
     ]
    }
   ],
   "source": [
    "print('alpha : ', ridge_reg.alpha_,'\\n',\n",
    "     'Coeff : ', ridge_reg.coef_)"
   ]
  },
  {
   "cell_type": "code",
   "execution_count": 14,
   "metadata": {},
   "outputs": [],
   "source": [
    "from sklearn import feature_selection"
   ]
  },
  {
   "cell_type": "code",
   "execution_count": 15,
   "metadata": {},
   "outputs": [
    {
     "ename": "NameError",
     "evalue": "name 'feature_selection' is not defined",
     "output_type": "error",
     "traceback": [
      "\u001b[0;31m---------------------------------------------------------------------------\u001b[0m",
      "\u001b[0;31mNameError\u001b[0m                                 Traceback (most recent call last)",
      "\u001b[0;32m<ipython-input-15-0ff376a4a358>\u001b[0m in \u001b[0;36m<module>\u001b[0;34m()\u001b[0m\n\u001b[0;32m----> 1\u001b[0;31m \u001b[0mselection\u001b[0m \u001b[0;34m=\u001b[0m \u001b[0mfeature_selection\u001b[0m\u001b[0;34m.\u001b[0m\u001b[0mRFE\u001b[0m\u001b[0;34m(\u001b[0m\u001b[0mridge_reg\u001b[0m\u001b[0;34m)\u001b[0m\u001b[0;34m.\u001b[0m\u001b[0mfit\u001b[0m\u001b[0;34m(\u001b[0m\u001b[0mX_train\u001b[0m\u001b[0;34m,\u001b[0m \u001b[0my_train\u001b[0m\u001b[0;34m)\u001b[0m\u001b[0;34m\u001b[0m\u001b[0m\n\u001b[0m\u001b[1;32m      2\u001b[0m \u001b[0;34m\u001b[0m\u001b[0m\n\u001b[1;32m      3\u001b[0m \u001b[0my_pred_tr\u001b[0m \u001b[0;34m=\u001b[0m \u001b[0mselection\u001b[0m\u001b[0;34m.\u001b[0m\u001b[0mpredict\u001b[0m\u001b[0;34m(\u001b[0m\u001b[0mX_train\u001b[0m\u001b[0;34m)\u001b[0m\u001b[0;34m\u001b[0m\u001b[0m\n\u001b[1;32m      4\u001b[0m \u001b[0my_pred_te\u001b[0m \u001b[0;34m=\u001b[0m \u001b[0mselection\u001b[0m\u001b[0;34m.\u001b[0m\u001b[0mpredict\u001b[0m\u001b[0;34m(\u001b[0m\u001b[0mX_test\u001b[0m\u001b[0;34m)\u001b[0m\u001b[0;34m\u001b[0m\u001b[0m\n\u001b[1;32m      5\u001b[0m \u001b[0;34m\u001b[0m\u001b[0m\n",
      "\u001b[0;31mNameError\u001b[0m: name 'feature_selection' is not defined"
     ]
    }
   ],
   "source": [
    "selection = feature_selection.RFE(ridge_reg).fit(X_train, y_train)\n",
    "\n",
    "y_pred_tr = selection.predict(X_train)\n",
    "y_pred_te = selection.predict(X_test)\n",
    "\n",
    "print()\n",
    "print('MSE on train : ', mean_squared_error(y_train, y_pred_tr), '\\n',\n",
    "     'MSE on test : ', mean_squared_error(y_test, y_pred_te))\n"
   ]
  },
  {
   "cell_type": "markdown",
   "metadata": {},
   "source": [
    "## Support vector regression"
   ]
  },
  {
   "cell_type": "markdown",
   "metadata": {},
   "source": [
    "### Train test splitting"
   ]
  },
  {
   "cell_type": "code",
   "execution_count": 11,
   "metadata": {
    "scrolled": false
   },
   "outputs": [
    {
     "name": "stdout",
     "output_type": "stream",
     "text": [
      "(91173, 8) (60783, 8)\n"
     ]
    }
   ],
   "source": [
    "X_train, X_test, y_train, y_test = train_test_split(X, y1, random_state=0, test_size=0.4)\n",
    "print(X_train.shape, X_test.shape)"
   ]
  },
  {
   "cell_type": "markdown",
   "metadata": {},
   "source": [
    "### Fitting"
   ]
  },
  {
   "cell_type": "code",
   "execution_count": null,
   "metadata": {},
   "outputs": [],
   "source": [
    "svm_reg = SVR(kernel='poly', degree=2).fit(X_train,y_train)\n",
    "\n",
    "print('Train R^2 score : ', svm_reg.score(X_train, y_train), '\\n',\n",
    "     'Test R^2 score : ', svm_reg.score(X_test, y_test))"
   ]
  },
  {
   "cell_type": "code",
   "execution_count": null,
   "metadata": {
    "scrolled": true
   },
   "outputs": [],
   "source": [
    "y_pred_tr = svm_reg.predict(X_train)\n",
    "y_pred_te = svm_reg.predict(X_test)\n",
    "\n",
    "print('MSE on train : ', mean_squared_error(y_train, y_pred_tr), '\\n',\n",
    "     'MSE on test : ', mean_squared_error(y_test, y_pred_te))"
   ]
  },
  {
   "cell_type": "code",
   "execution_count": null,
   "metadata": {},
   "outputs": [],
   "source": [
    "np.random.seed"
   ]
  },
  {
   "cell_type": "markdown",
   "metadata": {},
   "source": [
    "## Boosting"
   ]
  },
  {
   "cell_type": "code",
   "execution_count": 4,
   "metadata": {},
   "outputs": [],
   "source": [
    "X = X.drop(columns=['sigma_mass_0.0', 'sigma_mass_0.825', 'enzyme_concentration'])\n",
    "X = X.values"
   ]
  },
  {
   "cell_type": "code",
   "execution_count": 5,
   "metadata": {
    "scrolled": false
   },
   "outputs": [
    {
     "data": {
      "text/html": [
       "<div>\n",
       "<style scoped>\n",
       "    .dataframe tbody tr th:only-of-type {\n",
       "        vertical-align: middle;\n",
       "    }\n",
       "\n",
       "    .dataframe tbody tr th {\n",
       "        vertical-align: top;\n",
       "    }\n",
       "\n",
       "    .dataframe thead th {\n",
       "        text-align: right;\n",
       "    }\n",
       "</style>\n",
       "<table border=\"1\" class=\"dataframe\">\n",
       "  <thead>\n",
       "    <tr style=\"text-align: right;\">\n",
       "      <th></th>\n",
       "      <th>0</th>\n",
       "      <th>1</th>\n",
       "      <th>2</th>\n",
       "      <th>3</th>\n",
       "      <th>4</th>\n",
       "    </tr>\n",
       "  </thead>\n",
       "  <tbody>\n",
       "    <tr>\n",
       "      <th>0</th>\n",
       "      <td>-9.761988</td>\n",
       "      <td>12.1</td>\n",
       "      <td>-9.230543</td>\n",
       "      <td>-9.923690</td>\n",
       "      <td>0.2</td>\n",
       "    </tr>\n",
       "    <tr>\n",
       "      <th>1</th>\n",
       "      <td>-11.959213</td>\n",
       "      <td>12.1</td>\n",
       "      <td>-8.825078</td>\n",
       "      <td>-8.314252</td>\n",
       "      <td>0.2</td>\n",
       "    </tr>\n",
       "    <tr>\n",
       "      <th>2</th>\n",
       "      <td>-10.860600</td>\n",
       "      <td>31.9</td>\n",
       "      <td>-11.022305</td>\n",
       "      <td>-10.616837</td>\n",
       "      <td>0.2</td>\n",
       "    </tr>\n",
       "    <tr>\n",
       "      <th>3</th>\n",
       "      <td>-11.266065</td>\n",
       "      <td>12.1</td>\n",
       "      <td>-8.537396</td>\n",
       "      <td>-11.309985</td>\n",
       "      <td>0.4</td>\n",
       "    </tr>\n",
       "    <tr>\n",
       "      <th>4</th>\n",
       "      <td>-11.959213</td>\n",
       "      <td>12.1</td>\n",
       "      <td>-9.923690</td>\n",
       "      <td>-8.825078</td>\n",
       "      <td>0.2</td>\n",
       "    </tr>\n",
       "  </tbody>\n",
       "</table>\n",
       "</div>"
      ],
      "text/plain": [
       "           0     1          2          3    4\n",
       "0  -9.761988  12.1  -9.230543  -9.923690  0.2\n",
       "1 -11.959213  12.1  -8.825078  -8.314252  0.2\n",
       "2 -10.860600  31.9 -11.022305 -10.616837  0.2\n",
       "3 -11.266065  12.1  -8.537396 -11.309985  0.4\n",
       "4 -11.959213  12.1  -9.923690  -8.825078  0.2"
      ]
     },
     "execution_count": 5,
     "metadata": {},
     "output_type": "execute_result"
    }
   ],
   "source": [
    "checkX = pd.DataFrame(X[:10,:])\n",
    "checkX.head()"
   ]
  },
  {
   "cell_type": "markdown",
   "metadata": {},
   "source": [
    "### Train test splitting"
   ]
  },
  {
   "cell_type": "code",
   "execution_count": 4,
   "metadata": {},
   "outputs": [
    {
     "name": "stdout",
     "output_type": "stream",
     "text": [
      "(91173, 8) (60783, 8)\n"
     ]
    }
   ],
   "source": [
    "X_train, X_test, y1_train, y1_test = train_test_split(X, y1, test_size=0.4)\n",
    "print(X_train.shape, X_test.shape)\n",
    "y1_train, y1_test = y1_train.values, y1_test.values"
   ]
  },
  {
   "cell_type": "raw",
   "metadata": {},
   "source": [
    "R = regressions.cast_categories(realization.to_frame(), 'realization', 're')\n",
    "\n",
    "R.head()"
   ]
  },
  {
   "cell_type": "raw",
   "metadata": {},
   "source": [
    "X_train, X_test, y_train, y_test = regressions.train_test_split_realiz(X, y4, realization,\n",
    "                                                                   random_state=0, test_size=0.3)\n",
    "print(X_train.shape, X_test.shape)"
   ]
  },
  {
   "cell_type": "markdown",
   "metadata": {},
   "source": [
    "### Fitting"
   ]
  },
  {
   "cell_type": "code",
   "execution_count": 6,
   "metadata": {},
   "outputs": [],
   "source": [
    "import xgboost as xgb"
   ]
  },
  {
   "cell_type": "code",
   "execution_count": 41,
   "metadata": {},
   "outputs": [],
   "source": [
    "param = {'max_depth': 10, 'eta': 1, 'silent': 1, 'subsample': 0.8}\n",
    "# param['nthread'] = 4\n",
    "param['reg_alpha'] = 0.7\n",
    "# param['reg_lamda'] = 0.5\n",
    "param['tree_method'] = 'gpu_hist'\n",
    "# param['tree_method'] = 'auto'"
   ]
  },
  {
   "cell_type": "code",
   "execution_count": 42,
   "metadata": {},
   "outputs": [],
   "source": [
    "dtrain1 = xgb.DMatrix(X_train, label=y1_train)\n",
    "dtest = xgb.DMatrix(X_test)\n",
    "\n",
    "xgbReg = xgb.train(params=param, dtrain=dtrain1)\n",
    "\n",
    "y1_pred_tr = xgbReg.predict(dtrain1)\n",
    "y1_pred_te = xgbReg.predict(dtest)"
   ]
  },
  {
   "cell_type": "code",
   "execution_count": 43,
   "metadata": {
    "scrolled": true
   },
   "outputs": [
    {
     "name": "stdout",
     "output_type": "stream",
     "text": [
      "Train R^2 score :  0.9998409175157027 \n",
      " Test R^2 score :  0.9998346881622936\n",
      "MSE on train :  0.00017711895543468076 \n",
      " MSE on test :  0.00018433214000005704\n"
     ]
    },
    {
     "data": {
      "text/plain": [
       "<matplotlib.axes._subplots.AxesSubplot at 0x7fec881ccb70>"
      ]
     },
     "execution_count": 43,
     "metadata": {},
     "output_type": "execute_result"
    },
    {
     "data": {
      "image/png": "[encoded data removed]",
      "text/plain": [
       "<Figure size 432x288 with 1 Axes>"
      ]
     },
     "metadata": {},
     "output_type": "display_data"
    }
   ],
   "source": [
    "print('Train R^2 score : ', explained_variance_score(y1_train, y1_pred_tr), '\\n',\n",
    "     'Test R^2 score : ', explained_variance_score(y1_test, y1_pred_te))\n",
    "\n",
    "print('MSE on train : ', mean_squared_error(y1_train, y1_pred_tr), '\\n',\n",
    "     'MSE on test : ', mean_squared_error(y1_test, y1_pred_te))\n",
    "\n",
    "xgb.plot_importance(xgbReg)"
   ]
  },
  {
   "cell_type": "code",
   "execution_count": 7,
   "metadata": {},
   "outputs": [],
   "source": [
    "from models import easyXGB"
   ]
  },
  {
   "cell_type": "code",
   "execution_count": 8,
   "metadata": {
    "scrolled": true
   },
   "outputs": [],
   "source": [
    "easyXGBReg = easyXGB()\n",
    "easyXGBReg.set_params(tree_method = 'gpu_hist')\n",
    "# easyXGBReg.fit(X_train, y1_train)"
   ]
  },
  {
   "cell_type": "code",
   "execution_count": 47,
   "metadata": {},
   "outputs": [
    {
     "name": "stdout",
     "output_type": "stream",
     "text": [
      "MSE on train :  0.00017711893452052204 \n",
      " MSE on test :  0.00018433214000005704\n"
     ]
    }
   ],
   "source": [
    "y1_pred_tr = easyXGBReg.predict(X_train)\n",
    "y1_pred_te = easyXGBReg.predict(X_test)\n",
    "\n",
    "print('MSE on train : ', mean_squared_error(y1_train, y1_pred_tr), '\\n',\n",
    "     'MSE on test : ', mean_squared_error(y1_test, y1_pred_te))"
   ]
  },
  {
   "cell_type": "code",
   "execution_count": 48,
   "metadata": {
    "scrolled": true
   },
   "outputs": [
    {
     "name": "stdout",
     "output_type": "stream",
     "text": [
      "MSE on train :  0.00017711893452052204 \n",
      " MSE on test :  0.00018433214000005704\n"
     ]
    }
   ],
   "source": [
    "print('MSE on train : ', easyXGBReg.score(X_train, y1_train), '\\n',\n",
    "     'MSE on test : ', easyXGBReg.score(X_test, y1_test))"
   ]
  },
  {
   "cell_type": "markdown",
   "metadata": {},
   "source": [
    "# Cross validation"
   ]
  },
  {
   "cell_type": "code",
   "execution_count": 7,
   "metadata": {},
   "outputs": [],
   "source": [
    "from cross_validation import multi_cross_validation"
   ]
  },
  {
   "cell_type": "code",
   "execution_count": 8,
   "metadata": {
    "scrolled": true
   },
   "outputs": [],
   "source": [
    "easyXGBReg = easyXGB(load=5)\n",
    "easyXGBReg.set_params(tree_method = 'gpu_hist')\n",
    "# easyXGBReg.fit(X_train, y1_train)"
   ]
  },
  {
   "cell_type": "code",
   "execution_count": 33,
   "metadata": {},
   "outputs": [],
   "source": [
    "methods = [[easyXGBReg, [{'reg_alpha': i, 'eta': k, 'max_depth': j, 'subsample': 1.0} \n",
    "                         for i in np.linspace(0.85,1.,num=4) for j in range(1,10,1) \n",
    "                         for k in np.linspace(0.5,0.7,num=5)]]]"
   ]
  },
  {
   "cell_type": "markdown",
   "metadata": {},
   "source": [
    "## y1"
   ]
  },
  {
   "cell_type": "code",
   "execution_count": 9,
   "metadata": {},
   "outputs": [
    {
     "name": "stdout",
     "output_type": "stream",
     "text": [
      "(91173, 5) (60783, 5)\n"
     ]
    }
   ],
   "source": [
    "X_train, X_test, y1_train, y1_test = train_test_split(X, y1, test_size=0.4)\n",
    "print(X_train.shape, X_test.shape)\n",
    "y1_train, y1_test = y1_train.values, y1_test.values"
   ]
  },
  {
   "cell_type": "code",
   "execution_count": 11,
   "metadata": {
    "scrolled": true
   },
   "outputs": [
    {
     "name": "stdout",
     "output_type": "stream",
     "text": [
      "Testing for method <models.easyXGB object at 0x7ff6a6ea8940> with param.s {'reg_alpha': 0.1, 'eta': 0.7, 'max_depth': 8, 'subsample': 1.0}... Be patient! ;)\n",
      "Testing for method <models.easyXGB object at 0x7ff6a6ea8940> with param.s {'reg_alpha': 0.1, 'eta': 0.7333333333333333, 'max_depth': 8, 'subsample': 1.0}... Be patient! ;)\n",
      "Testing for method <models.easyXGB object at 0x7ff6a6ea8940> with param.s {'reg_alpha': 0.1, 'eta': 0.7666666666666666, 'max_depth': 8, 'subsample': 1.0}... Be patient! ;)\n",
      "Testing for method <models.easyXGB object at 0x7ff6a6ea8940> with param.s {'reg_alpha': 0.1, 'eta': 0.7999999999999999, 'max_depth': 8, 'subsample': 1.0}... Be patient! ;)\n",
      "Testing for method <models.easyXGB object at 0x7ff6a6ea8940> with param.s {'reg_alpha': 0.1, 'eta': 0.8333333333333333, 'max_depth': 8, 'subsample': 1.0}... Be patient! ;)\n",
      "Testing for method <models.easyXGB object at 0x7ff6a6ea8940> with param.s {'reg_alpha': 0.1, 'eta': 0.8666666666666667, 'max_depth': 8, 'subsample': 1.0}... Be patient! ;)\n",
      "Testing for method <models.easyXGB object at 0x7ff6a6ea8940> with param.s {'reg_alpha': 0.1, 'eta': 0.9, 'max_depth': 8, 'subsample': 1.0}... Be patient! ;)\n",
      "Testing for method <models.easyXGB object at 0x7ff6a6ea8940> with param.s {'reg_alpha': 0.1, 'eta': 0.9333333333333333, 'max_depth': 8, 'subsample': 1.0}... Be patient! ;)\n",
      "Testing for method <models.easyXGB object at 0x7ff6a6ea8940> with param.s {'reg_alpha': 0.1, 'eta': 0.9666666666666667, 'max_depth': 8, 'subsample': 1.0}... Be patient! ;)\n",
      "Testing for method <models.easyXGB object at 0x7ff6a6ea8940> with param.s {'reg_alpha': 0.1, 'eta': 1.0, 'max_depth': 8, 'subsample': 1.0}... Be patient! ;)\n",
      "Testing for method <models.easyXGB object at 0x7ff6a6ea8940> with param.s {'reg_alpha': 0.1, 'eta': 0.7, 'max_depth': 9, 'subsample': 1.0}... Be patient! ;)\n",
      "Testing for method <models.easyXGB object at 0x7ff6a6ea8940> with param.s {'reg_alpha': 0.1, 'eta': 0.7333333333333333, 'max_depth': 9, 'subsample': 1.0}... Be patient! ;)\n",
      "Testing for method <models.easyXGB object at 0x7ff6a6ea8940> with param.s {'reg_alpha': 0.1, 'eta': 0.7666666666666666, 'max_depth': 9, 'subsample': 1.0}... Be patient! ;)\n",
      "Testing for method <models.easyXGB object at 0x7ff6a6ea8940> with param.s {'reg_alpha': 0.1, 'eta': 0.7999999999999999, 'max_depth': 9, 'subsample': 1.0}... Be patient! ;)\n",
      "Testing for method <models.easyXGB object at 0x7ff6a6ea8940> with param.s {'reg_alpha': 0.1, 'eta': 0.8333333333333333, 'max_depth': 9, 'subsample': 1.0}... Be patient! ;)\n",
      "Testing for method <models.easyXGB object at 0x7ff6a6ea8940> with param.s {'reg_alpha': 0.1, 'eta': 0.8666666666666667, 'max_depth': 9, 'subsample': 1.0}... Be patient! ;)\n",
      "Testing for method <models.easyXGB object at 0x7ff6a6ea8940> with param.s {'reg_alpha': 0.1, 'eta': 0.9, 'max_depth': 9, 'subsample': 1.0}... Be patient! ;)\n",
      "Testing for method <models.easyXGB object at 0x7ff6a6ea8940> with param.s {'reg_alpha': 0.1, 'eta': 0.9333333333333333, 'max_depth': 9, 'subsample': 1.0}... Be patient! ;)\n",
      "Testing for method <models.easyXGB object at 0x7ff6a6ea8940> with param.s {'reg_alpha': 0.1, 'eta': 0.9666666666666667, 'max_depth': 9, 'subsample': 1.0}... Be patient! ;)\n",
      "Testing for method <models.easyXGB object at 0x7ff6a6ea8940> with param.s {'reg_alpha': 0.1, 'eta': 1.0, 'max_depth': 9, 'subsample': 1.0}... Be patient! ;)\n",
      "Testing for method <models.easyXGB object at 0x7ff6a6ea8940> with param.s {'reg_alpha': 0.1, 'eta': 0.7, 'max_depth': 10, 'subsample': 1.0}... Be patient! ;)\n",
      "Testing for method <models.easyXGB object at 0x7ff6a6ea8940> with param.s {'reg_alpha': 0.1, 'eta': 0.7333333333333333, 'max_depth': 10, 'subsample': 1.0}... Be patient! ;)\n",
      "Testing for method <models.easyXGB object at 0x7ff6a6ea8940> with param.s {'reg_alpha': 0.1, 'eta': 0.7666666666666666, 'max_depth': 10, 'subsample': 1.0}... Be patient! ;)\n",
      "Testing for method <models.easyXGB object at 0x7ff6a6ea8940> with param.s {'reg_alpha': 0.1, 'eta': 0.7999999999999999, 'max_depth': 10, 'subsample': 1.0}... Be patient! ;)\n",
      "Testing for method <models.easyXGB object at 0x7ff6a6ea8940> with param.s {'reg_alpha': 0.1, 'eta': 0.8333333333333333, 'max_depth': 10, 'subsample': 1.0}... Be patient! ;)\n",
      "Testing for method <models.easyXGB object at 0x7ff6a6ea8940> with param.s {'reg_alpha': 0.1, 'eta': 0.8666666666666667, 'max_depth': 10, 'subsample': 1.0}... Be patient! ;)\n",
      "Testing for method <models.easyXGB object at 0x7ff6a6ea8940> with param.s {'reg_alpha': 0.1, 'eta': 0.9, 'max_depth': 10, 'subsample': 1.0}... Be patient! ;)\n",
      "Testing for method <models.easyXGB object at 0x7ff6a6ea8940> with param.s {'reg_alpha': 0.1, 'eta': 0.9333333333333333, 'max_depth': 10, 'subsample': 1.0}... Be patient! ;)\n",
      "Testing for method <models.easyXGB object at 0x7ff6a6ea8940> with param.s {'reg_alpha': 0.1, 'eta': 0.9666666666666667, 'max_depth': 10, 'subsample': 1.0}... Be patient! ;)\n",
      "Testing for method <models.easyXGB object at 0x7ff6a6ea8940> with param.s {'reg_alpha': 0.1, 'eta': 1.0, 'max_depth': 10, 'subsample': 1.0}... Be patient! ;)\n",
      "Testing for method <models.easyXGB object at 0x7ff6a6ea8940> with param.s {'reg_alpha': 0.1, 'eta': 0.7, 'max_depth': 11, 'subsample': 1.0}... Be patient! ;)\n",
      "Testing for method <models.easyXGB object at 0x7ff6a6ea8940> with param.s {'reg_alpha': 0.1, 'eta': 0.7333333333333333, 'max_depth': 11, 'subsample': 1.0}... Be patient! ;)\n",
      "Testing for method <models.easyXGB object at 0x7ff6a6ea8940> with param.s {'reg_alpha': 0.1, 'eta': 0.7666666666666666, 'max_depth': 11, 'subsample': 1.0}... Be patient! ;)\n",
      "Testing for method <models.easyXGB object at 0x7ff6a6ea8940> with param.s {'reg_alpha': 0.1, 'eta': 0.7999999999999999, 'max_depth': 11, 'subsample': 1.0}... Be patient! ;)\n",
      "Testing for method <models.easyXGB object at 0x7ff6a6ea8940> with param.s {'reg_alpha': 0.1, 'eta': 0.8333333333333333, 'max_depth': 11, 'subsample': 1.0}... Be patient! ;)\n",
      "Testing for method <models.easyXGB object at 0x7ff6a6ea8940> with param.s {'reg_alpha': 0.1, 'eta': 0.8666666666666667, 'max_depth': 11, 'subsample': 1.0}... Be patient! ;)\n",
      "Testing for method <models.easyXGB object at 0x7ff6a6ea8940> with param.s {'reg_alpha': 0.1, 'eta': 0.9, 'max_depth': 11, 'subsample': 1.0}... Be patient! ;)\n",
      "Testing for method <models.easyXGB object at 0x7ff6a6ea8940> with param.s {'reg_alpha': 0.1, 'eta': 0.9333333333333333, 'max_depth': 11, 'subsample': 1.0}... Be patient! ;)\n",
      "Testing for method <models.easyXGB object at 0x7ff6a6ea8940> with param.s {'reg_alpha': 0.1, 'eta': 0.9666666666666667, 'max_depth': 11, 'subsample': 1.0}... Be patient! ;)\n",
      "Testing for method <models.easyXGB object at 0x7ff6a6ea8940> with param.s {'reg_alpha': 0.1, 'eta': 1.0, 'max_depth': 11, 'subsample': 1.0}... Be patient! ;)\n",
      "Testing for method <models.easyXGB object at 0x7ff6a6ea8940> with param.s {'reg_alpha': 0.1473684210526316, 'eta': 0.7, 'max_depth': 8, 'subsample': 1.0}... Be patient! ;)\n",
      "Testing for method <models.easyXGB object at 0x7ff6a6ea8940> with param.s {'reg_alpha': 0.1473684210526316, 'eta': 0.7333333333333333, 'max_depth': 8, 'subsample': 1.0}... Be patient! ;)\n",
      "Testing for method <models.easyXGB object at 0x7ff6a6ea8940> with param.s {'reg_alpha': 0.1473684210526316, 'eta': 0.7666666666666666, 'max_depth': 8, 'subsample': 1.0}... Be patient! ;)\n",
      "Testing for method <models.easyXGB object at 0x7ff6a6ea8940> with param.s {'reg_alpha': 0.1473684210526316, 'eta': 0.7999999999999999, 'max_depth': 8, 'subsample': 1.0}... Be patient! ;)\n",
      "Testing for method <models.easyXGB object at 0x7ff6a6ea8940> with param.s {'reg_alpha': 0.1473684210526316, 'eta': 0.8333333333333333, 'max_depth': 8, 'subsample': 1.0}... Be patient! ;)\n",
      "Testing for method <models.easyXGB object at 0x7ff6a6ea8940> with param.s {'reg_alpha': 0.1473684210526316, 'eta': 0.8666666666666667, 'max_depth': 8, 'subsample': 1.0}... Be patient! ;)\n",
      "Testing for method <models.easyXGB object at 0x7ff6a6ea8940> with param.s {'reg_alpha': 0.1473684210526316, 'eta': 0.9, 'max_depth': 8, 'subsample': 1.0}... Be patient! ;)\n",
      "Testing for method <models.easyXGB object at 0x7ff6a6ea8940> with param.s {'reg_alpha': 0.1473684210526316, 'eta': 0.9333333333333333, 'max_depth': 8, 'subsample': 1.0}... Be patient! ;)\n",
      "Testing for method <models.easyXGB object at 0x7ff6a6ea8940> with param.s {'reg_alpha': 0.1473684210526316, 'eta': 0.9666666666666667, 'max_depth': 8, 'subsample': 1.0}... Be patient! ;)\n"
     ]
    },
    {
     "name": "stdout",
     "output_type": "stream",
     "text": [
      "Testing for method <models.easyXGB object at 0x7ff6a6ea8940> with param.s {'reg_alpha': 0.1473684210526316, 'eta': 1.0, 'max_depth': 8, 'subsample': 1.0}... Be patient! ;)\n",
      "Testing for method <models.easyXGB object at 0x7ff6a6ea8940> with param.s {'reg_alpha': 0.1473684210526316, 'eta': 0.7, 'max_depth': 9, 'subsample': 1.0}... Be patient! ;)\n",
      "Testing for method <models.easyXGB object at 0x7ff6a6ea8940> with param.s {'reg_alpha': 0.1473684210526316, 'eta': 0.7333333333333333, 'max_depth': 9, 'subsample': 1.0}... Be patient! ;)\n",
      "Testing for method <models.easyXGB object at 0x7ff6a6ea8940> with param.s {'reg_alpha': 0.1473684210526316, 'eta': 0.7666666666666666, 'max_depth': 9, 'subsample': 1.0}... Be patient! ;)\n",
      "Testing for method <models.easyXGB object at 0x7ff6a6ea8940> with param.s {'reg_alpha': 0.1473684210526316, 'eta': 0.7999999999999999, 'max_depth': 9, 'subsample': 1.0}... Be patient! ;)\n",
      "Testing for method <models.easyXGB object at 0x7ff6a6ea8940> with param.s {'reg_alpha': 0.1473684210526316, 'eta': 0.8333333333333333, 'max_depth': 9, 'subsample': 1.0}... Be patient! ;)\n",
      "Testing for method <models.easyXGB object at 0x7ff6a6ea8940> with param.s {'reg_alpha': 0.1473684210526316, 'eta': 0.8666666666666667, 'max_depth': 9, 'subsample': 1.0}... Be patient! ;)\n",
      "Testing for method <models.easyXGB object at 0x7ff6a6ea8940> with param.s {'reg_alpha': 0.1473684210526316, 'eta': 0.9, 'max_depth': 9, 'subsample': 1.0}... Be patient! ;)\n",
      "Testing for method <models.easyXGB object at 0x7ff6a6ea8940> with param.s {'reg_alpha': 0.1473684210526316, 'eta': 0.9333333333333333, 'max_depth': 9, 'subsample': 1.0}... Be patient! ;)\n",
      "Testing for method <models.easyXGB object at 0x7ff6a6ea8940> with param.s {'reg_alpha': 0.1473684210526316, 'eta': 0.9666666666666667, 'max_depth': 9, 'subsample': 1.0}... Be patient! ;)\n",
      "Testing for method <models.easyXGB object at 0x7ff6a6ea8940> with param.s {'reg_alpha': 0.1473684210526316, 'eta': 1.0, 'max_depth': 9, 'subsample': 1.0}... Be patient! ;)\n",
      "Testing for method <models.easyXGB object at 0x7ff6a6ea8940> with param.s {'reg_alpha': 0.1473684210526316, 'eta': 0.7, 'max_depth': 10, 'subsample': 1.0}... Be patient! ;)\n",
      "Testing for method <models.easyXGB object at 0x7ff6a6ea8940> with param.s {'reg_alpha': 0.1473684210526316, 'eta': 0.7333333333333333, 'max_depth': 10, 'subsample': 1.0}... Be patient! ;)\n",
      "Testing for method <models.easyXGB object at 0x7ff6a6ea8940> with param.s {'reg_alpha': 0.1473684210526316, 'eta': 0.7666666666666666, 'max_depth': 10, 'subsample': 1.0}... Be patient! ;)\n",
      "Testing for method <models.easyXGB object at 0x7ff6a6ea8940> with param.s {'reg_alpha': 0.1473684210526316, 'eta': 0.7999999999999999, 'max_depth': 10, 'subsample': 1.0}... Be patient! ;)\n",
      "Testing for method <models.easyXGB object at 0x7ff6a6ea8940> with param.s {'reg_alpha': 0.1473684210526316, 'eta': 0.8333333333333333, 'max_depth': 10, 'subsample': 1.0}... Be patient! ;)\n",
      "Testing for method <models.easyXGB object at 0x7ff6a6ea8940> with param.s {'reg_alpha': 0.1473684210526316, 'eta': 0.8666666666666667, 'max_depth': 10, 'subsample': 1.0}... Be patient! ;)\n",
      "Testing for method <models.easyXGB object at 0x7ff6a6ea8940> with param.s {'reg_alpha': 0.1473684210526316, 'eta': 0.9, 'max_depth': 10, 'subsample': 1.0}... Be patient! ;)\n",
      "Testing for method <models.easyXGB object at 0x7ff6a6ea8940> with param.s {'reg_alpha': 0.1473684210526316, 'eta': 0.9333333333333333, 'max_depth': 10, 'subsample': 1.0}... Be patient! ;)\n",
      "Testing for method <models.easyXGB object at 0x7ff6a6ea8940> with param.s {'reg_alpha': 0.1473684210526316, 'eta': 0.9666666666666667, 'max_depth': 10, 'subsample': 1.0}... Be patient! ;)\n",
      "Testing for method <models.easyXGB object at 0x7ff6a6ea8940> with param.s {'reg_alpha': 0.1473684210526316, 'eta': 1.0, 'max_depth': 10, 'subsample': 1.0}... Be patient! ;)\n",
      "Testing for method <models.easyXGB object at 0x7ff6a6ea8940> with param.s {'reg_alpha': 0.1473684210526316, 'eta': 0.7, 'max_depth': 11, 'subsample': 1.0}... Be patient! ;)\n",
      "Testing for method <models.easyXGB object at 0x7ff6a6ea8940> with param.s {'reg_alpha': 0.1473684210526316, 'eta': 0.7333333333333333, 'max_depth': 11, 'subsample': 1.0}... Be patient! ;)\n",
      "Testing for method <models.easyXGB object at 0x7ff6a6ea8940> with param.s {'reg_alpha': 0.1473684210526316, 'eta': 0.7666666666666666, 'max_depth': 11, 'subsample': 1.0}... Be patient! ;)\n",
      "Testing for method <models.easyXGB object at 0x7ff6a6ea8940> with param.s {'reg_alpha': 0.1473684210526316, 'eta': 0.7999999999999999, 'max_depth': 11, 'subsample': 1.0}... Be patient! ;)\n",
      "Testing for method <models.easyXGB object at 0x7ff6a6ea8940> with param.s {'reg_alpha': 0.1473684210526316, 'eta': 0.8333333333333333, 'max_depth': 11, 'subsample': 1.0}... Be patient! ;)\n",
      "Testing for method <models.easyXGB object at 0x7ff6a6ea8940> with param.s {'reg_alpha': 0.1473684210526316, 'eta': 0.8666666666666667, 'max_depth': 11, 'subsample': 1.0}... Be patient! ;)\n",
      "Testing for method <models.easyXGB object at 0x7ff6a6ea8940> with param.s {'reg_alpha': 0.1473684210526316, 'eta': 0.9, 'max_depth': 11, 'subsample': 1.0}... Be patient! ;)\n",
      "Testing for method <models.easyXGB object at 0x7ff6a6ea8940> with param.s {'reg_alpha': 0.1473684210526316, 'eta': 0.9333333333333333, 'max_depth': 11, 'subsample': 1.0}... Be patient! ;)\n",
      "Testing for method <models.easyXGB object at 0x7ff6a6ea8940> with param.s {'reg_alpha': 0.1473684210526316, 'eta': 0.9666666666666667, 'max_depth': 11, 'subsample': 1.0}... Be patient! ;)\n",
      "Testing for method <models.easyXGB object at 0x7ff6a6ea8940> with param.s {'reg_alpha': 0.1473684210526316, 'eta': 1.0, 'max_depth': 11, 'subsample': 1.0}... Be patient! ;)\n",
      "Testing for method <models.easyXGB object at 0x7ff6a6ea8940> with param.s {'reg_alpha': 0.19473684210526315, 'eta': 0.7, 'max_depth': 8, 'subsample': 1.0}... Be patient! ;)\n",
      "Testing for method <models.easyXGB object at 0x7ff6a6ea8940> with param.s {'reg_alpha': 0.19473684210526315, 'eta': 0.7333333333333333, 'max_depth': 8, 'subsample': 1.0}... Be patient! ;)\n",
      "Testing for method <models.easyXGB object at 0x7ff6a6ea8940> with param.s {'reg_alpha': 0.19473684210526315, 'eta': 0.7666666666666666, 'max_depth': 8, 'subsample': 1.0}... Be patient! ;)\n",
      "Testing for method <models.easyXGB object at 0x7ff6a6ea8940> with param.s {'reg_alpha': 0.19473684210526315, 'eta': 0.7999999999999999, 'max_depth': 8, 'subsample': 1.0}... Be patient! ;)\n",
      "Testing for method <models.easyXGB object at 0x7ff6a6ea8940> with param.s {'reg_alpha': 0.19473684210526315, 'eta': 0.8333333333333333, 'max_depth': 8, 'subsample': 1.0}... Be patient! ;)\n",
      "Testing for method <models.easyXGB object at 0x7ff6a6ea8940> with param.s {'reg_alpha': 0.19473684210526315, 'eta': 0.8666666666666667, 'max_depth': 8, 'subsample': 1.0}... Be patient! ;)\n",
      "Testing for method <models.easyXGB object at 0x7ff6a6ea8940> with param.s {'reg_alpha': 0.19473684210526315, 'eta': 0.9, 'max_depth': 8, 'subsample': 1.0}... Be patient! ;)\n",
      "Testing for method <models.easyXGB object at 0x7ff6a6ea8940> with param.s {'reg_alpha': 0.19473684210526315, 'eta': 0.9333333333333333, 'max_depth': 8, 'subsample': 1.0}... Be patient! ;)\n",
      "Testing for method <models.easyXGB object at 0x7ff6a6ea8940> with param.s {'reg_alpha': 0.19473684210526315, 'eta': 0.9666666666666667, 'max_depth': 8, 'subsample': 1.0}... Be patient! ;)\n",
      "Testing for method <models.easyXGB object at 0x7ff6a6ea8940> with param.s {'reg_alpha': 0.19473684210526315, 'eta': 1.0, 'max_depth': 8, 'subsample': 1.0}... Be patient! ;)\n",
      "Testing for method <models.easyXGB object at 0x7ff6a6ea8940> with param.s {'reg_alpha': 0.19473684210526315, 'eta': 0.7, 'max_depth': 9, 'subsample': 1.0}... Be patient! ;)\n",
      "Testing for method <models.easyXGB object at 0x7ff6a6ea8940> with param.s {'reg_alpha': 0.19473684210526315, 'eta': 0.7333333333333333, 'max_depth': 9, 'subsample': 1.0}... Be patient! ;)\n",
      "Testing for method <models.easyXGB object at 0x7ff6a6ea8940> with param.s {'reg_alpha': 0.19473684210526315, 'eta': 0.7666666666666666, 'max_depth': 9, 'subsample': 1.0}... Be patient! ;)\n",
      "Testing for method <models.easyXGB object at 0x7ff6a6ea8940> with param.s {'reg_alpha': 0.19473684210526315, 'eta': 0.7999999999999999, 'max_depth': 9, 'subsample': 1.0}... Be patient! ;)\n"
     ]
    },
    {
     "name": "stdout",
     "output_type": "stream",
     "text": [
      "Testing for method <models.easyXGB object at 0x7ff6a6ea8940> with param.s {'reg_alpha': 0.19473684210526315, 'eta': 0.8333333333333333, 'max_depth': 9, 'subsample': 1.0}... Be patient! ;)\n",
      "Testing for method <models.easyXGB object at 0x7ff6a6ea8940> with param.s {'reg_alpha': 0.19473684210526315, 'eta': 0.8666666666666667, 'max_depth': 9, 'subsample': 1.0}... Be patient! ;)\n",
      "Testing for method <models.easyXGB object at 0x7ff6a6ea8940> with param.s {'reg_alpha': 0.19473684210526315, 'eta': 0.9, 'max_depth': 9, 'subsample': 1.0}... Be patient! ;)\n",
      "Testing for method <models.easyXGB object at 0x7ff6a6ea8940> with param.s {'reg_alpha': 0.19473684210526315, 'eta': 0.9333333333333333, 'max_depth': 9, 'subsample': 1.0}... Be patient! ;)\n",
      "Testing for method <models.easyXGB object at 0x7ff6a6ea8940> with param.s {'reg_alpha': 0.19473684210526315, 'eta': 0.9666666666666667, 'max_depth': 9, 'subsample': 1.0}... Be patient! ;)\n",
      "Testing for method <models.easyXGB object at 0x7ff6a6ea8940> with param.s {'reg_alpha': 0.19473684210526315, 'eta': 1.0, 'max_depth': 9, 'subsample': 1.0}... Be patient! ;)\n",
      "Testing for method <models.easyXGB object at 0x7ff6a6ea8940> with param.s {'reg_alpha': 0.19473684210526315, 'eta': 0.7, 'max_depth': 10, 'subsample': 1.0}... Be patient! ;)\n",
      "Testing for method <models.easyXGB object at 0x7ff6a6ea8940> with param.s {'reg_alpha': 0.19473684210526315, 'eta': 0.7333333333333333, 'max_depth': 10, 'subsample': 1.0}... Be patient! ;)\n",
      "Testing for method <models.easyXGB object at 0x7ff6a6ea8940> with param.s {'reg_alpha': 0.19473684210526315, 'eta': 0.7666666666666666, 'max_depth': 10, 'subsample': 1.0}... Be patient! ;)\n",
      "Testing for method <models.easyXGB object at 0x7ff6a6ea8940> with param.s {'reg_alpha': 0.19473684210526315, 'eta': 0.7999999999999999, 'max_depth': 10, 'subsample': 1.0}... Be patient! ;)\n",
      "Testing for method <models.easyXGB object at 0x7ff6a6ea8940> with param.s {'reg_alpha': 0.19473684210526315, 'eta': 0.8333333333333333, 'max_depth': 10, 'subsample': 1.0}... Be patient! ;)\n",
      "Testing for method <models.easyXGB object at 0x7ff6a6ea8940> with param.s {'reg_alpha': 0.19473684210526315, 'eta': 0.8666666666666667, 'max_depth': 10, 'subsample': 1.0}... Be patient! ;)\n",
      "Testing for method <models.easyXGB object at 0x7ff6a6ea8940> with param.s {'reg_alpha': 0.19473684210526315, 'eta': 0.9, 'max_depth': 10, 'subsample': 1.0}... Be patient! ;)\n",
      "Testing for method <models.easyXGB object at 0x7ff6a6ea8940> with param.s {'reg_alpha': 0.19473684210526315, 'eta': 0.9333333333333333, 'max_depth': 10, 'subsample': 1.0}... Be patient! ;)\n",
      "Testing for method <models.easyXGB object at 0x7ff6a6ea8940> with param.s {'reg_alpha': 0.19473684210526315, 'eta': 0.9666666666666667, 'max_depth': 10, 'subsample': 1.0}... Be patient! ;)\n",
      "Testing for method <models.easyXGB object at 0x7ff6a6ea8940> with param.s {'reg_alpha': 0.19473684210526315, 'eta': 1.0, 'max_depth': 10, 'subsample': 1.0}... Be patient! ;)\n",
      "Testing for method <models.easyXGB object at 0x7ff6a6ea8940> with param.s {'reg_alpha': 0.19473684210526315, 'eta': 0.7, 'max_depth': 11, 'subsample': 1.0}... Be patient! ;)\n",
      "Testing for method <models.easyXGB object at 0x7ff6a6ea8940> with param.s {'reg_alpha': 0.19473684210526315, 'eta': 0.7333333333333333, 'max_depth': 11, 'subsample': 1.0}... Be patient! ;)\n",
      "Testing for method <models.easyXGB object at 0x7ff6a6ea8940> with param.s {'reg_alpha': 0.19473684210526315, 'eta': 0.7666666666666666, 'max_depth': 11, 'subsample': 1.0}... Be patient! ;)\n",
      "Testing for method <models.easyXGB object at 0x7ff6a6ea8940> with param.s {'reg_alpha': 0.19473684210526315, 'eta': 0.7999999999999999, 'max_depth': 11, 'subsample': 1.0}... Be patient! ;)\n",
      "Testing for method <models.easyXGB object at 0x7ff6a6ea8940> with param.s {'reg_alpha': 0.19473684210526315, 'eta': 0.8333333333333333, 'max_depth': 11, 'subsample': 1.0}... Be patient! ;)\n",
      "Testing for method <models.easyXGB object at 0x7ff6a6ea8940> with param.s {'reg_alpha': 0.19473684210526315, 'eta': 0.8666666666666667, 'max_depth': 11, 'subsample': 1.0}... Be patient! ;)\n",
      "Testing for method <models.easyXGB object at 0x7ff6a6ea8940> with param.s {'reg_alpha': 0.19473684210526315, 'eta': 0.9, 'max_depth': 11, 'subsample': 1.0}... Be patient! ;)\n",
      "Testing for method <models.easyXGB object at 0x7ff6a6ea8940> with param.s {'reg_alpha': 0.19473684210526315, 'eta': 0.9333333333333333, 'max_depth': 11, 'subsample': 1.0}... Be patient! ;)\n",
      "Testing for method <models.easyXGB object at 0x7ff6a6ea8940> with param.s {'reg_alpha': 0.19473684210526315, 'eta': 0.9666666666666667, 'max_depth': 11, 'subsample': 1.0}... Be patient! ;)\n",
      "Testing for method <models.easyXGB object at 0x7ff6a6ea8940> with param.s {'reg_alpha': 0.19473684210526315, 'eta': 1.0, 'max_depth': 11, 'subsample': 1.0}... Be patient! ;)\n",
      "Testing for method <models.easyXGB object at 0x7ff6a6ea8940> with param.s {'reg_alpha': 0.24210526315789474, 'eta': 0.7, 'max_depth': 8, 'subsample': 1.0}... Be patient! ;)\n",
      "Testing for method <models.easyXGB object at 0x7ff6a6ea8940> with param.s {'reg_alpha': 0.24210526315789474, 'eta': 0.7333333333333333, 'max_depth': 8, 'subsample': 1.0}... Be patient! ;)\n",
      "Testing for method <models.easyXGB object at 0x7ff6a6ea8940> with param.s {'reg_alpha': 0.24210526315789474, 'eta': 0.7666666666666666, 'max_depth': 8, 'subsample': 1.0}... Be patient! ;)\n",
      "Testing for method <models.easyXGB object at 0x7ff6a6ea8940> with param.s {'reg_alpha': 0.24210526315789474, 'eta': 0.7999999999999999, 'max_depth': 8, 'subsample': 1.0}... Be patient! ;)\n",
      "Testing for method <models.easyXGB object at 0x7ff6a6ea8940> with param.s {'reg_alpha': 0.24210526315789474, 'eta': 0.8333333333333333, 'max_depth': 8, 'subsample': 1.0}... Be patient! ;)\n",
      "Testing for method <models.easyXGB object at 0x7ff6a6ea8940> with param.s {'reg_alpha': 0.24210526315789474, 'eta': 0.8666666666666667, 'max_depth': 8, 'subsample': 1.0}... Be patient! ;)\n",
      "Testing for method <models.easyXGB object at 0x7ff6a6ea8940> with param.s {'reg_alpha': 0.24210526315789474, 'eta': 0.9, 'max_depth': 8, 'subsample': 1.0}... Be patient! ;)\n",
      "Testing for method <models.easyXGB object at 0x7ff6a6ea8940> with param.s {'reg_alpha': 0.24210526315789474, 'eta': 0.9333333333333333, 'max_depth': 8, 'subsample': 1.0}... Be patient! ;)\n",
      "Testing for method <models.easyXGB object at 0x7ff6a6ea8940> with param.s {'reg_alpha': 0.24210526315789474, 'eta': 0.9666666666666667, 'max_depth': 8, 'subsample': 1.0}... Be patient! ;)\n",
      "Testing for method <models.easyXGB object at 0x7ff6a6ea8940> with param.s {'reg_alpha': 0.24210526315789474, 'eta': 1.0, 'max_depth': 8, 'subsample': 1.0}... Be patient! ;)\n",
      "Testing for method <models.easyXGB object at 0x7ff6a6ea8940> with param.s {'reg_alpha': 0.24210526315789474, 'eta': 0.7, 'max_depth': 9, 'subsample': 1.0}... Be patient! ;)\n",
      "Testing for method <models.easyXGB object at 0x7ff6a6ea8940> with param.s {'reg_alpha': 0.24210526315789474, 'eta': 0.7333333333333333, 'max_depth': 9, 'subsample': 1.0}... Be patient! ;)\n",
      "Testing for method <models.easyXGB object at 0x7ff6a6ea8940> with param.s {'reg_alpha': 0.24210526315789474, 'eta': 0.7666666666666666, 'max_depth': 9, 'subsample': 1.0}... Be patient! ;)\n",
      "Testing for method <models.easyXGB object at 0x7ff6a6ea8940> with param.s {'reg_alpha': 0.24210526315789474, 'eta': 0.7999999999999999, 'max_depth': 9, 'subsample': 1.0}... Be patient! ;)\n",
      "Testing for method <models.easyXGB object at 0x7ff6a6ea8940> with param.s {'reg_alpha': 0.24210526315789474, 'eta': 0.8333333333333333, 'max_depth': 9, 'subsample': 1.0}... Be patient! ;)\n",
      "Testing for method <models.easyXGB object at 0x7ff6a6ea8940> with param.s {'reg_alpha': 0.24210526315789474, 'eta': 0.8666666666666667, 'max_depth': 9, 'subsample': 1.0}... Be patient! ;)\n",
      "Testing for method <models.easyXGB object at 0x7ff6a6ea8940> with param.s {'reg_alpha': 0.24210526315789474, 'eta': 0.9, 'max_depth': 9, 'subsample': 1.0}... Be patient! ;)\n",
      "Testing for method <models.easyXGB object at 0x7ff6a6ea8940> with param.s {'reg_alpha': 0.24210526315789474, 'eta': 0.9333333333333333, 'max_depth': 9, 'subsample': 1.0}... Be patient! ;)\n",
      "Testing for method <models.easyXGB object at 0x7ff6a6ea8940> with param.s {'reg_alpha': 0.24210526315789474, 'eta': 0.9666666666666667, 'max_depth': 9, 'subsample': 1.0}... Be patient! ;)\n"
     ]
    },
    {
     "name": "stdout",
     "output_type": "stream",
     "text": [
      "Testing for method <models.easyXGB object at 0x7ff6a6ea8940> with param.s {'reg_alpha': 0.24210526315789474, 'eta': 1.0, 'max_depth': 9, 'subsample': 1.0}... Be patient! ;)\n",
      "Testing for method <models.easyXGB object at 0x7ff6a6ea8940> with param.s {'reg_alpha': 0.24210526315789474, 'eta': 0.7, 'max_depth': 10, 'subsample': 1.0}... Be patient! ;)\n",
      "Testing for method <models.easyXGB object at 0x7ff6a6ea8940> with param.s {'reg_alpha': 0.24210526315789474, 'eta': 0.7333333333333333, 'max_depth': 10, 'subsample': 1.0}... Be patient! ;)\n",
      "Testing for method <models.easyXGB object at 0x7ff6a6ea8940> with param.s {'reg_alpha': 0.24210526315789474, 'eta': 0.7666666666666666, 'max_depth': 10, 'subsample': 1.0}... Be patient! ;)\n",
      "Testing for method <models.easyXGB object at 0x7ff6a6ea8940> with param.s {'reg_alpha': 0.24210526315789474, 'eta': 0.7999999999999999, 'max_depth': 10, 'subsample': 1.0}... Be patient! ;)\n",
      "Testing for method <models.easyXGB object at 0x7ff6a6ea8940> with param.s {'reg_alpha': 0.24210526315789474, 'eta': 0.8333333333333333, 'max_depth': 10, 'subsample': 1.0}... Be patient! ;)\n",
      "Testing for method <models.easyXGB object at 0x7ff6a6ea8940> with param.s {'reg_alpha': 0.24210526315789474, 'eta': 0.8666666666666667, 'max_depth': 10, 'subsample': 1.0}... Be patient! ;)\n",
      "Testing for method <models.easyXGB object at 0x7ff6a6ea8940> with param.s {'reg_alpha': 0.24210526315789474, 'eta': 0.9, 'max_depth': 10, 'subsample': 1.0}... Be patient! ;)\n",
      "Testing for method <models.easyXGB object at 0x7ff6a6ea8940> with param.s {'reg_alpha': 0.24210526315789474, 'eta': 0.9333333333333333, 'max_depth': 10, 'subsample': 1.0}... Be patient! ;)\n",
      "Testing for method <models.easyXGB object at 0x7ff6a6ea8940> with param.s {'reg_alpha': 0.24210526315789474, 'eta': 0.9666666666666667, 'max_depth': 10, 'subsample': 1.0}... Be patient! ;)\n",
      "Testing for method <models.easyXGB object at 0x7ff6a6ea8940> with param.s {'reg_alpha': 0.24210526315789474, 'eta': 1.0, 'max_depth': 10, 'subsample': 1.0}... Be patient! ;)\n",
      "Testing for method <models.easyXGB object at 0x7ff6a6ea8940> with param.s {'reg_alpha': 0.24210526315789474, 'eta': 0.7, 'max_depth': 11, 'subsample': 1.0}... Be patient! ;)\n",
      "Testing for method <models.easyXGB object at 0x7ff6a6ea8940> with param.s {'reg_alpha': 0.24210526315789474, 'eta': 0.7333333333333333, 'max_depth': 11, 'subsample': 1.0}... Be patient! ;)\n",
      "Testing for method <models.easyXGB object at 0x7ff6a6ea8940> with param.s {'reg_alpha': 0.24210526315789474, 'eta': 0.7666666666666666, 'max_depth': 11, 'subsample': 1.0}... Be patient! ;)\n",
      "Testing for method <models.easyXGB object at 0x7ff6a6ea8940> with param.s {'reg_alpha': 0.24210526315789474, 'eta': 0.7999999999999999, 'max_depth': 11, 'subsample': 1.0}... Be patient! ;)\n",
      "Testing for method <models.easyXGB object at 0x7ff6a6ea8940> with param.s {'reg_alpha': 0.24210526315789474, 'eta': 0.8333333333333333, 'max_depth': 11, 'subsample': 1.0}... Be patient! ;)\n",
      "Testing for method <models.easyXGB object at 0x7ff6a6ea8940> with param.s {'reg_alpha': 0.24210526315789474, 'eta': 0.8666666666666667, 'max_depth': 11, 'subsample': 1.0}... Be patient! ;)\n",
      "Testing for method <models.easyXGB object at 0x7ff6a6ea8940> with param.s {'reg_alpha': 0.24210526315789474, 'eta': 0.9, 'max_depth': 11, 'subsample': 1.0}... Be patient! ;)\n",
      "Testing for method <models.easyXGB object at 0x7ff6a6ea8940> with param.s {'reg_alpha': 0.24210526315789474, 'eta': 0.9333333333333333, 'max_depth': 11, 'subsample': 1.0}... Be patient! ;)\n",
      "Testing for method <models.easyXGB object at 0x7ff6a6ea8940> with param.s {'reg_alpha': 0.24210526315789474, 'eta': 0.9666666666666667, 'max_depth': 11, 'subsample': 1.0}... Be patient! ;)\n",
      "Testing for method <models.easyXGB object at 0x7ff6a6ea8940> with param.s {'reg_alpha': 0.24210526315789474, 'eta': 1.0, 'max_depth': 11, 'subsample': 1.0}... Be patient! ;)\n",
      "Testing for method <models.easyXGB object at 0x7ff6a6ea8940> with param.s {'reg_alpha': 0.2894736842105263, 'eta': 0.7, 'max_depth': 8, 'subsample': 1.0}... Be patient! ;)\n",
      "Testing for method <models.easyXGB object at 0x7ff6a6ea8940> with param.s {'reg_alpha': 0.2894736842105263, 'eta': 0.7333333333333333, 'max_depth': 8, 'subsample': 1.0}... Be patient! ;)\n",
      "Testing for method <models.easyXGB object at 0x7ff6a6ea8940> with param.s {'reg_alpha': 0.2894736842105263, 'eta': 0.7666666666666666, 'max_depth': 8, 'subsample': 1.0}... Be patient! ;)\n",
      "Testing for method <models.easyXGB object at 0x7ff6a6ea8940> with param.s {'reg_alpha': 0.2894736842105263, 'eta': 0.7999999999999999, 'max_depth': 8, 'subsample': 1.0}... Be patient! ;)\n",
      "Testing for method <models.easyXGB object at 0x7ff6a6ea8940> with param.s {'reg_alpha': 0.2894736842105263, 'eta': 0.8333333333333333, 'max_depth': 8, 'subsample': 1.0}... Be patient! ;)\n",
      "Testing for method <models.easyXGB object at 0x7ff6a6ea8940> with param.s {'reg_alpha': 0.2894736842105263, 'eta': 0.8666666666666667, 'max_depth': 8, 'subsample': 1.0}... Be patient! ;)\n",
      "Testing for method <models.easyXGB object at 0x7ff6a6ea8940> with param.s {'reg_alpha': 0.2894736842105263, 'eta': 0.9, 'max_depth': 8, 'subsample': 1.0}... Be patient! ;)\n",
      "Testing for method <models.easyXGB object at 0x7ff6a6ea8940> with param.s {'reg_alpha': 0.2894736842105263, 'eta': 0.9333333333333333, 'max_depth': 8, 'subsample': 1.0}... Be patient! ;)\n",
      "Testing for method <models.easyXGB object at 0x7ff6a6ea8940> with param.s {'reg_alpha': 0.2894736842105263, 'eta': 0.9666666666666667, 'max_depth': 8, 'subsample': 1.0}... Be patient! ;)\n",
      "Testing for method <models.easyXGB object at 0x7ff6a6ea8940> with param.s {'reg_alpha': 0.2894736842105263, 'eta': 1.0, 'max_depth': 8, 'subsample': 1.0}... Be patient! ;)\n",
      "Testing for method <models.easyXGB object at 0x7ff6a6ea8940> with param.s {'reg_alpha': 0.2894736842105263, 'eta': 0.7, 'max_depth': 9, 'subsample': 1.0}... Be patient! ;)\n",
      "Testing for method <models.easyXGB object at 0x7ff6a6ea8940> with param.s {'reg_alpha': 0.2894736842105263, 'eta': 0.7333333333333333, 'max_depth': 9, 'subsample': 1.0}... Be patient! ;)\n",
      "Testing for method <models.easyXGB object at 0x7ff6a6ea8940> with param.s {'reg_alpha': 0.2894736842105263, 'eta': 0.7666666666666666, 'max_depth': 9, 'subsample': 1.0}... Be patient! ;)\n",
      "Testing for method <models.easyXGB object at 0x7ff6a6ea8940> with param.s {'reg_alpha': 0.2894736842105263, 'eta': 0.7999999999999999, 'max_depth': 9, 'subsample': 1.0}... Be patient! ;)\n",
      "Testing for method <models.easyXGB object at 0x7ff6a6ea8940> with param.s {'reg_alpha': 0.2894736842105263, 'eta': 0.8333333333333333, 'max_depth': 9, 'subsample': 1.0}... Be patient! ;)\n",
      "Testing for method <models.easyXGB object at 0x7ff6a6ea8940> with param.s {'reg_alpha': 0.2894736842105263, 'eta': 0.8666666666666667, 'max_depth': 9, 'subsample': 1.0}... Be patient! ;)\n",
      "Testing for method <models.easyXGB object at 0x7ff6a6ea8940> with param.s {'reg_alpha': 0.2894736842105263, 'eta': 0.9, 'max_depth': 9, 'subsample': 1.0}... Be patient! ;)\n",
      "Testing for method <models.easyXGB object at 0x7ff6a6ea8940> with param.s {'reg_alpha': 0.2894736842105263, 'eta': 0.9333333333333333, 'max_depth': 9, 'subsample': 1.0}... Be patient! ;)\n",
      "Testing for method <models.easyXGB object at 0x7ff6a6ea8940> with param.s {'reg_alpha': 0.2894736842105263, 'eta': 0.9666666666666667, 'max_depth': 9, 'subsample': 1.0}... Be patient! ;)\n",
      "Testing for method <models.easyXGB object at 0x7ff6a6ea8940> with param.s {'reg_alpha': 0.2894736842105263, 'eta': 1.0, 'max_depth': 9, 'subsample': 1.0}... Be patient! ;)\n",
      "Testing for method <models.easyXGB object at 0x7ff6a6ea8940> with param.s {'reg_alpha': 0.2894736842105263, 'eta': 0.7, 'max_depth': 10, 'subsample': 1.0}... Be patient! ;)\n",
      "Testing for method <models.easyXGB object at 0x7ff6a6ea8940> with param.s {'reg_alpha': 0.2894736842105263, 'eta': 0.7333333333333333, 'max_depth': 10, 'subsample': 1.0}... Be patient! ;)\n",
      "Testing for method <models.easyXGB object at 0x7ff6a6ea8940> with param.s {'reg_alpha': 0.2894736842105263, 'eta': 0.7666666666666666, 'max_depth': 10, 'subsample': 1.0}... Be patient! ;)\n",
      "Testing for method <models.easyXGB object at 0x7ff6a6ea8940> with param.s {'reg_alpha': 0.2894736842105263, 'eta': 0.7999999999999999, 'max_depth': 10, 'subsample': 1.0}... Be patient! ;)\n"
     ]
    },
    {
     "name": "stdout",
     "output_type": "stream",
     "text": [
      "Testing for method <models.easyXGB object at 0x7ff6a6ea8940> with param.s {'reg_alpha': 0.2894736842105263, 'eta': 0.8333333333333333, 'max_depth': 10, 'subsample': 1.0}... Be patient! ;)\n",
      "Testing for method <models.easyXGB object at 0x7ff6a6ea8940> with param.s {'reg_alpha': 0.2894736842105263, 'eta': 0.8666666666666667, 'max_depth': 10, 'subsample': 1.0}... Be patient! ;)\n",
      "Testing for method <models.easyXGB object at 0x7ff6a6ea8940> with param.s {'reg_alpha': 0.2894736842105263, 'eta': 0.9, 'max_depth': 10, 'subsample': 1.0}... Be patient! ;)\n",
      "Testing for method <models.easyXGB object at 0x7ff6a6ea8940> with param.s {'reg_alpha': 0.2894736842105263, 'eta': 0.9333333333333333, 'max_depth': 10, 'subsample': 1.0}... Be patient! ;)\n",
      "Testing for method <models.easyXGB object at 0x7ff6a6ea8940> with param.s {'reg_alpha': 0.2894736842105263, 'eta': 0.9666666666666667, 'max_depth': 10, 'subsample': 1.0}... Be patient! ;)\n",
      "Testing for method <models.easyXGB object at 0x7ff6a6ea8940> with param.s {'reg_alpha': 0.2894736842105263, 'eta': 1.0, 'max_depth': 10, 'subsample': 1.0}... Be patient! ;)\n",
      "Testing for method <models.easyXGB object at 0x7ff6a6ea8940> with param.s {'reg_alpha': 0.2894736842105263, 'eta': 0.7, 'max_depth': 11, 'subsample': 1.0}... Be patient! ;)\n",
      "Testing for method <models.easyXGB object at 0x7ff6a6ea8940> with param.s {'reg_alpha': 0.2894736842105263, 'eta': 0.7333333333333333, 'max_depth': 11, 'subsample': 1.0}... Be patient! ;)\n",
      "Testing for method <models.easyXGB object at 0x7ff6a6ea8940> with param.s {'reg_alpha': 0.2894736842105263, 'eta': 0.7666666666666666, 'max_depth': 11, 'subsample': 1.0}... Be patient! ;)\n",
      "Testing for method <models.easyXGB object at 0x7ff6a6ea8940> with param.s {'reg_alpha': 0.2894736842105263, 'eta': 0.7999999999999999, 'max_depth': 11, 'subsample': 1.0}... Be patient! ;)\n",
      "Testing for method <models.easyXGB object at 0x7ff6a6ea8940> with param.s {'reg_alpha': 0.2894736842105263, 'eta': 0.8333333333333333, 'max_depth': 11, 'subsample': 1.0}... Be patient! ;)\n",
      "Testing for method <models.easyXGB object at 0x7ff6a6ea8940> with param.s {'reg_alpha': 0.2894736842105263, 'eta': 0.8666666666666667, 'max_depth': 11, 'subsample': 1.0}... Be patient! ;)\n",
      "Testing for method <models.easyXGB object at 0x7ff6a6ea8940> with param.s {'reg_alpha': 0.2894736842105263, 'eta': 0.9, 'max_depth': 11, 'subsample': 1.0}... Be patient! ;)\n",
      "Testing for method <models.easyXGB object at 0x7ff6a6ea8940> with param.s {'reg_alpha': 0.2894736842105263, 'eta': 0.9333333333333333, 'max_depth': 11, 'subsample': 1.0}... Be patient! ;)\n",
      "Testing for method <models.easyXGB object at 0x7ff6a6ea8940> with param.s {'reg_alpha': 0.2894736842105263, 'eta': 0.9666666666666667, 'max_depth': 11, 'subsample': 1.0}... Be patient! ;)\n",
      "Testing for method <models.easyXGB object at 0x7ff6a6ea8940> with param.s {'reg_alpha': 0.2894736842105263, 'eta': 1.0, 'max_depth': 11, 'subsample': 1.0}... Be patient! ;)\n",
      "Testing for method <models.easyXGB object at 0x7ff6a6ea8940> with param.s {'reg_alpha': 0.33684210526315794, 'eta': 0.7, 'max_depth': 8, 'subsample': 1.0}... Be patient! ;)\n",
      "Testing for method <models.easyXGB object at 0x7ff6a6ea8940> with param.s {'reg_alpha': 0.33684210526315794, 'eta': 0.7333333333333333, 'max_depth': 8, 'subsample': 1.0}... Be patient! ;)\n",
      "Testing for method <models.easyXGB object at 0x7ff6a6ea8940> with param.s {'reg_alpha': 0.33684210526315794, 'eta': 0.7666666666666666, 'max_depth': 8, 'subsample': 1.0}... Be patient! ;)\n",
      "Testing for method <models.easyXGB object at 0x7ff6a6ea8940> with param.s {'reg_alpha': 0.33684210526315794, 'eta': 0.7999999999999999, 'max_depth': 8, 'subsample': 1.0}... Be patient! ;)\n",
      "Testing for method <models.easyXGB object at 0x7ff6a6ea8940> with param.s {'reg_alpha': 0.33684210526315794, 'eta': 0.8333333333333333, 'max_depth': 8, 'subsample': 1.0}... Be patient! ;)\n",
      "Testing for method <models.easyXGB object at 0x7ff6a6ea8940> with param.s {'reg_alpha': 0.33684210526315794, 'eta': 0.8666666666666667, 'max_depth': 8, 'subsample': 1.0}... Be patient! ;)\n",
      "Testing for method <models.easyXGB object at 0x7ff6a6ea8940> with param.s {'reg_alpha': 0.33684210526315794, 'eta': 0.9, 'max_depth': 8, 'subsample': 1.0}... Be patient! ;)\n",
      "Testing for method <models.easyXGB object at 0x7ff6a6ea8940> with param.s {'reg_alpha': 0.33684210526315794, 'eta': 0.9333333333333333, 'max_depth': 8, 'subsample': 1.0}... Be patient! ;)\n",
      "Testing for method <models.easyXGB object at 0x7ff6a6ea8940> with param.s {'reg_alpha': 0.33684210526315794, 'eta': 0.9666666666666667, 'max_depth': 8, 'subsample': 1.0}... Be patient! ;)\n",
      "Testing for method <models.easyXGB object at 0x7ff6a6ea8940> with param.s {'reg_alpha': 0.33684210526315794, 'eta': 1.0, 'max_depth': 8, 'subsample': 1.0}... Be patient! ;)\n",
      "Testing for method <models.easyXGB object at 0x7ff6a6ea8940> with param.s {'reg_alpha': 0.33684210526315794, 'eta': 0.7, 'max_depth': 9, 'subsample': 1.0}... Be patient! ;)\n",
      "Testing for method <models.easyXGB object at 0x7ff6a6ea8940> with param.s {'reg_alpha': 0.33684210526315794, 'eta': 0.7333333333333333, 'max_depth': 9, 'subsample': 1.0}... Be patient! ;)\n",
      "Testing for method <models.easyXGB object at 0x7ff6a6ea8940> with param.s {'reg_alpha': 0.33684210526315794, 'eta': 0.7666666666666666, 'max_depth': 9, 'subsample': 1.0}... Be patient! ;)\n",
      "Testing for method <models.easyXGB object at 0x7ff6a6ea8940> with param.s {'reg_alpha': 0.33684210526315794, 'eta': 0.7999999999999999, 'max_depth': 9, 'subsample': 1.0}... Be patient! ;)\n",
      "Testing for method <models.easyXGB object at 0x7ff6a6ea8940> with param.s {'reg_alpha': 0.33684210526315794, 'eta': 0.8333333333333333, 'max_depth': 9, 'subsample': 1.0}... Be patient! ;)\n",
      "Testing for method <models.easyXGB object at 0x7ff6a6ea8940> with param.s {'reg_alpha': 0.33684210526315794, 'eta': 0.8666666666666667, 'max_depth': 9, 'subsample': 1.0}... Be patient! ;)\n",
      "Testing for method <models.easyXGB object at 0x7ff6a6ea8940> with param.s {'reg_alpha': 0.33684210526315794, 'eta': 0.9, 'max_depth': 9, 'subsample': 1.0}... Be patient! ;)\n",
      "Testing for method <models.easyXGB object at 0x7ff6a6ea8940> with param.s {'reg_alpha': 0.33684210526315794, 'eta': 0.9333333333333333, 'max_depth': 9, 'subsample': 1.0}... Be patient! ;)\n",
      "Testing for method <models.easyXGB object at 0x7ff6a6ea8940> with param.s {'reg_alpha': 0.33684210526315794, 'eta': 0.9666666666666667, 'max_depth': 9, 'subsample': 1.0}... Be patient! ;)\n",
      "Testing for method <models.easyXGB object at 0x7ff6a6ea8940> with param.s {'reg_alpha': 0.33684210526315794, 'eta': 1.0, 'max_depth': 9, 'subsample': 1.0}... Be patient! ;)\n",
      "Testing for method <models.easyXGB object at 0x7ff6a6ea8940> with param.s {'reg_alpha': 0.33684210526315794, 'eta': 0.7, 'max_depth': 10, 'subsample': 1.0}... Be patient! ;)\n",
      "Testing for method <models.easyXGB object at 0x7ff6a6ea8940> with param.s {'reg_alpha': 0.33684210526315794, 'eta': 0.7333333333333333, 'max_depth': 10, 'subsample': 1.0}... Be patient! ;)\n",
      "Testing for method <models.easyXGB object at 0x7ff6a6ea8940> with param.s {'reg_alpha': 0.33684210526315794, 'eta': 0.7666666666666666, 'max_depth': 10, 'subsample': 1.0}... Be patient! ;)\n",
      "Testing for method <models.easyXGB object at 0x7ff6a6ea8940> with param.s {'reg_alpha': 0.33684210526315794, 'eta': 0.7999999999999999, 'max_depth': 10, 'subsample': 1.0}... Be patient! ;)\n",
      "Testing for method <models.easyXGB object at 0x7ff6a6ea8940> with param.s {'reg_alpha': 0.33684210526315794, 'eta': 0.8333333333333333, 'max_depth': 10, 'subsample': 1.0}... Be patient! ;)\n",
      "Testing for method <models.easyXGB object at 0x7ff6a6ea8940> with param.s {'reg_alpha': 0.33684210526315794, 'eta': 0.8666666666666667, 'max_depth': 10, 'subsample': 1.0}... Be patient! ;)\n",
      "Testing for method <models.easyXGB object at 0x7ff6a6ea8940> with param.s {'reg_alpha': 0.33684210526315794, 'eta': 0.9, 'max_depth': 10, 'subsample': 1.0}... Be patient! ;)\n",
      "Testing for method <models.easyXGB object at 0x7ff6a6ea8940> with param.s {'reg_alpha': 0.33684210526315794, 'eta': 0.9333333333333333, 'max_depth': 10, 'subsample': 1.0}... Be patient! ;)\n",
      "Testing for method <models.easyXGB object at 0x7ff6a6ea8940> with param.s {'reg_alpha': 0.33684210526315794, 'eta': 0.9666666666666667, 'max_depth': 10, 'subsample': 1.0}... Be patient! ;)\n"
     ]
    },
    {
     "name": "stdout",
     "output_type": "stream",
     "text": [
      "Testing for method <models.easyXGB object at 0x7ff6a6ea8940> with param.s {'reg_alpha': 0.33684210526315794, 'eta': 1.0, 'max_depth': 10, 'subsample': 1.0}... Be patient! ;)\n",
      "Testing for method <models.easyXGB object at 0x7ff6a6ea8940> with param.s {'reg_alpha': 0.33684210526315794, 'eta': 0.7, 'max_depth': 11, 'subsample': 1.0}... Be patient! ;)\n",
      "Testing for method <models.easyXGB object at 0x7ff6a6ea8940> with param.s {'reg_alpha': 0.33684210526315794, 'eta': 0.7333333333333333, 'max_depth': 11, 'subsample': 1.0}... Be patient! ;)\n",
      "Testing for method <models.easyXGB object at 0x7ff6a6ea8940> with param.s {'reg_alpha': 0.33684210526315794, 'eta': 0.7666666666666666, 'max_depth': 11, 'subsample': 1.0}... Be patient! ;)\n",
      "Testing for method <models.easyXGB object at 0x7ff6a6ea8940> with param.s {'reg_alpha': 0.33684210526315794, 'eta': 0.7999999999999999, 'max_depth': 11, 'subsample': 1.0}... Be patient! ;)\n",
      "Testing for method <models.easyXGB object at 0x7ff6a6ea8940> with param.s {'reg_alpha': 0.33684210526315794, 'eta': 0.8333333333333333, 'max_depth': 11, 'subsample': 1.0}... Be patient! ;)\n",
      "Testing for method <models.easyXGB object at 0x7ff6a6ea8940> with param.s {'reg_alpha': 0.33684210526315794, 'eta': 0.8666666666666667, 'max_depth': 11, 'subsample': 1.0}... Be patient! ;)\n",
      "Testing for method <models.easyXGB object at 0x7ff6a6ea8940> with param.s {'reg_alpha': 0.33684210526315794, 'eta': 0.9, 'max_depth': 11, 'subsample': 1.0}... Be patient! ;)\n",
      "Testing for method <models.easyXGB object at 0x7ff6a6ea8940> with param.s {'reg_alpha': 0.33684210526315794, 'eta': 0.9333333333333333, 'max_depth': 11, 'subsample': 1.0}... Be patient! ;)\n",
      "Testing for method <models.easyXGB object at 0x7ff6a6ea8940> with param.s {'reg_alpha': 0.33684210526315794, 'eta': 0.9666666666666667, 'max_depth': 11, 'subsample': 1.0}... Be patient! ;)\n",
      "Testing for method <models.easyXGB object at 0x7ff6a6ea8940> with param.s {'reg_alpha': 0.33684210526315794, 'eta': 1.0, 'max_depth': 11, 'subsample': 1.0}... Be patient! ;)\n",
      "Testing for method <models.easyXGB object at 0x7ff6a6ea8940> with param.s {'reg_alpha': 0.38421052631578945, 'eta': 0.7, 'max_depth': 8, 'subsample': 1.0}... Be patient! ;)\n",
      "Testing for method <models.easyXGB object at 0x7ff6a6ea8940> with param.s {'reg_alpha': 0.38421052631578945, 'eta': 0.7333333333333333, 'max_depth': 8, 'subsample': 1.0}... Be patient! ;)\n",
      "Testing for method <models.easyXGB object at 0x7ff6a6ea8940> with param.s {'reg_alpha': 0.38421052631578945, 'eta': 0.7666666666666666, 'max_depth': 8, 'subsample': 1.0}... Be patient! ;)\n",
      "Testing for method <models.easyXGB object at 0x7ff6a6ea8940> with param.s {'reg_alpha': 0.38421052631578945, 'eta': 0.7999999999999999, 'max_depth': 8, 'subsample': 1.0}... Be patient! ;)\n",
      "Testing for method <models.easyXGB object at 0x7ff6a6ea8940> with param.s {'reg_alpha': 0.38421052631578945, 'eta': 0.8333333333333333, 'max_depth': 8, 'subsample': 1.0}... Be patient! ;)\n",
      "Testing for method <models.easyXGB object at 0x7ff6a6ea8940> with param.s {'reg_alpha': 0.38421052631578945, 'eta': 0.8666666666666667, 'max_depth': 8, 'subsample': 1.0}... Be patient! ;)\n",
      "Testing for method <models.easyXGB object at 0x7ff6a6ea8940> with param.s {'reg_alpha': 0.38421052631578945, 'eta': 0.9, 'max_depth': 8, 'subsample': 1.0}... Be patient! ;)\n",
      "Testing for method <models.easyXGB object at 0x7ff6a6ea8940> with param.s {'reg_alpha': 0.38421052631578945, 'eta': 0.9333333333333333, 'max_depth': 8, 'subsample': 1.0}... Be patient! ;)\n",
      "Testing for method <models.easyXGB object at 0x7ff6a6ea8940> with param.s {'reg_alpha': 0.38421052631578945, 'eta': 0.9666666666666667, 'max_depth': 8, 'subsample': 1.0}... Be patient! ;)\n",
      "Testing for method <models.easyXGB object at 0x7ff6a6ea8940> with param.s {'reg_alpha': 0.38421052631578945, 'eta': 1.0, 'max_depth': 8, 'subsample': 1.0}... Be patient! ;)\n",
      "Testing for method <models.easyXGB object at 0x7ff6a6ea8940> with param.s {'reg_alpha': 0.38421052631578945, 'eta': 0.7, 'max_depth': 9, 'subsample': 1.0}... Be patient! ;)\n",
      "Testing for method <models.easyXGB object at 0x7ff6a6ea8940> with param.s {'reg_alpha': 0.38421052631578945, 'eta': 0.7333333333333333, 'max_depth': 9, 'subsample': 1.0}... Be patient! ;)\n",
      "Testing for method <models.easyXGB object at 0x7ff6a6ea8940> with param.s {'reg_alpha': 0.38421052631578945, 'eta': 0.7666666666666666, 'max_depth': 9, 'subsample': 1.0}... Be patient! ;)\n",
      "Testing for method <models.easyXGB object at 0x7ff6a6ea8940> with param.s {'reg_alpha': 0.38421052631578945, 'eta': 0.7999999999999999, 'max_depth': 9, 'subsample': 1.0}... Be patient! ;)\n",
      "Testing for method <models.easyXGB object at 0x7ff6a6ea8940> with param.s {'reg_alpha': 0.38421052631578945, 'eta': 0.8333333333333333, 'max_depth': 9, 'subsample': 1.0}... Be patient! ;)\n",
      "Testing for method <models.easyXGB object at 0x7ff6a6ea8940> with param.s {'reg_alpha': 0.38421052631578945, 'eta': 0.8666666666666667, 'max_depth': 9, 'subsample': 1.0}... Be patient! ;)\n",
      "Testing for method <models.easyXGB object at 0x7ff6a6ea8940> with param.s {'reg_alpha': 0.38421052631578945, 'eta': 0.9, 'max_depth': 9, 'subsample': 1.0}... Be patient! ;)\n",
      "Testing for method <models.easyXGB object at 0x7ff6a6ea8940> with param.s {'reg_alpha': 0.38421052631578945, 'eta': 0.9333333333333333, 'max_depth': 9, 'subsample': 1.0}... Be patient! ;)\n",
      "Testing for method <models.easyXGB object at 0x7ff6a6ea8940> with param.s {'reg_alpha': 0.38421052631578945, 'eta': 0.9666666666666667, 'max_depth': 9, 'subsample': 1.0}... Be patient! ;)\n",
      "Testing for method <models.easyXGB object at 0x7ff6a6ea8940> with param.s {'reg_alpha': 0.38421052631578945, 'eta': 1.0, 'max_depth': 9, 'subsample': 1.0}... Be patient! ;)\n",
      "Testing for method <models.easyXGB object at 0x7ff6a6ea8940> with param.s {'reg_alpha': 0.38421052631578945, 'eta': 0.7, 'max_depth': 10, 'subsample': 1.0}... Be patient! ;)\n",
      "Testing for method <models.easyXGB object at 0x7ff6a6ea8940> with param.s {'reg_alpha': 0.38421052631578945, 'eta': 0.7333333333333333, 'max_depth': 10, 'subsample': 1.0}... Be patient! ;)\n",
      "Testing for method <models.easyXGB object at 0x7ff6a6ea8940> with param.s {'reg_alpha': 0.38421052631578945, 'eta': 0.7666666666666666, 'max_depth': 10, 'subsample': 1.0}... Be patient! ;)\n",
      "Testing for method <models.easyXGB object at 0x7ff6a6ea8940> with param.s {'reg_alpha': 0.38421052631578945, 'eta': 0.7999999999999999, 'max_depth': 10, 'subsample': 1.0}... Be patient! ;)\n",
      "Testing for method <models.easyXGB object at 0x7ff6a6ea8940> with param.s {'reg_alpha': 0.38421052631578945, 'eta': 0.8333333333333333, 'max_depth': 10, 'subsample': 1.0}... Be patient! ;)\n",
      "Testing for method <models.easyXGB object at 0x7ff6a6ea8940> with param.s {'reg_alpha': 0.38421052631578945, 'eta': 0.8666666666666667, 'max_depth': 10, 'subsample': 1.0}... Be patient! ;)\n",
      "Testing for method <models.easyXGB object at 0x7ff6a6ea8940> with param.s {'reg_alpha': 0.38421052631578945, 'eta': 0.9, 'max_depth': 10, 'subsample': 1.0}... Be patient! ;)\n",
      "Testing for method <models.easyXGB object at 0x7ff6a6ea8940> with param.s {'reg_alpha': 0.38421052631578945, 'eta': 0.9333333333333333, 'max_depth': 10, 'subsample': 1.0}... Be patient! ;)\n",
      "Testing for method <models.easyXGB object at 0x7ff6a6ea8940> with param.s {'reg_alpha': 0.38421052631578945, 'eta': 0.9666666666666667, 'max_depth': 10, 'subsample': 1.0}... Be patient! ;)\n",
      "Testing for method <models.easyXGB object at 0x7ff6a6ea8940> with param.s {'reg_alpha': 0.38421052631578945, 'eta': 1.0, 'max_depth': 10, 'subsample': 1.0}... Be patient! ;)\n",
      "Testing for method <models.easyXGB object at 0x7ff6a6ea8940> with param.s {'reg_alpha': 0.38421052631578945, 'eta': 0.7, 'max_depth': 11, 'subsample': 1.0}... Be patient! ;)\n",
      "Testing for method <models.easyXGB object at 0x7ff6a6ea8940> with param.s {'reg_alpha': 0.38421052631578945, 'eta': 0.7333333333333333, 'max_depth': 11, 'subsample': 1.0}... Be patient! ;)\n",
      "Testing for method <models.easyXGB object at 0x7ff6a6ea8940> with param.s {'reg_alpha': 0.38421052631578945, 'eta': 0.7666666666666666, 'max_depth': 11, 'subsample': 1.0}... Be patient! ;)\n",
      "Testing for method <models.easyXGB object at 0x7ff6a6ea8940> with param.s {'reg_alpha': 0.38421052631578945, 'eta': 0.7999999999999999, 'max_depth': 11, 'subsample': 1.0}... Be patient! ;)\n"
     ]
    },
    {
     "name": "stdout",
     "output_type": "stream",
     "text": [
      "Testing for method <models.easyXGB object at 0x7ff6a6ea8940> with param.s {'reg_alpha': 0.38421052631578945, 'eta': 0.8333333333333333, 'max_depth': 11, 'subsample': 1.0}... Be patient! ;)\n",
      "Testing for method <models.easyXGB object at 0x7ff6a6ea8940> with param.s {'reg_alpha': 0.38421052631578945, 'eta': 0.8666666666666667, 'max_depth': 11, 'subsample': 1.0}... Be patient! ;)\n",
      "Testing for method <models.easyXGB object at 0x7ff6a6ea8940> with param.s {'reg_alpha': 0.38421052631578945, 'eta': 0.9, 'max_depth': 11, 'subsample': 1.0}... Be patient! ;)\n",
      "Testing for method <models.easyXGB object at 0x7ff6a6ea8940> with param.s {'reg_alpha': 0.38421052631578945, 'eta': 0.9333333333333333, 'max_depth': 11, 'subsample': 1.0}... Be patient! ;)\n",
      "Testing for method <models.easyXGB object at 0x7ff6a6ea8940> with param.s {'reg_alpha': 0.38421052631578945, 'eta': 0.9666666666666667, 'max_depth': 11, 'subsample': 1.0}... Be patient! ;)\n",
      "Testing for method <models.easyXGB object at 0x7ff6a6ea8940> with param.s {'reg_alpha': 0.38421052631578945, 'eta': 1.0, 'max_depth': 11, 'subsample': 1.0}... Be patient! ;)\n",
      "Testing for method <models.easyXGB object at 0x7ff6a6ea8940> with param.s {'reg_alpha': 0.43157894736842106, 'eta': 0.7, 'max_depth': 8, 'subsample': 1.0}... Be patient! ;)\n",
      "Testing for method <models.easyXGB object at 0x7ff6a6ea8940> with param.s {'reg_alpha': 0.43157894736842106, 'eta': 0.7333333333333333, 'max_depth': 8, 'subsample': 1.0}... Be patient! ;)\n",
      "Testing for method <models.easyXGB object at 0x7ff6a6ea8940> with param.s {'reg_alpha': 0.43157894736842106, 'eta': 0.7666666666666666, 'max_depth': 8, 'subsample': 1.0}... Be patient! ;)\n",
      "Testing for method <models.easyXGB object at 0x7ff6a6ea8940> with param.s {'reg_alpha': 0.43157894736842106, 'eta': 0.7999999999999999, 'max_depth': 8, 'subsample': 1.0}... Be patient! ;)\n",
      "Testing for method <models.easyXGB object at 0x7ff6a6ea8940> with param.s {'reg_alpha': 0.43157894736842106, 'eta': 0.8333333333333333, 'max_depth': 8, 'subsample': 1.0}... Be patient! ;)\n",
      "Testing for method <models.easyXGB object at 0x7ff6a6ea8940> with param.s {'reg_alpha': 0.43157894736842106, 'eta': 0.8666666666666667, 'max_depth': 8, 'subsample': 1.0}... Be patient! ;)\n",
      "Testing for method <models.easyXGB object at 0x7ff6a6ea8940> with param.s {'reg_alpha': 0.43157894736842106, 'eta': 0.9, 'max_depth': 8, 'subsample': 1.0}... Be patient! ;)\n",
      "Testing for method <models.easyXGB object at 0x7ff6a6ea8940> with param.s {'reg_alpha': 0.43157894736842106, 'eta': 0.9333333333333333, 'max_depth': 8, 'subsample': 1.0}... Be patient! ;)\n",
      "Testing for method <models.easyXGB object at 0x7ff6a6ea8940> with param.s {'reg_alpha': 0.43157894736842106, 'eta': 0.9666666666666667, 'max_depth': 8, 'subsample': 1.0}... Be patient! ;)\n",
      "Testing for method <models.easyXGB object at 0x7ff6a6ea8940> with param.s {'reg_alpha': 0.43157894736842106, 'eta': 1.0, 'max_depth': 8, 'subsample': 1.0}... Be patient! ;)\n",
      "Testing for method <models.easyXGB object at 0x7ff6a6ea8940> with param.s {'reg_alpha': 0.43157894736842106, 'eta': 0.7, 'max_depth': 9, 'subsample': 1.0}... Be patient! ;)\n",
      "Testing for method <models.easyXGB object at 0x7ff6a6ea8940> with param.s {'reg_alpha': 0.43157894736842106, 'eta': 0.7333333333333333, 'max_depth': 9, 'subsample': 1.0}... Be patient! ;)\n",
      "Testing for method <models.easyXGB object at 0x7ff6a6ea8940> with param.s {'reg_alpha': 0.43157894736842106, 'eta': 0.7666666666666666, 'max_depth': 9, 'subsample': 1.0}... Be patient! ;)\n",
      "Testing for method <models.easyXGB object at 0x7ff6a6ea8940> with param.s {'reg_alpha': 0.43157894736842106, 'eta': 0.7999999999999999, 'max_depth': 9, 'subsample': 1.0}... Be patient! ;)\n",
      "Testing for method <models.easyXGB object at 0x7ff6a6ea8940> with param.s {'reg_alpha': 0.43157894736842106, 'eta': 0.8333333333333333, 'max_depth': 9, 'subsample': 1.0}... Be patient! ;)\n",
      "Testing for method <models.easyXGB object at 0x7ff6a6ea8940> with param.s {'reg_alpha': 0.43157894736842106, 'eta': 0.8666666666666667, 'max_depth': 9, 'subsample': 1.0}... Be patient! ;)\n",
      "Testing for method <models.easyXGB object at 0x7ff6a6ea8940> with param.s {'reg_alpha': 0.43157894736842106, 'eta': 0.9, 'max_depth': 9, 'subsample': 1.0}... Be patient! ;)\n",
      "Testing for method <models.easyXGB object at 0x7ff6a6ea8940> with param.s {'reg_alpha': 0.43157894736842106, 'eta': 0.9333333333333333, 'max_depth': 9, 'subsample': 1.0}... Be patient! ;)\n",
      "Testing for method <models.easyXGB object at 0x7ff6a6ea8940> with param.s {'reg_alpha': 0.43157894736842106, 'eta': 0.9666666666666667, 'max_depth': 9, 'subsample': 1.0}... Be patient! ;)\n",
      "Testing for method <models.easyXGB object at 0x7ff6a6ea8940> with param.s {'reg_alpha': 0.43157894736842106, 'eta': 1.0, 'max_depth': 9, 'subsample': 1.0}... Be patient! ;)\n",
      "Testing for method <models.easyXGB object at 0x7ff6a6ea8940> with param.s {'reg_alpha': 0.43157894736842106, 'eta': 0.7, 'max_depth': 10, 'subsample': 1.0}... Be patient! ;)\n",
      "Testing for method <models.easyXGB object at 0x7ff6a6ea8940> with param.s {'reg_alpha': 0.43157894736842106, 'eta': 0.7333333333333333, 'max_depth': 10, 'subsample': 1.0}... Be patient! ;)\n",
      "Testing for method <models.easyXGB object at 0x7ff6a6ea8940> with param.s {'reg_alpha': 0.43157894736842106, 'eta': 0.7666666666666666, 'max_depth': 10, 'subsample': 1.0}... Be patient! ;)\n",
      "Testing for method <models.easyXGB object at 0x7ff6a6ea8940> with param.s {'reg_alpha': 0.43157894736842106, 'eta': 0.7999999999999999, 'max_depth': 10, 'subsample': 1.0}... Be patient! ;)\n",
      "Testing for method <models.easyXGB object at 0x7ff6a6ea8940> with param.s {'reg_alpha': 0.43157894736842106, 'eta': 0.8333333333333333, 'max_depth': 10, 'subsample': 1.0}... Be patient! ;)\n",
      "Testing for method <models.easyXGB object at 0x7ff6a6ea8940> with param.s {'reg_alpha': 0.43157894736842106, 'eta': 0.8666666666666667, 'max_depth': 10, 'subsample': 1.0}... Be patient! ;)\n",
      "Testing for method <models.easyXGB object at 0x7ff6a6ea8940> with param.s {'reg_alpha': 0.43157894736842106, 'eta': 0.9, 'max_depth': 10, 'subsample': 1.0}... Be patient! ;)\n",
      "Testing for method <models.easyXGB object at 0x7ff6a6ea8940> with param.s {'reg_alpha': 0.43157894736842106, 'eta': 0.9333333333333333, 'max_depth': 10, 'subsample': 1.0}... Be patient! ;)\n",
      "Testing for method <models.easyXGB object at 0x7ff6a6ea8940> with param.s {'reg_alpha': 0.43157894736842106, 'eta': 0.9666666666666667, 'max_depth': 10, 'subsample': 1.0}... Be patient! ;)\n",
      "Testing for method <models.easyXGB object at 0x7ff6a6ea8940> with param.s {'reg_alpha': 0.43157894736842106, 'eta': 1.0, 'max_depth': 10, 'subsample': 1.0}... Be patient! ;)\n",
      "Testing for method <models.easyXGB object at 0x7ff6a6ea8940> with param.s {'reg_alpha': 0.43157894736842106, 'eta': 0.7, 'max_depth': 11, 'subsample': 1.0}... Be patient! ;)\n",
      "Testing for method <models.easyXGB object at 0x7ff6a6ea8940> with param.s {'reg_alpha': 0.43157894736842106, 'eta': 0.7333333333333333, 'max_depth': 11, 'subsample': 1.0}... Be patient! ;)\n",
      "Testing for method <models.easyXGB object at 0x7ff6a6ea8940> with param.s {'reg_alpha': 0.43157894736842106, 'eta': 0.7666666666666666, 'max_depth': 11, 'subsample': 1.0}... Be patient! ;)\n",
      "Testing for method <models.easyXGB object at 0x7ff6a6ea8940> with param.s {'reg_alpha': 0.43157894736842106, 'eta': 0.7999999999999999, 'max_depth': 11, 'subsample': 1.0}... Be patient! ;)\n",
      "Testing for method <models.easyXGB object at 0x7ff6a6ea8940> with param.s {'reg_alpha': 0.43157894736842106, 'eta': 0.8333333333333333, 'max_depth': 11, 'subsample': 1.0}... Be patient! ;)\n",
      "Testing for method <models.easyXGB object at 0x7ff6a6ea8940> with param.s {'reg_alpha': 0.43157894736842106, 'eta': 0.8666666666666667, 'max_depth': 11, 'subsample': 1.0}... Be patient! ;)\n",
      "Testing for method <models.easyXGB object at 0x7ff6a6ea8940> with param.s {'reg_alpha': 0.43157894736842106, 'eta': 0.9, 'max_depth': 11, 'subsample': 1.0}... Be patient! ;)\n",
      "Testing for method <models.easyXGB object at 0x7ff6a6ea8940> with param.s {'reg_alpha': 0.43157894736842106, 'eta': 0.9333333333333333, 'max_depth': 11, 'subsample': 1.0}... Be patient! ;)\n",
      "Testing for method <models.easyXGB object at 0x7ff6a6ea8940> with param.s {'reg_alpha': 0.43157894736842106, 'eta': 0.9666666666666667, 'max_depth': 11, 'subsample': 1.0}... Be patient! ;)\n"
     ]
    },
    {
     "name": "stdout",
     "output_type": "stream",
     "text": [
      "Testing for method <models.easyXGB object at 0x7ff6a6ea8940> with param.s {'reg_alpha': 0.43157894736842106, 'eta': 1.0, 'max_depth': 11, 'subsample': 1.0}... Be patient! ;)\n",
      "Testing for method <models.easyXGB object at 0x7ff6a6ea8940> with param.s {'reg_alpha': 0.4789473684210527, 'eta': 0.7, 'max_depth': 8, 'subsample': 1.0}... Be patient! ;)\n",
      "Testing for method <models.easyXGB object at 0x7ff6a6ea8940> with param.s {'reg_alpha': 0.4789473684210527, 'eta': 0.7333333333333333, 'max_depth': 8, 'subsample': 1.0}... Be patient! ;)\n",
      "Testing for method <models.easyXGB object at 0x7ff6a6ea8940> with param.s {'reg_alpha': 0.4789473684210527, 'eta': 0.7666666666666666, 'max_depth': 8, 'subsample': 1.0}... Be patient! ;)\n",
      "Testing for method <models.easyXGB object at 0x7ff6a6ea8940> with param.s {'reg_alpha': 0.4789473684210527, 'eta': 0.7999999999999999, 'max_depth': 8, 'subsample': 1.0}... Be patient! ;)\n",
      "Testing for method <models.easyXGB object at 0x7ff6a6ea8940> with param.s {'reg_alpha': 0.4789473684210527, 'eta': 0.8333333333333333, 'max_depth': 8, 'subsample': 1.0}... Be patient! ;)\n",
      "Testing for method <models.easyXGB object at 0x7ff6a6ea8940> with param.s {'reg_alpha': 0.4789473684210527, 'eta': 0.8666666666666667, 'max_depth': 8, 'subsample': 1.0}... Be patient! ;)\n",
      "Testing for method <models.easyXGB object at 0x7ff6a6ea8940> with param.s {'reg_alpha': 0.4789473684210527, 'eta': 0.9, 'max_depth': 8, 'subsample': 1.0}... Be patient! ;)\n",
      "Testing for method <models.easyXGB object at 0x7ff6a6ea8940> with param.s {'reg_alpha': 0.4789473684210527, 'eta': 0.9333333333333333, 'max_depth': 8, 'subsample': 1.0}... Be patient! ;)\n",
      "Testing for method <models.easyXGB object at 0x7ff6a6ea8940> with param.s {'reg_alpha': 0.4789473684210527, 'eta': 0.9666666666666667, 'max_depth': 8, 'subsample': 1.0}... Be patient! ;)\n",
      "Testing for method <models.easyXGB object at 0x7ff6a6ea8940> with param.s {'reg_alpha': 0.4789473684210527, 'eta': 1.0, 'max_depth': 8, 'subsample': 1.0}... Be patient! ;)\n",
      "Testing for method <models.easyXGB object at 0x7ff6a6ea8940> with param.s {'reg_alpha': 0.4789473684210527, 'eta': 0.7, 'max_depth': 9, 'subsample': 1.0}... Be patient! ;)\n",
      "Testing for method <models.easyXGB object at 0x7ff6a6ea8940> with param.s {'reg_alpha': 0.4789473684210527, 'eta': 0.7333333333333333, 'max_depth': 9, 'subsample': 1.0}... Be patient! ;)\n",
      "Testing for method <models.easyXGB object at 0x7ff6a6ea8940> with param.s {'reg_alpha': 0.4789473684210527, 'eta': 0.7666666666666666, 'max_depth': 9, 'subsample': 1.0}... Be patient! ;)\n",
      "Testing for method <models.easyXGB object at 0x7ff6a6ea8940> with param.s {'reg_alpha': 0.4789473684210527, 'eta': 0.7999999999999999, 'max_depth': 9, 'subsample': 1.0}... Be patient! ;)\n",
      "Testing for method <models.easyXGB object at 0x7ff6a6ea8940> with param.s {'reg_alpha': 0.4789473684210527, 'eta': 0.8333333333333333, 'max_depth': 9, 'subsample': 1.0}... Be patient! ;)\n",
      "Testing for method <models.easyXGB object at 0x7ff6a6ea8940> with param.s {'reg_alpha': 0.4789473684210527, 'eta': 0.8666666666666667, 'max_depth': 9, 'subsample': 1.0}... Be patient! ;)\n",
      "Testing for method <models.easyXGB object at 0x7ff6a6ea8940> with param.s {'reg_alpha': 0.4789473684210527, 'eta': 0.9, 'max_depth': 9, 'subsample': 1.0}... Be patient! ;)\n",
      "Testing for method <models.easyXGB object at 0x7ff6a6ea8940> with param.s {'reg_alpha': 0.4789473684210527, 'eta': 0.9333333333333333, 'max_depth': 9, 'subsample': 1.0}... Be patient! ;)\n",
      "Testing for method <models.easyXGB object at 0x7ff6a6ea8940> with param.s {'reg_alpha': 0.4789473684210527, 'eta': 0.9666666666666667, 'max_depth': 9, 'subsample': 1.0}... Be patient! ;)\n",
      "Testing for method <models.easyXGB object at 0x7ff6a6ea8940> with param.s {'reg_alpha': 0.4789473684210527, 'eta': 1.0, 'max_depth': 9, 'subsample': 1.0}... Be patient! ;)\n",
      "Testing for method <models.easyXGB object at 0x7ff6a6ea8940> with param.s {'reg_alpha': 0.4789473684210527, 'eta': 0.7, 'max_depth': 10, 'subsample': 1.0}... Be patient! ;)\n",
      "Testing for method <models.easyXGB object at 0x7ff6a6ea8940> with param.s {'reg_alpha': 0.4789473684210527, 'eta': 0.7333333333333333, 'max_depth': 10, 'subsample': 1.0}... Be patient! ;)\n",
      "Testing for method <models.easyXGB object at 0x7ff6a6ea8940> with param.s {'reg_alpha': 0.4789473684210527, 'eta': 0.7666666666666666, 'max_depth': 10, 'subsample': 1.0}... Be patient! ;)\n",
      "Testing for method <models.easyXGB object at 0x7ff6a6ea8940> with param.s {'reg_alpha': 0.4789473684210527, 'eta': 0.7999999999999999, 'max_depth': 10, 'subsample': 1.0}... Be patient! ;)\n",
      "Testing for method <models.easyXGB object at 0x7ff6a6ea8940> with param.s {'reg_alpha': 0.4789473684210527, 'eta': 0.8333333333333333, 'max_depth': 10, 'subsample': 1.0}... Be patient! ;)\n",
      "Testing for method <models.easyXGB object at 0x7ff6a6ea8940> with param.s {'reg_alpha': 0.4789473684210527, 'eta': 0.8666666666666667, 'max_depth': 10, 'subsample': 1.0}... Be patient! ;)\n",
      "Testing for method <models.easyXGB object at 0x7ff6a6ea8940> with param.s {'reg_alpha': 0.4789473684210527, 'eta': 0.9, 'max_depth': 10, 'subsample': 1.0}... Be patient! ;)\n",
      "Testing for method <models.easyXGB object at 0x7ff6a6ea8940> with param.s {'reg_alpha': 0.4789473684210527, 'eta': 0.9333333333333333, 'max_depth': 10, 'subsample': 1.0}... Be patient! ;)\n",
      "Testing for method <models.easyXGB object at 0x7ff6a6ea8940> with param.s {'reg_alpha': 0.4789473684210527, 'eta': 0.9666666666666667, 'max_depth': 10, 'subsample': 1.0}... Be patient! ;)\n",
      "Testing for method <models.easyXGB object at 0x7ff6a6ea8940> with param.s {'reg_alpha': 0.4789473684210527, 'eta': 1.0, 'max_depth': 10, 'subsample': 1.0}... Be patient! ;)\n",
      "Testing for method <models.easyXGB object at 0x7ff6a6ea8940> with param.s {'reg_alpha': 0.4789473684210527, 'eta': 0.7, 'max_depth': 11, 'subsample': 1.0}... Be patient! ;)\n",
      "Testing for method <models.easyXGB object at 0x7ff6a6ea8940> with param.s {'reg_alpha': 0.4789473684210527, 'eta': 0.7333333333333333, 'max_depth': 11, 'subsample': 1.0}... Be patient! ;)\n",
      "Testing for method <models.easyXGB object at 0x7ff6a6ea8940> with param.s {'reg_alpha': 0.4789473684210527, 'eta': 0.7666666666666666, 'max_depth': 11, 'subsample': 1.0}... Be patient! ;)\n",
      "Testing for method <models.easyXGB object at 0x7ff6a6ea8940> with param.s {'reg_alpha': 0.4789473684210527, 'eta': 0.7999999999999999, 'max_depth': 11, 'subsample': 1.0}... Be patient! ;)\n",
      "Testing for method <models.easyXGB object at 0x7ff6a6ea8940> with param.s {'reg_alpha': 0.4789473684210527, 'eta': 0.8333333333333333, 'max_depth': 11, 'subsample': 1.0}... Be patient! ;)\n",
      "Testing for method <models.easyXGB object at 0x7ff6a6ea8940> with param.s {'reg_alpha': 0.4789473684210527, 'eta': 0.8666666666666667, 'max_depth': 11, 'subsample': 1.0}... Be patient! ;)\n",
      "Testing for method <models.easyXGB object at 0x7ff6a6ea8940> with param.s {'reg_alpha': 0.4789473684210527, 'eta': 0.9, 'max_depth': 11, 'subsample': 1.0}... Be patient! ;)\n",
      "Testing for method <models.easyXGB object at 0x7ff6a6ea8940> with param.s {'reg_alpha': 0.4789473684210527, 'eta': 0.9333333333333333, 'max_depth': 11, 'subsample': 1.0}... Be patient! ;)\n",
      "Testing for method <models.easyXGB object at 0x7ff6a6ea8940> with param.s {'reg_alpha': 0.4789473684210527, 'eta': 0.9666666666666667, 'max_depth': 11, 'subsample': 1.0}... Be patient! ;)\n",
      "Testing for method <models.easyXGB object at 0x7ff6a6ea8940> with param.s {'reg_alpha': 0.4789473684210527, 'eta': 1.0, 'max_depth': 11, 'subsample': 1.0}... Be patient! ;)\n",
      "Testing for method <models.easyXGB object at 0x7ff6a6ea8940> with param.s {'reg_alpha': 0.5263157894736842, 'eta': 0.7, 'max_depth': 8, 'subsample': 1.0}... Be patient! ;)\n",
      "Testing for method <models.easyXGB object at 0x7ff6a6ea8940> with param.s {'reg_alpha': 0.5263157894736842, 'eta': 0.7333333333333333, 'max_depth': 8, 'subsample': 1.0}... Be patient! ;)\n",
      "Testing for method <models.easyXGB object at 0x7ff6a6ea8940> with param.s {'reg_alpha': 0.5263157894736842, 'eta': 0.7666666666666666, 'max_depth': 8, 'subsample': 1.0}... Be patient! ;)\n",
      "Testing for method <models.easyXGB object at 0x7ff6a6ea8940> with param.s {'reg_alpha': 0.5263157894736842, 'eta': 0.7999999999999999, 'max_depth': 8, 'subsample': 1.0}... Be patient! ;)\n"
     ]
    },
    {
     "name": "stdout",
     "output_type": "stream",
     "text": [
      "Testing for method <models.easyXGB object at 0x7ff6a6ea8940> with param.s {'reg_alpha': 0.5263157894736842, 'eta': 0.8333333333333333, 'max_depth': 8, 'subsample': 1.0}... Be patient! ;)\n",
      "Testing for method <models.easyXGB object at 0x7ff6a6ea8940> with param.s {'reg_alpha': 0.5263157894736842, 'eta': 0.8666666666666667, 'max_depth': 8, 'subsample': 1.0}... Be patient! ;)\n",
      "Testing for method <models.easyXGB object at 0x7ff6a6ea8940> with param.s {'reg_alpha': 0.5263157894736842, 'eta': 0.9, 'max_depth': 8, 'subsample': 1.0}... Be patient! ;)\n",
      "Testing for method <models.easyXGB object at 0x7ff6a6ea8940> with param.s {'reg_alpha': 0.5263157894736842, 'eta': 0.9333333333333333, 'max_depth': 8, 'subsample': 1.0}... Be patient! ;)\n",
      "Testing for method <models.easyXGB object at 0x7ff6a6ea8940> with param.s {'reg_alpha': 0.5263157894736842, 'eta': 0.9666666666666667, 'max_depth': 8, 'subsample': 1.0}... Be patient! ;)\n",
      "Testing for method <models.easyXGB object at 0x7ff6a6ea8940> with param.s {'reg_alpha': 0.5263157894736842, 'eta': 1.0, 'max_depth': 8, 'subsample': 1.0}... Be patient! ;)\n",
      "Testing for method <models.easyXGB object at 0x7ff6a6ea8940> with param.s {'reg_alpha': 0.5263157894736842, 'eta': 0.7, 'max_depth': 9, 'subsample': 1.0}... Be patient! ;)\n",
      "Testing for method <models.easyXGB object at 0x7ff6a6ea8940> with param.s {'reg_alpha': 0.5263157894736842, 'eta': 0.7333333333333333, 'max_depth': 9, 'subsample': 1.0}... Be patient! ;)\n",
      "Testing for method <models.easyXGB object at 0x7ff6a6ea8940> with param.s {'reg_alpha': 0.5263157894736842, 'eta': 0.7666666666666666, 'max_depth': 9, 'subsample': 1.0}... Be patient! ;)\n",
      "Testing for method <models.easyXGB object at 0x7ff6a6ea8940> with param.s {'reg_alpha': 0.5263157894736842, 'eta': 0.7999999999999999, 'max_depth': 9, 'subsample': 1.0}... Be patient! ;)\n",
      "Testing for method <models.easyXGB object at 0x7ff6a6ea8940> with param.s {'reg_alpha': 0.5263157894736842, 'eta': 0.8333333333333333, 'max_depth': 9, 'subsample': 1.0}... Be patient! ;)\n",
      "Testing for method <models.easyXGB object at 0x7ff6a6ea8940> with param.s {'reg_alpha': 0.5263157894736842, 'eta': 0.8666666666666667, 'max_depth': 9, 'subsample': 1.0}... Be patient! ;)\n",
      "Testing for method <models.easyXGB object at 0x7ff6a6ea8940> with param.s {'reg_alpha': 0.5263157894736842, 'eta': 0.9, 'max_depth': 9, 'subsample': 1.0}... Be patient! ;)\n",
      "Testing for method <models.easyXGB object at 0x7ff6a6ea8940> with param.s {'reg_alpha': 0.5263157894736842, 'eta': 0.9333333333333333, 'max_depth': 9, 'subsample': 1.0}... Be patient! ;)\n",
      "Testing for method <models.easyXGB object at 0x7ff6a6ea8940> with param.s {'reg_alpha': 0.5263157894736842, 'eta': 0.9666666666666667, 'max_depth': 9, 'subsample': 1.0}... Be patient! ;)\n",
      "Testing for method <models.easyXGB object at 0x7ff6a6ea8940> with param.s {'reg_alpha': 0.5263157894736842, 'eta': 1.0, 'max_depth': 9, 'subsample': 1.0}... Be patient! ;)\n",
      "Testing for method <models.easyXGB object at 0x7ff6a6ea8940> with param.s {'reg_alpha': 0.5263157894736842, 'eta': 0.7, 'max_depth': 10, 'subsample': 1.0}... Be patient! ;)\n",
      "Testing for method <models.easyXGB object at 0x7ff6a6ea8940> with param.s {'reg_alpha': 0.5263157894736842, 'eta': 0.7333333333333333, 'max_depth': 10, 'subsample': 1.0}... Be patient! ;)\n",
      "Testing for method <models.easyXGB object at 0x7ff6a6ea8940> with param.s {'reg_alpha': 0.5263157894736842, 'eta': 0.7666666666666666, 'max_depth': 10, 'subsample': 1.0}... Be patient! ;)\n",
      "Testing for method <models.easyXGB object at 0x7ff6a6ea8940> with param.s {'reg_alpha': 0.5263157894736842, 'eta': 0.7999999999999999, 'max_depth': 10, 'subsample': 1.0}... Be patient! ;)\n",
      "Testing for method <models.easyXGB object at 0x7ff6a6ea8940> with param.s {'reg_alpha': 0.5263157894736842, 'eta': 0.8333333333333333, 'max_depth': 10, 'subsample': 1.0}... Be patient! ;)\n",
      "Testing for method <models.easyXGB object at 0x7ff6a6ea8940> with param.s {'reg_alpha': 0.5263157894736842, 'eta': 0.8666666666666667, 'max_depth': 10, 'subsample': 1.0}... Be patient! ;)\n",
      "Testing for method <models.easyXGB object at 0x7ff6a6ea8940> with param.s {'reg_alpha': 0.5263157894736842, 'eta': 0.9, 'max_depth': 10, 'subsample': 1.0}... Be patient! ;)\n",
      "Testing for method <models.easyXGB object at 0x7ff6a6ea8940> with param.s {'reg_alpha': 0.5263157894736842, 'eta': 0.9333333333333333, 'max_depth': 10, 'subsample': 1.0}... Be patient! ;)\n",
      "Testing for method <models.easyXGB object at 0x7ff6a6ea8940> with param.s {'reg_alpha': 0.5263157894736842, 'eta': 0.9666666666666667, 'max_depth': 10, 'subsample': 1.0}... Be patient! ;)\n",
      "Testing for method <models.easyXGB object at 0x7ff6a6ea8940> with param.s {'reg_alpha': 0.5263157894736842, 'eta': 1.0, 'max_depth': 10, 'subsample': 1.0}... Be patient! ;)\n",
      "Testing for method <models.easyXGB object at 0x7ff6a6ea8940> with param.s {'reg_alpha': 0.5263157894736842, 'eta': 0.7, 'max_depth': 11, 'subsample': 1.0}... Be patient! ;)\n",
      "Testing for method <models.easyXGB object at 0x7ff6a6ea8940> with param.s {'reg_alpha': 0.5263157894736842, 'eta': 0.7333333333333333, 'max_depth': 11, 'subsample': 1.0}... Be patient! ;)\n",
      "Testing for method <models.easyXGB object at 0x7ff6a6ea8940> with param.s {'reg_alpha': 0.5263157894736842, 'eta': 0.7666666666666666, 'max_depth': 11, 'subsample': 1.0}... Be patient! ;)\n",
      "Testing for method <models.easyXGB object at 0x7ff6a6ea8940> with param.s {'reg_alpha': 0.5263157894736842, 'eta': 0.7999999999999999, 'max_depth': 11, 'subsample': 1.0}... Be patient! ;)\n",
      "Testing for method <models.easyXGB object at 0x7ff6a6ea8940> with param.s {'reg_alpha': 0.5263157894736842, 'eta': 0.8333333333333333, 'max_depth': 11, 'subsample': 1.0}... Be patient! ;)\n",
      "Testing for method <models.easyXGB object at 0x7ff6a6ea8940> with param.s {'reg_alpha': 0.5263157894736842, 'eta': 0.8666666666666667, 'max_depth': 11, 'subsample': 1.0}... Be patient! ;)\n",
      "Testing for method <models.easyXGB object at 0x7ff6a6ea8940> with param.s {'reg_alpha': 0.5263157894736842, 'eta': 0.9, 'max_depth': 11, 'subsample': 1.0}... Be patient! ;)\n",
      "Testing for method <models.easyXGB object at 0x7ff6a6ea8940> with param.s {'reg_alpha': 0.5263157894736842, 'eta': 0.9333333333333333, 'max_depth': 11, 'subsample': 1.0}... Be patient! ;)\n",
      "Testing for method <models.easyXGB object at 0x7ff6a6ea8940> with param.s {'reg_alpha': 0.5263157894736842, 'eta': 0.9666666666666667, 'max_depth': 11, 'subsample': 1.0}... Be patient! ;)\n",
      "Testing for method <models.easyXGB object at 0x7ff6a6ea8940> with param.s {'reg_alpha': 0.5263157894736842, 'eta': 1.0, 'max_depth': 11, 'subsample': 1.0}... Be patient! ;)\n",
      "Testing for method <models.easyXGB object at 0x7ff6a6ea8940> with param.s {'reg_alpha': 0.5736842105263158, 'eta': 0.7, 'max_depth': 8, 'subsample': 1.0}... Be patient! ;)\n",
      "Testing for method <models.easyXGB object at 0x7ff6a6ea8940> with param.s {'reg_alpha': 0.5736842105263158, 'eta': 0.7333333333333333, 'max_depth': 8, 'subsample': 1.0}... Be patient! ;)\n",
      "Testing for method <models.easyXGB object at 0x7ff6a6ea8940> with param.s {'reg_alpha': 0.5736842105263158, 'eta': 0.7666666666666666, 'max_depth': 8, 'subsample': 1.0}... Be patient! ;)\n",
      "Testing for method <models.easyXGB object at 0x7ff6a6ea8940> with param.s {'reg_alpha': 0.5736842105263158, 'eta': 0.7999999999999999, 'max_depth': 8, 'subsample': 1.0}... Be patient! ;)\n",
      "Testing for method <models.easyXGB object at 0x7ff6a6ea8940> with param.s {'reg_alpha': 0.5736842105263158, 'eta': 0.8333333333333333, 'max_depth': 8, 'subsample': 1.0}... Be patient! ;)\n",
      "Testing for method <models.easyXGB object at 0x7ff6a6ea8940> with param.s {'reg_alpha': 0.5736842105263158, 'eta': 0.8666666666666667, 'max_depth': 8, 'subsample': 1.0}... Be patient! ;)\n",
      "Testing for method <models.easyXGB object at 0x7ff6a6ea8940> with param.s {'reg_alpha': 0.5736842105263158, 'eta': 0.9, 'max_depth': 8, 'subsample': 1.0}... Be patient! ;)\n",
      "Testing for method <models.easyXGB object at 0x7ff6a6ea8940> with param.s {'reg_alpha': 0.5736842105263158, 'eta': 0.9333333333333333, 'max_depth': 8, 'subsample': 1.0}... Be patient! ;)\n",
      "Testing for method <models.easyXGB object at 0x7ff6a6ea8940> with param.s {'reg_alpha': 0.5736842105263158, 'eta': 0.9666666666666667, 'max_depth': 8, 'subsample': 1.0}... Be patient! ;)\n"
     ]
    },
    {
     "name": "stdout",
     "output_type": "stream",
     "text": [
      "Testing for method <models.easyXGB object at 0x7ff6a6ea8940> with param.s {'reg_alpha': 0.5736842105263158, 'eta': 1.0, 'max_depth': 8, 'subsample': 1.0}... Be patient! ;)\n",
      "Testing for method <models.easyXGB object at 0x7ff6a6ea8940> with param.s {'reg_alpha': 0.5736842105263158, 'eta': 0.7, 'max_depth': 9, 'subsample': 1.0}... Be patient! ;)\n",
      "Testing for method <models.easyXGB object at 0x7ff6a6ea8940> with param.s {'reg_alpha': 0.5736842105263158, 'eta': 0.7333333333333333, 'max_depth': 9, 'subsample': 1.0}... Be patient! ;)\n",
      "Testing for method <models.easyXGB object at 0x7ff6a6ea8940> with param.s {'reg_alpha': 0.5736842105263158, 'eta': 0.7666666666666666, 'max_depth': 9, 'subsample': 1.0}... Be patient! ;)\n",
      "Testing for method <models.easyXGB object at 0x7ff6a6ea8940> with param.s {'reg_alpha': 0.5736842105263158, 'eta': 0.7999999999999999, 'max_depth': 9, 'subsample': 1.0}... Be patient! ;)\n",
      "Testing for method <models.easyXGB object at 0x7ff6a6ea8940> with param.s {'reg_alpha': 0.5736842105263158, 'eta': 0.8333333333333333, 'max_depth': 9, 'subsample': 1.0}... Be patient! ;)\n",
      "Testing for method <models.easyXGB object at 0x7ff6a6ea8940> with param.s {'reg_alpha': 0.5736842105263158, 'eta': 0.8666666666666667, 'max_depth': 9, 'subsample': 1.0}... Be patient! ;)\n",
      "Testing for method <models.easyXGB object at 0x7ff6a6ea8940> with param.s {'reg_alpha': 0.5736842105263158, 'eta': 0.9, 'max_depth': 9, 'subsample': 1.0}... Be patient! ;)\n",
      "Testing for method <models.easyXGB object at 0x7ff6a6ea8940> with param.s {'reg_alpha': 0.5736842105263158, 'eta': 0.9333333333333333, 'max_depth': 9, 'subsample': 1.0}... Be patient! ;)\n",
      "Testing for method <models.easyXGB object at 0x7ff6a6ea8940> with param.s {'reg_alpha': 0.5736842105263158, 'eta': 0.9666666666666667, 'max_depth': 9, 'subsample': 1.0}... Be patient! ;)\n",
      "Testing for method <models.easyXGB object at 0x7ff6a6ea8940> with param.s {'reg_alpha': 0.5736842105263158, 'eta': 1.0, 'max_depth': 9, 'subsample': 1.0}... Be patient! ;)\n",
      "Testing for method <models.easyXGB object at 0x7ff6a6ea8940> with param.s {'reg_alpha': 0.5736842105263158, 'eta': 0.7, 'max_depth': 10, 'subsample': 1.0}... Be patient! ;)\n",
      "Testing for method <models.easyXGB object at 0x7ff6a6ea8940> with param.s {'reg_alpha': 0.5736842105263158, 'eta': 0.7333333333333333, 'max_depth': 10, 'subsample': 1.0}... Be patient! ;)\n",
      "Testing for method <models.easyXGB object at 0x7ff6a6ea8940> with param.s {'reg_alpha': 0.5736842105263158, 'eta': 0.7666666666666666, 'max_depth': 10, 'subsample': 1.0}... Be patient! ;)\n",
      "Testing for method <models.easyXGB object at 0x7ff6a6ea8940> with param.s {'reg_alpha': 0.5736842105263158, 'eta': 0.7999999999999999, 'max_depth': 10, 'subsample': 1.0}... Be patient! ;)\n",
      "Testing for method <models.easyXGB object at 0x7ff6a6ea8940> with param.s {'reg_alpha': 0.5736842105263158, 'eta': 0.8333333333333333, 'max_depth': 10, 'subsample': 1.0}... Be patient! ;)\n",
      "Testing for method <models.easyXGB object at 0x7ff6a6ea8940> with param.s {'reg_alpha': 0.5736842105263158, 'eta': 0.8666666666666667, 'max_depth': 10, 'subsample': 1.0}... Be patient! ;)\n",
      "Testing for method <models.easyXGB object at 0x7ff6a6ea8940> with param.s {'reg_alpha': 0.5736842105263158, 'eta': 0.9, 'max_depth': 10, 'subsample': 1.0}... Be patient! ;)\n",
      "Testing for method <models.easyXGB object at 0x7ff6a6ea8940> with param.s {'reg_alpha': 0.5736842105263158, 'eta': 0.9333333333333333, 'max_depth': 10, 'subsample': 1.0}... Be patient! ;)\n",
      "Testing for method <models.easyXGB object at 0x7ff6a6ea8940> with param.s {'reg_alpha': 0.5736842105263158, 'eta': 0.9666666666666667, 'max_depth': 10, 'subsample': 1.0}... Be patient! ;)\n",
      "Testing for method <models.easyXGB object at 0x7ff6a6ea8940> with param.s {'reg_alpha': 0.5736842105263158, 'eta': 1.0, 'max_depth': 10, 'subsample': 1.0}... Be patient! ;)\n",
      "Testing for method <models.easyXGB object at 0x7ff6a6ea8940> with param.s {'reg_alpha': 0.5736842105263158, 'eta': 0.7, 'max_depth': 11, 'subsample': 1.0}... Be patient! ;)\n",
      "Testing for method <models.easyXGB object at 0x7ff6a6ea8940> with param.s {'reg_alpha': 0.5736842105263158, 'eta': 0.7333333333333333, 'max_depth': 11, 'subsample': 1.0}... Be patient! ;)\n",
      "Testing for method <models.easyXGB object at 0x7ff6a6ea8940> with param.s {'reg_alpha': 0.5736842105263158, 'eta': 0.7666666666666666, 'max_depth': 11, 'subsample': 1.0}... Be patient! ;)\n",
      "Testing for method <models.easyXGB object at 0x7ff6a6ea8940> with param.s {'reg_alpha': 0.5736842105263158, 'eta': 0.7999999999999999, 'max_depth': 11, 'subsample': 1.0}... Be patient! ;)\n",
      "Testing for method <models.easyXGB object at 0x7ff6a6ea8940> with param.s {'reg_alpha': 0.5736842105263158, 'eta': 0.8333333333333333, 'max_depth': 11, 'subsample': 1.0}... Be patient! ;)\n",
      "Testing for method <models.easyXGB object at 0x7ff6a6ea8940> with param.s {'reg_alpha': 0.5736842105263158, 'eta': 0.8666666666666667, 'max_depth': 11, 'subsample': 1.0}... Be patient! ;)\n",
      "Testing for method <models.easyXGB object at 0x7ff6a6ea8940> with param.s {'reg_alpha': 0.5736842105263158, 'eta': 0.9, 'max_depth': 11, 'subsample': 1.0}... Be patient! ;)\n",
      "Testing for method <models.easyXGB object at 0x7ff6a6ea8940> with param.s {'reg_alpha': 0.5736842105263158, 'eta': 0.9333333333333333, 'max_depth': 11, 'subsample': 1.0}... Be patient! ;)\n",
      "Testing for method <models.easyXGB object at 0x7ff6a6ea8940> with param.s {'reg_alpha': 0.5736842105263158, 'eta': 0.9666666666666667, 'max_depth': 11, 'subsample': 1.0}... Be patient! ;)\n",
      "Testing for method <models.easyXGB object at 0x7ff6a6ea8940> with param.s {'reg_alpha': 0.5736842105263158, 'eta': 1.0, 'max_depth': 11, 'subsample': 1.0}... Be patient! ;)\n",
      "Testing for method <models.easyXGB object at 0x7ff6a6ea8940> with param.s {'reg_alpha': 0.6210526315789474, 'eta': 0.7, 'max_depth': 8, 'subsample': 1.0}... Be patient! ;)\n",
      "Testing for method <models.easyXGB object at 0x7ff6a6ea8940> with param.s {'reg_alpha': 0.6210526315789474, 'eta': 0.7333333333333333, 'max_depth': 8, 'subsample': 1.0}... Be patient! ;)\n",
      "Testing for method <models.easyXGB object at 0x7ff6a6ea8940> with param.s {'reg_alpha': 0.6210526315789474, 'eta': 0.7666666666666666, 'max_depth': 8, 'subsample': 1.0}... Be patient! ;)\n",
      "Testing for method <models.easyXGB object at 0x7ff6a6ea8940> with param.s {'reg_alpha': 0.6210526315789474, 'eta': 0.7999999999999999, 'max_depth': 8, 'subsample': 1.0}... Be patient! ;)\n",
      "Testing for method <models.easyXGB object at 0x7ff6a6ea8940> with param.s {'reg_alpha': 0.6210526315789474, 'eta': 0.8333333333333333, 'max_depth': 8, 'subsample': 1.0}... Be patient! ;)\n",
      "Testing for method <models.easyXGB object at 0x7ff6a6ea8940> with param.s {'reg_alpha': 0.6210526315789474, 'eta': 0.8666666666666667, 'max_depth': 8, 'subsample': 1.0}... Be patient! ;)\n",
      "Testing for method <models.easyXGB object at 0x7ff6a6ea8940> with param.s {'reg_alpha': 0.6210526315789474, 'eta': 0.9, 'max_depth': 8, 'subsample': 1.0}... Be patient! ;)\n",
      "Testing for method <models.easyXGB object at 0x7ff6a6ea8940> with param.s {'reg_alpha': 0.6210526315789474, 'eta': 0.9333333333333333, 'max_depth': 8, 'subsample': 1.0}... Be patient! ;)\n",
      "Testing for method <models.easyXGB object at 0x7ff6a6ea8940> with param.s {'reg_alpha': 0.6210526315789474, 'eta': 0.9666666666666667, 'max_depth': 8, 'subsample': 1.0}... Be patient! ;)\n",
      "Testing for method <models.easyXGB object at 0x7ff6a6ea8940> with param.s {'reg_alpha': 0.6210526315789474, 'eta': 1.0, 'max_depth': 8, 'subsample': 1.0}... Be patient! ;)\n",
      "Testing for method <models.easyXGB object at 0x7ff6a6ea8940> with param.s {'reg_alpha': 0.6210526315789474, 'eta': 0.7, 'max_depth': 9, 'subsample': 1.0}... Be patient! ;)\n",
      "Testing for method <models.easyXGB object at 0x7ff6a6ea8940> with param.s {'reg_alpha': 0.6210526315789474, 'eta': 0.7333333333333333, 'max_depth': 9, 'subsample': 1.0}... Be patient! ;)\n",
      "Testing for method <models.easyXGB object at 0x7ff6a6ea8940> with param.s {'reg_alpha': 0.6210526315789474, 'eta': 0.7666666666666666, 'max_depth': 9, 'subsample': 1.0}... Be patient! ;)\n",
      "Testing for method <models.easyXGB object at 0x7ff6a6ea8940> with param.s {'reg_alpha': 0.6210526315789474, 'eta': 0.7999999999999999, 'max_depth': 9, 'subsample': 1.0}... Be patient! ;)\n"
     ]
    },
    {
     "name": "stdout",
     "output_type": "stream",
     "text": [
      "Testing for method <models.easyXGB object at 0x7ff6a6ea8940> with param.s {'reg_alpha': 0.6210526315789474, 'eta': 0.8333333333333333, 'max_depth': 9, 'subsample': 1.0}... Be patient! ;)\n",
      "Testing for method <models.easyXGB object at 0x7ff6a6ea8940> with param.s {'reg_alpha': 0.6210526315789474, 'eta': 0.8666666666666667, 'max_depth': 9, 'subsample': 1.0}... Be patient! ;)\n",
      "Testing for method <models.easyXGB object at 0x7ff6a6ea8940> with param.s {'reg_alpha': 0.6210526315789474, 'eta': 0.9, 'max_depth': 9, 'subsample': 1.0}... Be patient! ;)\n",
      "Testing for method <models.easyXGB object at 0x7ff6a6ea8940> with param.s {'reg_alpha': 0.6210526315789474, 'eta': 0.9333333333333333, 'max_depth': 9, 'subsample': 1.0}... Be patient! ;)\n",
      "Testing for method <models.easyXGB object at 0x7ff6a6ea8940> with param.s {'reg_alpha': 0.6210526315789474, 'eta': 0.9666666666666667, 'max_depth': 9, 'subsample': 1.0}... Be patient! ;)\n",
      "Testing for method <models.easyXGB object at 0x7ff6a6ea8940> with param.s {'reg_alpha': 0.6210526315789474, 'eta': 1.0, 'max_depth': 9, 'subsample': 1.0}... Be patient! ;)\n",
      "Testing for method <models.easyXGB object at 0x7ff6a6ea8940> with param.s {'reg_alpha': 0.6210526315789474, 'eta': 0.7, 'max_depth': 10, 'subsample': 1.0}... Be patient! ;)\n",
      "Testing for method <models.easyXGB object at 0x7ff6a6ea8940> with param.s {'reg_alpha': 0.6210526315789474, 'eta': 0.7333333333333333, 'max_depth': 10, 'subsample': 1.0}... Be patient! ;)\n",
      "Testing for method <models.easyXGB object at 0x7ff6a6ea8940> with param.s {'reg_alpha': 0.6210526315789474, 'eta': 0.7666666666666666, 'max_depth': 10, 'subsample': 1.0}... Be patient! ;)\n",
      "Testing for method <models.easyXGB object at 0x7ff6a6ea8940> with param.s {'reg_alpha': 0.6210526315789474, 'eta': 0.7999999999999999, 'max_depth': 10, 'subsample': 1.0}... Be patient! ;)\n",
      "Testing for method <models.easyXGB object at 0x7ff6a6ea8940> with param.s {'reg_alpha': 0.6210526315789474, 'eta': 0.8333333333333333, 'max_depth': 10, 'subsample': 1.0}... Be patient! ;)\n",
      "Testing for method <models.easyXGB object at 0x7ff6a6ea8940> with param.s {'reg_alpha': 0.6210526315789474, 'eta': 0.8666666666666667, 'max_depth': 10, 'subsample': 1.0}... Be patient! ;)\n",
      "Testing for method <models.easyXGB object at 0x7ff6a6ea8940> with param.s {'reg_alpha': 0.6210526315789474, 'eta': 0.9, 'max_depth': 10, 'subsample': 1.0}... Be patient! ;)\n",
      "Testing for method <models.easyXGB object at 0x7ff6a6ea8940> with param.s {'reg_alpha': 0.6210526315789474, 'eta': 0.9333333333333333, 'max_depth': 10, 'subsample': 1.0}... Be patient! ;)\n",
      "Testing for method <models.easyXGB object at 0x7ff6a6ea8940> with param.s {'reg_alpha': 0.6210526315789474, 'eta': 0.9666666666666667, 'max_depth': 10, 'subsample': 1.0}... Be patient! ;)\n",
      "Testing for method <models.easyXGB object at 0x7ff6a6ea8940> with param.s {'reg_alpha': 0.6210526315789474, 'eta': 1.0, 'max_depth': 10, 'subsample': 1.0}... Be patient! ;)\n",
      "Testing for method <models.easyXGB object at 0x7ff6a6ea8940> with param.s {'reg_alpha': 0.6210526315789474, 'eta': 0.7, 'max_depth': 11, 'subsample': 1.0}... Be patient! ;)\n",
      "Testing for method <models.easyXGB object at 0x7ff6a6ea8940> with param.s {'reg_alpha': 0.6210526315789474, 'eta': 0.7333333333333333, 'max_depth': 11, 'subsample': 1.0}... Be patient! ;)\n",
      "Testing for method <models.easyXGB object at 0x7ff6a6ea8940> with param.s {'reg_alpha': 0.6210526315789474, 'eta': 0.7666666666666666, 'max_depth': 11, 'subsample': 1.0}... Be patient! ;)\n",
      "Testing for method <models.easyXGB object at 0x7ff6a6ea8940> with param.s {'reg_alpha': 0.6210526315789474, 'eta': 0.7999999999999999, 'max_depth': 11, 'subsample': 1.0}... Be patient! ;)\n",
      "Testing for method <models.easyXGB object at 0x7ff6a6ea8940> with param.s {'reg_alpha': 0.6210526315789474, 'eta': 0.8333333333333333, 'max_depth': 11, 'subsample': 1.0}... Be patient! ;)\n",
      "Testing for method <models.easyXGB object at 0x7ff6a6ea8940> with param.s {'reg_alpha': 0.6210526315789474, 'eta': 0.8666666666666667, 'max_depth': 11, 'subsample': 1.0}... Be patient! ;)\n",
      "Testing for method <models.easyXGB object at 0x7ff6a6ea8940> with param.s {'reg_alpha': 0.6210526315789474, 'eta': 0.9, 'max_depth': 11, 'subsample': 1.0}... Be patient! ;)\n",
      "Testing for method <models.easyXGB object at 0x7ff6a6ea8940> with param.s {'reg_alpha': 0.6210526315789474, 'eta': 0.9333333333333333, 'max_depth': 11, 'subsample': 1.0}... Be patient! ;)\n",
      "Testing for method <models.easyXGB object at 0x7ff6a6ea8940> with param.s {'reg_alpha': 0.6210526315789474, 'eta': 0.9666666666666667, 'max_depth': 11, 'subsample': 1.0}... Be patient! ;)\n",
      "Testing for method <models.easyXGB object at 0x7ff6a6ea8940> with param.s {'reg_alpha': 0.6210526315789474, 'eta': 1.0, 'max_depth': 11, 'subsample': 1.0}... Be patient! ;)\n",
      "Testing for method <models.easyXGB object at 0x7ff6a6ea8940> with param.s {'reg_alpha': 0.6684210526315789, 'eta': 0.7, 'max_depth': 8, 'subsample': 1.0}... Be patient! ;)\n",
      "Testing for method <models.easyXGB object at 0x7ff6a6ea8940> with param.s {'reg_alpha': 0.6684210526315789, 'eta': 0.7333333333333333, 'max_depth': 8, 'subsample': 1.0}... Be patient! ;)\n",
      "Testing for method <models.easyXGB object at 0x7ff6a6ea8940> with param.s {'reg_alpha': 0.6684210526315789, 'eta': 0.7666666666666666, 'max_depth': 8, 'subsample': 1.0}... Be patient! ;)\n",
      "Testing for method <models.easyXGB object at 0x7ff6a6ea8940> with param.s {'reg_alpha': 0.6684210526315789, 'eta': 0.7999999999999999, 'max_depth': 8, 'subsample': 1.0}... Be patient! ;)\n",
      "Testing for method <models.easyXGB object at 0x7ff6a6ea8940> with param.s {'reg_alpha': 0.6684210526315789, 'eta': 0.8333333333333333, 'max_depth': 8, 'subsample': 1.0}... Be patient! ;)\n",
      "Testing for method <models.easyXGB object at 0x7ff6a6ea8940> with param.s {'reg_alpha': 0.6684210526315789, 'eta': 0.8666666666666667, 'max_depth': 8, 'subsample': 1.0}... Be patient! ;)\n",
      "Testing for method <models.easyXGB object at 0x7ff6a6ea8940> with param.s {'reg_alpha': 0.6684210526315789, 'eta': 0.9, 'max_depth': 8, 'subsample': 1.0}... Be patient! ;)\n",
      "Testing for method <models.easyXGB object at 0x7ff6a6ea8940> with param.s {'reg_alpha': 0.6684210526315789, 'eta': 0.9333333333333333, 'max_depth': 8, 'subsample': 1.0}... Be patient! ;)\n",
      "Testing for method <models.easyXGB object at 0x7ff6a6ea8940> with param.s {'reg_alpha': 0.6684210526315789, 'eta': 0.9666666666666667, 'max_depth': 8, 'subsample': 1.0}... Be patient! ;)\n",
      "Testing for method <models.easyXGB object at 0x7ff6a6ea8940> with param.s {'reg_alpha': 0.6684210526315789, 'eta': 1.0, 'max_depth': 8, 'subsample': 1.0}... Be patient! ;)\n",
      "Testing for method <models.easyXGB object at 0x7ff6a6ea8940> with param.s {'reg_alpha': 0.6684210526315789, 'eta': 0.7, 'max_depth': 9, 'subsample': 1.0}... Be patient! ;)\n",
      "Testing for method <models.easyXGB object at 0x7ff6a6ea8940> with param.s {'reg_alpha': 0.6684210526315789, 'eta': 0.7333333333333333, 'max_depth': 9, 'subsample': 1.0}... Be patient! ;)\n",
      "Testing for method <models.easyXGB object at 0x7ff6a6ea8940> with param.s {'reg_alpha': 0.6684210526315789, 'eta': 0.7666666666666666, 'max_depth': 9, 'subsample': 1.0}... Be patient! ;)\n",
      "Testing for method <models.easyXGB object at 0x7ff6a6ea8940> with param.s {'reg_alpha': 0.6684210526315789, 'eta': 0.7999999999999999, 'max_depth': 9, 'subsample': 1.0}... Be patient! ;)\n",
      "Testing for method <models.easyXGB object at 0x7ff6a6ea8940> with param.s {'reg_alpha': 0.6684210526315789, 'eta': 0.8333333333333333, 'max_depth': 9, 'subsample': 1.0}... Be patient! ;)\n",
      "Testing for method <models.easyXGB object at 0x7ff6a6ea8940> with param.s {'reg_alpha': 0.6684210526315789, 'eta': 0.8666666666666667, 'max_depth': 9, 'subsample': 1.0}... Be patient! ;)\n",
      "Testing for method <models.easyXGB object at 0x7ff6a6ea8940> with param.s {'reg_alpha': 0.6684210526315789, 'eta': 0.9, 'max_depth': 9, 'subsample': 1.0}... Be patient! ;)\n",
      "Testing for method <models.easyXGB object at 0x7ff6a6ea8940> with param.s {'reg_alpha': 0.6684210526315789, 'eta': 0.9333333333333333, 'max_depth': 9, 'subsample': 1.0}... Be patient! ;)\n",
      "Testing for method <models.easyXGB object at 0x7ff6a6ea8940> with param.s {'reg_alpha': 0.6684210526315789, 'eta': 0.9666666666666667, 'max_depth': 9, 'subsample': 1.0}... Be patient! ;)\n"
     ]
    },
    {
     "name": "stdout",
     "output_type": "stream",
     "text": [
      "Testing for method <models.easyXGB object at 0x7ff6a6ea8940> with param.s {'reg_alpha': 0.6684210526315789, 'eta': 1.0, 'max_depth': 9, 'subsample': 1.0}... Be patient! ;)\n",
      "Testing for method <models.easyXGB object at 0x7ff6a6ea8940> with param.s {'reg_alpha': 0.6684210526315789, 'eta': 0.7, 'max_depth': 10, 'subsample': 1.0}... Be patient! ;)\n",
      "Testing for method <models.easyXGB object at 0x7ff6a6ea8940> with param.s {'reg_alpha': 0.6684210526315789, 'eta': 0.7333333333333333, 'max_depth': 10, 'subsample': 1.0}... Be patient! ;)\n",
      "Testing for method <models.easyXGB object at 0x7ff6a6ea8940> with param.s {'reg_alpha': 0.6684210526315789, 'eta': 0.7666666666666666, 'max_depth': 10, 'subsample': 1.0}... Be patient! ;)\n",
      "Testing for method <models.easyXGB object at 0x7ff6a6ea8940> with param.s {'reg_alpha': 0.6684210526315789, 'eta': 0.7999999999999999, 'max_depth': 10, 'subsample': 1.0}... Be patient! ;)\n",
      "Testing for method <models.easyXGB object at 0x7ff6a6ea8940> with param.s {'reg_alpha': 0.6684210526315789, 'eta': 0.8333333333333333, 'max_depth': 10, 'subsample': 1.0}... Be patient! ;)\n",
      "Testing for method <models.easyXGB object at 0x7ff6a6ea8940> with param.s {'reg_alpha': 0.6684210526315789, 'eta': 0.8666666666666667, 'max_depth': 10, 'subsample': 1.0}... Be patient! ;)\n",
      "Testing for method <models.easyXGB object at 0x7ff6a6ea8940> with param.s {'reg_alpha': 0.6684210526315789, 'eta': 0.9, 'max_depth': 10, 'subsample': 1.0}... Be patient! ;)\n",
      "Testing for method <models.easyXGB object at 0x7ff6a6ea8940> with param.s {'reg_alpha': 0.6684210526315789, 'eta': 0.9333333333333333, 'max_depth': 10, 'subsample': 1.0}... Be patient! ;)\n",
      "Testing for method <models.easyXGB object at 0x7ff6a6ea8940> with param.s {'reg_alpha': 0.6684210526315789, 'eta': 0.9666666666666667, 'max_depth': 10, 'subsample': 1.0}... Be patient! ;)\n",
      "Testing for method <models.easyXGB object at 0x7ff6a6ea8940> with param.s {'reg_alpha': 0.6684210526315789, 'eta': 1.0, 'max_depth': 10, 'subsample': 1.0}... Be patient! ;)\n",
      "Testing for method <models.easyXGB object at 0x7ff6a6ea8940> with param.s {'reg_alpha': 0.6684210526315789, 'eta': 0.7, 'max_depth': 11, 'subsample': 1.0}... Be patient! ;)\n",
      "Testing for method <models.easyXGB object at 0x7ff6a6ea8940> with param.s {'reg_alpha': 0.6684210526315789, 'eta': 0.7333333333333333, 'max_depth': 11, 'subsample': 1.0}... Be patient! ;)\n",
      "Testing for method <models.easyXGB object at 0x7ff6a6ea8940> with param.s {'reg_alpha': 0.6684210526315789, 'eta': 0.7666666666666666, 'max_depth': 11, 'subsample': 1.0}... Be patient! ;)\n",
      "Testing for method <models.easyXGB object at 0x7ff6a6ea8940> with param.s {'reg_alpha': 0.6684210526315789, 'eta': 0.7999999999999999, 'max_depth': 11, 'subsample': 1.0}... Be patient! ;)\n",
      "Testing for method <models.easyXGB object at 0x7ff6a6ea8940> with param.s {'reg_alpha': 0.6684210526315789, 'eta': 0.8333333333333333, 'max_depth': 11, 'subsample': 1.0}... Be patient! ;)\n",
      "Testing for method <models.easyXGB object at 0x7ff6a6ea8940> with param.s {'reg_alpha': 0.6684210526315789, 'eta': 0.8666666666666667, 'max_depth': 11, 'subsample': 1.0}... Be patient! ;)\n",
      "Testing for method <models.easyXGB object at 0x7ff6a6ea8940> with param.s {'reg_alpha': 0.6684210526315789, 'eta': 0.9, 'max_depth': 11, 'subsample': 1.0}... Be patient! ;)\n",
      "Testing for method <models.easyXGB object at 0x7ff6a6ea8940> with param.s {'reg_alpha': 0.6684210526315789, 'eta': 0.9333333333333333, 'max_depth': 11, 'subsample': 1.0}... Be patient! ;)\n",
      "Testing for method <models.easyXGB object at 0x7ff6a6ea8940> with param.s {'reg_alpha': 0.6684210526315789, 'eta': 0.9666666666666667, 'max_depth': 11, 'subsample': 1.0}... Be patient! ;)\n",
      "Testing for method <models.easyXGB object at 0x7ff6a6ea8940> with param.s {'reg_alpha': 0.6684210526315789, 'eta': 1.0, 'max_depth': 11, 'subsample': 1.0}... Be patient! ;)\n",
      "Testing for method <models.easyXGB object at 0x7ff6a6ea8940> with param.s {'reg_alpha': 0.7157894736842105, 'eta': 0.7, 'max_depth': 8, 'subsample': 1.0}... Be patient! ;)\n",
      "Testing for method <models.easyXGB object at 0x7ff6a6ea8940> with param.s {'reg_alpha': 0.7157894736842105, 'eta': 0.7333333333333333, 'max_depth': 8, 'subsample': 1.0}... Be patient! ;)\n",
      "Testing for method <models.easyXGB object at 0x7ff6a6ea8940> with param.s {'reg_alpha': 0.7157894736842105, 'eta': 0.7666666666666666, 'max_depth': 8, 'subsample': 1.0}... Be patient! ;)\n",
      "Testing for method <models.easyXGB object at 0x7ff6a6ea8940> with param.s {'reg_alpha': 0.7157894736842105, 'eta': 0.7999999999999999, 'max_depth': 8, 'subsample': 1.0}... Be patient! ;)\n",
      "Testing for method <models.easyXGB object at 0x7ff6a6ea8940> with param.s {'reg_alpha': 0.7157894736842105, 'eta': 0.8333333333333333, 'max_depth': 8, 'subsample': 1.0}... Be patient! ;)\n",
      "Testing for method <models.easyXGB object at 0x7ff6a6ea8940> with param.s {'reg_alpha': 0.7157894736842105, 'eta': 0.8666666666666667, 'max_depth': 8, 'subsample': 1.0}... Be patient! ;)\n",
      "Testing for method <models.easyXGB object at 0x7ff6a6ea8940> with param.s {'reg_alpha': 0.7157894736842105, 'eta': 0.9, 'max_depth': 8, 'subsample': 1.0}... Be patient! ;)\n",
      "Testing for method <models.easyXGB object at 0x7ff6a6ea8940> with param.s {'reg_alpha': 0.7157894736842105, 'eta': 0.9333333333333333, 'max_depth': 8, 'subsample': 1.0}... Be patient! ;)\n",
      "Testing for method <models.easyXGB object at 0x7ff6a6ea8940> with param.s {'reg_alpha': 0.7157894736842105, 'eta': 0.9666666666666667, 'max_depth': 8, 'subsample': 1.0}... Be patient! ;)\n",
      "Testing for method <models.easyXGB object at 0x7ff6a6ea8940> with param.s {'reg_alpha': 0.7157894736842105, 'eta': 1.0, 'max_depth': 8, 'subsample': 1.0}... Be patient! ;)\n",
      "Testing for method <models.easyXGB object at 0x7ff6a6ea8940> with param.s {'reg_alpha': 0.7157894736842105, 'eta': 0.7, 'max_depth': 9, 'subsample': 1.0}... Be patient! ;)\n",
      "Testing for method <models.easyXGB object at 0x7ff6a6ea8940> with param.s {'reg_alpha': 0.7157894736842105, 'eta': 0.7333333333333333, 'max_depth': 9, 'subsample': 1.0}... Be patient! ;)\n",
      "Testing for method <models.easyXGB object at 0x7ff6a6ea8940> with param.s {'reg_alpha': 0.7157894736842105, 'eta': 0.7666666666666666, 'max_depth': 9, 'subsample': 1.0}... Be patient! ;)\n",
      "Testing for method <models.easyXGB object at 0x7ff6a6ea8940> with param.s {'reg_alpha': 0.7157894736842105, 'eta': 0.7999999999999999, 'max_depth': 9, 'subsample': 1.0}... Be patient! ;)\n",
      "Testing for method <models.easyXGB object at 0x7ff6a6ea8940> with param.s {'reg_alpha': 0.7157894736842105, 'eta': 0.8333333333333333, 'max_depth': 9, 'subsample': 1.0}... Be patient! ;)\n",
      "Testing for method <models.easyXGB object at 0x7ff6a6ea8940> with param.s {'reg_alpha': 0.7157894736842105, 'eta': 0.8666666666666667, 'max_depth': 9, 'subsample': 1.0}... Be patient! ;)\n",
      "Testing for method <models.easyXGB object at 0x7ff6a6ea8940> with param.s {'reg_alpha': 0.7157894736842105, 'eta': 0.9, 'max_depth': 9, 'subsample': 1.0}... Be patient! ;)\n",
      "Testing for method <models.easyXGB object at 0x7ff6a6ea8940> with param.s {'reg_alpha': 0.7157894736842105, 'eta': 0.9333333333333333, 'max_depth': 9, 'subsample': 1.0}... Be patient! ;)\n",
      "Testing for method <models.easyXGB object at 0x7ff6a6ea8940> with param.s {'reg_alpha': 0.7157894736842105, 'eta': 0.9666666666666667, 'max_depth': 9, 'subsample': 1.0}... Be patient! ;)\n",
      "Testing for method <models.easyXGB object at 0x7ff6a6ea8940> with param.s {'reg_alpha': 0.7157894736842105, 'eta': 1.0, 'max_depth': 9, 'subsample': 1.0}... Be patient! ;)\n",
      "Testing for method <models.easyXGB object at 0x7ff6a6ea8940> with param.s {'reg_alpha': 0.7157894736842105, 'eta': 0.7, 'max_depth': 10, 'subsample': 1.0}... Be patient! ;)\n",
      "Testing for method <models.easyXGB object at 0x7ff6a6ea8940> with param.s {'reg_alpha': 0.7157894736842105, 'eta': 0.7333333333333333, 'max_depth': 10, 'subsample': 1.0}... Be patient! ;)\n",
      "Testing for method <models.easyXGB object at 0x7ff6a6ea8940> with param.s {'reg_alpha': 0.7157894736842105, 'eta': 0.7666666666666666, 'max_depth': 10, 'subsample': 1.0}... Be patient! ;)\n",
      "Testing for method <models.easyXGB object at 0x7ff6a6ea8940> with param.s {'reg_alpha': 0.7157894736842105, 'eta': 0.7999999999999999, 'max_depth': 10, 'subsample': 1.0}... Be patient! ;)\n"
     ]
    },
    {
     "name": "stdout",
     "output_type": "stream",
     "text": [
      "Testing for method <models.easyXGB object at 0x7ff6a6ea8940> with param.s {'reg_alpha': 0.7157894736842105, 'eta': 0.8333333333333333, 'max_depth': 10, 'subsample': 1.0}... Be patient! ;)\n",
      "Testing for method <models.easyXGB object at 0x7ff6a6ea8940> with param.s {'reg_alpha': 0.7157894736842105, 'eta': 0.8666666666666667, 'max_depth': 10, 'subsample': 1.0}... Be patient! ;)\n",
      "Testing for method <models.easyXGB object at 0x7ff6a6ea8940> with param.s {'reg_alpha': 0.7157894736842105, 'eta': 0.9, 'max_depth': 10, 'subsample': 1.0}... Be patient! ;)\n",
      "Testing for method <models.easyXGB object at 0x7ff6a6ea8940> with param.s {'reg_alpha': 0.7157894736842105, 'eta': 0.9333333333333333, 'max_depth': 10, 'subsample': 1.0}... Be patient! ;)\n",
      "Testing for method <models.easyXGB object at 0x7ff6a6ea8940> with param.s {'reg_alpha': 0.7157894736842105, 'eta': 0.9666666666666667, 'max_depth': 10, 'subsample': 1.0}... Be patient! ;)\n",
      "Testing for method <models.easyXGB object at 0x7ff6a6ea8940> with param.s {'reg_alpha': 0.7157894736842105, 'eta': 1.0, 'max_depth': 10, 'subsample': 1.0}... Be patient! ;)\n",
      "Testing for method <models.easyXGB object at 0x7ff6a6ea8940> with param.s {'reg_alpha': 0.7157894736842105, 'eta': 0.7, 'max_depth': 11, 'subsample': 1.0}... Be patient! ;)\n",
      "Testing for method <models.easyXGB object at 0x7ff6a6ea8940> with param.s {'reg_alpha': 0.7157894736842105, 'eta': 0.7333333333333333, 'max_depth': 11, 'subsample': 1.0}... Be patient! ;)\n",
      "Testing for method <models.easyXGB object at 0x7ff6a6ea8940> with param.s {'reg_alpha': 0.7157894736842105, 'eta': 0.7666666666666666, 'max_depth': 11, 'subsample': 1.0}... Be patient! ;)\n",
      "Testing for method <models.easyXGB object at 0x7ff6a6ea8940> with param.s {'reg_alpha': 0.7157894736842105, 'eta': 0.7999999999999999, 'max_depth': 11, 'subsample': 1.0}... Be patient! ;)\n",
      "Testing for method <models.easyXGB object at 0x7ff6a6ea8940> with param.s {'reg_alpha': 0.7157894736842105, 'eta': 0.8333333333333333, 'max_depth': 11, 'subsample': 1.0}... Be patient! ;)\n",
      "Testing for method <models.easyXGB object at 0x7ff6a6ea8940> with param.s {'reg_alpha': 0.7157894736842105, 'eta': 0.8666666666666667, 'max_depth': 11, 'subsample': 1.0}... Be patient! ;)\n",
      "Testing for method <models.easyXGB object at 0x7ff6a6ea8940> with param.s {'reg_alpha': 0.7157894736842105, 'eta': 0.9, 'max_depth': 11, 'subsample': 1.0}... Be patient! ;)\n",
      "Testing for method <models.easyXGB object at 0x7ff6a6ea8940> with param.s {'reg_alpha': 0.7157894736842105, 'eta': 0.9333333333333333, 'max_depth': 11, 'subsample': 1.0}... Be patient! ;)\n",
      "Testing for method <models.easyXGB object at 0x7ff6a6ea8940> with param.s {'reg_alpha': 0.7157894736842105, 'eta': 0.9666666666666667, 'max_depth': 11, 'subsample': 1.0}... Be patient! ;)\n",
      "Testing for method <models.easyXGB object at 0x7ff6a6ea8940> with param.s {'reg_alpha': 0.7157894736842105, 'eta': 1.0, 'max_depth': 11, 'subsample': 1.0}... Be patient! ;)\n",
      "Testing for method <models.easyXGB object at 0x7ff6a6ea8940> with param.s {'reg_alpha': 0.7631578947368421, 'eta': 0.7, 'max_depth': 8, 'subsample': 1.0}... Be patient! ;)\n",
      "Testing for method <models.easyXGB object at 0x7ff6a6ea8940> with param.s {'reg_alpha': 0.7631578947368421, 'eta': 0.7333333333333333, 'max_depth': 8, 'subsample': 1.0}... Be patient! ;)\n",
      "Testing for method <models.easyXGB object at 0x7ff6a6ea8940> with param.s {'reg_alpha': 0.7631578947368421, 'eta': 0.7666666666666666, 'max_depth': 8, 'subsample': 1.0}... Be patient! ;)\n",
      "Testing for method <models.easyXGB object at 0x7ff6a6ea8940> with param.s {'reg_alpha': 0.7631578947368421, 'eta': 0.7999999999999999, 'max_depth': 8, 'subsample': 1.0}... Be patient! ;)\n",
      "Testing for method <models.easyXGB object at 0x7ff6a6ea8940> with param.s {'reg_alpha': 0.7631578947368421, 'eta': 0.8333333333333333, 'max_depth': 8, 'subsample': 1.0}... Be patient! ;)\n",
      "Testing for method <models.easyXGB object at 0x7ff6a6ea8940> with param.s {'reg_alpha': 0.7631578947368421, 'eta': 0.8666666666666667, 'max_depth': 8, 'subsample': 1.0}... Be patient! ;)\n",
      "Testing for method <models.easyXGB object at 0x7ff6a6ea8940> with param.s {'reg_alpha': 0.7631578947368421, 'eta': 0.9, 'max_depth': 8, 'subsample': 1.0}... Be patient! ;)\n",
      "Testing for method <models.easyXGB object at 0x7ff6a6ea8940> with param.s {'reg_alpha': 0.7631578947368421, 'eta': 0.9333333333333333, 'max_depth': 8, 'subsample': 1.0}... Be patient! ;)\n",
      "Testing for method <models.easyXGB object at 0x7ff6a6ea8940> with param.s {'reg_alpha': 0.7631578947368421, 'eta': 0.9666666666666667, 'max_depth': 8, 'subsample': 1.0}... Be patient! ;)\n",
      "Testing for method <models.easyXGB object at 0x7ff6a6ea8940> with param.s {'reg_alpha': 0.7631578947368421, 'eta': 1.0, 'max_depth': 8, 'subsample': 1.0}... Be patient! ;)\n",
      "Testing for method <models.easyXGB object at 0x7ff6a6ea8940> with param.s {'reg_alpha': 0.7631578947368421, 'eta': 0.7, 'max_depth': 9, 'subsample': 1.0}... Be patient! ;)\n",
      "Testing for method <models.easyXGB object at 0x7ff6a6ea8940> with param.s {'reg_alpha': 0.7631578947368421, 'eta': 0.7333333333333333, 'max_depth': 9, 'subsample': 1.0}... Be patient! ;)\n",
      "Testing for method <models.easyXGB object at 0x7ff6a6ea8940> with param.s {'reg_alpha': 0.7631578947368421, 'eta': 0.7666666666666666, 'max_depth': 9, 'subsample': 1.0}... Be patient! ;)\n",
      "Testing for method <models.easyXGB object at 0x7ff6a6ea8940> with param.s {'reg_alpha': 0.7631578947368421, 'eta': 0.7999999999999999, 'max_depth': 9, 'subsample': 1.0}... Be patient! ;)\n",
      "Testing for method <models.easyXGB object at 0x7ff6a6ea8940> with param.s {'reg_alpha': 0.7631578947368421, 'eta': 0.8333333333333333, 'max_depth': 9, 'subsample': 1.0}... Be patient! ;)\n",
      "Testing for method <models.easyXGB object at 0x7ff6a6ea8940> with param.s {'reg_alpha': 0.7631578947368421, 'eta': 0.8666666666666667, 'max_depth': 9, 'subsample': 1.0}... Be patient! ;)\n",
      "Testing for method <models.easyXGB object at 0x7ff6a6ea8940> with param.s {'reg_alpha': 0.7631578947368421, 'eta': 0.9, 'max_depth': 9, 'subsample': 1.0}... Be patient! ;)\n",
      "Testing for method <models.easyXGB object at 0x7ff6a6ea8940> with param.s {'reg_alpha': 0.7631578947368421, 'eta': 0.9333333333333333, 'max_depth': 9, 'subsample': 1.0}... Be patient! ;)\n",
      "Testing for method <models.easyXGB object at 0x7ff6a6ea8940> with param.s {'reg_alpha': 0.7631578947368421, 'eta': 0.9666666666666667, 'max_depth': 9, 'subsample': 1.0}... Be patient! ;)\n",
      "Testing for method <models.easyXGB object at 0x7ff6a6ea8940> with param.s {'reg_alpha': 0.7631578947368421, 'eta': 1.0, 'max_depth': 9, 'subsample': 1.0}... Be patient! ;)\n",
      "Testing for method <models.easyXGB object at 0x7ff6a6ea8940> with param.s {'reg_alpha': 0.7631578947368421, 'eta': 0.7, 'max_depth': 10, 'subsample': 1.0}... Be patient! ;)\n",
      "Testing for method <models.easyXGB object at 0x7ff6a6ea8940> with param.s {'reg_alpha': 0.7631578947368421, 'eta': 0.7333333333333333, 'max_depth': 10, 'subsample': 1.0}... Be patient! ;)\n",
      "Testing for method <models.easyXGB object at 0x7ff6a6ea8940> with param.s {'reg_alpha': 0.7631578947368421, 'eta': 0.7666666666666666, 'max_depth': 10, 'subsample': 1.0}... Be patient! ;)\n",
      "Testing for method <models.easyXGB object at 0x7ff6a6ea8940> with param.s {'reg_alpha': 0.7631578947368421, 'eta': 0.7999999999999999, 'max_depth': 10, 'subsample': 1.0}... Be patient! ;)\n",
      "Testing for method <models.easyXGB object at 0x7ff6a6ea8940> with param.s {'reg_alpha': 0.7631578947368421, 'eta': 0.8333333333333333, 'max_depth': 10, 'subsample': 1.0}... Be patient! ;)\n",
      "Testing for method <models.easyXGB object at 0x7ff6a6ea8940> with param.s {'reg_alpha': 0.7631578947368421, 'eta': 0.8666666666666667, 'max_depth': 10, 'subsample': 1.0}... Be patient! ;)\n",
      "Testing for method <models.easyXGB object at 0x7ff6a6ea8940> with param.s {'reg_alpha': 0.7631578947368421, 'eta': 0.9, 'max_depth': 10, 'subsample': 1.0}... Be patient! ;)\n",
      "Testing for method <models.easyXGB object at 0x7ff6a6ea8940> with param.s {'reg_alpha': 0.7631578947368421, 'eta': 0.9333333333333333, 'max_depth': 10, 'subsample': 1.0}... Be patient! ;)\n",
      "Testing for method <models.easyXGB object at 0x7ff6a6ea8940> with param.s {'reg_alpha': 0.7631578947368421, 'eta': 0.9666666666666667, 'max_depth': 10, 'subsample': 1.0}... Be patient! ;)\n"
     ]
    },
    {
     "name": "stdout",
     "output_type": "stream",
     "text": [
      "Testing for method <models.easyXGB object at 0x7ff6a6ea8940> with param.s {'reg_alpha': 0.7631578947368421, 'eta': 1.0, 'max_depth': 10, 'subsample': 1.0}... Be patient! ;)\n",
      "Testing for method <models.easyXGB object at 0x7ff6a6ea8940> with param.s {'reg_alpha': 0.7631578947368421, 'eta': 0.7, 'max_depth': 11, 'subsample': 1.0}... Be patient! ;)\n",
      "Testing for method <models.easyXGB object at 0x7ff6a6ea8940> with param.s {'reg_alpha': 0.7631578947368421, 'eta': 0.7333333333333333, 'max_depth': 11, 'subsample': 1.0}... Be patient! ;)\n",
      "Testing for method <models.easyXGB object at 0x7ff6a6ea8940> with param.s {'reg_alpha': 0.7631578947368421, 'eta': 0.7666666666666666, 'max_depth': 11, 'subsample': 1.0}... Be patient! ;)\n",
      "Testing for method <models.easyXGB object at 0x7ff6a6ea8940> with param.s {'reg_alpha': 0.7631578947368421, 'eta': 0.7999999999999999, 'max_depth': 11, 'subsample': 1.0}... Be patient! ;)\n",
      "Testing for method <models.easyXGB object at 0x7ff6a6ea8940> with param.s {'reg_alpha': 0.7631578947368421, 'eta': 0.8333333333333333, 'max_depth': 11, 'subsample': 1.0}... Be patient! ;)\n",
      "Testing for method <models.easyXGB object at 0x7ff6a6ea8940> with param.s {'reg_alpha': 0.7631578947368421, 'eta': 0.8666666666666667, 'max_depth': 11, 'subsample': 1.0}... Be patient! ;)\n",
      "Testing for method <models.easyXGB object at 0x7ff6a6ea8940> with param.s {'reg_alpha': 0.7631578947368421, 'eta': 0.9, 'max_depth': 11, 'subsample': 1.0}... Be patient! ;)\n",
      "Testing for method <models.easyXGB object at 0x7ff6a6ea8940> with param.s {'reg_alpha': 0.7631578947368421, 'eta': 0.9333333333333333, 'max_depth': 11, 'subsample': 1.0}... Be patient! ;)\n",
      "Testing for method <models.easyXGB object at 0x7ff6a6ea8940> with param.s {'reg_alpha': 0.7631578947368421, 'eta': 0.9666666666666667, 'max_depth': 11, 'subsample': 1.0}... Be patient! ;)\n",
      "Testing for method <models.easyXGB object at 0x7ff6a6ea8940> with param.s {'reg_alpha': 0.7631578947368421, 'eta': 1.0, 'max_depth': 11, 'subsample': 1.0}... Be patient! ;)\n",
      "Testing for method <models.easyXGB object at 0x7ff6a6ea8940> with param.s {'reg_alpha': 0.8105263157894737, 'eta': 0.7, 'max_depth': 8, 'subsample': 1.0}... Be patient! ;)\n",
      "Testing for method <models.easyXGB object at 0x7ff6a6ea8940> with param.s {'reg_alpha': 0.8105263157894737, 'eta': 0.7333333333333333, 'max_depth': 8, 'subsample': 1.0}... Be patient! ;)\n",
      "Testing for method <models.easyXGB object at 0x7ff6a6ea8940> with param.s {'reg_alpha': 0.8105263157894737, 'eta': 0.7666666666666666, 'max_depth': 8, 'subsample': 1.0}... Be patient! ;)\n",
      "Testing for method <models.easyXGB object at 0x7ff6a6ea8940> with param.s {'reg_alpha': 0.8105263157894737, 'eta': 0.7999999999999999, 'max_depth': 8, 'subsample': 1.0}... Be patient! ;)\n",
      "Testing for method <models.easyXGB object at 0x7ff6a6ea8940> with param.s {'reg_alpha': 0.8105263157894737, 'eta': 0.8333333333333333, 'max_depth': 8, 'subsample': 1.0}... Be patient! ;)\n",
      "Testing for method <models.easyXGB object at 0x7ff6a6ea8940> with param.s {'reg_alpha': 0.8105263157894737, 'eta': 0.8666666666666667, 'max_depth': 8, 'subsample': 1.0}... Be patient! ;)\n",
      "Testing for method <models.easyXGB object at 0x7ff6a6ea8940> with param.s {'reg_alpha': 0.8105263157894737, 'eta': 0.9, 'max_depth': 8, 'subsample': 1.0}... Be patient! ;)\n",
      "Testing for method <models.easyXGB object at 0x7ff6a6ea8940> with param.s {'reg_alpha': 0.8105263157894737, 'eta': 0.9333333333333333, 'max_depth': 8, 'subsample': 1.0}... Be patient! ;)\n",
      "Testing for method <models.easyXGB object at 0x7ff6a6ea8940> with param.s {'reg_alpha': 0.8105263157894737, 'eta': 0.9666666666666667, 'max_depth': 8, 'subsample': 1.0}... Be patient! ;)\n",
      "Testing for method <models.easyXGB object at 0x7ff6a6ea8940> with param.s {'reg_alpha': 0.8105263157894737, 'eta': 1.0, 'max_depth': 8, 'subsample': 1.0}... Be patient! ;)\n",
      "Testing for method <models.easyXGB object at 0x7ff6a6ea8940> with param.s {'reg_alpha': 0.8105263157894737, 'eta': 0.7, 'max_depth': 9, 'subsample': 1.0}... Be patient! ;)\n",
      "Testing for method <models.easyXGB object at 0x7ff6a6ea8940> with param.s {'reg_alpha': 0.8105263157894737, 'eta': 0.7333333333333333, 'max_depth': 9, 'subsample': 1.0}... Be patient! ;)\n",
      "Testing for method <models.easyXGB object at 0x7ff6a6ea8940> with param.s {'reg_alpha': 0.8105263157894737, 'eta': 0.7666666666666666, 'max_depth': 9, 'subsample': 1.0}... Be patient! ;)\n",
      "Testing for method <models.easyXGB object at 0x7ff6a6ea8940> with param.s {'reg_alpha': 0.8105263157894737, 'eta': 0.7999999999999999, 'max_depth': 9, 'subsample': 1.0}... Be patient! ;)\n",
      "Testing for method <models.easyXGB object at 0x7ff6a6ea8940> with param.s {'reg_alpha': 0.8105263157894737, 'eta': 0.8333333333333333, 'max_depth': 9, 'subsample': 1.0}... Be patient! ;)\n",
      "Testing for method <models.easyXGB object at 0x7ff6a6ea8940> with param.s {'reg_alpha': 0.8105263157894737, 'eta': 0.8666666666666667, 'max_depth': 9, 'subsample': 1.0}... Be patient! ;)\n",
      "Testing for method <models.easyXGB object at 0x7ff6a6ea8940> with param.s {'reg_alpha': 0.8105263157894737, 'eta': 0.9, 'max_depth': 9, 'subsample': 1.0}... Be patient! ;)\n",
      "Testing for method <models.easyXGB object at 0x7ff6a6ea8940> with param.s {'reg_alpha': 0.8105263157894737, 'eta': 0.9333333333333333, 'max_depth': 9, 'subsample': 1.0}... Be patient! ;)\n",
      "Testing for method <models.easyXGB object at 0x7ff6a6ea8940> with param.s {'reg_alpha': 0.8105263157894737, 'eta': 0.9666666666666667, 'max_depth': 9, 'subsample': 1.0}... Be patient! ;)\n",
      "Testing for method <models.easyXGB object at 0x7ff6a6ea8940> with param.s {'reg_alpha': 0.8105263157894737, 'eta': 1.0, 'max_depth': 9, 'subsample': 1.0}... Be patient! ;)\n",
      "Testing for method <models.easyXGB object at 0x7ff6a6ea8940> with param.s {'reg_alpha': 0.8105263157894737, 'eta': 0.7, 'max_depth': 10, 'subsample': 1.0}... Be patient! ;)\n",
      "Testing for method <models.easyXGB object at 0x7ff6a6ea8940> with param.s {'reg_alpha': 0.8105263157894737, 'eta': 0.7333333333333333, 'max_depth': 10, 'subsample': 1.0}... Be patient! ;)\n",
      "Testing for method <models.easyXGB object at 0x7ff6a6ea8940> with param.s {'reg_alpha': 0.8105263157894737, 'eta': 0.7666666666666666, 'max_depth': 10, 'subsample': 1.0}... Be patient! ;)\n",
      "Testing for method <models.easyXGB object at 0x7ff6a6ea8940> with param.s {'reg_alpha': 0.8105263157894737, 'eta': 0.7999999999999999, 'max_depth': 10, 'subsample': 1.0}... Be patient! ;)\n",
      "Testing for method <models.easyXGB object at 0x7ff6a6ea8940> with param.s {'reg_alpha': 0.8105263157894737, 'eta': 0.8333333333333333, 'max_depth': 10, 'subsample': 1.0}... Be patient! ;)\n",
      "Testing for method <models.easyXGB object at 0x7ff6a6ea8940> with param.s {'reg_alpha': 0.8105263157894737, 'eta': 0.8666666666666667, 'max_depth': 10, 'subsample': 1.0}... Be patient! ;)\n",
      "Testing for method <models.easyXGB object at 0x7ff6a6ea8940> with param.s {'reg_alpha': 0.8105263157894737, 'eta': 0.9, 'max_depth': 10, 'subsample': 1.0}... Be patient! ;)\n",
      "Testing for method <models.easyXGB object at 0x7ff6a6ea8940> with param.s {'reg_alpha': 0.8105263157894737, 'eta': 0.9333333333333333, 'max_depth': 10, 'subsample': 1.0}... Be patient! ;)\n",
      "Testing for method <models.easyXGB object at 0x7ff6a6ea8940> with param.s {'reg_alpha': 0.8105263157894737, 'eta': 0.9666666666666667, 'max_depth': 10, 'subsample': 1.0}... Be patient! ;)\n",
      "Testing for method <models.easyXGB object at 0x7ff6a6ea8940> with param.s {'reg_alpha': 0.8105263157894737, 'eta': 1.0, 'max_depth': 10, 'subsample': 1.0}... Be patient! ;)\n",
      "Testing for method <models.easyXGB object at 0x7ff6a6ea8940> with param.s {'reg_alpha': 0.8105263157894737, 'eta': 0.7, 'max_depth': 11, 'subsample': 1.0}... Be patient! ;)\n",
      "Testing for method <models.easyXGB object at 0x7ff6a6ea8940> with param.s {'reg_alpha': 0.8105263157894737, 'eta': 0.7333333333333333, 'max_depth': 11, 'subsample': 1.0}... Be patient! ;)\n",
      "Testing for method <models.easyXGB object at 0x7ff6a6ea8940> with param.s {'reg_alpha': 0.8105263157894737, 'eta': 0.7666666666666666, 'max_depth': 11, 'subsample': 1.0}... Be patient! ;)\n",
      "Testing for method <models.easyXGB object at 0x7ff6a6ea8940> with param.s {'reg_alpha': 0.8105263157894737, 'eta': 0.7999999999999999, 'max_depth': 11, 'subsample': 1.0}... Be patient! ;)\n"
     ]
    },
    {
     "name": "stdout",
     "output_type": "stream",
     "text": [
      "Testing for method <models.easyXGB object at 0x7ff6a6ea8940> with param.s {'reg_alpha': 0.8105263157894737, 'eta': 0.8333333333333333, 'max_depth': 11, 'subsample': 1.0}... Be patient! ;)\n",
      "Testing for method <models.easyXGB object at 0x7ff6a6ea8940> with param.s {'reg_alpha': 0.8105263157894737, 'eta': 0.8666666666666667, 'max_depth': 11, 'subsample': 1.0}... Be patient! ;)\n",
      "Testing for method <models.easyXGB object at 0x7ff6a6ea8940> with param.s {'reg_alpha': 0.8105263157894737, 'eta': 0.9, 'max_depth': 11, 'subsample': 1.0}... Be patient! ;)\n",
      "Testing for method <models.easyXGB object at 0x7ff6a6ea8940> with param.s {'reg_alpha': 0.8105263157894737, 'eta': 0.9333333333333333, 'max_depth': 11, 'subsample': 1.0}... Be patient! ;)\n",
      "Testing for method <models.easyXGB object at 0x7ff6a6ea8940> with param.s {'reg_alpha': 0.8105263157894737, 'eta': 0.9666666666666667, 'max_depth': 11, 'subsample': 1.0}... Be patient! ;)\n",
      "Testing for method <models.easyXGB object at 0x7ff6a6ea8940> with param.s {'reg_alpha': 0.8105263157894737, 'eta': 1.0, 'max_depth': 11, 'subsample': 1.0}... Be patient! ;)\n",
      "Testing for method <models.easyXGB object at 0x7ff6a6ea8940> with param.s {'reg_alpha': 0.8578947368421053, 'eta': 0.7, 'max_depth': 8, 'subsample': 1.0}... Be patient! ;)\n",
      "Testing for method <models.easyXGB object at 0x7ff6a6ea8940> with param.s {'reg_alpha': 0.8578947368421053, 'eta': 0.7333333333333333, 'max_depth': 8, 'subsample': 1.0}... Be patient! ;)\n",
      "Testing for method <models.easyXGB object at 0x7ff6a6ea8940> with param.s {'reg_alpha': 0.8578947368421053, 'eta': 0.7666666666666666, 'max_depth': 8, 'subsample': 1.0}... Be patient! ;)\n",
      "Testing for method <models.easyXGB object at 0x7ff6a6ea8940> with param.s {'reg_alpha': 0.8578947368421053, 'eta': 0.7999999999999999, 'max_depth': 8, 'subsample': 1.0}... Be patient! ;)\n",
      "Testing for method <models.easyXGB object at 0x7ff6a6ea8940> with param.s {'reg_alpha': 0.8578947368421053, 'eta': 0.8333333333333333, 'max_depth': 8, 'subsample': 1.0}... Be patient! ;)\n",
      "Testing for method <models.easyXGB object at 0x7ff6a6ea8940> with param.s {'reg_alpha': 0.8578947368421053, 'eta': 0.8666666666666667, 'max_depth': 8, 'subsample': 1.0}... Be patient! ;)\n",
      "Testing for method <models.easyXGB object at 0x7ff6a6ea8940> with param.s {'reg_alpha': 0.8578947368421053, 'eta': 0.9, 'max_depth': 8, 'subsample': 1.0}... Be patient! ;)\n",
      "Testing for method <models.easyXGB object at 0x7ff6a6ea8940> with param.s {'reg_alpha': 0.8578947368421053, 'eta': 0.9333333333333333, 'max_depth': 8, 'subsample': 1.0}... Be patient! ;)\n",
      "Testing for method <models.easyXGB object at 0x7ff6a6ea8940> with param.s {'reg_alpha': 0.8578947368421053, 'eta': 0.9666666666666667, 'max_depth': 8, 'subsample': 1.0}... Be patient! ;)\n",
      "Testing for method <models.easyXGB object at 0x7ff6a6ea8940> with param.s {'reg_alpha': 0.8578947368421053, 'eta': 1.0, 'max_depth': 8, 'subsample': 1.0}... Be patient! ;)\n",
      "Testing for method <models.easyXGB object at 0x7ff6a6ea8940> with param.s {'reg_alpha': 0.8578947368421053, 'eta': 0.7, 'max_depth': 9, 'subsample': 1.0}... Be patient! ;)\n",
      "Testing for method <models.easyXGB object at 0x7ff6a6ea8940> with param.s {'reg_alpha': 0.8578947368421053, 'eta': 0.7333333333333333, 'max_depth': 9, 'subsample': 1.0}... Be patient! ;)\n",
      "Testing for method <models.easyXGB object at 0x7ff6a6ea8940> with param.s {'reg_alpha': 0.8578947368421053, 'eta': 0.7666666666666666, 'max_depth': 9, 'subsample': 1.0}... Be patient! ;)\n",
      "Testing for method <models.easyXGB object at 0x7ff6a6ea8940> with param.s {'reg_alpha': 0.8578947368421053, 'eta': 0.7999999999999999, 'max_depth': 9, 'subsample': 1.0}... Be patient! ;)\n",
      "Testing for method <models.easyXGB object at 0x7ff6a6ea8940> with param.s {'reg_alpha': 0.8578947368421053, 'eta': 0.8333333333333333, 'max_depth': 9, 'subsample': 1.0}... Be patient! ;)\n",
      "Testing for method <models.easyXGB object at 0x7ff6a6ea8940> with param.s {'reg_alpha': 0.8578947368421053, 'eta': 0.8666666666666667, 'max_depth': 9, 'subsample': 1.0}... Be patient! ;)\n",
      "Testing for method <models.easyXGB object at 0x7ff6a6ea8940> with param.s {'reg_alpha': 0.8578947368421053, 'eta': 0.9, 'max_depth': 9, 'subsample': 1.0}... Be patient! ;)\n",
      "Testing for method <models.easyXGB object at 0x7ff6a6ea8940> with param.s {'reg_alpha': 0.8578947368421053, 'eta': 0.9333333333333333, 'max_depth': 9, 'subsample': 1.0}... Be patient! ;)\n",
      "Testing for method <models.easyXGB object at 0x7ff6a6ea8940> with param.s {'reg_alpha': 0.8578947368421053, 'eta': 0.9666666666666667, 'max_depth': 9, 'subsample': 1.0}... Be patient! ;)\n",
      "Testing for method <models.easyXGB object at 0x7ff6a6ea8940> with param.s {'reg_alpha': 0.8578947368421053, 'eta': 1.0, 'max_depth': 9, 'subsample': 1.0}... Be patient! ;)\n",
      "Testing for method <models.easyXGB object at 0x7ff6a6ea8940> with param.s {'reg_alpha': 0.8578947368421053, 'eta': 0.7, 'max_depth': 10, 'subsample': 1.0}... Be patient! ;)\n",
      "Testing for method <models.easyXGB object at 0x7ff6a6ea8940> with param.s {'reg_alpha': 0.8578947368421053, 'eta': 0.7333333333333333, 'max_depth': 10, 'subsample': 1.0}... Be patient! ;)\n",
      "Testing for method <models.easyXGB object at 0x7ff6a6ea8940> with param.s {'reg_alpha': 0.8578947368421053, 'eta': 0.7666666666666666, 'max_depth': 10, 'subsample': 1.0}... Be patient! ;)\n",
      "Testing for method <models.easyXGB object at 0x7ff6a6ea8940> with param.s {'reg_alpha': 0.8578947368421053, 'eta': 0.7999999999999999, 'max_depth': 10, 'subsample': 1.0}... Be patient! ;)\n",
      "Testing for method <models.easyXGB object at 0x7ff6a6ea8940> with param.s {'reg_alpha': 0.8578947368421053, 'eta': 0.8333333333333333, 'max_depth': 10, 'subsample': 1.0}... Be patient! ;)\n",
      "Testing for method <models.easyXGB object at 0x7ff6a6ea8940> with param.s {'reg_alpha': 0.8578947368421053, 'eta': 0.8666666666666667, 'max_depth': 10, 'subsample': 1.0}... Be patient! ;)\n",
      "Testing for method <models.easyXGB object at 0x7ff6a6ea8940> with param.s {'reg_alpha': 0.8578947368421053, 'eta': 0.9, 'max_depth': 10, 'subsample': 1.0}... Be patient! ;)\n",
      "Testing for method <models.easyXGB object at 0x7ff6a6ea8940> with param.s {'reg_alpha': 0.8578947368421053, 'eta': 0.9333333333333333, 'max_depth': 10, 'subsample': 1.0}... Be patient! ;)\n",
      "Testing for method <models.easyXGB object at 0x7ff6a6ea8940> with param.s {'reg_alpha': 0.8578947368421053, 'eta': 0.9666666666666667, 'max_depth': 10, 'subsample': 1.0}... Be patient! ;)\n",
      "Testing for method <models.easyXGB object at 0x7ff6a6ea8940> with param.s {'reg_alpha': 0.8578947368421053, 'eta': 1.0, 'max_depth': 10, 'subsample': 1.0}... Be patient! ;)\n",
      "Testing for method <models.easyXGB object at 0x7ff6a6ea8940> with param.s {'reg_alpha': 0.8578947368421053, 'eta': 0.7, 'max_depth': 11, 'subsample': 1.0}... Be patient! ;)\n",
      "Testing for method <models.easyXGB object at 0x7ff6a6ea8940> with param.s {'reg_alpha': 0.8578947368421053, 'eta': 0.7333333333333333, 'max_depth': 11, 'subsample': 1.0}... Be patient! ;)\n",
      "Testing for method <models.easyXGB object at 0x7ff6a6ea8940> with param.s {'reg_alpha': 0.8578947368421053, 'eta': 0.7666666666666666, 'max_depth': 11, 'subsample': 1.0}... Be patient! ;)\n",
      "Testing for method <models.easyXGB object at 0x7ff6a6ea8940> with param.s {'reg_alpha': 0.8578947368421053, 'eta': 0.7999999999999999, 'max_depth': 11, 'subsample': 1.0}... Be patient! ;)\n",
      "Testing for method <models.easyXGB object at 0x7ff6a6ea8940> with param.s {'reg_alpha': 0.8578947368421053, 'eta': 0.8333333333333333, 'max_depth': 11, 'subsample': 1.0}... Be patient! ;)\n",
      "Testing for method <models.easyXGB object at 0x7ff6a6ea8940> with param.s {'reg_alpha': 0.8578947368421053, 'eta': 0.8666666666666667, 'max_depth': 11, 'subsample': 1.0}... Be patient! ;)\n",
      "Testing for method <models.easyXGB object at 0x7ff6a6ea8940> with param.s {'reg_alpha': 0.8578947368421053, 'eta': 0.9, 'max_depth': 11, 'subsample': 1.0}... Be patient! ;)\n",
      "Testing for method <models.easyXGB object at 0x7ff6a6ea8940> with param.s {'reg_alpha': 0.8578947368421053, 'eta': 0.9333333333333333, 'max_depth': 11, 'subsample': 1.0}... Be patient! ;)\n",
      "Testing for method <models.easyXGB object at 0x7ff6a6ea8940> with param.s {'reg_alpha': 0.8578947368421053, 'eta': 0.9666666666666667, 'max_depth': 11, 'subsample': 1.0}... Be patient! ;)\n"
     ]
    },
    {
     "name": "stdout",
     "output_type": "stream",
     "text": [
      "Testing for method <models.easyXGB object at 0x7ff6a6ea8940> with param.s {'reg_alpha': 0.8578947368421053, 'eta': 1.0, 'max_depth': 11, 'subsample': 1.0}... Be patient! ;)\n",
      "Testing for method <models.easyXGB object at 0x7ff6a6ea8940> with param.s {'reg_alpha': 0.9052631578947369, 'eta': 0.7, 'max_depth': 8, 'subsample': 1.0}... Be patient! ;)\n",
      "Testing for method <models.easyXGB object at 0x7ff6a6ea8940> with param.s {'reg_alpha': 0.9052631578947369, 'eta': 0.7333333333333333, 'max_depth': 8, 'subsample': 1.0}... Be patient! ;)\n",
      "Testing for method <models.easyXGB object at 0x7ff6a6ea8940> with param.s {'reg_alpha': 0.9052631578947369, 'eta': 0.7666666666666666, 'max_depth': 8, 'subsample': 1.0}... Be patient! ;)\n",
      "Testing for method <models.easyXGB object at 0x7ff6a6ea8940> with param.s {'reg_alpha': 0.9052631578947369, 'eta': 0.7999999999999999, 'max_depth': 8, 'subsample': 1.0}... Be patient! ;)\n",
      "Testing for method <models.easyXGB object at 0x7ff6a6ea8940> with param.s {'reg_alpha': 0.9052631578947369, 'eta': 0.8333333333333333, 'max_depth': 8, 'subsample': 1.0}... Be patient! ;)\n",
      "Testing for method <models.easyXGB object at 0x7ff6a6ea8940> with param.s {'reg_alpha': 0.9052631578947369, 'eta': 0.8666666666666667, 'max_depth': 8, 'subsample': 1.0}... Be patient! ;)\n",
      "Testing for method <models.easyXGB object at 0x7ff6a6ea8940> with param.s {'reg_alpha': 0.9052631578947369, 'eta': 0.9, 'max_depth': 8, 'subsample': 1.0}... Be patient! ;)\n",
      "Testing for method <models.easyXGB object at 0x7ff6a6ea8940> with param.s {'reg_alpha': 0.9052631578947369, 'eta': 0.9333333333333333, 'max_depth': 8, 'subsample': 1.0}... Be patient! ;)\n",
      "Testing for method <models.easyXGB object at 0x7ff6a6ea8940> with param.s {'reg_alpha': 0.9052631578947369, 'eta': 0.9666666666666667, 'max_depth': 8, 'subsample': 1.0}... Be patient! ;)\n",
      "Testing for method <models.easyXGB object at 0x7ff6a6ea8940> with param.s {'reg_alpha': 0.9052631578947369, 'eta': 1.0, 'max_depth': 8, 'subsample': 1.0}... Be patient! ;)\n",
      "Testing for method <models.easyXGB object at 0x7ff6a6ea8940> with param.s {'reg_alpha': 0.9052631578947369, 'eta': 0.7, 'max_depth': 9, 'subsample': 1.0}... Be patient! ;)\n",
      "Testing for method <models.easyXGB object at 0x7ff6a6ea8940> with param.s {'reg_alpha': 0.9052631578947369, 'eta': 0.7333333333333333, 'max_depth': 9, 'subsample': 1.0}... Be patient! ;)\n",
      "Testing for method <models.easyXGB object at 0x7ff6a6ea8940> with param.s {'reg_alpha': 0.9052631578947369, 'eta': 0.7666666666666666, 'max_depth': 9, 'subsample': 1.0}... Be patient! ;)\n",
      "Testing for method <models.easyXGB object at 0x7ff6a6ea8940> with param.s {'reg_alpha': 0.9052631578947369, 'eta': 0.7999999999999999, 'max_depth': 9, 'subsample': 1.0}... Be patient! ;)\n",
      "Testing for method <models.easyXGB object at 0x7ff6a6ea8940> with param.s {'reg_alpha': 0.9052631578947369, 'eta': 0.8333333333333333, 'max_depth': 9, 'subsample': 1.0}... Be patient! ;)\n",
      "Testing for method <models.easyXGB object at 0x7ff6a6ea8940> with param.s {'reg_alpha': 0.9052631578947369, 'eta': 0.8666666666666667, 'max_depth': 9, 'subsample': 1.0}... Be patient! ;)\n",
      "Testing for method <models.easyXGB object at 0x7ff6a6ea8940> with param.s {'reg_alpha': 0.9052631578947369, 'eta': 0.9, 'max_depth': 9, 'subsample': 1.0}... Be patient! ;)\n",
      "Testing for method <models.easyXGB object at 0x7ff6a6ea8940> with param.s {'reg_alpha': 0.9052631578947369, 'eta': 0.9333333333333333, 'max_depth': 9, 'subsample': 1.0}... Be patient! ;)\n",
      "Testing for method <models.easyXGB object at 0x7ff6a6ea8940> with param.s {'reg_alpha': 0.9052631578947369, 'eta': 0.9666666666666667, 'max_depth': 9, 'subsample': 1.0}... Be patient! ;)\n",
      "Testing for method <models.easyXGB object at 0x7ff6a6ea8940> with param.s {'reg_alpha': 0.9052631578947369, 'eta': 1.0, 'max_depth': 9, 'subsample': 1.0}... Be patient! ;)\n",
      "Testing for method <models.easyXGB object at 0x7ff6a6ea8940> with param.s {'reg_alpha': 0.9052631578947369, 'eta': 0.7, 'max_depth': 10, 'subsample': 1.0}... Be patient! ;)\n",
      "Testing for method <models.easyXGB object at 0x7ff6a6ea8940> with param.s {'reg_alpha': 0.9052631578947369, 'eta': 0.7333333333333333, 'max_depth': 10, 'subsample': 1.0}... Be patient! ;)\n",
      "Testing for method <models.easyXGB object at 0x7ff6a6ea8940> with param.s {'reg_alpha': 0.9052631578947369, 'eta': 0.7666666666666666, 'max_depth': 10, 'subsample': 1.0}... Be patient! ;)\n",
      "Testing for method <models.easyXGB object at 0x7ff6a6ea8940> with param.s {'reg_alpha': 0.9052631578947369, 'eta': 0.7999999999999999, 'max_depth': 10, 'subsample': 1.0}... Be patient! ;)\n",
      "Testing for method <models.easyXGB object at 0x7ff6a6ea8940> with param.s {'reg_alpha': 0.9052631578947369, 'eta': 0.8333333333333333, 'max_depth': 10, 'subsample': 1.0}... Be patient! ;)\n",
      "Testing for method <models.easyXGB object at 0x7ff6a6ea8940> with param.s {'reg_alpha': 0.9052631578947369, 'eta': 0.8666666666666667, 'max_depth': 10, 'subsample': 1.0}... Be patient! ;)\n",
      "Testing for method <models.easyXGB object at 0x7ff6a6ea8940> with param.s {'reg_alpha': 0.9052631578947369, 'eta': 0.9, 'max_depth': 10, 'subsample': 1.0}... Be patient! ;)\n",
      "Testing for method <models.easyXGB object at 0x7ff6a6ea8940> with param.s {'reg_alpha': 0.9052631578947369, 'eta': 0.9333333333333333, 'max_depth': 10, 'subsample': 1.0}... Be patient! ;)\n",
      "Testing for method <models.easyXGB object at 0x7ff6a6ea8940> with param.s {'reg_alpha': 0.9052631578947369, 'eta': 0.9666666666666667, 'max_depth': 10, 'subsample': 1.0}... Be patient! ;)\n",
      "Testing for method <models.easyXGB object at 0x7ff6a6ea8940> with param.s {'reg_alpha': 0.9052631578947369, 'eta': 1.0, 'max_depth': 10, 'subsample': 1.0}... Be patient! ;)\n",
      "Testing for method <models.easyXGB object at 0x7ff6a6ea8940> with param.s {'reg_alpha': 0.9052631578947369, 'eta': 0.7, 'max_depth': 11, 'subsample': 1.0}... Be patient! ;)\n",
      "Testing for method <models.easyXGB object at 0x7ff6a6ea8940> with param.s {'reg_alpha': 0.9052631578947369, 'eta': 0.7333333333333333, 'max_depth': 11, 'subsample': 1.0}... Be patient! ;)\n",
      "Testing for method <models.easyXGB object at 0x7ff6a6ea8940> with param.s {'reg_alpha': 0.9052631578947369, 'eta': 0.7666666666666666, 'max_depth': 11, 'subsample': 1.0}... Be patient! ;)\n",
      "Testing for method <models.easyXGB object at 0x7ff6a6ea8940> with param.s {'reg_alpha': 0.9052631578947369, 'eta': 0.7999999999999999, 'max_depth': 11, 'subsample': 1.0}... Be patient! ;)\n",
      "Testing for method <models.easyXGB object at 0x7ff6a6ea8940> with param.s {'reg_alpha': 0.9052631578947369, 'eta': 0.8333333333333333, 'max_depth': 11, 'subsample': 1.0}... Be patient! ;)\n",
      "Testing for method <models.easyXGB object at 0x7ff6a6ea8940> with param.s {'reg_alpha': 0.9052631578947369, 'eta': 0.8666666666666667, 'max_depth': 11, 'subsample': 1.0}... Be patient! ;)\n",
      "Testing for method <models.easyXGB object at 0x7ff6a6ea8940> with param.s {'reg_alpha': 0.9052631578947369, 'eta': 0.9, 'max_depth': 11, 'subsample': 1.0}... Be patient! ;)\n",
      "Testing for method <models.easyXGB object at 0x7ff6a6ea8940> with param.s {'reg_alpha': 0.9052631578947369, 'eta': 0.9333333333333333, 'max_depth': 11, 'subsample': 1.0}... Be patient! ;)\n",
      "Testing for method <models.easyXGB object at 0x7ff6a6ea8940> with param.s {'reg_alpha': 0.9052631578947369, 'eta': 0.9666666666666667, 'max_depth': 11, 'subsample': 1.0}... Be patient! ;)\n",
      "Testing for method <models.easyXGB object at 0x7ff6a6ea8940> with param.s {'reg_alpha': 0.9052631578947369, 'eta': 1.0, 'max_depth': 11, 'subsample': 1.0}... Be patient! ;)\n",
      "Testing for method <models.easyXGB object at 0x7ff6a6ea8940> with param.s {'reg_alpha': 0.9526315789473684, 'eta': 0.7, 'max_depth': 8, 'subsample': 1.0}... Be patient! ;)\n",
      "Testing for method <models.easyXGB object at 0x7ff6a6ea8940> with param.s {'reg_alpha': 0.9526315789473684, 'eta': 0.7333333333333333, 'max_depth': 8, 'subsample': 1.0}... Be patient! ;)\n",
      "Testing for method <models.easyXGB object at 0x7ff6a6ea8940> with param.s {'reg_alpha': 0.9526315789473684, 'eta': 0.7666666666666666, 'max_depth': 8, 'subsample': 1.0}... Be patient! ;)\n",
      "Testing for method <models.easyXGB object at 0x7ff6a6ea8940> with param.s {'reg_alpha': 0.9526315789473684, 'eta': 0.7999999999999999, 'max_depth': 8, 'subsample': 1.0}... Be patient! ;)\n"
     ]
    },
    {
     "name": "stdout",
     "output_type": "stream",
     "text": [
      "Testing for method <models.easyXGB object at 0x7ff6a6ea8940> with param.s {'reg_alpha': 0.9526315789473684, 'eta': 0.8333333333333333, 'max_depth': 8, 'subsample': 1.0}... Be patient! ;)\n",
      "Testing for method <models.easyXGB object at 0x7ff6a6ea8940> with param.s {'reg_alpha': 0.9526315789473684, 'eta': 0.8666666666666667, 'max_depth': 8, 'subsample': 1.0}... Be patient! ;)\n",
      "Testing for method <models.easyXGB object at 0x7ff6a6ea8940> with param.s {'reg_alpha': 0.9526315789473684, 'eta': 0.9, 'max_depth': 8, 'subsample': 1.0}... Be patient! ;)\n",
      "Testing for method <models.easyXGB object at 0x7ff6a6ea8940> with param.s {'reg_alpha': 0.9526315789473684, 'eta': 0.9333333333333333, 'max_depth': 8, 'subsample': 1.0}... Be patient! ;)\n",
      "Testing for method <models.easyXGB object at 0x7ff6a6ea8940> with param.s {'reg_alpha': 0.9526315789473684, 'eta': 0.9666666666666667, 'max_depth': 8, 'subsample': 1.0}... Be patient! ;)\n",
      "Testing for method <models.easyXGB object at 0x7ff6a6ea8940> with param.s {'reg_alpha': 0.9526315789473684, 'eta': 1.0, 'max_depth': 8, 'subsample': 1.0}... Be patient! ;)\n",
      "Testing for method <models.easyXGB object at 0x7ff6a6ea8940> with param.s {'reg_alpha': 0.9526315789473684, 'eta': 0.7, 'max_depth': 9, 'subsample': 1.0}... Be patient! ;)\n",
      "Testing for method <models.easyXGB object at 0x7ff6a6ea8940> with param.s {'reg_alpha': 0.9526315789473684, 'eta': 0.7333333333333333, 'max_depth': 9, 'subsample': 1.0}... Be patient! ;)\n",
      "Testing for method <models.easyXGB object at 0x7ff6a6ea8940> with param.s {'reg_alpha': 0.9526315789473684, 'eta': 0.7666666666666666, 'max_depth': 9, 'subsample': 1.0}... Be patient! ;)\n",
      "Testing for method <models.easyXGB object at 0x7ff6a6ea8940> with param.s {'reg_alpha': 0.9526315789473684, 'eta': 0.7999999999999999, 'max_depth': 9, 'subsample': 1.0}... Be patient! ;)\n",
      "Testing for method <models.easyXGB object at 0x7ff6a6ea8940> with param.s {'reg_alpha': 0.9526315789473684, 'eta': 0.8333333333333333, 'max_depth': 9, 'subsample': 1.0}... Be patient! ;)\n",
      "Testing for method <models.easyXGB object at 0x7ff6a6ea8940> with param.s {'reg_alpha': 0.9526315789473684, 'eta': 0.8666666666666667, 'max_depth': 9, 'subsample': 1.0}... Be patient! ;)\n",
      "Testing for method <models.easyXGB object at 0x7ff6a6ea8940> with param.s {'reg_alpha': 0.9526315789473684, 'eta': 0.9, 'max_depth': 9, 'subsample': 1.0}... Be patient! ;)\n",
      "Testing for method <models.easyXGB object at 0x7ff6a6ea8940> with param.s {'reg_alpha': 0.9526315789473684, 'eta': 0.9333333333333333, 'max_depth': 9, 'subsample': 1.0}... Be patient! ;)\n",
      "Testing for method <models.easyXGB object at 0x7ff6a6ea8940> with param.s {'reg_alpha': 0.9526315789473684, 'eta': 0.9666666666666667, 'max_depth': 9, 'subsample': 1.0}... Be patient! ;)\n",
      "Testing for method <models.easyXGB object at 0x7ff6a6ea8940> with param.s {'reg_alpha': 0.9526315789473684, 'eta': 1.0, 'max_depth': 9, 'subsample': 1.0}... Be patient! ;)\n",
      "Testing for method <models.easyXGB object at 0x7ff6a6ea8940> with param.s {'reg_alpha': 0.9526315789473684, 'eta': 0.7, 'max_depth': 10, 'subsample': 1.0}... Be patient! ;)\n",
      "Testing for method <models.easyXGB object at 0x7ff6a6ea8940> with param.s {'reg_alpha': 0.9526315789473684, 'eta': 0.7333333333333333, 'max_depth': 10, 'subsample': 1.0}... Be patient! ;)\n",
      "Testing for method <models.easyXGB object at 0x7ff6a6ea8940> with param.s {'reg_alpha': 0.9526315789473684, 'eta': 0.7666666666666666, 'max_depth': 10, 'subsample': 1.0}... Be patient! ;)\n",
      "Testing for method <models.easyXGB object at 0x7ff6a6ea8940> with param.s {'reg_alpha': 0.9526315789473684, 'eta': 0.7999999999999999, 'max_depth': 10, 'subsample': 1.0}... Be patient! ;)\n",
      "Testing for method <models.easyXGB object at 0x7ff6a6ea8940> with param.s {'reg_alpha': 0.9526315789473684, 'eta': 0.8333333333333333, 'max_depth': 10, 'subsample': 1.0}... Be patient! ;)\n",
      "Testing for method <models.easyXGB object at 0x7ff6a6ea8940> with param.s {'reg_alpha': 0.9526315789473684, 'eta': 0.8666666666666667, 'max_depth': 10, 'subsample': 1.0}... Be patient! ;)\n",
      "Testing for method <models.easyXGB object at 0x7ff6a6ea8940> with param.s {'reg_alpha': 0.9526315789473684, 'eta': 0.9, 'max_depth': 10, 'subsample': 1.0}... Be patient! ;)\n",
      "Testing for method <models.easyXGB object at 0x7ff6a6ea8940> with param.s {'reg_alpha': 0.9526315789473684, 'eta': 0.9333333333333333, 'max_depth': 10, 'subsample': 1.0}... Be patient! ;)\n",
      "Testing for method <models.easyXGB object at 0x7ff6a6ea8940> with param.s {'reg_alpha': 0.9526315789473684, 'eta': 0.9666666666666667, 'max_depth': 10, 'subsample': 1.0}... Be patient! ;)\n",
      "Testing for method <models.easyXGB object at 0x7ff6a6ea8940> with param.s {'reg_alpha': 0.9526315789473684, 'eta': 1.0, 'max_depth': 10, 'subsample': 1.0}... Be patient! ;)\n",
      "Testing for method <models.easyXGB object at 0x7ff6a6ea8940> with param.s {'reg_alpha': 0.9526315789473684, 'eta': 0.7, 'max_depth': 11, 'subsample': 1.0}... Be patient! ;)\n",
      "Testing for method <models.easyXGB object at 0x7ff6a6ea8940> with param.s {'reg_alpha': 0.9526315789473684, 'eta': 0.7333333333333333, 'max_depth': 11, 'subsample': 1.0}... Be patient! ;)\n",
      "Testing for method <models.easyXGB object at 0x7ff6a6ea8940> with param.s {'reg_alpha': 0.9526315789473684, 'eta': 0.7666666666666666, 'max_depth': 11, 'subsample': 1.0}... Be patient! ;)\n",
      "Testing for method <models.easyXGB object at 0x7ff6a6ea8940> with param.s {'reg_alpha': 0.9526315789473684, 'eta': 0.7999999999999999, 'max_depth': 11, 'subsample': 1.0}... Be patient! ;)\n",
      "Testing for method <models.easyXGB object at 0x7ff6a6ea8940> with param.s {'reg_alpha': 0.9526315789473684, 'eta': 0.8333333333333333, 'max_depth': 11, 'subsample': 1.0}... Be patient! ;)\n",
      "Testing for method <models.easyXGB object at 0x7ff6a6ea8940> with param.s {'reg_alpha': 0.9526315789473684, 'eta': 0.8666666666666667, 'max_depth': 11, 'subsample': 1.0}... Be patient! ;)\n",
      "Testing for method <models.easyXGB object at 0x7ff6a6ea8940> with param.s {'reg_alpha': 0.9526315789473684, 'eta': 0.9, 'max_depth': 11, 'subsample': 1.0}... Be patient! ;)\n",
      "Testing for method <models.easyXGB object at 0x7ff6a6ea8940> with param.s {'reg_alpha': 0.9526315789473684, 'eta': 0.9333333333333333, 'max_depth': 11, 'subsample': 1.0}... Be patient! ;)\n",
      "Testing for method <models.easyXGB object at 0x7ff6a6ea8940> with param.s {'reg_alpha': 0.9526315789473684, 'eta': 0.9666666666666667, 'max_depth': 11, 'subsample': 1.0}... Be patient! ;)\n",
      "Testing for method <models.easyXGB object at 0x7ff6a6ea8940> with param.s {'reg_alpha': 0.9526315789473684, 'eta': 1.0, 'max_depth': 11, 'subsample': 1.0}... Be patient! ;)\n",
      "Testing for method <models.easyXGB object at 0x7ff6a6ea8940> with param.s {'reg_alpha': 1.0, 'eta': 0.7, 'max_depth': 8, 'subsample': 1.0}... Be patient! ;)\n",
      "Testing for method <models.easyXGB object at 0x7ff6a6ea8940> with param.s {'reg_alpha': 1.0, 'eta': 0.7333333333333333, 'max_depth': 8, 'subsample': 1.0}... Be patient! ;)\n",
      "Testing for method <models.easyXGB object at 0x7ff6a6ea8940> with param.s {'reg_alpha': 1.0, 'eta': 0.7666666666666666, 'max_depth': 8, 'subsample': 1.0}... Be patient! ;)\n",
      "Testing for method <models.easyXGB object at 0x7ff6a6ea8940> with param.s {'reg_alpha': 1.0, 'eta': 0.7999999999999999, 'max_depth': 8, 'subsample': 1.0}... Be patient! ;)\n",
      "Testing for method <models.easyXGB object at 0x7ff6a6ea8940> with param.s {'reg_alpha': 1.0, 'eta': 0.8333333333333333, 'max_depth': 8, 'subsample': 1.0}... Be patient! ;)\n",
      "Testing for method <models.easyXGB object at 0x7ff6a6ea8940> with param.s {'reg_alpha': 1.0, 'eta': 0.8666666666666667, 'max_depth': 8, 'subsample': 1.0}... Be patient! ;)\n",
      "Testing for method <models.easyXGB object at 0x7ff6a6ea8940> with param.s {'reg_alpha': 1.0, 'eta': 0.9, 'max_depth': 8, 'subsample': 1.0}... Be patient! ;)\n",
      "Testing for method <models.easyXGB object at 0x7ff6a6ea8940> with param.s {'reg_alpha': 1.0, 'eta': 0.9333333333333333, 'max_depth': 8, 'subsample': 1.0}... Be patient! ;)\n",
      "Testing for method <models.easyXGB object at 0x7ff6a6ea8940> with param.s {'reg_alpha': 1.0, 'eta': 0.9666666666666667, 'max_depth': 8, 'subsample': 1.0}... Be patient! ;)\n",
      "Testing for method <models.easyXGB object at 0x7ff6a6ea8940> with param.s {'reg_alpha': 1.0, 'eta': 1.0, 'max_depth': 8, 'subsample': 1.0}... Be patient! ;)\n"
     ]
    },
    {
     "name": "stdout",
     "output_type": "stream",
     "text": [
      "Testing for method <models.easyXGB object at 0x7ff6a6ea8940> with param.s {'reg_alpha': 1.0, 'eta': 0.7, 'max_depth': 9, 'subsample': 1.0}... Be patient! ;)\n",
      "Testing for method <models.easyXGB object at 0x7ff6a6ea8940> with param.s {'reg_alpha': 1.0, 'eta': 0.7333333333333333, 'max_depth': 9, 'subsample': 1.0}... Be patient! ;)\n",
      "Testing for method <models.easyXGB object at 0x7ff6a6ea8940> with param.s {'reg_alpha': 1.0, 'eta': 0.7666666666666666, 'max_depth': 9, 'subsample': 1.0}... Be patient! ;)\n",
      "Testing for method <models.easyXGB object at 0x7ff6a6ea8940> with param.s {'reg_alpha': 1.0, 'eta': 0.7999999999999999, 'max_depth': 9, 'subsample': 1.0}... Be patient! ;)\n",
      "Testing for method <models.easyXGB object at 0x7ff6a6ea8940> with param.s {'reg_alpha': 1.0, 'eta': 0.8333333333333333, 'max_depth': 9, 'subsample': 1.0}... Be patient! ;)\n",
      "Testing for method <models.easyXGB object at 0x7ff6a6ea8940> with param.s {'reg_alpha': 1.0, 'eta': 0.8666666666666667, 'max_depth': 9, 'subsample': 1.0}... Be patient! ;)\n",
      "Testing for method <models.easyXGB object at 0x7ff6a6ea8940> with param.s {'reg_alpha': 1.0, 'eta': 0.9, 'max_depth': 9, 'subsample': 1.0}... Be patient! ;)\n",
      "Testing for method <models.easyXGB object at 0x7ff6a6ea8940> with param.s {'reg_alpha': 1.0, 'eta': 0.9333333333333333, 'max_depth': 9, 'subsample': 1.0}... Be patient! ;)\n",
      "Testing for method <models.easyXGB object at 0x7ff6a6ea8940> with param.s {'reg_alpha': 1.0, 'eta': 0.9666666666666667, 'max_depth': 9, 'subsample': 1.0}... Be patient! ;)\n",
      "Testing for method <models.easyXGB object at 0x7ff6a6ea8940> with param.s {'reg_alpha': 1.0, 'eta': 1.0, 'max_depth': 9, 'subsample': 1.0}... Be patient! ;)\n",
      "Testing for method <models.easyXGB object at 0x7ff6a6ea8940> with param.s {'reg_alpha': 1.0, 'eta': 0.7, 'max_depth': 10, 'subsample': 1.0}... Be patient! ;)\n",
      "Testing for method <models.easyXGB object at 0x7ff6a6ea8940> with param.s {'reg_alpha': 1.0, 'eta': 0.7333333333333333, 'max_depth': 10, 'subsample': 1.0}... Be patient! ;)\n",
      "Testing for method <models.easyXGB object at 0x7ff6a6ea8940> with param.s {'reg_alpha': 1.0, 'eta': 0.7666666666666666, 'max_depth': 10, 'subsample': 1.0}... Be patient! ;)\n",
      "Testing for method <models.easyXGB object at 0x7ff6a6ea8940> with param.s {'reg_alpha': 1.0, 'eta': 0.7999999999999999, 'max_depth': 10, 'subsample': 1.0}... Be patient! ;)\n",
      "Testing for method <models.easyXGB object at 0x7ff6a6ea8940> with param.s {'reg_alpha': 1.0, 'eta': 0.8333333333333333, 'max_depth': 10, 'subsample': 1.0}... Be patient! ;)\n",
      "Testing for method <models.easyXGB object at 0x7ff6a6ea8940> with param.s {'reg_alpha': 1.0, 'eta': 0.8666666666666667, 'max_depth': 10, 'subsample': 1.0}... Be patient! ;)\n",
      "Testing for method <models.easyXGB object at 0x7ff6a6ea8940> with param.s {'reg_alpha': 1.0, 'eta': 0.9, 'max_depth': 10, 'subsample': 1.0}... Be patient! ;)\n",
      "Testing for method <models.easyXGB object at 0x7ff6a6ea8940> with param.s {'reg_alpha': 1.0, 'eta': 0.9333333333333333, 'max_depth': 10, 'subsample': 1.0}... Be patient! ;)\n",
      "Testing for method <models.easyXGB object at 0x7ff6a6ea8940> with param.s {'reg_alpha': 1.0, 'eta': 0.9666666666666667, 'max_depth': 10, 'subsample': 1.0}... Be patient! ;)\n",
      "Testing for method <models.easyXGB object at 0x7ff6a6ea8940> with param.s {'reg_alpha': 1.0, 'eta': 1.0, 'max_depth': 10, 'subsample': 1.0}... Be patient! ;)\n",
      "Testing for method <models.easyXGB object at 0x7ff6a6ea8940> with param.s {'reg_alpha': 1.0, 'eta': 0.7, 'max_depth': 11, 'subsample': 1.0}... Be patient! ;)\n",
      "Testing for method <models.easyXGB object at 0x7ff6a6ea8940> with param.s {'reg_alpha': 1.0, 'eta': 0.7333333333333333, 'max_depth': 11, 'subsample': 1.0}... Be patient! ;)\n",
      "Testing for method <models.easyXGB object at 0x7ff6a6ea8940> with param.s {'reg_alpha': 1.0, 'eta': 0.7666666666666666, 'max_depth': 11, 'subsample': 1.0}... Be patient! ;)\n",
      "Testing for method <models.easyXGB object at 0x7ff6a6ea8940> with param.s {'reg_alpha': 1.0, 'eta': 0.7999999999999999, 'max_depth': 11, 'subsample': 1.0}... Be patient! ;)\n",
      "Testing for method <models.easyXGB object at 0x7ff6a6ea8940> with param.s {'reg_alpha': 1.0, 'eta': 0.8333333333333333, 'max_depth': 11, 'subsample': 1.0}... Be patient! ;)\n",
      "Testing for method <models.easyXGB object at 0x7ff6a6ea8940> with param.s {'reg_alpha': 1.0, 'eta': 0.8666666666666667, 'max_depth': 11, 'subsample': 1.0}... Be patient! ;)\n",
      "Testing for method <models.easyXGB object at 0x7ff6a6ea8940> with param.s {'reg_alpha': 1.0, 'eta': 0.9, 'max_depth': 11, 'subsample': 1.0}... Be patient! ;)\n",
      "Testing for method <models.easyXGB object at 0x7ff6a6ea8940> with param.s {'reg_alpha': 1.0, 'eta': 0.9333333333333333, 'max_depth': 11, 'subsample': 1.0}... Be patient! ;)\n",
      "Testing for method <models.easyXGB object at 0x7ff6a6ea8940> with param.s {'reg_alpha': 1.0, 'eta': 0.9666666666666667, 'max_depth': 11, 'subsample': 1.0}... Be patient! ;)\n",
      "Testing for method <models.easyXGB object at 0x7ff6a6ea8940> with param.s {'reg_alpha': 1.0, 'eta': 1.0, 'max_depth': 11, 'subsample': 1.0}... Be patient! ;)\n"
     ]
    },
    {
     "data": {
      "image/png": "[encoded data removed]",
      "text/plain": [
       "<Figure size 432x288 with 1 Axes>"
      ]
     },
     "metadata": {},
     "output_type": "display_data"
    }
   ],
   "source": [
    "loss_tr, loss_te, method = multi_cross_validation(X_train, y1_train, \n",
    "                                                  methods=methods, k_fold=7, seed=np.random.randint(1000))"
   ]
  },
  {
   "cell_type": "code",
   "execution_count": 12,
   "metadata": {
    "scrolled": true
   },
   "outputs": [
    {
     "name": "stdout",
     "output_type": "stream",
     "text": [
      "[<models.easyXGB object at 0x7ff6a6ea8940>, {'reg_alpha': 0.33684210526315794, 'eta': 0.7, 'max_depth': 9, 'subsample': 1.0}] \n",
      " MSE on train (CV):  0.00017079921840252747 \n",
      " MSE on test (CV) :  0.00018019262258437725\n"
     ]
    }
   ],
   "source": [
    "print(method, '\\n MSE on train (CV): ', loss_tr, '\\n MSE on test (CV) : ', loss_te)"
   ]
  },
  {
   "cell_type": "code",
   "execution_count": 10,
   "metadata": {},
   "outputs": [],
   "source": [
    "method = [0, {'reg_alpha': 0.33684210526315794, 'eta': 0.7, 'max_depth': 9, 'subsample': 1.0}]"
   ]
  },
  {
   "cell_type": "code",
   "execution_count": 11,
   "metadata": {
    "scrolled": false
   },
   "outputs": [],
   "source": [
    "easyXGBReg.fit(X_train, y1_train,  **method[1])"
   ]
  },
  {
   "cell_type": "code",
   "execution_count": 12,
   "metadata": {
    "scrolled": true
   },
   "outputs": [
    {
     "name": "stdout",
     "output_type": "stream",
     "text": [
      "MSE on train :  0.00016928357988114882 \n",
      " MSE on test :  0.00018327155365398135\n"
     ]
    }
   ],
   "source": [
    "print('MSE on train : ', easyXGBReg.score(X_train, y1_train), '\\n',\n",
    "     'MSE on test : ', easyXGBReg.score(X_test, y1_test))"
   ]
  },
  {
   "cell_type": "code",
   "execution_count": 14,
   "metadata": {
    "scrolled": true
   },
   "outputs": [
    {
     "data": {
      "text/plain": [
       "<matplotlib.axes._subplots.AxesSubplot at 0x7f3e2477a240>"
      ]
     },
     "execution_count": 14,
     "metadata": {},
     "output_type": "execute_result"
    },
    {
     "data": {
      "image/png": "[encoded data removed]",
      "text/plain": [
       "<Figure size 432x288 with 1 Axes>"
      ]
     },
     "metadata": {},
     "output_type": "display_data"
    }
   ],
   "source": [
    "xgb.plot_tree(easyXGBReg.model, num_trees=)"
   ]
  },
  {
   "cell_type": "code",
   "execution_count": 14,
   "metadata": {},
   "outputs": [],
   "source": [
    "easyXGBReg.save(1)"
   ]
  },
  {
   "cell_type": "markdown",
   "metadata": {},
   "source": [
    "## y2"
   ]
  },
  {
   "cell_type": "code",
   "execution_count": 34,
   "metadata": {
    "scrolled": true
   },
   "outputs": [
    {
     "name": "stdout",
     "output_type": "stream",
     "text": [
      "(91173, 5) (60783, 5)\n"
     ]
    }
   ],
   "source": [
    "X_train, X_test, y2_train, y2_test = train_test_split(X, y2, test_size=0.4)\n",
    "print(X_train.shape, X_test.shape)\n",
    "y2_train, y2_test = y2_train.values, y2_test.values"
   ]
  },
  {
   "cell_type": "code",
   "execution_count": 35,
   "metadata": {
    "scrolled": true
   },
   "outputs": [
    {
     "name": "stdout",
     "output_type": "stream",
     "text": [
      "Testing for method <models.easyXGB object at 0x7ff6a6ea8940> with param.s {'reg_alpha': 0.85, 'eta': 0.5, 'max_depth': 1, 'subsample': 1.0}... Be patient! ;)\n",
      "Testing for method <models.easyXGB object at 0x7ff6a6ea8940> with param.s {'reg_alpha': 0.85, 'eta': 0.55, 'max_depth': 1, 'subsample': 1.0}... Be patient! ;)\n",
      "Testing for method <models.easyXGB object at 0x7ff6a6ea8940> with param.s {'reg_alpha': 0.85, 'eta': 0.6, 'max_depth': 1, 'subsample': 1.0}... Be patient! ;)\n",
      "Testing for method <models.easyXGB object at 0x7ff6a6ea8940> with param.s {'reg_alpha': 0.85, 'eta': 0.6499999999999999, 'max_depth': 1, 'subsample': 1.0}... Be patient! ;)\n",
      "Testing for method <models.easyXGB object at 0x7ff6a6ea8940> with param.s {'reg_alpha': 0.85, 'eta': 0.7, 'max_depth': 1, 'subsample': 1.0}... Be patient! ;)\n",
      "Testing for method <models.easyXGB object at 0x7ff6a6ea8940> with param.s {'reg_alpha': 0.85, 'eta': 0.5, 'max_depth': 2, 'subsample': 1.0}... Be patient! ;)\n",
      "Testing for method <models.easyXGB object at 0x7ff6a6ea8940> with param.s {'reg_alpha': 0.85, 'eta': 0.55, 'max_depth': 2, 'subsample': 1.0}... Be patient! ;)\n",
      "Testing for method <models.easyXGB object at 0x7ff6a6ea8940> with param.s {'reg_alpha': 0.85, 'eta': 0.6, 'max_depth': 2, 'subsample': 1.0}... Be patient! ;)\n",
      "Testing for method <models.easyXGB object at 0x7ff6a6ea8940> with param.s {'reg_alpha': 0.85, 'eta': 0.6499999999999999, 'max_depth': 2, 'subsample': 1.0}... Be patient! ;)\n",
      "Testing for method <models.easyXGB object at 0x7ff6a6ea8940> with param.s {'reg_alpha': 0.85, 'eta': 0.7, 'max_depth': 2, 'subsample': 1.0}... Be patient! ;)\n",
      "Testing for method <models.easyXGB object at 0x7ff6a6ea8940> with param.s {'reg_alpha': 0.85, 'eta': 0.5, 'max_depth': 3, 'subsample': 1.0}... Be patient! ;)\n",
      "Testing for method <models.easyXGB object at 0x7ff6a6ea8940> with param.s {'reg_alpha': 0.85, 'eta': 0.55, 'max_depth': 3, 'subsample': 1.0}... Be patient! ;)\n",
      "Testing for method <models.easyXGB object at 0x7ff6a6ea8940> with param.s {'reg_alpha': 0.85, 'eta': 0.6, 'max_depth': 3, 'subsample': 1.0}... Be patient! ;)\n",
      "Testing for method <models.easyXGB object at 0x7ff6a6ea8940> with param.s {'reg_alpha': 0.85, 'eta': 0.6499999999999999, 'max_depth': 3, 'subsample': 1.0}... Be patient! ;)\n",
      "Testing for method <models.easyXGB object at 0x7ff6a6ea8940> with param.s {'reg_alpha': 0.85, 'eta': 0.7, 'max_depth': 3, 'subsample': 1.0}... Be patient! ;)\n",
      "Testing for method <models.easyXGB object at 0x7ff6a6ea8940> with param.s {'reg_alpha': 0.85, 'eta': 0.5, 'max_depth': 4, 'subsample': 1.0}... Be patient! ;)\n",
      "Testing for method <models.easyXGB object at 0x7ff6a6ea8940> with param.s {'reg_alpha': 0.85, 'eta': 0.55, 'max_depth': 4, 'subsample': 1.0}... Be patient! ;)\n",
      "Testing for method <models.easyXGB object at 0x7ff6a6ea8940> with param.s {'reg_alpha': 0.85, 'eta': 0.6, 'max_depth': 4, 'subsample': 1.0}... Be patient! ;)\n",
      "Testing for method <models.easyXGB object at 0x7ff6a6ea8940> with param.s {'reg_alpha': 0.85, 'eta': 0.6499999999999999, 'max_depth': 4, 'subsample': 1.0}... Be patient! ;)\n",
      "Testing for method <models.easyXGB object at 0x7ff6a6ea8940> with param.s {'reg_alpha': 0.85, 'eta': 0.7, 'max_depth': 4, 'subsample': 1.0}... Be patient! ;)\n",
      "Testing for method <models.easyXGB object at 0x7ff6a6ea8940> with param.s {'reg_alpha': 0.85, 'eta': 0.5, 'max_depth': 5, 'subsample': 1.0}... Be patient! ;)\n",
      "Testing for method <models.easyXGB object at 0x7ff6a6ea8940> with param.s {'reg_alpha': 0.85, 'eta': 0.55, 'max_depth': 5, 'subsample': 1.0}... Be patient! ;)\n",
      "Testing for method <models.easyXGB object at 0x7ff6a6ea8940> with param.s {'reg_alpha': 0.85, 'eta': 0.6, 'max_depth': 5, 'subsample': 1.0}... Be patient! ;)\n",
      "Testing for method <models.easyXGB object at 0x7ff6a6ea8940> with param.s {'reg_alpha': 0.85, 'eta': 0.6499999999999999, 'max_depth': 5, 'subsample': 1.0}... Be patient! ;)\n",
      "Testing for method <models.easyXGB object at 0x7ff6a6ea8940> with param.s {'reg_alpha': 0.85, 'eta': 0.7, 'max_depth': 5, 'subsample': 1.0}... Be patient! ;)\n",
      "Testing for method <models.easyXGB object at 0x7ff6a6ea8940> with param.s {'reg_alpha': 0.85, 'eta': 0.5, 'max_depth': 6, 'subsample': 1.0}... Be patient! ;)\n",
      "Testing for method <models.easyXGB object at 0x7ff6a6ea8940> with param.s {'reg_alpha': 0.85, 'eta': 0.55, 'max_depth': 6, 'subsample': 1.0}... Be patient! ;)\n",
      "Testing for method <models.easyXGB object at 0x7ff6a6ea8940> with param.s {'reg_alpha': 0.85, 'eta': 0.6, 'max_depth': 6, 'subsample': 1.0}... Be patient! ;)\n",
      "Testing for method <models.easyXGB object at 0x7ff6a6ea8940> with param.s {'reg_alpha': 0.85, 'eta': 0.6499999999999999, 'max_depth': 6, 'subsample': 1.0}... Be patient! ;)\n",
      "Testing for method <models.easyXGB object at 0x7ff6a6ea8940> with param.s {'reg_alpha': 0.85, 'eta': 0.7, 'max_depth': 6, 'subsample': 1.0}... Be patient! ;)\n",
      "Testing for method <models.easyXGB object at 0x7ff6a6ea8940> with param.s {'reg_alpha': 0.85, 'eta': 0.5, 'max_depth': 7, 'subsample': 1.0}... Be patient! ;)\n",
      "Testing for method <models.easyXGB object at 0x7ff6a6ea8940> with param.s {'reg_alpha': 0.85, 'eta': 0.55, 'max_depth': 7, 'subsample': 1.0}... Be patient! ;)\n",
      "Testing for method <models.easyXGB object at 0x7ff6a6ea8940> with param.s {'reg_alpha': 0.85, 'eta': 0.6, 'max_depth': 7, 'subsample': 1.0}... Be patient! ;)\n",
      "Testing for method <models.easyXGB object at 0x7ff6a6ea8940> with param.s {'reg_alpha': 0.85, 'eta': 0.6499999999999999, 'max_depth': 7, 'subsample': 1.0}... Be patient! ;)\n",
      "Testing for method <models.easyXGB object at 0x7ff6a6ea8940> with param.s {'reg_alpha': 0.85, 'eta': 0.7, 'max_depth': 7, 'subsample': 1.0}... Be patient! ;)\n",
      "Testing for method <models.easyXGB object at 0x7ff6a6ea8940> with param.s {'reg_alpha': 0.85, 'eta': 0.5, 'max_depth': 8, 'subsample': 1.0}... Be patient! ;)\n",
      "Testing for method <models.easyXGB object at 0x7ff6a6ea8940> with param.s {'reg_alpha': 0.85, 'eta': 0.55, 'max_depth': 8, 'subsample': 1.0}... Be patient! ;)\n",
      "Testing for method <models.easyXGB object at 0x7ff6a6ea8940> with param.s {'reg_alpha': 0.85, 'eta': 0.6, 'max_depth': 8, 'subsample': 1.0}... Be patient! ;)\n",
      "Testing for method <models.easyXGB object at 0x7ff6a6ea8940> with param.s {'reg_alpha': 0.85, 'eta': 0.6499999999999999, 'max_depth': 8, 'subsample': 1.0}... Be patient! ;)\n",
      "Testing for method <models.easyXGB object at 0x7ff6a6ea8940> with param.s {'reg_alpha': 0.85, 'eta': 0.7, 'max_depth': 8, 'subsample': 1.0}... Be patient! ;)\n",
      "Testing for method <models.easyXGB object at 0x7ff6a6ea8940> with param.s {'reg_alpha': 0.85, 'eta': 0.5, 'max_depth': 9, 'subsample': 1.0}... Be patient! ;)\n",
      "Testing for method <models.easyXGB object at 0x7ff6a6ea8940> with param.s {'reg_alpha': 0.85, 'eta': 0.55, 'max_depth': 9, 'subsample': 1.0}... Be patient! ;)\n",
      "Testing for method <models.easyXGB object at 0x7ff6a6ea8940> with param.s {'reg_alpha': 0.85, 'eta': 0.6, 'max_depth': 9, 'subsample': 1.0}... Be patient! ;)\n",
      "Testing for method <models.easyXGB object at 0x7ff6a6ea8940> with param.s {'reg_alpha': 0.85, 'eta': 0.6499999999999999, 'max_depth': 9, 'subsample': 1.0}... Be patient! ;)\n",
      "Testing for method <models.easyXGB object at 0x7ff6a6ea8940> with param.s {'reg_alpha': 0.85, 'eta': 0.7, 'max_depth': 9, 'subsample': 1.0}... Be patient! ;)\n",
      "Testing for method <models.easyXGB object at 0x7ff6a6ea8940> with param.s {'reg_alpha': 0.9, 'eta': 0.5, 'max_depth': 1, 'subsample': 1.0}... Be patient! ;)\n",
      "Testing for method <models.easyXGB object at 0x7ff6a6ea8940> with param.s {'reg_alpha': 0.9, 'eta': 0.55, 'max_depth': 1, 'subsample': 1.0}... Be patient! ;)\n",
      "Testing for method <models.easyXGB object at 0x7ff6a6ea8940> with param.s {'reg_alpha': 0.9, 'eta': 0.6, 'max_depth': 1, 'subsample': 1.0}... Be patient! ;)\n",
      "Testing for method <models.easyXGB object at 0x7ff6a6ea8940> with param.s {'reg_alpha': 0.9, 'eta': 0.6499999999999999, 'max_depth': 1, 'subsample': 1.0}... Be patient! ;)\n",
      "Testing for method <models.easyXGB object at 0x7ff6a6ea8940> with param.s {'reg_alpha': 0.9, 'eta': 0.7, 'max_depth': 1, 'subsample': 1.0}... Be patient! ;)\n",
      "Testing for method <models.easyXGB object at 0x7ff6a6ea8940> with param.s {'reg_alpha': 0.9, 'eta': 0.5, 'max_depth': 2, 'subsample': 1.0}... Be patient! ;)\n"
     ]
    },
    {
     "name": "stdout",
     "output_type": "stream",
     "text": [
      "Testing for method <models.easyXGB object at 0x7ff6a6ea8940> with param.s {'reg_alpha': 0.9, 'eta': 0.55, 'max_depth': 2, 'subsample': 1.0}... Be patient! ;)\n",
      "Testing for method <models.easyXGB object at 0x7ff6a6ea8940> with param.s {'reg_alpha': 0.9, 'eta': 0.6, 'max_depth': 2, 'subsample': 1.0}... Be patient! ;)\n",
      "Testing for method <models.easyXGB object at 0x7ff6a6ea8940> with param.s {'reg_alpha': 0.9, 'eta': 0.6499999999999999, 'max_depth': 2, 'subsample': 1.0}... Be patient! ;)\n",
      "Testing for method <models.easyXGB object at 0x7ff6a6ea8940> with param.s {'reg_alpha': 0.9, 'eta': 0.7, 'max_depth': 2, 'subsample': 1.0}... Be patient! ;)\n",
      "Testing for method <models.easyXGB object at 0x7ff6a6ea8940> with param.s {'reg_alpha': 0.9, 'eta': 0.5, 'max_depth': 3, 'subsample': 1.0}... Be patient! ;)\n",
      "Testing for method <models.easyXGB object at 0x7ff6a6ea8940> with param.s {'reg_alpha': 0.9, 'eta': 0.55, 'max_depth': 3, 'subsample': 1.0}... Be patient! ;)\n",
      "Testing for method <models.easyXGB object at 0x7ff6a6ea8940> with param.s {'reg_alpha': 0.9, 'eta': 0.6, 'max_depth': 3, 'subsample': 1.0}... Be patient! ;)\n",
      "Testing for method <models.easyXGB object at 0x7ff6a6ea8940> with param.s {'reg_alpha': 0.9, 'eta': 0.6499999999999999, 'max_depth': 3, 'subsample': 1.0}... Be patient! ;)\n",
      "Testing for method <models.easyXGB object at 0x7ff6a6ea8940> with param.s {'reg_alpha': 0.9, 'eta': 0.7, 'max_depth': 3, 'subsample': 1.0}... Be patient! ;)\n",
      "Testing for method <models.easyXGB object at 0x7ff6a6ea8940> with param.s {'reg_alpha': 0.9, 'eta': 0.5, 'max_depth': 4, 'subsample': 1.0}... Be patient! ;)\n",
      "Testing for method <models.easyXGB object at 0x7ff6a6ea8940> with param.s {'reg_alpha': 0.9, 'eta': 0.55, 'max_depth': 4, 'subsample': 1.0}... Be patient! ;)\n",
      "Testing for method <models.easyXGB object at 0x7ff6a6ea8940> with param.s {'reg_alpha': 0.9, 'eta': 0.6, 'max_depth': 4, 'subsample': 1.0}... Be patient! ;)\n",
      "Testing for method <models.easyXGB object at 0x7ff6a6ea8940> with param.s {'reg_alpha': 0.9, 'eta': 0.6499999999999999, 'max_depth': 4, 'subsample': 1.0}... Be patient! ;)\n",
      "Testing for method <models.easyXGB object at 0x7ff6a6ea8940> with param.s {'reg_alpha': 0.9, 'eta': 0.7, 'max_depth': 4, 'subsample': 1.0}... Be patient! ;)\n",
      "Testing for method <models.easyXGB object at 0x7ff6a6ea8940> with param.s {'reg_alpha': 0.9, 'eta': 0.5, 'max_depth': 5, 'subsample': 1.0}... Be patient! ;)\n",
      "Testing for method <models.easyXGB object at 0x7ff6a6ea8940> with param.s {'reg_alpha': 0.9, 'eta': 0.55, 'max_depth': 5, 'subsample': 1.0}... Be patient! ;)\n",
      "Testing for method <models.easyXGB object at 0x7ff6a6ea8940> with param.s {'reg_alpha': 0.9, 'eta': 0.6, 'max_depth': 5, 'subsample': 1.0}... Be patient! ;)\n",
      "Testing for method <models.easyXGB object at 0x7ff6a6ea8940> with param.s {'reg_alpha': 0.9, 'eta': 0.6499999999999999, 'max_depth': 5, 'subsample': 1.0}... Be patient! ;)\n",
      "Testing for method <models.easyXGB object at 0x7ff6a6ea8940> with param.s {'reg_alpha': 0.9, 'eta': 0.7, 'max_depth': 5, 'subsample': 1.0}... Be patient! ;)\n",
      "Testing for method <models.easyXGB object at 0x7ff6a6ea8940> with param.s {'reg_alpha': 0.9, 'eta': 0.5, 'max_depth': 6, 'subsample': 1.0}... Be patient! ;)\n",
      "Testing for method <models.easyXGB object at 0x7ff6a6ea8940> with param.s {'reg_alpha': 0.9, 'eta': 0.55, 'max_depth': 6, 'subsample': 1.0}... Be patient! ;)\n",
      "Testing for method <models.easyXGB object at 0x7ff6a6ea8940> with param.s {'reg_alpha': 0.9, 'eta': 0.6, 'max_depth': 6, 'subsample': 1.0}... Be patient! ;)\n",
      "Testing for method <models.easyXGB object at 0x7ff6a6ea8940> with param.s {'reg_alpha': 0.9, 'eta': 0.6499999999999999, 'max_depth': 6, 'subsample': 1.0}... Be patient! ;)\n",
      "Testing for method <models.easyXGB object at 0x7ff6a6ea8940> with param.s {'reg_alpha': 0.9, 'eta': 0.7, 'max_depth': 6, 'subsample': 1.0}... Be patient! ;)\n",
      "Testing for method <models.easyXGB object at 0x7ff6a6ea8940> with param.s {'reg_alpha': 0.9, 'eta': 0.5, 'max_depth': 7, 'subsample': 1.0}... Be patient! ;)\n",
      "Testing for method <models.easyXGB object at 0x7ff6a6ea8940> with param.s {'reg_alpha': 0.9, 'eta': 0.55, 'max_depth': 7, 'subsample': 1.0}... Be patient! ;)\n",
      "Testing for method <models.easyXGB object at 0x7ff6a6ea8940> with param.s {'reg_alpha': 0.9, 'eta': 0.6, 'max_depth': 7, 'subsample': 1.0}... Be patient! ;)\n",
      "Testing for method <models.easyXGB object at 0x7ff6a6ea8940> with param.s {'reg_alpha': 0.9, 'eta': 0.6499999999999999, 'max_depth': 7, 'subsample': 1.0}... Be patient! ;)\n",
      "Testing for method <models.easyXGB object at 0x7ff6a6ea8940> with param.s {'reg_alpha': 0.9, 'eta': 0.7, 'max_depth': 7, 'subsample': 1.0}... Be patient! ;)\n",
      "Testing for method <models.easyXGB object at 0x7ff6a6ea8940> with param.s {'reg_alpha': 0.9, 'eta': 0.5, 'max_depth': 8, 'subsample': 1.0}... Be patient! ;)\n",
      "Testing for method <models.easyXGB object at 0x7ff6a6ea8940> with param.s {'reg_alpha': 0.9, 'eta': 0.55, 'max_depth': 8, 'subsample': 1.0}... Be patient! ;)\n",
      "Testing for method <models.easyXGB object at 0x7ff6a6ea8940> with param.s {'reg_alpha': 0.9, 'eta': 0.6, 'max_depth': 8, 'subsample': 1.0}... Be patient! ;)\n",
      "Testing for method <models.easyXGB object at 0x7ff6a6ea8940> with param.s {'reg_alpha': 0.9, 'eta': 0.6499999999999999, 'max_depth': 8, 'subsample': 1.0}... Be patient! ;)\n",
      "Testing for method <models.easyXGB object at 0x7ff6a6ea8940> with param.s {'reg_alpha': 0.9, 'eta': 0.7, 'max_depth': 8, 'subsample': 1.0}... Be patient! ;)\n",
      "Testing for method <models.easyXGB object at 0x7ff6a6ea8940> with param.s {'reg_alpha': 0.9, 'eta': 0.5, 'max_depth': 9, 'subsample': 1.0}... Be patient! ;)\n",
      "Testing for method <models.easyXGB object at 0x7ff6a6ea8940> with param.s {'reg_alpha': 0.9, 'eta': 0.55, 'max_depth': 9, 'subsample': 1.0}... Be patient! ;)\n",
      "Testing for method <models.easyXGB object at 0x7ff6a6ea8940> with param.s {'reg_alpha': 0.9, 'eta': 0.6, 'max_depth': 9, 'subsample': 1.0}... Be patient! ;)\n",
      "Testing for method <models.easyXGB object at 0x7ff6a6ea8940> with param.s {'reg_alpha': 0.9, 'eta': 0.6499999999999999, 'max_depth': 9, 'subsample': 1.0}... Be patient! ;)\n",
      "Testing for method <models.easyXGB object at 0x7ff6a6ea8940> with param.s {'reg_alpha': 0.9, 'eta': 0.7, 'max_depth': 9, 'subsample': 1.0}... Be patient! ;)\n",
      "Testing for method <models.easyXGB object at 0x7ff6a6ea8940> with param.s {'reg_alpha': 0.95, 'eta': 0.5, 'max_depth': 1, 'subsample': 1.0}... Be patient! ;)\n",
      "Testing for method <models.easyXGB object at 0x7ff6a6ea8940> with param.s {'reg_alpha': 0.95, 'eta': 0.55, 'max_depth': 1, 'subsample': 1.0}... Be patient! ;)\n",
      "Testing for method <models.easyXGB object at 0x7ff6a6ea8940> with param.s {'reg_alpha': 0.95, 'eta': 0.6, 'max_depth': 1, 'subsample': 1.0}... Be patient! ;)\n",
      "Testing for method <models.easyXGB object at 0x7ff6a6ea8940> with param.s {'reg_alpha': 0.95, 'eta': 0.6499999999999999, 'max_depth': 1, 'subsample': 1.0}... Be patient! ;)\n",
      "Testing for method <models.easyXGB object at 0x7ff6a6ea8940> with param.s {'reg_alpha': 0.95, 'eta': 0.7, 'max_depth': 1, 'subsample': 1.0}... Be patient! ;)\n",
      "Testing for method <models.easyXGB object at 0x7ff6a6ea8940> with param.s {'reg_alpha': 0.95, 'eta': 0.5, 'max_depth': 2, 'subsample': 1.0}... Be patient! ;)\n",
      "Testing for method <models.easyXGB object at 0x7ff6a6ea8940> with param.s {'reg_alpha': 0.95, 'eta': 0.55, 'max_depth': 2, 'subsample': 1.0}... Be patient! ;)\n",
      "Testing for method <models.easyXGB object at 0x7ff6a6ea8940> with param.s {'reg_alpha': 0.95, 'eta': 0.6, 'max_depth': 2, 'subsample': 1.0}... Be patient! ;)\n",
      "Testing for method <models.easyXGB object at 0x7ff6a6ea8940> with param.s {'reg_alpha': 0.95, 'eta': 0.6499999999999999, 'max_depth': 2, 'subsample': 1.0}... Be patient! ;)\n",
      "Testing for method <models.easyXGB object at 0x7ff6a6ea8940> with param.s {'reg_alpha': 0.95, 'eta': 0.7, 'max_depth': 2, 'subsample': 1.0}... Be patient! ;)\n",
      "Testing for method <models.easyXGB object at 0x7ff6a6ea8940> with param.s {'reg_alpha': 0.95, 'eta': 0.5, 'max_depth': 3, 'subsample': 1.0}... Be patient! ;)\n",
      "Testing for method <models.easyXGB object at 0x7ff6a6ea8940> with param.s {'reg_alpha': 0.95, 'eta': 0.55, 'max_depth': 3, 'subsample': 1.0}... Be patient! ;)\n",
      "Testing for method <models.easyXGB object at 0x7ff6a6ea8940> with param.s {'reg_alpha': 0.95, 'eta': 0.6, 'max_depth': 3, 'subsample': 1.0}... Be patient! ;)\n"
     ]
    },
    {
     "name": "stdout",
     "output_type": "stream",
     "text": [
      "Testing for method <models.easyXGB object at 0x7ff6a6ea8940> with param.s {'reg_alpha': 0.95, 'eta': 0.6499999999999999, 'max_depth': 3, 'subsample': 1.0}... Be patient! ;)\n",
      "Testing for method <models.easyXGB object at 0x7ff6a6ea8940> with param.s {'reg_alpha': 0.95, 'eta': 0.7, 'max_depth': 3, 'subsample': 1.0}... Be patient! ;)\n",
      "Testing for method <models.easyXGB object at 0x7ff6a6ea8940> with param.s {'reg_alpha': 0.95, 'eta': 0.5, 'max_depth': 4, 'subsample': 1.0}... Be patient! ;)\n",
      "Testing for method <models.easyXGB object at 0x7ff6a6ea8940> with param.s {'reg_alpha': 0.95, 'eta': 0.55, 'max_depth': 4, 'subsample': 1.0}... Be patient! ;)\n",
      "Testing for method <models.easyXGB object at 0x7ff6a6ea8940> with param.s {'reg_alpha': 0.95, 'eta': 0.6, 'max_depth': 4, 'subsample': 1.0}... Be patient! ;)\n",
      "Testing for method <models.easyXGB object at 0x7ff6a6ea8940> with param.s {'reg_alpha': 0.95, 'eta': 0.6499999999999999, 'max_depth': 4, 'subsample': 1.0}... Be patient! ;)\n",
      "Testing for method <models.easyXGB object at 0x7ff6a6ea8940> with param.s {'reg_alpha': 0.95, 'eta': 0.7, 'max_depth': 4, 'subsample': 1.0}... Be patient! ;)\n",
      "Testing for method <models.easyXGB object at 0x7ff6a6ea8940> with param.s {'reg_alpha': 0.95, 'eta': 0.5, 'max_depth': 5, 'subsample': 1.0}... Be patient! ;)\n",
      "Testing for method <models.easyXGB object at 0x7ff6a6ea8940> with param.s {'reg_alpha': 0.95, 'eta': 0.55, 'max_depth': 5, 'subsample': 1.0}... Be patient! ;)\n",
      "Testing for method <models.easyXGB object at 0x7ff6a6ea8940> with param.s {'reg_alpha': 0.95, 'eta': 0.6, 'max_depth': 5, 'subsample': 1.0}... Be patient! ;)\n",
      "Testing for method <models.easyXGB object at 0x7ff6a6ea8940> with param.s {'reg_alpha': 0.95, 'eta': 0.6499999999999999, 'max_depth': 5, 'subsample': 1.0}... Be patient! ;)\n",
      "Testing for method <models.easyXGB object at 0x7ff6a6ea8940> with param.s {'reg_alpha': 0.95, 'eta': 0.7, 'max_depth': 5, 'subsample': 1.0}... Be patient! ;)\n",
      "Testing for method <models.easyXGB object at 0x7ff6a6ea8940> with param.s {'reg_alpha': 0.95, 'eta': 0.5, 'max_depth': 6, 'subsample': 1.0}... Be patient! ;)\n",
      "Testing for method <models.easyXGB object at 0x7ff6a6ea8940> with param.s {'reg_alpha': 0.95, 'eta': 0.55, 'max_depth': 6, 'subsample': 1.0}... Be patient! ;)\n",
      "Testing for method <models.easyXGB object at 0x7ff6a6ea8940> with param.s {'reg_alpha': 0.95, 'eta': 0.6, 'max_depth': 6, 'subsample': 1.0}... Be patient! ;)\n",
      "Testing for method <models.easyXGB object at 0x7ff6a6ea8940> with param.s {'reg_alpha': 0.95, 'eta': 0.6499999999999999, 'max_depth': 6, 'subsample': 1.0}... Be patient! ;)\n",
      "Testing for method <models.easyXGB object at 0x7ff6a6ea8940> with param.s {'reg_alpha': 0.95, 'eta': 0.7, 'max_depth': 6, 'subsample': 1.0}... Be patient! ;)\n",
      "Testing for method <models.easyXGB object at 0x7ff6a6ea8940> with param.s {'reg_alpha': 0.95, 'eta': 0.5, 'max_depth': 7, 'subsample': 1.0}... Be patient! ;)\n",
      "Testing for method <models.easyXGB object at 0x7ff6a6ea8940> with param.s {'reg_alpha': 0.95, 'eta': 0.55, 'max_depth': 7, 'subsample': 1.0}... Be patient! ;)\n",
      "Testing for method <models.easyXGB object at 0x7ff6a6ea8940> with param.s {'reg_alpha': 0.95, 'eta': 0.6, 'max_depth': 7, 'subsample': 1.0}... Be patient! ;)\n",
      "Testing for method <models.easyXGB object at 0x7ff6a6ea8940> with param.s {'reg_alpha': 0.95, 'eta': 0.6499999999999999, 'max_depth': 7, 'subsample': 1.0}... Be patient! ;)\n",
      "Testing for method <models.easyXGB object at 0x7ff6a6ea8940> with param.s {'reg_alpha': 0.95, 'eta': 0.7, 'max_depth': 7, 'subsample': 1.0}... Be patient! ;)\n",
      "Testing for method <models.easyXGB object at 0x7ff6a6ea8940> with param.s {'reg_alpha': 0.95, 'eta': 0.5, 'max_depth': 8, 'subsample': 1.0}... Be patient! ;)\n",
      "Testing for method <models.easyXGB object at 0x7ff6a6ea8940> with param.s {'reg_alpha': 0.95, 'eta': 0.55, 'max_depth': 8, 'subsample': 1.0}... Be patient! ;)\n",
      "Testing for method <models.easyXGB object at 0x7ff6a6ea8940> with param.s {'reg_alpha': 0.95, 'eta': 0.6, 'max_depth': 8, 'subsample': 1.0}... Be patient! ;)\n",
      "Testing for method <models.easyXGB object at 0x7ff6a6ea8940> with param.s {'reg_alpha': 0.95, 'eta': 0.6499999999999999, 'max_depth': 8, 'subsample': 1.0}... Be patient! ;)\n",
      "Testing for method <models.easyXGB object at 0x7ff6a6ea8940> with param.s {'reg_alpha': 0.95, 'eta': 0.7, 'max_depth': 8, 'subsample': 1.0}... Be patient! ;)\n",
      "Testing for method <models.easyXGB object at 0x7ff6a6ea8940> with param.s {'reg_alpha': 0.95, 'eta': 0.5, 'max_depth': 9, 'subsample': 1.0}... Be patient! ;)\n",
      "Testing for method <models.easyXGB object at 0x7ff6a6ea8940> with param.s {'reg_alpha': 0.95, 'eta': 0.55, 'max_depth': 9, 'subsample': 1.0}... Be patient! ;)\n",
      "Testing for method <models.easyXGB object at 0x7ff6a6ea8940> with param.s {'reg_alpha': 0.95, 'eta': 0.6, 'max_depth': 9, 'subsample': 1.0}... Be patient! ;)\n",
      "Testing for method <models.easyXGB object at 0x7ff6a6ea8940> with param.s {'reg_alpha': 0.95, 'eta': 0.6499999999999999, 'max_depth': 9, 'subsample': 1.0}... Be patient! ;)\n",
      "Testing for method <models.easyXGB object at 0x7ff6a6ea8940> with param.s {'reg_alpha': 0.95, 'eta': 0.7, 'max_depth': 9, 'subsample': 1.0}... Be patient! ;)\n",
      "Testing for method <models.easyXGB object at 0x7ff6a6ea8940> with param.s {'reg_alpha': 1.0, 'eta': 0.5, 'max_depth': 1, 'subsample': 1.0}... Be patient! ;)\n",
      "Testing for method <models.easyXGB object at 0x7ff6a6ea8940> with param.s {'reg_alpha': 1.0, 'eta': 0.55, 'max_depth': 1, 'subsample': 1.0}... Be patient! ;)\n",
      "Testing for method <models.easyXGB object at 0x7ff6a6ea8940> with param.s {'reg_alpha': 1.0, 'eta': 0.6, 'max_depth': 1, 'subsample': 1.0}... Be patient! ;)\n",
      "Testing for method <models.easyXGB object at 0x7ff6a6ea8940> with param.s {'reg_alpha': 1.0, 'eta': 0.6499999999999999, 'max_depth': 1, 'subsample': 1.0}... Be patient! ;)\n",
      "Testing for method <models.easyXGB object at 0x7ff6a6ea8940> with param.s {'reg_alpha': 1.0, 'eta': 0.7, 'max_depth': 1, 'subsample': 1.0}... Be patient! ;)\n",
      "Testing for method <models.easyXGB object at 0x7ff6a6ea8940> with param.s {'reg_alpha': 1.0, 'eta': 0.5, 'max_depth': 2, 'subsample': 1.0}... Be patient! ;)\n",
      "Testing for method <models.easyXGB object at 0x7ff6a6ea8940> with param.s {'reg_alpha': 1.0, 'eta': 0.55, 'max_depth': 2, 'subsample': 1.0}... Be patient! ;)\n",
      "Testing for method <models.easyXGB object at 0x7ff6a6ea8940> with param.s {'reg_alpha': 1.0, 'eta': 0.6, 'max_depth': 2, 'subsample': 1.0}... Be patient! ;)\n",
      "Testing for method <models.easyXGB object at 0x7ff6a6ea8940> with param.s {'reg_alpha': 1.0, 'eta': 0.6499999999999999, 'max_depth': 2, 'subsample': 1.0}... Be patient! ;)\n",
      "Testing for method <models.easyXGB object at 0x7ff6a6ea8940> with param.s {'reg_alpha': 1.0, 'eta': 0.7, 'max_depth': 2, 'subsample': 1.0}... Be patient! ;)\n",
      "Testing for method <models.easyXGB object at 0x7ff6a6ea8940> with param.s {'reg_alpha': 1.0, 'eta': 0.5, 'max_depth': 3, 'subsample': 1.0}... Be patient! ;)\n",
      "Testing for method <models.easyXGB object at 0x7ff6a6ea8940> with param.s {'reg_alpha': 1.0, 'eta': 0.55, 'max_depth': 3, 'subsample': 1.0}... Be patient! ;)\n",
      "Testing for method <models.easyXGB object at 0x7ff6a6ea8940> with param.s {'reg_alpha': 1.0, 'eta': 0.6, 'max_depth': 3, 'subsample': 1.0}... Be patient! ;)\n",
      "Testing for method <models.easyXGB object at 0x7ff6a6ea8940> with param.s {'reg_alpha': 1.0, 'eta': 0.6499999999999999, 'max_depth': 3, 'subsample': 1.0}... Be patient! ;)\n",
      "Testing for method <models.easyXGB object at 0x7ff6a6ea8940> with param.s {'reg_alpha': 1.0, 'eta': 0.7, 'max_depth': 3, 'subsample': 1.0}... Be patient! ;)\n",
      "Testing for method <models.easyXGB object at 0x7ff6a6ea8940> with param.s {'reg_alpha': 1.0, 'eta': 0.5, 'max_depth': 4, 'subsample': 1.0}... Be patient! ;)\n",
      "Testing for method <models.easyXGB object at 0x7ff6a6ea8940> with param.s {'reg_alpha': 1.0, 'eta': 0.55, 'max_depth': 4, 'subsample': 1.0}... Be patient! ;)\n",
      "Testing for method <models.easyXGB object at 0x7ff6a6ea8940> with param.s {'reg_alpha': 1.0, 'eta': 0.6, 'max_depth': 4, 'subsample': 1.0}... Be patient! ;)\n",
      "Testing for method <models.easyXGB object at 0x7ff6a6ea8940> with param.s {'reg_alpha': 1.0, 'eta': 0.6499999999999999, 'max_depth': 4, 'subsample': 1.0}... Be patient! ;)\n"
     ]
    },
    {
     "name": "stdout",
     "output_type": "stream",
     "text": [
      "Testing for method <models.easyXGB object at 0x7ff6a6ea8940> with param.s {'reg_alpha': 1.0, 'eta': 0.7, 'max_depth': 4, 'subsample': 1.0}... Be patient! ;)\n",
      "Testing for method <models.easyXGB object at 0x7ff6a6ea8940> with param.s {'reg_alpha': 1.0, 'eta': 0.5, 'max_depth': 5, 'subsample': 1.0}... Be patient! ;)\n",
      "Testing for method <models.easyXGB object at 0x7ff6a6ea8940> with param.s {'reg_alpha': 1.0, 'eta': 0.55, 'max_depth': 5, 'subsample': 1.0}... Be patient! ;)\n",
      "Testing for method <models.easyXGB object at 0x7ff6a6ea8940> with param.s {'reg_alpha': 1.0, 'eta': 0.6, 'max_depth': 5, 'subsample': 1.0}... Be patient! ;)\n",
      "Testing for method <models.easyXGB object at 0x7ff6a6ea8940> with param.s {'reg_alpha': 1.0, 'eta': 0.6499999999999999, 'max_depth': 5, 'subsample': 1.0}... Be patient! ;)\n",
      "Testing for method <models.easyXGB object at 0x7ff6a6ea8940> with param.s {'reg_alpha': 1.0, 'eta': 0.7, 'max_depth': 5, 'subsample': 1.0}... Be patient! ;)\n",
      "Testing for method <models.easyXGB object at 0x7ff6a6ea8940> with param.s {'reg_alpha': 1.0, 'eta': 0.5, 'max_depth': 6, 'subsample': 1.0}... Be patient! ;)\n",
      "Testing for method <models.easyXGB object at 0x7ff6a6ea8940> with param.s {'reg_alpha': 1.0, 'eta': 0.55, 'max_depth': 6, 'subsample': 1.0}... Be patient! ;)\n",
      "Testing for method <models.easyXGB object at 0x7ff6a6ea8940> with param.s {'reg_alpha': 1.0, 'eta': 0.6, 'max_depth': 6, 'subsample': 1.0}... Be patient! ;)\n",
      "Testing for method <models.easyXGB object at 0x7ff6a6ea8940> with param.s {'reg_alpha': 1.0, 'eta': 0.6499999999999999, 'max_depth': 6, 'subsample': 1.0}... Be patient! ;)\n",
      "Testing for method <models.easyXGB object at 0x7ff6a6ea8940> with param.s {'reg_alpha': 1.0, 'eta': 0.7, 'max_depth': 6, 'subsample': 1.0}... Be patient! ;)\n",
      "Testing for method <models.easyXGB object at 0x7ff6a6ea8940> with param.s {'reg_alpha': 1.0, 'eta': 0.5, 'max_depth': 7, 'subsample': 1.0}... Be patient! ;)\n",
      "Testing for method <models.easyXGB object at 0x7ff6a6ea8940> with param.s {'reg_alpha': 1.0, 'eta': 0.55, 'max_depth': 7, 'subsample': 1.0}... Be patient! ;)\n",
      "Testing for method <models.easyXGB object at 0x7ff6a6ea8940> with param.s {'reg_alpha': 1.0, 'eta': 0.6, 'max_depth': 7, 'subsample': 1.0}... Be patient! ;)\n",
      "Testing for method <models.easyXGB object at 0x7ff6a6ea8940> with param.s {'reg_alpha': 1.0, 'eta': 0.6499999999999999, 'max_depth': 7, 'subsample': 1.0}... Be patient! ;)\n",
      "Testing for method <models.easyXGB object at 0x7ff6a6ea8940> with param.s {'reg_alpha': 1.0, 'eta': 0.7, 'max_depth': 7, 'subsample': 1.0}... Be patient! ;)\n",
      "Testing for method <models.easyXGB object at 0x7ff6a6ea8940> with param.s {'reg_alpha': 1.0, 'eta': 0.5, 'max_depth': 8, 'subsample': 1.0}... Be patient! ;)\n",
      "Testing for method <models.easyXGB object at 0x7ff6a6ea8940> with param.s {'reg_alpha': 1.0, 'eta': 0.55, 'max_depth': 8, 'subsample': 1.0}... Be patient! ;)\n",
      "Testing for method <models.easyXGB object at 0x7ff6a6ea8940> with param.s {'reg_alpha': 1.0, 'eta': 0.6, 'max_depth': 8, 'subsample': 1.0}... Be patient! ;)\n",
      "Testing for method <models.easyXGB object at 0x7ff6a6ea8940> with param.s {'reg_alpha': 1.0, 'eta': 0.6499999999999999, 'max_depth': 8, 'subsample': 1.0}... Be patient! ;)\n",
      "Testing for method <models.easyXGB object at 0x7ff6a6ea8940> with param.s {'reg_alpha': 1.0, 'eta': 0.7, 'max_depth': 8, 'subsample': 1.0}... Be patient! ;)\n",
      "Testing for method <models.easyXGB object at 0x7ff6a6ea8940> with param.s {'reg_alpha': 1.0, 'eta': 0.5, 'max_depth': 9, 'subsample': 1.0}... Be patient! ;)\n",
      "Testing for method <models.easyXGB object at 0x7ff6a6ea8940> with param.s {'reg_alpha': 1.0, 'eta': 0.55, 'max_depth': 9, 'subsample': 1.0}... Be patient! ;)\n",
      "Testing for method <models.easyXGB object at 0x7ff6a6ea8940> with param.s {'reg_alpha': 1.0, 'eta': 0.6, 'max_depth': 9, 'subsample': 1.0}... Be patient! ;)\n",
      "Testing for method <models.easyXGB object at 0x7ff6a6ea8940> with param.s {'reg_alpha': 1.0, 'eta': 0.6499999999999999, 'max_depth': 9, 'subsample': 1.0}... Be patient! ;)\n",
      "Testing for method <models.easyXGB object at 0x7ff6a6ea8940> with param.s {'reg_alpha': 1.0, 'eta': 0.7, 'max_depth': 9, 'subsample': 1.0}... Be patient! ;)\n"
     ]
    },
    {
     "data": {
      "image/png": "[encoded data removed]",
      "text/plain": [
       "<Figure size 432x288 with 1 Axes>"
      ]
     },
     "metadata": {},
     "output_type": "display_data"
    }
   ],
   "source": [
    "loss_tr, loss_te, method = multi_cross_validation(X_train, y2_train, \n",
    "                                                  methods=methods, k_fold=7, seed=np.random.randint(1000))"
   ]
  },
  {
   "cell_type": "code",
   "execution_count": 36,
   "metadata": {
    "scrolled": true
   },
   "outputs": [
    {
     "name": "stdout",
     "output_type": "stream",
     "text": [
      "[<models.easyXGB object at 0x7ff6a6ea8940>, {'reg_alpha': 0.9, 'eta': 0.6, 'max_depth': 4, 'subsample': 1.0}] \n",
      " MSE on train (CV):  0.01366229676867241 \n",
      " MSE on test (CV) :  0.013723096054249826\n"
     ]
    }
   ],
   "source": [
    "print(method, '\\n MSE on train (CV): ', loss_tr, '\\n MSE on test (CV) : ', loss_te)"
   ]
  },
  {
   "cell_type": "code",
   "execution_count": 37,
   "metadata": {
    "scrolled": true
   },
   "outputs": [
    {
     "name": "stdout",
     "output_type": "stream",
     "text": [
      "MSE on train :  0.01366606342023694 \n",
      " MSE on test :  0.013683734608857991\n"
     ]
    }
   ],
   "source": [
    "easyXGBReg.fit(X_train, y2_train,  **method[1])\n",
    "\n",
    "print('MSE on train : ', easyXGBReg.score(X_train, y2_train), '\\n',\n",
    "     'MSE on test : ', easyXGBReg.score(X_test, y2_test))\n",
    "\n"
   ]
  },
  {
   "cell_type": "markdown",
   "metadata": {},
   "source": [
    "## y3"
   ]
  },
  {
   "cell_type": "code",
   "execution_count": 38,
   "metadata": {},
   "outputs": [
    {
     "name": "stdout",
     "output_type": "stream",
     "text": [
      "(91173, 5) (60783, 5)\n"
     ]
    }
   ],
   "source": [
    "X_train, X_test, y3_train, y3_test = train_test_split(X, y3, test_size=0.4)\n",
    "print(X_train.shape, X_test.shape)\n",
    "y3_train, y3_test = y3_train.values, y3_test.values"
   ]
  },
  {
   "cell_type": "code",
   "execution_count": 39,
   "metadata": {
    "scrolled": true
   },
   "outputs": [
    {
     "name": "stdout",
     "output_type": "stream",
     "text": [
      "Testing for method <models.easyXGB object at 0x7ff6a6ea8940> with param.s {'reg_alpha': 0.85, 'eta': 0.5, 'max_depth': 1, 'subsample': 1.0}... Be patient! ;)\n",
      "Testing for method <models.easyXGB object at 0x7ff6a6ea8940> with param.s {'reg_alpha': 0.85, 'eta': 0.55, 'max_depth': 1, 'subsample': 1.0}... Be patient! ;)\n",
      "Testing for method <models.easyXGB object at 0x7ff6a6ea8940> with param.s {'reg_alpha': 0.85, 'eta': 0.6, 'max_depth': 1, 'subsample': 1.0}... Be patient! ;)\n",
      "Testing for method <models.easyXGB object at 0x7ff6a6ea8940> with param.s {'reg_alpha': 0.85, 'eta': 0.6499999999999999, 'max_depth': 1, 'subsample': 1.0}... Be patient! ;)\n",
      "Testing for method <models.easyXGB object at 0x7ff6a6ea8940> with param.s {'reg_alpha': 0.85, 'eta': 0.7, 'max_depth': 1, 'subsample': 1.0}... Be patient! ;)\n",
      "Testing for method <models.easyXGB object at 0x7ff6a6ea8940> with param.s {'reg_alpha': 0.85, 'eta': 0.5, 'max_depth': 2, 'subsample': 1.0}... Be patient! ;)\n",
      "Testing for method <models.easyXGB object at 0x7ff6a6ea8940> with param.s {'reg_alpha': 0.85, 'eta': 0.55, 'max_depth': 2, 'subsample': 1.0}... Be patient! ;)\n",
      "Testing for method <models.easyXGB object at 0x7ff6a6ea8940> with param.s {'reg_alpha': 0.85, 'eta': 0.6, 'max_depth': 2, 'subsample': 1.0}... Be patient! ;)\n",
      "Testing for method <models.easyXGB object at 0x7ff6a6ea8940> with param.s {'reg_alpha': 0.85, 'eta': 0.6499999999999999, 'max_depth': 2, 'subsample': 1.0}... Be patient! ;)\n",
      "Testing for method <models.easyXGB object at 0x7ff6a6ea8940> with param.s {'reg_alpha': 0.85, 'eta': 0.7, 'max_depth': 2, 'subsample': 1.0}... Be patient! ;)\n",
      "Testing for method <models.easyXGB object at 0x7ff6a6ea8940> with param.s {'reg_alpha': 0.85, 'eta': 0.5, 'max_depth': 3, 'subsample': 1.0}... Be patient! ;)\n",
      "Testing for method <models.easyXGB object at 0x7ff6a6ea8940> with param.s {'reg_alpha': 0.85, 'eta': 0.55, 'max_depth': 3, 'subsample': 1.0}... Be patient! ;)\n",
      "Testing for method <models.easyXGB object at 0x7ff6a6ea8940> with param.s {'reg_alpha': 0.85, 'eta': 0.6, 'max_depth': 3, 'subsample': 1.0}... Be patient! ;)\n",
      "Testing for method <models.easyXGB object at 0x7ff6a6ea8940> with param.s {'reg_alpha': 0.85, 'eta': 0.6499999999999999, 'max_depth': 3, 'subsample': 1.0}... Be patient! ;)\n",
      "Testing for method <models.easyXGB object at 0x7ff6a6ea8940> with param.s {'reg_alpha': 0.85, 'eta': 0.7, 'max_depth': 3, 'subsample': 1.0}... Be patient! ;)\n",
      "Testing for method <models.easyXGB object at 0x7ff6a6ea8940> with param.s {'reg_alpha': 0.85, 'eta': 0.5, 'max_depth': 4, 'subsample': 1.0}... Be patient! ;)\n",
      "Testing for method <models.easyXGB object at 0x7ff6a6ea8940> with param.s {'reg_alpha': 0.85, 'eta': 0.55, 'max_depth': 4, 'subsample': 1.0}... Be patient! ;)\n",
      "Testing for method <models.easyXGB object at 0x7ff6a6ea8940> with param.s {'reg_alpha': 0.85, 'eta': 0.6, 'max_depth': 4, 'subsample': 1.0}... Be patient! ;)\n",
      "Testing for method <models.easyXGB object at 0x7ff6a6ea8940> with param.s {'reg_alpha': 0.85, 'eta': 0.6499999999999999, 'max_depth': 4, 'subsample': 1.0}... Be patient! ;)\n",
      "Testing for method <models.easyXGB object at 0x7ff6a6ea8940> with param.s {'reg_alpha': 0.85, 'eta': 0.7, 'max_depth': 4, 'subsample': 1.0}... Be patient! ;)\n",
      "Testing for method <models.easyXGB object at 0x7ff6a6ea8940> with param.s {'reg_alpha': 0.85, 'eta': 0.5, 'max_depth': 5, 'subsample': 1.0}... Be patient! ;)\n",
      "Testing for method <models.easyXGB object at 0x7ff6a6ea8940> with param.s {'reg_alpha': 0.85, 'eta': 0.55, 'max_depth': 5, 'subsample': 1.0}... Be patient! ;)\n",
      "Testing for method <models.easyXGB object at 0x7ff6a6ea8940> with param.s {'reg_alpha': 0.85, 'eta': 0.6, 'max_depth': 5, 'subsample': 1.0}... Be patient! ;)\n",
      "Testing for method <models.easyXGB object at 0x7ff6a6ea8940> with param.s {'reg_alpha': 0.85, 'eta': 0.6499999999999999, 'max_depth': 5, 'subsample': 1.0}... Be patient! ;)\n",
      "Testing for method <models.easyXGB object at 0x7ff6a6ea8940> with param.s {'reg_alpha': 0.85, 'eta': 0.7, 'max_depth': 5, 'subsample': 1.0}... Be patient! ;)\n",
      "Testing for method <models.easyXGB object at 0x7ff6a6ea8940> with param.s {'reg_alpha': 0.85, 'eta': 0.5, 'max_depth': 6, 'subsample': 1.0}... Be patient! ;)\n",
      "Testing for method <models.easyXGB object at 0x7ff6a6ea8940> with param.s {'reg_alpha': 0.85, 'eta': 0.55, 'max_depth': 6, 'subsample': 1.0}... Be patient! ;)\n",
      "Testing for method <models.easyXGB object at 0x7ff6a6ea8940> with param.s {'reg_alpha': 0.85, 'eta': 0.6, 'max_depth': 6, 'subsample': 1.0}... Be patient! ;)\n",
      "Testing for method <models.easyXGB object at 0x7ff6a6ea8940> with param.s {'reg_alpha': 0.85, 'eta': 0.6499999999999999, 'max_depth': 6, 'subsample': 1.0}... Be patient! ;)\n",
      "Testing for method <models.easyXGB object at 0x7ff6a6ea8940> with param.s {'reg_alpha': 0.85, 'eta': 0.7, 'max_depth': 6, 'subsample': 1.0}... Be patient! ;)\n",
      "Testing for method <models.easyXGB object at 0x7ff6a6ea8940> with param.s {'reg_alpha': 0.85, 'eta': 0.5, 'max_depth': 7, 'subsample': 1.0}... Be patient! ;)\n",
      "Testing for method <models.easyXGB object at 0x7ff6a6ea8940> with param.s {'reg_alpha': 0.85, 'eta': 0.55, 'max_depth': 7, 'subsample': 1.0}... Be patient! ;)\n",
      "Testing for method <models.easyXGB object at 0x7ff6a6ea8940> with param.s {'reg_alpha': 0.85, 'eta': 0.6, 'max_depth': 7, 'subsample': 1.0}... Be patient! ;)\n",
      "Testing for method <models.easyXGB object at 0x7ff6a6ea8940> with param.s {'reg_alpha': 0.85, 'eta': 0.6499999999999999, 'max_depth': 7, 'subsample': 1.0}... Be patient! ;)\n",
      "Testing for method <models.easyXGB object at 0x7ff6a6ea8940> with param.s {'reg_alpha': 0.85, 'eta': 0.7, 'max_depth': 7, 'subsample': 1.0}... Be patient! ;)\n",
      "Testing for method <models.easyXGB object at 0x7ff6a6ea8940> with param.s {'reg_alpha': 0.85, 'eta': 0.5, 'max_depth': 8, 'subsample': 1.0}... Be patient! ;)\n",
      "Testing for method <models.easyXGB object at 0x7ff6a6ea8940> with param.s {'reg_alpha': 0.85, 'eta': 0.55, 'max_depth': 8, 'subsample': 1.0}... Be patient! ;)\n",
      "Testing for method <models.easyXGB object at 0x7ff6a6ea8940> with param.s {'reg_alpha': 0.85, 'eta': 0.6, 'max_depth': 8, 'subsample': 1.0}... Be patient! ;)\n",
      "Testing for method <models.easyXGB object at 0x7ff6a6ea8940> with param.s {'reg_alpha': 0.85, 'eta': 0.6499999999999999, 'max_depth': 8, 'subsample': 1.0}... Be patient! ;)\n",
      "Testing for method <models.easyXGB object at 0x7ff6a6ea8940> with param.s {'reg_alpha': 0.85, 'eta': 0.7, 'max_depth': 8, 'subsample': 1.0}... Be patient! ;)\n",
      "Testing for method <models.easyXGB object at 0x7ff6a6ea8940> with param.s {'reg_alpha': 0.85, 'eta': 0.5, 'max_depth': 9, 'subsample': 1.0}... Be patient! ;)\n",
      "Testing for method <models.easyXGB object at 0x7ff6a6ea8940> with param.s {'reg_alpha': 0.85, 'eta': 0.55, 'max_depth': 9, 'subsample': 1.0}... Be patient! ;)\n",
      "Testing for method <models.easyXGB object at 0x7ff6a6ea8940> with param.s {'reg_alpha': 0.85, 'eta': 0.6, 'max_depth': 9, 'subsample': 1.0}... Be patient! ;)\n",
      "Testing for method <models.easyXGB object at 0x7ff6a6ea8940> with param.s {'reg_alpha': 0.85, 'eta': 0.6499999999999999, 'max_depth': 9, 'subsample': 1.0}... Be patient! ;)\n",
      "Testing for method <models.easyXGB object at 0x7ff6a6ea8940> with param.s {'reg_alpha': 0.85, 'eta': 0.7, 'max_depth': 9, 'subsample': 1.0}... Be patient! ;)\n",
      "Testing for method <models.easyXGB object at 0x7ff6a6ea8940> with param.s {'reg_alpha': 0.9, 'eta': 0.5, 'max_depth': 1, 'subsample': 1.0}... Be patient! ;)\n",
      "Testing for method <models.easyXGB object at 0x7ff6a6ea8940> with param.s {'reg_alpha': 0.9, 'eta': 0.55, 'max_depth': 1, 'subsample': 1.0}... Be patient! ;)\n",
      "Testing for method <models.easyXGB object at 0x7ff6a6ea8940> with param.s {'reg_alpha': 0.9, 'eta': 0.6, 'max_depth': 1, 'subsample': 1.0}... Be patient! ;)\n",
      "Testing for method <models.easyXGB object at 0x7ff6a6ea8940> with param.s {'reg_alpha': 0.9, 'eta': 0.6499999999999999, 'max_depth': 1, 'subsample': 1.0}... Be patient! ;)\n",
      "Testing for method <models.easyXGB object at 0x7ff6a6ea8940> with param.s {'reg_alpha': 0.9, 'eta': 0.7, 'max_depth': 1, 'subsample': 1.0}... Be patient! ;)\n",
      "Testing for method <models.easyXGB object at 0x7ff6a6ea8940> with param.s {'reg_alpha': 0.9, 'eta': 0.5, 'max_depth': 2, 'subsample': 1.0}... Be patient! ;)\n"
     ]
    },
    {
     "name": "stdout",
     "output_type": "stream",
     "text": [
      "Testing for method <models.easyXGB object at 0x7ff6a6ea8940> with param.s {'reg_alpha': 0.9, 'eta': 0.55, 'max_depth': 2, 'subsample': 1.0}... Be patient! ;)\n",
      "Testing for method <models.easyXGB object at 0x7ff6a6ea8940> with param.s {'reg_alpha': 0.9, 'eta': 0.6, 'max_depth': 2, 'subsample': 1.0}... Be patient! ;)\n",
      "Testing for method <models.easyXGB object at 0x7ff6a6ea8940> with param.s {'reg_alpha': 0.9, 'eta': 0.6499999999999999, 'max_depth': 2, 'subsample': 1.0}... Be patient! ;)\n",
      "Testing for method <models.easyXGB object at 0x7ff6a6ea8940> with param.s {'reg_alpha': 0.9, 'eta': 0.7, 'max_depth': 2, 'subsample': 1.0}... Be patient! ;)\n",
      "Testing for method <models.easyXGB object at 0x7ff6a6ea8940> with param.s {'reg_alpha': 0.9, 'eta': 0.5, 'max_depth': 3, 'subsample': 1.0}... Be patient! ;)\n",
      "Testing for method <models.easyXGB object at 0x7ff6a6ea8940> with param.s {'reg_alpha': 0.9, 'eta': 0.55, 'max_depth': 3, 'subsample': 1.0}... Be patient! ;)\n",
      "Testing for method <models.easyXGB object at 0x7ff6a6ea8940> with param.s {'reg_alpha': 0.9, 'eta': 0.6, 'max_depth': 3, 'subsample': 1.0}... Be patient! ;)\n",
      "Testing for method <models.easyXGB object at 0x7ff6a6ea8940> with param.s {'reg_alpha': 0.9, 'eta': 0.6499999999999999, 'max_depth': 3, 'subsample': 1.0}... Be patient! ;)\n",
      "Testing for method <models.easyXGB object at 0x7ff6a6ea8940> with param.s {'reg_alpha': 0.9, 'eta': 0.7, 'max_depth': 3, 'subsample': 1.0}... Be patient! ;)\n",
      "Testing for method <models.easyXGB object at 0x7ff6a6ea8940> with param.s {'reg_alpha': 0.9, 'eta': 0.5, 'max_depth': 4, 'subsample': 1.0}... Be patient! ;)\n",
      "Testing for method <models.easyXGB object at 0x7ff6a6ea8940> with param.s {'reg_alpha': 0.9, 'eta': 0.55, 'max_depth': 4, 'subsample': 1.0}... Be patient! ;)\n",
      "Testing for method <models.easyXGB object at 0x7ff6a6ea8940> with param.s {'reg_alpha': 0.9, 'eta': 0.6, 'max_depth': 4, 'subsample': 1.0}... Be patient! ;)\n",
      "Testing for method <models.easyXGB object at 0x7ff6a6ea8940> with param.s {'reg_alpha': 0.9, 'eta': 0.6499999999999999, 'max_depth': 4, 'subsample': 1.0}... Be patient! ;)\n",
      "Testing for method <models.easyXGB object at 0x7ff6a6ea8940> with param.s {'reg_alpha': 0.9, 'eta': 0.7, 'max_depth': 4, 'subsample': 1.0}... Be patient! ;)\n",
      "Testing for method <models.easyXGB object at 0x7ff6a6ea8940> with param.s {'reg_alpha': 0.9, 'eta': 0.5, 'max_depth': 5, 'subsample': 1.0}... Be patient! ;)\n",
      "Testing for method <models.easyXGB object at 0x7ff6a6ea8940> with param.s {'reg_alpha': 0.9, 'eta': 0.55, 'max_depth': 5, 'subsample': 1.0}... Be patient! ;)\n",
      "Testing for method <models.easyXGB object at 0x7ff6a6ea8940> with param.s {'reg_alpha': 0.9, 'eta': 0.6, 'max_depth': 5, 'subsample': 1.0}... Be patient! ;)\n",
      "Testing for method <models.easyXGB object at 0x7ff6a6ea8940> with param.s {'reg_alpha': 0.9, 'eta': 0.6499999999999999, 'max_depth': 5, 'subsample': 1.0}... Be patient! ;)\n",
      "Testing for method <models.easyXGB object at 0x7ff6a6ea8940> with param.s {'reg_alpha': 0.9, 'eta': 0.7, 'max_depth': 5, 'subsample': 1.0}... Be patient! ;)\n",
      "Testing for method <models.easyXGB object at 0x7ff6a6ea8940> with param.s {'reg_alpha': 0.9, 'eta': 0.5, 'max_depth': 6, 'subsample': 1.0}... Be patient! ;)\n",
      "Testing for method <models.easyXGB object at 0x7ff6a6ea8940> with param.s {'reg_alpha': 0.9, 'eta': 0.55, 'max_depth': 6, 'subsample': 1.0}... Be patient! ;)\n",
      "Testing for method <models.easyXGB object at 0x7ff6a6ea8940> with param.s {'reg_alpha': 0.9, 'eta': 0.6, 'max_depth': 6, 'subsample': 1.0}... Be patient! ;)\n",
      "Testing for method <models.easyXGB object at 0x7ff6a6ea8940> with param.s {'reg_alpha': 0.9, 'eta': 0.6499999999999999, 'max_depth': 6, 'subsample': 1.0}... Be patient! ;)\n",
      "Testing for method <models.easyXGB object at 0x7ff6a6ea8940> with param.s {'reg_alpha': 0.9, 'eta': 0.7, 'max_depth': 6, 'subsample': 1.0}... Be patient! ;)\n",
      "Testing for method <models.easyXGB object at 0x7ff6a6ea8940> with param.s {'reg_alpha': 0.9, 'eta': 0.5, 'max_depth': 7, 'subsample': 1.0}... Be patient! ;)\n",
      "Testing for method <models.easyXGB object at 0x7ff6a6ea8940> with param.s {'reg_alpha': 0.9, 'eta': 0.55, 'max_depth': 7, 'subsample': 1.0}... Be patient! ;)\n",
      "Testing for method <models.easyXGB object at 0x7ff6a6ea8940> with param.s {'reg_alpha': 0.9, 'eta': 0.6, 'max_depth': 7, 'subsample': 1.0}... Be patient! ;)\n",
      "Testing for method <models.easyXGB object at 0x7ff6a6ea8940> with param.s {'reg_alpha': 0.9, 'eta': 0.6499999999999999, 'max_depth': 7, 'subsample': 1.0}... Be patient! ;)\n",
      "Testing for method <models.easyXGB object at 0x7ff6a6ea8940> with param.s {'reg_alpha': 0.9, 'eta': 0.7, 'max_depth': 7, 'subsample': 1.0}... Be patient! ;)\n",
      "Testing for method <models.easyXGB object at 0x7ff6a6ea8940> with param.s {'reg_alpha': 0.9, 'eta': 0.5, 'max_depth': 8, 'subsample': 1.0}... Be patient! ;)\n",
      "Testing for method <models.easyXGB object at 0x7ff6a6ea8940> with param.s {'reg_alpha': 0.9, 'eta': 0.55, 'max_depth': 8, 'subsample': 1.0}... Be patient! ;)\n",
      "Testing for method <models.easyXGB object at 0x7ff6a6ea8940> with param.s {'reg_alpha': 0.9, 'eta': 0.6, 'max_depth': 8, 'subsample': 1.0}... Be patient! ;)\n",
      "Testing for method <models.easyXGB object at 0x7ff6a6ea8940> with param.s {'reg_alpha': 0.9, 'eta': 0.6499999999999999, 'max_depth': 8, 'subsample': 1.0}... Be patient! ;)\n",
      "Testing for method <models.easyXGB object at 0x7ff6a6ea8940> with param.s {'reg_alpha': 0.9, 'eta': 0.7, 'max_depth': 8, 'subsample': 1.0}... Be patient! ;)\n",
      "Testing for method <models.easyXGB object at 0x7ff6a6ea8940> with param.s {'reg_alpha': 0.9, 'eta': 0.5, 'max_depth': 9, 'subsample': 1.0}... Be patient! ;)\n",
      "Testing for method <models.easyXGB object at 0x7ff6a6ea8940> with param.s {'reg_alpha': 0.9, 'eta': 0.55, 'max_depth': 9, 'subsample': 1.0}... Be patient! ;)\n",
      "Testing for method <models.easyXGB object at 0x7ff6a6ea8940> with param.s {'reg_alpha': 0.9, 'eta': 0.6, 'max_depth': 9, 'subsample': 1.0}... Be patient! ;)\n",
      "Testing for method <models.easyXGB object at 0x7ff6a6ea8940> with param.s {'reg_alpha': 0.9, 'eta': 0.6499999999999999, 'max_depth': 9, 'subsample': 1.0}... Be patient! ;)\n",
      "Testing for method <models.easyXGB object at 0x7ff6a6ea8940> with param.s {'reg_alpha': 0.9, 'eta': 0.7, 'max_depth': 9, 'subsample': 1.0}... Be patient! ;)\n",
      "Testing for method <models.easyXGB object at 0x7ff6a6ea8940> with param.s {'reg_alpha': 0.95, 'eta': 0.5, 'max_depth': 1, 'subsample': 1.0}... Be patient! ;)\n",
      "Testing for method <models.easyXGB object at 0x7ff6a6ea8940> with param.s {'reg_alpha': 0.95, 'eta': 0.55, 'max_depth': 1, 'subsample': 1.0}... Be patient! ;)\n",
      "Testing for method <models.easyXGB object at 0x7ff6a6ea8940> with param.s {'reg_alpha': 0.95, 'eta': 0.6, 'max_depth': 1, 'subsample': 1.0}... Be patient! ;)\n",
      "Testing for method <models.easyXGB object at 0x7ff6a6ea8940> with param.s {'reg_alpha': 0.95, 'eta': 0.6499999999999999, 'max_depth': 1, 'subsample': 1.0}... Be patient! ;)\n",
      "Testing for method <models.easyXGB object at 0x7ff6a6ea8940> with param.s {'reg_alpha': 0.95, 'eta': 0.7, 'max_depth': 1, 'subsample': 1.0}... Be patient! ;)\n",
      "Testing for method <models.easyXGB object at 0x7ff6a6ea8940> with param.s {'reg_alpha': 0.95, 'eta': 0.5, 'max_depth': 2, 'subsample': 1.0}... Be patient! ;)\n",
      "Testing for method <models.easyXGB object at 0x7ff6a6ea8940> with param.s {'reg_alpha': 0.95, 'eta': 0.55, 'max_depth': 2, 'subsample': 1.0}... Be patient! ;)\n",
      "Testing for method <models.easyXGB object at 0x7ff6a6ea8940> with param.s {'reg_alpha': 0.95, 'eta': 0.6, 'max_depth': 2, 'subsample': 1.0}... Be patient! ;)\n",
      "Testing for method <models.easyXGB object at 0x7ff6a6ea8940> with param.s {'reg_alpha': 0.95, 'eta': 0.6499999999999999, 'max_depth': 2, 'subsample': 1.0}... Be patient! ;)\n",
      "Testing for method <models.easyXGB object at 0x7ff6a6ea8940> with param.s {'reg_alpha': 0.95, 'eta': 0.7, 'max_depth': 2, 'subsample': 1.0}... Be patient! ;)\n",
      "Testing for method <models.easyXGB object at 0x7ff6a6ea8940> with param.s {'reg_alpha': 0.95, 'eta': 0.5, 'max_depth': 3, 'subsample': 1.0}... Be patient! ;)\n",
      "Testing for method <models.easyXGB object at 0x7ff6a6ea8940> with param.s {'reg_alpha': 0.95, 'eta': 0.55, 'max_depth': 3, 'subsample': 1.0}... Be patient! ;)\n",
      "Testing for method <models.easyXGB object at 0x7ff6a6ea8940> with param.s {'reg_alpha': 0.95, 'eta': 0.6, 'max_depth': 3, 'subsample': 1.0}... Be patient! ;)\n"
     ]
    },
    {
     "name": "stdout",
     "output_type": "stream",
     "text": [
      "Testing for method <models.easyXGB object at 0x7ff6a6ea8940> with param.s {'reg_alpha': 0.95, 'eta': 0.6499999999999999, 'max_depth': 3, 'subsample': 1.0}... Be patient! ;)\n",
      "Testing for method <models.easyXGB object at 0x7ff6a6ea8940> with param.s {'reg_alpha': 0.95, 'eta': 0.7, 'max_depth': 3, 'subsample': 1.0}... Be patient! ;)\n",
      "Testing for method <models.easyXGB object at 0x7ff6a6ea8940> with param.s {'reg_alpha': 0.95, 'eta': 0.5, 'max_depth': 4, 'subsample': 1.0}... Be patient! ;)\n",
      "Testing for method <models.easyXGB object at 0x7ff6a6ea8940> with param.s {'reg_alpha': 0.95, 'eta': 0.55, 'max_depth': 4, 'subsample': 1.0}... Be patient! ;)\n",
      "Testing for method <models.easyXGB object at 0x7ff6a6ea8940> with param.s {'reg_alpha': 0.95, 'eta': 0.6, 'max_depth': 4, 'subsample': 1.0}... Be patient! ;)\n",
      "Testing for method <models.easyXGB object at 0x7ff6a6ea8940> with param.s {'reg_alpha': 0.95, 'eta': 0.6499999999999999, 'max_depth': 4, 'subsample': 1.0}... Be patient! ;)\n",
      "Testing for method <models.easyXGB object at 0x7ff6a6ea8940> with param.s {'reg_alpha': 0.95, 'eta': 0.7, 'max_depth': 4, 'subsample': 1.0}... Be patient! ;)\n",
      "Testing for method <models.easyXGB object at 0x7ff6a6ea8940> with param.s {'reg_alpha': 0.95, 'eta': 0.5, 'max_depth': 5, 'subsample': 1.0}... Be patient! ;)\n",
      "Testing for method <models.easyXGB object at 0x7ff6a6ea8940> with param.s {'reg_alpha': 0.95, 'eta': 0.55, 'max_depth': 5, 'subsample': 1.0}... Be patient! ;)\n",
      "Testing for method <models.easyXGB object at 0x7ff6a6ea8940> with param.s {'reg_alpha': 0.95, 'eta': 0.6, 'max_depth': 5, 'subsample': 1.0}... Be patient! ;)\n",
      "Testing for method <models.easyXGB object at 0x7ff6a6ea8940> with param.s {'reg_alpha': 0.95, 'eta': 0.6499999999999999, 'max_depth': 5, 'subsample': 1.0}... Be patient! ;)\n",
      "Testing for method <models.easyXGB object at 0x7ff6a6ea8940> with param.s {'reg_alpha': 0.95, 'eta': 0.7, 'max_depth': 5, 'subsample': 1.0}... Be patient! ;)\n",
      "Testing for method <models.easyXGB object at 0x7ff6a6ea8940> with param.s {'reg_alpha': 0.95, 'eta': 0.5, 'max_depth': 6, 'subsample': 1.0}... Be patient! ;)\n",
      "Testing for method <models.easyXGB object at 0x7ff6a6ea8940> with param.s {'reg_alpha': 0.95, 'eta': 0.55, 'max_depth': 6, 'subsample': 1.0}... Be patient! ;)\n",
      "Testing for method <models.easyXGB object at 0x7ff6a6ea8940> with param.s {'reg_alpha': 0.95, 'eta': 0.6, 'max_depth': 6, 'subsample': 1.0}... Be patient! ;)\n",
      "Testing for method <models.easyXGB object at 0x7ff6a6ea8940> with param.s {'reg_alpha': 0.95, 'eta': 0.6499999999999999, 'max_depth': 6, 'subsample': 1.0}... Be patient! ;)\n",
      "Testing for method <models.easyXGB object at 0x7ff6a6ea8940> with param.s {'reg_alpha': 0.95, 'eta': 0.7, 'max_depth': 6, 'subsample': 1.0}... Be patient! ;)\n",
      "Testing for method <models.easyXGB object at 0x7ff6a6ea8940> with param.s {'reg_alpha': 0.95, 'eta': 0.5, 'max_depth': 7, 'subsample': 1.0}... Be patient! ;)\n",
      "Testing for method <models.easyXGB object at 0x7ff6a6ea8940> with param.s {'reg_alpha': 0.95, 'eta': 0.55, 'max_depth': 7, 'subsample': 1.0}... Be patient! ;)\n",
      "Testing for method <models.easyXGB object at 0x7ff6a6ea8940> with param.s {'reg_alpha': 0.95, 'eta': 0.6, 'max_depth': 7, 'subsample': 1.0}... Be patient! ;)\n",
      "Testing for method <models.easyXGB object at 0x7ff6a6ea8940> with param.s {'reg_alpha': 0.95, 'eta': 0.6499999999999999, 'max_depth': 7, 'subsample': 1.0}... Be patient! ;)\n",
      "Testing for method <models.easyXGB object at 0x7ff6a6ea8940> with param.s {'reg_alpha': 0.95, 'eta': 0.7, 'max_depth': 7, 'subsample': 1.0}... Be patient! ;)\n",
      "Testing for method <models.easyXGB object at 0x7ff6a6ea8940> with param.s {'reg_alpha': 0.95, 'eta': 0.5, 'max_depth': 8, 'subsample': 1.0}... Be patient! ;)\n",
      "Testing for method <models.easyXGB object at 0x7ff6a6ea8940> with param.s {'reg_alpha': 0.95, 'eta': 0.55, 'max_depth': 8, 'subsample': 1.0}... Be patient! ;)\n",
      "Testing for method <models.easyXGB object at 0x7ff6a6ea8940> with param.s {'reg_alpha': 0.95, 'eta': 0.6, 'max_depth': 8, 'subsample': 1.0}... Be patient! ;)\n",
      "Testing for method <models.easyXGB object at 0x7ff6a6ea8940> with param.s {'reg_alpha': 0.95, 'eta': 0.6499999999999999, 'max_depth': 8, 'subsample': 1.0}... Be patient! ;)\n",
      "Testing for method <models.easyXGB object at 0x7ff6a6ea8940> with param.s {'reg_alpha': 0.95, 'eta': 0.7, 'max_depth': 8, 'subsample': 1.0}... Be patient! ;)\n",
      "Testing for method <models.easyXGB object at 0x7ff6a6ea8940> with param.s {'reg_alpha': 0.95, 'eta': 0.5, 'max_depth': 9, 'subsample': 1.0}... Be patient! ;)\n",
      "Testing for method <models.easyXGB object at 0x7ff6a6ea8940> with param.s {'reg_alpha': 0.95, 'eta': 0.55, 'max_depth': 9, 'subsample': 1.0}... Be patient! ;)\n",
      "Testing for method <models.easyXGB object at 0x7ff6a6ea8940> with param.s {'reg_alpha': 0.95, 'eta': 0.6, 'max_depth': 9, 'subsample': 1.0}... Be patient! ;)\n",
      "Testing for method <models.easyXGB object at 0x7ff6a6ea8940> with param.s {'reg_alpha': 0.95, 'eta': 0.6499999999999999, 'max_depth': 9, 'subsample': 1.0}... Be patient! ;)\n",
      "Testing for method <models.easyXGB object at 0x7ff6a6ea8940> with param.s {'reg_alpha': 0.95, 'eta': 0.7, 'max_depth': 9, 'subsample': 1.0}... Be patient! ;)\n",
      "Testing for method <models.easyXGB object at 0x7ff6a6ea8940> with param.s {'reg_alpha': 1.0, 'eta': 0.5, 'max_depth': 1, 'subsample': 1.0}... Be patient! ;)\n",
      "Testing for method <models.easyXGB object at 0x7ff6a6ea8940> with param.s {'reg_alpha': 1.0, 'eta': 0.55, 'max_depth': 1, 'subsample': 1.0}... Be patient! ;)\n",
      "Testing for method <models.easyXGB object at 0x7ff6a6ea8940> with param.s {'reg_alpha': 1.0, 'eta': 0.6, 'max_depth': 1, 'subsample': 1.0}... Be patient! ;)\n",
      "Testing for method <models.easyXGB object at 0x7ff6a6ea8940> with param.s {'reg_alpha': 1.0, 'eta': 0.6499999999999999, 'max_depth': 1, 'subsample': 1.0}... Be patient! ;)\n",
      "Testing for method <models.easyXGB object at 0x7ff6a6ea8940> with param.s {'reg_alpha': 1.0, 'eta': 0.7, 'max_depth': 1, 'subsample': 1.0}... Be patient! ;)\n",
      "Testing for method <models.easyXGB object at 0x7ff6a6ea8940> with param.s {'reg_alpha': 1.0, 'eta': 0.5, 'max_depth': 2, 'subsample': 1.0}... Be patient! ;)\n",
      "Testing for method <models.easyXGB object at 0x7ff6a6ea8940> with param.s {'reg_alpha': 1.0, 'eta': 0.55, 'max_depth': 2, 'subsample': 1.0}... Be patient! ;)\n",
      "Testing for method <models.easyXGB object at 0x7ff6a6ea8940> with param.s {'reg_alpha': 1.0, 'eta': 0.6, 'max_depth': 2, 'subsample': 1.0}... Be patient! ;)\n",
      "Testing for method <models.easyXGB object at 0x7ff6a6ea8940> with param.s {'reg_alpha': 1.0, 'eta': 0.6499999999999999, 'max_depth': 2, 'subsample': 1.0}... Be patient! ;)\n",
      "Testing for method <models.easyXGB object at 0x7ff6a6ea8940> with param.s {'reg_alpha': 1.0, 'eta': 0.7, 'max_depth': 2, 'subsample': 1.0}... Be patient! ;)\n",
      "Testing for method <models.easyXGB object at 0x7ff6a6ea8940> with param.s {'reg_alpha': 1.0, 'eta': 0.5, 'max_depth': 3, 'subsample': 1.0}... Be patient! ;)\n",
      "Testing for method <models.easyXGB object at 0x7ff6a6ea8940> with param.s {'reg_alpha': 1.0, 'eta': 0.55, 'max_depth': 3, 'subsample': 1.0}... Be patient! ;)\n",
      "Testing for method <models.easyXGB object at 0x7ff6a6ea8940> with param.s {'reg_alpha': 1.0, 'eta': 0.6, 'max_depth': 3, 'subsample': 1.0}... Be patient! ;)\n",
      "Testing for method <models.easyXGB object at 0x7ff6a6ea8940> with param.s {'reg_alpha': 1.0, 'eta': 0.6499999999999999, 'max_depth': 3, 'subsample': 1.0}... Be patient! ;)\n",
      "Testing for method <models.easyXGB object at 0x7ff6a6ea8940> with param.s {'reg_alpha': 1.0, 'eta': 0.7, 'max_depth': 3, 'subsample': 1.0}... Be patient! ;)\n",
      "Testing for method <models.easyXGB object at 0x7ff6a6ea8940> with param.s {'reg_alpha': 1.0, 'eta': 0.5, 'max_depth': 4, 'subsample': 1.0}... Be patient! ;)\n",
      "Testing for method <models.easyXGB object at 0x7ff6a6ea8940> with param.s {'reg_alpha': 1.0, 'eta': 0.55, 'max_depth': 4, 'subsample': 1.0}... Be patient! ;)\n",
      "Testing for method <models.easyXGB object at 0x7ff6a6ea8940> with param.s {'reg_alpha': 1.0, 'eta': 0.6, 'max_depth': 4, 'subsample': 1.0}... Be patient! ;)\n",
      "Testing for method <models.easyXGB object at 0x7ff6a6ea8940> with param.s {'reg_alpha': 1.0, 'eta': 0.6499999999999999, 'max_depth': 4, 'subsample': 1.0}... Be patient! ;)\n"
     ]
    },
    {
     "name": "stdout",
     "output_type": "stream",
     "text": [
      "Testing for method <models.easyXGB object at 0x7ff6a6ea8940> with param.s {'reg_alpha': 1.0, 'eta': 0.7, 'max_depth': 4, 'subsample': 1.0}... Be patient! ;)\n",
      "Testing for method <models.easyXGB object at 0x7ff6a6ea8940> with param.s {'reg_alpha': 1.0, 'eta': 0.5, 'max_depth': 5, 'subsample': 1.0}... Be patient! ;)\n",
      "Testing for method <models.easyXGB object at 0x7ff6a6ea8940> with param.s {'reg_alpha': 1.0, 'eta': 0.55, 'max_depth': 5, 'subsample': 1.0}... Be patient! ;)\n",
      "Testing for method <models.easyXGB object at 0x7ff6a6ea8940> with param.s {'reg_alpha': 1.0, 'eta': 0.6, 'max_depth': 5, 'subsample': 1.0}... Be patient! ;)\n",
      "Testing for method <models.easyXGB object at 0x7ff6a6ea8940> with param.s {'reg_alpha': 1.0, 'eta': 0.6499999999999999, 'max_depth': 5, 'subsample': 1.0}... Be patient! ;)\n",
      "Testing for method <models.easyXGB object at 0x7ff6a6ea8940> with param.s {'reg_alpha': 1.0, 'eta': 0.7, 'max_depth': 5, 'subsample': 1.0}... Be patient! ;)\n",
      "Testing for method <models.easyXGB object at 0x7ff6a6ea8940> with param.s {'reg_alpha': 1.0, 'eta': 0.5, 'max_depth': 6, 'subsample': 1.0}... Be patient! ;)\n",
      "Testing for method <models.easyXGB object at 0x7ff6a6ea8940> with param.s {'reg_alpha': 1.0, 'eta': 0.55, 'max_depth': 6, 'subsample': 1.0}... Be patient! ;)\n",
      "Testing for method <models.easyXGB object at 0x7ff6a6ea8940> with param.s {'reg_alpha': 1.0, 'eta': 0.6, 'max_depth': 6, 'subsample': 1.0}... Be patient! ;)\n",
      "Testing for method <models.easyXGB object at 0x7ff6a6ea8940> with param.s {'reg_alpha': 1.0, 'eta': 0.6499999999999999, 'max_depth': 6, 'subsample': 1.0}... Be patient! ;)\n",
      "Testing for method <models.easyXGB object at 0x7ff6a6ea8940> with param.s {'reg_alpha': 1.0, 'eta': 0.7, 'max_depth': 6, 'subsample': 1.0}... Be patient! ;)\n",
      "Testing for method <models.easyXGB object at 0x7ff6a6ea8940> with param.s {'reg_alpha': 1.0, 'eta': 0.5, 'max_depth': 7, 'subsample': 1.0}... Be patient! ;)\n",
      "Testing for method <models.easyXGB object at 0x7ff6a6ea8940> with param.s {'reg_alpha': 1.0, 'eta': 0.55, 'max_depth': 7, 'subsample': 1.0}... Be patient! ;)\n",
      "Testing for method <models.easyXGB object at 0x7ff6a6ea8940> with param.s {'reg_alpha': 1.0, 'eta': 0.6, 'max_depth': 7, 'subsample': 1.0}... Be patient! ;)\n",
      "Testing for method <models.easyXGB object at 0x7ff6a6ea8940> with param.s {'reg_alpha': 1.0, 'eta': 0.6499999999999999, 'max_depth': 7, 'subsample': 1.0}... Be patient! ;)\n",
      "Testing for method <models.easyXGB object at 0x7ff6a6ea8940> with param.s {'reg_alpha': 1.0, 'eta': 0.7, 'max_depth': 7, 'subsample': 1.0}... Be patient! ;)\n",
      "Testing for method <models.easyXGB object at 0x7ff6a6ea8940> with param.s {'reg_alpha': 1.0, 'eta': 0.5, 'max_depth': 8, 'subsample': 1.0}... Be patient! ;)\n",
      "Testing for method <models.easyXGB object at 0x7ff6a6ea8940> with param.s {'reg_alpha': 1.0, 'eta': 0.55, 'max_depth': 8, 'subsample': 1.0}... Be patient! ;)\n",
      "Testing for method <models.easyXGB object at 0x7ff6a6ea8940> with param.s {'reg_alpha': 1.0, 'eta': 0.6, 'max_depth': 8, 'subsample': 1.0}... Be patient! ;)\n",
      "Testing for method <models.easyXGB object at 0x7ff6a6ea8940> with param.s {'reg_alpha': 1.0, 'eta': 0.6499999999999999, 'max_depth': 8, 'subsample': 1.0}... Be patient! ;)\n",
      "Testing for method <models.easyXGB object at 0x7ff6a6ea8940> with param.s {'reg_alpha': 1.0, 'eta': 0.7, 'max_depth': 8, 'subsample': 1.0}... Be patient! ;)\n",
      "Testing for method <models.easyXGB object at 0x7ff6a6ea8940> with param.s {'reg_alpha': 1.0, 'eta': 0.5, 'max_depth': 9, 'subsample': 1.0}... Be patient! ;)\n",
      "Testing for method <models.easyXGB object at 0x7ff6a6ea8940> with param.s {'reg_alpha': 1.0, 'eta': 0.55, 'max_depth': 9, 'subsample': 1.0}... Be patient! ;)\n",
      "Testing for method <models.easyXGB object at 0x7ff6a6ea8940> with param.s {'reg_alpha': 1.0, 'eta': 0.6, 'max_depth': 9, 'subsample': 1.0}... Be patient! ;)\n",
      "Testing for method <models.easyXGB object at 0x7ff6a6ea8940> with param.s {'reg_alpha': 1.0, 'eta': 0.6499999999999999, 'max_depth': 9, 'subsample': 1.0}... Be patient! ;)\n",
      "Testing for method <models.easyXGB object at 0x7ff6a6ea8940> with param.s {'reg_alpha': 1.0, 'eta': 0.7, 'max_depth': 9, 'subsample': 1.0}... Be patient! ;)\n"
     ]
    },
    {
     "data": {
      "image/png": "[encoded data removed]",
      "text/plain": [
       "<Figure size 432x288 with 1 Axes>"
      ]
     },
     "metadata": {},
     "output_type": "display_data"
    }
   ],
   "source": [
    "loss_tr, loss_te, method = multi_cross_validation(X_train, y3_train, \n",
    "                                                  methods=methods, k_fold=7, seed=np.random.randint(1000))"
   ]
  },
  {
   "cell_type": "code",
   "execution_count": 40,
   "metadata": {
    "scrolled": true
   },
   "outputs": [
    {
     "name": "stdout",
     "output_type": "stream",
     "text": [
      "[<models.easyXGB object at 0x7ff6a6ea8940>, {'reg_alpha': 0.95, 'eta': 0.6499999999999999, 'max_depth': 4, 'subsample': 1.0}] \n",
      " MSE on train (CV):  0.013584698883356339 \n",
      " MSE on test (CV) :  0.013658328792530965\n"
     ]
    }
   ],
   "source": [
    "print(method, '\\n MSE on train (CV): ', loss_tr, '\\n MSE on test (CV) : ', loss_te)"
   ]
  },
  {
   "cell_type": "code",
   "execution_count": 41,
   "metadata": {},
   "outputs": [
    {
     "name": "stdout",
     "output_type": "stream",
     "text": [
      "MSE on train :  0.013610432031803732 \n",
      " MSE on test :  0.013208269013510292\n"
     ]
    }
   ],
   "source": [
    "easyXGBReg.fit(X_train, y3_train, **method[1])\n",
    "\n",
    "print('MSE on train : ', easyXGBReg.score(X_train, y3_train), '\\n',\n",
    "     'MSE on test : ', easyXGBReg.score(X_test, y3_test))\n",
    "\n"
   ]
  },
  {
   "cell_type": "markdown",
   "metadata": {},
   "source": [
    "## y4"
   ]
  },
  {
   "cell_type": "code",
   "execution_count": 42,
   "metadata": {},
   "outputs": [
    {
     "name": "stdout",
     "output_type": "stream",
     "text": [
      "(91173, 5) (60783, 5)\n"
     ]
    }
   ],
   "source": [
    "X_train, X_test, y4_train, y4_test = train_test_split(X, y4, test_size=0.4)\n",
    "print(X_train.shape, X_test.shape)\n",
    "y4_train, y4_test = y4_train.values, y4_test.values"
   ]
  },
  {
   "cell_type": "code",
   "execution_count": null,
   "metadata": {
    "scrolled": true
   },
   "outputs": [],
   "source": [
    "loss_tr, loss_te, method = multi_cross_validation(X_train, y4_train, \n",
    "                                                  methods=methods, k_fold=7, seed=np.random.randint(1000))"
   ]
  },
  {
   "cell_type": "code",
   "execution_count": null,
   "metadata": {
    "scrolled": true
   },
   "outputs": [],
   "source": [
    "print(method, '\\n MSE on train (CV): ', loss_tr, '\\n MSE on test (CV) : ', loss_te)"
   ]
  },
  {
   "cell_type": "code",
   "execution_count": 43,
   "metadata": {},
   "outputs": [],
   "source": [
    "method = [0,{'reg_alpha': 0.33684210526315794, 'eta': 0.7, 'max_depth': 9, 'subsample': 1.0}]"
   ]
  },
  {
   "cell_type": "code",
   "execution_count": 44,
   "metadata": {
    "scrolled": true
   },
   "outputs": [
    {
     "name": "stdout",
     "output_type": "stream",
     "text": [
      "MSE on train :  0.00017078811359748104 \n",
      " MSE on test :  0.00018056760130848276\n"
     ]
    }
   ],
   "source": [
    "easyXGBReg.fit(X_train, y4_train, **method[1])\n",
    "\n",
    "print('MSE on train : ', easyXGBReg.score(X_train, y4_train), '\\n',\n",
    "     'MSE on test : ', easyXGBReg.score(X_test, y4_test))\n",
    "\n"
   ]
  },
  {
   "cell_type": "code",
   "execution_count": 46,
   "metadata": {},
   "outputs": [
    {
     "data": {
      "text/plain": [
       "<matplotlib.axes._subplots.AxesSubplot at 0x7ff6a6dbcc88>"
      ]
     },
     "execution_count": 46,
     "metadata": {},
     "output_type": "execute_result"
    },
    {
     "data": {
      "image/png": "[encoded data removed]",
      "text/plain": [
       "<Figure size 432x288 with 1 Axes>"
      ]
     },
     "metadata": {},
     "output_type": "display_data"
    }
   ],
   "source": [
    "xgb.plot_importance(easyXGBReg.model)"
   ]
  },
  {
   "cell_type": "markdown",
   "metadata": {},
   "source": [
    "# Tests"
   ]
  },
  {
   "cell_type": "code",
   "execution_count": 4,
   "metadata": {},
   "outputs": [],
   "source": [
    "df = pd.DataFrame({'2' : 3*[2],\n",
    "                  '3' : 3*[3],\n",
    "                  'cat' : [1,0,1]},\n",
    "                 index = list(range(3)))\n",
    "df = william.cast_categories(df, 'cat')"
   ]
  },
  {
   "cell_type": "code",
   "execution_count": 29,
   "metadata": {},
   "outputs": [
    {
     "name": "stdout",
     "output_type": "stream",
     "text": [
      "[[2 3 5]\n",
      " [2 3 5]\n",
      " [2 3 5]\n",
      " [2 3 5]]\n"
     ]
    }
   ],
   "source": [
    "M = np.array([[2,3,5]for _ in range(4)])\n",
    "print(M)"
   ]
  },
  {
   "cell_type": "code",
   "execution_count": 30,
   "metadata": {},
   "outputs": [
    {
     "name": "stdout",
     "output_type": "stream",
     "text": [
      "[[ 2.  3.  5.  4.  6. 10.  9. 15. 25.]\n",
      " [ 2.  3.  5.  4.  6. 10.  9. 15. 25.]\n",
      " [ 2.  3.  5.  4.  6. 10.  9. 15. 25.]\n",
      " [ 2.  3.  5.  4.  6. 10.  9. 15. 25.]]\n"
     ]
    }
   ],
   "source": [
    "poly = PolynomialFeatures(2, interaction_only=False, include_bias=False)\n",
    "M2 = poly.fit_transform(M)\n",
    "print(M2)"
   ]
  },
  {
   "cell_type": "code",
   "execution_count": 28,
   "metadata": {},
   "outputs": [
    {
     "data": {
      "text/plain": [
       "[1, 1, 1, 1, 0, 0, 0, 0, 0, 0, 0, 0]"
      ]
     },
     "execution_count": 28,
     "metadata": {},
     "output_type": "execute_result"
    }
   ],
   "source": [
    "cond = True\n",
    "[1 if x else 0 for x in df['a']==1]"
   ]
  },
  {
   "cell_type": "code",
   "execution_count": 31,
   "metadata": {},
   "outputs": [],
   "source": []
  },
  {
   "cell_type": "code",
   "execution_count": 32,
   "metadata": {},
   "outputs": [
    {
     "data": {
      "text/html": [
       "<div>\n",
       "<style scoped>\n",
       "    .dataframe tbody tr th:only-of-type {\n",
       "        vertical-align: middle;\n",
       "    }\n",
       "\n",
       "    .dataframe tbody tr th {\n",
       "        vertical-align: top;\n",
       "    }\n",
       "\n",
       "    .dataframe thead th {\n",
       "        text-align: right;\n",
       "    }\n",
       "</style>\n",
       "<table border=\"1\" class=\"dataframe\">\n",
       "  <thead>\n",
       "    <tr style=\"text-align: right;\">\n",
       "      <th></th>\n",
       "      <th>b</th>\n",
       "      <th>Number 1</th>\n",
       "      <th>Number 2</th>\n",
       "      <th>Number 3</th>\n",
       "    </tr>\n",
       "  </thead>\n",
       "  <tbody>\n",
       "    <tr>\n",
       "      <th>0</th>\n",
       "      <td>4</td>\n",
       "      <td>1</td>\n",
       "      <td>0</td>\n",
       "      <td>0</td>\n",
       "    </tr>\n",
       "    <tr>\n",
       "      <th>1</th>\n",
       "      <td>5</td>\n",
       "      <td>1</td>\n",
       "      <td>0</td>\n",
       "      <td>0</td>\n",
       "    </tr>\n",
       "    <tr>\n",
       "      <th>2</th>\n",
       "      <td>6</td>\n",
       "      <td>1</td>\n",
       "      <td>0</td>\n",
       "      <td>0</td>\n",
       "    </tr>\n",
       "    <tr>\n",
       "      <th>3</th>\n",
       "      <td>7</td>\n",
       "      <td>1</td>\n",
       "      <td>0</td>\n",
       "      <td>0</td>\n",
       "    </tr>\n",
       "    <tr>\n",
       "      <th>4</th>\n",
       "      <td>4</td>\n",
       "      <td>0</td>\n",
       "      <td>1</td>\n",
       "      <td>0</td>\n",
       "    </tr>\n",
       "    <tr>\n",
       "      <th>5</th>\n",
       "      <td>5</td>\n",
       "      <td>0</td>\n",
       "      <td>1</td>\n",
       "      <td>0</td>\n",
       "    </tr>\n",
       "    <tr>\n",
       "      <th>6</th>\n",
       "      <td>6</td>\n",
       "      <td>0</td>\n",
       "      <td>1</td>\n",
       "      <td>0</td>\n",
       "    </tr>\n",
       "    <tr>\n",
       "      <th>7</th>\n",
       "      <td>7</td>\n",
       "      <td>0</td>\n",
       "      <td>1</td>\n",
       "      <td>0</td>\n",
       "    </tr>\n",
       "    <tr>\n",
       "      <th>8</th>\n",
       "      <td>4</td>\n",
       "      <td>0</td>\n",
       "      <td>0</td>\n",
       "      <td>1</td>\n",
       "    </tr>\n",
       "    <tr>\n",
       "      <th>9</th>\n",
       "      <td>5</td>\n",
       "      <td>0</td>\n",
       "      <td>0</td>\n",
       "      <td>1</td>\n",
       "    </tr>\n",
       "    <tr>\n",
       "      <th>10</th>\n",
       "      <td>6</td>\n",
       "      <td>0</td>\n",
       "      <td>0</td>\n",
       "      <td>1</td>\n",
       "    </tr>\n",
       "    <tr>\n",
       "      <th>11</th>\n",
       "      <td>7</td>\n",
       "      <td>0</td>\n",
       "      <td>0</td>\n",
       "      <td>1</td>\n",
       "    </tr>\n",
       "  </tbody>\n",
       "</table>\n",
       "</div>"
      ],
      "text/plain": [
       "    b  Number 1  Number 2  Number 3\n",
       "0   4         1         0         0\n",
       "1   5         1         0         0\n",
       "2   6         1         0         0\n",
       "3   7         1         0         0\n",
       "4   4         0         1         0\n",
       "5   5         0         1         0\n",
       "6   6         0         1         0\n",
       "7   7         0         1         0\n",
       "8   4         0         0         1\n",
       "9   5         0         0         1\n",
       "10  6         0         0         1\n",
       "11  7         0         0         1"
      ]
     },
     "execution_count": 32,
     "metadata": {},
     "output_type": "execute_result"
    }
   ],
   "source": [
    "cast_categories(df, 'a', cat_name='Number')"
   ]
  },
  {
   "cell_type": "code",
   "execution_count": null,
   "metadata": {},
   "outputs": [],
   "source": []
  }
 ],
 "metadata": {
  "kernelspec": {
   "display_name": "Python 3",
   "language": "python",
   "name": "python3"
  },
  "language_info": {
   "codemirror_mode": {
    "name": "ipython",
    "version": 3
   },
   "file_extension": ".py",
   "mimetype": "text/x-python",
   "name": "python",
   "nbconvert_exporter": "python",
   "pygments_lexer": "ipython3",
   "version": "3.6.5"
  }
 },
 "nbformat": 4,
 "nbformat_minor": 2
}
