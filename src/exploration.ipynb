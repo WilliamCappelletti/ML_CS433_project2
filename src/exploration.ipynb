{
 "cells": [
  {
   "cell_type": "code",
   "execution_count": 1,
   "metadata": {
    "scrolled": true
   },
   "outputs": [],
   "source": [
    "import numpy as np\n",
    "import pandas as pd\n",
    "import os\n",
    "import random\n",
    "import matplotlib.pyplot as plt\n",
    "from sklearn import datasets\n",
    "from sklearn import svm\n",
    "import seaborn as sns \n",
    "\n",
    "import statsmodels.api as sm\n",
    "sns.set()\n",
    "\n",
    "\n",
    "from sklearn.linear_model import RidgeCV, LinearRegression\n",
    "from sklearn.svm import SVR\n",
    "from sklearn.preprocessing import PolynomialFeatures\n",
    "from sklearn.model_selection import train_test_split\n",
    "from sklearn.metrics import mean_squared_error, explained_variance_score\n",
    "import xgboost as xgb\n",
    "\n",
    "\n",
    "import reproduction\n",
    "import marie\n",
    "import regressions\n",
    "\n",
    "%load_ext autoreload\n",
    "%autoreload 2\n",
    "\n",
    "\n",
    "\n",
    "from matplotlib import rcParams\n",
    "rcParams['axes.titlepad'] = 20 "
   ]
  },
  {
   "cell_type": "markdown",
   "metadata": {},
   "source": [
    "# Plots function"
   ]
  },
  {
   "cell_type": "markdown",
   "metadata": {},
   "source": [
    "import the data"
   ]
  },
  {
   "cell_type": "code",
   "execution_count": 2,
   "metadata": {},
   "outputs": [],
   "source": [
    "y1, y2, y3, y4, X, realization = regressions.data_initialization(realiz=True)"
   ]
  },
  {
   "cell_type": "code",
   "execution_count": 77,
   "metadata": {},
   "outputs": [
    {
     "data": {
      "text/plain": [
       "'k2_bwd_effective'"
      ]
     },
     "execution_count": 77,
     "metadata": {},
     "output_type": "execute_result"
    }
   ],
   "source": [
    "y3.name"
   ]
  },
  {
   "cell_type": "markdown",
   "metadata": {},
   "source": [
    "split the data"
   ]
  },
  {
   "cell_type": "code",
   "execution_count": 3,
   "metadata": {
    "scrolled": true
   },
   "outputs": [
    {
     "name": "stdout",
     "output_type": "stream",
     "text": [
      "(91173, 5) (60783, 5)\n"
     ]
    }
   ],
   "source": [
    "Y = np.column_stack((y1, y1, y3, y4))\n",
    "\n",
    "X = X.drop(columns=['sigma_mass_0.0', 'sigma_mass_0.825', 'enzyme_concentration'])\n",
    "X_panda = X.copy()\n",
    "X = X.values\n",
    "\n",
    "\n",
    "X_train, X_test, y1_train, y1_test = train_test_split(X, y1, test_size=0.4)\n",
    "print(X_train.shape, X_test.shape)\n",
    "y1_train, y1_test = y1_train.values, y1_test.values"
   ]
  },
  {
   "cell_type": "code",
   "execution_count": 4,
   "metadata": {},
   "outputs": [
    {
     "data": {
      "text/html": [
       "<div>\n",
       "<style scoped>\n",
       "    .dataframe tbody tr th:only-of-type {\n",
       "        vertical-align: middle;\n",
       "    }\n",
       "\n",
       "    .dataframe tbody tr th {\n",
       "        vertical-align: top;\n",
       "    }\n",
       "\n",
       "    .dataframe thead th {\n",
       "        text-align: right;\n",
       "    }\n",
       "</style>\n",
       "<table border=\"1\" class=\"dataframe\">\n",
       "  <thead>\n",
       "    <tr style=\"text-align: right;\">\n",
       "      <th></th>\n",
       "      <th>enzyme_complex_concentration</th>\n",
       "      <th>mu_mass</th>\n",
       "      <th>product_concentration</th>\n",
       "      <th>substrate_concentration</th>\n",
       "      <th>volume_fraction</th>\n",
       "    </tr>\n",
       "  </thead>\n",
       "  <tbody>\n",
       "    <tr>\n",
       "      <th>0</th>\n",
       "      <td>-9.761988</td>\n",
       "      <td>12.1</td>\n",
       "      <td>-9.230543</td>\n",
       "      <td>-9.923690</td>\n",
       "      <td>0.2</td>\n",
       "    </tr>\n",
       "    <tr>\n",
       "      <th>1</th>\n",
       "      <td>-11.959213</td>\n",
       "      <td>12.1</td>\n",
       "      <td>-8.825078</td>\n",
       "      <td>-8.314252</td>\n",
       "      <td>0.2</td>\n",
       "    </tr>\n",
       "    <tr>\n",
       "      <th>2</th>\n",
       "      <td>-10.860600</td>\n",
       "      <td>31.9</td>\n",
       "      <td>-11.022305</td>\n",
       "      <td>-10.616837</td>\n",
       "      <td>0.2</td>\n",
       "    </tr>\n",
       "    <tr>\n",
       "      <th>3</th>\n",
       "      <td>-11.266065</td>\n",
       "      <td>12.1</td>\n",
       "      <td>-8.537396</td>\n",
       "      <td>-11.309985</td>\n",
       "      <td>0.4</td>\n",
       "    </tr>\n",
       "    <tr>\n",
       "      <th>4</th>\n",
       "      <td>-11.959213</td>\n",
       "      <td>12.1</td>\n",
       "      <td>-9.923690</td>\n",
       "      <td>-8.825078</td>\n",
       "      <td>0.2</td>\n",
       "    </tr>\n",
       "  </tbody>\n",
       "</table>\n",
       "</div>"
      ],
      "text/plain": [
       "   enzyme_complex_concentration  mu_mass  product_concentration  \\\n",
       "0                     -9.761988     12.1              -9.230543   \n",
       "1                    -11.959213     12.1              -8.825078   \n",
       "2                    -10.860600     31.9             -11.022305   \n",
       "3                    -11.266065     12.1              -8.537396   \n",
       "4                    -11.959213     12.1              -9.923690   \n",
       "\n",
       "   substrate_concentration  volume_fraction  \n",
       "0                -9.923690              0.2  \n",
       "1                -8.314252              0.2  \n",
       "2               -10.616837              0.2  \n",
       "3               -11.309985              0.4  \n",
       "4                -8.825078              0.2  "
      ]
     },
     "execution_count": 4,
     "metadata": {},
     "output_type": "execute_result"
    }
   ],
   "source": [
    "X_panda.head()"
   ]
  },
  {
   "cell_type": "markdown",
   "metadata": {},
   "source": [
    "Train Xgboost"
   ]
  },
  {
   "cell_type": "code",
   "execution_count": 5,
   "metadata": {},
   "outputs": [],
   "source": [
    "param = {'max_depth': 10, 'eta': 1, 'silent': 1, 'subsample': 0.8}\n",
    "# param['nthread'] = 4\n",
    "param['reg_alpha'] = 0.7\n",
    "# param['reg_lamda'] = 0.5\n",
    "param['tree_method'] = 'auto'\n",
    "\n",
    "dtrain1 = xgb.DMatrix(X_train, label=y1_train)\n",
    "dtest = xgb.DMatrix(X_test)\n",
    "\n",
    "xgbReg = xgb.train(params=param, dtrain=dtrain1)\n",
    "\n",
    "y1_pred_tr = xgbReg.predict(dtrain1)\n",
    "y1_pred_te = xgbReg.predict(dtest)"
   ]
  },
  {
   "cell_type": "markdown",
   "metadata": {},
   "source": [
    "Score and importance of the covariates"
   ]
  },
  {
   "cell_type": "code",
   "execution_count": 7,
   "metadata": {},
   "outputs": [
    {
     "name": "stdout",
     "output_type": "stream",
     "text": [
      "Train R^2 score :  0.9998406910739529 \n",
      " Test R^2 score :  0.9998361102522368\n",
      "MSE on train :  0.0001768603042120485 \n",
      " MSE on test :  0.0001834421873210494\n"
     ]
    },
    {
     "data": {
      "text/plain": [
       "<matplotlib.axes._subplots.AxesSubplot at 0x7fc3a6bd5860>"
      ]
     },
     "execution_count": 7,
     "metadata": {},
     "output_type": "execute_result"
    },
    {
     "data": {
      "image/png": "[encoded data removed]",
      "text/plain": [
       "<Figure size 432x288 with 1 Axes>"
      ]
     },
     "metadata": {
      "needs_background": "light"
     },
     "output_type": "display_data"
    }
   ],
   "source": [
    "print('Train R^2 score : ', explained_variance_score(y1_train, y1_pred_tr), '\\n',\n",
    "     'Test R^2 score : ', explained_variance_score(y1_test, y1_pred_te))\n",
    "\n",
    "print('MSE on train : ', mean_squared_error(y1_train, y1_pred_tr), '\\n',\n",
    "     'MSE on test : ', mean_squared_error(y1_test, y1_pred_te))\n",
    "\n",
    "xgb.plot_importance(xgbReg)"
   ]
  },
  {
   "cell_type": "markdown",
   "metadata": {},
   "source": [
    "## Tries for a plot function"
   ]
  },
  {
   "cell_type": "code",
   "execution_count": 8,
   "metadata": {
    "scrolled": true
   },
   "outputs": [
    {
     "data": {
      "text/html": [
       "<div>\n",
       "<style scoped>\n",
       "    .dataframe tbody tr th:only-of-type {\n",
       "        vertical-align: middle;\n",
       "    }\n",
       "\n",
       "    .dataframe tbody tr th {\n",
       "        vertical-align: top;\n",
       "    }\n",
       "\n",
       "    .dataframe thead th {\n",
       "        text-align: right;\n",
       "    }\n",
       "</style>\n",
       "<table border=\"1\" class=\"dataframe\">\n",
       "  <thead>\n",
       "    <tr style=\"text-align: right;\">\n",
       "      <th></th>\n",
       "      <th>0</th>\n",
       "      <th>1</th>\n",
       "      <th>2</th>\n",
       "      <th>3</th>\n",
       "      <th>4</th>\n",
       "    </tr>\n",
       "  </thead>\n",
       "  <tbody>\n",
       "    <tr>\n",
       "      <th>0</th>\n",
       "      <td>-10.860600</td>\n",
       "      <td>21.1</td>\n",
       "      <td>-10.616837</td>\n",
       "      <td>-9.230543</td>\n",
       "      <td>0.3</td>\n",
       "    </tr>\n",
       "    <tr>\n",
       "      <th>1</th>\n",
       "      <td>-10.860600</td>\n",
       "      <td>36.8</td>\n",
       "      <td>-8.537396</td>\n",
       "      <td>-9.923690</td>\n",
       "      <td>0.2</td>\n",
       "    </tr>\n",
       "    <tr>\n",
       "      <th>2</th>\n",
       "      <td>-9.761988</td>\n",
       "      <td>12.1</td>\n",
       "      <td>-8.314252</td>\n",
       "      <td>-9.230543</td>\n",
       "      <td>0.4</td>\n",
       "    </tr>\n",
       "    <tr>\n",
       "      <th>3</th>\n",
       "      <td>-10.349775</td>\n",
       "      <td>21.1</td>\n",
       "      <td>-9.923690</td>\n",
       "      <td>-11.309985</td>\n",
       "      <td>0.5</td>\n",
       "    </tr>\n",
       "    <tr>\n",
       "      <th>4</th>\n",
       "      <td>-11.266065</td>\n",
       "      <td>21.1</td>\n",
       "      <td>-8.314252</td>\n",
       "      <td>-9.923690</td>\n",
       "      <td>0.1</td>\n",
       "    </tr>\n",
       "  </tbody>\n",
       "</table>\n",
       "</div>"
      ],
      "text/plain": [
       "           0     1          2          3    4\n",
       "0 -10.860600  21.1 -10.616837  -9.230543  0.3\n",
       "1 -10.860600  36.8  -8.537396  -9.923690  0.2\n",
       "2  -9.761988  12.1  -8.314252  -9.230543  0.4\n",
       "3 -10.349775  21.1  -9.923690 -11.309985  0.5\n",
       "4 -11.266065  21.1  -8.314252  -9.923690  0.1"
      ]
     },
     "execution_count": 8,
     "metadata": {},
     "output_type": "execute_result"
    }
   ],
   "source": [
    "pd.DataFrame(X_train).head()"
   ]
  },
  {
   "cell_type": "code",
   "execution_count": 9,
   "metadata": {},
   "outputs": [],
   "source": [
    "data = np.random.rand(7, 5)\n",
    "dtest = xgb.DMatrix(data)\n",
    "ypred = xgbReg.predict(dtest)"
   ]
  },
  {
   "cell_type": "code",
   "execution_count": 10,
   "metadata": {},
   "outputs": [
    {
     "data": {
      "text/plain": [
       "array([ 1.9579071, -1.4340743, -1.4340743, -0.5274495, -0.5274495,\n",
       "        0.6516718, -0.5274495], dtype=float32)"
      ]
     },
     "execution_count": 10,
     "metadata": {},
     "output_type": "execute_result"
    }
   ],
   "source": [
    "ypred"
   ]
  },
  {
   "cell_type": "markdown",
   "metadata": {},
   "source": [
    " ## constants for the plots functions to work"
   ]
  },
  {
   "cell_type": "code",
   "execution_count": 11,
   "metadata": {},
   "outputs": [],
   "source": [
    "# theoritical constants from the chemistry point of view\n",
    "E_tot = 64e-6\n",
    "P0 = 49e-6\n",
    "S0 = 49e-6\n",
    "E0 = 0.5*E_tot\n",
    "ES0 = 0.5*E_tot"
   ]
  },
  {
   "cell_type": "code",
   "execution_count": 12,
   "metadata": {},
   "outputs": [],
   "source": [
    "# heuristic for the xgboost model\n",
    "P0 = np.median(X_panda.product_concentration.values)\n",
    "S0 = np.median(X_panda.substrate_concentration.values)\n",
    "ES0 = np.median(X_panda.enzyme_complex_concentration.values)\n",
    "mu0 = np.median(X_panda.mu_mass.values)\n",
    "v0 = 0.3"
   ]
  },
  {
   "cell_type": "code",
   "execution_count": 67,
   "metadata": {},
   "outputs": [],
   "source": [
    "param = {'max_depth': 10, 'eta': 1, 'silent': 1, 'subsample': 0.8}\n",
    "# param['nthread'] = 4\n",
    "param['reg_alpha'] = 0.7\n",
    "# param['reg_lamda'] = 0.5\n",
    "param['tree_method'] = 'auto'\n",
    "\n",
    "dtrain1 = xgb.DMatrix(X_train, label=y1_train)\n",
    "dtest = xgb.DMatrix(X_test)\n",
    "\n",
    "xgbReg = xgb.train(params=param, dtrain=dtrain1)\n",
    "\n",
    "y1_pred_tr = xgbReg.predict(dtrain1)\n",
    "y1_pred_te = xgbReg.predict(dtest)"
   ]
  },
  {
   "cell_type": "code",
   "execution_count": 64,
   "metadata": {
    "scrolled": true
   },
   "outputs": [],
   "source": [
    "from numpy import exp,arange\n",
    "from pylab import meshgrid,cm,imshow,contour,clabel,colorbar,axis,title,show\n",
    "\n",
    "model = xgbReg\n",
    "\n",
    "def compute_mesh_values(x = arange(-13,-6,0.01),y = arange(-13,-6,0.01),\n",
    "                        base = np.array([ES0,mu0,P0,S0,v0]),covariates = ['P','S'],model = xgbReg):\n",
    "\n",
    "    # the function that I'm going to plot\n",
    "    def z_func(x,y):\n",
    "\n",
    "        ES_ref = np.repeat(base[0],len(x))\n",
    "        P_ref = np.repeat(base[2],len(x))\n",
    "        mu_ref = np.repeat(base[1],len(x))\n",
    "        v_ref = np.repeat(base[4],len(x))\n",
    "        S_ref = np.repeat(base[3],len(x))\n",
    "\n",
    "#---------------------------------------------------------------------------------------------\n",
    "# choose the plot with the right axes\n",
    "\n",
    "        if covariates == ['P','S']:\n",
    "            predict_on = np.array([ES_ref,mu_ref,x,y,v_ref])\n",
    "        elif covariates == ['S','P']:\n",
    "            predict_on = np.array([ES_ref,mu_ref,y,x,v_ref])\n",
    "        \n",
    "        elif covariates == ['ES','P']: \n",
    "            predict_on = np.array([x,mu_ref,y,S_ref,v_ref])\n",
    "        elif covariates == ['P','ES'] :\n",
    "            predict_on = np.array([y,mu_ref,x,S_ref,v_ref])\n",
    "            \n",
    "        \n",
    "        elif covariates == ['ES','S'] :\n",
    "            predict_on = np.array([x,mu_ref,P_ref,y,v_ref])\n",
    "        elif covariates == ['S','ES']:\n",
    "            predict_on = np.array([y,mu_ref,P_ref,x,v_ref])\n",
    "        else: \n",
    "            raise Exception('combinaison not implemented')\n",
    "        \n",
    "#----------------------------------------------------------------------------------------------\n",
    "        \n",
    "        \n",
    "        \n",
    "        dtest = xgb.DMatrix(np.matrix.transpose(predict_on))\n",
    "        result = model.predict(dtest)\n",
    "        return result                           \n",
    "\n",
    "\n",
    "    def Z_FUNC(X,Y):\n",
    "        x = np.array([(x, y) for x in X for y in Y])\n",
    "        result = z_func(x[:,0],x[:,1]).reshape(len(X),len(Y))\n",
    "        return result\n",
    "\n",
    "    X,Y = meshgrid(x, y) # grid of point\n",
    "\n",
    "    Z = Z_FUNC(x, y) # evaluation of the function on the grid\n",
    "    \n",
    "    return Z"
   ]
  },
  {
   "cell_type": "code",
   "execution_count": 65,
   "metadata": {
    "scrolled": true
   },
   "outputs": [],
   "source": [
    "def plot_evolution(x = arange(-13,-6,0.01),y = arange(-13,-6,0.01),\n",
    "                   base = np.array([ES0,mu0,P0,S0,v0]), covariates = ['P','S'], model = xgbReg):\n",
    "    \n",
    "    Z = compute_mesh_values(x,y,base,covariates, model)\n",
    "\n",
    "    im = imshow(np.transpose(Z),cmap=cm.RdBu) # drawing the function\n",
    "    # adding the Contour lines with labels\n",
    "    #cset = contour(np.transpose(Z),arange(-2,2,0.1),linewidths=2,cmap=cm.Set2)\n",
    "    #clabel(cset,inline=True,fmt='%1.1f',fontsize=10)\n",
    "    colorbar(im) # adding the colobar on the right\n",
    "\n",
    "    ax = plt.gca()\n",
    "    ax.set_xticks(np.arange(0,len(x),len(x)/3))\n",
    "    ax.set_yticks(np.arange(0, len(x), len(x)/3))\n",
    "    ax.set_xticklabels([x[0],round(x[int(len(x)/3)],2),round(x[int(2*len(x)/3)],2)])\n",
    "    ax.set_yticklabels([y[0],round(y[int(len(x)/3)],2),round(y[int(2*len(x)/3)],2)])\n",
    "    plt.xlabel(covariates[0])\n",
    "    plt.ylabel(covariates[1])\n",
    "\n",
    "    plt.title(\"evolution of log(k1_backward) wrt to [\" + covariates[0] + '] and [' + covariates[1] +']' )\n",
    "    plt.savefig('../results/plots_evolution/volume'+str(base[-1])+'/y1_' +covariates[0]\n",
    "                +'_'+ covariates[1]+'.pdf', bbox_inches='tight')\n",
    "    plt.show()"
   ]
  },
  {
   "cell_type": "code",
   "execution_count": 72,
   "metadata": {
    "scrolled": true
   },
   "outputs": [],
   "source": [
    "def plot_evolution_model(model_parameters = param, dtrain1 = dtrain1 ):\n",
    "        \n",
    "    #xgbReg = xgb.train(params=model_parameters, dtrain=dtrain1)\n",
    "\n",
    "    \n",
    "    volumes = np.array([0. , 0.1, 0.2, 0.3, 0.4, 0.5])\n",
    "    concentrations = ['ES','P','S']\n",
    "\n",
    "    base = np.array([ES0,mu0,P0,S0,v0])\n",
    "\n",
    "    for v in volumes :\n",
    "        base[-1] = v\n",
    "        done = []\n",
    "        for i,c1 in enumerate(concentrations):\n",
    "            for c2 in np.delete(concentrations,i):\n",
    "                candidats = [c1,c2]\n",
    "                if candidats not in done:\n",
    "                    done.append(candidats)\n",
    "                    done.append([c2,c1])\n",
    "                    plot_evolution(base = base, covariates = [c1, c2])#, model = xgbReg)\n",
    "                else : \n",
    "                    print(\"combinaison already done: \",c1, \" \",c2)\n",
    "\n",
    "            \n"
   ]
  },
  {
   "cell_type": "code",
   "execution_count": 73,
   "metadata": {
    "scrolled": false
   },
   "outputs": [
    {
     "data": {
      "image/png": "[encoded data removed]",
      "text/plain": [
       "<Figure size 432x288 with 2 Axes>"
      ]
     },
     "metadata": {
      "needs_background": "light"
     },
     "output_type": "display_data"
    },
    {
     "data": {
      "image/png": "[encoded data removed]",
      "text/plain": [
       "<Figure size 432x288 with 2 Axes>"
      ]
     },
     "metadata": {
      "needs_background": "light"
     },
     "output_type": "display_data"
    },
    {
     "name": "stdout",
     "output_type": "stream",
     "text": [
      "combinaison already done:  P   ES\n"
     ]
    },
    {
     "data": {
      "image/png": "[encoded data removed]",
      "text/plain": [
       "<Figure size 432x288 with 2 Axes>"
      ]
     },
     "metadata": {
      "needs_background": "light"
     },
     "output_type": "display_data"
    },
    {
     "name": "stdout",
     "output_type": "stream",
     "text": [
      "combinaison already done:  S   ES\n",
      "combinaison already done:  S   P\n"
     ]
    },
    {
     "data": {
      "image/png": "[encoded data removed]",
      "text/plain": [
       "<Figure size 432x288 with 2 Axes>"
      ]
     },
     "metadata": {
      "needs_background": "light"
     },
     "output_type": "display_data"
    },
    {
     "data": {
      "image/png": "[encoded data removed]",
      "text/plain": [
       "<Figure size 432x288 with 2 Axes>"
      ]
     },
     "metadata": {
      "needs_background": "light"
     },
     "output_type": "display_data"
    },
    {
     "name": "stdout",
     "output_type": "stream",
     "text": [
      "combinaison already done:  P   ES\n"
     ]
    },
    {
     "data": {
      "image/png": "[encoded data removed]",
      "text/plain": [
       "<Figure size 432x288 with 2 Axes>"
      ]
     },
     "metadata": {
      "needs_background": "light"
     },
     "output_type": "display_data"
    },
    {
     "name": "stdout",
     "output_type": "stream",
     "text": [
      "combinaison already done:  S   ES\n",
      "combinaison already done:  S   P\n"
     ]
    },
    {
     "data": {
      "image/png": "[encoded data removed]",
      "text/plain": [
       "<Figure size 432x288 with 2 Axes>"
      ]
     },
     "metadata": {
      "needs_background": "light"
     },
     "output_type": "display_data"
    },
    {
     "data": {
      "image/png": "[encoded data removed]",
      "text/plain": [
       "<Figure size 432x288 with 2 Axes>"
      ]
     },
     "metadata": {
      "needs_background": "light"
     },
     "output_type": "display_data"
    },
    {
     "name": "stdout",
     "output_type": "stream",
     "text": [
      "combinaison already done:  P   ES\n"
     ]
    },
    {
     "data": {
      "image/png": "[encoded data removed]",
      "text/plain": [
       "<Figure size 432x288 with 2 Axes>"
      ]
     },
     "metadata": {
      "needs_background": "light"
     },
     "output_type": "display_data"
    },
    {
     "name": "stdout",
     "output_type": "stream",
     "text": [
      "combinaison already done:  S   ES\n",
      "combinaison already done:  S   P\n"
     ]
    },
    {
     "data": {
      "image/png": "[encoded data removed]",
      "text/plain": [
       "<Figure size 432x288 with 2 Axes>"
      ]
     },
     "metadata": {
      "needs_background": "light"
     },
     "output_type": "display_data"
    },
    {
     "data": {
      "image/png": "[encoded data removed]",
      "text/plain": [
       "<Figure size 432x288 with 2 Axes>"
      ]
     },
     "metadata": {
      "needs_background": "light"
     },
     "output_type": "display_data"
    },
    {
     "name": "stdout",
     "output_type": "stream",
     "text": [
      "combinaison already done:  P   ES\n"
     ]
    },
    {
     "data": {
      "image/png": "[encoded data removed]",
      "text/plain": [
       "<Figure size 432x288 with 2 Axes>"
      ]
     },
     "metadata": {
      "needs_background": "light"
     },
     "output_type": "display_data"
    },
    {
     "name": "stdout",
     "output_type": "stream",
     "text": [
      "combinaison already done:  S   ES\n",
      "combinaison already done:  S   P\n"
     ]
    },
    {
     "data": {
      "image/png": "[encoded data removed]",
      "text/plain": [
       "<Figure size 432x288 with 2 Axes>"
      ]
     },
     "metadata": {
      "needs_background": "light"
     },
     "output_type": "display_data"
    },
    {
     "data": {
      "image/png": "[encoded data removed]",
      "text/plain": [
       "<Figure size 432x288 with 2 Axes>"
      ]
     },
     "metadata": {
      "needs_background": "light"
     },
     "output_type": "display_data"
    },
    {
     "name": "stdout",
     "output_type": "stream",
     "text": [
      "combinaison already done:  P   ES\n"
     ]
    },
    {
     "data": {
      "image/png": "[encoded data removed]",
      "text/plain": [
       "<Figure size 432x288 with 2 Axes>"
      ]
     },
     "metadata": {
      "needs_background": "light"
     },
     "output_type": "display_data"
    },
    {
     "name": "stdout",
     "output_type": "stream",
     "text": [
      "combinaison already done:  S   ES\n",
      "combinaison already done:  S   P\n"
     ]
    },
    {
     "data": {
      "image/png": "[encoded data removed]",
      "text/plain": [
       "<Figure size 432x288 with 2 Axes>"
      ]
     },
     "metadata": {
      "needs_background": "light"
     },
     "output_type": "display_data"
    },
    {
     "data": {
      "image/png": "[encoded data removed]",
      "text/plain": [
       "<Figure size 432x288 with 2 Axes>"
      ]
     },
     "metadata": {
      "needs_background": "light"
     },
     "output_type": "display_data"
    },
    {
     "name": "stdout",
     "output_type": "stream",
     "text": [
      "combinaison already done:  P   ES\n"
     ]
    },
    {
     "data": {
      "image/png": "[encoded data removed]",
      "text/plain": [
       "<Figure size 432x288 with 2 Axes>"
      ]
     },
     "metadata": {
      "needs_background": "light"
     },
     "output_type": "display_data"
    },
    {
     "name": "stdout",
     "output_type": "stream",
     "text": [
      "combinaison already done:  S   ES\n",
      "combinaison already done:  S   P\n"
     ]
    }
   ],
   "source": [
    "plot_evolution_model()"
   ]
  },
  {
   "cell_type": "code",
   "execution_count": null,
   "metadata": {},
   "outputs": [],
   "source": [
    "Z_star = Z.reshape(Z.shape[0]*Z.shape[1])\n",
    "print(\"Z done\")\n",
    "y_star = y1[(X_panda[\"enzyme_complex_concentration\"] == ES0) &\n",
    "                (X_panda[\"mu_mass\"] == mu0) & \n",
    "                (X_panda[\"volume_fraction\"] ==v0)]\n",
    "print(\"y_star done\")\n",
    "visualisation = pd.DataFrame(Z_star)\n",
    "print(visualisation.describe())\n",
    "print(\" \")\n",
    "print(y_star.describe())"
   ]
  },
  {
   "cell_type": "code",
   "execution_count": null,
   "metadata": {
    "scrolled": false
   },
   "outputs": [],
   "source": [
    "y1.describe()"
   ]
  },
  {
   "cell_type": "code",
   "execution_count": null,
   "metadata": {
    "scrolled": false
   },
   "outputs": [],
   "source": [
    "dtest = xgb.DMatrix(X_train[0:2,:])\n",
    "ypred = xgbReg.predict(dtest)\n",
    "error = ypred - y1_train[0:2]\n",
    "plt.hist(error, bins = 1000)\n",
    "plt.xlabel(\"Prediction Error\")\n",
    "_ = plt.ylabel(\"Count\")"
   ]
  },
  {
   "cell_type": "code",
   "execution_count": null,
   "metadata": {},
   "outputs": [],
   "source": [
    "test = np.array([ES0,mu0,P0,S0,v0])\n",
    "print(test)"
   ]
  },
  {
   "cell_type": "code",
   "execution_count": null,
   "metadata": {
    "scrolled": true
   },
   "outputs": [],
   "source": [
    "print(X_train[0:2,:])\n",
    "print(ypred)\n",
    "print(y1_train[0:2])"
   ]
  },
  {
   "cell_type": "code",
   "execution_count": null,
   "metadata": {},
   "outputs": [],
   "source": [
    "print(xgbReg.predict(xgb.DMatrix(np.array(([test,test])))))"
   ]
  },
  {
   "cell_type": "code",
   "execution_count": null,
   "metadata": {},
   "outputs": [],
   "source": [
    "X_visu = pd.DataFrame(X_train)\n",
    "X_visu = X_visu.rename(columns={0: \"ES\", 1: \"mu\", 2:\"P\",3:\"S\",4:\"v\"})\n",
    "X_visu.head()"
   ]
  },
  {
   "cell_type": "code",
   "execution_count": null,
   "metadata": {},
   "outputs": [],
   "source": [
    "y1_train[(X_visu[\"ES\"] == test[0]) & (X_visu[\"mu\"]==test[1]) & (X_visu[\"P\"]==test[2]) & (X_visu[\"S\"]==test[3])\n",
    "      & (X_visu[\"v\"]==test[4])]"
   ]
  },
  {
   "cell_type": "markdown",
   "metadata": {},
   "source": [
    "the values below will gives us the bound to do our plots"
   ]
  },
  {
   "cell_type": "code",
   "execution_count": null,
   "metadata": {},
   "outputs": [],
   "source": [
    "pd.DataFrame(X_test).describe()"
   ]
  },
  {
   "cell_type": "markdown",
   "metadata": {},
   "source": [
    " "
   ]
  },
  {
   "cell_type": "markdown",
   "metadata": {},
   "source": [
    " "
   ]
  },
  {
   "cell_type": "markdown",
   "metadata": {},
   "source": [
    "## From doc skilearn"
   ]
  },
  {
   "cell_type": "markdown",
   "metadata": {},
   "source": [
    " "
   ]
  },
  {
   "cell_type": "code",
   "execution_count": null,
   "metadata": {},
   "outputs": [],
   "source": [
    "print(__doc__)\n",
    "\n",
    "\n",
    "# Code source: Gaël Varoquaux\n",
    "#              Andreas Müller\n",
    "# Modified for documentation by Jaques Grobler\n",
    "# License: BSD 3 clause\n",
    "\n",
    "import numpy as np\n",
    "import matplotlib.pyplot as plt\n",
    "from matplotlib.colors import ListedColormap\n",
    "from sklearn.model_selection import train_test_split\n",
    "from sklearn.preprocessing import StandardScaler\n",
    "from sklearn.datasets import make_moons, make_circles, make_classification\n",
    "from sklearn.ensemble import RandomForestClassifier, AdaBoostClassifier\n",
    "\n",
    "\n",
    "h = .02  # step size in the mesh\n",
    "\n",
    "names = [\"AdaBoost\"]\n",
    "\n",
    "classifiers = [AdaBoostClassifier()]\n",
    "\n",
    "X, y = make_classification(n_features=2, n_redundant=0, n_informative=2,\n",
    "                           random_state=1, n_clusters_per_class=1)\n",
    "rng = np.random.RandomState(2)\n",
    "X += 2 * rng.uniform(size=X.shape)\n",
    "linearly_separable = (X, y)\n",
    "\n",
    "datasets = [make_moons(noise=0.3, random_state=0),\n",
    "            make_circles(noise=0.2, factor=0.5, random_state=1),\n",
    "            linearly_separable\n",
    "            ]\n",
    "\n",
    "figure = plt.figure(figsize=(27, 9))\n",
    "i = 1 \n",
    "# iterate over datasets\n",
    "for ds_cnt, ds in enumerate(datasets):\n",
    "    # preprocess dataset, split into training and test part\n",
    "    X, y = ds\n",
    "    X = StandardScaler().fit_transform(X)\n",
    "    X_train, X_test, y_train, y_test = \\\n",
    "        train_test_split(X, y, test_size=.4, random_state=42)\n",
    "\n",
    "    x_min, x_max = X[:, 0].min() - .5, X[:, 0].max() + .5\n",
    "    y_min, y_max = X[:, 1].min() - .5, X[:, 1].max() + .5\n",
    "    xx, yy = np.meshgrid(np.arange(x_min, x_max, h),\n",
    "                         np.arange(y_min, y_max, h))\n",
    "    # iterate over classifiers\n",
    "    for name, clf in zip(names, classifiers):\n",
    "        ax = plt.subplot(len(datasets), len(classifiers) + 1, i)\n",
    "        clf.fit(X_train, y_train)\n",
    "        \n",
    "        \n",
    "        # Plot the decision boundary. For that, we will assign a color to each\n",
    "        # point in the mesh [x_min, x_max]x[y_min, y_max].\n",
    "        if hasattr(clf, \"decision_function\"):\n",
    "            Z = clf.decision_function(np.c_[xx.ravel(), yy.ravel()])\n",
    "        else:\n",
    "            Z = clf.predict_proba(np.c_[xx.ravel(), yy.ravel()])[:, 1]\n",
    "\n",
    "        # Put the result into a color plot\n",
    "        Z = Z.reshape(xx.shape)\n",
    "        ax.contourf(xx, yy, Z, cmap=cm, alpha=.8)\n",
    "\n",
    "        # Plot the training points\n",
    "        ax.scatter(X_train[:, 0], X_train[:, 1], c=y_train, cmap=cm_bright,\n",
    "                   edgecolors='k')\n",
    "\n",
    "\n",
    "        ax.set_xlim(xx.min(), xx.max())\n",
    "        ax.set_ylim(yy.min(), yy.max())\n",
    "        ax.set_xticks(())\n",
    "        ax.set_yticks(())\n",
    "        if ds_cnt == 0:\n",
    "            ax.set_title(name)\n",
    "        i += 1\n",
    "\n",
    "plt.tight_layout()\n",
    "plt.show()\n"
   ]
  },
  {
   "cell_type": "markdown",
   "metadata": {},
   "source": [
    " "
   ]
  },
  {
   "cell_type": "markdown",
   "metadata": {},
   "source": [
    " "
   ]
  },
  {
   "cell_type": "markdown",
   "metadata": {},
   "source": [
    "# Neural networks"
   ]
  },
  {
   "cell_type": "code",
   "execution_count": null,
   "metadata": {
    "scrolled": true
   },
   "outputs": [],
   "source": [
    "import tensorflow as tf\n",
    "from tensorflow import keras\n",
    "\n",
    "# Helper libraries\n",
    "import numpy as np\n",
    "import matplotlib.pyplot as plt\n",
    "\n",
    "print(tf.__version__)\n",
    "\n",
    "\n",
    "##3 have to upgrade the version of h5py otherwise the kernel dies ! use 'pip install h5py==2.8.0' "
   ]
  },
  {
   "cell_type": "code",
   "execution_count": null,
   "metadata": {},
   "outputs": [],
   "source": [
    "y1, y2, y3, y4, X, realization = william.data_initialization(realiz=True)\n",
    "\n",
    "Y = np.column_stack((y1, y1, y3, y4))\n",
    "\n",
    "X_train, X_test, y_train, y_test = william.train_test_split_realiz(X, Y,realization ,test_size=0.3)\n",
    "\n",
    "train_data = X_train\n",
    "train_labels = y_train[:,1]\n",
    "\n",
    "test_data = X_test\n",
    "test_labels = y_test[:,1]"
   ]
  },
  {
   "cell_type": "code",
   "execution_count": null,
   "metadata": {},
   "outputs": [],
   "source": [
    "def build_model():\n",
    "  model = keras.Sequential([\n",
    "    keras.layers.Dense(64, activation=tf.nn.relu,\n",
    "                       input_shape=(train_data.shape[1],)),\n",
    "    keras.layers.Dense(64, activation=tf.nn.relu),\n",
    "    keras.layers.Dense(1)\n",
    "  ])\n",
    "\n",
    "  optimizer = tf.train.RMSPropOptimizer(0.001)\n",
    "\n",
    "  model.compile(loss='mse',\n",
    "                optimizer=optimizer,\n",
    "                metrics=['mae'])\n",
    "  return model\n",
    "\n",
    "model = build_model()\n",
    "model.summary()\n"
   ]
  },
  {
   "cell_type": "code",
   "execution_count": null,
   "metadata": {},
   "outputs": [],
   "source": [
    "model = build_model()\n",
    "\n",
    "# Display training progress by printing a single dot for each completed epoch\n",
    "class PrintDot(keras.callbacks.Callback):\n",
    "  def on_epoch_end(self, epoch, logs):\n",
    "    if epoch % 100 == 0: print('')\n",
    "    print('.', end='')\n",
    "\n",
    "EPOCHS = 500\n",
    "\n",
    "# The patience parameter is the amount of epochs to check for improvement\n",
    "early_stop = keras.callbacks.EarlyStopping(monitor='val_loss', patience=40)\n",
    "\n",
    "history = model.fit(train_data, train_labels, epochs=EPOCHS,\n",
    "                    validation_split=0.2, verbose=0,\n",
    "                    callbacks=[early_stop, PrintDot()])"
   ]
  },
  {
   "cell_type": "code",
   "execution_count": null,
   "metadata": {
    "scrolled": true
   },
   "outputs": [],
   "source": [
    "def plot_history(history):\n",
    "  plt.figure()\n",
    "  plt.xlabel('Epoch')\n",
    "  plt.ylabel('Mean Abs Error [1000$]')\n",
    "  plt.plot(history.epoch, np.array(history.history['mean_absolute_error']),\n",
    "           label='Train Loss')\n",
    "  plt.plot(history.epoch, np.array(history.history['val_mean_absolute_error']),\n",
    "           label = 'Val loss')\n",
    "  plt.legend()\n",
    "  plt.ylim([0, 0.6])\n",
    "\n",
    "plot_history(history)\n"
   ]
  },
  {
   "cell_type": "code",
   "execution_count": null,
   "metadata": {},
   "outputs": [],
   "source": [
    "test_predictions = model.predict(test_data).flatten()\n",
    "\n",
    "plt.scatter(test_labels, test_predictions, s =1, alpha = 1)\n",
    "plt.xlabel('True Values')\n",
    "plt.ylabel('Predictions')\n",
    "plt.axis('equal')\n",
    "plt.xlim(plt.xlim())\n",
    "plt.ylim(plt.ylim())\n",
    "_ = plt.plot([-100, 100], [-100, 100])"
   ]
  },
  {
   "cell_type": "code",
   "execution_count": null,
   "metadata": {
    "scrolled": true
   },
   "outputs": [],
   "source": [
    "error = test_predictions - test_labels\n",
    "plt.hist(error, bins = 500)\n",
    "plt.xlabel(\"Prediction Error\")\n",
    "_ = plt.ylabel(\"Count\")\n"
   ]
  },
  {
   "cell_type": "code",
   "execution_count": null,
   "metadata": {},
   "outputs": [],
   "source": [
    "np.mean(error*error)"
   ]
  },
  {
   "cell_type": "markdown",
   "metadata": {},
   "source": [
    "  "
   ]
  },
  {
   "cell_type": "markdown",
   "metadata": {},
   "source": [
    " "
   ]
  },
  {
   "cell_type": "markdown",
   "metadata": {},
   "source": [
    "# Definition of the data vizualization functions"
   ]
  },
  {
   "cell_type": "markdown",
   "metadata": {},
   "source": [
    "here we aim to plot the predicted value with its confidence interval "
   ]
  },
  {
   "cell_type": "code",
   "execution_count": null,
   "metadata": {},
   "outputs": [],
   "source": [
    "import numpy as np\n",
    "import matplotlib.pyplot as plt\n",
    "\n",
    "from sklearn.ensemble import GradientBoostingRegressor\n",
    "\n",
    "np.random.seed(1)\n",
    "\n",
    "\n",
    "def f(x):\n",
    "    \"\"\"The function to predict.\"\"\"\n",
    "    return x * np.cos(x)/(np.sin(x)+1.1)\n",
    "\n",
    "#----------------------------------------------------------------------\n",
    "#  First the noiseless case\n",
    "X = np.atleast_2d(np.random.uniform(0, 10.0, size=100)).T\n",
    "X = X.astype(np.float32)\n",
    "\n",
    "# Observations\n",
    "y = f(X).ravel()\n",
    "\n",
    "dy = 1.5 + 1.0 * np.random.random(y.shape)\n",
    "noise = np.random.normal(0, dy)\n",
    "y += noise\n",
    "y = y.astype(np.float32)\n",
    "\n",
    "# Mesh the input space for evaluations of the real function, the prediction and\n",
    "# its MSE\n",
    "xx = np.atleast_2d(np.linspace(0, 10, 1000)).T\n",
    "xx = xx.astype(np.float32)\n",
    "\n",
    "alpha = 0.95\n",
    "\n",
    "clf = GradientBoostingRegressor(loss='quantile', alpha=alpha,\n",
    "                                n_estimators=250, max_depth=3,\n",
    "                                learning_rate=.1, min_samples_leaf=9,\n",
    "                                min_samples_split=9)\n",
    "\n",
    "clf.fit(X, y)\n",
    "\n",
    "# Make the prediction on the meshed x-axis\n",
    "y_upper = clf.predict(xx)\n",
    "\n",
    "clf.set_params(alpha=1.0 - alpha)\n",
    "clf.fit(X, y)\n",
    "\n",
    "# Make the prediction on the meshed x-axis\n",
    "y_lower = clf.predict(xx)\n",
    "\n",
    "clf.set_params(loss='ls')\n",
    "clf.fit(X, y)\n",
    "\n",
    "# Make the prediction on the meshed x-axis\n",
    "y_pred = clf.predict(xx)\n",
    "\n",
    "# Plot the function, the prediction and the 90% confidence interval based on\n",
    "# the MSE\n",
    "fig = plt.figure()\n",
    "plt.plot(xx, f(xx), 'g:', label=u'$f(x) = x\\,\\sin(x)$')\n",
    "#plt.plot(X, y, 'b.', markersize=10, label=u'Observations')\n",
    "plt.plot(xx, y_pred, 'r-', label=u'Prediction')\n",
    "plt.plot(xx, y_upper, 'k-')\n",
    "plt.plot(xx, y_lower, 'k-')\n",
    "#plt.fill(np.concatenate([xx, xx[::-1]]),np.concatenate([y_upper, y_lower[::-1]]),alpha=.5, fc='b', ec='None', label='90% prediction interval')\n",
    "plt.xlabel('$x$')\n",
    "plt.ylabel('$f(x)$')\n",
    "plt.ylim(-10, 20)\n",
    "plt.legend(loc='upper left')\n",
    "plt.show()"
   ]
  },
  {
   "cell_type": "markdown",
   "metadata": {},
   "source": [
    "# Loading the data"
   ]
  },
  {
   "cell_type": "code",
   "execution_count": null,
   "metadata": {},
   "outputs": [],
   "source": [
    "import run_reproduction"
   ]
  },
  {
   "cell_type": "code",
   "execution_count": null,
   "metadata": {},
   "outputs": [],
   "source": [
    "file = \"../Data/result_full_factorial_pgm.csv\""
   ]
  },
  {
   "cell_type": "code",
   "execution_count": null,
   "metadata": {},
   "outputs": [],
   "source": [
    "data = run_reproduction.Data_prep_replication(file)"
   ]
  },
  {
   "cell_type": "code",
   "execution_count": null,
   "metadata": {},
   "outputs": [],
   "source": [
    "weights = run_reproduction.weights_obtain(data)"
   ]
  },
  {
   "cell_type": "code",
   "execution_count": null,
   "metadata": {},
   "outputs": [],
   "source": [
    "results = run_reproduction.regression_results(data)"
   ]
  },
  {
   "cell_type": "code",
   "execution_count": null,
   "metadata": {
    "scrolled": true
   },
   "outputs": [],
   "source": [
    "results.head()"
   ]
  },
  {
   "cell_type": "markdown",
   "metadata": {},
   "source": [
    "X = data.loc[:, data.columns != '']\n",
    "X_train, X_test, y_train, y_test = train_test_split(X, y1, random_state=0, test_size=0.4)\n",
    "print(X_train.shape, X_test.shape)"
   ]
  },
  {
   "cell_type": "code",
   "execution_count": null,
   "metadata": {
    "scrolled": true
   },
   "outputs": [],
   "source": [
    "marie.regression_results(data)"
   ]
  },
  {
   "cell_type": "code",
   "execution_count": null,
   "metadata": {
    "scrolled": true
   },
   "outputs": [],
   "source": [
    "#we look for a crowding condition of 10%\n",
    "test = data[(data['volume_fraction']==0.1)]\n",
    "\n",
    "test = test[(test['sigma_mass'] == 0.825)]\n",
    "test = test[(test['mu_mass']== 31.9)]\n",
    "Weights = charles.weights_obtain(test)"
   ]
  },
  {
   "cell_type": "code",
   "execution_count": null,
   "metadata": {},
   "outputs": [],
   "source": [
    "Weights.head()"
   ]
  },
  {
   "cell_type": "markdown",
   "metadata": {},
   "source": [
    "## Notation\n",
    "\n",
    "y1 = log_k1_bwd\n",
    "\n",
    "y2 = log_k1_fwd\n",
    "\n",
    "y3 = log_k2_bwd\n",
    "\n",
    "y4 = log_k2_fwd"
   ]
  },
  {
   "cell_type": "code",
   "execution_count": null,
   "metadata": {},
   "outputs": [],
   "source": [
    "# build the model matrix\n",
    "X = test[['E','ES','P','S']]\n",
    "X = sm.add_constant(X)"
   ]
  },
  {
   "cell_type": "code",
   "execution_count": null,
   "metadata": {},
   "outputs": [],
   "source": [
    "X.head()"
   ]
  },
  {
   "cell_type": "code",
   "execution_count": null,
   "metadata": {},
   "outputs": [],
   "source": [
    "model_y1 = sm.WLS(test['log_k1_bwd'],X, weights=Weights.log_k1_bwd).fit()\n",
    "model_y2 = sm.WLS(test['log_k1_fwd'],X, weights=Weights.log_k1_fwd).fit()\n",
    "model_y3 = sm.WLS(test['log_k2_bwd'],X, weights=Weights.log_k2_bwd).fit()\n",
    "model_y4 = sm.WLS(test['log_k2_fwd'],X, weights=Weights.log_k2_fwd).fit()"
   ]
  },
  {
   "cell_type": "code",
   "execution_count": null,
   "metadata": {},
   "outputs": [],
   "source": [
    "print(model_y1.summary())\n",
    "print(model_y2.summary())\n",
    "print(model_y3.summary())\n",
    "print(model_y4.summary())"
   ]
  },
  {
   "cell_type": "code",
   "execution_count": null,
   "metadata": {
    "scrolled": true
   },
   "outputs": [],
   "source": [
    "print(model_y1.rsquared_adj)"
   ]
  },
  {
   "cell_type": "code",
   "execution_count": null,
   "metadata": {},
   "outputs": [],
   "source": [
    "models = [model_y1,model_y2,model_y3,model_y4]\n",
    "for m in models:\n",
    "    print(m.mse_total)"
   ]
  },
  {
   "cell_type": "code",
   "execution_count": null,
   "metadata": {},
   "outputs": [],
   "source": [
    "R,M = charles.obtain_measure_goodness_of_fit_reproduction()"
   ]
  },
  {
   "cell_type": "code",
   "execution_count": null,
   "metadata": {},
   "outputs": [],
   "source": [
    "# name = 'log_k2_fwd'\n",
    "print(R[name])\n",
    "print(\" \")\n",
    "print(M[name])\n"
   ]
  },
  {
   "cell_type": "code",
   "execution_count": null,
   "metadata": {},
   "outputs": [],
   "source": [
    "M"
   ]
  },
  {
   "cell_type": "code",
   "execution_count": null,
   "metadata": {},
   "outputs": [],
   "source": [
    "R"
   ]
  },
  {
   "cell_type": "markdown",
   "metadata": {},
   "source": [
    " \n",
    "    "
   ]
  },
  {
   "cell_type": "code",
   "execution_count": null,
   "metadata": {},
   "outputs": [],
   "source": [
    "file_results = '../results/reproduction.csv'"
   ]
  },
  {
   "cell_type": "code",
   "execution_count": null,
   "metadata": {},
   "outputs": [],
   "source": [
    "results = pd.read_csv(file_results)"
   ]
  },
  {
   "cell_type": "code",
   "execution_count": null,
   "metadata": {
    "scrolled": true
   },
   "outputs": [],
   "source": [
    "results"
   ]
  },
  {
   "cell_type": "markdown",
   "metadata": {},
   "source": [
    "we want to plot the evolution of the different coefficients wrt to the evolution of the volume fraction "
   ]
  },
  {
   "cell_type": "code",
   "execution_count": null,
   "metadata": {},
   "outputs": [],
   "source": [
    "results['Median of the Massdistribution in kDa'].unique()"
   ]
  },
  {
   "cell_type": "code",
   "execution_count": null,
   "metadata": {
    "scrolled": true
   },
   "outputs": [],
   "source": [
    "data_of_interest = results[(results['Rate constant']== 'k1_bwd') & (results['Median of the Massdistribution in kDa'] < 21)]\n",
    "\n",
    "intercept_k1_bwd = data_of_interest.beta.values.astype(np.float)\n",
    "alpha_E_k1_bwd = data_of_interest['alpha E'].values.astype(np.float)\n",
    "alpha_E_k1_bwd_below = data_of_interest['alpha E.1'].values.astype(np.float)\n",
    "alpha_E_k1_bwd_above = data_of_interest['alpha E.2'].values.astype(np.float)\n",
    "\n",
    "alpha_ES_k1_bwd = data_of_interest['alpha ES'].values.astype(np.float)\n",
    "alpha_P_k1_bwd = data_of_interest['alpha P'].values.astype(np.float)\n",
    "alpha_S_k1_bwd = data_of_interest['alpha S'].values.astype(np.float)\n",
    "volume_frac = data_of_interest['Volume fraction'].values.astype(np.float)"
   ]
  },
  {
   "cell_type": "code",
   "execution_count": null,
   "metadata": {
    "scrolled": true
   },
   "outputs": [],
   "source": [
    "plt.plot(volume_frac,alpha_E_k1_bwd)\n",
    "plt.plot(volume_frac,alpha_E_k1_bwd_below)\n",
    "plt.plot(volume_frac,alpha_E_k1_bwd_above)\n",
    "plt.xlabel(\"volume fraction\")\n",
    "plt.ylabel(\"alpha E\")\n",
    "plt.title(\"for k1_bwd\")"
   ]
  },
  {
   "cell_type": "code",
   "execution_count": null,
   "metadata": {},
   "outputs": [],
   "source": [
    "ax = sns.lineplot(volume_frac,alpha_E_k1_bwd)\n",
    "ax = sns.lineplot(volume_frac, alpha_E_k1_bwd_above)"
   ]
  },
  {
   "cell_type": "code",
   "execution_count": null,
   "metadata": {},
   "outputs": [],
   "source": [
    "fmri = sns.load_dataset(\"fmri\")\n",
    "ax = sns.lineplot(x=\"timepoint\", y=\"signal\", data=fmri)\n"
   ]
  },
  {
   "cell_type": "code",
   "execution_count": null,
   "metadata": {},
   "outputs": [],
   "source": []
  },
  {
   "cell_type": "code",
   "execution_count": null,
   "metadata": {},
   "outputs": [],
   "source": []
  },
  {
   "cell_type": "code",
   "execution_count": null,
   "metadata": {},
   "outputs": [],
   "source": []
  },
  {
   "cell_type": "code",
   "execution_count": null,
   "metadata": {},
   "outputs": [],
   "source": []
  },
  {
   "cell_type": "code",
   "execution_count": null,
   "metadata": {},
   "outputs": [],
   "source": []
  },
  {
   "cell_type": "code",
   "execution_count": null,
   "metadata": {},
   "outputs": [],
   "source": []
  },
  {
   "cell_type": "code",
   "execution_count": null,
   "metadata": {},
   "outputs": [],
   "source": []
  },
  {
   "cell_type": "code",
   "execution_count": null,
   "metadata": {},
   "outputs": [],
   "source": []
  },
  {
   "cell_type": "code",
   "execution_count": null,
   "metadata": {},
   "outputs": [],
   "source": []
  },
  {
   "cell_type": "code",
   "execution_count": null,
   "metadata": {},
   "outputs": [],
   "source": []
  },
  {
   "cell_type": "code",
   "execution_count": null,
   "metadata": {},
   "outputs": [],
   "source": []
  },
  {
   "cell_type": "code",
   "execution_count": null,
   "metadata": {},
   "outputs": [],
   "source": []
  },
  {
   "cell_type": "code",
   "execution_count": null,
   "metadata": {},
   "outputs": [],
   "source": []
  },
  {
   "cell_type": "code",
   "execution_count": null,
   "metadata": {},
   "outputs": [],
   "source": []
  },
  {
   "cell_type": "code",
   "execution_count": null,
   "metadata": {},
   "outputs": [],
   "source": []
  },
  {
   "cell_type": "code",
   "execution_count": null,
   "metadata": {},
   "outputs": [],
   "source": []
  },
  {
   "cell_type": "code",
   "execution_count": null,
   "metadata": {},
   "outputs": [],
   "source": []
  },
  {
   "cell_type": "code",
   "execution_count": null,
   "metadata": {},
   "outputs": [],
   "source": []
  },
  {
   "cell_type": "code",
   "execution_count": null,
   "metadata": {},
   "outputs": [],
   "source": []
  },
  {
   "cell_type": "code",
   "execution_count": null,
   "metadata": {},
   "outputs": [],
   "source": []
  },
  {
   "cell_type": "markdown",
   "metadata": {},
   "source": [
    "#  <span style=\"color:red\"> *Garbage, don't look* </span>."
   ]
  },
  {
   "cell_type": "markdown",
   "metadata": {},
   "source": [
    "# From the paper, theory"
   ]
  },
  {
   "cell_type": "markdown",
   "metadata": {},
   "source": [
    "Linear regression to estimate $\\beta$ and $\\alpha_j$ in the following model:\n",
    "\n",
    "\\begin{equation*}\n",
    "log(\\frac{k_j}{k_{j,0}}) = \\beta_j + \\alpha_{E,j}log(\\frac{[E]}{[E]_0}) + \\alpha_{ES,j}log(\\frac{[ES]}{[ES]_0})  + \\alpha_{P,j}log(\\frac{[P]}{[P]_0})  + \\alpha_{S,j}log(\\frac{[S]}{[S]_0}) \n",
    "\\end{equation*}\n",
    "\n",
    "where $j\\in [1_{bwd}, 1_{fwd}, 2_{bwd}, 2_{fwd}]$,\n",
    "\n",
    "$k$ is the effective rate constant, and $k_0$ is the relative rate constant\n"
   ]
  },
  {
   "cell_type": "markdown",
   "metadata": {},
   "source": [
    "basically the log ration of the concentration only depends on the volume fraction, the sigma mass and the mu mass: we don't need the covariate [E], [S], [ES], [P] and we can predict exactly the results"
   ]
  },
  {
   "cell_type": "markdown",
   "metadata": {},
   "source": [
    " "
   ]
  },
  {
   "cell_type": "markdown",
   "metadata": {},
   "source": [
    " "
   ]
  },
  {
   "cell_type": "markdown",
   "metadata": {},
   "source": [
    "form the code of the paper"
   ]
  },
  {
   "cell_type": "code",
   "execution_count": null,
   "metadata": {},
   "outputs": [],
   "source": [
    "X = data[['E','ES','P','S']]\n",
    "Y = data.log_k1_bwd\n",
    "\n",
    "X = sm.add_constant(X)"
   ]
  },
  {
   "cell_type": "code",
   "execution_count": null,
   "metadata": {},
   "outputs": [],
   "source": [
    "model = LinearRegression()\n",
    "model.fit(X,Y)\n",
    "res = (Y-model.predict(X)).values"
   ]
  },
  {
   "cell_type": "code",
   "execution_count": null,
   "metadata": {},
   "outputs": [],
   "source": [
    "model2 = sm.OLS(X,Y).fit()\n",
    "res2 = sm.OLS(X,Y).fit().resid"
   ]
  },
  {
   "cell_type": "code",
   "execution_count": null,
   "metadata": {},
   "outputs": [],
   "source": [
    "res2"
   ]
  },
  {
   "cell_type": "code",
   "execution_count": null,
   "metadata": {},
   "outputs": [],
   "source": []
  },
  {
   "cell_type": "code",
   "execution_count": null,
   "metadata": {},
   "outputs": [],
   "source": []
  },
  {
   "cell_type": "code",
   "execution_count": null,
   "metadata": {},
   "outputs": [],
   "source": []
  },
  {
   "cell_type": "code",
   "execution_count": null,
   "metadata": {},
   "outputs": [],
   "source": []
  },
  {
   "cell_type": "code",
   "execution_count": null,
   "metadata": {},
   "outputs": [],
   "source": [
    "import numpy as np\n",
    "import statsmodels.api as sm\n",
    "data = sm.datasets.longley.load()\n",
    "data.exog = sm.add_constant(data.exog)\n",
    "ols_resid = sm.OLS(data.endog, data.exog).fit().resid\n",
    "res_fit = sm.OLS(ols_resid[1:], ols_resid[:-1]).fit()\n",
    "rho = res_fit.params"
   ]
  },
  {
   "cell_type": "code",
   "execution_count": null,
   "metadata": {},
   "outputs": [],
   "source": [
    "ols_resid"
   ]
  },
  {
   "cell_type": "code",
   "execution_count": null,
   "metadata": {},
   "outputs": [],
   "source": []
  },
  {
   "cell_type": "markdown",
   "metadata": {},
   "source": [
    "# Computation of the residuals   "
   ]
  },
  {
   "cell_type": "markdown",
   "metadata": {},
   "source": [
    "### note\n",
    "\n",
    "We have to do this for each \"group\" define by a combination of values of `sigma_mass`, `mu_mass` and `volume_occupation`"
   ]
  },
  {
   "cell_type": "markdown",
   "metadata": {},
   "source": [
    "following the paper process we compute regression like the following one : \n",
    "\n",
    "\n",
    "`log_k_j` = $\\beta + \\alpha_1$ `E` + $r_E$\n",
    "\n",
    "and then compute an estimate of the variance: \n",
    "\n",
    "$\\sqrt{\\frac{RSS}{n-2}}$  where RSS = $|| r_E||_2^2$"
   ]
  },
  {
   "cell_type": "code",
   "execution_count": null,
   "metadata": {},
   "outputs": [],
   "source": [
    "#create dataframe to do the regression\n",
    "def create_regressors(data_test,name):\n",
    "    x = data_test[name].values\n",
    "    X = np.c_[np.ones(len(x)), x]\n",
    "    return X"
   ]
  },
  {
   "cell_type": "code",
   "execution_count": null,
   "metadata": {},
   "outputs": [],
   "source": [
    "#do the regression and return the model fitted\n",
    "def regression(X,y):\n",
    "    reg = LinearRegression()\n",
    "    reg.fit(X,y)\n",
    "    \n",
    "    y_hat = reg.predict(X)\n",
    "    coeffs = reg.coef_\n",
    "    residuals = (y-y_hat).values\n",
    "    return coeffs,y_hat,residuals"
   ]
  },
  {
   "cell_type": "code",
   "execution_count": null,
   "metadata": {},
   "outputs": [],
   "source": [
    "mus = data.mu_mass.unique()\n",
    "sigmas = data.sigma_mass.unique()\n",
    "volumes = [0.1,0.2,0.3,0.4,0.5]\n",
    "\n",
    "names = [\"E\",\"ES\",\"P\",\"S\"]"
   ]
  },
  {
   "cell_type": "code",
   "execution_count": null,
   "metadata": {},
   "outputs": [],
   "source": [
    "def Regressors(data):\n",
    "    '''\n",
    "    return a vector containing the design matrix for the regression of the log efficient rate ratio against \n",
    "    E,ES,P,S in that order\n",
    "    '''\n",
    "    X_total = []\n",
    "    for name in names:\n",
    "        X_total.append(create_regressors(data,name))\n",
    "    return X_total"
   ]
  },
  {
   "cell_type": "code",
   "execution_count": null,
   "metadata": {},
   "outputs": [],
   "source": [
    "#combination done into the paper\n",
    "combinations = [[31.9,0.825],[12.1,0],[21.1,0],[36.8,0]]"
   ]
  },
  {
   "cell_type": "markdown",
   "metadata": {},
   "source": [
    "we do the regression oonly for `log_k1_backward`"
   ]
  },
  {
   "cell_type": "code",
   "execution_count": null,
   "metadata": {},
   "outputs": [],
   "source": [
    "results = []\n",
    "\n",
    "for volume in volumes:\n",
    "    for comb in combinations:\n",
    "        mu = comb[0]\n",
    "        sigma =comb[1]\n",
    "        #take data wth corresponding values in mu, sigma and volume fraction\n",
    "        data_tested = data_trans[(data_trans['volume_fraction']== volume) & (data_trans['sigma_mass'] == sigma) \n",
    "                                         & (data_trans['mu_mass'] == mu)]\n",
    "        \n",
    "        \n",
    "        #build regression matrices\n",
    "        X_total = Regressors(data_tested)\n",
    "        y = data_tested.log_k1_bwd\n",
    "        \n",
    "        #storage for the model\n",
    "        #do the regression for each individual regressor (E,ES,P,S)\n",
    "        for i,X in enumerate(X_total):\n",
    "            c,y_,r = regression(X,y)\n",
    "            results.append([volume,mu,sigma,names[i],c,y_,r])\n"
   ]
  },
  {
   "cell_type": "code",
   "execution_count": null,
   "metadata": {
    "scrolled": false
   },
   "outputs": [],
   "source": [
    "results =  pd.DataFrame(results)\n",
    "results.columns = [\"volume fraction\",\"mu mass\",\"sigma mass\",\"regressor\",\"coefficients\",\"fitted values\",\"residuals\"]\n",
    "results.head()"
   ]
  },
  {
   "cell_type": "markdown",
   "metadata": {},
   "source": [
    "  "
   ]
  },
  {
   "cell_type": "markdown",
   "metadata": {},
   "source": [
    "Now for each of the possible model, we compute the estimated variance of the residuals "
   ]
  },
  {
   "cell_type": "code",
   "execution_count": null,
   "metadata": {},
   "outputs": [],
   "source": [
    "def estimate_variance(residuals):\n",
    "    '''\n",
    "    compute an estimate of the variance of the residuals of the residuals of a simple model with intercept + one covariate\n",
    "    '''\n",
    "    \n",
    "    return np.sqrt(residuals.T@residuals/(len(residuals)-2)) "
   ]
  },
  {
   "cell_type": "code",
   "execution_count": null,
   "metadata": {},
   "outputs": [],
   "source": [
    "variances = []\n",
    "for elt in results.residuals:\n",
    "    variances.append(estimate_variance(elt))\n",
    "\n",
    "results['variance'] = variances"
   ]
  },
  {
   "cell_type": "code",
   "execution_count": null,
   "metadata": {
    "scrolled": true
   },
   "outputs": [],
   "source": [
    "results.head()"
   ]
  },
  {
   "cell_type": "markdown",
   "metadata": {},
   "source": [
    "from the paper, we now have that the variances we just computed can be used as weights in the following weighted linear regression:\n",
    "\n",
    "\n",
    "\\begin{equation}\n",
    "log(\\frac{k_j}{k_{j,0}}) = \\beta_j + \\frac{1}{w_{E,j}}\\alpha_{E,j}log(\\frac{[E]}{[E]_0}) + \\frac{1}{w_{ES,j}}\\alpha_{ES,j}log(\\frac{[ES]}{[ES]_0})  + \\frac{1}{w_{P,j}}\\alpha_{P,j}log(\\frac{[P]}{[P]_0})  + \\frac{1}{w_{S,j}}\\alpha_{S,j}log(\\frac{[S]}{[S]_0}) \n",
    "\\end{equation}\n"
   ]
  },
  {
   "cell_type": "markdown",
   "metadata": {},
   "source": [
    "for example for the regression with crowding condition of  10% `volume_fraction`= 0.1, $\\sigma$ = 0,825 `sigma_mass`, $\\mu$ = 31,9 `mu_mass`\n",
    "\n",
    "from the paper we obtain the follwing results: \n",
    "\n",
    "\n",
    "| rate constant | beta         | alpha E     | alpha ES             | alpha P              | alpha S               |\n",
    "|---------------|--------------|-------------|----------------------|----------------------|-----------------------|\n",
    "| k1_bwd        | -0,117350672 | 0,001708119 | 0,00345717778022485  | -0,00357500867782065 | -0,00356439766610846  |\n",
    "| k1_fwd        | 0,261382491  | 0,019792839 | 0,0134094988545651   | 0,00251142064461377  | -0,000113387322631445 |\n",
    "| k2_bwd        | 0,254376425  | 0,003928231 | -0,00280085370093718 | 0,00275505219650836  | 0,000116286746598914  |\n",
    "| k2_fwd        | -0,117347247 | 0,001710861 | 0,0034597304524437   | -0,00357523318543554 | -0,00356439549439028  |"
   ]
  },
  {
   "cell_type": "markdown",
   "metadata": {},
   "source": [
    " "
   ]
  },
  {
   "cell_type": "markdown",
   "metadata": {},
   "source": [
    "we select from the data we computed beforeonly the relevant part "
   ]
  },
  {
   "cell_type": "code",
   "execution_count": null,
   "metadata": {
    "scrolled": true
   },
   "outputs": [],
   "source": [
    "interest = results[(results['volume fraction'] == 0.1) & (results['sigma mass']== 0.825) & (results['mu mass']==31.9)]\n",
    "interest.head()"
   ]
  },
  {
   "cell_type": "code",
   "execution_count": null,
   "metadata": {
    "scrolled": true
   },
   "outputs": [],
   "source": [
    "#we now define the weights: \n",
    "weights  = interest.variance.values\n",
    "[wE,wES,wP,wS]=1/weights\n",
    "\n",
    "\n",
    "#we first take the subset of the data that corresponds to our case (V = 0.1, sigma = 0.825, mu = 31.9)\n",
    "data_interest = data_trans[(data_trans['volume_fraction'] == 0.1) & (data_trans['sigma_mass']== 0.825) &\n",
    "                           (data_trans['mu_mass']==31.9)]\n",
    "\n",
    "#we compute our design matrix\n",
    "X_interest = create_regressors(data_interest,[\"E\",'ES','P','S'])\n",
    "\n",
    "#we then modify with our weights in order to do the weigthed linear regression \n",
    "X_interest *= [1,wE,wES,wP,wS]\n",
    "\n",
    "#we then do the regression for all four responses\n",
    "y1 = data_interest.log_k1_bwd\n",
    "y2 = data_interest.log_k1_fwd\n",
    "y3 = data_interest.log_k2_bwd\n",
    "y4 = data_interest.log_k2_fwd\n",
    " \n",
    "Y = [y1,y2,y3,y4]\n",
    "\n",
    "for i,y_int in enumerate(Y):\n",
    "    model = LinearRegression()\n",
    "    model.fit(X_interest,y_int)\n",
    "    coeff = model.coef_\n",
    "    print(\"model for y_\",i,\": \")\n",
    "    print(\"coefficients for the models, beta, alpha E, alpha ES, alpha P, alpha S\")\n",
    "    print(coeff*[1,wE,wES,wP,wS])"
   ]
  },
  {
   "cell_type": "markdown",
   "metadata": {},
   "source": [
    "  "
   ]
  },
  {
   "cell_type": "markdown",
   "metadata": {},
   "source": [
    "#### note\n",
    "\n",
    "here we computed approximation for all four covariates, but we only computed the weights for `log_k1_bwd`, so it is the only computation which is really valuable, but still the results are very different"
   ]
  },
  {
   "cell_type": "markdown",
   "metadata": {},
   "source": [
    " \n",
    " "
   ]
  },
  {
   "cell_type": "code",
   "execution_count": null,
   "metadata": {},
   "outputs": [],
   "source": [
    "print(len(results.variance.unique()))\n",
    "print(len(results['volume fraction'].unique()))"
   ]
  },
  {
   "cell_type": "markdown",
   "metadata": {},
   "source": [
    " "
   ]
  },
  {
   "cell_type": "markdown",
   "metadata": {},
   "source": [
    " "
   ]
  },
  {
   "cell_type": "markdown",
   "metadata": {},
   "source": [
    " "
   ]
  },
  {
   "cell_type": "markdown",
   "metadata": {},
   "source": [
    " "
   ]
  },
  {
   "cell_type": "markdown",
   "metadata": {},
   "source": [
    " "
   ]
  },
  {
   "cell_type": "markdown",
   "metadata": {},
   "source": [
    " "
   ]
  },
  {
   "cell_type": "markdown",
   "metadata": {},
   "source": [
    " "
   ]
  },
  {
   "cell_type": "markdown",
   "metadata": {},
   "source": [
    " "
   ]
  },
  {
   "cell_type": "markdown",
   "metadata": {},
   "source": [
    " "
   ]
  },
  {
   "cell_type": "markdown",
   "metadata": {},
   "source": [
    " "
   ]
  },
  {
   "cell_type": "markdown",
   "metadata": {},
   "source": [
    " "
   ]
  },
  {
   "cell_type": "markdown",
   "metadata": {},
   "source": [
    " "
   ]
  },
  {
   "cell_type": "markdown",
   "metadata": {},
   "source": [
    " "
   ]
  },
  {
   "cell_type": "markdown",
   "metadata": {},
   "source": [
    " "
   ]
  },
  {
   "cell_type": "markdown",
   "metadata": {},
   "source": [
    " "
   ]
  },
  {
   "cell_type": "markdown",
   "metadata": {},
   "source": [
    " "
   ]
  },
  {
   "cell_type": "markdown",
   "metadata": {},
   "source": [
    " "
   ]
  },
  {
   "cell_type": "markdown",
   "metadata": {},
   "source": [
    " "
   ]
  },
  {
   "cell_type": "markdown",
   "metadata": {},
   "source": [
    " "
   ]
  },
  {
   "cell_type": "markdown",
   "metadata": {},
   "source": [
    " "
   ]
  },
  {
   "cell_type": "markdown",
   "metadata": {},
   "source": [
    " "
   ]
  },
  {
   "cell_type": "markdown",
   "metadata": {},
   "source": [
    " "
   ]
  },
  {
   "cell_type": "markdown",
   "metadata": {},
   "source": [
    " "
   ]
  },
  {
   "cell_type": "markdown",
   "metadata": {},
   "source": [
    "# Test the reproducibility"
   ]
  },
  {
   "cell_type": "markdown",
   "metadata": {},
   "source": [
    "### for $log\\left(\\frac{k_{1,\\text{forward,eff}}}{k_{1,\\text{forward,relative}}}\\right)$, using volume fraction  = $0.0$"
   ]
  },
  {
   "cell_type": "code",
   "execution_count": null,
   "metadata": {},
   "outputs": [],
   "source": [
    "# select data corresponding to our case\n",
    "data_test = data_trans[data_trans['volume_fraction']==0.0]\n",
    "\n",
    "#define the y for the regression\n",
    "y = data_test[\"log_k1_fwd\"]\n",
    "\n",
    "#define the features we will regress on\n",
    "x = data_test[['E', 'ES', 'P', 'S']].values\n",
    "X = X = np.c_[np.ones(len(x)), x] #add intercept"
   ]
  },
  {
   "cell_type": "code",
   "execution_count": null,
   "metadata": {},
   "outputs": [],
   "source": [
    "def create_regressors(data_test,name):\n",
    "    x = data_test[name].values\n",
    "    X = np.c_[np.ones(len(x)), x]\n",
    "    return X"
   ]
  },
  {
   "cell_type": "code",
   "execution_count": null,
   "metadata": {},
   "outputs": [],
   "source": [
    "data_test.size"
   ]
  },
  {
   "cell_type": "markdown",
   "metadata": {},
   "source": [
    "from the paper, we excpect to have the following result: \n",
    "\n",
    "$\\beta = 7.31e-2$\n",
    "\n",
    "$\\alpha = [4.74e-3,1.07e-2,-,-]$ for the following features: S, E, ES, P"
   ]
  },
  {
   "cell_type": "markdown",
   "metadata": {},
   "source": [
    "#### residuals computed from regression with all the features "
   ]
  },
  {
   "cell_type": "markdown",
   "metadata": {},
   "source": [
    "first we compute a regular linear regression in order to estimate the conitionnal variance of the residuals:"
   ]
  },
  {
   "cell_type": "code",
   "execution_count": null,
   "metadata": {},
   "outputs": [],
   "source": [
    "#fit linear model\n",
    "reg = LinearRegression()\n",
    "X_E = create_regressors(data_test,['E','ES','P','S'])\n",
    "reg.fit(X_E,y)\n",
    "\n",
    "#get the fitted values\n",
    "y_hat = reg.predict(X_E)\n",
    "residuals = (y-y_hat).values\n",
    "\n",
    "#compute the residuals"
   ]
  },
  {
   "cell_type": "code",
   "execution_count": null,
   "metadata": {
    "scrolled": true
   },
   "outputs": [],
   "source": [
    "plt.plot(y_hat,residuals/y)\n",
    "plt.show()"
   ]
  },
  {
   "cell_type": "code",
   "execution_count": null,
   "metadata": {
    "scrolled": true
   },
   "outputs": [],
   "source": [
    "plt.scatter(y = y, x = data_test['E'].values)\n",
    "plt.plot(data_test['E'].values, y_hat,color='red')\n",
    "plt.show()"
   ]
  },
  {
   "cell_type": "markdown",
   "metadata": {},
   "source": [
    "since s = RSS: "
   ]
  },
  {
   "cell_type": "code",
   "execution_count": null,
   "metadata": {},
   "outputs": [],
   "source": [
    "weight_estimate = np.sqrt(np.var(residuals)/(X_E.size -2))"
   ]
  },
  {
   "cell_type": "code",
   "execution_count": null,
   "metadata": {
    "scrolled": true
   },
   "outputs": [],
   "source": [
    "data_test_weighted = data_test.copy()\n",
    "data_test_weighted['E'] =  data_trans['E']/weight_estimate\n",
    "data_test_weighted['ES'] = data_trans['ES']/weight_estimate\n",
    "data_test_weighted['P'] =  data_trans['P']/weight_estimate\n",
    "data_test_weighted['S'] =  data_trans['S']/weight_estimate\n",
    "data_test_weighted.describe()"
   ]
  },
  {
   "cell_type": "code",
   "execution_count": null,
   "metadata": {
    "scrolled": true
   },
   "outputs": [],
   "source": [
    "data_test_weighted"
   ]
  },
  {
   "cell_type": "code",
   "execution_count": null,
   "metadata": {},
   "outputs": [],
   "source": [
    "reg = LinearRegression()\n",
    "X = create_regressors(data_test_weighted,['E','ES','P','S'])\n",
    "reg.fit(X,y)\n",
    "\n",
    "print(reg.coef_)\n"
   ]
  },
  {
   "cell_type": "markdown",
   "metadata": {},
   "source": [
    "#### residuals computed for each feature individually"
   ]
  },
  {
   "cell_type": "code",
   "execution_count": null,
   "metadata": {},
   "outputs": [],
   "source": [
    "def estimate_weight(data,covariate):\n",
    "    \n",
    "    y = data[\"log_k1_bwd\"]\n",
    "    #regression only with a certain feature covariate\n",
    "    reg = LinearRegression()\n",
    "    X = create_regressors(data,covariate)\n",
    "    reg.fit(X,y)\n",
    "\n",
    "    #find the residuals\n",
    "    y_hat = reg.predict(X)\n",
    "    residuals = (y-y_hat).values\n",
    "\n",
    "    #computation of the weight\n",
    "    weight_estimate = np.sqrt(np.var(residuals)/(X.size -2))\n",
    "    \n",
    "    return weight_estimate"
   ]
  },
  {
   "cell_type": "code",
   "execution_count": null,
   "metadata": {},
   "outputs": [],
   "source": [
    "covariates = ['E','S','ES','P']\n",
    "weights = []\n",
    "\n",
    "for name in covariates:\n",
    "    weights.append(estimate_weight(data_test,name))"
   ]
  },
  {
   "cell_type": "code",
   "execution_count": null,
   "metadata": {
    "scrolled": true
   },
   "outputs": [],
   "source": [
    "print(weights)"
   ]
  },
  {
   "cell_type": "markdown",
   "metadata": {},
   "source": [
    "we obtain the same weight for the different covariates"
   ]
  },
  {
   "cell_type": "code",
   "execution_count": null,
   "metadata": {},
   "outputs": [],
   "source": [
    "# count the different type of volume occupation\n",
    "vfraction = data['volume_fraction'].values\n",
    "unique = np.unique(vfraction)"
   ]
  },
  {
   "cell_type": "code",
   "execution_count": null,
   "metadata": {},
   "outputs": [],
   "source": [
    "Weight = []\n",
    "for volume in unique:\n",
    "    w = []\n",
    "    data = data_trans[data_trans['volume_fraction']==volume]\n",
    "    for name in covariates:\n",
    "        w.append(estimate_weight(data_test,name))\n",
    "    Weight.append(w)\n",
    "    print(w)"
   ]
  },
  {
   "cell_type": "code",
   "execution_count": null,
   "metadata": {},
   "outputs": [],
   "source": [
    "tab_weights2 = pd.DataFrame(Weight)"
   ]
  },
  {
   "cell_type": "markdown",
   "metadata": {
    "scrolled": false
   },
   "source": [
    "tab_weights[0].values[0]"
   ]
  },
  {
   "cell_type": "code",
   "execution_count": null,
   "metadata": {},
   "outputs": [],
   "source": [
    "tab_weights2[0].values[0]"
   ]
  },
  {
   "cell_type": "markdown",
   "metadata": {},
   "source": [
    "issue : same weight for all types of concentration"
   ]
  },
  {
   "cell_type": "markdown",
   "metadata": {},
   "source": [
    "but it is still different for the different coefficient we are trying to estimate:\n",
    "\n",
    "for y1_forward : 2.4322071957924314e-18\n",
    "\n",
    "for y1_backward: 1.529293643074293e-18"
   ]
  },
  {
   "cell_type": "markdown",
   "metadata": {},
   "source": [
    " "
   ]
  },
  {
   "cell_type": "markdown",
   "metadata": {},
   "source": [
    "let's try to do a weigthed regression with these weights:"
   ]
  },
  {
   "cell_type": "code",
   "execution_count": null,
   "metadata": {
    "scrolled": true
   },
   "outputs": [],
   "source": [
    "reg = LinearRegression()\n",
    "\n",
    "data_test_weighted = data_trans.copy()\n",
    "data_test_weighted['E'] =  data_trans['E']/1.529293643074293e-18\n",
    "data_test_weighted['ES'] = data_trans['ES']/1.529293643074293e-18\n",
    "data_test_weighted['P'] =  data_trans['P']/1.529293643074293e-18\n",
    "data_test_weighted['S'] =  data_trans['S']/1.529293643074293e-18\n",
    "\n",
    "\n",
    "D = data_test_weighted[data_test_weighted[\"volume_fraction\"]==0.2]\n",
    "X = create_regressors(D,covariates)\n",
    "y = D[\"log_k1_bwd\"]\n",
    "\n",
    "reg.fit(X,y)\n",
    "\n",
    "reg.coef_"
   ]
  },
  {
   "cell_type": "code",
   "execution_count": null,
   "metadata": {},
   "outputs": [],
   "source": [
    "reg.coef_/1.529293643074293e-18"
   ]
  },
  {
   "cell_type": "markdown",
   "metadata": {},
   "source": [
    "   "
   ]
  },
  {
   "cell_type": "markdown",
   "metadata": {},
   "source": [
    "   "
   ]
  },
  {
   "cell_type": "code",
   "execution_count": null,
   "metadata": {},
   "outputs": [],
   "source": [
    "w = 1#.529293643074293e-18\n",
    "\n",
    "mod_wls = sm.WLS(y, X, weights=1./(w))\n",
    "res_wls = mod_wls.fit()\n",
    "print(res_wls.summary())"
   ]
  },
  {
   "cell_type": "code",
   "execution_count": null,
   "metadata": {},
   "outputs": [],
   "source": []
  }
 ],
 "metadata": {
  "kernelspec": {
   "display_name": "Python 3",
   "language": "python",
   "name": "python3"
  },
  "language_info": {
   "codemirror_mode": {
    "name": "ipython",
    "version": 3
   },
   "file_extension": ".py",
   "mimetype": "text/x-python",
   "name": "python",
   "nbconvert_exporter": "python",
   "pygments_lexer": "ipython3",
   "version": "3.6.6"
  }
 },
 "nbformat": 4,
 "nbformat_minor": 2
}
