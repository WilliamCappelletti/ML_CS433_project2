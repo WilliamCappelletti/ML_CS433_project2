{
 "cells": [
  {
   "cell_type": "code",
   "execution_count": 38,
   "metadata": {},
   "outputs": [
    {
     "name": "stdout",
     "output_type": "stream",
     "text": [
      "The autoreload extension is already loaded. To reload it, use:\n",
      "  %reload_ext autoreload\n"
     ]
    },
    {
     "name": "stderr",
     "output_type": "stream",
     "text": [
      "/home/charles/anaconda3/lib/python3.6/site-packages/statsmodels/compat/pandas.py:56: FutureWarning: The pandas.core.datetools module is deprecated and will be removed in a future version. Please use the pandas.tseries module instead.\n",
      "  from pandas.core import datetools\n"
     ]
    }
   ],
   "source": [
    "import numpy as np\n",
    "import pandas as pd\n",
    "import os\n",
    "import random\n",
    "import matplotlib.pyplot as plt\n",
    "from sklearn.linear_model import LinearRegression\n",
    "from sklearn.model_selection import train_test_split\n",
    "from sklearn import datasets\n",
    "from sklearn import svm\n",
    "import seaborn as sns\n",
    "\n",
    "import statsmodels.api as sm\n",
    "\n",
    "%load_ext autoreload\n",
    "%autoreload 2"
   ]
  },
  {
   "cell_type": "code",
   "execution_count": 3,
   "metadata": {},
   "outputs": [],
   "source": [
    "sns.set()"
   ]
  },
  {
   "cell_type": "markdown",
   "metadata": {},
   "source": [
    "# Loading the data"
   ]
  },
  {
   "cell_type": "code",
   "execution_count": 4,
   "metadata": {},
   "outputs": [],
   "source": [
    "file = \"../Data/result_full_factorial_pgm.csv\""
   ]
  },
  {
   "cell_type": "code",
   "execution_count": 5,
   "metadata": {},
   "outputs": [],
   "source": [
    "data = pd.read_csv(file)"
   ]
  },
  {
   "cell_type": "code",
   "execution_count": 6,
   "metadata": {
    "scrolled": true
   },
   "outputs": [
    {
     "data": {
      "text/html": [
       "<div>\n",
       "<style scoped>\n",
       "    .dataframe tbody tr th:only-of-type {\n",
       "        vertical-align: middle;\n",
       "    }\n",
       "\n",
       "    .dataframe tbody tr th {\n",
       "        vertical-align: top;\n",
       "    }\n",
       "\n",
       "    .dataframe thead th {\n",
       "        text-align: right;\n",
       "    }\n",
       "</style>\n",
       "<table border=\"1\" class=\"dataframe\">\n",
       "  <thead>\n",
       "    <tr style=\"text-align: right;\">\n",
       "      <th></th>\n",
       "      <th>Unnamed: 0</th>\n",
       "      <th>Unnamed: 0.1</th>\n",
       "      <th>enzyme_complex_concentration</th>\n",
       "      <th>enzyme_concentration</th>\n",
       "      <th>k1_bwd_effective</th>\n",
       "      <th>k1_bwd_relative</th>\n",
       "      <th>k1_fwd_effective</th>\n",
       "      <th>k1_fwd_relative</th>\n",
       "      <th>k2_bwd_effective</th>\n",
       "      <th>k2_bwd_relative</th>\n",
       "      <th>k2_fwd_effective</th>\n",
       "      <th>k2_fwd_relative</th>\n",
       "      <th>mu_mass</th>\n",
       "      <th>product_concentration</th>\n",
       "      <th>realization</th>\n",
       "      <th>sigma_mass</th>\n",
       "      <th>substrate_concentration</th>\n",
       "      <th>volume_fraction</th>\n",
       "    </tr>\n",
       "  </thead>\n",
       "  <tbody>\n",
       "    <tr>\n",
       "      <th>0</th>\n",
       "      <td>0</td>\n",
       "      <td>0</td>\n",
       "      <td>0.000058</td>\n",
       "      <td>0.000006</td>\n",
       "      <td>4.503135</td>\n",
       "      <td>0.450314</td>\n",
       "      <td>262554.802451</td>\n",
       "      <td>1.723016</td>\n",
       "      <td>7.139138e+05</td>\n",
       "      <td>2.164051</td>\n",
       "      <td>9.907347</td>\n",
       "      <td>0.450334</td>\n",
       "      <td>12.1</td>\n",
       "      <td>0.000098</td>\n",
       "      <td>2.0</td>\n",
       "      <td>0.000</td>\n",
       "      <td>0.000049</td>\n",
       "      <td>0.2</td>\n",
       "    </tr>\n",
       "    <tr>\n",
       "      <th>1</th>\n",
       "      <td>1</td>\n",
       "      <td>0</td>\n",
       "      <td>0.000006</td>\n",
       "      <td>0.000058</td>\n",
       "      <td>4.491493</td>\n",
       "      <td>0.449149</td>\n",
       "      <td>285144.598410</td>\n",
       "      <td>1.871261</td>\n",
       "      <td>6.227429e+05</td>\n",
       "      <td>1.887689</td>\n",
       "      <td>9.879449</td>\n",
       "      <td>0.449066</td>\n",
       "      <td>12.1</td>\n",
       "      <td>0.000147</td>\n",
       "      <td>3.0</td>\n",
       "      <td>0.000</td>\n",
       "      <td>0.000245</td>\n",
       "      <td>0.2</td>\n",
       "    </tr>\n",
       "    <tr>\n",
       "      <th>2</th>\n",
       "      <td>2</td>\n",
       "      <td>0</td>\n",
       "      <td>0.000019</td>\n",
       "      <td>0.000045</td>\n",
       "      <td>7.636543</td>\n",
       "      <td>0.763654</td>\n",
       "      <td>262351.891789</td>\n",
       "      <td>1.721684</td>\n",
       "      <td>6.597299e+05</td>\n",
       "      <td>1.999806</td>\n",
       "      <td>16.799770</td>\n",
       "      <td>0.763626</td>\n",
       "      <td>31.9</td>\n",
       "      <td>0.000016</td>\n",
       "      <td>5.0</td>\n",
       "      <td>0.825</td>\n",
       "      <td>0.000024</td>\n",
       "      <td>0.2</td>\n",
       "    </tr>\n",
       "    <tr>\n",
       "      <th>3</th>\n",
       "      <td>3</td>\n",
       "      <td>0</td>\n",
       "      <td>0.000013</td>\n",
       "      <td>0.000051</td>\n",
       "      <td>0.634308</td>\n",
       "      <td>0.063431</td>\n",
       "      <td>484409.307429</td>\n",
       "      <td>3.178936</td>\n",
       "      <td>1.063666e+06</td>\n",
       "      <td>3.224238</td>\n",
       "      <td>1.395557</td>\n",
       "      <td>0.063434</td>\n",
       "      <td>12.1</td>\n",
       "      <td>0.000196</td>\n",
       "      <td>8.0</td>\n",
       "      <td>0.000</td>\n",
       "      <td>0.000012</td>\n",
       "      <td>0.4</td>\n",
       "    </tr>\n",
       "    <tr>\n",
       "      <th>4</th>\n",
       "      <td>4</td>\n",
       "      <td>0</td>\n",
       "      <td>0.000006</td>\n",
       "      <td>0.000058</td>\n",
       "      <td>4.416002</td>\n",
       "      <td>0.441600</td>\n",
       "      <td>281281.994713</td>\n",
       "      <td>1.845913</td>\n",
       "      <td>5.871605e+05</td>\n",
       "      <td>1.779830</td>\n",
       "      <td>9.719614</td>\n",
       "      <td>0.441801</td>\n",
       "      <td>12.1</td>\n",
       "      <td>0.000049</td>\n",
       "      <td>4.0</td>\n",
       "      <td>0.000</td>\n",
       "      <td>0.000147</td>\n",
       "      <td>0.2</td>\n",
       "    </tr>\n",
       "  </tbody>\n",
       "</table>\n",
       "</div>"
      ],
      "text/plain": [
       "   Unnamed: 0  Unnamed: 0.1  enzyme_complex_concentration  \\\n",
       "0           0             0                      0.000058   \n",
       "1           1             0                      0.000006   \n",
       "2           2             0                      0.000019   \n",
       "3           3             0                      0.000013   \n",
       "4           4             0                      0.000006   \n",
       "\n",
       "   enzyme_concentration  k1_bwd_effective  k1_bwd_relative  k1_fwd_effective  \\\n",
       "0              0.000006          4.503135         0.450314     262554.802451   \n",
       "1              0.000058          4.491493         0.449149     285144.598410   \n",
       "2              0.000045          7.636543         0.763654     262351.891789   \n",
       "3              0.000051          0.634308         0.063431     484409.307429   \n",
       "4              0.000058          4.416002         0.441600     281281.994713   \n",
       "\n",
       "   k1_fwd_relative  k2_bwd_effective  k2_bwd_relative  k2_fwd_effective  \\\n",
       "0         1.723016      7.139138e+05         2.164051          9.907347   \n",
       "1         1.871261      6.227429e+05         1.887689          9.879449   \n",
       "2         1.721684      6.597299e+05         1.999806         16.799770   \n",
       "3         3.178936      1.063666e+06         3.224238          1.395557   \n",
       "4         1.845913      5.871605e+05         1.779830          9.719614   \n",
       "\n",
       "   k2_fwd_relative  mu_mass  product_concentration  realization  sigma_mass  \\\n",
       "0         0.450334     12.1               0.000098          2.0       0.000   \n",
       "1         0.449066     12.1               0.000147          3.0       0.000   \n",
       "2         0.763626     31.9               0.000016          5.0       0.825   \n",
       "3         0.063434     12.1               0.000196          8.0       0.000   \n",
       "4         0.441801     12.1               0.000049          4.0       0.000   \n",
       "\n",
       "   substrate_concentration  volume_fraction  \n",
       "0                 0.000049              0.2  \n",
       "1                 0.000245              0.2  \n",
       "2                 0.000024              0.2  \n",
       "3                 0.000012              0.4  \n",
       "4                 0.000147              0.2  "
      ]
     },
     "execution_count": 6,
     "metadata": {},
     "output_type": "execute_result"
    }
   ],
   "source": [
    "data.head()"
   ]
  },
  {
   "cell_type": "code",
   "execution_count": 7,
   "metadata": {
    "scrolled": true
   },
   "outputs": [
    {
     "data": {
      "text/plain": [
       "(151956, 18)"
      ]
     },
     "execution_count": 7,
     "metadata": {},
     "output_type": "execute_result"
    }
   ],
   "source": [
    "data.shape"
   ]
  },
  {
   "cell_type": "code",
   "execution_count": 8,
   "metadata": {
    "scrolled": true
   },
   "outputs": [
    {
     "data": {
      "text/plain": [
       "Unnamed: 0                        int64\n",
       "Unnamed: 0.1                      int64\n",
       "enzyme_complex_concentration    float64\n",
       "enzyme_concentration            float64\n",
       "k1_bwd_effective                float64\n",
       "k1_bwd_relative                 float64\n",
       "k1_fwd_effective                float64\n",
       "k1_fwd_relative                 float64\n",
       "k2_bwd_effective                float64\n",
       "k2_bwd_relative                 float64\n",
       "k2_fwd_effective                float64\n",
       "k2_fwd_relative                 float64\n",
       "mu_mass                         float64\n",
       "product_concentration           float64\n",
       "realization                     float64\n",
       "sigma_mass                      float64\n",
       "substrate_concentration         float64\n",
       "volume_fraction                 float64\n",
       "dtype: object"
      ]
     },
     "execution_count": 8,
     "metadata": {},
     "output_type": "execute_result"
    }
   ],
   "source": [
    "data.dtypes"
   ]
  },
  {
   "cell_type": "code",
   "execution_count": 9,
   "metadata": {
    "scrolled": true
   },
   "outputs": [
    {
     "data": {
      "text/html": [
       "<div>\n",
       "<style scoped>\n",
       "    .dataframe tbody tr th:only-of-type {\n",
       "        vertical-align: middle;\n",
       "    }\n",
       "\n",
       "    .dataframe tbody tr th {\n",
       "        vertical-align: top;\n",
       "    }\n",
       "\n",
       "    .dataframe thead th {\n",
       "        text-align: right;\n",
       "    }\n",
       "</style>\n",
       "<table border=\"1\" class=\"dataframe\">\n",
       "  <thead>\n",
       "    <tr style=\"text-align: right;\">\n",
       "      <th></th>\n",
       "      <th>enzyme_complex_concentration</th>\n",
       "      <th>enzyme_concentration</th>\n",
       "      <th>k1_bwd_effective</th>\n",
       "      <th>k1_bwd_relative</th>\n",
       "      <th>k1_fwd_effective</th>\n",
       "      <th>k1_fwd_relative</th>\n",
       "      <th>k2_bwd_effective</th>\n",
       "      <th>k2_bwd_relative</th>\n",
       "      <th>k2_fwd_effective</th>\n",
       "      <th>k2_fwd_relative</th>\n",
       "      <th>mu_mass</th>\n",
       "      <th>product_concentration</th>\n",
       "      <th>realization</th>\n",
       "      <th>sigma_mass</th>\n",
       "      <th>substrate_concentration</th>\n",
       "      <th>volume_fraction</th>\n",
       "    </tr>\n",
       "  </thead>\n",
       "  <tbody>\n",
       "    <tr>\n",
       "      <th>0</th>\n",
       "      <td>0.000058</td>\n",
       "      <td>0.000006</td>\n",
       "      <td>4.503135</td>\n",
       "      <td>0.450314</td>\n",
       "      <td>262554.802451</td>\n",
       "      <td>1.723016</td>\n",
       "      <td>7.139138e+05</td>\n",
       "      <td>2.164051</td>\n",
       "      <td>9.907347</td>\n",
       "      <td>0.450334</td>\n",
       "      <td>12.1</td>\n",
       "      <td>0.000098</td>\n",
       "      <td>2.0</td>\n",
       "      <td>0.000</td>\n",
       "      <td>0.000049</td>\n",
       "      <td>0.2</td>\n",
       "    </tr>\n",
       "    <tr>\n",
       "      <th>1</th>\n",
       "      <td>0.000006</td>\n",
       "      <td>0.000058</td>\n",
       "      <td>4.491493</td>\n",
       "      <td>0.449149</td>\n",
       "      <td>285144.598410</td>\n",
       "      <td>1.871261</td>\n",
       "      <td>6.227429e+05</td>\n",
       "      <td>1.887689</td>\n",
       "      <td>9.879449</td>\n",
       "      <td>0.449066</td>\n",
       "      <td>12.1</td>\n",
       "      <td>0.000147</td>\n",
       "      <td>3.0</td>\n",
       "      <td>0.000</td>\n",
       "      <td>0.000245</td>\n",
       "      <td>0.2</td>\n",
       "    </tr>\n",
       "    <tr>\n",
       "      <th>2</th>\n",
       "      <td>0.000019</td>\n",
       "      <td>0.000045</td>\n",
       "      <td>7.636543</td>\n",
       "      <td>0.763654</td>\n",
       "      <td>262351.891789</td>\n",
       "      <td>1.721684</td>\n",
       "      <td>6.597299e+05</td>\n",
       "      <td>1.999806</td>\n",
       "      <td>16.799770</td>\n",
       "      <td>0.763626</td>\n",
       "      <td>31.9</td>\n",
       "      <td>0.000016</td>\n",
       "      <td>5.0</td>\n",
       "      <td>0.825</td>\n",
       "      <td>0.000024</td>\n",
       "      <td>0.2</td>\n",
       "    </tr>\n",
       "    <tr>\n",
       "      <th>3</th>\n",
       "      <td>0.000013</td>\n",
       "      <td>0.000051</td>\n",
       "      <td>0.634308</td>\n",
       "      <td>0.063431</td>\n",
       "      <td>484409.307429</td>\n",
       "      <td>3.178936</td>\n",
       "      <td>1.063666e+06</td>\n",
       "      <td>3.224238</td>\n",
       "      <td>1.395557</td>\n",
       "      <td>0.063434</td>\n",
       "      <td>12.1</td>\n",
       "      <td>0.000196</td>\n",
       "      <td>8.0</td>\n",
       "      <td>0.000</td>\n",
       "      <td>0.000012</td>\n",
       "      <td>0.4</td>\n",
       "    </tr>\n",
       "    <tr>\n",
       "      <th>4</th>\n",
       "      <td>0.000006</td>\n",
       "      <td>0.000058</td>\n",
       "      <td>4.416002</td>\n",
       "      <td>0.441600</td>\n",
       "      <td>281281.994713</td>\n",
       "      <td>1.845913</td>\n",
       "      <td>5.871605e+05</td>\n",
       "      <td>1.779830</td>\n",
       "      <td>9.719614</td>\n",
       "      <td>0.441801</td>\n",
       "      <td>12.1</td>\n",
       "      <td>0.000049</td>\n",
       "      <td>4.0</td>\n",
       "      <td>0.000</td>\n",
       "      <td>0.000147</td>\n",
       "      <td>0.2</td>\n",
       "    </tr>\n",
       "  </tbody>\n",
       "</table>\n",
       "</div>"
      ],
      "text/plain": [
       "   enzyme_complex_concentration  enzyme_concentration  k1_bwd_effective  \\\n",
       "0                      0.000058              0.000006          4.503135   \n",
       "1                      0.000006              0.000058          4.491493   \n",
       "2                      0.000019              0.000045          7.636543   \n",
       "3                      0.000013              0.000051          0.634308   \n",
       "4                      0.000006              0.000058          4.416002   \n",
       "\n",
       "   k1_bwd_relative  k1_fwd_effective  k1_fwd_relative  k2_bwd_effective  \\\n",
       "0         0.450314     262554.802451         1.723016      7.139138e+05   \n",
       "1         0.449149     285144.598410         1.871261      6.227429e+05   \n",
       "2         0.763654     262351.891789         1.721684      6.597299e+05   \n",
       "3         0.063431     484409.307429         3.178936      1.063666e+06   \n",
       "4         0.441600     281281.994713         1.845913      5.871605e+05   \n",
       "\n",
       "   k2_bwd_relative  k2_fwd_effective  k2_fwd_relative  mu_mass  \\\n",
       "0         2.164051          9.907347         0.450334     12.1   \n",
       "1         1.887689          9.879449         0.449066     12.1   \n",
       "2         1.999806         16.799770         0.763626     31.9   \n",
       "3         3.224238          1.395557         0.063434     12.1   \n",
       "4         1.779830          9.719614         0.441801     12.1   \n",
       "\n",
       "   product_concentration  realization  sigma_mass  substrate_concentration  \\\n",
       "0               0.000098          2.0       0.000                 0.000049   \n",
       "1               0.000147          3.0       0.000                 0.000245   \n",
       "2               0.000016          5.0       0.825                 0.000024   \n",
       "3               0.000196          8.0       0.000                 0.000012   \n",
       "4               0.000049          4.0       0.000                 0.000147   \n",
       "\n",
       "   volume_fraction  \n",
       "0              0.2  \n",
       "1              0.2  \n",
       "2              0.2  \n",
       "3              0.4  \n",
       "4              0.2  "
      ]
     },
     "execution_count": 9,
     "metadata": {},
     "output_type": "execute_result"
    }
   ],
   "source": [
    "data.drop('Unnamed: 0.1', axis=1, inplace=True)\n",
    "data.drop(\"Unnamed: 0\",axis = 1, inplace = True)\n",
    "data.head()"
   ]
  },
  {
   "cell_type": "code",
   "execution_count": 10,
   "metadata": {
    "scrolled": true
   },
   "outputs": [
    {
     "data": {
      "text/html": [
       "<div>\n",
       "<style scoped>\n",
       "    .dataframe tbody tr th:only-of-type {\n",
       "        vertical-align: middle;\n",
       "    }\n",
       "\n",
       "    .dataframe tbody tr th {\n",
       "        vertical-align: top;\n",
       "    }\n",
       "\n",
       "    .dataframe thead th {\n",
       "        text-align: right;\n",
       "    }\n",
       "</style>\n",
       "<table border=\"1\" class=\"dataframe\">\n",
       "  <thead>\n",
       "    <tr style=\"text-align: right;\">\n",
       "      <th></th>\n",
       "      <th>enzyme_complex_concentration</th>\n",
       "      <th>enzyme_concentration</th>\n",
       "      <th>k1_bwd_effective</th>\n",
       "      <th>k1_bwd_relative</th>\n",
       "      <th>k1_fwd_effective</th>\n",
       "      <th>k1_fwd_relative</th>\n",
       "      <th>k2_bwd_effective</th>\n",
       "      <th>k2_bwd_relative</th>\n",
       "      <th>k2_fwd_effective</th>\n",
       "      <th>k2_fwd_relative</th>\n",
       "      <th>mu_mass</th>\n",
       "      <th>product_concentration</th>\n",
       "      <th>realization</th>\n",
       "      <th>sigma_mass</th>\n",
       "      <th>substrate_concentration</th>\n",
       "      <th>volume_fraction</th>\n",
       "    </tr>\n",
       "  </thead>\n",
       "  <tbody>\n",
       "    <tr>\n",
       "      <th>count</th>\n",
       "      <td>151956.000000</td>\n",
       "      <td>151956.000000</td>\n",
       "      <td>151956.000000</td>\n",
       "      <td>151956.000000</td>\n",
       "      <td>1.519560e+05</td>\n",
       "      <td>151956.000000</td>\n",
       "      <td>1.519560e+05</td>\n",
       "      <td>151956.000000</td>\n",
       "      <td>151956.000000</td>\n",
       "      <td>151956.000000</td>\n",
       "      <td>151956.000000</td>\n",
       "      <td>151956.000000</td>\n",
       "      <td>151956.000000</td>\n",
       "      <td>151956.000000</td>\n",
       "      <td>151956.000000</td>\n",
       "      <td>151956.000000</td>\n",
       "    </tr>\n",
       "    <tr>\n",
       "      <th>mean</th>\n",
       "      <td>0.000032</td>\n",
       "      <td>0.000032</td>\n",
       "      <td>4.485190</td>\n",
       "      <td>0.448519</td>\n",
       "      <td>3.547550e+05</td>\n",
       "      <td>2.328080</td>\n",
       "      <td>7.684298e+05</td>\n",
       "      <td>2.329303</td>\n",
       "      <td>9.867422</td>\n",
       "      <td>0.448519</td>\n",
       "      <td>25.702332</td>\n",
       "      <td>0.000089</td>\n",
       "      <td>4.499868</td>\n",
       "      <td>0.236865</td>\n",
       "      <td>0.000088</td>\n",
       "      <td>0.287063</td>\n",
       "    </tr>\n",
       "    <tr>\n",
       "      <th>std</th>\n",
       "      <td>0.000017</td>\n",
       "      <td>0.000017</td>\n",
       "      <td>3.072361</td>\n",
       "      <td>0.307236</td>\n",
       "      <td>1.381388e+05</td>\n",
       "      <td>0.906536</td>\n",
       "      <td>3.001688e+05</td>\n",
       "      <td>0.909887</td>\n",
       "      <td>6.759198</td>\n",
       "      <td>0.307236</td>\n",
       "      <td>9.444865</td>\n",
       "      <td>0.000083</td>\n",
       "      <td>2.872318</td>\n",
       "      <td>0.373242</td>\n",
       "      <td>0.000083</td>\n",
       "      <td>0.151795</td>\n",
       "    </tr>\n",
       "    <tr>\n",
       "      <th>min</th>\n",
       "      <td>0.000006</td>\n",
       "      <td>0.000006</td>\n",
       "      <td>0.214156</td>\n",
       "      <td>0.021416</td>\n",
       "      <td>1.043541e+04</td>\n",
       "      <td>0.068482</td>\n",
       "      <td>6.777663e+04</td>\n",
       "      <td>0.205448</td>\n",
       "      <td>0.470188</td>\n",
       "      <td>0.021372</td>\n",
       "      <td>12.100000</td>\n",
       "      <td>0.000010</td>\n",
       "      <td>0.000000</td>\n",
       "      <td>0.000000</td>\n",
       "      <td>0.000010</td>\n",
       "      <td>0.000000</td>\n",
       "    </tr>\n",
       "    <tr>\n",
       "      <th>25%</th>\n",
       "      <td>0.000019</td>\n",
       "      <td>0.000019</td>\n",
       "      <td>1.449146</td>\n",
       "      <td>0.144915</td>\n",
       "      <td>2.328432e+05</td>\n",
       "      <td>1.528034</td>\n",
       "      <td>5.021104e+05</td>\n",
       "      <td>1.522022</td>\n",
       "      <td>3.187629</td>\n",
       "      <td>0.144892</td>\n",
       "      <td>21.100000</td>\n",
       "      <td>0.000016</td>\n",
       "      <td>2.000000</td>\n",
       "      <td>0.000000</td>\n",
       "      <td>0.000016</td>\n",
       "      <td>0.200000</td>\n",
       "    </tr>\n",
       "    <tr>\n",
       "      <th>50%</th>\n",
       "      <td>0.000032</td>\n",
       "      <td>0.000032</td>\n",
       "      <td>4.424981</td>\n",
       "      <td>0.442498</td>\n",
       "      <td>3.309195e+05</td>\n",
       "      <td>2.171659</td>\n",
       "      <td>7.152682e+05</td>\n",
       "      <td>2.168157</td>\n",
       "      <td>9.735084</td>\n",
       "      <td>0.442504</td>\n",
       "      <td>31.900000</td>\n",
       "      <td>0.000049</td>\n",
       "      <td>4.000000</td>\n",
       "      <td>0.000000</td>\n",
       "      <td>0.000049</td>\n",
       "      <td>0.300000</td>\n",
       "    </tr>\n",
       "    <tr>\n",
       "      <th>75%</th>\n",
       "      <td>0.000045</td>\n",
       "      <td>0.000045</td>\n",
       "      <td>7.243627</td>\n",
       "      <td>0.724363</td>\n",
       "      <td>4.817919e+05</td>\n",
       "      <td>3.161759</td>\n",
       "      <td>1.044737e+06</td>\n",
       "      <td>3.166859</td>\n",
       "      <td>15.936100</td>\n",
       "      <td>0.724368</td>\n",
       "      <td>31.900000</td>\n",
       "      <td>0.000147</td>\n",
       "      <td>7.000000</td>\n",
       "      <td>0.825000</td>\n",
       "      <td>0.000147</td>\n",
       "      <td>0.400000</td>\n",
       "    </tr>\n",
       "    <tr>\n",
       "      <th>max</th>\n",
       "      <td>0.000058</td>\n",
       "      <td>0.000058</td>\n",
       "      <td>9.947790</td>\n",
       "      <td>0.994779</td>\n",
       "      <td>1.043541e+06</td>\n",
       "      <td>6.848235</td>\n",
       "      <td>2.159815e+06</td>\n",
       "      <td>6.546940</td>\n",
       "      <td>21.885279</td>\n",
       "      <td>0.994785</td>\n",
       "      <td>36.800000</td>\n",
       "      <td>0.000245</td>\n",
       "      <td>9.000000</td>\n",
       "      <td>0.825000</td>\n",
       "      <td>0.000245</td>\n",
       "      <td>0.500000</td>\n",
       "    </tr>\n",
       "  </tbody>\n",
       "</table>\n",
       "</div>"
      ],
      "text/plain": [
       "       enzyme_complex_concentration  enzyme_concentration  k1_bwd_effective  \\\n",
       "count                 151956.000000         151956.000000     151956.000000   \n",
       "mean                       0.000032              0.000032          4.485190   \n",
       "std                        0.000017              0.000017          3.072361   \n",
       "min                        0.000006              0.000006          0.214156   \n",
       "25%                        0.000019              0.000019          1.449146   \n",
       "50%                        0.000032              0.000032          4.424981   \n",
       "75%                        0.000045              0.000045          7.243627   \n",
       "max                        0.000058              0.000058          9.947790   \n",
       "\n",
       "       k1_bwd_relative  k1_fwd_effective  k1_fwd_relative  k2_bwd_effective  \\\n",
       "count    151956.000000      1.519560e+05    151956.000000      1.519560e+05   \n",
       "mean          0.448519      3.547550e+05         2.328080      7.684298e+05   \n",
       "std           0.307236      1.381388e+05         0.906536      3.001688e+05   \n",
       "min           0.021416      1.043541e+04         0.068482      6.777663e+04   \n",
       "25%           0.144915      2.328432e+05         1.528034      5.021104e+05   \n",
       "50%           0.442498      3.309195e+05         2.171659      7.152682e+05   \n",
       "75%           0.724363      4.817919e+05         3.161759      1.044737e+06   \n",
       "max           0.994779      1.043541e+06         6.848235      2.159815e+06   \n",
       "\n",
       "       k2_bwd_relative  k2_fwd_effective  k2_fwd_relative        mu_mass  \\\n",
       "count    151956.000000     151956.000000    151956.000000  151956.000000   \n",
       "mean          2.329303          9.867422         0.448519      25.702332   \n",
       "std           0.909887          6.759198         0.307236       9.444865   \n",
       "min           0.205448          0.470188         0.021372      12.100000   \n",
       "25%           1.522022          3.187629         0.144892      21.100000   \n",
       "50%           2.168157          9.735084         0.442504      31.900000   \n",
       "75%           3.166859         15.936100         0.724368      31.900000   \n",
       "max           6.546940         21.885279         0.994785      36.800000   \n",
       "\n",
       "       product_concentration    realization     sigma_mass  \\\n",
       "count          151956.000000  151956.000000  151956.000000   \n",
       "mean                0.000089       4.499868       0.236865   \n",
       "std                 0.000083       2.872318       0.373242   \n",
       "min                 0.000010       0.000000       0.000000   \n",
       "25%                 0.000016       2.000000       0.000000   \n",
       "50%                 0.000049       4.000000       0.000000   \n",
       "75%                 0.000147       7.000000       0.825000   \n",
       "max                 0.000245       9.000000       0.825000   \n",
       "\n",
       "       substrate_concentration  volume_fraction  \n",
       "count            151956.000000    151956.000000  \n",
       "mean                  0.000088         0.287063  \n",
       "std                   0.000083         0.151795  \n",
       "min                   0.000010         0.000000  \n",
       "25%                   0.000016         0.200000  \n",
       "50%                   0.000049         0.300000  \n",
       "75%                   0.000147         0.400000  \n",
       "max                   0.000245         0.500000  "
      ]
     },
     "execution_count": 10,
     "metadata": {},
     "output_type": "execute_result"
    }
   ],
   "source": [
    "data.describe()"
   ]
  },
  {
   "cell_type": "code",
   "execution_count": 11,
   "metadata": {
    "scrolled": true
   },
   "outputs": [
    {
     "data": {
      "text/plain": [
       "0         2.0\n",
       "1         3.0\n",
       "2         5.0\n",
       "3         8.0\n",
       "4         4.0\n",
       "5         3.0\n",
       "6         4.0\n",
       "7         8.0\n",
       "8         2.0\n",
       "9         8.0\n",
       "10        0.0\n",
       "11        1.0\n",
       "12        5.0\n",
       "13        3.0\n",
       "14        6.0\n",
       "15        2.0\n",
       "16        7.0\n",
       "17        0.0\n",
       "18        2.0\n",
       "19        3.0\n",
       "20        7.0\n",
       "21        2.0\n",
       "22        5.0\n",
       "23        3.0\n",
       "24        2.0\n",
       "25        3.0\n",
       "26        5.0\n",
       "27        4.0\n",
       "28        2.0\n",
       "29        7.0\n",
       "         ... \n",
       "151926    2.0\n",
       "151927    3.0\n",
       "151928    5.0\n",
       "151929    7.0\n",
       "151930    2.0\n",
       "151931    3.0\n",
       "151932    7.0\n",
       "151933    4.0\n",
       "151934    2.0\n",
       "151935    0.0\n",
       "151936    7.0\n",
       "151937    2.0\n",
       "151938    7.0\n",
       "151939    7.0\n",
       "151940    3.0\n",
       "151941    2.0\n",
       "151942    2.0\n",
       "151943    2.0\n",
       "151944    2.0\n",
       "151945    8.0\n",
       "151946    7.0\n",
       "151947    1.0\n",
       "151948    3.0\n",
       "151949    7.0\n",
       "151950    3.0\n",
       "151951    1.0\n",
       "151952    3.0\n",
       "151953    8.0\n",
       "151954    6.0\n",
       "151955    1.0\n",
       "Name: realization, Length: 151956, dtype: float64"
      ]
     },
     "execution_count": 11,
     "metadata": {},
     "output_type": "execute_result"
    }
   ],
   "source": [
    "data[\"realization\"]"
   ]
  },
  {
   "cell_type": "markdown",
   "metadata": {},
   "source": [
    "# From the paper, theory"
   ]
  },
  {
   "cell_type": "markdown",
   "metadata": {},
   "source": [
    "Linear regression to estimate $\\beta$ and $\\alpha_j$ in the following model:\n",
    "\n",
    "\\begin{equation*}\n",
    "log(\\frac{k_j}{k_{j,0}}) = \\beta_j + \\alpha_{E,j}log(\\frac{[E]}{[E]_0}) + \\alpha_{ES,j}log(\\frac{[ES]}{[ES]_0})  + \\alpha_{P,j}log(\\frac{[P]}{[P]_0})  + \\alpha_{S,j}log(\\frac{[S]}{[S]_0}) \n",
    "\\end{equation*}\n",
    "\n",
    "where $j\\in$ [1_bwd, 1_fwd, 2_bwd, 2_fwd],\n",
    "\n",
    "$k$ is the effective rate constant, and $k_0$ is the relative rate constant\n",
    "\n",
    "The given concentration is (??) $[X]/[X]_0$"
   ]
  },
  {
   "cell_type": "markdown",
   "metadata": {},
   "source": [
    "knowing that be modify our data set in order to have the $log(\\frac{k_j}{k_{j,0}})$ as a feature we will try to predict"
   ]
  },
  {
   "cell_type": "code",
   "execution_count": 12,
   "metadata": {
    "scrolled": true
   },
   "outputs": [
    {
     "data": {
      "text/plain": [
       "enzyme_complex_concentration    float64\n",
       "enzyme_concentration            float64\n",
       "k1_bwd_effective                float64\n",
       "k1_bwd_relative                 float64\n",
       "k1_fwd_effective                float64\n",
       "k1_fwd_relative                 float64\n",
       "k2_bwd_effective                float64\n",
       "k2_bwd_relative                 float64\n",
       "k2_fwd_effective                float64\n",
       "k2_fwd_relative                 float64\n",
       "mu_mass                         float64\n",
       "product_concentration           float64\n",
       "realization                     float64\n",
       "sigma_mass                      float64\n",
       "substrate_concentration         float64\n",
       "volume_fraction                 float64\n",
       "dtype: object"
      ]
     },
     "execution_count": 12,
     "metadata": {},
     "output_type": "execute_result"
    }
   ],
   "source": [
    "data.dtypes"
   ]
  },
  {
   "cell_type": "code",
   "execution_count": 13,
   "metadata": {
    "scrolled": true
   },
   "outputs": [
    {
     "data": {
      "text/html": [
       "<div>\n",
       "<style scoped>\n",
       "    .dataframe tbody tr th:only-of-type {\n",
       "        vertical-align: middle;\n",
       "    }\n",
       "\n",
       "    .dataframe tbody tr th {\n",
       "        vertical-align: top;\n",
       "    }\n",
       "\n",
       "    .dataframe thead th {\n",
       "        text-align: right;\n",
       "    }\n",
       "</style>\n",
       "<table border=\"1\" class=\"dataframe\">\n",
       "  <thead>\n",
       "    <tr style=\"text-align: right;\">\n",
       "      <th></th>\n",
       "      <th>mu_mass</th>\n",
       "      <th>realization</th>\n",
       "      <th>sigma_mass</th>\n",
       "      <th>volume_fraction</th>\n",
       "      <th>log_k1_bwd</th>\n",
       "      <th>log_k1_fwd</th>\n",
       "      <th>log_k2_bwd</th>\n",
       "      <th>log_k2_fwd</th>\n",
       "      <th>E</th>\n",
       "      <th>ES</th>\n",
       "      <th>P</th>\n",
       "      <th>S</th>\n",
       "    </tr>\n",
       "  </thead>\n",
       "  <tbody>\n",
       "    <tr>\n",
       "      <th>0</th>\n",
       "      <td>12.1</td>\n",
       "      <td>2.0</td>\n",
       "      <td>0.000</td>\n",
       "      <td>0.2</td>\n",
       "      <td>2.302585</td>\n",
       "      <td>11.934139</td>\n",
       "      <td>12.706535</td>\n",
       "      <td>3.091042</td>\n",
       "      <td>-11.959213</td>\n",
       "      <td>-9.761988</td>\n",
       "      <td>-9.230543</td>\n",
       "      <td>-9.923690</td>\n",
       "    </tr>\n",
       "    <tr>\n",
       "      <th>1</th>\n",
       "      <td>12.1</td>\n",
       "      <td>3.0</td>\n",
       "      <td>0.000</td>\n",
       "      <td>0.2</td>\n",
       "      <td>2.302585</td>\n",
       "      <td>11.934139</td>\n",
       "      <td>12.706535</td>\n",
       "      <td>3.091042</td>\n",
       "      <td>-9.761988</td>\n",
       "      <td>-11.959213</td>\n",
       "      <td>-8.825078</td>\n",
       "      <td>-8.314252</td>\n",
       "    </tr>\n",
       "    <tr>\n",
       "      <th>2</th>\n",
       "      <td>31.9</td>\n",
       "      <td>5.0</td>\n",
       "      <td>0.825</td>\n",
       "      <td>0.2</td>\n",
       "      <td>2.302585</td>\n",
       "      <td>11.934139</td>\n",
       "      <td>12.706535</td>\n",
       "      <td>3.091042</td>\n",
       "      <td>-10.013302</td>\n",
       "      <td>-10.860600</td>\n",
       "      <td>-11.022305</td>\n",
       "      <td>-10.616837</td>\n",
       "    </tr>\n",
       "    <tr>\n",
       "      <th>3</th>\n",
       "      <td>12.1</td>\n",
       "      <td>8.0</td>\n",
       "      <td>0.000</td>\n",
       "      <td>0.4</td>\n",
       "      <td>2.302585</td>\n",
       "      <td>11.934139</td>\n",
       "      <td>12.706535</td>\n",
       "      <td>3.091042</td>\n",
       "      <td>-9.879771</td>\n",
       "      <td>-11.266065</td>\n",
       "      <td>-8.537396</td>\n",
       "      <td>-11.309985</td>\n",
       "    </tr>\n",
       "    <tr>\n",
       "      <th>4</th>\n",
       "      <td>12.1</td>\n",
       "      <td>4.0</td>\n",
       "      <td>0.000</td>\n",
       "      <td>0.2</td>\n",
       "      <td>2.302585</td>\n",
       "      <td>11.934139</td>\n",
       "      <td>12.706535</td>\n",
       "      <td>3.091042</td>\n",
       "      <td>-9.761988</td>\n",
       "      <td>-11.959213</td>\n",
       "      <td>-9.923690</td>\n",
       "      <td>-8.825078</td>\n",
       "    </tr>\n",
       "  </tbody>\n",
       "</table>\n",
       "</div>"
      ],
      "text/plain": [
       "   mu_mass  realization  sigma_mass  volume_fraction  log_k1_bwd  log_k1_fwd  \\\n",
       "0     12.1          2.0       0.000              0.2    2.302585   11.934139   \n",
       "1     12.1          3.0       0.000              0.2    2.302585   11.934139   \n",
       "2     31.9          5.0       0.825              0.2    2.302585   11.934139   \n",
       "3     12.1          8.0       0.000              0.4    2.302585   11.934139   \n",
       "4     12.1          4.0       0.000              0.2    2.302585   11.934139   \n",
       "\n",
       "   log_k2_bwd  log_k2_fwd          E         ES          P          S  \n",
       "0   12.706535    3.091042 -11.959213  -9.761988  -9.230543  -9.923690  \n",
       "1   12.706535    3.091042  -9.761988 -11.959213  -8.825078  -8.314252  \n",
       "2   12.706535    3.091042 -10.013302 -10.860600 -11.022305 -10.616837  \n",
       "3   12.706535    3.091042  -9.879771 -11.266065  -8.537396 -11.309985  \n",
       "4   12.706535    3.091042  -9.761988 -11.959213  -9.923690  -8.825078  "
      ]
     },
     "execution_count": 13,
     "metadata": {},
     "output_type": "execute_result"
    }
   ],
   "source": [
    "# create transformed dataframe\n",
    "data_trans = data.copy()\n",
    "data_trans['log_k1_bwd'] = np.log(data_trans['k1_bwd_effective']/data_trans['k1_bwd_relative'])\n",
    "data_trans['log_k1_fwd'] = np.log(data_trans['k1_fwd_effective']/data_trans['k1_fwd_relative'])\n",
    "data_trans['log_k2_bwd'] = np.log(data_trans['k2_bwd_effective']/data_trans['k2_bwd_relative'])\n",
    "data_trans['log_k2_fwd'] = np.log(data_trans['k2_fwd_effective']/data_trans['k2_fwd_relative'])\n",
    "data_trans['E'] = np.log(data_trans['enzyme_concentration'])\n",
    "data_trans['ES'] = np.log(data_trans['enzyme_complex_concentration'])\n",
    "data_trans['P'] = np.log(data_trans['product_concentration'])\n",
    "data_trans['S'] = np.log(data_trans['substrate_concentration'])\n",
    "data_trans.drop(['k1_bwd_effective','k1_bwd_relative', 'k1_fwd_effective',\n",
    "                'k1_fwd_relative', 'k2_bwd_effective', 'k2_bwd_relative',\n",
    "                'k2_fwd_effective', 'k2_fwd_relative', 'enzyme_concentration',\n",
    "                'enzyme_complex_concentration', 'product_concentration',\n",
    "                'substrate_concentration'], axis=1, inplace=True)\n",
    "data_trans.head()"
   ]
  },
  {
   "cell_type": "code",
   "execution_count": 14,
   "metadata": {
    "scrolled": true
   },
   "outputs": [
    {
     "data": {
      "text/plain": [
       "0         2.0\n",
       "1         3.0\n",
       "2         5.0\n",
       "3         8.0\n",
       "4         4.0\n",
       "5         3.0\n",
       "6         4.0\n",
       "7         8.0\n",
       "8         2.0\n",
       "9         8.0\n",
       "10        0.0\n",
       "11        1.0\n",
       "12        5.0\n",
       "13        3.0\n",
       "14        6.0\n",
       "15        2.0\n",
       "16        7.0\n",
       "17        0.0\n",
       "18        2.0\n",
       "19        3.0\n",
       "20        7.0\n",
       "21        2.0\n",
       "22        5.0\n",
       "23        3.0\n",
       "24        2.0\n",
       "25        3.0\n",
       "26        5.0\n",
       "27        4.0\n",
       "28        2.0\n",
       "29        7.0\n",
       "         ... \n",
       "151926    2.0\n",
       "151927    3.0\n",
       "151928    5.0\n",
       "151929    7.0\n",
       "151930    2.0\n",
       "151931    3.0\n",
       "151932    7.0\n",
       "151933    4.0\n",
       "151934    2.0\n",
       "151935    0.0\n",
       "151936    7.0\n",
       "151937    2.0\n",
       "151938    7.0\n",
       "151939    7.0\n",
       "151940    3.0\n",
       "151941    2.0\n",
       "151942    2.0\n",
       "151943    2.0\n",
       "151944    2.0\n",
       "151945    8.0\n",
       "151946    7.0\n",
       "151947    1.0\n",
       "151948    3.0\n",
       "151949    7.0\n",
       "151950    3.0\n",
       "151951    1.0\n",
       "151952    3.0\n",
       "151953    8.0\n",
       "151954    6.0\n",
       "151955    1.0\n",
       "Name: realization, Length: 151956, dtype: float64"
      ]
     },
     "execution_count": 14,
     "metadata": {},
     "output_type": "execute_result"
    }
   ],
   "source": [
    "data_trans[\"realization\"]"
   ]
  },
  {
   "cell_type": "code",
   "execution_count": 15,
   "metadata": {
    "scrolled": true
   },
   "outputs": [
    {
     "data": {
      "text/html": [
       "<div>\n",
       "<style scoped>\n",
       "    .dataframe tbody tr th:only-of-type {\n",
       "        vertical-align: middle;\n",
       "    }\n",
       "\n",
       "    .dataframe tbody tr th {\n",
       "        vertical-align: top;\n",
       "    }\n",
       "\n",
       "    .dataframe thead th {\n",
       "        text-align: right;\n",
       "    }\n",
       "</style>\n",
       "<table border=\"1\" class=\"dataframe\">\n",
       "  <thead>\n",
       "    <tr style=\"text-align: right;\">\n",
       "      <th></th>\n",
       "      <th>mu_mass</th>\n",
       "      <th>realization</th>\n",
       "      <th>sigma_mass</th>\n",
       "      <th>volume_fraction</th>\n",
       "      <th>log_k1_bwd</th>\n",
       "      <th>log_k1_fwd</th>\n",
       "      <th>log_k2_bwd</th>\n",
       "      <th>log_k2_fwd</th>\n",
       "      <th>E</th>\n",
       "      <th>ES</th>\n",
       "      <th>P</th>\n",
       "      <th>S</th>\n",
       "    </tr>\n",
       "  </thead>\n",
       "  <tbody>\n",
       "    <tr>\n",
       "      <th>count</th>\n",
       "      <td>151956.000000</td>\n",
       "      <td>151956.000000</td>\n",
       "      <td>151956.000000</td>\n",
       "      <td>151956.000000</td>\n",
       "      <td>1.519560e+05</td>\n",
       "      <td>1.519560e+05</td>\n",
       "      <td>1.519560e+05</td>\n",
       "      <td>1.519560e+05</td>\n",
       "      <td>151956.000000</td>\n",
       "      <td>151956.000000</td>\n",
       "      <td>151956.000000</td>\n",
       "      <td>151956.000000</td>\n",
       "    </tr>\n",
       "    <tr>\n",
       "      <th>mean</th>\n",
       "      <td>25.702332</td>\n",
       "      <td>4.499868</td>\n",
       "      <td>0.236865</td>\n",
       "      <td>0.287063</td>\n",
       "      <td>2.302585e+00</td>\n",
       "      <td>1.193414e+01</td>\n",
       "      <td>1.270654e+01</td>\n",
       "      <td>3.091042e+00</td>\n",
       "      <td>-10.536739</td>\n",
       "      <td>-10.536876</td>\n",
       "      <td>-9.924072</td>\n",
       "      <td>-9.930650</td>\n",
       "    </tr>\n",
       "    <tr>\n",
       "      <th>std</th>\n",
       "      <td>9.444865</td>\n",
       "      <td>2.872318</td>\n",
       "      <td>0.373242</td>\n",
       "      <td>0.151795</td>\n",
       "      <td>1.986857e-12</td>\n",
       "      <td>4.244448e-11</td>\n",
       "      <td>3.726098e-11</td>\n",
       "      <td>5.616517e-12</td>\n",
       "      <td>0.678122</td>\n",
       "      <td>0.678200</td>\n",
       "      <td>1.173990</td>\n",
       "      <td>1.175194</td>\n",
       "    </tr>\n",
       "    <tr>\n",
       "      <th>min</th>\n",
       "      <td>12.100000</td>\n",
       "      <td>0.000000</td>\n",
       "      <td>0.000000</td>\n",
       "      <td>0.000000</td>\n",
       "      <td>2.302585e+00</td>\n",
       "      <td>1.193414e+01</td>\n",
       "      <td>1.270654e+01</td>\n",
       "      <td>3.091042e+00</td>\n",
       "      <td>-11.959213</td>\n",
       "      <td>-11.959213</td>\n",
       "      <td>-11.533128</td>\n",
       "      <td>-11.533128</td>\n",
       "    </tr>\n",
       "    <tr>\n",
       "      <th>25%</th>\n",
       "      <td>21.100000</td>\n",
       "      <td>2.000000</td>\n",
       "      <td>0.000000</td>\n",
       "      <td>0.200000</td>\n",
       "      <td>2.302585e+00</td>\n",
       "      <td>1.193414e+01</td>\n",
       "      <td>1.270654e+01</td>\n",
       "      <td>3.091042e+00</td>\n",
       "      <td>-10.860600</td>\n",
       "      <td>-10.860600</td>\n",
       "      <td>-11.022305</td>\n",
       "      <td>-11.022305</td>\n",
       "    </tr>\n",
       "    <tr>\n",
       "      <th>50%</th>\n",
       "      <td>31.900000</td>\n",
       "      <td>4.000000</td>\n",
       "      <td>0.000000</td>\n",
       "      <td>0.300000</td>\n",
       "      <td>2.302585e+00</td>\n",
       "      <td>1.193414e+01</td>\n",
       "      <td>1.270654e+01</td>\n",
       "      <td>3.091042e+00</td>\n",
       "      <td>-10.349775</td>\n",
       "      <td>-10.349775</td>\n",
       "      <td>-9.923690</td>\n",
       "      <td>-9.923690</td>\n",
       "    </tr>\n",
       "    <tr>\n",
       "      <th>75%</th>\n",
       "      <td>31.900000</td>\n",
       "      <td>7.000000</td>\n",
       "      <td>0.825000</td>\n",
       "      <td>0.400000</td>\n",
       "      <td>2.302585e+00</td>\n",
       "      <td>1.193414e+01</td>\n",
       "      <td>1.270654e+01</td>\n",
       "      <td>3.091042e+00</td>\n",
       "      <td>-10.013302</td>\n",
       "      <td>-10.013302</td>\n",
       "      <td>-8.825078</td>\n",
       "      <td>-8.825078</td>\n",
       "    </tr>\n",
       "    <tr>\n",
       "      <th>max</th>\n",
       "      <td>36.800000</td>\n",
       "      <td>9.000000</td>\n",
       "      <td>0.825000</td>\n",
       "      <td>0.500000</td>\n",
       "      <td>2.302585e+00</td>\n",
       "      <td>1.193414e+01</td>\n",
       "      <td>1.270654e+01</td>\n",
       "      <td>3.091042e+00</td>\n",
       "      <td>-9.761988</td>\n",
       "      <td>-9.761988</td>\n",
       "      <td>-8.314252</td>\n",
       "      <td>-8.314252</td>\n",
       "    </tr>\n",
       "  </tbody>\n",
       "</table>\n",
       "</div>"
      ],
      "text/plain": [
       "             mu_mass    realization     sigma_mass  volume_fraction  \\\n",
       "count  151956.000000  151956.000000  151956.000000    151956.000000   \n",
       "mean       25.702332       4.499868       0.236865         0.287063   \n",
       "std         9.444865       2.872318       0.373242         0.151795   \n",
       "min        12.100000       0.000000       0.000000         0.000000   \n",
       "25%        21.100000       2.000000       0.000000         0.200000   \n",
       "50%        31.900000       4.000000       0.000000         0.300000   \n",
       "75%        31.900000       7.000000       0.825000         0.400000   \n",
       "max        36.800000       9.000000       0.825000         0.500000   \n",
       "\n",
       "         log_k1_bwd    log_k1_fwd    log_k2_bwd    log_k2_fwd              E  \\\n",
       "count  1.519560e+05  1.519560e+05  1.519560e+05  1.519560e+05  151956.000000   \n",
       "mean   2.302585e+00  1.193414e+01  1.270654e+01  3.091042e+00     -10.536739   \n",
       "std    1.986857e-12  4.244448e-11  3.726098e-11  5.616517e-12       0.678122   \n",
       "min    2.302585e+00  1.193414e+01  1.270654e+01  3.091042e+00     -11.959213   \n",
       "25%    2.302585e+00  1.193414e+01  1.270654e+01  3.091042e+00     -10.860600   \n",
       "50%    2.302585e+00  1.193414e+01  1.270654e+01  3.091042e+00     -10.349775   \n",
       "75%    2.302585e+00  1.193414e+01  1.270654e+01  3.091042e+00     -10.013302   \n",
       "max    2.302585e+00  1.193414e+01  1.270654e+01  3.091042e+00      -9.761988   \n",
       "\n",
       "                  ES              P              S  \n",
       "count  151956.000000  151956.000000  151956.000000  \n",
       "mean      -10.536876      -9.924072      -9.930650  \n",
       "std         0.678200       1.173990       1.175194  \n",
       "min       -11.959213     -11.533128     -11.533128  \n",
       "25%       -10.860600     -11.022305     -11.022305  \n",
       "50%       -10.349775      -9.923690      -9.923690  \n",
       "75%       -10.013302      -8.825078      -8.825078  \n",
       "max        -9.761988      -8.314252      -8.314252  "
      ]
     },
     "execution_count": 15,
     "metadata": {},
     "output_type": "execute_result"
    }
   ],
   "source": [
    "data_trans.describe()"
   ]
  },
  {
   "cell_type": "markdown",
   "metadata": {},
   "source": [
    "`realization` is not a relevant variable, since it only index the sample of an experiment, hence we remove it "
   ]
  },
  {
   "cell_type": "code",
   "execution_count": 16,
   "metadata": {},
   "outputs": [],
   "source": [
    "data_trans.drop('realization',axis = 1, inplace = True)"
   ]
  },
  {
   "cell_type": "code",
   "execution_count": 17,
   "metadata": {
    "scrolled": true
   },
   "outputs": [
    {
     "data": {
      "text/html": [
       "<div>\n",
       "<style scoped>\n",
       "    .dataframe tbody tr th:only-of-type {\n",
       "        vertical-align: middle;\n",
       "    }\n",
       "\n",
       "    .dataframe tbody tr th {\n",
       "        vertical-align: top;\n",
       "    }\n",
       "\n",
       "    .dataframe thead th {\n",
       "        text-align: right;\n",
       "    }\n",
       "</style>\n",
       "<table border=\"1\" class=\"dataframe\">\n",
       "  <thead>\n",
       "    <tr style=\"text-align: right;\">\n",
       "      <th></th>\n",
       "      <th>mu_mass</th>\n",
       "      <th>sigma_mass</th>\n",
       "      <th>volume_fraction</th>\n",
       "      <th>log_k1_bwd</th>\n",
       "      <th>log_k1_fwd</th>\n",
       "      <th>log_k2_bwd</th>\n",
       "      <th>log_k2_fwd</th>\n",
       "      <th>E</th>\n",
       "      <th>ES</th>\n",
       "      <th>P</th>\n",
       "      <th>S</th>\n",
       "    </tr>\n",
       "  </thead>\n",
       "  <tbody>\n",
       "    <tr>\n",
       "      <th>0</th>\n",
       "      <td>12.1</td>\n",
       "      <td>0.000</td>\n",
       "      <td>0.2</td>\n",
       "      <td>2.302585</td>\n",
       "      <td>11.934139</td>\n",
       "      <td>12.706535</td>\n",
       "      <td>3.091042</td>\n",
       "      <td>-11.959213</td>\n",
       "      <td>-9.761988</td>\n",
       "      <td>-9.230543</td>\n",
       "      <td>-9.923690</td>\n",
       "    </tr>\n",
       "    <tr>\n",
       "      <th>1</th>\n",
       "      <td>12.1</td>\n",
       "      <td>0.000</td>\n",
       "      <td>0.2</td>\n",
       "      <td>2.302585</td>\n",
       "      <td>11.934139</td>\n",
       "      <td>12.706535</td>\n",
       "      <td>3.091042</td>\n",
       "      <td>-9.761988</td>\n",
       "      <td>-11.959213</td>\n",
       "      <td>-8.825078</td>\n",
       "      <td>-8.314252</td>\n",
       "    </tr>\n",
       "    <tr>\n",
       "      <th>2</th>\n",
       "      <td>31.9</td>\n",
       "      <td>0.825</td>\n",
       "      <td>0.2</td>\n",
       "      <td>2.302585</td>\n",
       "      <td>11.934139</td>\n",
       "      <td>12.706535</td>\n",
       "      <td>3.091042</td>\n",
       "      <td>-10.013302</td>\n",
       "      <td>-10.860600</td>\n",
       "      <td>-11.022305</td>\n",
       "      <td>-10.616837</td>\n",
       "    </tr>\n",
       "    <tr>\n",
       "      <th>3</th>\n",
       "      <td>12.1</td>\n",
       "      <td>0.000</td>\n",
       "      <td>0.4</td>\n",
       "      <td>2.302585</td>\n",
       "      <td>11.934139</td>\n",
       "      <td>12.706535</td>\n",
       "      <td>3.091042</td>\n",
       "      <td>-9.879771</td>\n",
       "      <td>-11.266065</td>\n",
       "      <td>-8.537396</td>\n",
       "      <td>-11.309985</td>\n",
       "    </tr>\n",
       "    <tr>\n",
       "      <th>4</th>\n",
       "      <td>12.1</td>\n",
       "      <td>0.000</td>\n",
       "      <td>0.2</td>\n",
       "      <td>2.302585</td>\n",
       "      <td>11.934139</td>\n",
       "      <td>12.706535</td>\n",
       "      <td>3.091042</td>\n",
       "      <td>-9.761988</td>\n",
       "      <td>-11.959213</td>\n",
       "      <td>-9.923690</td>\n",
       "      <td>-8.825078</td>\n",
       "    </tr>\n",
       "  </tbody>\n",
       "</table>\n",
       "</div>"
      ],
      "text/plain": [
       "   mu_mass  sigma_mass  volume_fraction  log_k1_bwd  log_k1_fwd  log_k2_bwd  \\\n",
       "0     12.1       0.000              0.2    2.302585   11.934139   12.706535   \n",
       "1     12.1       0.000              0.2    2.302585   11.934139   12.706535   \n",
       "2     31.9       0.825              0.2    2.302585   11.934139   12.706535   \n",
       "3     12.1       0.000              0.4    2.302585   11.934139   12.706535   \n",
       "4     12.1       0.000              0.2    2.302585   11.934139   12.706535   \n",
       "\n",
       "   log_k2_fwd          E         ES          P          S  \n",
       "0    3.091042 -11.959213  -9.761988  -9.230543  -9.923690  \n",
       "1    3.091042  -9.761988 -11.959213  -8.825078  -8.314252  \n",
       "2    3.091042 -10.013302 -10.860600 -11.022305 -10.616837  \n",
       "3    3.091042  -9.879771 -11.266065  -8.537396 -11.309985  \n",
       "4    3.091042  -9.761988 -11.959213  -9.923690  -8.825078  "
      ]
     },
     "execution_count": 17,
     "metadata": {},
     "output_type": "execute_result"
    }
   ],
   "source": [
    "data_trans.head()"
   ]
  },
  {
   "cell_type": "markdown",
   "metadata": {},
   "source": [
    "# Test the reproducibility"
   ]
  },
  {
   "cell_type": "markdown",
   "metadata": {},
   "source": [
    "### for $log\\left(\\frac{k_{1,\\text{forward,eff}}}{k_{1,\\text{forward,relative}}}\\right)$, using volume fraction  = $0.0$"
   ]
  },
  {
   "cell_type": "code",
   "execution_count": 18,
   "metadata": {},
   "outputs": [],
   "source": [
    "# select data corresponding to our case\n",
    "data_test = data_trans[data_trans['volume_fraction']==0.0]\n",
    "\n",
    "#define the y for the regression\n",
    "y = data_test[\"log_k1_fwd\"]\n",
    "\n",
    "#define the features we will regress on\n",
    "x = data_test[['E', 'ES', 'P', 'S']].values\n",
    "X = X = np.c_[np.ones(len(x)), x] #add intercept"
   ]
  },
  {
   "cell_type": "code",
   "execution_count": 19,
   "metadata": {},
   "outputs": [],
   "source": [
    "def create_regressors(data_test,name):\n",
    "    x = data_test[name].values\n",
    "    X = np.c_[np.ones(len(x)), x]\n",
    "    return X"
   ]
  },
  {
   "cell_type": "code",
   "execution_count": 20,
   "metadata": {},
   "outputs": [
    {
     "data": {
      "text/plain": [
       "80190"
      ]
     },
     "execution_count": 20,
     "metadata": {},
     "output_type": "execute_result"
    }
   ],
   "source": [
    "data_test.size"
   ]
  },
  {
   "cell_type": "markdown",
   "metadata": {},
   "source": [
    "from the paper, we excpect to have the following result: \n",
    "\n",
    "$\\beta = 7.31e-2$\n",
    "\n",
    "$\\alpha = [4.74e-3,1.07e-2,-,-]$ for the following features: S, E, ES, P"
   ]
  },
  {
   "cell_type": "markdown",
   "metadata": {},
   "source": [
    "#### residuals computed from regression with all the features "
   ]
  },
  {
   "cell_type": "markdown",
   "metadata": {},
   "source": [
    "first we compute a regular linear regression in order to estimate the conitionnal variance of the residuals:"
   ]
  },
  {
   "cell_type": "code",
   "execution_count": 21,
   "metadata": {},
   "outputs": [],
   "source": [
    "#fit linear model\n",
    "reg = LinearRegression()\n",
    "X_E = create_regressors(data_test,['E','ES','P','S'])\n",
    "reg.fit(X_E,y)\n",
    "\n",
    "#get the fitted values\n",
    "y_hat = reg.predict(X_E)\n",
    "residuals = (y-y_hat).values\n",
    "\n",
    "#compute the residuals"
   ]
  },
  {
   "cell_type": "code",
   "execution_count": 22,
   "metadata": {},
   "outputs": [
    {
     "data": {
      "image/png": "[encoded data removed]",
      "text/plain": [
       "<Figure size 432x288 with 1 Axes>"
      ]
     },
     "metadata": {},
     "output_type": "display_data"
    }
   ],
   "source": [
    "plt.plot(y_hat,residuals)\n",
    "plt.show()"
   ]
  },
  {
   "cell_type": "code",
   "execution_count": 23,
   "metadata": {
    "scrolled": false
   },
   "outputs": [
    {
     "data": {
      "image/png": "[encoded data removed]",
      "text/plain": [
       "<Figure size 432x288 with 1 Axes>"
      ]
     },
     "metadata": {},
     "output_type": "display_data"
    }
   ],
   "source": [
    "plt.scatter(y = y, x = data_test['E'].values)\n",
    "plt.plot(data_test['E'].values, y_hat,color='red')\n",
    "plt.show()"
   ]
  },
  {
   "cell_type": "markdown",
   "metadata": {},
   "source": [
    "since s = RSS: "
   ]
  },
  {
   "cell_type": "code",
   "execution_count": 24,
   "metadata": {},
   "outputs": [],
   "source": [
    "weight_estimate = np.sqrt(np.var(residuals)/(X_E.size -2))"
   ]
  },
  {
   "cell_type": "code",
   "execution_count": 25,
   "metadata": {},
   "outputs": [
    {
     "data": {
      "text/html": [
       "<div>\n",
       "<style scoped>\n",
       "    .dataframe tbody tr th:only-of-type {\n",
       "        vertical-align: middle;\n",
       "    }\n",
       "\n",
       "    .dataframe tbody tr th {\n",
       "        vertical-align: top;\n",
       "    }\n",
       "\n",
       "    .dataframe thead th {\n",
       "        text-align: right;\n",
       "    }\n",
       "</style>\n",
       "<table border=\"1\" class=\"dataframe\">\n",
       "  <thead>\n",
       "    <tr style=\"text-align: right;\">\n",
       "      <th></th>\n",
       "      <th>mu_mass</th>\n",
       "      <th>sigma_mass</th>\n",
       "      <th>volume_fraction</th>\n",
       "      <th>log_k1_bwd</th>\n",
       "      <th>log_k1_fwd</th>\n",
       "      <th>log_k2_bwd</th>\n",
       "      <th>log_k2_fwd</th>\n",
       "      <th>E</th>\n",
       "      <th>ES</th>\n",
       "      <th>P</th>\n",
       "      <th>S</th>\n",
       "    </tr>\n",
       "  </thead>\n",
       "  <tbody>\n",
       "    <tr>\n",
       "      <th>count</th>\n",
       "      <td>7.290000e+03</td>\n",
       "      <td>7.290000e+03</td>\n",
       "      <td>7290.0</td>\n",
       "      <td>7.290000e+03</td>\n",
       "      <td>7.290000e+03</td>\n",
       "      <td>7.290000e+03</td>\n",
       "      <td>7.290000e+03</td>\n",
       "      <td>7.290000e+03</td>\n",
       "      <td>7.290000e+03</td>\n",
       "      <td>7.290000e+03</td>\n",
       "      <td>7.290000e+03</td>\n",
       "    </tr>\n",
       "    <tr>\n",
       "      <th>mean</th>\n",
       "      <td>3.190000e+01</td>\n",
       "      <td>8.250000e-01</td>\n",
       "      <td>0.0</td>\n",
       "      <td>2.302585e+00</td>\n",
       "      <td>1.193414e+01</td>\n",
       "      <td>1.270654e+01</td>\n",
       "      <td>3.091042e+00</td>\n",
       "      <td>-6.850078e+18</td>\n",
       "      <td>-6.850078e+18</td>\n",
       "      <td>-6.451497e+18</td>\n",
       "      <td>-6.451497e+18</td>\n",
       "    </tr>\n",
       "    <tr>\n",
       "      <th>std</th>\n",
       "      <td>3.886935e-12</td>\n",
       "      <td>1.090314e-13</td>\n",
       "      <td>0.0</td>\n",
       "      <td>1.812077e-13</td>\n",
       "      <td>1.460216e-12</td>\n",
       "      <td>1.163594e-12</td>\n",
       "      <td>3.884735e-13</td>\n",
       "      <td>4.408877e+17</td>\n",
       "      <td>4.408877e+17</td>\n",
       "      <td>7.631140e+17</td>\n",
       "      <td>7.631140e+17</td>\n",
       "    </tr>\n",
       "    <tr>\n",
       "      <th>min</th>\n",
       "      <td>3.190000e+01</td>\n",
       "      <td>8.250000e-01</td>\n",
       "      <td>0.0</td>\n",
       "      <td>2.302585e+00</td>\n",
       "      <td>1.193414e+01</td>\n",
       "      <td>1.270654e+01</td>\n",
       "      <td>3.091042e+00</td>\n",
       "      <td>-7.774812e+18</td>\n",
       "      <td>-7.774812e+18</td>\n",
       "      <td>-7.497810e+18</td>\n",
       "      <td>-7.497810e+18</td>\n",
       "    </tr>\n",
       "    <tr>\n",
       "      <th>25%</th>\n",
       "      <td>3.190000e+01</td>\n",
       "      <td>8.250000e-01</td>\n",
       "      <td>0.0</td>\n",
       "      <td>2.302585e+00</td>\n",
       "      <td>1.193414e+01</td>\n",
       "      <td>1.270654e+01</td>\n",
       "      <td>3.091042e+00</td>\n",
       "      <td>-7.060592e+18</td>\n",
       "      <td>-7.060592e+18</td>\n",
       "      <td>-7.165718e+18</td>\n",
       "      <td>-7.165718e+18</td>\n",
       "    </tr>\n",
       "    <tr>\n",
       "      <th>50%</th>\n",
       "      <td>3.190000e+01</td>\n",
       "      <td>8.250000e-01</td>\n",
       "      <td>0.0</td>\n",
       "      <td>2.302585e+00</td>\n",
       "      <td>1.193414e+01</td>\n",
       "      <td>1.270654e+01</td>\n",
       "      <td>3.091042e+00</td>\n",
       "      <td>-6.728499e+18</td>\n",
       "      <td>-6.728499e+18</td>\n",
       "      <td>-6.451497e+18</td>\n",
       "      <td>-6.451497e+18</td>\n",
       "    </tr>\n",
       "    <tr>\n",
       "      <th>75%</th>\n",
       "      <td>3.190000e+01</td>\n",
       "      <td>8.250000e-01</td>\n",
       "      <td>0.0</td>\n",
       "      <td>2.302585e+00</td>\n",
       "      <td>1.193414e+01</td>\n",
       "      <td>1.270654e+01</td>\n",
       "      <td>3.091042e+00</td>\n",
       "      <td>-6.509755e+18</td>\n",
       "      <td>-6.509755e+18</td>\n",
       "      <td>-5.737278e+18</td>\n",
       "      <td>-5.737278e+18</td>\n",
       "    </tr>\n",
       "    <tr>\n",
       "      <th>max</th>\n",
       "      <td>3.190000e+01</td>\n",
       "      <td>8.250000e-01</td>\n",
       "      <td>0.0</td>\n",
       "      <td>2.302585e+00</td>\n",
       "      <td>1.193414e+01</td>\n",
       "      <td>1.270654e+01</td>\n",
       "      <td>3.091042e+00</td>\n",
       "      <td>-6.346373e+18</td>\n",
       "      <td>-6.346373e+18</td>\n",
       "      <td>-5.405184e+18</td>\n",
       "      <td>-5.405184e+18</td>\n",
       "    </tr>\n",
       "  </tbody>\n",
       "</table>\n",
       "</div>"
      ],
      "text/plain": [
       "            mu_mass    sigma_mass  volume_fraction    log_k1_bwd  \\\n",
       "count  7.290000e+03  7.290000e+03           7290.0  7.290000e+03   \n",
       "mean   3.190000e+01  8.250000e-01              0.0  2.302585e+00   \n",
       "std    3.886935e-12  1.090314e-13              0.0  1.812077e-13   \n",
       "min    3.190000e+01  8.250000e-01              0.0  2.302585e+00   \n",
       "25%    3.190000e+01  8.250000e-01              0.0  2.302585e+00   \n",
       "50%    3.190000e+01  8.250000e-01              0.0  2.302585e+00   \n",
       "75%    3.190000e+01  8.250000e-01              0.0  2.302585e+00   \n",
       "max    3.190000e+01  8.250000e-01              0.0  2.302585e+00   \n",
       "\n",
       "         log_k1_fwd    log_k2_bwd    log_k2_fwd             E            ES  \\\n",
       "count  7.290000e+03  7.290000e+03  7.290000e+03  7.290000e+03  7.290000e+03   \n",
       "mean   1.193414e+01  1.270654e+01  3.091042e+00 -6.850078e+18 -6.850078e+18   \n",
       "std    1.460216e-12  1.163594e-12  3.884735e-13  4.408877e+17  4.408877e+17   \n",
       "min    1.193414e+01  1.270654e+01  3.091042e+00 -7.774812e+18 -7.774812e+18   \n",
       "25%    1.193414e+01  1.270654e+01  3.091042e+00 -7.060592e+18 -7.060592e+18   \n",
       "50%    1.193414e+01  1.270654e+01  3.091042e+00 -6.728499e+18 -6.728499e+18   \n",
       "75%    1.193414e+01  1.270654e+01  3.091042e+00 -6.509755e+18 -6.509755e+18   \n",
       "max    1.193414e+01  1.270654e+01  3.091042e+00 -6.346373e+18 -6.346373e+18   \n",
       "\n",
       "                  P             S  \n",
       "count  7.290000e+03  7.290000e+03  \n",
       "mean  -6.451497e+18 -6.451497e+18  \n",
       "std    7.631140e+17  7.631140e+17  \n",
       "min   -7.497810e+18 -7.497810e+18  \n",
       "25%   -7.165718e+18 -7.165718e+18  \n",
       "50%   -6.451497e+18 -6.451497e+18  \n",
       "75%   -5.737278e+18 -5.737278e+18  \n",
       "max   -5.405184e+18 -5.405184e+18  "
      ]
     },
     "execution_count": 25,
     "metadata": {},
     "output_type": "execute_result"
    }
   ],
   "source": [
    "data_test_weighted = data_test.copy()\n",
    "data_test_weighted['E'] =  data_trans['E']/weight_estimate\n",
    "data_test_weighted['ES'] = data_trans['ES']/weight_estimate\n",
    "data_test_weighted['P'] =  data_trans['P']/weight_estimate\n",
    "data_test_weighted['S'] =  data_trans['S']/weight_estimate\n",
    "data_test_weighted.describe()"
   ]
  },
  {
   "cell_type": "code",
   "execution_count": 26,
   "metadata": {},
   "outputs": [
    {
     "name": "stdout",
     "output_type": "stream",
     "text": [
      "[ 0.00000000e+00  1.90744032e-35  1.47240185e-35 -2.57326958e-36\n",
      " -1.47302895e-35]\n"
     ]
    }
   ],
   "source": [
    "reg = LinearRegression()\n",
    "X = create_regressors(data_test_weighted,['E','ES','P','S'])\n",
    "reg.fit(X,y)\n",
    "\n",
    "print(reg.coef_)\n"
   ]
  },
  {
   "cell_type": "markdown",
   "metadata": {},
   "source": [
    "#### residuals computed for each feature individually"
   ]
  },
  {
   "cell_type": "code",
   "execution_count": 27,
   "metadata": {},
   "outputs": [],
   "source": [
    "def estimate_weight(data,covariate):\n",
    "    \n",
    "    y = data[\"log_k1_bwd\"]\n",
    "    #regression only with a certain feature covariate\n",
    "    reg = LinearRegression()\n",
    "    X = create_regressors(data,covariate)\n",
    "    reg.fit(X,y)\n",
    "\n",
    "    #find the residuals\n",
    "    y_hat = reg.predict(X)\n",
    "    residuals = (y-y_hat).values\n",
    "\n",
    "    #computation of the weight\n",
    "    weight_estimate = np.sqrt(np.var(residuals)/(X.size -2))\n",
    "    \n",
    "    return weight_estimate"
   ]
  },
  {
   "cell_type": "code",
   "execution_count": 28,
   "metadata": {},
   "outputs": [],
   "source": [
    "covariates = ['E','S','ES','P']\n",
    "weights = []\n",
    "\n",
    "for name in covariates:\n",
    "    weights.append(estimate_weight(data_test,name))"
   ]
  },
  {
   "cell_type": "code",
   "execution_count": 29,
   "metadata": {
    "scrolled": true
   },
   "outputs": [
    {
     "name": "stdout",
     "output_type": "stream",
     "text": [
      "[1.529293643074293e-18, 1.529293643074293e-18, 1.529293643074293e-18, 1.529293643074293e-18]\n"
     ]
    }
   ],
   "source": [
    "print(weights)"
   ]
  },
  {
   "cell_type": "markdown",
   "metadata": {},
   "source": [
    "we obtain the same weight for the different covariates"
   ]
  },
  {
   "cell_type": "code",
   "execution_count": 30,
   "metadata": {},
   "outputs": [],
   "source": [
    "# count the different type of volume occupation\n",
    "vfraction = data['volume_fraction'].values\n",
    "unique = np.unique(vfraction)"
   ]
  },
  {
   "cell_type": "code",
   "execution_count": 31,
   "metadata": {},
   "outputs": [
    {
     "name": "stdout",
     "output_type": "stream",
     "text": [
      "[1.529293643074293e-18, 1.529293643074293e-18, 1.529293643074293e-18, 1.529293643074293e-18]\n",
      "[1.529293643074293e-18, 1.529293643074293e-18, 1.529293643074293e-18, 1.529293643074293e-18]\n",
      "[1.529293643074293e-18, 1.529293643074293e-18, 1.529293643074293e-18, 1.529293643074293e-18]\n",
      "[1.529293643074293e-18, 1.529293643074293e-18, 1.529293643074293e-18, 1.529293643074293e-18]\n",
      "[1.529293643074293e-18, 1.529293643074293e-18, 1.529293643074293e-18, 1.529293643074293e-18]\n",
      "[1.529293643074293e-18, 1.529293643074293e-18, 1.529293643074293e-18, 1.529293643074293e-18]\n"
     ]
    }
   ],
   "source": [
    "Weight = []\n",
    "for volume in unique:\n",
    "    w = []\n",
    "    data = data_trans[data_trans['volume_fraction']==volume]\n",
    "    for name in covariates:\n",
    "        w.append(estimate_weight(data_test,name))\n",
    "    Weight.append(w)\n",
    "    print(w)"
   ]
  },
  {
   "cell_type": "code",
   "execution_count": 32,
   "metadata": {},
   "outputs": [],
   "source": [
    "tab_weights2 = pd.DataFrame(Weight)"
   ]
  },
  {
   "cell_type": "code",
   "execution_count": 33,
   "metadata": {
    "scrolled": false
   },
   "outputs": [
    {
     "ename": "NameError",
     "evalue": "name 'tab_weights' is not defined",
     "output_type": "error",
     "traceback": [
      "\u001b[0;31m---------------------------------------------------------------------------\u001b[0m",
      "\u001b[0;31mNameError\u001b[0m                                 Traceback (most recent call last)",
      "\u001b[0;32m<ipython-input-33-1867f72829c6>\u001b[0m in \u001b[0;36m<module>\u001b[0;34m\u001b[0m\n\u001b[0;32m----> 1\u001b[0;31m \u001b[0mtab_weights\u001b[0m\u001b[0;34m[\u001b[0m\u001b[0;36m0\u001b[0m\u001b[0;34m]\u001b[0m\u001b[0;34m.\u001b[0m\u001b[0mvalues\u001b[0m\u001b[0;34m[\u001b[0m\u001b[0;36m0\u001b[0m\u001b[0;34m]\u001b[0m\u001b[0;34m\u001b[0m\u001b[0m\n\u001b[0m",
      "\u001b[0;31mNameError\u001b[0m: name 'tab_weights' is not defined"
     ]
    }
   ],
   "source": [
    "tab_weights[0].values[0]"
   ]
  },
  {
   "cell_type": "code",
   "execution_count": 34,
   "metadata": {},
   "outputs": [
    {
     "data": {
      "text/plain": [
       "1.529293643074293e-18"
      ]
     },
     "execution_count": 34,
     "metadata": {},
     "output_type": "execute_result"
    }
   ],
   "source": [
    "tab_weights2[0].values[0]"
   ]
  },
  {
   "cell_type": "markdown",
   "metadata": {},
   "source": [
    "issue : same weight for all types of concentration"
   ]
  },
  {
   "cell_type": "markdown",
   "metadata": {},
   "source": [
    "but it is still different for the different coefficient we are trying to estimate:\n",
    "\n",
    "for y1_forward : 2.4322071957924314e-18\n",
    "\n",
    "for y1_backward: 1.529293643074293e-18"
   ]
  },
  {
   "cell_type": "markdown",
   "metadata": {},
   "source": [
    " "
   ]
  },
  {
   "cell_type": "markdown",
   "metadata": {},
   "source": [
    "let's try to do a weigthed regression with these weights:"
   ]
  },
  {
   "cell_type": "code",
   "execution_count": 35,
   "metadata": {
    "scrolled": true
   },
   "outputs": [
    {
     "data": {
      "text/plain": [
       "array([0.00000000e+00, 9.42997935e-36, 1.46106583e-36, 7.01675055e-36,\n",
       "       1.36772257e-36])"
      ]
     },
     "execution_count": 35,
     "metadata": {},
     "output_type": "execute_result"
    }
   ],
   "source": [
    "reg = LinearRegression()\n",
    "\n",
    "data_test_weighted = data_trans.copy()\n",
    "data_test_weighted['E'] =  data_trans['E']/1.529293643074293e-18\n",
    "data_test_weighted['ES'] = data_trans['ES']/1.529293643074293e-18\n",
    "data_test_weighted['P'] =  data_trans['P']/1.529293643074293e-18\n",
    "data_test_weighted['S'] =  data_trans['S']/1.529293643074293e-18\n",
    "\n",
    "\n",
    "D = data_test_weighted[data_test_weighted[\"volume_fraction\"]==0.2]\n",
    "X = create_regressors(D,covariates)\n",
    "y = D[\"log_k1_bwd\"]\n",
    "\n",
    "reg.fit(X,y)\n",
    "\n",
    "reg.coef_"
   ]
  },
  {
   "cell_type": "code",
   "execution_count": 36,
   "metadata": {},
   "outputs": [
    {
     "data": {
      "text/plain": [
       "array([0.00000000e+00, 6.16623197e-18, 9.55386061e-19, 4.58822972e-18,\n",
       "       8.94349214e-19])"
      ]
     },
     "execution_count": 36,
     "metadata": {},
     "output_type": "execute_result"
    }
   ],
   "source": [
    "reg.coef_/1.529293643074293e-18"
   ]
  },
  {
   "cell_type": "markdown",
   "metadata": {},
   "source": [
    "   "
   ]
  },
  {
   "cell_type": "markdown",
   "metadata": {},
   "source": [
    "   "
   ]
  },
  {
   "cell_type": "code",
   "execution_count": 41,
   "metadata": {},
   "outputs": [
    {
     "name": "stdout",
     "output_type": "stream",
     "text": [
      "                                    WLS Regression Results                                    \n",
      "==============================================================================================\n",
      "Dep. Variable:             log_k1_bwd   R-squared:          -99121196950569461207852384256.000\n",
      "Model:                            WLS   Adj. R-squared:     -99131396003623775664924000256.000\n",
      "Method:                 Least Squares   F-statistic:                                    -9719.\n",
      "Date:                Sun, 18 Nov 2018   Prob (F-statistic):                               1.00\n",
      "Time:                        19:46:29   Log-Likelihood:                                 52158.\n",
      "No. Observations:               29160   AIC:                                        -1.043e+05\n",
      "Df Residuals:                   29156   BIC:                                        -1.043e+05\n",
      "Df Model:                           3                                                         \n",
      "Covariance Type:            nonrobust                                                         \n",
      "==============================================================================\n",
      "                 coef    std err          t      P>|t|      [0.025      0.975]\n",
      "------------------------------------------------------------------------------\n",
      "const        2.22e-38   2.65e-41    837.005      0.000    2.21e-38    2.23e-38\n",
      "x1         -1.597e-19   3.44e-22   -464.710      0.000    -1.6e-19   -1.59e-19\n",
      "x2         -7.829e-21   3.05e-22    -25.647      0.000   -8.43e-21   -7.23e-21\n",
      "x3         -1.597e-19   3.44e-22   -464.710      0.000    -1.6e-19   -1.59e-19\n",
      "x4         -7.829e-21   3.05e-22    -25.647      0.000   -8.43e-21   -7.23e-21\n",
      "==============================================================================\n",
      "Omnibus:                     4453.838   Durbin-Watson:                   2.021\n",
      "Prob(Omnibus):                  0.000   Jarque-Bera (JB):             3591.086\n",
      "Skew:                          -0.768   Prob(JB):                         0.00\n",
      "Kurtosis:                       2.228   Cond. No.                     7.63e+20\n",
      "==============================================================================\n",
      "\n",
      "Warnings:\n",
      "[1] Standard Errors assume that the covariance matrix of the errors is correctly specified.\n",
      "[2] The condition number is large, 7.63e+20. This might indicate that there are\n",
      "strong multicollinearity or other numerical problems.\n"
     ]
    }
   ],
   "source": [
    "w = 1#.529293643074293e-18\n",
    "\n",
    "mod_wls = sm.WLS(y, X, weights=1./(w))\n",
    "res_wls = mod_wls.fit()\n",
    "print(res_wls.summary())"
   ]
  }
 ],
 "metadata": {
  "kernelspec": {
   "display_name": "Python 3",
   "language": "python",
   "name": "python3"
  },
  "language_info": {
   "codemirror_mode": {
    "name": "ipython",
    "version": 3
   },
   "file_extension": ".py",
   "mimetype": "text/x-python",
   "name": "python",
   "nbconvert_exporter": "python",
   "pygments_lexer": "ipython3",
   "version": "3.6.6"
  }
 },
 "nbformat": 4,
 "nbformat_minor": 2
}
